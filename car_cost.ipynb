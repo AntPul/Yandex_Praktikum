{
 "cells": [
  {
   "cell_type": "markdown",
   "metadata": {},
   "source": [
    "# Определение стоимости автомобилей"
   ]
  },
  {
   "cell_type": "markdown",
   "metadata": {},
   "source": [
    "Сервис по продаже автомобилей с пробегом «Не бит, не крашен» разрабатывает приложение для привлечения новых клиентов. В нём можно быстро узнать рыночную стоимость своего автомобиля. В вашем распоряжении исторические данные: технические характеристики, комплектации и цены автомобилей. Вам нужно построить модель для определения стоимости. \n",
    "\n",
    "Заказчику важны:\n",
    "\n",
    "- качество предсказания;\n",
    "- скорость предсказания;\n",
    "- время обучения."
   ]
  },
  {
   "cell_type": "markdown",
   "metadata": {},
   "source": [
    "## Подготовка данных"
   ]
  },
  {
   "cell_type": "code",
   "execution_count": 1,
   "metadata": {},
   "outputs": [],
   "source": [
    "import pandas as pd\n",
    "import numpy as np\n",
    "\n",
    "import seaborn as sns\n",
    "import matplotlib.pyplot as plt\n",
    "\n",
    "from sklearn.metrics import mean_squared_error\n",
    "from sklearn.model_selection import (\n",
    "    train_test_split, \n",
    "    cross_val_score, \n",
    "    GridSearchCV\n",
    ")\n",
    "from sklearn.preprocessing import (\n",
    "    OrdinalEncoder, \n",
    "    StandardScaler\n",
    ")\n",
    "from lightgbm import LGBMRegressor\n",
    "from catboost import CatBoostRegressor\n",
    "from sklearn.linear_model import LinearRegression"
   ]
  },
  {
   "cell_type": "code",
   "execution_count": 2,
   "metadata": {},
   "outputs": [],
   "source": [
    "import warnings\n",
    "warnings.filterwarnings('ignore')"
   ]
  },
  {
   "cell_type": "code",
   "execution_count": 3,
   "metadata": {},
   "outputs": [
    {
     "name": "stdout",
     "output_type": "stream",
     "text": [
      "<class 'pandas.core.frame.DataFrame'>\n",
      "RangeIndex: 354369 entries, 0 to 354368\n",
      "Data columns (total 16 columns):\n",
      " #   Column             Non-Null Count   Dtype \n",
      "---  ------             --------------   ----- \n",
      " 0   DateCrawled        354369 non-null  object\n",
      " 1   Price              354369 non-null  int64 \n",
      " 2   VehicleType        316879 non-null  object\n",
      " 3   RegistrationYear   354369 non-null  int64 \n",
      " 4   Gearbox            334536 non-null  object\n",
      " 5   Power              354369 non-null  int64 \n",
      " 6   Model              334664 non-null  object\n",
      " 7   Kilometer          354369 non-null  int64 \n",
      " 8   RegistrationMonth  354369 non-null  int64 \n",
      " 9   FuelType           321474 non-null  object\n",
      " 10  Brand              354369 non-null  object\n",
      " 11  Repaired           283215 non-null  object\n",
      " 12  DateCreated        354369 non-null  object\n",
      " 13  NumberOfPictures   354369 non-null  int64 \n",
      " 14  PostalCode         354369 non-null  int64 \n",
      " 15  LastSeen           354369 non-null  object\n",
      "dtypes: int64(7), object(9)\n",
      "memory usage: 43.3+ MB\n",
      "None\n"
     ]
    },
    {
     "data": {
      "text/html": [
       "<div>\n",
       "<style scoped>\n",
       "    .dataframe tbody tr th:only-of-type {\n",
       "        vertical-align: middle;\n",
       "    }\n",
       "\n",
       "    .dataframe tbody tr th {\n",
       "        vertical-align: top;\n",
       "    }\n",
       "\n",
       "    .dataframe thead th {\n",
       "        text-align: right;\n",
       "    }\n",
       "</style>\n",
       "<table border=\"1\" class=\"dataframe\">\n",
       "  <thead>\n",
       "    <tr style=\"text-align: right;\">\n",
       "      <th></th>\n",
       "      <th>DateCrawled</th>\n",
       "      <th>Price</th>\n",
       "      <th>VehicleType</th>\n",
       "      <th>RegistrationYear</th>\n",
       "      <th>Gearbox</th>\n",
       "      <th>Power</th>\n",
       "      <th>Model</th>\n",
       "      <th>Kilometer</th>\n",
       "      <th>RegistrationMonth</th>\n",
       "      <th>FuelType</th>\n",
       "      <th>Brand</th>\n",
       "      <th>Repaired</th>\n",
       "      <th>DateCreated</th>\n",
       "      <th>NumberOfPictures</th>\n",
       "      <th>PostalCode</th>\n",
       "      <th>LastSeen</th>\n",
       "    </tr>\n",
       "  </thead>\n",
       "  <tbody>\n",
       "    <tr>\n",
       "      <th>0</th>\n",
       "      <td>2016-03-24 11:52:17</td>\n",
       "      <td>480</td>\n",
       "      <td>NaN</td>\n",
       "      <td>1993</td>\n",
       "      <td>manual</td>\n",
       "      <td>0</td>\n",
       "      <td>golf</td>\n",
       "      <td>150000</td>\n",
       "      <td>0</td>\n",
       "      <td>petrol</td>\n",
       "      <td>volkswagen</td>\n",
       "      <td>NaN</td>\n",
       "      <td>2016-03-24 00:00:00</td>\n",
       "      <td>0</td>\n",
       "      <td>70435</td>\n",
       "      <td>2016-04-07 03:16:57</td>\n",
       "    </tr>\n",
       "    <tr>\n",
       "      <th>1</th>\n",
       "      <td>2016-03-24 10:58:45</td>\n",
       "      <td>18300</td>\n",
       "      <td>coupe</td>\n",
       "      <td>2011</td>\n",
       "      <td>manual</td>\n",
       "      <td>190</td>\n",
       "      <td>NaN</td>\n",
       "      <td>125000</td>\n",
       "      <td>5</td>\n",
       "      <td>gasoline</td>\n",
       "      <td>audi</td>\n",
       "      <td>yes</td>\n",
       "      <td>2016-03-24 00:00:00</td>\n",
       "      <td>0</td>\n",
       "      <td>66954</td>\n",
       "      <td>2016-04-07 01:46:50</td>\n",
       "    </tr>\n",
       "    <tr>\n",
       "      <th>2</th>\n",
       "      <td>2016-03-14 12:52:21</td>\n",
       "      <td>9800</td>\n",
       "      <td>suv</td>\n",
       "      <td>2004</td>\n",
       "      <td>auto</td>\n",
       "      <td>163</td>\n",
       "      <td>grand</td>\n",
       "      <td>125000</td>\n",
       "      <td>8</td>\n",
       "      <td>gasoline</td>\n",
       "      <td>jeep</td>\n",
       "      <td>NaN</td>\n",
       "      <td>2016-03-14 00:00:00</td>\n",
       "      <td>0</td>\n",
       "      <td>90480</td>\n",
       "      <td>2016-04-05 12:47:46</td>\n",
       "    </tr>\n",
       "    <tr>\n",
       "      <th>3</th>\n",
       "      <td>2016-03-17 16:54:04</td>\n",
       "      <td>1500</td>\n",
       "      <td>small</td>\n",
       "      <td>2001</td>\n",
       "      <td>manual</td>\n",
       "      <td>75</td>\n",
       "      <td>golf</td>\n",
       "      <td>150000</td>\n",
       "      <td>6</td>\n",
       "      <td>petrol</td>\n",
       "      <td>volkswagen</td>\n",
       "      <td>no</td>\n",
       "      <td>2016-03-17 00:00:00</td>\n",
       "      <td>0</td>\n",
       "      <td>91074</td>\n",
       "      <td>2016-03-17 17:40:17</td>\n",
       "    </tr>\n",
       "    <tr>\n",
       "      <th>4</th>\n",
       "      <td>2016-03-31 17:25:20</td>\n",
       "      <td>3600</td>\n",
       "      <td>small</td>\n",
       "      <td>2008</td>\n",
       "      <td>manual</td>\n",
       "      <td>69</td>\n",
       "      <td>fabia</td>\n",
       "      <td>90000</td>\n",
       "      <td>7</td>\n",
       "      <td>gasoline</td>\n",
       "      <td>skoda</td>\n",
       "      <td>no</td>\n",
       "      <td>2016-03-31 00:00:00</td>\n",
       "      <td>0</td>\n",
       "      <td>60437</td>\n",
       "      <td>2016-04-06 10:17:21</td>\n",
       "    </tr>\n",
       "  </tbody>\n",
       "</table>\n",
       "</div>"
      ],
      "text/plain": [
       "           DateCrawled  Price VehicleType  RegistrationYear Gearbox  Power  \\\n",
       "0  2016-03-24 11:52:17    480         NaN              1993  manual      0   \n",
       "1  2016-03-24 10:58:45  18300       coupe              2011  manual    190   \n",
       "2  2016-03-14 12:52:21   9800         suv              2004    auto    163   \n",
       "3  2016-03-17 16:54:04   1500       small              2001  manual     75   \n",
       "4  2016-03-31 17:25:20   3600       small              2008  manual     69   \n",
       "\n",
       "   Model  Kilometer  RegistrationMonth  FuelType       Brand Repaired  \\\n",
       "0   golf     150000                  0    petrol  volkswagen      NaN   \n",
       "1    NaN     125000                  5  gasoline        audi      yes   \n",
       "2  grand     125000                  8  gasoline        jeep      NaN   \n",
       "3   golf     150000                  6    petrol  volkswagen       no   \n",
       "4  fabia      90000                  7  gasoline       skoda       no   \n",
       "\n",
       "           DateCreated  NumberOfPictures  PostalCode             LastSeen  \n",
       "0  2016-03-24 00:00:00                 0       70435  2016-04-07 03:16:57  \n",
       "1  2016-03-24 00:00:00                 0       66954  2016-04-07 01:46:50  \n",
       "2  2016-03-14 00:00:00                 0       90480  2016-04-05 12:47:46  \n",
       "3  2016-03-17 00:00:00                 0       91074  2016-03-17 17:40:17  \n",
       "4  2016-03-31 00:00:00                 0       60437  2016-04-06 10:17:21  "
      ]
     },
     "metadata": {},
     "output_type": "display_data"
    }
   ],
   "source": [
    "df = pd.read_csv('/datasets/autos.csv')\n",
    "print(df.info())\n",
    "display(df.head())"
   ]
  },
  {
   "cell_type": "code",
   "execution_count": 4,
   "metadata": {},
   "outputs": [
    {
     "data": {
      "text/plain": [
       "354369"
      ]
     },
     "execution_count": 4,
     "metadata": {},
     "output_type": "execute_result"
    }
   ],
   "source": [
    "size = df.shape[0]\n",
    "size"
   ]
  },
  {
   "cell_type": "code",
   "execution_count": 5,
   "metadata": {},
   "outputs": [
    {
     "data": {
      "text/plain": [
       "DateCrawled              0\n",
       "Price                    0\n",
       "VehicleType          37490\n",
       "RegistrationYear         0\n",
       "Gearbox              19833\n",
       "Power                    0\n",
       "Model                19705\n",
       "Kilometer                0\n",
       "RegistrationMonth        0\n",
       "FuelType             32895\n",
       "Brand                    0\n",
       "Repaired             71154\n",
       "DateCreated              0\n",
       "NumberOfPictures         0\n",
       "PostalCode               0\n",
       "LastSeen                 0\n",
       "dtype: int64"
      ]
     },
     "execution_count": 5,
     "metadata": {},
     "output_type": "execute_result"
    }
   ],
   "source": [
    "df.isnull().sum() # анализируем пропуски"
   ]
  },
  {
   "cell_type": "code",
   "execution_count": 6,
   "metadata": {},
   "outputs": [
    {
     "data": {
      "image/png": "[encoded data removed]",
      "text/plain": [
       "<Figure size 720x720 with 2 Axes>"
      ]
     },
     "metadata": {},
     "output_type": "display_data"
    }
   ],
   "source": [
    "sns.set(rc={'figure.figsize': (10,10)})\n",
    "sns.heatmap(\n",
    "    df.corr(), vmin = -1, vmax = +1,\n",
    "    annot = True, cmap = 'coolwarm'\n",
    ")\n",
    "plt.title('Мультиколлинеарность признаков')\n",
    "plt.show()"
   ]
  },
  {
   "cell_type": "code",
   "execution_count": 7,
   "metadata": {},
   "outputs": [
    {
     "data": {
      "text/plain": [
       "array([0])"
      ]
     },
     "execution_count": 7,
     "metadata": {},
     "output_type": "execute_result"
    }
   ],
   "source": [
    "df['NumberOfPictures'].unique()\n",
    "\n",
    "# проверяем что в NumberOfPictures все объекты равны нулю"
   ]
  },
  {
   "cell_type": "code",
   "execution_count": 8,
   "metadata": {},
   "outputs": [],
   "source": [
    "df = df.drop(\n",
    "    ['NumberOfPictures','DateCrawled', 'LastSeen',\n",
    "     'DateCreated', 'RegistrationMonth', 'PostalCode',\n",
    "     'NumberOfPictures'], axis=1\n",
    ")\n",
    "\n",
    "# удаляем признаки которые не относятся к характеристикам авто и поэтому не влияют на продажи"
   ]
  },
  {
   "cell_type": "code",
   "execution_count": 9,
   "metadata": {},
   "outputs": [],
   "source": [
    "df['Repaired'] = df['Repaired'].fillna('NA')\n",
    "df['FuelType'] = df['FuelType'].fillna('NA')\n",
    "df['Model'] = df['Model'].fillna('NA')\n",
    "df['Gearbox'] = df['Gearbox'].fillna('NA')\n",
    "df['VehicleType'] = df['VehicleType'].fillna('NA')\n",
    "\n",
    "# заполняем пропуски NA"
   ]
  },
  {
   "cell_type": "code",
   "execution_count": 10,
   "metadata": {},
   "outputs": [
    {
     "data": {
      "text/plain": [
       "['Price',\n",
       " 'VehicleType',\n",
       " 'RegistrationYear',\n",
       " 'Gearbox',\n",
       " 'Power',\n",
       " 'Model',\n",
       " 'Kilometer',\n",
       " 'FuelType',\n",
       " 'Brand',\n",
       " 'Repaired']"
      ]
     },
     "execution_count": 10,
     "metadata": {},
     "output_type": "execute_result"
    }
   ],
   "source": [
    "columns = list(df.columns)\n",
    "columns"
   ]
  },
  {
   "cell_type": "code",
   "execution_count": 11,
   "metadata": {},
   "outputs": [
    {
     "data": {
      "image/png": "[encoded data removed]",
      "text/plain": [
       "<Figure size 720x720 with 1 Axes>"
      ]
     },
     "metadata": {},
     "output_type": "display_data"
    },
    {
     "data": {
      "image/png": "[encoded data removed]",
      "text/plain": [
       "<Figure size 720x720 with 1 Axes>"
      ]
     },
     "metadata": {},
     "output_type": "display_data"
    },
    {
     "data": {
      "image/png": "[encoded data removed]",
      "text/plain": [
       "<Figure size 720x720 with 1 Axes>"
      ]
     },
     "metadata": {},
     "output_type": "display_data"
    },
    {
     "data": {
      "image/png": "[encoded data removed]",
      "text/plain": [
       "<Figure size 720x720 with 1 Axes>"
      ]
     },
     "metadata": {},
     "output_type": "display_data"
    }
   ],
   "source": [
    "\n",
    "for i in ['VehicleType','Gearbox','FuelType','Repaired']:\n",
    "    sns.boxplot(y=i, x='Price', data=df)\n",
    "    plt.title(i)\n",
    "    plt.show() "
   ]
  },
  {
   "cell_type": "code",
   "execution_count": 12,
   "metadata": {},
   "outputs": [
    {
     "data": {
      "image/png": "[encoded data removed]",
      "text/plain": [
       "<Figure size 576x288 with 1 Axes>"
      ]
     },
     "metadata": {},
     "output_type": "display_data"
    },
    {
     "data": {
      "image/png": "[encoded data removed]",
      "text/plain": [
       "<Figure size 576x288 with 1 Axes>"
      ]
     },
     "metadata": {},
     "output_type": "display_data"
    },
    {
     "data": {
      "image/png": "[encoded data removed]",
      "text/plain": [
       "<Figure size 576x288 with 1 Axes>"
      ]
     },
     "metadata": {},
     "output_type": "display_data"
    },
    {
     "data": {
      "image/png": "[encoded data removed]",
      "text/plain": [
       "<Figure size 576x288 with 1 Axes>"
      ]
     },
     "metadata": {},
     "output_type": "display_data"
    }
   ],
   "source": [
    "sns.set(rc={'figure.figsize':(8,4)})\n",
    "for i in ['Price', 'RegistrationYear', 'Power', 'Kilometer']:\n",
    "    sns.boxplot(df[i])\n",
    "    plt.title(i)\n",
    "    plt.show()"
   ]
  },
  {
   "cell_type": "markdown",
   "metadata": {},
   "source": [
    "- Проанализировав признаки на выбросы можно сделать корректировку по признаку RegistrationYear ( 1900 < RegistrationYear < 2022) и Power ( 20 < Power < 1500)"
   ]
  },
  {
   "cell_type": "code",
   "execution_count": 13,
   "metadata": {},
   "outputs": [
    {
     "data": {
      "text/plain": [
       "0.9995174521473379"
      ]
     },
     "execution_count": 13,
     "metadata": {},
     "output_type": "execute_result"
    }
   ],
   "source": [
    "df = df[(df['RegistrationYear'] > 1900)&(df['RegistrationYear'] < 2022)]\n",
    "df['RegistrationYear'].count() / size\n",
    "\n",
    "# ограничиваем год регистрации с 1900 по 2023 и убеждаемся, что потеряли менее 1% данных"
   ]
  },
  {
   "cell_type": "code",
   "execution_count": 14,
   "metadata": {},
   "outputs": [
    {
     "data": {
      "text/plain": [
       "0.8845638303576215"
      ]
     },
     "execution_count": 14,
     "metadata": {},
     "output_type": "execute_result"
    }
   ],
   "source": [
    "df = df[(df['Power'] > 20)&(df['Power'] < 1500)]\n",
    "df['Power'].count() / size\n",
    "\n",
    "# ограничиваем мощность с 20 по 1500 и убеждаемся, что потеряли менее 12% данных"
   ]
  },
  {
   "cell_type": "markdown",
   "metadata": {},
   "source": [
    "<div class=\"alert alert-block alert-info\">\n",
    "<b>Изменения:</b> Были внесены следующие изменения: <br>\n",
    "    - ограничили стоимость так что бы Price > 100\n",
    "    \n",
    "</div>"
   ]
  },
  {
   "cell_type": "code",
   "execution_count": 15,
   "metadata": {},
   "outputs": [
    {
     "data": {
      "text/plain": [
       "0.8599651775409248"
      ]
     },
     "execution_count": 15,
     "metadata": {},
     "output_type": "execute_result"
    }
   ],
   "source": [
    "df = df[(df['Price'] > 100)]\n",
    "df['Price'].count() / size"
   ]
  },
  {
   "cell_type": "code",
   "execution_count": 16,
   "metadata": {},
   "outputs": [],
   "source": [
    "df= df.reset_index().drop('index', axis=1)"
   ]
  },
  {
   "cell_type": "code",
   "execution_count": 17,
   "metadata": {},
   "outputs": [
    {
     "data": {
      "image/png": "[encoded data removed]",
      "text/plain": [
       "<Figure size 720x720 with 2 Axes>"
      ]
     },
     "metadata": {},
     "output_type": "display_data"
    }
   ],
   "source": [
    "sns.set(rc={'figure.figsize': (10,10)})\n",
    "sns.heatmap(\n",
    "    df.corr(), vmin = -1, vmax = +1,\n",
    "    annot = True, cmap = 'coolwarm'\n",
    ")\n",
    "plt.title('Мультиколлинеарность признаков')\n",
    "plt.show()\n",
    "\n",
    "# посмотрим на мультиколлинеарность после всех преобразований"
   ]
  },
  {
   "cell_type": "markdown",
   "metadata": {},
   "source": [
    "**Выводы**\n",
    "\n",
    "- загрузили датасет и проверили на пропуски и формат данных\n",
    "- пропуски заполнили на 'NA'\n",
    "- выбросы по RegistrationYear и Power ограничили интервалами сохранив более 88% датасета\n",
    "- анамально малые значения Price ограничили суммой более 100 сохранив более 85% датасета\n",
    "- псомотрели признаки на мультиколлениарность - самая сильная прямая завсимость Price от Power "
   ]
  },
  {
   "cell_type": "markdown",
   "metadata": {},
   "source": [
    "<div class=\"alert alert-block alert-info\">\n",
    "<b>Изменения:</b> Были внесены следующие изменения: <br>\n",
    "    - ограничили стоимость так что бы Price > 100\n",
    "    \n",
    "</div>"
   ]
  },
  {
   "cell_type": "markdown",
   "metadata": {},
   "source": [
    "## Обучение моделей"
   ]
  },
  {
   "cell_type": "markdown",
   "metadata": {},
   "source": [
    "### LinearRegression"
   ]
  },
  {
   "cell_type": "code",
   "execution_count": 18,
   "metadata": {},
   "outputs": [
    {
     "data": {
      "text/html": [
       "<div>\n",
       "<style scoped>\n",
       "    .dataframe tbody tr th:only-of-type {\n",
       "        vertical-align: middle;\n",
       "    }\n",
       "\n",
       "    .dataframe tbody tr th {\n",
       "        vertical-align: top;\n",
       "    }\n",
       "\n",
       "    .dataframe thead th {\n",
       "        text-align: right;\n",
       "    }\n",
       "</style>\n",
       "<table border=\"1\" class=\"dataframe\">\n",
       "  <thead>\n",
       "    <tr style=\"text-align: right;\">\n",
       "      <th></th>\n",
       "      <th>RegistrationYear</th>\n",
       "      <th>Power</th>\n",
       "      <th>Kilometer</th>\n",
       "      <th>VehicleType_bus</th>\n",
       "      <th>VehicleType_convertible</th>\n",
       "      <th>VehicleType_coupe</th>\n",
       "      <th>VehicleType_other</th>\n",
       "      <th>VehicleType_sedan</th>\n",
       "      <th>VehicleType_small</th>\n",
       "      <th>VehicleType_suv</th>\n",
       "      <th>...</th>\n",
       "      <th>Brand_smart</th>\n",
       "      <th>Brand_sonstige_autos</th>\n",
       "      <th>Brand_subaru</th>\n",
       "      <th>Brand_suzuki</th>\n",
       "      <th>Brand_toyota</th>\n",
       "      <th>Brand_trabant</th>\n",
       "      <th>Brand_volkswagen</th>\n",
       "      <th>Brand_volvo</th>\n",
       "      <th>Repaired_no</th>\n",
       "      <th>Repaired_yes</th>\n",
       "    </tr>\n",
       "  </thead>\n",
       "  <tbody>\n",
       "    <tr>\n",
       "      <th>186026</th>\n",
       "      <td>-1.495367</td>\n",
       "      <td>-1.165565</td>\n",
       "      <td>0.586929</td>\n",
       "      <td>0</td>\n",
       "      <td>0</td>\n",
       "      <td>0</td>\n",
       "      <td>0</td>\n",
       "      <td>0</td>\n",
       "      <td>1</td>\n",
       "      <td>0</td>\n",
       "      <td>...</td>\n",
       "      <td>0</td>\n",
       "      <td>0</td>\n",
       "      <td>0</td>\n",
       "      <td>0</td>\n",
       "      <td>0</td>\n",
       "      <td>0</td>\n",
       "      <td>0</td>\n",
       "      <td>0</td>\n",
       "      <td>0</td>\n",
       "      <td>0</td>\n",
       "    </tr>\n",
       "    <tr>\n",
       "      <th>206888</th>\n",
       "      <td>-0.482905</td>\n",
       "      <td>-0.120079</td>\n",
       "      <td>0.586929</td>\n",
       "      <td>0</td>\n",
       "      <td>0</td>\n",
       "      <td>1</td>\n",
       "      <td>0</td>\n",
       "      <td>0</td>\n",
       "      <td>0</td>\n",
       "      <td>0</td>\n",
       "      <td>...</td>\n",
       "      <td>0</td>\n",
       "      <td>0</td>\n",
       "      <td>0</td>\n",
       "      <td>0</td>\n",
       "      <td>0</td>\n",
       "      <td>0</td>\n",
       "      <td>0</td>\n",
       "      <td>0</td>\n",
       "      <td>0</td>\n",
       "      <td>0</td>\n",
       "    </tr>\n",
       "    <tr>\n",
       "      <th>25301</th>\n",
       "      <td>0.240283</td>\n",
       "      <td>0.332965</td>\n",
       "      <td>0.586929</td>\n",
       "      <td>0</td>\n",
       "      <td>0</td>\n",
       "      <td>0</td>\n",
       "      <td>0</td>\n",
       "      <td>0</td>\n",
       "      <td>0</td>\n",
       "      <td>0</td>\n",
       "      <td>...</td>\n",
       "      <td>0</td>\n",
       "      <td>0</td>\n",
       "      <td>0</td>\n",
       "      <td>0</td>\n",
       "      <td>0</td>\n",
       "      <td>0</td>\n",
       "      <td>0</td>\n",
       "      <td>0</td>\n",
       "      <td>0</td>\n",
       "      <td>1</td>\n",
       "    </tr>\n",
       "    <tr>\n",
       "      <th>115016</th>\n",
       "      <td>-0.193630</td>\n",
       "      <td>-0.973893</td>\n",
       "      <td>0.586929</td>\n",
       "      <td>0</td>\n",
       "      <td>0</td>\n",
       "      <td>0</td>\n",
       "      <td>0</td>\n",
       "      <td>0</td>\n",
       "      <td>1</td>\n",
       "      <td>0</td>\n",
       "      <td>...</td>\n",
       "      <td>0</td>\n",
       "      <td>0</td>\n",
       "      <td>0</td>\n",
       "      <td>0</td>\n",
       "      <td>0</td>\n",
       "      <td>0</td>\n",
       "      <td>0</td>\n",
       "      <td>0</td>\n",
       "      <td>1</td>\n",
       "      <td>0</td>\n",
       "    </tr>\n",
       "    <tr>\n",
       "      <th>93831</th>\n",
       "      <td>0.095645</td>\n",
       "      <td>0.733735</td>\n",
       "      <td>0.586929</td>\n",
       "      <td>0</td>\n",
       "      <td>0</td>\n",
       "      <td>0</td>\n",
       "      <td>0</td>\n",
       "      <td>0</td>\n",
       "      <td>0</td>\n",
       "      <td>1</td>\n",
       "      <td>...</td>\n",
       "      <td>0</td>\n",
       "      <td>0</td>\n",
       "      <td>0</td>\n",
       "      <td>0</td>\n",
       "      <td>0</td>\n",
       "      <td>0</td>\n",
       "      <td>0</td>\n",
       "      <td>1</td>\n",
       "      <td>1</td>\n",
       "      <td>0</td>\n",
       "    </tr>\n",
       "  </tbody>\n",
       "</table>\n",
       "<p>5 rows × 310 columns</p>\n",
       "</div>"
      ],
      "text/plain": [
       "        RegistrationYear     Power  Kilometer  VehicleType_bus  \\\n",
       "186026         -1.495367 -1.165565   0.586929                0   \n",
       "206888         -0.482905 -0.120079   0.586929                0   \n",
       "25301           0.240283  0.332965   0.586929                0   \n",
       "115016         -0.193630 -0.973893   0.586929                0   \n",
       "93831           0.095645  0.733735   0.586929                0   \n",
       "\n",
       "        VehicleType_convertible  VehicleType_coupe  VehicleType_other  \\\n",
       "186026                        0                  0                  0   \n",
       "206888                        0                  1                  0   \n",
       "25301                         0                  0                  0   \n",
       "115016                        0                  0                  0   \n",
       "93831                         0                  0                  0   \n",
       "\n",
       "        VehicleType_sedan  VehicleType_small  VehicleType_suv  ...  \\\n",
       "186026                  0                  1                0  ...   \n",
       "206888                  0                  0                0  ...   \n",
       "25301                   0                  0                0  ...   \n",
       "115016                  0                  1                0  ...   \n",
       "93831                   0                  0                1  ...   \n",
       "\n",
       "        Brand_smart  Brand_sonstige_autos  Brand_subaru  Brand_suzuki  \\\n",
       "186026            0                     0             0             0   \n",
       "206888            0                     0             0             0   \n",
       "25301             0                     0             0             0   \n",
       "115016            0                     0             0             0   \n",
       "93831             0                     0             0             0   \n",
       "\n",
       "        Brand_toyota  Brand_trabant  Brand_volkswagen  Brand_volvo  \\\n",
       "186026             0              0                 0            0   \n",
       "206888             0              0                 0            0   \n",
       "25301              0              0                 0            0   \n",
       "115016             0              0                 0            0   \n",
       "93831              0              0                 0            1   \n",
       "\n",
       "        Repaired_no  Repaired_yes  \n",
       "186026            0             0  \n",
       "206888            0             0  \n",
       "25301             0             1  \n",
       "115016            1             0  \n",
       "93831             1             0  \n",
       "\n",
       "[5 rows x 310 columns]"
      ]
     },
     "execution_count": 18,
     "metadata": {},
     "output_type": "execute_result"
    }
   ],
   "source": [
    "features_train, features_test, target_train, target_test = train_test_split(\n",
    "    df.drop('Price', axis=1), df.Price, test_size=0.3, random_state=12345)\n",
    "# формеруем тренировочные и тестовые выборки\n",
    "\n",
    "features_train = pd.get_dummies(features_train, drop_first=True)\n",
    "features_test = pd.get_dummies(features_test, drop_first=True)\n",
    "# производим прямое кодирование\n",
    "\n",
    "numeric = ['RegistrationYear', 'Power', 'Kilometer']\n",
    "# выделяем признаки для маштабирования\n",
    "\n",
    "scaler = StandardScaler()\n",
    "scaler.fit(features_train[numeric])\n",
    "# производим настройку маштабирования на тренировочных данных\n",
    "\n",
    "features_train[numeric] = scaler.transform(features_train[numeric])\n",
    "features_test[numeric] = scaler.transform(features_test[numeric])\n",
    "features_train.head()\n",
    "# преобразуем обучающую и валидационную выборки функцией transform()"
   ]
  },
  {
   "cell_type": "markdown",
   "metadata": {},
   "source": [
    "<div class=\"alert alert-block alert-info\">\n",
    "<b>Изменения:</b> Были внесены следующие изменения: <br>\n",
    "    - прямое кодирование произведено после разбиения на выборки\n",
    "    \n",
    "</div>"
   ]
  },
  {
   "cell_type": "code",
   "execution_count": 19,
   "metadata": {
    "scrolled": true
   },
   "outputs": [
    {
     "name": "stdout",
     "output_type": "stream",
     "text": [
      "(213321, 310)\n",
      "(91424, 306)\n"
     ]
    }
   ],
   "source": [
    "print(features_train.shape)\n",
    "print(features_test.shape)"
   ]
  },
  {
   "cell_type": "code",
   "execution_count": 20,
   "metadata": {},
   "outputs": [
    {
     "name": "stdout",
     "output_type": "stream",
     "text": [
      "(213321, 306)\n",
      "(91424, 306)\n"
     ]
    }
   ],
   "source": [
    "features_train = features_train[features_test.columns]\n",
    "print(features_train.shape)\n",
    "print(features_test.shape)\n",
    "# удалили лишние признаки в features_train после кодирования"
   ]
  },
  {
   "cell_type": "markdown",
   "metadata": {},
   "source": [
    "<div class=\"alert alert-block alert-info\">\n",
    "<b>Изменения:</b> Были внесены следующие изменения: <br>\n",
    "    - выровнили кол-во признаков в тренировочной и тестовой выборке после кодирования\n",
    "    \n",
    "</div>"
   ]
  },
  {
   "cell_type": "code",
   "execution_count": 21,
   "metadata": {},
   "outputs": [
    {
     "name": "stdout",
     "output_type": "stream",
     "text": [
      "CPU times: user 42.9 s, sys: 36.4 s, total: 1min 19s\n",
      "Wall time: 1min 19s\n"
     ]
    },
    {
     "data": {
      "text/plain": [
       "-2637.8354050409393"
      ]
     },
     "execution_count": 21,
     "metadata": {},
     "output_type": "execute_result"
    }
   ],
   "source": [
    "%%time\n",
    "\n",
    "score_lr = cross_val_score(LinearRegression(), features_train, target_train, \n",
    "                              cv=5, n_jobs=-1, scoring='neg_root_mean_squared_error')\n",
    "score_lr.mean()\n",
    "\n",
    "# обучаем модель LR кросс-валидацией с замерением времени выполнения ячейки"
   ]
  },
  {
   "cell_type": "code",
   "execution_count": 22,
   "metadata": {},
   "outputs": [
    {
     "name": "stdout",
     "output_type": "stream",
     "text": [
      "CPU times: user 11.2 s, sys: 9.71 s, total: 20.9 s\n",
      "Wall time: 20.9 s\n"
     ]
    },
    {
     "data": {
      "text/plain": [
       "LinearRegression()"
      ]
     },
     "execution_count": 22,
     "metadata": {},
     "output_type": "execute_result"
    }
   ],
   "source": [
    "%%time\n",
    "model_lr = LinearRegression()\n",
    "model_lr.fit(features_train, target_train)\n"
   ]
  },
  {
   "cell_type": "code",
   "execution_count": 23,
   "metadata": {},
   "outputs": [
    {
     "name": "stdout",
     "output_type": "stream",
     "text": [
      "CPU times: user 61.8 ms, sys: 73.3 ms, total: 135 ms\n",
      "Wall time: 112 ms\n"
     ]
    }
   ],
   "source": [
    "%%time\n",
    "prediction_lr = model_lr.predict(features_train)"
   ]
  },
  {
   "cell_type": "code",
   "execution_count": 41,
   "metadata": {},
   "outputs": [
    {
     "data": {
      "text/plain": [
       "{'wall_time_fit': [21],\n",
       " 'wall_time_predict': [0.114],\n",
       " 'rmse': [-2637.8354050409393]}"
      ]
     },
     "execution_count": 41,
     "metadata": {},
     "output_type": "execute_result"
    }
   ],
   "source": [
    "results = {\n",
    "    'wall_time_fit': [],\n",
    "    'wall_time_predict': [],\n",
    "    'rmse': []\n",
    "}\n",
    "results['rmse'].append(score_lr.mean())\n",
    "results['wall_time_fit'].append(21)\n",
    "results['wall_time_predict'].append(114/1000)\n",
    "results"
   ]
  },
  {
   "cell_type": "markdown",
   "metadata": {},
   "source": [
    "**Выводы по LinearRegression**\n",
    "\n",
    "-  время на обучение составило  21сек\n",
    "-  время на предсказания составило 114 милисек\n",
    "-  точность по метрике rmse -2637"
   ]
  },
  {
   "cell_type": "markdown",
   "metadata": {},
   "source": [
    "### CatBoost"
   ]
  },
  {
   "cell_type": "code",
   "execution_count": 25,
   "metadata": {},
   "outputs": [],
   "source": [
    "features_cat = ['VehicleType', 'Gearbox', 'FuelType', 'Brand', 'Repaired', 'Model']\n",
    "\n",
    "features_train_boost, features_test_boost, target_train_boost, target_test_boost = train_test_split(\n",
    "    df.drop('Price', axis=1), df.Price, test_size=0.3, random_state=12345)"
   ]
  },
  {
   "cell_type": "code",
   "execution_count": 26,
   "metadata": {},
   "outputs": [
    {
     "data": {
      "text/plain": [
       "GridSearchCV(cv=5,\n",
       "             estimator=<catboost.core.CatBoostRegressor object at 0x7f05600058e0>,\n",
       "             param_grid={'depth': [2, 12], 'l2_leaf_reg': [1, 8],\n",
       "                         'learning_rate': [0.1, 0.8]},\n",
       "             scoring='neg_mean_squared_error', verbose=False)"
      ]
     },
     "execution_count": 26,
     "metadata": {},
     "output_type": "execute_result"
    }
   ],
   "source": [
    "params = {\n",
    "    'learning_rate':[0.1, 0.8],\n",
    "    'depth':[2, 12],\n",
    "    'l2_leaf_reg': [1, 8]    \n",
    "}\n",
    "\n",
    "grid = GridSearchCV(CatBoostRegressor(loss_function=\"RMSE\", iterations=100, silent=True),\n",
    "                    param_grid=params,\n",
    "                    cv=5,\n",
    "                    scoring='neg_mean_squared_error',\n",
    "                    verbose=False)\n",
    "\n",
    "grid.fit(features_train_boost, target_train_boost, cat_features=features_cat)"
   ]
  },
  {
   "cell_type": "code",
   "execution_count": 27,
   "metadata": {},
   "outputs": [
    {
     "data": {
      "text/plain": [
       "{'depth': 12, 'l2_leaf_reg': 8, 'learning_rate': 0.8}"
      ]
     },
     "execution_count": 27,
     "metadata": {},
     "output_type": "execute_result"
    }
   ],
   "source": [
    "grid.best_params_"
   ]
  },
  {
   "cell_type": "code",
   "execution_count": 28,
   "metadata": {},
   "outputs": [
    {
     "name": "stdout",
     "output_type": "stream",
     "text": [
      "CPU times: user 1min 18s, sys: 412 ms, total: 1min 18s\n",
      "Wall time: 1min 20s\n"
     ]
    },
    {
     "data": {
      "text/plain": [
       "-1579.3849376803998"
      ]
     },
     "execution_count": 28,
     "metadata": {},
     "output_type": "execute_result"
    }
   ],
   "source": [
    "%%time\n",
    "\n",
    "score_cb = cross_val_score(CatBoostRegressor(loss_function=\"RMSE\", iterations=200,\n",
    "                        learning_rate=0.8, depth=12, l2_leaf_reg=8, silent=True),\n",
    "                        features_train, target_train, \n",
    "                        cv=5, n_jobs=-1, scoring='neg_root_mean_squared_error')\n",
    "score_cb.mean()\n",
    "\n",
    "# обучаем модель CB кросс-валидацией с замерением времени выполнения ячейки"
   ]
  },
  {
   "cell_type": "code",
   "execution_count": 29,
   "metadata": {},
   "outputs": [
    {
     "name": "stdout",
     "output_type": "stream",
     "text": [
      "CPU times: user 2min 12s, sys: 412 ms, total: 2min 12s\n",
      "Wall time: 2min 13s\n"
     ]
    },
    {
     "data": {
      "text/plain": [
       "<catboost.core.CatBoostRegressor at 0x7f057055bb80>"
      ]
     },
     "execution_count": 29,
     "metadata": {},
     "output_type": "execute_result"
    }
   ],
   "source": [
    "%%time\n",
    "model_cb = CatBoostRegressor(loss_function=\"RMSE\", iterations=200, \n",
    "                              learning_rate=0.8, depth=12, l2_leaf_reg=8, silent=True)\n",
    "\n",
    "model_cb.fit(features_train_boost, target_train_boost, cat_features=features_cat)"
   ]
  },
  {
   "cell_type": "code",
   "execution_count": 30,
   "metadata": {},
   "outputs": [
    {
     "name": "stdout",
     "output_type": "stream",
     "text": [
      "CPU times: user 457 ms, sys: 7.14 ms, total: 464 ms\n",
      "Wall time: 470 ms\n"
     ]
    }
   ],
   "source": [
    "%%time\n",
    "prediction_cb = model_cb.predict(features_train_boost)"
   ]
  },
  {
   "cell_type": "code",
   "execution_count": 42,
   "metadata": {},
   "outputs": [
    {
     "data": {
      "text/plain": [
       "{'wall_time_fit': [21, '2:13'],\n",
       " 'wall_time_predict': [0.114, 0.47],\n",
       " 'rmse': [-2637.8354050409393, -1579.3849376803998]}"
      ]
     },
     "execution_count": 42,
     "metadata": {},
     "output_type": "execute_result"
    }
   ],
   "source": [
    "results['rmse'].append(score_cb.mean())\n",
    "results['wall_time_fit'].append(\"2:13\")\n",
    "results['wall_time_predict'].append(470/1000)\n",
    "results"
   ]
  },
  {
   "cell_type": "markdown",
   "metadata": {},
   "source": [
    " **Выводы по CatBoost**\n",
    "\n",
    "-  время на обучение составило 2мин 42сек\n",
    "-  время на предсказания составило 687 милисек\n",
    "-  точность по метрике rmse 1706"
   ]
  },
  {
   "cell_type": "markdown",
   "metadata": {},
   "source": [
    "### LightGBM"
   ]
  },
  {
   "cell_type": "code",
   "execution_count": 32,
   "metadata": {
    "scrolled": true
   },
   "outputs": [
    {
     "name": "stdout",
     "output_type": "stream",
     "text": [
      "<class 'pandas.core.frame.DataFrame'>\n",
      "Int64Index: 91424 entries, 197840 to 63186\n",
      "Data columns (total 9 columns):\n",
      " #   Column            Non-Null Count  Dtype   \n",
      "---  ------            --------------  -----   \n",
      " 0   VehicleType       91424 non-null  category\n",
      " 1   RegistrationYear  91424 non-null  int64   \n",
      " 2   Gearbox           91424 non-null  category\n",
      " 3   Power             91424 non-null  int64   \n",
      " 4   Model             91424 non-null  category\n",
      " 5   Kilometer         91424 non-null  int64   \n",
      " 6   FuelType          91424 non-null  category\n",
      " 7   Brand             91424 non-null  category\n",
      " 8   Repaired          91424 non-null  category\n",
      "dtypes: category(6), int64(3)\n",
      "memory usage: 3.4 MB\n"
     ]
    }
   ],
   "source": [
    "features_train_boost[features_cat] = features_train_boost[features_cat].astype('category')\n",
    "features_test_boost[features_cat] = features_test_boost[features_cat].astype('category')\n",
    "features_test_boost.info()"
   ]
  },
  {
   "cell_type": "code",
   "execution_count": 33,
   "metadata": {},
   "outputs": [
    {
     "data": {
      "text/plain": [
       "GridSearchCV(cv=5,\n",
       "             estimator=LGBMRegressor(num_iterations=200, random_state=12345),\n",
       "             param_grid={'learning_rate': [0.1, 0.6], 'max_depth': [3, 9],\n",
       "                         'num_leaves': [30, 90, 10]},\n",
       "             scoring='neg_mean_squared_error', verbose=False)"
      ]
     },
     "execution_count": 33,
     "metadata": {},
     "output_type": "execute_result"
    }
   ],
   "source": [
    "params = {\n",
    "    'learning_rate': [0.1, 0.6],\n",
    "    'max_depth': [3, 9],\n",
    "    'num_leaves': [30, 90, 10],\n",
    "    \n",
    "}\n",
    "\n",
    "grid = GridSearchCV(LGBMRegressor(random_state=12345, num_iterations=200),\n",
    "                    param_grid=params,\n",
    "                    cv=5,\n",
    "                    scoring='neg_mean_squared_error',\n",
    "                    verbose=False)\n",
    "\n",
    "grid.fit(features_train_boost, target_train_boost, categorical_feature=features_cat)"
   ]
  },
  {
   "cell_type": "code",
   "execution_count": 34,
   "metadata": {},
   "outputs": [
    {
     "data": {
      "text/plain": [
       "{'learning_rate': 0.1, 'max_depth': 9, 'num_leaves': 90}"
      ]
     },
     "execution_count": 34,
     "metadata": {},
     "output_type": "execute_result"
    }
   ],
   "source": [
    "grid.best_params_"
   ]
  },
  {
   "cell_type": "code",
   "execution_count": 35,
   "metadata": {},
   "outputs": [
    {
     "name": "stdout",
     "output_type": "stream",
     "text": [
      "[LightGBM] [Warning] boosting is set with boosting_type=gbdt, will be overridden by boost=gbdt. Current value: boosting=gbdt\n",
      "[LightGBM] [Warning] min_data_in_leaf is set=50, min_child_samples=20 will be ignored. Current value: min_data_in_leaf=50\n",
      "[LightGBM] [Warning] boosting is set with boosting_type=gbdt, will be overridden by boost=gbdt. Current value: boosting=gbdt\n",
      "[LightGBM] [Warning] min_data_in_leaf is set=50, min_child_samples=20 will be ignored. Current value: min_data_in_leaf=50\n",
      "[LightGBM] [Warning] boosting is set with boosting_type=gbdt, will be overridden by boost=gbdt. Current value: boosting=gbdt\n",
      "[LightGBM] [Warning] min_data_in_leaf is set=50, min_child_samples=20 will be ignored. Current value: min_data_in_leaf=50\n",
      "[LightGBM] [Warning] boosting is set with boosting_type=gbdt, will be overridden by boost=gbdt. Current value: boosting=gbdt\n",
      "[LightGBM] [Warning] min_data_in_leaf is set=50, min_child_samples=20 will be ignored. Current value: min_data_in_leaf=50\n",
      "CPU times: user 1min 51s, sys: 1.2 s, total: 1min 53s\n",
      "Wall time: 1min 53s\n"
     ]
    },
    {
     "data": {
      "text/plain": [
       "-1634.1643486057594"
      ]
     },
     "execution_count": 35,
     "metadata": {},
     "output_type": "execute_result"
    }
   ],
   "source": [
    "%%time\n",
    "\n",
    "score_lg = cross_val_score(LGBMRegressor(random_state=12345, num_iterations=200, min_data_in_leaf=50,\n",
    "                        learning_rate=0.1, max_depth=9, num_leaves=90, boost='gbdt'),\n",
    "                        features_train, target_train, \n",
    "                        cv=5, n_jobs=-1, scoring='neg_root_mean_squared_error')\n",
    "score_lg.mean()\n",
    "\n",
    "# обучаем модель LG кросс-валидацией с замерением времени выполнения ячейки"
   ]
  },
  {
   "cell_type": "code",
   "execution_count": 36,
   "metadata": {},
   "outputs": [
    {
     "name": "stdout",
     "output_type": "stream",
     "text": [
      "[LightGBM] [Warning] boosting is set with boosting_type=gbdt, will be overridden by boost=gbdt. Current value: boosting=gbdt\n",
      "[LightGBM] [Warning] min_data_in_leaf is set=50, min_child_samples=20 will be ignored. Current value: min_data_in_leaf=50\n",
      "CPU times: user 13.5 s, sys: 49.2 ms, total: 13.5 s\n",
      "Wall time: 13.5 s\n"
     ]
    },
    {
     "data": {
      "text/plain": [
       "LGBMRegressor(boost='gbdt', max_depth=9, min_data_in_leaf=50,\n",
       "              num_iterations=200, num_leaves=90, random_state=12345)"
      ]
     },
     "execution_count": 36,
     "metadata": {},
     "output_type": "execute_result"
    }
   ],
   "source": [
    "%%time\n",
    "\n",
    "model_lg = LGBMRegressor(random_state=12345, num_iterations=200, min_data_in_leaf=50, \n",
    "                           learning_rate=0.1, max_depth=9, num_leaves=90, boost='gbdt')\n",
    "\n",
    "model_lg.fit(features_train_boost, target_train_boost, categorical_feature=features_cat)"
   ]
  },
  {
   "cell_type": "code",
   "execution_count": 37,
   "metadata": {},
   "outputs": [
    {
     "name": "stdout",
     "output_type": "stream",
     "text": [
      "CPU times: user 2.52 s, sys: 0 ns, total: 2.52 s\n",
      "Wall time: 2.6 s\n"
     ]
    }
   ],
   "source": [
    "%%time\n",
    "prediction_lg = model_lg.predict(features_train_boost)"
   ]
  },
  {
   "cell_type": "code",
   "execution_count": 43,
   "metadata": {},
   "outputs": [
    {
     "data": {
      "text/plain": [
       "{'wall_time_fit': [21, '2:13', '13.5'],\n",
       " 'wall_time_predict': [0.114, 0.47, '2.6'],\n",
       " 'rmse': [-2637.8354050409393, -1579.3849376803998, -1634.1643486057594]}"
      ]
     },
     "execution_count": 43,
     "metadata": {},
     "output_type": "execute_result"
    }
   ],
   "source": [
    "results['rmse'].append(score_lg.mean())\n",
    "results['wall_time_fit'].append(\"13.5\")\n",
    "results['wall_time_predict'].append('2.6')\n",
    "results"
   ]
  },
  {
   "cell_type": "markdown",
   "metadata": {},
   "source": [
    "**Выводы по LightGBM**\n",
    "\n",
    "-  время на обучение составило 15сек\n",
    "-  время на предсказания составило 3 сек\n",
    "-  точность по метрике rmse 1658"
   ]
  },
  {
   "cell_type": "markdown",
   "metadata": {},
   "source": [
    "## Анализ моделей"
   ]
  },
  {
   "cell_type": "code",
   "execution_count": 44,
   "metadata": {},
   "outputs": [
    {
     "data": {
      "text/html": [
       "<div>\n",
       "<style scoped>\n",
       "    .dataframe tbody tr th:only-of-type {\n",
       "        vertical-align: middle;\n",
       "    }\n",
       "\n",
       "    .dataframe tbody tr th {\n",
       "        vertical-align: top;\n",
       "    }\n",
       "\n",
       "    .dataframe thead th {\n",
       "        text-align: right;\n",
       "    }\n",
       "</style>\n",
       "<table border=\"1\" class=\"dataframe\">\n",
       "  <thead>\n",
       "    <tr style=\"text-align: right;\">\n",
       "      <th></th>\n",
       "      <th>wall_time_fit</th>\n",
       "      <th>wall_time_predict</th>\n",
       "      <th>rmse</th>\n",
       "    </tr>\n",
       "  </thead>\n",
       "  <tbody>\n",
       "    <tr>\n",
       "      <th>LR</th>\n",
       "      <td>21</td>\n",
       "      <td>0.114</td>\n",
       "      <td>-2637.835405</td>\n",
       "    </tr>\n",
       "    <tr>\n",
       "      <th>CB</th>\n",
       "      <td>2:13</td>\n",
       "      <td>0.47</td>\n",
       "      <td>-1579.384938</td>\n",
       "    </tr>\n",
       "    <tr>\n",
       "      <th>LG</th>\n",
       "      <td>13.5</td>\n",
       "      <td>2.6</td>\n",
       "      <td>-1634.164349</td>\n",
       "    </tr>\n",
       "  </tbody>\n",
       "</table>\n",
       "</div>"
      ],
      "text/plain": [
       "   wall_time_fit wall_time_predict         rmse\n",
       "LR            21             0.114 -2637.835405\n",
       "CB          2:13              0.47 -1579.384938\n",
       "LG          13.5               2.6 -1634.164349"
      ]
     },
     "execution_count": 44,
     "metadata": {},
     "output_type": "execute_result"
    }
   ],
   "source": [
    "pd.DataFrame(results, index=['LR', 'CB', 'LG'])"
   ]
  },
  {
   "cell_type": "markdown",
   "metadata": {},
   "source": [
    "Лучшая модель по соотношению скорость и точность - LGBMRegressor(boost='gbdt', max_depth=9, min_data_in_leaf=50, num_iterations=200, num_leaves=90, random_state=12345)"
   ]
  },
  {
   "cell_type": "markdown",
   "metadata": {},
   "source": [
    "## Тестирование лучшей модели LightGBM"
   ]
  },
  {
   "cell_type": "markdown",
   "metadata": {},
   "source": [
    "Исходя из показателей время-качество лучше всего зарекомендовала себя модель LGBMRegressor\n",
    "(random_state=12345, num_iterations=200),param_grid=params, cv=5,scoring='neg_mean_squared_error',\n",
    "                    verbose=False)"
   ]
  },
  {
   "cell_type": "code",
   "execution_count": 40,
   "metadata": {},
   "outputs": [
    {
     "name": "stdout",
     "output_type": "stream",
     "text": [
      "[LightGBM] [Warning] boosting is set with boosting_type=gbdt, will be overridden by boost=gbdt. Current value: boosting=gbdt\n",
      "[LightGBM] [Warning] min_data_in_leaf is set=50, min_child_samples=20 will be ignored. Current value: min_data_in_leaf=50\n",
      "CPU times: user 2min 7s, sys: 427 ms, total: 2min 8s\n",
      "Wall time: 2min 8s\n"
     ]
    },
    {
     "data": {
      "text/plain": [
       "1566.5325073150084"
      ]
     },
     "execution_count": 40,
     "metadata": {},
     "output_type": "execute_result"
    }
   ],
   "source": [
    "%%time\n",
    "\n",
    "prediction = model_lg.predict(features_test_boost)\n",
    "lgbm_rmse = mean_squared_error(target_test_boost, prediction) ** 0.5\n",
    "lgbm_rmse\n",
    "# проводим проверку на тестовой выборке"
   ]
  },
  {
   "cell_type": "markdown",
   "metadata": {},
   "source": [
    "**Вывод:**\n",
    "\n",
    "- Метрика RMSE на тестовой выборке показала 1566, что удовлитворяет поставленной задачи"
   ]
  }
 ],
 "metadata": {
  "ExecuteTimeLog": [
   {
    "duration": 1356,
    "start_time": "2023-03-11T21:08:15.971Z"
   },
   {
    "duration": 126,
    "start_time": "2023-03-11T21:08:17.329Z"
   },
   {
    "duration": 1395,
    "start_time": "2023-03-11T21:08:38.818Z"
   },
   {
    "duration": 1429,
    "start_time": "2023-03-11T21:08:52.414Z"
   },
   {
    "duration": 1245,
    "start_time": "2023-03-11T21:10:23.192Z"
   },
   {
    "duration": 160,
    "start_time": "2023-03-11T21:12:05.721Z"
   },
   {
    "duration": 16,
    "start_time": "2023-03-11T21:13:49.488Z"
   },
   {
    "duration": 403,
    "start_time": "2023-03-11T21:14:11.397Z"
   },
   {
    "duration": 929,
    "start_time": "2023-03-11T21:14:15.943Z"
   },
   {
    "duration": 858,
    "start_time": "2023-03-11T21:14:30.093Z"
   },
   {
    "duration": 1669,
    "start_time": "2023-03-12T11:16:36.838Z"
   },
   {
    "duration": 3239,
    "start_time": "2023-03-12T11:16:38.510Z"
   },
   {
    "duration": 119,
    "start_time": "2023-03-12T11:16:41.751Z"
   },
   {
    "duration": 739,
    "start_time": "2023-03-12T11:16:41.872Z"
   },
   {
    "duration": 6,
    "start_time": "2023-03-12T11:29:05.868Z"
   },
   {
    "duration": 1804,
    "start_time": "2023-03-12T19:24:00.342Z"
   },
   {
    "duration": 1363,
    "start_time": "2023-03-12T19:24:02.148Z"
   },
   {
    "duration": 143,
    "start_time": "2023-03-12T19:24:03.513Z"
   },
   {
    "duration": 857,
    "start_time": "2023-03-12T19:24:03.659Z"
   },
   {
    "duration": 7,
    "start_time": "2023-03-12T19:24:04.519Z"
   },
   {
    "duration": 45,
    "start_time": "2023-03-12T19:24:04.528Z"
   },
   {
    "duration": 24,
    "start_time": "2023-03-12T19:29:54.080Z"
   },
   {
    "duration": 3,
    "start_time": "2023-03-12T19:50:08.634Z"
   },
   {
    "duration": 125,
    "start_time": "2023-03-12T19:51:34.029Z"
   },
   {
    "duration": 15,
    "start_time": "2023-03-12T19:51:48.069Z"
   },
   {
    "duration": 4,
    "start_time": "2023-03-12T20:03:32.943Z"
   },
   {
    "duration": 7595,
    "start_time": "2023-03-12T20:03:32.949Z"
   },
   {
    "duration": 1636,
    "start_time": "2023-03-12T20:04:31.730Z"
   },
   {
    "duration": 13,
    "start_time": "2023-03-12T20:06:51.942Z"
   },
   {
    "duration": 3011,
    "start_time": "2023-03-12T20:07:05.007Z"
   },
   {
    "duration": 794,
    "start_time": "2023-03-12T20:07:38.041Z"
   },
   {
    "duration": 43,
    "start_time": "2023-03-12T20:17:10.856Z"
   },
   {
    "duration": 29,
    "start_time": "2023-03-12T20:17:16.985Z"
   },
   {
    "duration": 3,
    "start_time": "2023-03-12T20:18:59.283Z"
   },
   {
    "duration": 5,
    "start_time": "2023-03-12T20:19:06.203Z"
   },
   {
    "duration": 30,
    "start_time": "2023-03-12T20:19:30.883Z"
   },
   {
    "duration": 4,
    "start_time": "2023-03-12T20:19:47.907Z"
   },
   {
    "duration": 1007,
    "start_time": "2023-03-12T20:19:47.914Z"
   },
   {
    "duration": 7,
    "start_time": "2023-03-12T20:19:48.924Z"
   },
   {
    "duration": 151,
    "start_time": "2023-03-12T20:19:48.932Z"
   },
   {
    "duration": 728,
    "start_time": "2023-03-12T20:19:49.086Z"
   },
   {
    "duration": 6,
    "start_time": "2023-03-12T20:19:49.816Z"
   },
   {
    "duration": 52,
    "start_time": "2023-03-12T20:19:49.823Z"
   },
   {
    "duration": 107,
    "start_time": "2023-03-12T20:19:49.877Z"
   },
   {
    "duration": 4,
    "start_time": "2023-03-12T20:19:49.986Z"
   },
   {
    "duration": 1843,
    "start_time": "2023-03-12T20:19:49.992Z"
   },
   {
    "duration": 780,
    "start_time": "2023-03-12T20:19:51.837Z"
   },
   {
    "duration": 38,
    "start_time": "2023-03-12T20:19:52.619Z"
   },
   {
    "duration": 9,
    "start_time": "2023-03-12T20:22:05.218Z"
   },
   {
    "duration": 11,
    "start_time": "2023-03-12T20:22:13.577Z"
   },
   {
    "duration": 26,
    "start_time": "2023-03-12T20:22:20.136Z"
   },
   {
    "duration": 36,
    "start_time": "2023-03-12T20:23:25.890Z"
   },
   {
    "duration": 6,
    "start_time": "2023-03-12T20:23:30.513Z"
   },
   {
    "duration": 1052,
    "start_time": "2023-03-12T20:23:30.521Z"
   },
   {
    "duration": 5,
    "start_time": "2023-03-12T20:23:31.575Z"
   },
   {
    "duration": 166,
    "start_time": "2023-03-12T20:23:31.582Z"
   },
   {
    "duration": 715,
    "start_time": "2023-03-12T20:23:31.751Z"
   },
   {
    "duration": 8,
    "start_time": "2023-03-12T20:23:32.468Z"
   },
   {
    "duration": 46,
    "start_time": "2023-03-12T20:23:32.478Z"
   },
   {
    "duration": 110,
    "start_time": "2023-03-12T20:23:32.526Z"
   },
   {
    "duration": 5,
    "start_time": "2023-03-12T20:23:32.637Z"
   },
   {
    "duration": 1778,
    "start_time": "2023-03-12T20:23:32.644Z"
   },
   {
    "duration": 779,
    "start_time": "2023-03-12T20:23:34.424Z"
   },
   {
    "duration": 29,
    "start_time": "2023-03-12T20:23:35.205Z"
   },
   {
    "duration": 41,
    "start_time": "2023-03-12T20:23:35.236Z"
   },
   {
    "duration": 26,
    "start_time": "2023-03-12T20:24:08.747Z"
   },
   {
    "duration": 32,
    "start_time": "2023-03-12T20:24:15.556Z"
   },
   {
    "duration": 5,
    "start_time": "2023-03-12T20:24:30.381Z"
   },
   {
    "duration": 1034,
    "start_time": "2023-03-12T20:24:30.388Z"
   },
   {
    "duration": 5,
    "start_time": "2023-03-12T20:24:31.424Z"
   },
   {
    "duration": 181,
    "start_time": "2023-03-12T20:24:31.431Z"
   },
   {
    "duration": 681,
    "start_time": "2023-03-12T20:24:31.614Z"
   },
   {
    "duration": 7,
    "start_time": "2023-03-12T20:24:32.298Z"
   },
   {
    "duration": 51,
    "start_time": "2023-03-12T20:24:32.307Z"
   },
   {
    "duration": 114,
    "start_time": "2023-03-12T20:24:32.374Z"
   },
   {
    "duration": 5,
    "start_time": "2023-03-12T20:24:32.490Z"
   },
   {
    "duration": 1820,
    "start_time": "2023-03-12T20:24:32.497Z"
   },
   {
    "duration": 798,
    "start_time": "2023-03-12T20:24:34.319Z"
   },
   {
    "duration": 35,
    "start_time": "2023-03-12T20:24:35.119Z"
   },
   {
    "duration": 41,
    "start_time": "2023-03-12T20:24:35.155Z"
   },
   {
    "duration": 27,
    "start_time": "2023-03-12T20:24:50.188Z"
   },
   {
    "duration": 26,
    "start_time": "2023-03-12T20:25:11.501Z"
   },
   {
    "duration": 34,
    "start_time": "2023-03-12T20:25:20.341Z"
   },
   {
    "duration": 27,
    "start_time": "2023-03-12T20:25:27.918Z"
   },
   {
    "duration": 4,
    "start_time": "2023-03-12T20:25:33.595Z"
   },
   {
    "duration": 1050,
    "start_time": "2023-03-12T20:25:33.601Z"
   },
   {
    "duration": 4,
    "start_time": "2023-03-12T20:25:34.653Z"
   },
   {
    "duration": 153,
    "start_time": "2023-03-12T20:25:34.673Z"
   },
   {
    "duration": 730,
    "start_time": "2023-03-12T20:25:34.829Z"
   },
   {
    "duration": 16,
    "start_time": "2023-03-12T20:25:35.561Z"
   },
   {
    "duration": 60,
    "start_time": "2023-03-12T20:25:35.579Z"
   },
   {
    "duration": 124,
    "start_time": "2023-03-12T20:25:35.641Z"
   },
   {
    "duration": 7,
    "start_time": "2023-03-12T20:25:35.767Z"
   },
   {
    "duration": 1797,
    "start_time": "2023-03-12T20:25:35.776Z"
   },
   {
    "duration": 788,
    "start_time": "2023-03-12T20:25:37.575Z"
   },
   {
    "duration": 42,
    "start_time": "2023-03-12T20:25:38.364Z"
   },
   {
    "duration": 27,
    "start_time": "2023-03-12T20:25:38.408Z"
   },
   {
    "duration": 4,
    "start_time": "2023-03-12T20:25:49.371Z"
   },
   {
    "duration": 996,
    "start_time": "2023-03-12T20:25:49.377Z"
   },
   {
    "duration": 4,
    "start_time": "2023-03-12T20:25:50.375Z"
   },
   {
    "duration": 202,
    "start_time": "2023-03-12T20:25:50.381Z"
   },
   {
    "duration": 701,
    "start_time": "2023-03-12T20:25:50.586Z"
   },
   {
    "duration": 5,
    "start_time": "2023-03-12T20:25:51.289Z"
   },
   {
    "duration": 42,
    "start_time": "2023-03-12T20:25:51.296Z"
   },
   {
    "duration": 113,
    "start_time": "2023-03-12T20:25:51.340Z"
   },
   {
    "duration": 5,
    "start_time": "2023-03-12T20:25:51.455Z"
   },
   {
    "duration": 1747,
    "start_time": "2023-03-12T20:25:51.461Z"
   },
   {
    "duration": 779,
    "start_time": "2023-03-12T20:25:53.210Z"
   },
   {
    "duration": 35,
    "start_time": "2023-03-12T20:25:53.991Z"
   },
   {
    "duration": 26,
    "start_time": "2023-03-12T20:25:54.028Z"
   },
   {
    "duration": 28,
    "start_time": "2023-03-12T20:26:25.047Z"
   },
   {
    "duration": 4,
    "start_time": "2023-03-12T20:26:28.033Z"
   },
   {
    "duration": 1026,
    "start_time": "2023-03-12T20:26:28.039Z"
   },
   {
    "duration": 7,
    "start_time": "2023-03-12T20:26:29.067Z"
   },
   {
    "duration": 160,
    "start_time": "2023-03-12T20:26:29.075Z"
   },
   {
    "duration": 676,
    "start_time": "2023-03-12T20:26:29.238Z"
   },
   {
    "duration": 6,
    "start_time": "2023-03-12T20:26:29.916Z"
   },
   {
    "duration": 58,
    "start_time": "2023-03-12T20:26:29.923Z"
   },
   {
    "duration": 108,
    "start_time": "2023-03-12T20:26:29.983Z"
   },
   {
    "duration": 4,
    "start_time": "2023-03-12T20:26:30.093Z"
   },
   {
    "duration": 1853,
    "start_time": "2023-03-12T20:26:30.099Z"
   },
   {
    "duration": 783,
    "start_time": "2023-03-12T20:26:31.954Z"
   },
   {
    "duration": 43,
    "start_time": "2023-03-12T20:26:32.739Z"
   },
   {
    "duration": 28,
    "start_time": "2023-03-12T20:26:32.784Z"
   },
   {
    "duration": 4,
    "start_time": "2023-03-12T20:26:40.177Z"
   },
   {
    "duration": 1067,
    "start_time": "2023-03-12T20:26:40.183Z"
   },
   {
    "duration": 5,
    "start_time": "2023-03-12T20:26:41.252Z"
   },
   {
    "duration": 167,
    "start_time": "2023-03-12T20:26:41.259Z"
   },
   {
    "duration": 697,
    "start_time": "2023-03-12T20:26:41.429Z"
   },
   {
    "duration": 7,
    "start_time": "2023-03-12T20:26:42.128Z"
   },
   {
    "duration": 56,
    "start_time": "2023-03-12T20:26:42.137Z"
   },
   {
    "duration": 111,
    "start_time": "2023-03-12T20:26:42.196Z"
   },
   {
    "duration": 5,
    "start_time": "2023-03-12T20:26:42.309Z"
   },
   {
    "duration": 1834,
    "start_time": "2023-03-12T20:26:42.316Z"
   },
   {
    "duration": 833,
    "start_time": "2023-03-12T20:26:44.153Z"
   },
   {
    "duration": 37,
    "start_time": "2023-03-12T20:26:44.987Z"
   },
   {
    "duration": 29,
    "start_time": "2023-03-12T20:26:45.025Z"
   },
   {
    "duration": 5,
    "start_time": "2023-03-12T20:26:56.088Z"
   },
   {
    "duration": 1048,
    "start_time": "2023-03-12T20:26:56.095Z"
   },
   {
    "duration": 4,
    "start_time": "2023-03-12T20:26:57.145Z"
   },
   {
    "duration": 168,
    "start_time": "2023-03-12T20:26:57.151Z"
   },
   {
    "duration": 717,
    "start_time": "2023-03-12T20:26:57.321Z"
   },
   {
    "duration": 7,
    "start_time": "2023-03-12T20:26:58.040Z"
   },
   {
    "duration": 58,
    "start_time": "2023-03-12T20:26:58.049Z"
   },
   {
    "duration": 113,
    "start_time": "2023-03-12T20:26:58.110Z"
   },
   {
    "duration": 5,
    "start_time": "2023-03-12T20:26:58.225Z"
   },
   {
    "duration": 1862,
    "start_time": "2023-03-12T20:26:58.234Z"
   },
   {
    "duration": 829,
    "start_time": "2023-03-12T20:27:00.099Z"
   },
   {
    "duration": 36,
    "start_time": "2023-03-12T20:27:00.929Z"
   },
   {
    "duration": 29,
    "start_time": "2023-03-12T20:27:00.973Z"
   },
   {
    "duration": 4,
    "start_time": "2023-03-12T20:27:22.255Z"
   },
   {
    "duration": 1019,
    "start_time": "2023-03-12T20:27:22.274Z"
   },
   {
    "duration": 4,
    "start_time": "2023-03-12T20:27:23.295Z"
   },
   {
    "duration": 166,
    "start_time": "2023-03-12T20:27:23.300Z"
   },
   {
    "duration": 733,
    "start_time": "2023-03-12T20:27:23.467Z"
   },
   {
    "duration": 7,
    "start_time": "2023-03-12T20:27:24.202Z"
   },
   {
    "duration": 63,
    "start_time": "2023-03-12T20:27:24.211Z"
   },
   {
    "duration": 115,
    "start_time": "2023-03-12T20:27:24.276Z"
   },
   {
    "duration": 6,
    "start_time": "2023-03-12T20:27:24.393Z"
   },
   {
    "duration": 1768,
    "start_time": "2023-03-12T20:27:24.401Z"
   },
   {
    "duration": 796,
    "start_time": "2023-03-12T20:27:26.172Z"
   },
   {
    "duration": 36,
    "start_time": "2023-03-12T20:27:26.972Z"
   },
   {
    "duration": 26,
    "start_time": "2023-03-12T20:27:27.010Z"
   },
   {
    "duration": 5,
    "start_time": "2023-03-12T20:27:46.511Z"
   },
   {
    "duration": 1027,
    "start_time": "2023-03-12T20:27:46.519Z"
   },
   {
    "duration": 5,
    "start_time": "2023-03-12T20:27:47.548Z"
   },
   {
    "duration": 163,
    "start_time": "2023-03-12T20:27:47.555Z"
   },
   {
    "duration": 689,
    "start_time": "2023-03-12T20:27:47.721Z"
   },
   {
    "duration": 6,
    "start_time": "2023-03-12T20:27:48.412Z"
   },
   {
    "duration": 56,
    "start_time": "2023-03-12T20:27:48.420Z"
   },
   {
    "duration": 114,
    "start_time": "2023-03-12T20:27:48.478Z"
   },
   {
    "duration": 4,
    "start_time": "2023-03-12T20:27:48.594Z"
   },
   {
    "duration": 1984,
    "start_time": "2023-03-12T20:27:48.600Z"
   },
   {
    "duration": 817,
    "start_time": "2023-03-12T20:27:50.587Z"
   },
   {
    "duration": 35,
    "start_time": "2023-03-12T20:27:51.406Z"
   },
   {
    "duration": 41,
    "start_time": "2023-03-12T20:27:51.443Z"
   },
   {
    "duration": 4,
    "start_time": "2023-03-12T20:28:38.318Z"
   },
   {
    "duration": 1055,
    "start_time": "2023-03-12T20:28:38.324Z"
   },
   {
    "duration": 4,
    "start_time": "2023-03-12T20:28:39.381Z"
   },
   {
    "duration": 170,
    "start_time": "2023-03-12T20:28:39.387Z"
   },
   {
    "duration": 739,
    "start_time": "2023-03-12T20:28:39.559Z"
   },
   {
    "duration": 6,
    "start_time": "2023-03-12T20:28:40.300Z"
   },
   {
    "duration": 47,
    "start_time": "2023-03-12T20:28:40.308Z"
   },
   {
    "duration": 141,
    "start_time": "2023-03-12T20:28:40.360Z"
   },
   {
    "duration": 5,
    "start_time": "2023-03-12T20:28:40.504Z"
   },
   {
    "duration": 1801,
    "start_time": "2023-03-12T20:28:40.511Z"
   },
   {
    "duration": 796,
    "start_time": "2023-03-12T20:28:42.314Z"
   },
   {
    "duration": 35,
    "start_time": "2023-03-12T20:28:43.112Z"
   },
   {
    "duration": 44,
    "start_time": "2023-03-12T20:28:43.149Z"
   },
   {
    "duration": 4,
    "start_time": "2023-03-12T20:28:56.773Z"
   },
   {
    "duration": 1031,
    "start_time": "2023-03-12T20:28:56.778Z"
   },
   {
    "duration": 4,
    "start_time": "2023-03-12T20:28:57.811Z"
   },
   {
    "duration": 163,
    "start_time": "2023-03-12T20:28:57.818Z"
   },
   {
    "duration": 698,
    "start_time": "2023-03-12T20:28:57.984Z"
   },
   {
    "duration": 6,
    "start_time": "2023-03-12T20:28:58.683Z"
   },
   {
    "duration": 44,
    "start_time": "2023-03-12T20:28:58.691Z"
   },
   {
    "duration": 114,
    "start_time": "2023-03-12T20:28:58.737Z"
   },
   {
    "duration": 3,
    "start_time": "2023-03-12T20:28:58.853Z"
   },
   {
    "duration": 1834,
    "start_time": "2023-03-12T20:28:58.859Z"
   },
   {
    "duration": 810,
    "start_time": "2023-03-12T20:29:00.695Z"
   },
   {
    "duration": 37,
    "start_time": "2023-03-12T20:29:01.507Z"
   },
   {
    "duration": 42,
    "start_time": "2023-03-12T20:29:01.546Z"
   },
   {
    "duration": 4,
    "start_time": "2023-03-12T20:29:14.350Z"
   },
   {
    "duration": 982,
    "start_time": "2023-03-12T20:29:14.356Z"
   },
   {
    "duration": 4,
    "start_time": "2023-03-12T20:29:15.340Z"
   },
   {
    "duration": 158,
    "start_time": "2023-03-12T20:29:15.346Z"
   },
   {
    "duration": 684,
    "start_time": "2023-03-12T20:29:15.506Z"
   },
   {
    "duration": 6,
    "start_time": "2023-03-12T20:29:16.191Z"
   },
   {
    "duration": 43,
    "start_time": "2023-03-12T20:29:16.199Z"
   },
   {
    "duration": 108,
    "start_time": "2023-03-12T20:29:16.244Z"
   },
   {
    "duration": 5,
    "start_time": "2023-03-12T20:29:16.354Z"
   },
   {
    "duration": 1763,
    "start_time": "2023-03-12T20:29:16.374Z"
   },
   {
    "duration": 762,
    "start_time": "2023-03-12T20:29:18.139Z"
   },
   {
    "duration": 38,
    "start_time": "2023-03-12T20:29:18.903Z"
   },
   {
    "duration": 46,
    "start_time": "2023-03-12T20:29:18.943Z"
   },
   {
    "duration": 5,
    "start_time": "2023-03-12T20:30:28.300Z"
   },
   {
    "duration": 1024,
    "start_time": "2023-03-12T20:30:28.307Z"
   },
   {
    "duration": 4,
    "start_time": "2023-03-12T20:30:29.333Z"
   },
   {
    "duration": 169,
    "start_time": "2023-03-12T20:30:29.339Z"
   },
   {
    "duration": 682,
    "start_time": "2023-03-12T20:30:29.510Z"
   },
   {
    "duration": 6,
    "start_time": "2023-03-12T20:30:30.194Z"
   },
   {
    "duration": 61,
    "start_time": "2023-03-12T20:30:30.201Z"
   },
   {
    "duration": 100,
    "start_time": "2023-03-12T20:30:30.264Z"
   },
   {
    "duration": 10,
    "start_time": "2023-03-12T20:30:30.365Z"
   },
   {
    "duration": 1862,
    "start_time": "2023-03-12T20:30:30.378Z"
   },
   {
    "duration": 806,
    "start_time": "2023-03-12T20:30:32.242Z"
   },
   {
    "duration": 40,
    "start_time": "2023-03-12T20:30:33.050Z"
   },
   {
    "duration": 26,
    "start_time": "2023-03-12T20:30:33.092Z"
   },
   {
    "duration": 394,
    "start_time": "2023-03-12T20:32:08.785Z"
   },
   {
    "duration": 48,
    "start_time": "2023-03-12T20:37:42.794Z"
   },
   {
    "duration": 967,
    "start_time": "2023-03-12T21:44:53.187Z"
   },
   {
    "duration": 4,
    "start_time": "2023-03-12T21:45:13.266Z"
   },
   {
    "duration": 986,
    "start_time": "2023-03-12T21:45:13.271Z"
   },
   {
    "duration": 5,
    "start_time": "2023-03-12T21:45:14.259Z"
   },
   {
    "duration": 162,
    "start_time": "2023-03-12T21:45:14.274Z"
   },
   {
    "duration": 694,
    "start_time": "2023-03-12T21:45:14.439Z"
   },
   {
    "duration": 5,
    "start_time": "2023-03-12T21:45:15.135Z"
   },
   {
    "duration": 60,
    "start_time": "2023-03-12T21:45:15.142Z"
   },
   {
    "duration": 108,
    "start_time": "2023-03-12T21:45:15.204Z"
   },
   {
    "duration": 5,
    "start_time": "2023-03-12T21:45:15.314Z"
   },
   {
    "duration": 1787,
    "start_time": "2023-03-12T21:45:15.321Z"
   },
   {
    "duration": 759,
    "start_time": "2023-03-12T21:45:17.110Z"
   },
   {
    "duration": 27,
    "start_time": "2023-03-12T21:45:17.873Z"
   },
   {
    "duration": 26,
    "start_time": "2023-03-12T21:45:17.902Z"
   },
   {
    "duration": 66,
    "start_time": "2023-03-12T21:45:17.930Z"
   },
   {
    "duration": 405,
    "start_time": "2023-03-12T21:45:17.999Z"
   },
   {
    "duration": 957,
    "start_time": "2023-03-12T21:45:18.406Z"
   },
   {
    "duration": 1360,
    "start_time": "2023-03-12T21:46:14.916Z"
   },
   {
    "duration": 1459,
    "start_time": "2023-03-12T21:46:36.940Z"
   },
   {
    "duration": 85374,
    "start_time": "2023-03-12T21:50:32.501Z"
   },
   {
    "duration": 20477,
    "start_time": "2023-03-12T21:53:42.804Z"
   },
   {
    "duration": 200,
    "start_time": "2023-03-12T21:54:55.474Z"
   },
   {
    "duration": 80,
    "start_time": "2023-03-12T22:00:16.709Z"
   },
   {
    "duration": 789,
    "start_time": "2023-03-12T22:00:43.676Z"
   },
   {
    "duration": 80,
    "start_time": "2023-03-12T22:02:26.881Z"
   },
   {
    "duration": 17713,
    "start_time": "2023-03-12T22:02:30.351Z"
   },
   {
    "duration": 3,
    "start_time": "2023-03-12T22:04:08.802Z"
   },
   {
    "duration": 85,
    "start_time": "2023-03-12T22:05:35.989Z"
   },
   {
    "duration": 87,
    "start_time": "2023-03-12T22:05:54.644Z"
   },
   {
    "duration": 604,
    "start_time": "2023-03-12T22:05:58.821Z"
   },
   {
    "duration": 5,
    "start_time": "2023-03-12T22:06:42.371Z"
   },
   {
    "duration": 77,
    "start_time": "2023-03-12T22:07:05.091Z"
   },
   {
    "duration": 475709,
    "start_time": "2023-03-12T22:07:07.293Z"
   },
   {
    "duration": 5,
    "start_time": "2023-03-12T22:16:16.677Z"
   },
   {
    "duration": 158045,
    "start_time": "2023-03-12T22:16:52.943Z"
   },
   {
    "duration": 658,
    "start_time": "2023-03-12T22:20:37.317Z"
   },
   {
    "duration": 181,
    "start_time": "2023-03-12T22:20:43.107Z"
   },
   {
    "duration": 522033,
    "start_time": "2023-03-12T22:20:48.052Z"
   },
   {
    "duration": 4,
    "start_time": "2023-03-12T22:30:42.084Z"
   },
   {
    "duration": 54,
    "start_time": "2023-03-12T22:31:14.765Z"
   },
   {
    "duration": 14961,
    "start_time": "2023-03-12T22:31:31.735Z"
   },
   {
    "duration": 3030,
    "start_time": "2023-03-12T22:32:11.863Z"
   },
   {
    "duration": 1687,
    "start_time": "2023-03-13T21:29:22.065Z"
   },
   {
    "duration": 3,
    "start_time": "2023-03-13T21:29:23.756Z"
   },
   {
    "duration": 1553,
    "start_time": "2023-03-13T21:29:23.761Z"
   },
   {
    "duration": 4,
    "start_time": "2023-03-13T21:29:25.318Z"
   },
   {
    "duration": 133,
    "start_time": "2023-03-13T21:29:25.323Z"
   },
   {
    "duration": 950,
    "start_time": "2023-03-13T21:29:25.458Z"
   },
   {
    "duration": 8,
    "start_time": "2023-03-13T21:29:26.414Z"
   },
   {
    "duration": 72,
    "start_time": "2023-03-13T21:29:26.424Z"
   },
   {
    "duration": 89,
    "start_time": "2023-03-13T21:29:26.498Z"
   },
   {
    "duration": 8,
    "start_time": "2023-03-13T21:29:26.590Z"
   },
   {
    "duration": 1723,
    "start_time": "2023-03-13T21:29:26.600Z"
   },
   {
    "duration": 778,
    "start_time": "2023-03-13T21:29:28.324Z"
   },
   {
    "duration": 41,
    "start_time": "2023-03-13T21:29:29.108Z"
   },
   {
    "duration": 49,
    "start_time": "2023-03-13T21:29:29.151Z"
   },
   {
    "duration": 45,
    "start_time": "2023-03-13T21:29:29.208Z"
   },
   {
    "duration": 404,
    "start_time": "2023-03-13T21:29:29.255Z"
   },
   {
    "duration": 1592,
    "start_time": "2023-03-13T21:29:29.660Z"
   },
   {
    "duration": 226035,
    "start_time": "2023-03-13T21:29:31.254Z"
   },
   {
    "duration": 39992,
    "start_time": "2023-03-13T21:33:17.317Z"
   },
   {
    "duration": 371,
    "start_time": "2023-03-13T21:33:57.319Z"
   },
   {
    "duration": 141,
    "start_time": "2023-03-13T21:33:57.692Z"
   },
   {
    "duration": 498691,
    "start_time": "2023-03-13T21:33:57.835Z"
   },
   {
    "duration": 4,
    "start_time": "2023-03-13T21:42:16.528Z"
   },
   {
    "duration": 162101,
    "start_time": "2023-03-13T21:42:16.534Z"
   },
   {
    "duration": 693,
    "start_time": "2023-03-13T21:44:58.637Z"
   },
   {
    "duration": 185,
    "start_time": "2023-03-13T21:44:59.332Z"
   },
   {
    "duration": 1808,
    "start_time": "2023-03-15T19:48:32.732Z"
   },
   {
    "duration": 4,
    "start_time": "2023-03-15T19:48:34.542Z"
   },
   {
    "duration": 1452,
    "start_time": "2023-03-15T19:48:34.548Z"
   },
   {
    "duration": 5,
    "start_time": "2023-03-15T19:48:36.002Z"
   },
   {
    "duration": 212,
    "start_time": "2023-03-15T19:48:36.009Z"
   },
   {
    "duration": 790,
    "start_time": "2023-03-15T19:48:36.222Z"
   },
   {
    "duration": 7,
    "start_time": "2023-03-15T19:48:37.014Z"
   },
   {
    "duration": 45,
    "start_time": "2023-03-15T19:48:37.023Z"
   },
   {
    "duration": 104,
    "start_time": "2023-03-15T19:48:37.069Z"
   },
   {
    "duration": 4,
    "start_time": "2023-03-15T19:48:37.176Z"
   },
   {
    "duration": 1831,
    "start_time": "2023-03-15T19:48:37.181Z"
   },
   {
    "duration": 811,
    "start_time": "2023-03-15T19:48:39.014Z"
   },
   {
    "duration": 50,
    "start_time": "2023-03-15T19:48:39.827Z"
   },
   {
    "duration": 28,
    "start_time": "2023-03-15T19:48:39.880Z"
   },
   {
    "duration": 19,
    "start_time": "2023-03-15T19:48:45.131Z"
   },
   {
    "duration": 21,
    "start_time": "2023-03-15T19:49:11.642Z"
   },
   {
    "duration": 23,
    "start_time": "2023-03-15T19:49:20.843Z"
   },
   {
    "duration": 4,
    "start_time": "2023-03-15T19:49:28.456Z"
   },
   {
    "duration": 31,
    "start_time": "2023-03-15T19:49:28.462Z"
   },
   {
    "duration": 1049,
    "start_time": "2023-03-15T19:49:28.495Z"
   },
   {
    "duration": 4,
    "start_time": "2023-03-15T19:49:29.545Z"
   },
   {
    "duration": 174,
    "start_time": "2023-03-15T19:49:29.552Z"
   },
   {
    "duration": 686,
    "start_time": "2023-03-15T19:49:29.728Z"
   },
   {
    "duration": 7,
    "start_time": "2023-03-15T19:49:30.416Z"
   },
   {
    "duration": 80,
    "start_time": "2023-03-15T19:49:30.425Z"
   },
   {
    "duration": 155,
    "start_time": "2023-03-15T19:49:30.508Z"
   },
   {
    "duration": 12,
    "start_time": "2023-03-15T19:49:30.665Z"
   },
   {
    "duration": 1824,
    "start_time": "2023-03-15T19:49:30.678Z"
   },
   {
    "duration": 796,
    "start_time": "2023-03-15T19:49:32.504Z"
   },
   {
    "duration": 31,
    "start_time": "2023-03-15T19:49:33.302Z"
   },
   {
    "duration": 39,
    "start_time": "2023-03-15T19:49:33.335Z"
   },
   {
    "duration": 24,
    "start_time": "2023-03-15T19:49:37.965Z"
   },
   {
    "duration": 26,
    "start_time": "2023-03-15T19:49:52.948Z"
   },
   {
    "duration": 6,
    "start_time": "2023-03-15T19:51:52.794Z"
   },
   {
    "duration": 19,
    "start_time": "2023-03-15T19:51:52.802Z"
   },
   {
    "duration": 1052,
    "start_time": "2023-03-15T19:51:52.823Z"
   },
   {
    "duration": 5,
    "start_time": "2023-03-15T19:51:53.876Z"
   },
   {
    "duration": 150,
    "start_time": "2023-03-15T19:51:53.883Z"
   },
   {
    "duration": 746,
    "start_time": "2023-03-15T19:51:54.034Z"
   },
   {
    "duration": 7,
    "start_time": "2023-03-15T19:51:54.781Z"
   },
   {
    "duration": 43,
    "start_time": "2023-03-15T19:51:54.790Z"
   },
   {
    "duration": 119,
    "start_time": "2023-03-15T19:51:54.835Z"
   },
   {
    "duration": 17,
    "start_time": "2023-03-15T19:51:54.956Z"
   },
   {
    "duration": 1921,
    "start_time": "2023-03-15T19:51:54.975Z"
   },
   {
    "duration": 951,
    "start_time": "2023-03-15T19:51:56.898Z"
   },
   {
    "duration": 53,
    "start_time": "2023-03-15T19:51:57.850Z"
   },
   {
    "duration": 27,
    "start_time": "2023-03-15T19:51:57.906Z"
   },
   {
    "duration": 58,
    "start_time": "2023-03-15T19:51:57.935Z"
   },
   {
    "duration": 45,
    "start_time": "2023-03-15T19:51:57.995Z"
   },
   {
    "duration": 417,
    "start_time": "2023-03-15T19:51:58.042Z"
   },
   {
    "duration": 125,
    "start_time": "2023-03-15T20:09:16.645Z"
   },
   {
    "duration": 943,
    "start_time": "2023-03-15T20:09:53.422Z"
   },
   {
    "duration": 53,
    "start_time": "2023-03-15T20:11:17.187Z"
   },
   {
    "duration": 51,
    "start_time": "2023-03-15T20:14:22.142Z"
   },
   {
    "duration": 4,
    "start_time": "2023-03-15T20:46:13.715Z"
   },
   {
    "duration": 4,
    "start_time": "2023-03-15T20:46:40.843Z"
   },
   {
    "duration": 82,
    "start_time": "2023-03-15T20:52:33.541Z"
   },
   {
    "duration": 80,
    "start_time": "2023-03-15T20:52:43.292Z"
   },
   {
    "duration": 82,
    "start_time": "2023-03-15T20:53:02.519Z"
   },
   {
    "duration": 45,
    "start_time": "2023-03-15T20:54:54.729Z"
   },
   {
    "duration": 4,
    "start_time": "2023-03-15T20:56:21.504Z"
   },
   {
    "duration": 7,
    "start_time": "2023-03-15T20:56:21.510Z"
   },
   {
    "duration": 1018,
    "start_time": "2023-03-15T20:56:21.519Z"
   },
   {
    "duration": 4,
    "start_time": "2023-03-15T20:56:22.539Z"
   },
   {
    "duration": 153,
    "start_time": "2023-03-15T20:56:22.545Z"
   },
   {
    "duration": 689,
    "start_time": "2023-03-15T20:56:22.700Z"
   },
   {
    "duration": 7,
    "start_time": "2023-03-15T20:56:23.391Z"
   },
   {
    "duration": 44,
    "start_time": "2023-03-15T20:56:23.399Z"
   },
   {
    "duration": 111,
    "start_time": "2023-03-15T20:56:23.445Z"
   },
   {
    "duration": 4,
    "start_time": "2023-03-15T20:56:23.557Z"
   },
   {
    "duration": 1800,
    "start_time": "2023-03-15T20:56:23.563Z"
   },
   {
    "duration": 768,
    "start_time": "2023-03-15T20:56:25.365Z"
   },
   {
    "duration": 39,
    "start_time": "2023-03-15T20:56:26.135Z"
   },
   {
    "duration": 28,
    "start_time": "2023-03-15T20:56:26.177Z"
   },
   {
    "duration": 24,
    "start_time": "2023-03-15T20:56:26.206Z"
   },
   {
    "duration": 62,
    "start_time": "2023-03-15T20:56:26.232Z"
   },
   {
    "duration": 401,
    "start_time": "2023-03-15T20:56:26.296Z"
   },
   {
    "duration": 909,
    "start_time": "2023-03-15T20:56:26.699Z"
   },
   {
    "duration": 4,
    "start_time": "2023-03-15T20:56:27.609Z"
   },
   {
    "duration": 98,
    "start_time": "2023-03-15T20:56:27.616Z"
   },
   {
    "duration": 83757,
    "start_time": "2023-03-15T20:56:27.716Z"
   },
   {
    "duration": 21098,
    "start_time": "2023-03-15T20:57:51.477Z"
   },
   {
    "duration": 298,
    "start_time": "2023-03-15T20:58:12.577Z"
   },
   {
    "duration": 77,
    "start_time": "2023-03-15T22:31:24.518Z"
   },
   {
    "duration": 458085,
    "start_time": "2023-03-15T22:31:34.099Z"
   },
   {
    "duration": 105960,
    "start_time": "2023-03-15T22:40:22.878Z"
   },
   {
    "duration": 203,
    "start_time": "2023-03-15T22:51:47.769Z"
   },
   {
    "duration": 5,
    "start_time": "2023-03-15T22:52:36.137Z"
   },
   {
    "duration": 5,
    "start_time": "2023-03-15T23:00:27.029Z"
   },
   {
    "duration": 9,
    "start_time": "2023-03-15T23:00:27.037Z"
   },
   {
    "duration": 938,
    "start_time": "2023-03-15T23:00:27.047Z"
   },
   {
    "duration": 4,
    "start_time": "2023-03-15T23:00:27.987Z"
   },
   {
    "duration": 149,
    "start_time": "2023-03-15T23:00:27.994Z"
   },
   {
    "duration": 665,
    "start_time": "2023-03-15T23:00:28.145Z"
   },
   {
    "duration": 6,
    "start_time": "2023-03-15T23:00:28.812Z"
   },
   {
    "duration": 54,
    "start_time": "2023-03-15T23:00:28.819Z"
   },
   {
    "duration": 105,
    "start_time": "2023-03-15T23:00:28.875Z"
   },
   {
    "duration": 5,
    "start_time": "2023-03-15T23:00:28.983Z"
   },
   {
    "duration": 1703,
    "start_time": "2023-03-15T23:00:28.990Z"
   },
   {
    "duration": 870,
    "start_time": "2023-03-15T23:00:30.695Z"
   },
   {
    "duration": 31,
    "start_time": "2023-03-15T23:00:31.567Z"
   },
   {
    "duration": 37,
    "start_time": "2023-03-15T23:00:31.601Z"
   },
   {
    "duration": 35,
    "start_time": "2023-03-15T23:00:31.640Z"
   },
   {
    "duration": 34,
    "start_time": "2023-03-15T23:00:31.677Z"
   },
   {
    "duration": 429,
    "start_time": "2023-03-15T23:00:31.712Z"
   },
   {
    "duration": 915,
    "start_time": "2023-03-15T23:00:32.142Z"
   },
   {
    "duration": 4,
    "start_time": "2023-03-15T23:00:33.059Z"
   },
   {
    "duration": 93,
    "start_time": "2023-03-15T23:00:33.064Z"
   },
   {
    "duration": 83123,
    "start_time": "2023-03-15T23:00:33.160Z"
   },
   {
    "duration": 19508,
    "start_time": "2023-03-15T23:01:56.374Z"
   },
   {
    "duration": 194,
    "start_time": "2023-03-15T23:02:15.884Z"
   },
   {
    "duration": 8,
    "start_time": "2023-03-15T23:02:16.174Z"
   },
   {
    "duration": 84,
    "start_time": "2023-03-15T23:02:16.274Z"
   },
   {
    "duration": 462047,
    "start_time": "2023-03-15T23:02:16.361Z"
   },
   {
    "duration": 4,
    "start_time": "2023-03-15T23:09:58.409Z"
   },
   {
    "duration": 106239,
    "start_time": "2023-03-15T23:09:58.414Z"
   },
   {
    "duration": 155207,
    "start_time": "2023-03-15T23:11:44.655Z"
   },
   {
    "duration": 667,
    "start_time": "2023-03-15T23:14:19.864Z"
   },
   {
    "duration": 6,
    "start_time": "2023-03-15T23:14:20.534Z"
   },
   {
    "duration": 204,
    "start_time": "2023-03-15T23:14:20.542Z"
   },
   {
    "duration": 643328,
    "start_time": "2023-03-15T23:14:20.747Z"
   },
   {
    "duration": 4,
    "start_time": "2023-03-15T23:25:04.077Z"
   },
   {
    "duration": 71706,
    "start_time": "2023-03-15T23:25:04.084Z"
   },
   {
    "duration": 18490,
    "start_time": "2023-03-15T23:26:15.791Z"
   },
   {
    "duration": 3131,
    "start_time": "2023-03-15T23:26:34.283Z"
   },
   {
    "duration": 59,
    "start_time": "2023-03-15T23:26:37.416Z"
   },
   {
    "duration": 9,
    "start_time": "2023-03-15T23:28:18.244Z"
   },
   {
    "duration": 15726,
    "start_time": "2023-03-15T23:30:02.711Z"
   },
   {
    "duration": 24480,
    "start_time": "2023-03-15T23:30:20.625Z"
   },
   {
    "duration": 32653,
    "start_time": "2023-03-15T23:30:50.249Z"
   },
   {
    "duration": 1526,
    "start_time": "2023-03-16T09:14:40.602Z"
   },
   {
    "duration": 2,
    "start_time": "2023-03-16T09:14:42.131Z"
   },
   {
    "duration": 2959,
    "start_time": "2023-03-16T09:14:42.135Z"
   },
   {
    "duration": 5,
    "start_time": "2023-03-16T09:14:45.096Z"
   },
   {
    "duration": 144,
    "start_time": "2023-03-16T09:14:45.103Z"
   },
   {
    "duration": 706,
    "start_time": "2023-03-16T09:14:45.248Z"
   },
   {
    "duration": 7,
    "start_time": "2023-03-16T09:14:45.956Z"
   },
   {
    "duration": 39,
    "start_time": "2023-03-16T09:14:45.965Z"
   },
   {
    "duration": 114,
    "start_time": "2023-03-16T09:14:46.006Z"
   },
   {
    "duration": 4,
    "start_time": "2023-03-16T09:14:46.122Z"
   },
   {
    "duration": 1553,
    "start_time": "2023-03-16T09:14:46.127Z"
   },
   {
    "duration": 659,
    "start_time": "2023-03-16T09:14:47.682Z"
   },
   {
    "duration": 34,
    "start_time": "2023-03-16T09:14:48.343Z"
   },
   {
    "duration": 24,
    "start_time": "2023-03-16T09:14:48.380Z"
   },
   {
    "duration": 22,
    "start_time": "2023-03-16T09:14:48.405Z"
   },
   {
    "duration": 60,
    "start_time": "2023-03-16T09:14:48.428Z"
   },
   {
    "duration": 376,
    "start_time": "2023-03-16T09:14:48.490Z"
   },
   {
    "duration": 653,
    "start_time": "2023-03-16T09:14:48.868Z"
   },
   {
    "duration": 3,
    "start_time": "2023-03-16T09:14:49.523Z"
   },
   {
    "duration": 70,
    "start_time": "2023-03-16T09:14:49.528Z"
   },
   {
    "duration": 79355,
    "start_time": "2023-03-16T09:14:49.600Z"
   },
   {
    "duration": 18604,
    "start_time": "2023-03-16T09:16:08.957Z"
   },
   {
    "duration": 197,
    "start_time": "2023-03-16T09:16:27.563Z"
   },
   {
    "duration": 95,
    "start_time": "2023-03-16T09:16:27.762Z"
   },
   {
    "duration": 145,
    "start_time": "2023-03-16T09:16:27.864Z"
   },
   {
    "duration": 425300,
    "start_time": "2023-03-16T09:16:28.011Z"
   },
   {
    "duration": 3,
    "start_time": "2023-03-16T09:23:33.312Z"
   },
   {
    "duration": 1630,
    "start_time": "2023-03-16T09:23:33.317Z"
   },
   {
    "duration": 146244,
    "start_time": "2023-03-16T09:23:34.948Z"
   },
   {
    "duration": 539,
    "start_time": "2023-03-16T09:26:01.194Z"
   },
   {
    "duration": 4,
    "start_time": "2023-03-16T09:26:01.734Z"
   },
   {
    "duration": 189,
    "start_time": "2023-03-16T09:26:01.739Z"
   },
   {
    "duration": 977432,
    "start_time": "2023-03-16T09:26:01.929Z"
   },
   {
    "duration": 4,
    "start_time": "2023-03-16T09:42:19.362Z"
   },
   {
    "duration": 76294,
    "start_time": "2023-03-16T09:42:19.368Z"
   },
   {
    "duration": 14800,
    "start_time": "2023-03-16T09:43:35.664Z"
   },
   {
    "duration": 2903,
    "start_time": "2023-03-16T09:43:50.466Z"
   },
   {
    "duration": 4,
    "start_time": "2023-03-16T09:43:53.371Z"
   },
   {
    "duration": 4,
    "start_time": "2023-03-16T09:43:53.379Z"
   },
   {
    "duration": 3,
    "start_time": "2023-03-16T09:43:53.384Z"
   },
   {
    "duration": 872,
    "start_time": "2023-03-16T09:43:53.389Z"
   },
   {
    "duration": 4,
    "start_time": "2023-03-16T09:43:54.263Z"
   },
   {
    "duration": 123,
    "start_time": "2023-03-16T09:43:54.268Z"
   },
   {
    "duration": 609,
    "start_time": "2023-03-16T09:43:54.393Z"
   },
   {
    "duration": 7,
    "start_time": "2023-03-16T09:43:55.004Z"
   },
   {
    "duration": 53,
    "start_time": "2023-03-16T09:43:55.013Z"
   },
   {
    "duration": 90,
    "start_time": "2023-03-16T09:43:55.068Z"
   },
   {
    "duration": 5,
    "start_time": "2023-03-16T09:43:55.159Z"
   },
   {
    "duration": 1645,
    "start_time": "2023-03-16T09:43:55.166Z"
   },
   {
    "duration": 703,
    "start_time": "2023-03-16T09:43:56.813Z"
   },
   {
    "duration": 43,
    "start_time": "2023-03-16T09:43:57.518Z"
   },
   {
    "duration": 24,
    "start_time": "2023-03-16T09:43:57.563Z"
   },
   {
    "duration": 23,
    "start_time": "2023-03-16T09:43:57.589Z"
   },
   {
    "duration": 65,
    "start_time": "2023-03-16T09:43:57.614Z"
   },
   {
    "duration": 368,
    "start_time": "2023-03-16T09:43:57.680Z"
   },
   {
    "duration": 677,
    "start_time": "2023-03-16T09:43:58.054Z"
   },
   {
    "duration": 3,
    "start_time": "2023-03-16T09:43:58.733Z"
   },
   {
    "duration": 72,
    "start_time": "2023-03-16T09:43:58.737Z"
   },
   {
    "duration": 61247,
    "start_time": "2023-03-16T09:43:58.810Z"
   },
   {
    "duration": 17808,
    "start_time": "2023-03-16T09:45:00.059Z"
   },
   {
    "duration": 203,
    "start_time": "2023-03-16T09:45:17.956Z"
   },
   {
    "duration": 96,
    "start_time": "2023-03-16T09:45:18.160Z"
   },
   {
    "duration": 55,
    "start_time": "2023-03-16T09:45:18.257Z"
   },
   {
    "duration": 428677,
    "start_time": "2023-03-16T09:45:18.314Z"
   },
   {
    "duration": 5,
    "start_time": "2023-03-16T09:52:26.992Z"
   },
   {
    "duration": 90600,
    "start_time": "2023-03-16T09:52:26.999Z"
   },
   {
    "duration": 1466,
    "start_time": "2023-03-16T20:08:26.663Z"
   },
   {
    "duration": 3,
    "start_time": "2023-03-16T20:08:28.131Z"
   },
   {
    "duration": 1019,
    "start_time": "2023-03-16T20:08:28.136Z"
   },
   {
    "duration": 4,
    "start_time": "2023-03-16T20:08:29.157Z"
   },
   {
    "duration": 103,
    "start_time": "2023-03-16T20:08:29.163Z"
   },
   {
    "duration": 679,
    "start_time": "2023-03-16T20:08:29.267Z"
   },
   {
    "duration": 7,
    "start_time": "2023-03-16T20:08:29.948Z"
   },
   {
    "duration": 51,
    "start_time": "2023-03-16T20:08:29.957Z"
   },
   {
    "duration": 89,
    "start_time": "2023-03-16T20:08:30.009Z"
   },
   {
    "duration": 3,
    "start_time": "2023-03-16T20:08:30.100Z"
   },
   {
    "duration": 1422,
    "start_time": "2023-03-16T20:08:30.104Z"
   },
   {
    "duration": 653,
    "start_time": "2023-03-16T20:08:31.528Z"
   },
   {
    "duration": 33,
    "start_time": "2023-03-16T20:08:32.183Z"
   },
   {
    "duration": 23,
    "start_time": "2023-03-16T20:08:32.218Z"
   },
   {
    "duration": 38,
    "start_time": "2023-03-16T20:08:32.243Z"
   },
   {
    "duration": 35,
    "start_time": "2023-03-16T20:08:32.282Z"
   },
   {
    "duration": 368,
    "start_time": "2023-03-16T20:08:32.319Z"
   },
   {
    "duration": 640,
    "start_time": "2023-03-16T20:08:32.688Z"
   },
   {
    "duration": 2,
    "start_time": "2023-03-16T20:08:33.330Z"
   },
   {
    "duration": 68,
    "start_time": "2023-03-16T20:08:33.334Z"
   },
   {
    "duration": 79581,
    "start_time": "2023-03-16T20:08:33.404Z"
   },
   {
    "duration": 20994,
    "start_time": "2023-03-16T20:09:52.986Z"
   },
   {
    "duration": 117,
    "start_time": "2023-03-16T20:10:13.981Z"
   },
   {
    "duration": 98,
    "start_time": "2023-03-16T20:10:14.181Z"
   },
   {
    "duration": 55,
    "start_time": "2023-03-16T20:10:14.280Z"
   },
   {
    "duration": 383908,
    "start_time": "2023-03-16T20:10:14.337Z"
   },
   {
    "duration": 3,
    "start_time": "2023-03-16T20:16:38.246Z"
   },
   {
    "duration": 80869,
    "start_time": "2023-03-16T20:16:38.252Z"
   },
   {
    "duration": 133179,
    "start_time": "2023-03-16T20:17:59.122Z"
   },
   {
    "duration": 473,
    "start_time": "2023-03-16T20:20:12.302Z"
   },
   {
    "duration": 4,
    "start_time": "2023-03-16T20:20:12.778Z"
   },
   {
    "duration": 149,
    "start_time": "2023-03-16T20:20:12.784Z"
   },
   {
    "duration": 968756,
    "start_time": "2023-03-16T20:20:12.935Z"
   },
   {
    "duration": 4,
    "start_time": "2023-03-16T20:36:21.692Z"
   },
   {
    "duration": 113485,
    "start_time": "2023-03-16T20:36:21.697Z"
   },
   {
    "duration": 13505,
    "start_time": "2023-03-16T20:38:15.183Z"
   },
   {
    "duration": 2606,
    "start_time": "2023-03-16T20:38:28.690Z"
   },
   {
    "duration": 4,
    "start_time": "2023-03-16T20:38:31.297Z"
   },
   {
    "duration": 9,
    "start_time": "2023-03-16T20:44:24.405Z"
   },
   {
    "duration": 128452,
    "start_time": "2023-03-16T20:45:27.128Z"
   },
   {
    "duration": 5,
    "start_time": "2023-03-16T20:47:35.582Z"
   },
   {
    "duration": 17,
    "start_time": "2023-03-16T20:47:35.588Z"
   },
   {
    "duration": 4,
    "start_time": "2023-03-16T20:49:44.807Z"
   },
   {
    "duration": 9,
    "start_time": "2023-03-16T20:49:49.375Z"
   }
  ],
  "kernelspec": {
   "display_name": "Python 3 (ipykernel)",
   "language": "python",
   "name": "python3"
  },
  "language_info": {
   "codemirror_mode": {
    "name": "ipython",
    "version": 3
   },
   "file_extension": ".py",
   "mimetype": "text/x-python",
   "name": "python",
   "nbconvert_exporter": "python",
   "pygments_lexer": "ipython3",
   "version": "3.9.12"
  },
  "toc": {
   "base_numbering": 1,
   "nav_menu": {},
   "number_sections": true,
   "sideBar": true,
   "skip_h1_title": true,
   "title_cell": "Table of Contents",
   "title_sidebar": "Contents",
   "toc_cell": false,
   "toc_position": {},
   "toc_section_display": true,
   "toc_window_display": false
  }
 },
 "nbformat": 4,
 "nbformat_minor": 2
}

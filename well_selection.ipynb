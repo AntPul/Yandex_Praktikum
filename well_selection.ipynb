{
 "cells": [
  {
   "cell_type": "markdown",
   "metadata": {},
   "source": [
    "# Выбор локации для скважины"
   ]
  },
  {
   "cell_type": "markdown",
   "metadata": {},
   "source": [
    "Допустим, вы работаете в добывающей компании «ГлавРосГосНефть». Нужно решить, где бурить новую скважину.\n",
    "\n",
    "Вам предоставлены пробы нефти в трёх регионах: в каждом 10 000 месторождений, где измерили качество нефти и объём её запасов. Постройте модель машинного обучения, которая поможет определить регион, где добыча принесёт наибольшую прибыль. Проанализируйте возможную прибыль и риски техникой *Bootstrap.*\n",
    "\n",
    "Шаги для выбора локации:\n",
    "\n",
    "- В избранном регионе ищут месторождения, для каждого определяют значения признаков;\n",
    "- Строят модель и оценивают объём запасов;\n",
    "- Выбирают месторождения с самым высокими оценками значений. Количество месторождений зависит от бюджета компании и стоимости разработки одной скважины;\n",
    "- Прибыль равна суммарной прибыли отобранных месторождений."
   ]
  },
  {
   "cell_type": "markdown",
   "metadata": {},
   "source": [
    "## Загрузка и подготовка данных"
   ]
  },
  {
   "cell_type": "code",
   "execution_count": 1,
   "metadata": {},
   "outputs": [],
   "source": [
    "import pandas as pd\n",
    "import numpy as np\n",
    "import matplotlib.pyplot as plt\n",
    "import seaborn as sns\n",
    "import warnings\n",
    "\n",
    "from sklearn.model_selection import (\n",
    "    train_test_split\n",
    ")\n",
    "from sklearn.linear_model import (\n",
    "    LinearRegression\n",
    ")\n",
    "from sklearn.linear_model import (\n",
    "    LinearRegression    \n",
    ")\n",
    "from sklearn.preprocessing import (\n",
    "    OneHotEncoder,\n",
    "    OrdinalEncoder,\n",
    "    StandardScaler\n",
    ")\n",
    "from sklearn.metrics import (\n",
    "    mean_squared_error\n",
    ")\n",
    "from scipy import stats as st"
   ]
  },
  {
   "cell_type": "code",
   "execution_count": 2,
   "metadata": {},
   "outputs": [],
   "source": [
    "BUDGET = 1e10\n",
    "DEVELOPMENT_POINTS = 200\n",
    "PRICE = 4.5*10**5\n",
    "# основные данные бюджет, кол-во разрабатываемых точек в регионе, цена за 1 ед продукта"
   ]
  },
  {
   "cell_type": "code",
   "execution_count": 3,
   "metadata": {},
   "outputs": [],
   "source": [
    "data_0 = pd.read_csv('/datasets/geo_data_0.csv')\n",
    "data_1 = pd.read_csv('/datasets/geo_data_1.csv')\n",
    "data_2 = pd.read_csv('/datasets/geo_data_2.csv')\n",
    "# загружаем датасеты 3-х регионов"
   ]
  },
  {
   "cell_type": "code",
   "execution_count": 4,
   "metadata": {
    "scrolled": true
   },
   "outputs": [
    {
     "name": "stdout",
     "output_type": "stream",
     "text": [
      "      id        f0        f1        f2     product\n",
      "0  txEyH  0.705745 -0.497823  1.221170  105.280062\n",
      "1  2acmU  1.334711 -0.340164  4.365080   73.037750\n",
      "2  409Wp  1.022732  0.151990  1.419926   85.265647\n",
      "3  iJLyR -0.032172  0.139033  2.978566  168.620776\n",
      "4  Xdl7t  1.988431  0.155413  4.751769  154.036647\n",
      "<class 'pandas.core.frame.DataFrame'>\n",
      "RangeIndex: 100000 entries, 0 to 99999\n",
      "Data columns (total 5 columns):\n",
      " #   Column   Non-Null Count   Dtype  \n",
      "---  ------   --------------   -----  \n",
      " 0   id       100000 non-null  object \n",
      " 1   f0       100000 non-null  float64\n",
      " 2   f1       100000 non-null  float64\n",
      " 3   f2       100000 non-null  float64\n",
      " 4   product  100000 non-null  float64\n",
      "dtypes: float64(4), object(1)\n",
      "memory usage: 3.8+ MB\n",
      "None\n",
      "0\n",
      "                  f0             f1             f2        product\n",
      "count  100000.000000  100000.000000  100000.000000  100000.000000\n",
      "mean        0.500419       0.250143       2.502647      92.500000\n",
      "std         0.871832       0.504433       3.248248      44.288691\n",
      "min        -1.408605      -0.848218     -12.088328       0.000000\n",
      "25%        -0.072580      -0.200881       0.287748      56.497507\n",
      "50%         0.502360       0.250252       2.515969      91.849972\n",
      "75%         1.073581       0.700646       4.715088     128.564089\n",
      "max         2.362331       1.343769      16.003790     185.364347\n"
     ]
    }
   ],
   "source": [
    "print(data_0.head())\n",
    "print(data_0.info())\n",
    "print(data_0.duplicated().sum())\n",
    "print(data_0.describe())\n",
    "# оцениваем данные датасета региона № 0"
   ]
  },
  {
   "cell_type": "code",
   "execution_count": 5,
   "metadata": {},
   "outputs": [
    {
     "data": {
      "image/png": "[encoded data removed]",
      "text/plain": [
       "<Figure size 432x288 with 2 Axes>"
      ]
     },
     "metadata": {
      "needs_background": "light"
     },
     "output_type": "display_data"
    }
   ],
   "source": [
    "sns.heatmap(data_0.corr()[['product']], vmin = -1, vmax = +1, annot = True, cmap = 'coolwarm')\n",
    "plt.title('Корреляция features c target Регион 0')\n",
    "plt.show()"
   ]
  },
  {
   "cell_type": "code",
   "execution_count": 6,
   "metadata": {},
   "outputs": [
    {
     "name": "stdout",
     "output_type": "stream",
     "text": [
      "      id         f0         f1        f2     product\n",
      "0  kBEdx -15.001348  -8.276000 -0.005876    3.179103\n",
      "1  62mP7  14.272088  -3.475083  0.999183   26.953261\n",
      "2  vyE1P   6.263187  -5.948386  5.001160  134.766305\n",
      "3  KcrkZ -13.081196 -11.506057  4.999415  137.945408\n",
      "4  AHL4O  12.702195  -8.147433  5.004363  134.766305\n",
      "<class 'pandas.core.frame.DataFrame'>\n",
      "RangeIndex: 100000 entries, 0 to 99999\n",
      "Data columns (total 5 columns):\n",
      " #   Column   Non-Null Count   Dtype  \n",
      "---  ------   --------------   -----  \n",
      " 0   id       100000 non-null  object \n",
      " 1   f0       100000 non-null  float64\n",
      " 2   f1       100000 non-null  float64\n",
      " 3   f2       100000 non-null  float64\n",
      " 4   product  100000 non-null  float64\n",
      "dtypes: float64(4), object(1)\n",
      "memory usage: 3.8+ MB\n",
      "None\n",
      "0\n",
      "                  f0             f1             f2        product\n",
      "count  100000.000000  100000.000000  100000.000000  100000.000000\n",
      "mean        1.141296      -4.796579       2.494541      68.825000\n",
      "std         8.965932       5.119872       1.703572      45.944423\n",
      "min       -31.609576     -26.358598      -0.018144       0.000000\n",
      "25%        -6.298551      -8.267985       1.000021      26.953261\n",
      "50%         1.153055      -4.813172       2.011479      57.085625\n",
      "75%         8.621015      -1.332816       3.999904     107.813044\n",
      "max        29.421755      18.734063       5.019721     137.945408\n"
     ]
    }
   ],
   "source": [
    "print(data_1.head())\n",
    "print(data_1.info())\n",
    "print(data_1.duplicated().sum())\n",
    "print(data_1.describe())\n",
    "# оцениваем данные датасета региона № 1"
   ]
  },
  {
   "cell_type": "code",
   "execution_count": 7,
   "metadata": {},
   "outputs": [
    {
     "data": {
      "image/png": "[encoded data removed]",
      "text/plain": [
       "<Figure size 432x288 with 2 Axes>"
      ]
     },
     "metadata": {
      "needs_background": "light"
     },
     "output_type": "display_data"
    }
   ],
   "source": [
    "sns.heatmap(data_1.corr()[['product']], vmin = -1, vmax = +1, annot = True, cmap = 'coolwarm')\n",
    "plt.title('Корреляция features c target Регион 1')\n",
    "plt.show()"
   ]
  },
  {
   "cell_type": "code",
   "execution_count": 8,
   "metadata": {
    "scrolled": true
   },
   "outputs": [
    {
     "name": "stdout",
     "output_type": "stream",
     "text": [
      "      id        f0        f1        f2     product\n",
      "0  fwXo0 -1.146987  0.963328 -0.828965   27.758673\n",
      "1  WJtFt  0.262778  0.269839 -2.530187   56.069697\n",
      "2  ovLUW  0.194587  0.289035 -5.586433   62.871910\n",
      "3  q6cA6  2.236060 -0.553760  0.930038  114.572842\n",
      "4  WPMUX -0.515993  1.716266  5.899011  149.600746\n",
      "<class 'pandas.core.frame.DataFrame'>\n",
      "RangeIndex: 100000 entries, 0 to 99999\n",
      "Data columns (total 5 columns):\n",
      " #   Column   Non-Null Count   Dtype  \n",
      "---  ------   --------------   -----  \n",
      " 0   id       100000 non-null  object \n",
      " 1   f0       100000 non-null  float64\n",
      " 2   f1       100000 non-null  float64\n",
      " 3   f2       100000 non-null  float64\n",
      " 4   product  100000 non-null  float64\n",
      "dtypes: float64(4), object(1)\n",
      "memory usage: 3.8+ MB\n",
      "None\n",
      "0\n",
      "                  f0             f1             f2        product\n",
      "count  100000.000000  100000.000000  100000.000000  100000.000000\n",
      "mean        0.002023      -0.002081       2.495128      95.000000\n",
      "std         1.732045       1.730417       3.473445      44.749921\n",
      "min        -8.760004      -7.084020     -11.970335       0.000000\n",
      "25%        -1.162288      -1.174820       0.130359      59.450441\n",
      "50%         0.009424      -0.009482       2.484236      94.925613\n",
      "75%         1.158535       1.163678       4.858794     130.595027\n",
      "max         7.238262       7.844801      16.739402     190.029838\n"
     ]
    }
   ],
   "source": [
    "print(data_2.head())\n",
    "print(data_2.info())\n",
    "print(data_2.duplicated().sum())\n",
    "print(data_2.describe())\n",
    "# оцениваем данные датасета региона № 2"
   ]
  },
  {
   "cell_type": "code",
   "execution_count": 9,
   "metadata": {},
   "outputs": [
    {
     "data": {
      "image/png": "[encoded data removed]",
      "text/plain": [
       "<Figure size 432x288 with 2 Axes>"
      ]
     },
     "metadata": {
      "needs_background": "light"
     },
     "output_type": "display_data"
    }
   ],
   "source": [
    "sns.heatmap(data_2.corr()[['product']], vmin = -1, vmax = +1, annot = True, cmap = 'coolwarm')\n",
    "plt.title('Корреляция features c target Регион 2')\n",
    "plt.show()"
   ]
  },
  {
   "cell_type": "code",
   "execution_count": 10,
   "metadata": {},
   "outputs": [
    {
     "name": "stdout",
     "output_type": "stream",
     "text": [
      "Index(['f0', 'f1', 'f2', 'product'], dtype='object')\n",
      "Index(['f0', 'f1', 'f2', 'product'], dtype='object')\n",
      "Index(['f0', 'f1', 'f2', 'product'], dtype='object')\n"
     ]
    }
   ],
   "source": [
    "data_0_ohe = data_0.drop('id', axis=1)\n",
    "data_1_ohe = data_1.drop('id', axis=1)\n",
    "data_2_ohe = data_2.drop('id', axis=1)\n",
    "    \n",
    "for i in [data_0_ohe, data_1_ohe, data_2_ohe]:\n",
    "    print(i.columns)    \n",
    "# удаляем столбец id в датасетах т.к. он лишний для обучения"
   ]
  },
  {
   "cell_type": "code",
   "execution_count": 11,
   "metadata": {},
   "outputs": [],
   "source": [
    "features_0 = data_0_ohe.drop('product', axis=1)\n",
    "features_1 = data_1_ohe.drop('product', axis=1)\n",
    "features_2 = data_2_ohe.drop('product', axis=1)\n",
    "\n",
    "target_0 = data_0_ohe['product']\n",
    "target_1 = data_1_ohe['product']\n",
    "target_2 = data_2_ohe['product']\n",
    "\n",
    "# подготавливаем фичи для дальнейшего маштабирования\n",
    "# и таргеты"
   ]
  },
  {
   "cell_type": "markdown",
   "metadata": {},
   "source": [
    "<div class=\"alert alert-block alert-info\"><b>\n",
    "**Выводы**\n",
    "\n",
    "- Загрузили данные по регионам 0, 1 и 2 в датасеты data_0, data_1 и data_2\n",
    "- Ознакомились с оновной информацией датасетов на предмет пропусков, формата данных\n",
    "- Обнаружили в датасете по региону 1 сильную положительную корреляцию признака f2 с целевым признаком product\n",
    "- Уалили из датасетов столбец id т.к. он не нужен для модели\n",
    "- Выделили в отдельные переменные признаки и целевые признаки по всем регионам\n",
    "</b>"
   ]
  },
  {
   "cell_type": "markdown",
   "metadata": {},
   "source": [
    "## Обучение и проверка модели"
   ]
  },
  {
   "cell_type": "code",
   "execution_count": 12,
   "metadata": {},
   "outputs": [],
   "source": [
    "features_0_train, features_0_valid, target_0_train, target_0_valid = train_test_split(\n",
    "    features_0, target_0, test_size=0.25, random_state=12345\n",
    ")\n",
    "\n",
    "features_1_train, features_1_valid, target_1_train, target_1_valid = train_test_split(\n",
    "    features_1, target_1, test_size=0.25, random_state=12345\n",
    ")\n",
    "\n",
    "features_2_train, features_2_valid, target_2_train, target_2_valid = train_test_split(\n",
    "    features_2, target_2, test_size=0.25, random_state=12345\n",
    ")\n",
    "# фичи и таргеты  разбиваем на выборки train/valid в пропорции 75/25\n",
    "\n"
   ]
  },
  {
   "cell_type": "code",
   "execution_count": 13,
   "metadata": {},
   "outputs": [
    {
     "name": "stdout",
     "output_type": "stream",
     "text": [
      "                 f0            f1            f2\n",
      "count  7.500000e+04  7.500000e+04  7.500000e+04\n",
      "mean   1.680907e-16 -3.474554e-17  6.442254e-18\n",
      "std    1.000007e+00  1.000007e+00  1.000007e+00\n",
      "min   -2.186288e+00 -2.178269e+00 -3.890945e+00\n",
      "25%   -6.575544e-01 -8.925344e-01 -6.799576e-01\n",
      "50%    1.878842e-03 -7.407961e-04  4.288679e-03\n",
      "75%    6.571176e-01  8.928514e-01  6.829752e-01\n",
      "max    2.139081e+00  2.169192e+00  4.153623e+00\n",
      "                 f0            f1            f2\n",
      "count  7.500000e+04  7.500000e+04  7.500000e+04\n",
      "mean  -1.136868e-18 -2.717115e-16 -2.030968e-17\n",
      "std    1.000007e+00  1.000007e+00  1.000007e+00\n",
      "min   -3.652789e+00 -4.206546e+00 -1.476535e+00\n",
      "25%   -8.290577e-01 -6.766541e-01 -8.784844e-01\n",
      "50%    1.734177e-03 -1.083306e-03 -2.838957e-01\n",
      "75%    8.349682e-01  6.768381e-01  8.834721e-01\n",
      "max    3.154487e+00  4.588691e+00  1.482457e+00\n",
      "                 f0            f1            f2\n",
      "count  7.500000e+04  7.500000e+04  7.500000e+04\n",
      "mean  -2.122154e-17  7.294905e-18 -8.251770e-17\n",
      "std    1.000007e+00  1.000007e+00  1.000007e+00\n",
      "min   -5.060306e+00 -4.088636e+00 -4.167323e+00\n",
      "25%   -6.716773e-01 -6.783003e-01 -6.785573e-01\n",
      "50%    3.845213e-03 -5.219873e-03 -5.092214e-03\n",
      "75%    6.656278e-01  6.749474e-01  6.802621e-01\n",
      "max    4.176529e+00  4.533914e+00  4.101780e+00\n"
     ]
    }
   ],
   "source": [
    "pd.options.mode.chained_assignment = None\n",
    "\n",
    "numeric = ['f0', 'f1', 'f2']\n",
    "scaler = StandardScaler()\n",
    "\n",
    "def scal(features):\n",
    "    features[numeric] = scaler.fit_transform(features[numeric])\n",
    "    return features[numeric]\n",
    "\n",
    "features_0_train[numeric] = scal(features_0_train)\n",
    "features_0_valid[numeric] = scaler.transform(features_0_valid[numeric])\n",
    "\n",
    "features_1_train[numeric] = scal(features_1_train)\n",
    "features_1_valid[numeric] = scaler.transform(features_1_valid[numeric])\n",
    "\n",
    "features_2_train[numeric] = scal(features_2_train)\n",
    "features_2_valid[numeric] = scaler.transform(features_2_valid[numeric])\n",
    "\n",
    "\n",
    "for i in [features_0_train, features_1_train, features_2_train]:\n",
    "    print(i.describe()) "
   ]
  },
  {
   "cell_type": "code",
   "execution_count": 14,
   "metadata": {},
   "outputs": [
    {
     "name": "stdout",
     "output_type": "stream",
     "text": [
      "                 f0            f1            f2\n",
      "count  25000.000000  25000.000000  25000.000000\n",
      "mean       0.013667      0.000629     -0.004025\n",
      "std        0.999992      1.001848      0.998251\n",
      "min       -2.064269     -2.096946     -4.491004\n",
      "25%       -0.645001     -0.897958     -0.692080\n",
      "50%        0.014689      0.002940     -0.000191\n",
      "75%        0.673651      0.895259      0.671019\n",
      "max        2.067368      2.144367      3.849118\n",
      "                 f0            f1            f2\n",
      "count  25000.000000  25000.000000  25000.000000\n",
      "mean       0.000633     -0.003662     -0.002833\n",
      "std        1.000147      0.994468      1.002369\n",
      "min       -2.886396     -3.998414     -1.476266\n",
      "25%       -0.833219     -0.681979     -0.878589\n",
      "50%        0.000957     -0.012260     -0.285396\n",
      "75%        0.832089      0.668601      0.883444\n",
      "max        2.832540      4.199206      1.482087\n",
      "                 f0            f1            f2\n",
      "count  25000.000000  25000.000000  25000.000000\n",
      "mean      -0.005684      0.006928     -0.003670\n",
      "std        1.000075      0.997780      1.001740\n",
      "min       -4.153552     -3.894765     -3.930552\n",
      "25%       -0.679216     -0.667033     -0.688796\n",
      "50%       -0.000986      0.004229     -0.000954\n",
      "75%        0.668079      0.675134      0.678608\n",
      "max        3.603782      3.944356      3.577696\n"
     ]
    }
   ],
   "source": [
    "for i in [features_0_valid, features_1_valid, features_2_valid]:\n",
    "    print(i.describe()) "
   ]
  },
  {
   "cell_type": "code",
   "execution_count": 15,
   "metadata": {},
   "outputs": [
    {
     "name": "stdout",
     "output_type": "stream",
     "text": [
      "Средний запас предсказанного сырья = 92.59256778438035\n",
      "RMSE = 37.5794217150813\n",
      "Регион 0 (None, None)\n",
      "\n",
      "Средний запас предсказанного сырья = 68.728546895446\n",
      "RMSE = 0.893099286775617\n",
      "Регион 1 (None, None)\n",
      "\n",
      "Средний запас предсказанного сырья = 94.96504596800489\n",
      "RMSE = 40.02970873393434\n",
      "Регион 2 (None, None)\n"
     ]
    }
   ],
   "source": [
    "def model(features_train, target_train, features_valid, target_valid):\n",
    "    model = LinearRegression()\n",
    "    model.fit(features_train, target_train)\n",
    "    predicted_valid = model.predict(features_valid)\n",
    "    mse = mean_squared_error(target_valid, predicted_valid)\n",
    "    return print('Средний запас предсказанного сырья =', predicted_valid.mean()), print(\"RMSE =\", mse ** 0.5)\n",
    "\n",
    "print('Регион 0',model(features_0_train, target_0_train, features_0_valid, target_0_valid))\n",
    "print('')\n",
    "print('Регион 1',model(features_1_train, target_1_train, features_1_valid, target_1_valid))\n",
    "print('')\n",
    "print('Регион 2',model(features_2_train, target_2_train, features_2_valid, target_2_valid))"
   ]
  },
  {
   "cell_type": "markdown",
   "metadata": {},
   "source": [
    "***Выводы:***\n",
    "\n",
    "- Лучшая модель по региону 1 т.к. RMSE = 0.893099286775617 что говорит о высокой точности предсказания.\n",
    "- Модели по региону 0 и 2 имеею RMSE 37.5 и  40 что говорит о высокой не точности предсказаний."
   ]
  },
  {
   "cell_type": "markdown",
   "metadata": {},
   "source": [
    "## Подготовка к расчёту прибыли"
   ]
  },
  {
   "cell_type": "code",
   "execution_count": 16,
   "metadata": {},
   "outputs": [
    {
     "data": {
      "text/plain": [
       "111.11111111111111"
      ]
     },
     "execution_count": 16,
     "metadata": {},
     "output_type": "execute_result"
    }
   ],
   "source": [
    "minimum_volume_point = (\n",
    "    BUDGET / (PRICE * DEVELOPMENT_POINTS)\n",
    ")\n",
    "minimum_volume_point\n",
    "# минимальный объем cкважины для без убыточности"
   ]
  },
  {
   "cell_type": "code",
   "execution_count": 17,
   "metadata": {},
   "outputs": [],
   "source": [
    "def model(features_train, target_train, features_valid):\n",
    "    model = LinearRegression()\n",
    "    model.fit(features_train, target_train)\n",
    "    predicted_valid = model.predict(features_valid)\n",
    "    return predicted_valid\n",
    "\n",
    "predicted_0_valid = model(features_0_train, target_0_train, features_0_valid)\n",
    "predicted_1_valid = model(features_1_train, target_1_train, features_1_valid)\n",
    "predicted_2_valid = model(features_2_train, target_2_train, features_2_valid)"
   ]
  },
  {
   "cell_type": "code",
   "execution_count": 18,
   "metadata": {},
   "outputs": [
    {
     "name": "stdout",
     "output_type": "stream",
     "text": [
      "Регион 0 : 3320826043.1398506\n",
      "Регион 1 : 2415086696.681511\n",
      "Регион 2 : 2710349963.5998325\n"
     ]
    }
   ],
   "source": [
    "def revenue(target, predicted, DEVELOPMENT_POINTS):\n",
    "      \n",
    "    predicted_sorted = pd.Series(predicted, index = target.index)\n",
    "    \n",
    "    predicted_sorted = predicted_sorted.sort_values(ascending=False)\n",
    "    \n",
    "    selected = target[predicted_sorted.index][:DEVELOPMENT_POINTS]\n",
    "    \n",
    "    return (PRICE * selected.sum())-BUDGET\n",
    "\n",
    "print('Регион 0 :', revenue(target_0_valid, predicted_0_valid, DEVELOPMENT_POINTS))\n",
    "print('Регион 1 :', revenue(target_1_valid, predicted_1_valid, DEVELOPMENT_POINTS))\n",
    "print('Регион 2 :', revenue(target_2_valid, predicted_2_valid, DEVELOPMENT_POINTS))"
   ]
  },
  {
   "cell_type": "markdown",
   "metadata": {},
   "source": [
    "***Выводы:***\n",
    "\n",
    "- Средний пказатель объекма продукта в по региону 0  = 92.5, что меньше минимально необходимого равного 111\n",
    "- Средний пказатель объекма продукта в по региону 1  = 68.82, что меньше минимально необходимого равного 111\n",
    "- Средний пказатель объекма продукта в по региону 2  = 95, что меньше минимально необходимого равного 111\n",
    "- Самая высока прибыль прогнозируется по региону 0 (3320826043) далее регион 2 (2710349963) и далее регион 1 (2415086696)"
   ]
  },
  {
   "cell_type": "markdown",
   "metadata": {},
   "source": [
    "## Расчёт прибыли и рисков "
   ]
  },
  {
   "cell_type": "code",
   "execution_count": 19,
   "metadata": {},
   "outputs": [
    {
     "name": "stdout",
     "output_type": "stream",
     "text": [
      "Cреднее регион 0: 92.07859674082927\n",
      "95%-ый доверительный интервал среднего объема регион 0: (91.52959399121603, 92.6275994904425)\n",
      "\n",
      "Cреднее регион 1: 68.72313602435997\n",
      "95%-ый доверительный интервал среднего объема регион 1: (68.15262221257835, 69.2936498361416)\n",
      "\n",
      "Cреднее регион 2: 94.88423280885438\n",
      "95%-ый доверительный интервал среднего объема регион 2: (94.32759294920102, 95.44087266850774)\n"
     ]
    }
   ],
   "source": [
    "confidence_interval_0 = st.t.interval(\n",
    "    0.95, len(target_0_valid)-1, target_0_valid.mean(), target_0_valid.sem())\n",
    "print(\"Cреднее регион 0:\", target_0_valid.mean())\n",
    "print(\"95%-ый доверительный интервал среднего объема регион 0:\", confidence_interval_0)\n",
    "print('')\n",
    "\n",
    "confidence_interval_1 = st.t.interval(\n",
    "    0.95, len(target_1_valid)-1, target_1_valid.mean(), target_1_valid.sem())\n",
    "print(\"Cреднее регион 1:\", target_1_valid.mean())\n",
    "print(\"95%-ый доверительный интервал среднего объема регион 1:\", confidence_interval_1)\n",
    "print('')\n",
    "\n",
    "confidence_interval_2 = st.t.interval(\n",
    "    0.95, len(target_2_valid)-1, target_2_valid.mean(), target_2_valid.sem())\n",
    "print(\"Cреднее регион 2:\", target_2_valid.mean())\n",
    "print(\"95%-ый доверительный интервал среднего объема регион 2:\", confidence_interval_2)"
   ]
  },
  {
   "cell_type": "code",
   "execution_count": 20,
   "metadata": {},
   "outputs": [
    {
     "name": "stdout",
     "output_type": "stream",
     "text": [
      "95%-ый доверительный интервал прибыли-убытка регион 0 (-102090094.83793654, 947976353.3583689)\n",
      "Средняя выручка: 425938526.91059244\n"
     ]
    }
   ],
   "source": [
    "state = np.random.RandomState(12345)\n",
    "values = []\n",
    "for i in range(1000):\n",
    "    \n",
    "    target_subsample = target_0_valid.sample(n=500, replace=True, random_state=state)\n",
    "    \n",
    "    probs_subsample = pd.Series(predicted_0_valid, index = target_0_valid.index)\n",
    "    \n",
    "    probs_subsample = probs_subsample[target_subsample.index]\n",
    "    \n",
    "    values.append(revenue(target_subsample, probs_subsample, DEVELOPMENT_POINTS))\n",
    "\n",
    "values = pd.Series(values)\n",
    "mean = values.mean()\n",
    "\n",
    "lower = values.quantile(.025)\n",
    "upper = values.quantile(.975) \n",
    "\n",
    "print(f'95%-ый доверительный интервал прибыли-убытка регион 0 ({lower}, {upper})')\n",
    "\n",
    "print(\"Средняя выручка:\", mean)"
   ]
  },
  {
   "cell_type": "code",
   "execution_count": 21,
   "metadata": {},
   "outputs": [
    {
     "data": {
      "text/plain": [
       "'Риск убытков Регион 0 = 6.00% '"
      ]
     },
     "execution_count": 21,
     "metadata": {},
     "output_type": "execute_result"
    }
   ],
   "source": [
    "'Риск убытков Регион 0 = {:.2%} '.format((values<0).mean())"
   ]
  },
  {
   "cell_type": "code",
   "execution_count": 22,
   "metadata": {},
   "outputs": [
    {
     "data": {
      "text/plain": [
       "'Риск убытков = 50.00% '"
      ]
     },
     "execution_count": 22,
     "metadata": {},
     "output_type": "execute_result"
    }
   ],
   "source": [
    "#ячейка ревьюера\n",
    "\n",
    "\n",
    "'Риск убытков = {:.2%} '.format((pd.Series([-2, -1, 4, 5])<0).mean())"
   ]
  },
  {
   "cell_type": "code",
   "execution_count": 23,
   "metadata": {},
   "outputs": [
    {
     "name": "stdout",
     "output_type": "stream",
     "text": [
      "95%-ый доверительный интервал прибыли-убытка регион 0 (68873225.37050176, 931547591.2570494)\n",
      "Средняя выручка: 515222773.4432899\n"
     ]
    }
   ],
   "source": [
    "state = np.random.RandomState(12345)\n",
    "    \n",
    "values = []\n",
    "for i in range(1000):\n",
    "    \n",
    "    target_subsample = target_1_valid.sample(n=500, replace=True, random_state=state)\n",
    "    probs_subsample = pd.Series(predicted_1_valid, index = target_1_valid.index)\n",
    "    probs_subsample = probs_subsample[target_subsample.index]\n",
    "    values.append(revenue(target_subsample, probs_subsample, DEVELOPMENT_POINTS))\n",
    "\n",
    "values = pd.Series(values)\n",
    "mean = values.mean()\n",
    "\n",
    "lower = values.quantile(.025)\n",
    "upper = values.quantile(.975) \n",
    "\n",
    "print(f'95%-ый доверительный интервал прибыли-убытка регион 0 ({lower}, {upper})')\n",
    "\n",
    "print(\"Средняя выручка:\", mean)"
   ]
  },
  {
   "cell_type": "code",
   "execution_count": 24,
   "metadata": {},
   "outputs": [
    {
     "data": {
      "text/plain": [
       "'Риск убытков Регион 1 = 1.00% '"
      ]
     },
     "execution_count": 24,
     "metadata": {},
     "output_type": "execute_result"
    }
   ],
   "source": [
    "'Риск убытков Регион 1 = {:.2%} '.format((values<0).mean())"
   ]
  },
  {
   "cell_type": "code",
   "execution_count": 25,
   "metadata": {},
   "outputs": [
    {
     "name": "stdout",
     "output_type": "stream",
     "text": [
      "95%-ый доверительный интервал прибыли-убытка регион 2 (-128880547.32978901, 969706954.1802661)\n",
      "Средняя выручка: 435008362.7827556\n"
     ]
    }
   ],
   "source": [
    "state = np.random.RandomState(12345)\n",
    "    \n",
    "values = []\n",
    "for i in range(1000):\n",
    "    \n",
    "    target_subsample = target_2_valid.sample(n=500, replace=True, random_state=state)\n",
    "    probs_subsample = pd.Series(predicted_2_valid, index = target_2_valid.index)\n",
    "    probs_subsample = probs_subsample[target_subsample.index]\n",
    "    values.append(revenue(target_subsample, probs_subsample, DEVELOPMENT_POINTS))\n",
    "\n",
    "values = pd.Series(values)\n",
    "mean = values.mean()\n",
    "\n",
    "lower = values.quantile(.025) \n",
    "upper = values.quantile(.975) \n",
    "\n",
    "print(f'95%-ый доверительный интервал прибыли-убытка регион 2 ({lower}, {upper})')\n",
    "\n",
    "print(\"Средняя выручка:\", mean)"
   ]
  },
  {
   "cell_type": "code",
   "execution_count": 26,
   "metadata": {},
   "outputs": [
    {
     "data": {
      "text/plain": [
       "'Риск убытков Регион 2 = 6.40% '"
      ]
     },
     "execution_count": 26,
     "metadata": {},
     "output_type": "execute_result"
    }
   ],
   "source": [
    "'Риск убытков Регион 2 = {:.2%} '.format((values<0).mean())"
   ]
  },
  {
   "cell_type": "markdown",
   "metadata": {},
   "source": [
    "<div class=\"alert alert-block alert-info\"><b> \n",
    "  \n",
    "***Выводы:***\n",
    "\n",
    "- Разработку необходимо производить в регионе 1 т.к. риск убытков равен 1%\n",
    "- Регионы 0 и 2 отклоняются т.к. риски убытков более 6%\n",
    "\n"
   ]
  },
  {
   "cell_type": "code",
   "execution_count": 27,
   "metadata": {},
   "outputs": [
    {
     "name": "stdout",
     "output_type": "stream",
     "text": [
      "Начальные данные\n",
      "   pred\n",
      "0     2 \n",
      "    target\n",
      "0       1 \n",
      "\n",
      "Результат семплирования\n",
      "   pred\n",
      "0     2\n",
      "0     2 \n",
      "    target\n",
      "0       1\n",
      "0       1 \n",
      "\n",
      "Результат сопоставления по индексам\n",
      "   pred\n",
      "0     2\n",
      "0     2 \n",
      "    target\n",
      "0       1\n",
      "0       1\n",
      "0       1\n",
      "0       1\n"
     ]
    }
   ],
   "source": [
    "#ячейка ревьюера\n",
    "\n",
    "print('Начальные данные')\n",
    "target = pd.DataFrame({'target': [1]})\n",
    "preds = pd.DataFrame({'pred': [2]})\n",
    "print(preds, '\\n', target, '\\n')\n",
    "print('Результат семплирования')\n",
    "preds_bs = preds.sample(n=2, replace=True)\n",
    "target_bs = target.loc[preds_bs.index]\n",
    "print(preds_bs, '\\n', target_bs, '\\n')\n",
    "print('Результат сопоставления по индексам')\n",
    "preds_sorted = preds_bs.sort_values('pred', ascending=False)\n",
    "target_selected = target_bs.loc[preds_sorted[:2].index]\n",
    "print(preds_sorted, '\\n', target_selected)"
   ]
  },
  {
   "cell_type": "code",
   "execution_count": 28,
   "metadata": {},
   "outputs": [
    {
     "name": "stdout",
     "output_type": "stream",
     "text": [
      "Начальные данные\n",
      "   target  pred\n",
      "0       1     2 \n",
      "\n",
      "Результат семплирования\n",
      "   target  pred\n",
      "0       1     2\n",
      "0       1     2 \n",
      "\n",
      "Таргет соответствующий лучшим предсказаниям\n",
      "target \n",
      " 0    1\n",
      "0    1\n",
      "Name: target, dtype: int64\n"
     ]
    }
   ],
   "source": [
    "#ячейка ревьюера\n",
    "\n",
    "print('Начальные данные')\n",
    "target = pd.DataFrame({'target': [1]})\n",
    "target['pred'] = 2\n",
    "print(target, '\\n')\n",
    "print('Результат семплирования')\n",
    "sample_df = target.sample(n=2, replace=True)\n",
    "print(sample_df, '\\n')\n",
    "print('Таргет соответствующий лучшим предсказаниям')\n",
    "df_sorted = sample_df.sort_values('pred', ascending=False)\n",
    "target_selected = df_sorted['target']\n",
    "print('target', '\\n', target_selected)"
   ]
  }
 ],
 "metadata": {
  "ExecuteTimeLog": [
   {
    "duration": 411,
    "start_time": "2023-01-20T19:50:38.022Z"
   },
   {
    "duration": 938,
    "start_time": "2023-01-20T19:50:40.245Z"
   },
   {
    "duration": 18,
    "start_time": "2023-01-20T19:51:55.999Z"
   },
   {
    "duration": 11,
    "start_time": "2023-01-20T19:53:01.025Z"
   },
   {
    "duration": 10,
    "start_time": "2023-01-20T19:53:03.568Z"
   },
   {
    "duration": 17,
    "start_time": "2023-01-20T19:55:11.547Z"
   },
   {
    "duration": 10,
    "start_time": "2023-01-20T19:56:07.413Z"
   },
   {
    "duration": 15,
    "start_time": "2023-01-20T19:57:05.205Z"
   },
   {
    "duration": 13,
    "start_time": "2023-01-20T19:57:16.462Z"
   },
   {
    "duration": 14,
    "start_time": "2023-01-20T19:57:28.543Z"
   },
   {
    "duration": 14,
    "start_time": "2023-01-20T19:59:40.610Z"
   },
   {
    "duration": 17,
    "start_time": "2023-01-20T20:00:07.308Z"
   },
   {
    "duration": 24,
    "start_time": "2023-01-20T20:01:16.317Z"
   },
   {
    "duration": 16,
    "start_time": "2023-01-20T20:01:44.518Z"
   },
   {
    "duration": 56,
    "start_time": "2023-01-20T20:03:47.488Z"
   },
   {
    "duration": 81,
    "start_time": "2023-01-20T20:04:21.177Z"
   },
   {
    "duration": 68,
    "start_time": "2023-01-20T20:04:37.266Z"
   },
   {
    "duration": 101,
    "start_time": "2023-01-20T20:05:22.156Z"
   },
   {
    "duration": 116,
    "start_time": "2023-01-20T20:06:50.662Z"
   },
   {
    "duration": 85,
    "start_time": "2023-01-20T20:07:09.829Z"
   },
   {
    "duration": 1129,
    "start_time": "2023-01-20T20:22:07.989Z"
   },
   {
    "duration": 68,
    "start_time": "2023-01-20T20:24:53.183Z"
   },
   {
    "duration": 3,
    "start_time": "2023-01-20T20:25:22.117Z"
   },
   {
    "duration": 3,
    "start_time": "2023-01-20T20:25:43.676Z"
   },
   {
    "duration": 4,
    "start_time": "2023-01-20T20:25:49.818Z"
   },
   {
    "duration": 384,
    "start_time": "2023-01-20T20:25:49.824Z"
   },
   {
    "duration": 97,
    "start_time": "2023-01-20T20:25:50.210Z"
   },
   {
    "duration": 104,
    "start_time": "2023-01-20T20:25:50.309Z"
   },
   {
    "duration": 112,
    "start_time": "2023-01-20T20:25:50.415Z"
   },
   {
    "duration": 3,
    "start_time": "2023-01-20T20:25:50.529Z"
   },
   {
    "duration": 35,
    "start_time": "2023-01-20T20:26:11.438Z"
   },
   {
    "duration": 7,
    "start_time": "2023-01-20T20:27:36.836Z"
   },
   {
    "duration": 8,
    "start_time": "2023-01-20T20:28:57.368Z"
   },
   {
    "duration": 8,
    "start_time": "2023-01-20T20:29:03.958Z"
   },
   {
    "duration": 8,
    "start_time": "2023-01-20T20:29:15.904Z"
   },
   {
    "duration": 108,
    "start_time": "2023-01-20T20:33:58.744Z"
   },
   {
    "duration": 11,
    "start_time": "2023-01-20T20:35:55.562Z"
   },
   {
    "duration": 10,
    "start_time": "2023-01-20T20:49:22.328Z"
   },
   {
    "duration": 9,
    "start_time": "2023-01-20T20:49:24.664Z"
   },
   {
    "duration": 36,
    "start_time": "2023-01-20T20:51:04.139Z"
   },
   {
    "duration": 98,
    "start_time": "2023-01-20T20:52:43.064Z"
   },
   {
    "duration": 32,
    "start_time": "2023-01-20T21:17:24.709Z"
   },
   {
    "duration": 9,
    "start_time": "2023-01-20T21:20:38.573Z"
   },
   {
    "duration": 17,
    "start_time": "2023-01-20T21:23:53.984Z"
   },
   {
    "duration": 9,
    "start_time": "2023-01-20T21:24:15.120Z"
   },
   {
    "duration": 15,
    "start_time": "2023-01-20T21:24:19.072Z"
   },
   {
    "duration": 4,
    "start_time": "2023-01-20T21:30:52.907Z"
   },
   {
    "duration": 4,
    "start_time": "2023-01-20T21:31:09.403Z"
   },
   {
    "duration": 27,
    "start_time": "2023-01-20T21:36:27.123Z"
   },
   {
    "duration": 3,
    "start_time": "2023-01-20T21:38:37.919Z"
   },
   {
    "duration": 4,
    "start_time": "2023-01-20T21:41:33.532Z"
   },
   {
    "duration": 10,
    "start_time": "2023-01-20T21:43:16.710Z"
   },
   {
    "duration": 72,
    "start_time": "2023-01-20T21:43:36.031Z"
   },
   {
    "duration": 20,
    "start_time": "2023-01-20T21:45:41.786Z"
   },
   {
    "duration": 17,
    "start_time": "2023-01-20T21:46:28.931Z"
   },
   {
    "duration": 16,
    "start_time": "2023-01-20T21:46:42.254Z"
   },
   {
    "duration": 15,
    "start_time": "2023-01-20T21:50:30.521Z"
   },
   {
    "duration": 14,
    "start_time": "2023-01-20T21:51:05.099Z"
   },
   {
    "duration": 13,
    "start_time": "2023-01-20T21:51:35.369Z"
   },
   {
    "duration": 1518,
    "start_time": "2023-01-21T18:47:12.357Z"
   },
   {
    "duration": 945,
    "start_time": "2023-01-21T18:47:13.876Z"
   },
   {
    "duration": 89,
    "start_time": "2023-01-21T18:47:14.823Z"
   },
   {
    "duration": 88,
    "start_time": "2023-01-21T18:47:14.914Z"
   },
   {
    "duration": 106,
    "start_time": "2023-01-21T18:47:15.004Z"
   },
   {
    "duration": 13,
    "start_time": "2023-01-21T18:47:15.112Z"
   },
   {
    "duration": 43,
    "start_time": "2023-01-21T18:47:15.126Z"
   },
   {
    "duration": 121,
    "start_time": "2023-01-21T18:47:15.171Z"
   },
   {
    "duration": 31,
    "start_time": "2023-01-21T18:47:15.293Z"
   },
   {
    "duration": 35,
    "start_time": "2023-01-21T18:47:15.326Z"
   },
   {
    "duration": 204,
    "start_time": "2023-01-21T18:47:15.363Z"
   },
   {
    "duration": 118,
    "start_time": "2023-01-21T18:47:15.655Z"
   },
   {
    "duration": 95,
    "start_time": "2023-01-21T22:43:17.542Z"
   },
   {
    "duration": 3,
    "start_time": "2023-01-21T22:43:22.126Z"
   },
   {
    "duration": 5,
    "start_time": "2023-01-21T22:43:24.054Z"
   },
   {
    "duration": 3,
    "start_time": "2023-01-21T23:10:02.327Z"
   },
   {
    "duration": 14,
    "start_time": "2023-01-21T23:11:54.714Z"
   },
   {
    "duration": 14,
    "start_time": "2023-01-21T23:13:30.631Z"
   },
   {
    "duration": 13,
    "start_time": "2023-01-21T23:17:10.323Z"
   },
   {
    "duration": 13,
    "start_time": "2023-01-21T23:17:29.722Z"
   },
   {
    "duration": 4,
    "start_time": "2023-01-21T23:20:24.567Z"
   },
   {
    "duration": 8,
    "start_time": "2023-01-21T23:20:47.367Z"
   },
   {
    "duration": 8,
    "start_time": "2023-01-21T23:21:16.183Z"
   },
   {
    "duration": 4,
    "start_time": "2023-01-21T23:21:30.871Z"
   },
   {
    "duration": 416,
    "start_time": "2023-01-21T23:21:30.877Z"
   },
   {
    "duration": 91,
    "start_time": "2023-01-21T23:21:31.295Z"
   },
   {
    "duration": 87,
    "start_time": "2023-01-21T23:21:31.388Z"
   },
   {
    "duration": 118,
    "start_time": "2023-01-21T23:21:31.477Z"
   },
   {
    "duration": 10,
    "start_time": "2023-01-21T23:21:31.597Z"
   },
   {
    "duration": 30,
    "start_time": "2023-01-21T23:21:31.609Z"
   },
   {
    "duration": 99,
    "start_time": "2023-01-21T23:21:31.641Z"
   },
   {
    "duration": 31,
    "start_time": "2023-01-21T23:21:31.741Z"
   },
   {
    "duration": 14,
    "start_time": "2023-01-21T23:21:31.774Z"
   },
   {
    "duration": 107,
    "start_time": "2023-01-21T23:21:31.861Z"
   },
   {
    "duration": 210,
    "start_time": "2023-01-21T23:21:31.970Z"
   },
   {
    "duration": 186,
    "start_time": "2023-01-21T23:21:32.182Z"
   },
   {
    "duration": 5,
    "start_time": "2023-01-21T23:21:32.371Z"
   },
   {
    "duration": 13,
    "start_time": "2023-01-21T23:21:35.921Z"
   },
   {
    "duration": 29,
    "start_time": "2023-01-21T23:22:07.489Z"
   },
   {
    "duration": 25,
    "start_time": "2023-01-21T23:23:31.613Z"
   },
   {
    "duration": 5,
    "start_time": "2023-01-21T23:24:15.093Z"
   },
   {
    "duration": 10,
    "start_time": "2023-01-21T23:24:24.061Z"
   },
   {
    "duration": 10,
    "start_time": "2023-01-21T23:24:28.085Z"
   },
   {
    "duration": 3,
    "start_time": "2023-01-21T23:24:39.638Z"
   },
   {
    "duration": 11,
    "start_time": "2023-01-21T23:26:14.472Z"
   },
   {
    "duration": 21,
    "start_time": "2023-01-21T23:26:55.473Z"
   },
   {
    "duration": 4,
    "start_time": "2023-01-21T23:28:48.768Z"
   },
   {
    "duration": 22,
    "start_time": "2023-01-21T23:29:19.444Z"
   },
   {
    "duration": 9,
    "start_time": "2023-01-21T23:34:05.710Z"
   },
   {
    "duration": 21,
    "start_time": "2023-01-21T23:35:21.952Z"
   },
   {
    "duration": 1422,
    "start_time": "2023-01-22T20:47:51.358Z"
   },
   {
    "duration": 852,
    "start_time": "2023-01-22T20:47:52.782Z"
   },
   {
    "duration": 91,
    "start_time": "2023-01-22T20:47:53.635Z"
   },
   {
    "duration": 89,
    "start_time": "2023-01-22T20:47:53.728Z"
   },
   {
    "duration": 94,
    "start_time": "2023-01-22T20:47:53.820Z"
   },
   {
    "duration": 11,
    "start_time": "2023-01-22T20:47:53.915Z"
   },
   {
    "duration": 54,
    "start_time": "2023-01-22T20:47:53.927Z"
   },
   {
    "duration": 155,
    "start_time": "2023-01-22T20:47:53.983Z"
   },
   {
    "duration": 33,
    "start_time": "2023-01-22T20:47:54.141Z"
   },
   {
    "duration": 128,
    "start_time": "2023-01-22T20:47:54.176Z"
   },
   {
    "duration": 128,
    "start_time": "2023-01-22T20:47:54.307Z"
   },
   {
    "duration": 191,
    "start_time": "2023-01-22T20:47:54.437Z"
   },
   {
    "duration": 217,
    "start_time": "2023-01-22T20:47:54.630Z"
   },
   {
    "duration": 66,
    "start_time": "2023-01-22T20:47:54.849Z"
   },
   {
    "duration": 46,
    "start_time": "2023-01-22T20:47:54.918Z"
   },
   {
    "duration": 3,
    "start_time": "2023-01-22T20:58:02.169Z"
   },
   {
    "duration": 1402,
    "start_time": "2023-01-23T20:14:41.597Z"
   },
   {
    "duration": 1296,
    "start_time": "2023-01-23T20:14:43.001Z"
   },
   {
    "duration": 84,
    "start_time": "2023-01-23T20:14:44.299Z"
   },
   {
    "duration": 81,
    "start_time": "2023-01-23T20:14:44.385Z"
   },
   {
    "duration": 104,
    "start_time": "2023-01-23T20:14:44.468Z"
   },
   {
    "duration": 21,
    "start_time": "2023-01-23T20:14:44.574Z"
   },
   {
    "duration": 10,
    "start_time": "2023-01-23T20:14:44.596Z"
   },
   {
    "duration": 114,
    "start_time": "2023-01-23T20:14:44.608Z"
   },
   {
    "duration": 27,
    "start_time": "2023-01-23T20:14:44.724Z"
   },
   {
    "duration": 55,
    "start_time": "2023-01-23T20:14:44.752Z"
   },
   {
    "duration": 89,
    "start_time": "2023-01-23T20:14:44.811Z"
   },
   {
    "duration": 213,
    "start_time": "2023-01-23T20:14:44.901Z"
   },
   {
    "duration": 197,
    "start_time": "2023-01-23T20:14:45.116Z"
   },
   {
    "duration": 13,
    "start_time": "2023-01-23T20:14:45.316Z"
   },
   {
    "duration": 30,
    "start_time": "2023-01-23T20:14:45.331Z"
   },
   {
    "duration": 3,
    "start_time": "2023-01-23T20:16:09.919Z"
   },
   {
    "duration": 19,
    "start_time": "2023-01-23T20:16:13.285Z"
   },
   {
    "duration": 4,
    "start_time": "2023-01-23T20:17:54.345Z"
   },
   {
    "duration": 4,
    "start_time": "2023-01-23T20:18:11.786Z"
   },
   {
    "duration": 3,
    "start_time": "2023-01-23T20:32:57.907Z"
   },
   {
    "duration": 6,
    "start_time": "2023-01-23T20:37:52.795Z"
   },
   {
    "duration": 7,
    "start_time": "2023-01-23T20:39:00.885Z"
   },
   {
    "duration": 10,
    "start_time": "2023-01-23T20:39:31.406Z"
   },
   {
    "duration": 10,
    "start_time": "2023-01-23T20:40:15.191Z"
   },
   {
    "duration": 11,
    "start_time": "2023-01-23T20:41:06.681Z"
   },
   {
    "duration": 11,
    "start_time": "2023-01-23T20:41:29.313Z"
   },
   {
    "duration": 10,
    "start_time": "2023-01-23T21:05:41.434Z"
   },
   {
    "duration": 97,
    "start_time": "2023-01-23T21:05:43.337Z"
   },
   {
    "duration": 11,
    "start_time": "2023-01-23T21:34:38.024Z"
   },
   {
    "duration": 11,
    "start_time": "2023-01-23T21:35:27.322Z"
   },
   {
    "duration": 11,
    "start_time": "2023-01-23T21:36:20.700Z"
   },
   {
    "duration": 13,
    "start_time": "2023-01-23T21:38:23.623Z"
   },
   {
    "duration": 10,
    "start_time": "2023-01-23T21:39:10.385Z"
   },
   {
    "duration": 1079,
    "start_time": "2023-01-23T21:43:44.241Z"
   },
   {
    "duration": 1060,
    "start_time": "2023-01-23T21:45:52.884Z"
   },
   {
    "duration": 1117,
    "start_time": "2023-01-23T21:50:37.405Z"
   },
   {
    "duration": 1096,
    "start_time": "2023-01-23T21:51:29.095Z"
   },
   {
    "duration": 1033,
    "start_time": "2023-01-23T21:52:53.416Z"
   },
   {
    "duration": 1030,
    "start_time": "2023-01-23T21:54:28.275Z"
   },
   {
    "duration": 1047,
    "start_time": "2023-01-23T21:55:09.476Z"
   },
   {
    "duration": 1037,
    "start_time": "2023-01-23T21:55:18.516Z"
   },
   {
    "duration": 1026,
    "start_time": "2023-01-23T21:55:28.636Z"
   },
   {
    "duration": 12,
    "start_time": "2023-01-23T22:02:41.499Z"
   },
   {
    "duration": 1528,
    "start_time": "2023-01-24T20:40:24.994Z"
   },
   {
    "duration": 1144,
    "start_time": "2023-01-24T20:40:26.524Z"
   },
   {
    "duration": 100,
    "start_time": "2023-01-24T20:40:27.670Z"
   },
   {
    "duration": 95,
    "start_time": "2023-01-24T20:40:27.772Z"
   },
   {
    "duration": 93,
    "start_time": "2023-01-24T20:40:27.869Z"
   },
   {
    "duration": 10,
    "start_time": "2023-01-24T20:40:27.964Z"
   },
   {
    "duration": 18,
    "start_time": "2023-01-24T20:40:27.976Z"
   },
   {
    "duration": 49,
    "start_time": "2023-01-24T20:40:27.995Z"
   },
   {
    "duration": 120,
    "start_time": "2023-01-24T20:40:35.070Z"
   },
   {
    "duration": 15,
    "start_time": "2023-01-24T20:42:19.108Z"
   },
   {
    "duration": 13,
    "start_time": "2023-01-24T20:45:49.180Z"
   },
   {
    "duration": 11,
    "start_time": "2023-01-24T20:46:59.213Z"
   },
   {
    "duration": 19,
    "start_time": "2023-01-24T20:49:33.443Z"
   },
   {
    "duration": 17,
    "start_time": "2023-01-24T20:50:05.570Z"
   },
   {
    "duration": 10,
    "start_time": "2023-01-24T20:50:44.474Z"
   },
   {
    "duration": 4,
    "start_time": "2023-01-24T20:51:22.056Z"
   },
   {
    "duration": 408,
    "start_time": "2023-01-24T20:51:22.062Z"
   },
   {
    "duration": 101,
    "start_time": "2023-01-24T20:51:22.471Z"
   },
   {
    "duration": 94,
    "start_time": "2023-01-24T20:51:22.574Z"
   },
   {
    "duration": 102,
    "start_time": "2023-01-24T20:51:22.670Z"
   },
   {
    "duration": 13,
    "start_time": "2023-01-24T20:51:22.774Z"
   },
   {
    "duration": 14,
    "start_time": "2023-01-24T20:51:22.788Z"
   },
   {
    "duration": 43,
    "start_time": "2023-01-24T20:51:22.803Z"
   },
   {
    "duration": 25,
    "start_time": "2023-01-24T20:51:25.852Z"
   },
   {
    "duration": 12,
    "start_time": "2023-01-24T20:51:45.108Z"
   },
   {
    "duration": 15,
    "start_time": "2023-01-24T20:53:11.806Z"
   },
   {
    "duration": 18,
    "start_time": "2023-01-24T20:53:21.894Z"
   },
   {
    "duration": 18,
    "start_time": "2023-01-24T20:53:36.294Z"
   },
   {
    "duration": 18,
    "start_time": "2023-01-24T20:53:44.768Z"
   },
   {
    "duration": 16,
    "start_time": "2023-01-24T20:54:34.488Z"
   },
   {
    "duration": 13,
    "start_time": "2023-01-24T20:57:47.861Z"
   },
   {
    "duration": 17,
    "start_time": "2023-01-24T20:59:22.344Z"
   },
   {
    "duration": 41,
    "start_time": "2023-01-24T21:01:08.499Z"
   },
   {
    "duration": 107,
    "start_time": "2023-01-24T21:01:58.572Z"
   },
   {
    "duration": 47,
    "start_time": "2023-01-24T21:02:41.741Z"
   },
   {
    "duration": 4,
    "start_time": "2023-01-24T21:11:35.029Z"
   },
   {
    "duration": 385,
    "start_time": "2023-01-24T21:11:35.035Z"
   },
   {
    "duration": 94,
    "start_time": "2023-01-24T21:11:35.422Z"
   },
   {
    "duration": 96,
    "start_time": "2023-01-24T21:11:35.518Z"
   },
   {
    "duration": 98,
    "start_time": "2023-01-24T21:11:35.616Z"
   },
   {
    "duration": 9,
    "start_time": "2023-01-24T21:11:35.715Z"
   },
   {
    "duration": 22,
    "start_time": "2023-01-24T21:11:35.725Z"
   },
   {
    "duration": 40,
    "start_time": "2023-01-24T21:11:35.748Z"
   },
   {
    "duration": 114,
    "start_time": "2023-01-24T21:11:35.790Z"
   },
   {
    "duration": 57,
    "start_time": "2023-01-24T21:11:35.906Z"
   },
   {
    "duration": 75,
    "start_time": "2023-01-24T21:11:35.965Z"
   },
   {
    "duration": 105,
    "start_time": "2023-01-24T21:11:36.043Z"
   },
   {
    "duration": 14,
    "start_time": "2023-01-24T21:11:39.195Z"
   },
   {
    "duration": 4,
    "start_time": "2023-01-24T21:17:15.789Z"
   },
   {
    "duration": 18,
    "start_time": "2023-01-24T21:18:27.718Z"
   },
   {
    "duration": 13,
    "start_time": "2023-01-24T21:19:50.153Z"
   },
   {
    "duration": 189,
    "start_time": "2023-01-24T21:20:44.155Z"
   },
   {
    "duration": 152,
    "start_time": "2023-01-24T21:23:22.791Z"
   },
   {
    "duration": 204,
    "start_time": "2023-01-24T21:24:33.944Z"
   },
   {
    "duration": 140,
    "start_time": "2023-01-24T21:25:14.001Z"
   },
   {
    "duration": 190,
    "start_time": "2023-01-24T21:25:23.154Z"
   },
   {
    "duration": 3,
    "start_time": "2023-01-24T21:28:43.438Z"
   },
   {
    "duration": 5,
    "start_time": "2023-01-24T21:30:14.393Z"
   },
   {
    "duration": 14,
    "start_time": "2023-01-24T21:36:03.315Z"
   },
   {
    "duration": 4,
    "start_time": "2023-01-24T21:39:41.006Z"
   },
   {
    "duration": 25,
    "start_time": "2023-01-24T21:39:41.013Z"
   },
   {
    "duration": 457,
    "start_time": "2023-01-24T21:39:41.041Z"
   },
   {
    "duration": 112,
    "start_time": "2023-01-24T21:39:41.500Z"
   },
   {
    "duration": 111,
    "start_time": "2023-01-24T21:39:41.614Z"
   },
   {
    "duration": 114,
    "start_time": "2023-01-24T21:39:41.726Z"
   },
   {
    "duration": 11,
    "start_time": "2023-01-24T21:39:41.842Z"
   },
   {
    "duration": 23,
    "start_time": "2023-01-24T21:39:41.855Z"
   },
   {
    "duration": 40,
    "start_time": "2023-01-24T21:39:41.882Z"
   },
   {
    "duration": 140,
    "start_time": "2023-01-24T21:39:41.925Z"
   },
   {
    "duration": 48,
    "start_time": "2023-01-24T21:39:42.067Z"
   },
   {
    "duration": 334,
    "start_time": "2023-01-24T21:39:42.117Z"
   },
   {
    "duration": 87,
    "start_time": "2023-01-24T21:39:42.457Z"
   },
   {
    "duration": 18,
    "start_time": "2023-01-24T21:39:46.433Z"
   },
   {
    "duration": 31,
    "start_time": "2023-01-24T21:40:02.841Z"
   },
   {
    "duration": 4,
    "start_time": "2023-01-24T21:57:09.611Z"
   },
   {
    "duration": 6,
    "start_time": "2023-01-24T21:57:09.617Z"
   },
   {
    "duration": 384,
    "start_time": "2023-01-24T21:57:09.625Z"
   },
   {
    "duration": 98,
    "start_time": "2023-01-24T21:57:10.011Z"
   },
   {
    "duration": 92,
    "start_time": "2023-01-24T21:57:10.111Z"
   },
   {
    "duration": 94,
    "start_time": "2023-01-24T21:57:10.205Z"
   },
   {
    "duration": 10,
    "start_time": "2023-01-24T21:57:10.301Z"
   },
   {
    "duration": 11,
    "start_time": "2023-01-24T21:57:10.313Z"
   },
   {
    "duration": 27,
    "start_time": "2023-01-24T21:57:10.339Z"
   },
   {
    "duration": 103,
    "start_time": "2023-01-24T21:57:10.369Z"
   },
   {
    "duration": 40,
    "start_time": "2023-01-24T21:57:10.474Z"
   },
   {
    "duration": 229,
    "start_time": "2023-01-24T21:57:10.515Z"
   },
   {
    "duration": 96,
    "start_time": "2023-01-24T21:57:10.746Z"
   },
   {
    "duration": 109,
    "start_time": "2023-01-24T21:57:10.845Z"
   },
   {
    "duration": 11,
    "start_time": "2023-01-24T21:57:10.956Z"
   },
   {
    "duration": 1463,
    "start_time": "2023-01-24T21:57:21.361Z"
   },
   {
    "duration": 1497,
    "start_time": "2023-01-24T22:04:40.694Z"
   },
   {
    "duration": 1398,
    "start_time": "2023-01-24T22:05:12.559Z"
   },
   {
    "duration": 26,
    "start_time": "2023-01-24T22:11:34.371Z"
   },
   {
    "duration": 4,
    "start_time": "2023-01-24T22:11:46.609Z"
   },
   {
    "duration": 16,
    "start_time": "2023-01-24T22:11:46.616Z"
   },
   {
    "duration": 386,
    "start_time": "2023-01-24T22:11:46.634Z"
   },
   {
    "duration": 93,
    "start_time": "2023-01-24T22:11:47.022Z"
   },
   {
    "duration": 89,
    "start_time": "2023-01-24T22:11:47.118Z"
   },
   {
    "duration": 99,
    "start_time": "2023-01-24T22:11:47.209Z"
   },
   {
    "duration": 9,
    "start_time": "2023-01-24T22:11:47.310Z"
   },
   {
    "duration": 23,
    "start_time": "2023-01-24T22:11:47.321Z"
   },
   {
    "duration": 29,
    "start_time": "2023-01-24T22:11:47.345Z"
   },
   {
    "duration": 113,
    "start_time": "2023-01-24T22:11:47.375Z"
   },
   {
    "duration": 59,
    "start_time": "2023-01-24T22:11:47.489Z"
   },
   {
    "duration": 195,
    "start_time": "2023-01-24T22:11:47.550Z"
   },
   {
    "duration": 5,
    "start_time": "2023-01-24T22:11:47.747Z"
   },
   {
    "duration": 119,
    "start_time": "2023-01-24T22:11:47.755Z"
   },
   {
    "duration": 13,
    "start_time": "2023-01-24T22:11:47.941Z"
   },
   {
    "duration": 1567,
    "start_time": "2023-01-24T22:11:47.956Z"
   },
   {
    "duration": 7,
    "start_time": "2023-01-24T22:11:55.274Z"
   },
   {
    "duration": 4,
    "start_time": "2023-01-24T22:13:38.503Z"
   },
   {
    "duration": 9,
    "start_time": "2023-01-24T22:13:38.509Z"
   },
   {
    "duration": 406,
    "start_time": "2023-01-24T22:13:38.520Z"
   },
   {
    "duration": 111,
    "start_time": "2023-01-24T22:13:38.929Z"
   },
   {
    "duration": 79,
    "start_time": "2023-01-24T22:13:39.041Z"
   },
   {
    "duration": 109,
    "start_time": "2023-01-24T22:13:39.121Z"
   },
   {
    "duration": 14,
    "start_time": "2023-01-24T22:13:39.231Z"
   },
   {
    "duration": 21,
    "start_time": "2023-01-24T22:13:39.247Z"
   },
   {
    "duration": 38,
    "start_time": "2023-01-24T22:13:39.270Z"
   },
   {
    "duration": 110,
    "start_time": "2023-01-24T22:13:39.311Z"
   },
   {
    "duration": 54,
    "start_time": "2023-01-24T22:13:39.423Z"
   },
   {
    "duration": 264,
    "start_time": "2023-01-24T22:13:39.479Z"
   },
   {
    "duration": 94,
    "start_time": "2023-01-24T22:13:39.746Z"
   },
   {
    "duration": 19,
    "start_time": "2023-01-24T22:13:39.842Z"
   },
   {
    "duration": 16,
    "start_time": "2023-01-24T22:13:39.864Z"
   },
   {
    "duration": 1502,
    "start_time": "2023-01-24T22:13:39.882Z"
   },
   {
    "duration": 5,
    "start_time": "2023-01-24T22:13:41.386Z"
   },
   {
    "duration": 14,
    "start_time": "2023-01-24T22:13:41.392Z"
   },
   {
    "duration": 1487,
    "start_time": "2023-01-24T22:13:41.408Z"
   },
   {
    "duration": 5,
    "start_time": "2023-01-24T22:13:49.462Z"
   },
   {
    "duration": 5,
    "start_time": "2023-01-24T22:15:20.365Z"
   },
   {
    "duration": 5,
    "start_time": "2023-01-24T22:15:20.372Z"
   },
   {
    "duration": 383,
    "start_time": "2023-01-24T22:15:20.380Z"
   },
   {
    "duration": 101,
    "start_time": "2023-01-24T22:15:20.765Z"
   },
   {
    "duration": 100,
    "start_time": "2023-01-24T22:15:20.868Z"
   },
   {
    "duration": 91,
    "start_time": "2023-01-24T22:15:20.970Z"
   },
   {
    "duration": 11,
    "start_time": "2023-01-24T22:15:21.063Z"
   },
   {
    "duration": 10,
    "start_time": "2023-01-24T22:15:21.075Z"
   },
   {
    "duration": 25,
    "start_time": "2023-01-24T22:15:21.087Z"
   },
   {
    "duration": 134,
    "start_time": "2023-01-24T22:15:21.115Z"
   },
   {
    "duration": 40,
    "start_time": "2023-01-24T22:15:21.250Z"
   },
   {
    "duration": 251,
    "start_time": "2023-01-24T22:15:21.292Z"
   },
   {
    "duration": 6,
    "start_time": "2023-01-24T22:15:21.545Z"
   },
   {
    "duration": 111,
    "start_time": "2023-01-24T22:15:21.553Z"
   },
   {
    "duration": 11,
    "start_time": "2023-01-24T22:15:21.666Z"
   },
   {
    "duration": 1415,
    "start_time": "2023-01-24T22:15:21.679Z"
   },
   {
    "duration": 4,
    "start_time": "2023-01-24T22:15:23.096Z"
   },
   {
    "duration": 7,
    "start_time": "2023-01-24T22:15:23.102Z"
   },
   {
    "duration": 1415,
    "start_time": "2023-01-24T22:15:23.110Z"
   },
   {
    "duration": 14,
    "start_time": "2023-01-24T22:15:24.527Z"
   },
   {
    "duration": 1462,
    "start_time": "2023-01-24T22:15:24.542Z"
   },
   {
    "duration": 5,
    "start_time": "2023-01-24T22:15:32.416Z"
   },
   {
    "duration": 103,
    "start_time": "2023-01-24T22:40:03.281Z"
   },
   {
    "duration": 299,
    "start_time": "2023-01-24T22:43:37.790Z"
   },
   {
    "duration": 284,
    "start_time": "2023-01-24T22:45:52.817Z"
   },
   {
    "duration": 280,
    "start_time": "2023-01-24T22:47:34.637Z"
   },
   {
    "duration": 387,
    "start_time": "2023-01-24T22:48:08.124Z"
   },
   {
    "duration": 262,
    "start_time": "2023-01-24T22:48:47.454Z"
   },
   {
    "duration": 286,
    "start_time": "2023-01-24T22:48:59.423Z"
   },
   {
    "duration": 257,
    "start_time": "2023-01-24T22:49:35.455Z"
   },
   {
    "duration": 1425,
    "start_time": "2023-01-24T23:04:44.189Z"
   },
   {
    "duration": 3,
    "start_time": "2023-01-24T23:04:45.616Z"
   },
   {
    "duration": 379,
    "start_time": "2023-01-24T23:04:45.620Z"
   },
   {
    "duration": 96,
    "start_time": "2023-01-24T23:04:46.001Z"
   },
   {
    "duration": 319,
    "start_time": "2023-01-24T23:04:46.100Z"
   },
   {
    "duration": 99,
    "start_time": "2023-01-24T23:04:46.421Z"
   },
   {
    "duration": 297,
    "start_time": "2023-01-24T23:04:46.521Z"
   },
   {
    "duration": 97,
    "start_time": "2023-01-24T23:04:46.820Z"
   },
   {
    "duration": 293,
    "start_time": "2023-01-24T23:04:46.918Z"
   },
   {
    "duration": 13,
    "start_time": "2023-01-24T23:04:47.213Z"
   },
   {
    "duration": 22,
    "start_time": "2023-01-24T23:04:47.228Z"
   },
   {
    "duration": 36,
    "start_time": "2023-01-24T23:04:47.251Z"
   },
   {
    "duration": 121,
    "start_time": "2023-01-24T23:04:47.289Z"
   },
   {
    "duration": 51,
    "start_time": "2023-01-24T23:04:47.414Z"
   },
   {
    "duration": 376,
    "start_time": "2023-01-24T23:04:47.467Z"
   },
   {
    "duration": 94,
    "start_time": "2023-01-24T23:04:47.846Z"
   },
   {
    "duration": 209,
    "start_time": "2023-01-24T23:04:47.943Z"
   },
   {
    "duration": 0,
    "start_time": "2023-01-24T23:04:48.154Z"
   },
   {
    "duration": 0,
    "start_time": "2023-01-24T23:04:48.155Z"
   },
   {
    "duration": 0,
    "start_time": "2023-01-24T23:04:48.156Z"
   },
   {
    "duration": 0,
    "start_time": "2023-01-24T23:04:48.158Z"
   },
   {
    "duration": 0,
    "start_time": "2023-01-24T23:04:48.159Z"
   },
   {
    "duration": 0,
    "start_time": "2023-01-24T23:04:48.160Z"
   },
   {
    "duration": 0,
    "start_time": "2023-01-24T23:04:48.161Z"
   },
   {
    "duration": 0,
    "start_time": "2023-01-24T23:04:48.162Z"
   },
   {
    "duration": 3,
    "start_time": "2023-01-24T23:14:23.895Z"
   },
   {
    "duration": 3,
    "start_time": "2023-01-24T23:23:49.679Z"
   },
   {
    "duration": 78,
    "start_time": "2023-01-24T23:23:52.366Z"
   },
   {
    "duration": 11,
    "start_time": "2023-01-24T23:24:07.383Z"
   },
   {
    "duration": 13,
    "start_time": "2023-01-24T23:25:37.689Z"
   },
   {
    "duration": 11,
    "start_time": "2023-01-24T23:26:06.363Z"
   },
   {
    "duration": 391,
    "start_time": "2023-01-24T23:26:26.651Z"
   },
   {
    "duration": 14,
    "start_time": "2023-01-24T23:26:47.227Z"
   },
   {
    "duration": 13,
    "start_time": "2023-01-24T23:26:52.115Z"
   },
   {
    "duration": 106,
    "start_time": "2023-01-24T23:29:50.936Z"
   },
   {
    "duration": 232,
    "start_time": "2023-01-24T23:31:25.026Z"
   },
   {
    "duration": 190,
    "start_time": "2023-01-24T23:32:44.662Z"
   },
   {
    "duration": 4,
    "start_time": "2023-01-24T23:32:51.857Z"
   },
   {
    "duration": 12,
    "start_time": "2023-01-24T23:32:51.863Z"
   },
   {
    "duration": 390,
    "start_time": "2023-01-24T23:32:51.877Z"
   },
   {
    "duration": 102,
    "start_time": "2023-01-24T23:32:52.268Z"
   },
   {
    "duration": 353,
    "start_time": "2023-01-24T23:32:52.373Z"
   },
   {
    "duration": 90,
    "start_time": "2023-01-24T23:32:52.728Z"
   },
   {
    "duration": 292,
    "start_time": "2023-01-24T23:32:52.820Z"
   },
   {
    "duration": 97,
    "start_time": "2023-01-24T23:32:53.114Z"
   },
   {
    "duration": 308,
    "start_time": "2023-01-24T23:32:53.213Z"
   },
   {
    "duration": 21,
    "start_time": "2023-01-24T23:32:53.522Z"
   },
   {
    "duration": 11,
    "start_time": "2023-01-24T23:32:53.545Z"
   },
   {
    "duration": 27,
    "start_time": "2023-01-24T23:32:53.558Z"
   },
   {
    "duration": 126,
    "start_time": "2023-01-24T23:32:53.587Z"
   },
   {
    "duration": 63,
    "start_time": "2023-01-24T23:32:53.716Z"
   },
   {
    "duration": 268,
    "start_time": "2023-01-24T23:32:53.781Z"
   },
   {
    "duration": 94,
    "start_time": "2023-01-24T23:32:54.051Z"
   },
   {
    "duration": 110,
    "start_time": "2023-01-24T23:32:54.148Z"
   },
   {
    "duration": 383,
    "start_time": "2023-01-24T23:32:54.259Z"
   },
   {
    "duration": 103,
    "start_time": "2023-01-24T23:32:54.644Z"
   },
   {
    "duration": 224,
    "start_time": "2023-01-24T23:33:05.429Z"
   },
   {
    "duration": 257,
    "start_time": "2023-01-24T23:33:58.095Z"
   },
   {
    "duration": 3,
    "start_time": "2023-01-24T23:34:12.438Z"
   },
   {
    "duration": 397,
    "start_time": "2023-01-24T23:34:19.350Z"
   },
   {
    "duration": 167,
    "start_time": "2023-01-24T23:37:33.780Z"
   },
   {
    "duration": 217,
    "start_time": "2023-01-24T23:39:07.239Z"
   },
   {
    "duration": 167,
    "start_time": "2023-01-24T23:40:51.274Z"
   },
   {
    "duration": 197,
    "start_time": "2023-01-24T23:42:53.844Z"
   },
   {
    "duration": 21,
    "start_time": "2023-01-24T23:43:09.565Z"
   },
   {
    "duration": 1534,
    "start_time": "2023-01-24T23:43:48.511Z"
   },
   {
    "duration": 21,
    "start_time": "2023-01-24T23:43:59.751Z"
   },
   {
    "duration": 1446,
    "start_time": "2023-01-24T23:44:20.977Z"
   },
   {
    "duration": 6,
    "start_time": "2023-01-24T23:44:32.215Z"
   },
   {
    "duration": 1495,
    "start_time": "2023-01-24T23:44:39.608Z"
   },
   {
    "duration": 5,
    "start_time": "2023-01-24T23:44:48.072Z"
   },
   {
    "duration": 1445,
    "start_time": "2023-01-24T23:45:29.664Z"
   },
   {
    "duration": 3,
    "start_time": "2023-01-24T23:45:31.111Z"
   },
   {
    "duration": 425,
    "start_time": "2023-01-24T23:45:31.116Z"
   },
   {
    "duration": 108,
    "start_time": "2023-01-24T23:45:31.543Z"
   },
   {
    "duration": 306,
    "start_time": "2023-01-24T23:45:31.653Z"
   },
   {
    "duration": 97,
    "start_time": "2023-01-24T23:45:31.962Z"
   },
   {
    "duration": 288,
    "start_time": "2023-01-24T23:45:32.061Z"
   },
   {
    "duration": 105,
    "start_time": "2023-01-24T23:45:32.351Z"
   },
   {
    "duration": 272,
    "start_time": "2023-01-24T23:45:32.457Z"
   },
   {
    "duration": 13,
    "start_time": "2023-01-24T23:45:32.739Z"
   },
   {
    "duration": 27,
    "start_time": "2023-01-24T23:45:32.754Z"
   },
   {
    "duration": 51,
    "start_time": "2023-01-24T23:45:32.783Z"
   },
   {
    "duration": 107,
    "start_time": "2023-01-24T23:45:32.836Z"
   },
   {
    "duration": 43,
    "start_time": "2023-01-24T23:45:32.944Z"
   },
   {
    "duration": 159,
    "start_time": "2023-01-24T23:45:32.989Z"
   },
   {
    "duration": 190,
    "start_time": "2023-01-24T23:45:33.150Z"
   },
   {
    "duration": 207,
    "start_time": "2023-01-24T23:45:33.342Z"
   },
   {
    "duration": 116,
    "start_time": "2023-01-24T23:45:33.642Z"
   },
   {
    "duration": 14,
    "start_time": "2023-01-24T23:45:33.760Z"
   },
   {
    "duration": 132,
    "start_time": "2023-01-24T23:45:33.775Z"
   },
   {
    "duration": 0,
    "start_time": "2023-01-24T23:45:33.908Z"
   },
   {
    "duration": 0,
    "start_time": "2023-01-24T23:45:33.910Z"
   },
   {
    "duration": 0,
    "start_time": "2023-01-24T23:45:33.912Z"
   },
   {
    "duration": 0,
    "start_time": "2023-01-24T23:45:33.913Z"
   },
   {
    "duration": 0,
    "start_time": "2023-01-24T23:45:33.914Z"
   },
   {
    "duration": 0,
    "start_time": "2023-01-24T23:45:33.916Z"
   },
   {
    "duration": 1446,
    "start_time": "2023-01-24T23:47:03.365Z"
   },
   {
    "duration": 1441,
    "start_time": "2023-01-24T23:47:50.865Z"
   },
   {
    "duration": 2,
    "start_time": "2023-01-24T23:47:52.309Z"
   },
   {
    "duration": 408,
    "start_time": "2023-01-24T23:47:52.313Z"
   },
   {
    "duration": 108,
    "start_time": "2023-01-24T23:47:52.723Z"
   },
   {
    "duration": 292,
    "start_time": "2023-01-24T23:47:52.839Z"
   },
   {
    "duration": 95,
    "start_time": "2023-01-24T23:47:53.132Z"
   },
   {
    "duration": 280,
    "start_time": "2023-01-24T23:47:53.240Z"
   },
   {
    "duration": 99,
    "start_time": "2023-01-24T23:47:53.522Z"
   },
   {
    "duration": 297,
    "start_time": "2023-01-24T23:47:53.622Z"
   },
   {
    "duration": 20,
    "start_time": "2023-01-24T23:47:53.921Z"
   },
   {
    "duration": 12,
    "start_time": "2023-01-24T23:47:53.943Z"
   },
   {
    "duration": 37,
    "start_time": "2023-01-24T23:47:53.957Z"
   },
   {
    "duration": 118,
    "start_time": "2023-01-24T23:47:53.996Z"
   },
   {
    "duration": 52,
    "start_time": "2023-01-24T23:47:54.117Z"
   },
   {
    "duration": 178,
    "start_time": "2023-01-24T23:47:54.171Z"
   },
   {
    "duration": 102,
    "start_time": "2023-01-24T23:47:54.441Z"
   },
   {
    "duration": 202,
    "start_time": "2023-01-24T23:47:54.545Z"
   },
   {
    "duration": 194,
    "start_time": "2023-01-24T23:47:54.749Z"
   },
   {
    "duration": 12,
    "start_time": "2023-01-24T23:47:54.945Z"
   },
   {
    "duration": 1435,
    "start_time": "2023-01-24T23:47:54.958Z"
   },
   {
    "duration": 5,
    "start_time": "2023-01-24T23:47:56.395Z"
   },
   {
    "duration": 6,
    "start_time": "2023-01-24T23:47:56.402Z"
   },
   {
    "duration": 1425,
    "start_time": "2023-01-24T23:47:56.409Z"
   },
   {
    "duration": 5,
    "start_time": "2023-01-24T23:47:57.836Z"
   },
   {
    "duration": 1492,
    "start_time": "2023-01-24T23:47:57.842Z"
   },
   {
    "duration": 6,
    "start_time": "2023-01-24T23:47:59.336Z"
   },
   {
    "duration": 2232,
    "start_time": "2023-01-25T06:57:33.107Z"
   },
   {
    "duration": 3,
    "start_time": "2023-01-25T06:57:35.342Z"
   },
   {
    "duration": 992,
    "start_time": "2023-01-25T06:57:35.346Z"
   },
   {
    "duration": 105,
    "start_time": "2023-01-25T06:57:36.340Z"
   },
   {
    "duration": 394,
    "start_time": "2023-01-25T06:57:36.447Z"
   },
   {
    "duration": 106,
    "start_time": "2023-01-25T06:57:36.843Z"
   },
   {
    "duration": 313,
    "start_time": "2023-01-25T06:57:36.951Z"
   },
   {
    "duration": 140,
    "start_time": "2023-01-25T06:57:37.266Z"
   },
   {
    "duration": 299,
    "start_time": "2023-01-25T06:57:37.408Z"
   },
   {
    "duration": 12,
    "start_time": "2023-01-25T06:57:37.710Z"
   },
   {
    "duration": 21,
    "start_time": "2023-01-25T06:57:37.723Z"
   },
   {
    "duration": 49,
    "start_time": "2023-01-25T06:57:37.746Z"
   },
   {
    "duration": 118,
    "start_time": "2023-01-25T06:57:37.797Z"
   },
   {
    "duration": 45,
    "start_time": "2023-01-25T06:57:37.917Z"
   },
   {
    "duration": 225,
    "start_time": "2023-01-25T06:57:37.965Z"
   },
   {
    "duration": 6,
    "start_time": "2023-01-25T06:57:38.193Z"
   },
   {
    "duration": 300,
    "start_time": "2023-01-25T06:57:38.285Z"
   },
   {
    "duration": 112,
    "start_time": "2023-01-25T06:57:38.588Z"
   },
   {
    "duration": 15,
    "start_time": "2023-01-25T06:57:38.702Z"
   },
   {
    "duration": 1738,
    "start_time": "2023-01-25T06:57:38.719Z"
   },
   {
    "duration": 7,
    "start_time": "2023-01-25T06:57:40.459Z"
   },
   {
    "duration": 19,
    "start_time": "2023-01-25T06:57:40.469Z"
   },
   {
    "duration": 1545,
    "start_time": "2023-01-25T06:57:40.491Z"
   },
   {
    "duration": 5,
    "start_time": "2023-01-25T06:57:42.038Z"
   },
   {
    "duration": 1555,
    "start_time": "2023-01-25T06:57:42.044Z"
   },
   {
    "duration": 5,
    "start_time": "2023-01-25T06:57:43.601Z"
   },
   {
    "duration": 24,
    "start_time": "2023-01-25T06:57:43.609Z"
   },
   {
    "duration": 22,
    "start_time": "2023-01-25T06:57:43.636Z"
   }
  ],
  "kernelspec": {
   "display_name": "Python 3 (ipykernel)",
   "language": "python",
   "name": "python3"
  },
  "language_info": {
   "codemirror_mode": {
    "name": "ipython",
    "version": 3
   },
   "file_extension": ".py",
   "mimetype": "text/x-python",
   "name": "python",
   "nbconvert_exporter": "python",
   "pygments_lexer": "ipython3",
   "version": "3.9.12"
  },
  "toc": {
   "base_numbering": 1,
   "nav_menu": {},
   "number_sections": true,
   "sideBar": true,
   "skip_h1_title": true,
   "title_cell": "Table of Contents",
   "title_sidebar": "Contents",
   "toc_cell": false,
   "toc_position": {},
   "toc_section_display": true,
   "toc_window_display": false
  }
 },
 "nbformat": 4,
 "nbformat_minor": 2
}

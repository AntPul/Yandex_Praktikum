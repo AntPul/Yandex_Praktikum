{
 "cells": [
  {
   "cell_type": "markdown",
   "metadata": {},
   "source": [
    "# Проект для «Викишоп»"
   ]
  },
  {
   "cell_type": "markdown",
   "metadata": {},
   "source": [
    "Интернет-магазин «Викишоп» запускает новый сервис. Теперь пользователи могут редактировать и дополнять описания товаров, как в вики-сообществах. То есть клиенты предлагают свои правки и комментируют изменения других. Магазину нужен инструмент, который будет искать токсичные комментарии и отправлять их на модерацию. \n",
    "\n",
    "Обучите модель классифицировать комментарии на позитивные и негативные. В вашем распоряжении набор данных с разметкой о токсичности правок.\n",
    "\n",
    "Постройте модель со значением метрики качества *F1* не меньше 0.75. \n",
    "\n",
    "**Инструкция по выполнению проекта**\n",
    "\n",
    "1. Загрузите и подготовьте данные.\n",
    "2. Обучите разные модели. \n",
    "3. Сделайте выводы.\n",
    "\n",
    "Для выполнения проекта применять *BERT* необязательно, но вы можете попробовать.\n",
    "\n",
    "**Описание данных**\n",
    "\n",
    "Данные находятся в файле `toxic_comments.csv`. Столбец *text* в нём содержит текст комментария, а *toxic* — целевой признак."
   ]
  },
  {
   "cell_type": "markdown",
   "metadata": {},
   "source": [
    "## Подготовка"
   ]
  },
  {
   "cell_type": "code",
   "execution_count": 1,
   "metadata": {},
   "outputs": [
    {
     "name": "stderr",
     "output_type": "stream",
     "text": [
      "[nltk_data] Downloading package stopwords to /home/jovyan/nltk_data...\n",
      "[nltk_data]   Package stopwords is already up-to-date!\n",
      "[nltk_data] Downloading package averaged_perceptron_tagger to\n",
      "[nltk_data]     /home/jovyan/nltk_data...\n",
      "[nltk_data]   Package averaged_perceptron_tagger is already up-to-\n",
      "[nltk_data]       date!\n"
     ]
    }
   ],
   "source": [
    "import numpy as np\n",
    "import pandas as pd\n",
    "import matplotlib.pyplot as plt\n",
    "from sklearn.utils import shuffle\n",
    "\n",
    "import re\n",
    "import nltk\n",
    "from nltk.corpus import (\n",
    "    stopwords,\n",
    "    wordnet\n",
    ")\n",
    "nltk.download('stopwords')\n",
    "nltk.download('averaged_perceptron_tagger')\n",
    "\n",
    "from nltk.tokenize import word_tokenize\n",
    "from nltk.stem import WordNetLemmatizer\n",
    "from sklearn.feature_extraction.text import CountVectorizer\n",
    "from sklearn.feature_extraction.text import TfidfVectorizer\n",
    "\n",
    "from sklearn.pipeline import Pipeline\n",
    "from sklearn.model_selection import train_test_split\n",
    "from sklearn.linear_model import LogisticRegression\n",
    "from catboost import CatBoostClassifier, Pool\n",
    "import lightgbm as lgb\n",
    "from lightgbm import LGBMClassifier\n",
    "\n",
    "from sklearn import metrics\n",
    "from sklearn.metrics import f1_score\n",
    "from sklearn.model_selection import (\n",
    "    cross_val_score,\n",
    "    GridSearchCV\n",
    ")\n",
    "from sklearn.pipeline import Pipeline\n",
    "\n",
    "import warnings\n",
    "warnings.filterwarnings('ignore')"
   ]
  },
  {
   "cell_type": "code",
   "execution_count": 2,
   "metadata": {},
   "outputs": [
    {
     "name": "stdout",
     "output_type": "stream",
     "text": [
      "   Unnamed: 0                                               text  toxic\n",
      "0           0  Explanation\\nWhy the edits made under my usern...      0\n",
      "1           1  D'aww! He matches this background colour I'm s...      0\n",
      "2           2  Hey man, I'm really not trying to edit war. It...      0\n",
      "3           3  \"\\nMore\\nI can't make any real suggestions on ...      0\n",
      "4           4  You, sir, are my hero. Any chance you remember...      0\n",
      "<class 'pandas.core.frame.DataFrame'>\n",
      "RangeIndex: 159292 entries, 0 to 159291\n",
      "Data columns (total 3 columns):\n",
      " #   Column      Non-Null Count   Dtype \n",
      "---  ------      --------------   ----- \n",
      " 0   Unnamed: 0  159292 non-null  int64 \n",
      " 1   text        159292 non-null  object\n",
      " 2   toxic       159292 non-null  int64 \n",
      "dtypes: int64(2), object(1)\n",
      "memory usage: 3.6+ MB\n"
     ]
    }
   ],
   "source": [
    "df = pd.read_csv('/datasets/toxic_comments.csv')\n",
    "print(df.head())\n",
    "df.info()"
   ]
  },
  {
   "cell_type": "code",
   "execution_count": 3,
   "metadata": {},
   "outputs": [
    {
     "name": "stdout",
     "output_type": "stream",
     "text": [
      "True\n"
     ]
    }
   ],
   "source": [
    "print(df['Unnamed: 0'].is_monotonic)"
   ]
  },
  {
   "cell_type": "code",
   "execution_count": 4,
   "metadata": {},
   "outputs": [
    {
     "data": {
      "text/plain": [
       "count    159292.000000\n",
       "mean      79725.697242\n",
       "std       46028.837471\n",
       "min           0.000000\n",
       "25%       39872.750000\n",
       "50%       79721.500000\n",
       "75%      119573.250000\n",
       "max      159450.000000\n",
       "Name: Unnamed: 0, dtype: float64"
      ]
     },
     "execution_count": 4,
     "metadata": {},
     "output_type": "execute_result"
    }
   ],
   "source": [
    "df['Unnamed: 0'].describe()"
   ]
  },
  {
   "cell_type": "code",
   "execution_count": 5,
   "metadata": {},
   "outputs": [
    {
     "data": {
      "text/plain": [
       "count    159292.000000\n",
       "mean          0.101612\n",
       "std           0.302139\n",
       "min           0.000000\n",
       "25%           0.000000\n",
       "50%           0.000000\n",
       "75%           0.000000\n",
       "max           1.000000\n",
       "Name: toxic, dtype: float64"
      ]
     },
     "execution_count": 5,
     "metadata": {},
     "output_type": "execute_result"
    }
   ],
   "source": [
    "df['toxic'].describe()\n",
    "\n",
    "# анализируем баланс целевой переменной"
   ]
  },
  {
   "cell_type": "code",
   "execution_count": 6,
   "metadata": {},
   "outputs": [
    {
     "data": {
      "text/plain": [
       "0"
      ]
     },
     "execution_count": 6,
     "metadata": {},
     "output_type": "execute_result"
    }
   ],
   "source": [
    "df.duplicated().sum()\n",
    "\n",
    "# анализируем датасет на дубликаты"
   ]
  },
  {
   "cell_type": "markdown",
   "metadata": {},
   "source": [
    "**Выводы**\n",
    "\n",
    "- исходный датасет содержит три признака без пропусков и дубликатов\n",
    "- колонка 'Unnamed: 0' похожа на индексы объектов и не несет полезной информации поэтому ее можно удалить\n",
    "- тексты в колонке 'text' представлены на английском языке с разными регистрами (верхний нижний) поэтому нужно привести к все к нижнему\n",
    "- баланс целевого признака 'toxic': 90% записей с позитивные (0), 10% записей с токсичные (1) поэтому нужно применить upsampling к обучающей выборке"
   ]
  },
  {
   "cell_type": "code",
   "execution_count": 7,
   "metadata": {},
   "outputs": [
    {
     "data": {
      "text/html": [
       "<div>\n",
       "<style scoped>\n",
       "    .dataframe tbody tr th:only-of-type {\n",
       "        vertical-align: middle;\n",
       "    }\n",
       "\n",
       "    .dataframe tbody tr th {\n",
       "        vertical-align: top;\n",
       "    }\n",
       "\n",
       "    .dataframe thead th {\n",
       "        text-align: right;\n",
       "    }\n",
       "</style>\n",
       "<table border=\"1\" class=\"dataframe\">\n",
       "  <thead>\n",
       "    <tr style=\"text-align: right;\">\n",
       "      <th></th>\n",
       "      <th>text</th>\n",
       "      <th>toxic</th>\n",
       "    </tr>\n",
       "  </thead>\n",
       "  <tbody>\n",
       "    <tr>\n",
       "      <th>0</th>\n",
       "      <td>Explanation\\nWhy the edits made under my usern...</td>\n",
       "      <td>0</td>\n",
       "    </tr>\n",
       "    <tr>\n",
       "      <th>1</th>\n",
       "      <td>D'aww! He matches this background colour I'm s...</td>\n",
       "      <td>0</td>\n",
       "    </tr>\n",
       "    <tr>\n",
       "      <th>2</th>\n",
       "      <td>Hey man, I'm really not trying to edit war. It...</td>\n",
       "      <td>0</td>\n",
       "    </tr>\n",
       "    <tr>\n",
       "      <th>3</th>\n",
       "      <td>\"\\nMore\\nI can't make any real suggestions on ...</td>\n",
       "      <td>0</td>\n",
       "    </tr>\n",
       "    <tr>\n",
       "      <th>4</th>\n",
       "      <td>You, sir, are my hero. Any chance you remember...</td>\n",
       "      <td>0</td>\n",
       "    </tr>\n",
       "  </tbody>\n",
       "</table>\n",
       "</div>"
      ],
      "text/plain": [
       "                                                text  toxic\n",
       "0  Explanation\\nWhy the edits made under my usern...      0\n",
       "1  D'aww! He matches this background colour I'm s...      0\n",
       "2  Hey man, I'm really not trying to edit war. It...      0\n",
       "3  \"\\nMore\\nI can't make any real suggestions on ...      0\n",
       "4  You, sir, are my hero. Any chance you remember...      0"
      ]
     },
     "execution_count": 7,
     "metadata": {},
     "output_type": "execute_result"
    }
   ],
   "source": [
    "# удаляем колонку 'Unnamed: 0'\n",
    "\n",
    "df = df.drop('Unnamed: 0', axis=1)\n",
    "df.head()"
   ]
  },
  {
   "cell_type": "code",
   "execution_count": 8,
   "metadata": {},
   "outputs": [
    {
     "data": {
      "text/plain": [
       "0    explanation\\nwhy the edits made under my usern...\n",
       "1    d'aww! he matches this background colour i'm s...\n",
       "2    hey man, i'm really not trying to edit war. it...\n",
       "3    \"\\nmore\\ni can't make any real suggestions on ...\n",
       "4    you, sir, are my hero. any chance you remember...\n",
       "Name: text, dtype: object"
      ]
     },
     "execution_count": 8,
     "metadata": {},
     "output_type": "execute_result"
    }
   ],
   "source": [
    "# приводим тексты к нижнему регистру\n",
    "\n",
    "df['text'] = df['text'].apply(lambda x: x.lower())\n",
    "df['text'].head()"
   ]
  },
  {
   "cell_type": "code",
   "execution_count": 9,
   "metadata": {},
   "outputs": [],
   "source": [
    "def get_wordnet_pos(word):\n",
    "    \n",
    "    tag = nltk.pos_tag([word])[0][1][0].upper()\n",
    "    tag_dict = {\"J\": wordnet.ADJ,\n",
    "                \"N\": wordnet.NOUN,\n",
    "                \"V\": wordnet.VERB,\n",
    "                \"R\": wordnet.ADV}\n",
    "    return tag_dict.get(tag, wordnet.NOUN)"
   ]
  },
  {
   "cell_type": "code",
   "execution_count": 10,
   "metadata": {},
   "outputs": [],
   "source": [
    "stop_words = stopwords.words('english')\n",
    "lemmatizer = WordNetLemmatizer()"
   ]
  },
  {
   "cell_type": "code",
   "execution_count": 11,
   "metadata": {},
   "outputs": [],
   "source": [
    "# создаем функцию обработки текстов\n",
    "\n",
    "def data_preproc(text):\n",
    "    \n",
    "    text =  re.sub('[^A-Za-z0-9]', ' ', text)\n",
    "    text = text.split()\n",
    "    text = ' '.join(text)\n",
    "    \n",
    "    text = [lemmatizer.lemmatize(w, get_wordnet_pos(w)) for w in nltk.word_tokenize(text)] # лемматизация с POS-тегом \n",
    "    text = ' '.join(text)\n",
    "\n",
    "    return text"
   ]
  },
  {
   "cell_type": "code",
   "execution_count": 12,
   "metadata": {
    "scrolled": true
   },
   "outputs": [
    {
     "data": {
      "text/plain": [
       "count    159292.000000\n",
       "mean         67.213545\n",
       "std          99.133908\n",
       "min           1.000000\n",
       "25%          17.000000\n",
       "50%          36.000000\n",
       "75%          75.000000\n",
       "max        1411.000000\n",
       "Name: text, dtype: float64"
      ]
     },
     "execution_count": 12,
     "metadata": {},
     "output_type": "execute_result"
    }
   ],
   "source": [
    "word_counts = df['text'].apply(lambda x: len(x.split()))\n",
    "word_counts.describe()"
   ]
  },
  {
   "cell_type": "code",
   "execution_count": 13,
   "metadata": {},
   "outputs": [],
   "source": [
    "# делим данные на признаки X и целевой признак y\n",
    "\n",
    "X = df.drop(['toxic'], axis=1)\n",
    "y = df['toxic']"
   ]
  },
  {
   "cell_type": "code",
   "execution_count": 14,
   "metadata": {},
   "outputs": [],
   "source": [
    "# создаем обучающую, тестовую и валидационную выборки\n",
    "\n",
    "X_train, X_x, y_train, y_y = train_test_split(\n",
    "    X, y, test_size=0.4, random_state=12345\n",
    ")\n"
   ]
  },
  {
   "cell_type": "code",
   "execution_count": 15,
   "metadata": {},
   "outputs": [],
   "source": [
    "X_test, X_valid, y_test, y_valid = train_test_split(\n",
    "    X_x, y_y, test_size=0.5, random_state=12345\n",
    ")"
   ]
  },
  {
   "cell_type": "code",
   "execution_count": 16,
   "metadata": {},
   "outputs": [],
   "source": [
    "X_train = X_train['text'].apply(lambda text: data_preproc(text))"
   ]
  },
  {
   "cell_type": "code",
   "execution_count": 17,
   "metadata": {},
   "outputs": [],
   "source": [
    "X_test = X_test['text'].apply(lambda text: data_preproc(text))"
   ]
  },
  {
   "cell_type": "code",
   "execution_count": 18,
   "metadata": {},
   "outputs": [],
   "source": [
    "X_valid = X_valid['text'].apply(lambda text: data_preproc(text))"
   ]
  },
  {
   "cell_type": "markdown",
   "metadata": {},
   "source": [
    "### Векторизация"
   ]
  },
  {
   "cell_type": "markdown",
   "metadata": {},
   "source": [
    "**Мешок слов**"
   ]
  },
  {
   "cell_type": "code",
   "execution_count": 19,
   "metadata": {},
   "outputs": [],
   "source": [
    "# создаем переменные\n",
    "corpus_train = X_train.values\n",
    "corpus_valid = X_valid.values\n",
    "corpus_test = X_test.values"
   ]
  },
  {
   "cell_type": "code",
   "execution_count": 20,
   "metadata": {},
   "outputs": [
    {
     "data": {
      "text/plain": [
       "(95575, 120004)"
      ]
     },
     "execution_count": 20,
     "metadata": {},
     "output_type": "execute_result"
    }
   ],
   "source": [
    "# создаем мешок слов\n",
    "count_vect_bow = CountVectorizer(dtype='float64', stop_words=stop_words) \n",
    "bow_train = count_vect_bow.fit_transform(corpus_train)\n",
    "bow_valid = count_vect_bow.transform(corpus_valid)\n",
    "bow_train.shape"
   ]
  },
  {
   "cell_type": "markdown",
   "metadata": {},
   "source": [
    "**tf_idf**"
   ]
  },
  {
   "cell_type": "code",
   "execution_count": 21,
   "metadata": {},
   "outputs": [
    {
     "data": {
      "text/plain": [
       "(95575, 120004)"
      ]
     },
     "execution_count": 21,
     "metadata": {},
     "output_type": "execute_result"
    }
   ],
   "source": [
    "count_tf_idf = TfidfVectorizer(stop_words=stop_words)\n",
    "tf_idf_train = count_tf_idf.fit_transform(X_train)\n",
    "tf_idf_valid = count_tf_idf.transform(corpus_valid)\n",
    "tf_idf_train.shape"
   ]
  },
  {
   "cell_type": "markdown",
   "metadata": {},
   "source": [
    "**n-граммы**"
   ]
  },
  {
   "cell_type": "markdown",
   "metadata": {},
   "source": [
    "count_vect = CountVectorizer(ngram_range=(3, 3), stop_words=stop_words)\n",
    "n_gramm_train = count_vect.fit_transform(corpus_train)\n",
    "n_gramm_train.shape"
   ]
  },
  {
   "cell_type": "code",
   "execution_count": 22,
   "metadata": {},
   "outputs": [],
   "source": [
    "model = LogisticRegression(random_state = 12345)"
   ]
  },
  {
   "cell_type": "code",
   "execution_count": 23,
   "metadata": {},
   "outputs": [
    {
     "name": "stdout",
     "output_type": "stream",
     "text": [
      "0.7160503630693594\n",
      "0.5916030620202536\n"
     ]
    }
   ],
   "source": [
    "for i in [bow_valid, tf_idf_valid]:\n",
    "    f1 = cross_val_score(model, i, y_valid, cv=5, scoring='f1')  \n",
    "    print(f1.mean())"
   ]
  },
  {
   "cell_type": "markdown",
   "metadata": {},
   "source": [
    "**Выводы**\n",
    "\n",
    "- произвели векторизацию текстов тремя способами (мешок слов, tf_idf, n-граммы)\n",
    "- на модели LR проверили на какой векторизации показывает лучший результат по метрики F1\n",
    "- n-граммы лучший показатель метрики f1, но использовать будем мешок слов т.к. меньше признаков на порядок"
   ]
  },
  {
   "cell_type": "markdown",
   "metadata": {},
   "source": [
    "## Обучение"
   ]
  },
  {
   "cell_type": "code",
   "execution_count": 24,
   "metadata": {},
   "outputs": [
    {
     "data": {
      "text/plain": [
       "(31858, 120004)"
      ]
     },
     "execution_count": 24,
     "metadata": {},
     "output_type": "execute_result"
    }
   ],
   "source": [
    "# векторизируем тестовую выборку\n",
    "bow_test = count_vect_bow.transform(corpus_test)\n",
    "bow_test.shape"
   ]
  },
  {
   "cell_type": "markdown",
   "metadata": {},
   "source": [
    "### LogisticRegression"
   ]
  },
  {
   "cell_type": "code",
   "execution_count": 71,
   "metadata": {},
   "outputs": [],
   "source": [
    "lr_model = LogisticRegression(random_state = 12345, solver = 'lbfgs', class_weight='balanced', C=3)"
   ]
  },
  {
   "cell_type": "code",
   "execution_count": 72,
   "metadata": {},
   "outputs": [
    {
     "data": {
      "text/plain": [
       "LogisticRegression(C=3, class_weight='balanced', random_state=12345)"
      ]
     },
     "execution_count": 72,
     "metadata": {},
     "output_type": "execute_result"
    }
   ],
   "source": [
    "lr_model.fit(bow_train, y_train)"
   ]
  },
  {
   "cell_type": "markdown",
   "metadata": {},
   "source": [
    "f1_lr = cross_val_score(lr_model, bow_valid, y_valid, cv=5, scoring='f1')\n",
    "f1_lr.mean()"
   ]
  },
  {
   "cell_type": "markdown",
   "metadata": {},
   "source": [
    "### LGBMClassifier "
   ]
  },
  {
   "cell_type": "markdown",
   "metadata": {},
   "source": [
    "lgbm_model = LGBMClassifier(random_state = 12345, max_depth = 4, num_leaves = 10, learning_rate = 0.4)"
   ]
  },
  {
   "cell_type": "markdown",
   "metadata": {},
   "source": [
    "#scores = cross_val_score(lgbm_model, bow_train, y_train, cv=5, scoring='f1_weighted')\n",
    "#print('F1  LGBM:', scores.mean())\n",
    "lgbm_model.fit(bow_train, y_train)\n",
    "predicted_train = lgbm_model.predict(bow_train)\n",
    "f1_lg = f1_score(y_train, predicted_train)\n",
    "f1_lg"
   ]
  },
  {
   "cell_type": "markdown",
   "metadata": {},
   "source": [
    "### Проверка лучшей модели (LR) на тестовой выборке"
   ]
  },
  {
   "cell_type": "code",
   "execution_count": 73,
   "metadata": {},
   "outputs": [],
   "source": [
    "predicted_test = lr_model.predict(bow_test)"
   ]
  },
  {
   "cell_type": "code",
   "execution_count": 75,
   "metadata": {},
   "outputs": [
    {
     "name": "stdout",
     "output_type": "stream",
     "text": [
      "0.75\n"
     ]
    }
   ],
   "source": [
    "print(f1_score(y_test, predicted_test).round(2))\n"
   ]
  },
  {
   "cell_type": "markdown",
   "metadata": {},
   "source": [
    " **Выводы**\n",
    "\n",
    "- была обучена а модель LogisticRegression(random_state = 12345, solver = 'lbfgs', class_weight='balanced', C=3) \n",
    "- показатель f1 на тестовой метрики 0.75 "
   ]
  },
  {
   "cell_type": "markdown",
   "metadata": {},
   "source": [
    "## Выводы"
   ]
  },
  {
   "cell_type": "markdown",
   "metadata": {},
   "source": [
    "- анализ показал что нужно использовать модель LR\n",
    "- метод векторизации лучшего всего подходит n-граммы (мы использовали n=3), но использовали мешок слов т.к. меньше признаков на порядок\n",
    "- на тестовой выборке лучшая модель LR показала f1= что удовлитворяет условию поставленной задачи"
   ]
  }
 ],
 "metadata": {
  "ExecuteTimeLog": [
   {
    "duration": 1661,
    "start_time": "2023-03-30T20:49:19.063Z"
   },
   {
    "duration": 154,
    "start_time": "2023-03-30T20:50:10.386Z"
   },
   {
    "duration": 2625,
    "start_time": "2023-03-30T20:51:10.444Z"
   },
   {
    "duration": 847,
    "start_time": "2023-03-30T20:52:09.485Z"
   },
   {
    "duration": 904,
    "start_time": "2023-03-30T20:52:15.764Z"
   },
   {
    "duration": 4,
    "start_time": "2023-03-30T20:54:05.976Z"
   },
   {
    "duration": 16,
    "start_time": "2023-03-30T20:54:32.904Z"
   },
   {
    "duration": 11,
    "start_time": "2023-03-30T20:55:42.113Z"
   },
   {
    "duration": 39,
    "start_time": "2023-03-30T20:57:46.517Z"
   },
   {
    "duration": 33,
    "start_time": "2023-03-30T20:57:57.870Z"
   },
   {
    "duration": 251,
    "start_time": "2023-03-30T20:58:59.191Z"
   },
   {
    "duration": 24,
    "start_time": "2023-03-30T21:18:05.999Z"
   },
   {
    "duration": 228,
    "start_time": "2023-03-30T21:18:52.552Z"
   },
   {
    "duration": 260,
    "start_time": "2023-03-30T21:19:11.161Z"
   },
   {
    "duration": 278,
    "start_time": "2023-03-30T21:19:27.984Z"
   },
   {
    "duration": 6,
    "start_time": "2023-03-30T21:20:54.275Z"
   },
   {
    "duration": 5,
    "start_time": "2023-03-30T21:24:52.858Z"
   },
   {
    "duration": 4,
    "start_time": "2023-03-30T21:31:57.507Z"
   },
   {
    "duration": 12,
    "start_time": "2023-03-30T21:32:35.519Z"
   },
   {
    "duration": 85236,
    "start_time": "2023-03-30T21:32:44.409Z"
   },
   {
    "duration": 63200,
    "start_time": "2023-03-30T21:35:29.547Z"
   },
   {
    "duration": 309,
    "start_time": "2023-03-30T21:36:58.789Z"
   },
   {
    "duration": 158,
    "start_time": "2023-03-30T21:40:11.971Z"
   },
   {
    "duration": 73,
    "start_time": "2023-03-30T21:40:22.796Z"
   },
   {
    "duration": 13,
    "start_time": "2023-03-30T21:40:28.364Z"
   },
   {
    "duration": 26,
    "start_time": "2023-03-30T21:41:29.737Z"
   },
   {
    "duration": 4,
    "start_time": "2023-03-30T21:42:34.473Z"
   },
   {
    "duration": 41,
    "start_time": "2023-03-30T21:43:16.808Z"
   },
   {
    "duration": 6,
    "start_time": "2023-03-30T21:44:48.715Z"
   },
   {
    "duration": 61,
    "start_time": "2023-03-30T21:44:55.324Z"
   },
   {
    "duration": 542,
    "start_time": "2023-03-30T21:46:20.622Z"
   },
   {
    "duration": 5,
    "start_time": "2023-03-30T21:46:52.711Z"
   },
   {
    "duration": 420,
    "start_time": "2023-03-30T21:46:59.095Z"
   },
   {
    "duration": 190,
    "start_time": "2023-03-30T21:47:30.640Z"
   },
   {
    "duration": 1853,
    "start_time": "2023-03-31T17:29:49.209Z"
   },
   {
    "duration": 2384,
    "start_time": "2023-03-31T17:29:51.063Z"
   },
   {
    "duration": 4,
    "start_time": "2023-03-31T17:29:53.449Z"
   },
   {
    "duration": 18,
    "start_time": "2023-03-31T17:29:53.454Z"
   },
   {
    "duration": 9,
    "start_time": "2023-03-31T17:29:53.473Z"
   },
   {
    "duration": 263,
    "start_time": "2023-03-31T17:29:53.483Z"
   },
   {
    "duration": 14,
    "start_time": "2023-03-31T17:29:53.749Z"
   },
   {
    "duration": 215,
    "start_time": "2023-03-31T17:29:53.765Z"
   },
   {
    "duration": 4,
    "start_time": "2023-03-31T17:29:53.982Z"
   },
   {
    "duration": 17,
    "start_time": "2023-03-31T17:29:53.987Z"
   },
   {
    "duration": 71610,
    "start_time": "2023-03-31T17:29:54.005Z"
   },
   {
    "duration": 281,
    "start_time": "2023-03-31T17:31:05.616Z"
   },
   {
    "duration": 7,
    "start_time": "2023-03-31T17:31:05.899Z"
   },
   {
    "duration": 36,
    "start_time": "2023-03-31T17:31:05.908Z"
   },
   {
    "duration": 8,
    "start_time": "2023-03-31T17:31:05.945Z"
   },
   {
    "duration": 43,
    "start_time": "2023-03-31T17:31:05.954Z"
   },
   {
    "duration": 150,
    "start_time": "2023-03-31T17:31:05.999Z"
   },
   {
    "duration": 3,
    "start_time": "2023-03-31T17:31:06.151Z"
   },
   {
    "duration": 4149,
    "start_time": "2023-03-31T17:31:06.155Z"
   },
   {
    "duration": 4338,
    "start_time": "2023-03-31T17:37:43.262Z"
   },
   {
    "duration": 17817,
    "start_time": "2023-03-31T18:06:54.661Z"
   },
   {
    "duration": 3,
    "start_time": "2023-03-31T19:57:43.024Z"
   },
   {
    "duration": 46,
    "start_time": "2023-03-31T19:57:46.264Z"
   },
   {
    "duration": 124,
    "start_time": "2023-03-31T19:58:09.812Z"
   },
   {
    "duration": 1181069,
    "start_time": "2023-03-31T20:00:10.268Z"
   },
   {
    "duration": 1712,
    "start_time": "2023-03-31T20:23:08.982Z"
   },
   {
    "duration": 3,
    "start_time": "2023-03-31T20:23:24.100Z"
   },
   {
    "duration": 465854,
    "start_time": "2023-03-31T20:23:25.900Z"
   },
   {
    "duration": 137,
    "start_time": "2023-03-31T20:31:11.756Z"
   },
   {
    "duration": 5,
    "start_time": "2023-03-31T20:35:33.024Z"
   },
   {
    "duration": 51,
    "start_time": "2023-03-31T20:42:56.485Z"
   },
   {
    "duration": 72,
    "start_time": "2023-03-31T20:42:58.314Z"
   },
   {
    "duration": 61,
    "start_time": "2023-03-31T20:43:36.270Z"
   },
   {
    "duration": 210,
    "start_time": "2023-03-31T20:46:13.194Z"
   },
   {
    "duration": 10,
    "start_time": "2023-03-31T20:52:46.165Z"
   },
   {
    "duration": 1453,
    "start_time": "2023-03-31T20:53:07.790Z"
   },
   {
    "duration": 1741,
    "start_time": "2023-03-31T21:18:46.240Z"
   },
   {
    "duration": 999,
    "start_time": "2023-03-31T21:18:47.983Z"
   },
   {
    "duration": 3,
    "start_time": "2023-03-31T21:18:48.984Z"
   },
   {
    "duration": 19,
    "start_time": "2023-03-31T21:18:48.989Z"
   },
   {
    "duration": 10,
    "start_time": "2023-03-31T21:18:49.010Z"
   },
   {
    "duration": 287,
    "start_time": "2023-03-31T21:18:49.022Z"
   },
   {
    "duration": 19,
    "start_time": "2023-03-31T21:18:49.311Z"
   },
   {
    "duration": 278,
    "start_time": "2023-03-31T21:18:49.332Z"
   },
   {
    "duration": 4,
    "start_time": "2023-03-31T21:18:49.612Z"
   },
   {
    "duration": 14,
    "start_time": "2023-03-31T21:18:49.619Z"
   },
   {
    "duration": 82497,
    "start_time": "2023-03-31T21:18:49.634Z"
   },
   {
    "duration": 298,
    "start_time": "2023-03-31T21:20:12.133Z"
   },
   {
    "duration": 8,
    "start_time": "2023-03-31T21:20:12.433Z"
   },
   {
    "duration": 39,
    "start_time": "2023-03-31T21:20:12.442Z"
   },
   {
    "duration": 4,
    "start_time": "2023-03-31T21:20:12.483Z"
   },
   {
    "duration": 48,
    "start_time": "2023-03-31T21:20:12.489Z"
   },
   {
    "duration": 165,
    "start_time": "2023-03-31T21:20:12.539Z"
   },
   {
    "duration": 3,
    "start_time": "2023-03-31T21:20:12.706Z"
   },
   {
    "duration": 4690,
    "start_time": "2023-03-31T21:20:12.710Z"
   },
   {
    "duration": 4771,
    "start_time": "2023-03-31T21:20:17.402Z"
   },
   {
    "duration": 19845,
    "start_time": "2023-03-31T21:20:22.174Z"
   },
   {
    "duration": 3,
    "start_time": "2023-03-31T21:20:42.020Z"
   },
   {
    "duration": 1260861,
    "start_time": "2023-03-31T21:20:42.024Z"
   },
   {
    "duration": 1613,
    "start_time": "2023-03-31T21:41:42.887Z"
   },
   {
    "duration": 3,
    "start_time": "2023-03-31T21:41:44.502Z"
   },
   {
    "duration": 488462,
    "start_time": "2023-03-31T21:41:44.506Z"
   },
   {
    "duration": 54,
    "start_time": "2023-03-31T21:49:52.969Z"
   },
   {
    "duration": 74,
    "start_time": "2023-03-31T21:49:53.026Z"
   },
   {
    "duration": 0,
    "start_time": "2023-03-31T22:52:29.365Z"
   },
   {
    "duration": 0,
    "start_time": "2023-03-31T22:52:29.366Z"
   },
   {
    "duration": 0,
    "start_time": "2023-03-31T22:52:29.367Z"
   },
   {
    "duration": 0,
    "start_time": "2023-03-31T22:52:29.368Z"
   },
   {
    "duration": 0,
    "start_time": "2023-03-31T22:52:29.369Z"
   },
   {
    "duration": 0,
    "start_time": "2023-03-31T22:52:29.370Z"
   },
   {
    "duration": 0,
    "start_time": "2023-03-31T22:52:29.372Z"
   },
   {
    "duration": 0,
    "start_time": "2023-03-31T22:52:29.373Z"
   },
   {
    "duration": 0,
    "start_time": "2023-03-31T22:52:29.374Z"
   },
   {
    "duration": 0,
    "start_time": "2023-03-31T22:52:29.381Z"
   },
   {
    "duration": 390857,
    "start_time": "2023-03-31T22:52:36.316Z"
   },
   {
    "duration": 1088,
    "start_time": "2023-03-31T22:59:21.958Z"
   },
   {
    "duration": 0,
    "start_time": "2023-03-31T23:03:56.358Z"
   },
   {
    "duration": 45,
    "start_time": "2023-03-31T23:04:40.262Z"
   },
   {
    "duration": 1697,
    "start_time": "2023-03-31T23:05:12.928Z"
   },
   {
    "duration": 2316,
    "start_time": "2023-03-31T23:05:14.627Z"
   },
   {
    "duration": 3,
    "start_time": "2023-03-31T23:05:16.944Z"
   },
   {
    "duration": 25,
    "start_time": "2023-03-31T23:05:16.949Z"
   },
   {
    "duration": 9,
    "start_time": "2023-03-31T23:05:16.976Z"
   },
   {
    "duration": 254,
    "start_time": "2023-03-31T23:05:16.986Z"
   },
   {
    "duration": 20,
    "start_time": "2023-03-31T23:05:17.242Z"
   },
   {
    "duration": 225,
    "start_time": "2023-03-31T23:05:17.263Z"
   },
   {
    "duration": 4,
    "start_time": "2023-03-31T23:05:17.489Z"
   },
   {
    "duration": 5,
    "start_time": "2023-03-31T23:05:17.494Z"
   },
   {
    "duration": 2160,
    "start_time": "2023-04-01T06:31:07.608Z"
   },
   {
    "duration": 3433,
    "start_time": "2023-04-01T06:31:09.770Z"
   },
   {
    "duration": 3,
    "start_time": "2023-04-01T06:31:13.205Z"
   },
   {
    "duration": 16,
    "start_time": "2023-04-01T06:31:13.210Z"
   },
   {
    "duration": 18,
    "start_time": "2023-04-01T06:31:13.229Z"
   },
   {
    "duration": 274,
    "start_time": "2023-04-01T06:31:13.249Z"
   },
   {
    "duration": 21,
    "start_time": "2023-04-01T06:31:13.526Z"
   },
   {
    "duration": 255,
    "start_time": "2023-04-01T06:31:13.548Z"
   },
   {
    "duration": 5,
    "start_time": "2023-04-01T06:31:13.805Z"
   },
   {
    "duration": 13,
    "start_time": "2023-04-01T06:31:13.812Z"
   },
   {
    "duration": 95043,
    "start_time": "2023-04-01T06:31:13.828Z"
   },
   {
    "duration": 363,
    "start_time": "2023-04-01T06:32:48.873Z"
   },
   {
    "duration": 12,
    "start_time": "2023-04-01T06:32:49.239Z"
   },
   {
    "duration": 37,
    "start_time": "2023-04-01T06:32:49.255Z"
   },
   {
    "duration": 4,
    "start_time": "2023-04-01T06:32:49.294Z"
   },
   {
    "duration": 88,
    "start_time": "2023-04-01T06:32:49.300Z"
   },
   {
    "duration": 213,
    "start_time": "2023-04-01T06:32:49.390Z"
   },
   {
    "duration": 3,
    "start_time": "2023-04-01T06:32:49.605Z"
   },
   {
    "duration": 6255,
    "start_time": "2023-04-01T06:32:49.610Z"
   },
   {
    "duration": 7206,
    "start_time": "2023-04-01T06:32:55.866Z"
   },
   {
    "duration": 25207,
    "start_time": "2023-04-01T06:33:03.074Z"
   },
   {
    "duration": 3,
    "start_time": "2023-04-01T06:33:28.282Z"
   },
   {
    "duration": 1485682,
    "start_time": "2023-04-01T06:33:28.287Z"
   },
   {
    "duration": 1356,
    "start_time": "2023-04-01T06:58:13.971Z"
   },
   {
    "duration": 4,
    "start_time": "2023-04-01T06:58:15.328Z"
   },
   {
    "duration": 655883,
    "start_time": "2023-04-01T06:58:15.334Z"
   },
   {
    "duration": 81,
    "start_time": "2023-04-01T07:09:11.219Z"
   },
   {
    "duration": 92,
    "start_time": "2023-04-01T07:09:11.302Z"
   },
   {
    "duration": 28,
    "start_time": "2023-04-01T07:09:11.396Z"
   },
   {
    "duration": 2037,
    "start_time": "2023-04-01T20:28:03.957Z"
   },
   {
    "duration": 2495,
    "start_time": "2023-04-01T20:28:05.996Z"
   },
   {
    "duration": 4,
    "start_time": "2023-04-01T20:28:08.493Z"
   },
   {
    "duration": 23,
    "start_time": "2023-04-01T20:28:08.499Z"
   },
   {
    "duration": 10,
    "start_time": "2023-04-01T20:28:08.524Z"
   },
   {
    "duration": 255,
    "start_time": "2023-04-01T20:28:08.535Z"
   },
   {
    "duration": 20,
    "start_time": "2023-04-01T20:28:08.792Z"
   },
   {
    "duration": 259,
    "start_time": "2023-04-01T20:28:08.815Z"
   },
   {
    "duration": 5,
    "start_time": "2023-04-01T20:28:09.075Z"
   },
   {
    "duration": 22,
    "start_time": "2023-04-01T20:28:09.083Z"
   },
   {
    "duration": 89286,
    "start_time": "2023-04-01T20:28:09.107Z"
   },
   {
    "duration": 310,
    "start_time": "2023-04-01T20:29:38.394Z"
   },
   {
    "duration": 9,
    "start_time": "2023-04-01T20:29:38.706Z"
   },
   {
    "duration": 39,
    "start_time": "2023-04-01T20:29:38.717Z"
   },
   {
    "duration": 7,
    "start_time": "2023-04-01T20:29:38.757Z"
   },
   {
    "duration": 68,
    "start_time": "2023-04-01T20:29:38.766Z"
   },
   {
    "duration": 182,
    "start_time": "2023-04-01T20:29:38.836Z"
   },
   {
    "duration": 4,
    "start_time": "2023-04-01T20:29:39.020Z"
   },
   {
    "duration": 5229,
    "start_time": "2023-04-01T20:29:39.034Z"
   },
   {
    "duration": 5473,
    "start_time": "2023-04-01T20:29:44.265Z"
   },
   {
    "duration": 21696,
    "start_time": "2023-04-01T20:29:49.739Z"
   },
   {
    "duration": 4,
    "start_time": "2023-04-01T20:30:11.438Z"
   },
   {
    "duration": 1474015,
    "start_time": "2023-04-01T20:30:11.444Z"
   },
   {
    "duration": 1590,
    "start_time": "2023-04-01T20:54:45.464Z"
   },
   {
    "duration": 3,
    "start_time": "2023-04-01T20:54:47.056Z"
   },
   {
    "duration": 648235,
    "start_time": "2023-04-01T20:54:47.061Z"
   },
   {
    "duration": 92,
    "start_time": "2023-04-01T21:05:35.298Z"
   },
   {
    "duration": 106,
    "start_time": "2023-04-01T21:05:35.402Z"
   },
   {
    "duration": 14,
    "start_time": "2023-04-01T21:05:35.510Z"
   },
   {
    "duration": 3,
    "start_time": "2023-04-01T21:05:35.534Z"
   },
   {
    "duration": 1917132,
    "start_time": "2023-04-01T21:05:35.538Z"
   },
   {
    "duration": 3,
    "start_time": "2023-04-01T21:37:32.671Z"
   },
   {
    "duration": 170,
    "start_time": "2023-04-01T21:37:32.675Z"
   },
   {
    "duration": 52,
    "start_time": "2023-04-01T21:52:38.409Z"
   },
   {
    "duration": 1823,
    "start_time": "2023-04-01T22:06:22.565Z"
   },
   {
    "duration": 3171,
    "start_time": "2023-04-01T22:06:24.390Z"
   },
   {
    "duration": 7,
    "start_time": "2023-04-01T22:06:27.564Z"
   },
   {
    "duration": 17,
    "start_time": "2023-04-01T22:06:27.574Z"
   },
   {
    "duration": 11,
    "start_time": "2023-04-01T22:06:27.594Z"
   },
   {
    "duration": 287,
    "start_time": "2023-04-01T22:06:27.607Z"
   },
   {
    "duration": 22,
    "start_time": "2023-04-01T22:06:27.896Z"
   },
   {
    "duration": 332,
    "start_time": "2023-04-01T22:06:27.919Z"
   },
   {
    "duration": 5,
    "start_time": "2023-04-01T22:06:28.254Z"
   },
   {
    "duration": 6,
    "start_time": "2023-04-01T22:06:28.262Z"
   },
   {
    "duration": 100361,
    "start_time": "2023-04-01T22:06:28.270Z"
   },
   {
    "duration": 382,
    "start_time": "2023-04-01T22:08:08.635Z"
   },
   {
    "duration": 21,
    "start_time": "2023-04-01T22:08:09.018Z"
   },
   {
    "duration": 29,
    "start_time": "2023-04-01T22:08:09.047Z"
   },
   {
    "duration": 4,
    "start_time": "2023-04-01T22:08:09.077Z"
   },
   {
    "duration": 72,
    "start_time": "2023-04-01T22:08:09.083Z"
   },
   {
    "duration": 250,
    "start_time": "2023-04-01T22:08:09.157Z"
   },
   {
    "duration": 3,
    "start_time": "2023-04-01T22:08:09.408Z"
   },
   {
    "duration": 5759,
    "start_time": "2023-04-01T22:08:09.413Z"
   },
   {
    "duration": 6329,
    "start_time": "2023-04-01T22:08:15.174Z"
   },
   {
    "duration": 24769,
    "start_time": "2023-04-01T22:08:21.504Z"
   },
   {
    "duration": 3,
    "start_time": "2023-04-01T22:08:46.275Z"
   },
   {
    "duration": 1361147,
    "start_time": "2023-04-01T22:08:46.280Z"
   },
   {
    "duration": 1972,
    "start_time": "2023-04-01T22:31:27.429Z"
   },
   {
    "duration": 3,
    "start_time": "2023-04-01T22:31:29.404Z"
   },
   {
    "duration": 647146,
    "start_time": "2023-04-01T22:31:29.409Z"
   },
   {
    "duration": 63,
    "start_time": "2023-04-01T22:42:16.557Z"
   },
   {
    "duration": 66,
    "start_time": "2023-04-01T22:42:16.635Z"
   },
   {
    "duration": 4,
    "start_time": "2023-04-01T22:42:16.702Z"
   },
   {
    "duration": 184,
    "start_time": "2023-04-01T22:42:16.707Z"
   },
   {
    "duration": 5,
    "start_time": "2023-04-01T22:42:16.893Z"
   },
   {
    "duration": 2054,
    "start_time": "2023-04-01T22:46:39.996Z"
   },
   {
    "duration": 3293,
    "start_time": "2023-04-01T22:46:42.053Z"
   },
   {
    "duration": 5,
    "start_time": "2023-04-01T22:46:45.348Z"
   },
   {
    "duration": 48,
    "start_time": "2023-04-01T22:46:45.355Z"
   },
   {
    "duration": 11,
    "start_time": "2023-04-01T22:46:45.406Z"
   },
   {
    "duration": 324,
    "start_time": "2023-04-01T22:46:45.419Z"
   },
   {
    "duration": 30,
    "start_time": "2023-04-01T22:46:45.745Z"
   },
   {
    "duration": 361,
    "start_time": "2023-04-01T22:46:45.777Z"
   },
   {
    "duration": 6,
    "start_time": "2023-04-01T22:46:46.141Z"
   },
   {
    "duration": 47,
    "start_time": "2023-04-01T22:46:46.149Z"
   },
   {
    "duration": 100208,
    "start_time": "2023-04-01T22:46:46.198Z"
   },
   {
    "duration": 360,
    "start_time": "2023-04-01T22:48:26.408Z"
   },
   {
    "duration": 9,
    "start_time": "2023-04-01T22:48:26.770Z"
   },
   {
    "duration": 24,
    "start_time": "2023-04-01T22:48:26.782Z"
   },
   {
    "duration": 3,
    "start_time": "2023-04-01T22:48:26.808Z"
   },
   {
    "duration": 89,
    "start_time": "2023-04-01T22:48:26.812Z"
   },
   {
    "duration": 199,
    "start_time": "2023-04-01T22:48:26.903Z"
   },
   {
    "duration": 4,
    "start_time": "2023-04-01T22:48:27.104Z"
   },
   {
    "duration": 5962,
    "start_time": "2023-04-01T22:48:27.110Z"
   },
   {
    "duration": 6002,
    "start_time": "2023-04-01T22:48:33.074Z"
   },
   {
    "duration": 25836,
    "start_time": "2023-04-01T22:48:39.078Z"
   },
   {
    "duration": 3,
    "start_time": "2023-04-01T22:49:04.916Z"
   },
   {
    "duration": 1350634,
    "start_time": "2023-04-01T22:49:04.925Z"
   },
   {
    "duration": 1617,
    "start_time": "2023-04-01T23:11:35.560Z"
   },
   {
    "duration": 3,
    "start_time": "2023-04-01T23:11:37.179Z"
   },
   {
    "duration": 587902,
    "start_time": "2023-04-01T23:11:37.183Z"
   },
   {
    "duration": 68,
    "start_time": "2023-04-01T23:21:25.086Z"
   },
   {
    "duration": 61,
    "start_time": "2023-04-01T23:21:25.155Z"
   },
   {
    "duration": 3,
    "start_time": "2023-04-01T23:21:25.218Z"
   },
   {
    "duration": 190,
    "start_time": "2023-04-01T23:21:25.223Z"
   },
   {
    "duration": 6,
    "start_time": "2023-04-01T23:21:25.414Z"
   },
   {
    "duration": 33,
    "start_time": "2023-04-01T23:21:25.422Z"
   },
   {
    "duration": 1248,
    "start_time": "2023-04-01T23:23:15.614Z"
   },
   {
    "duration": 142,
    "start_time": "2023-04-01T23:23:45.457Z"
   },
   {
    "duration": 1945,
    "start_time": "2023-04-02T06:24:29.386Z"
   },
   {
    "duration": 3459,
    "start_time": "2023-04-02T06:24:31.333Z"
   },
   {
    "duration": 4,
    "start_time": "2023-04-02T06:24:34.793Z"
   },
   {
    "duration": 14,
    "start_time": "2023-04-02T06:24:34.799Z"
   },
   {
    "duration": 9,
    "start_time": "2023-04-02T06:24:34.814Z"
   },
   {
    "duration": 242,
    "start_time": "2023-04-02T06:24:34.824Z"
   },
   {
    "duration": 20,
    "start_time": "2023-04-02T06:24:35.068Z"
   },
   {
    "duration": 253,
    "start_time": "2023-04-02T06:24:35.089Z"
   },
   {
    "duration": 5,
    "start_time": "2023-04-02T06:24:35.344Z"
   },
   {
    "duration": 4,
    "start_time": "2023-04-02T06:24:35.352Z"
   },
   {
    "duration": 83716,
    "start_time": "2023-04-02T06:24:35.357Z"
   },
   {
    "duration": 317,
    "start_time": "2023-04-02T06:25:59.075Z"
   },
   {
    "duration": 13,
    "start_time": "2023-04-02T06:25:59.395Z"
   },
   {
    "duration": 39,
    "start_time": "2023-04-02T06:25:59.410Z"
   },
   {
    "duration": 4,
    "start_time": "2023-04-02T06:25:59.451Z"
   },
   {
    "duration": 56,
    "start_time": "2023-04-02T06:25:59.457Z"
   },
   {
    "duration": 202,
    "start_time": "2023-04-02T06:25:59.515Z"
   },
   {
    "duration": 3,
    "start_time": "2023-04-02T06:25:59.719Z"
   },
   {
    "duration": 5122,
    "start_time": "2023-04-02T06:25:59.723Z"
   },
   {
    "duration": 5167,
    "start_time": "2023-04-02T06:26:04.846Z"
   },
   {
    "duration": 22128,
    "start_time": "2023-04-02T06:26:10.015Z"
   },
   {
    "duration": 2,
    "start_time": "2023-04-02T06:26:32.145Z"
   },
   {
    "duration": 1479242,
    "start_time": "2023-04-02T06:26:32.149Z"
   },
   {
    "duration": 1254,
    "start_time": "2023-04-02T06:51:11.393Z"
   },
   {
    "duration": 16,
    "start_time": "2023-04-02T06:51:12.649Z"
   },
   {
    "duration": 136524,
    "start_time": "2023-04-02T06:51:12.667Z"
   },
   {
    "duration": 25,
    "start_time": "2023-04-02T06:53:29.193Z"
   },
   {
    "duration": 104,
    "start_time": "2023-04-02T06:53:29.222Z"
   },
   {
    "duration": 3,
    "start_time": "2023-04-02T06:53:29.328Z"
   },
   {
    "duration": 2538,
    "start_time": "2023-04-02T07:51:04.431Z"
   },
   {
    "duration": 1378,
    "start_time": "2023-04-02T07:51:06.971Z"
   },
   {
    "duration": 5,
    "start_time": "2023-04-02T07:51:08.351Z"
   },
   {
    "duration": 24,
    "start_time": "2023-04-02T07:51:08.358Z"
   },
   {
    "duration": 13,
    "start_time": "2023-04-02T07:51:08.386Z"
   },
   {
    "duration": 303,
    "start_time": "2023-04-02T07:51:08.401Z"
   },
   {
    "duration": 23,
    "start_time": "2023-04-02T07:51:08.706Z"
   },
   {
    "duration": 397,
    "start_time": "2023-04-02T07:51:08.741Z"
   },
   {
    "duration": 12,
    "start_time": "2023-04-02T07:51:09.140Z"
   },
   {
    "duration": 4,
    "start_time": "2023-04-02T07:51:09.156Z"
   },
   {
    "duration": 127461,
    "start_time": "2023-04-02T07:51:09.166Z"
   },
   {
    "duration": 522,
    "start_time": "2023-04-02T07:53:16.629Z"
   },
   {
    "duration": 15,
    "start_time": "2023-04-02T07:53:17.153Z"
   },
   {
    "duration": 33,
    "start_time": "2023-04-02T07:53:17.172Z"
   },
   {
    "duration": 7,
    "start_time": "2023-04-02T07:53:17.207Z"
   },
   {
    "duration": 88,
    "start_time": "2023-04-02T07:53:17.217Z"
   },
   {
    "duration": 285,
    "start_time": "2023-04-02T07:53:17.307Z"
   },
   {
    "duration": 4,
    "start_time": "2023-04-02T07:53:17.595Z"
   },
   {
    "duration": 7999,
    "start_time": "2023-04-02T07:53:17.601Z"
   },
   {
    "duration": 7619,
    "start_time": "2023-04-02T07:53:25.602Z"
   },
   {
    "duration": 30466,
    "start_time": "2023-04-02T07:53:33.224Z"
   },
   {
    "duration": 23,
    "start_time": "2023-04-02T07:54:03.701Z"
   },
   {
    "duration": 1468239,
    "start_time": "2023-04-02T07:54:03.741Z"
   },
   {
    "duration": 1468,
    "start_time": "2023-04-02T08:18:31.984Z"
   },
   {
    "duration": 4,
    "start_time": "2023-04-02T08:18:33.454Z"
   },
   {
    "duration": 125525,
    "start_time": "2023-04-02T08:18:33.460Z"
   },
   {
    "duration": 23,
    "start_time": "2023-04-02T08:20:38.987Z"
   },
   {
    "duration": 96,
    "start_time": "2023-04-02T08:20:39.012Z"
   },
   {
    "duration": 3,
    "start_time": "2023-04-02T08:20:39.111Z"
   },
   {
    "duration": 3360190,
    "start_time": "2023-04-02T08:20:39.116Z"
   },
   {
    "duration": 0,
    "start_time": "2023-04-02T09:16:39.310Z"
   },
   {
    "duration": 0,
    "start_time": "2023-04-02T09:16:39.319Z"
   },
   {
    "duration": 2717,
    "start_time": "2023-04-02T09:17:36.567Z"
   },
   {
    "duration": 1576,
    "start_time": "2023-04-02T09:17:39.286Z"
   },
   {
    "duration": 4,
    "start_time": "2023-04-02T09:17:40.864Z"
   },
   {
    "duration": 35,
    "start_time": "2023-04-02T09:17:40.872Z"
   },
   {
    "duration": 13,
    "start_time": "2023-04-02T09:17:40.909Z"
   },
   {
    "duration": 361,
    "start_time": "2023-04-02T09:17:40.924Z"
   },
   {
    "duration": 64,
    "start_time": "2023-04-02T09:17:41.287Z"
   },
   {
    "duration": 422,
    "start_time": "2023-04-02T09:17:41.353Z"
   },
   {
    "duration": 10,
    "start_time": "2023-04-02T09:17:41.777Z"
   },
   {
    "duration": 13,
    "start_time": "2023-04-02T09:17:41.790Z"
   },
   {
    "duration": 149624,
    "start_time": "2023-04-02T09:17:41.809Z"
   },
   {
    "duration": 519,
    "start_time": "2023-04-02T09:20:11.435Z"
   },
   {
    "duration": 27,
    "start_time": "2023-04-02T09:20:11.970Z"
   },
   {
    "duration": 86,
    "start_time": "2023-04-02T09:20:12.005Z"
   },
   {
    "duration": 9,
    "start_time": "2023-04-02T09:20:12.097Z"
   },
   {
    "duration": 74,
    "start_time": "2023-04-02T09:20:12.114Z"
   },
   {
    "duration": 242,
    "start_time": "2023-04-02T09:20:12.192Z"
   },
   {
    "duration": 17,
    "start_time": "2023-04-02T09:20:12.436Z"
   },
   {
    "duration": 7784,
    "start_time": "2023-04-02T09:20:12.455Z"
   },
   {
    "duration": 8650,
    "start_time": "2023-04-02T09:20:20.252Z"
   },
   {
    "duration": 35427,
    "start_time": "2023-04-02T09:20:28.904Z"
   },
   {
    "duration": 5,
    "start_time": "2023-04-02T09:21:04.353Z"
   },
   {
    "duration": 1510110,
    "start_time": "2023-04-02T09:21:04.360Z"
   },
   {
    "duration": 1884,
    "start_time": "2023-04-02T09:46:14.478Z"
   },
   {
    "duration": 4,
    "start_time": "2023-04-02T09:46:16.364Z"
   },
   {
    "duration": 143369,
    "start_time": "2023-04-02T09:46:16.369Z"
   },
   {
    "duration": 44,
    "start_time": "2023-04-02T09:48:39.740Z"
   },
   {
    "duration": 135,
    "start_time": "2023-04-02T09:48:39.798Z"
   },
   {
    "duration": 13,
    "start_time": "2023-04-02T09:48:39.937Z"
   },
   {
    "duration": 1370152,
    "start_time": "2023-04-02T09:48:39.952Z"
   },
   {
    "duration": 8,
    "start_time": "2023-04-02T10:11:30.106Z"
   },
   {
    "duration": 18,
    "start_time": "2023-04-02T10:11:30.115Z"
   },
   {
    "duration": 2286,
    "start_time": "2023-04-03T17:59:53.051Z"
   },
   {
    "duration": 3041,
    "start_time": "2023-04-03T17:59:55.347Z"
   },
   {
    "duration": 5,
    "start_time": "2023-04-03T17:59:58.389Z"
   },
   {
    "duration": 29,
    "start_time": "2023-04-03T17:59:58.396Z"
   },
   {
    "duration": 25,
    "start_time": "2023-04-03T17:59:58.428Z"
   },
   {
    "duration": 316,
    "start_time": "2023-04-03T17:59:58.455Z"
   },
   {
    "duration": 29,
    "start_time": "2023-04-03T17:59:58.773Z"
   },
   {
    "duration": 343,
    "start_time": "2023-04-03T17:59:58.804Z"
   },
   {
    "duration": 5,
    "start_time": "2023-04-03T17:59:59.154Z"
   },
   {
    "duration": 8,
    "start_time": "2023-04-03T17:59:59.161Z"
   },
   {
    "duration": 4,
    "start_time": "2023-04-03T18:00:04.208Z"
   },
   {
    "duration": 458,
    "start_time": "2023-04-03T18:00:13.653Z"
   },
   {
    "duration": 4,
    "start_time": "2023-04-03T18:03:41.656Z"
   },
   {
    "duration": 313,
    "start_time": "2023-04-03T18:03:44.903Z"
   },
   {
    "duration": 413,
    "start_time": "2023-04-03T18:05:27.633Z"
   },
   {
    "duration": 977,
    "start_time": "2023-04-03T18:05:28.052Z"
   },
   {
    "duration": 13,
    "start_time": "2023-04-03T18:05:29.034Z"
   },
   {
    "duration": 29,
    "start_time": "2023-04-03T18:05:29.049Z"
   },
   {
    "duration": 31,
    "start_time": "2023-04-03T18:05:29.081Z"
   },
   {
    "duration": 282,
    "start_time": "2023-04-03T18:05:29.114Z"
   },
   {
    "duration": 21,
    "start_time": "2023-04-03T18:05:29.397Z"
   },
   {
    "duration": 330,
    "start_time": "2023-04-03T18:05:29.420Z"
   },
   {
    "duration": 5,
    "start_time": "2023-04-03T18:05:29.756Z"
   },
   {
    "duration": 17,
    "start_time": "2023-04-03T18:05:29.765Z"
   },
   {
    "duration": 4,
    "start_time": "2023-04-03T18:05:34.022Z"
   },
   {
    "duration": 1970,
    "start_time": "2023-04-03T18:05:36.906Z"
   },
   {
    "duration": 3,
    "start_time": "2023-04-03T18:06:14.871Z"
   },
   {
    "duration": 285,
    "start_time": "2023-04-03T18:06:17.431Z"
   },
   {
    "duration": 3,
    "start_time": "2023-04-03T18:07:52.177Z"
   },
   {
    "duration": 2269,
    "start_time": "2023-04-03T18:09:11.909Z"
   },
   {
    "duration": 1172,
    "start_time": "2023-04-03T18:09:14.181Z"
   },
   {
    "duration": 6,
    "start_time": "2023-04-03T18:09:15.363Z"
   },
   {
    "duration": 18,
    "start_time": "2023-04-03T18:09:15.370Z"
   },
   {
    "duration": 10,
    "start_time": "2023-04-03T18:09:15.390Z"
   },
   {
    "duration": 298,
    "start_time": "2023-04-03T18:09:15.402Z"
   },
   {
    "duration": 21,
    "start_time": "2023-04-03T18:09:15.702Z"
   },
   {
    "duration": 331,
    "start_time": "2023-04-03T18:09:15.734Z"
   },
   {
    "duration": 4,
    "start_time": "2023-04-03T18:09:16.066Z"
   },
   {
    "duration": 16,
    "start_time": "2023-04-03T18:09:16.080Z"
   },
   {
    "duration": 16,
    "start_time": "2023-04-03T18:09:16.098Z"
   },
   {
    "duration": 2106,
    "start_time": "2023-04-03T18:17:33.204Z"
   },
   {
    "duration": 1148,
    "start_time": "2023-04-03T18:17:35.313Z"
   },
   {
    "duration": 4,
    "start_time": "2023-04-03T18:17:36.467Z"
   },
   {
    "duration": 38,
    "start_time": "2023-04-03T18:17:36.473Z"
   },
   {
    "duration": 61,
    "start_time": "2023-04-03T18:17:36.514Z"
   },
   {
    "duration": 309,
    "start_time": "2023-04-03T18:17:36.577Z"
   },
   {
    "duration": 27,
    "start_time": "2023-04-03T18:17:36.890Z"
   },
   {
    "duration": 383,
    "start_time": "2023-04-03T18:17:36.919Z"
   },
   {
    "duration": 7,
    "start_time": "2023-04-03T18:17:37.304Z"
   },
   {
    "duration": 84,
    "start_time": "2023-04-03T18:17:37.312Z"
   },
   {
    "duration": 27,
    "start_time": "2023-04-03T18:17:37.398Z"
   },
   {
    "duration": 2173,
    "start_time": "2023-04-03T18:17:40.496Z"
   },
   {
    "duration": 5,
    "start_time": "2023-04-03T18:18:22.861Z"
   },
   {
    "duration": 246,
    "start_time": "2023-04-03T18:18:25.781Z"
   },
   {
    "duration": 8,
    "start_time": "2023-04-03T18:19:25.536Z"
   },
   {
    "duration": 2019,
    "start_time": "2023-04-03T18:42:49.133Z"
   },
   {
    "duration": 1130,
    "start_time": "2023-04-03T18:42:51.155Z"
   },
   {
    "duration": 4,
    "start_time": "2023-04-03T18:42:52.288Z"
   },
   {
    "duration": 46,
    "start_time": "2023-04-03T18:42:52.295Z"
   },
   {
    "duration": 30,
    "start_time": "2023-04-03T18:42:52.343Z"
   },
   {
    "duration": 326,
    "start_time": "2023-04-03T18:42:52.375Z"
   },
   {
    "duration": 37,
    "start_time": "2023-04-03T18:42:52.703Z"
   },
   {
    "duration": 314,
    "start_time": "2023-04-03T18:42:52.749Z"
   },
   {
    "duration": 4,
    "start_time": "2023-04-03T18:42:53.064Z"
   },
   {
    "duration": 9,
    "start_time": "2023-04-03T18:42:53.071Z"
   },
   {
    "duration": 19,
    "start_time": "2023-04-03T18:42:53.083Z"
   },
   {
    "duration": 1991,
    "start_time": "2023-04-03T18:42:57.229Z"
   },
   {
    "duration": 5,
    "start_time": "2023-04-03T18:45:24.889Z"
   },
   {
    "duration": 272,
    "start_time": "2023-04-03T18:45:29.559Z"
   },
   {
    "duration": 76,
    "start_time": "2023-04-03T18:47:25.005Z"
   },
   {
    "duration": 6,
    "start_time": "2023-04-03T18:47:32.909Z"
   },
   {
    "duration": 2057,
    "start_time": "2023-04-03T18:56:22.312Z"
   },
   {
    "duration": 1201,
    "start_time": "2023-04-03T18:56:24.372Z"
   },
   {
    "duration": 4,
    "start_time": "2023-04-03T18:56:25.575Z"
   },
   {
    "duration": 20,
    "start_time": "2023-04-03T18:56:25.580Z"
   },
   {
    "duration": 12,
    "start_time": "2023-04-03T18:56:25.602Z"
   },
   {
    "duration": 287,
    "start_time": "2023-04-03T18:56:25.636Z"
   },
   {
    "duration": 31,
    "start_time": "2023-04-03T18:56:25.925Z"
   },
   {
    "duration": 333,
    "start_time": "2023-04-03T18:56:25.957Z"
   },
   {
    "duration": 4,
    "start_time": "2023-04-03T18:56:26.291Z"
   },
   {
    "duration": 8,
    "start_time": "2023-04-03T18:56:26.296Z"
   },
   {
    "duration": 9,
    "start_time": "2023-04-03T18:56:26.306Z"
   },
   {
    "duration": 1405781,
    "start_time": "2023-04-03T18:56:29.806Z"
   },
   {
    "duration": 4,
    "start_time": "2023-04-03T19:27:55.918Z"
   },
   {
    "duration": 393,
    "start_time": "2023-04-03T19:28:01.188Z"
   },
   {
    "duration": 1861,
    "start_time": "2023-04-03T19:28:44.159Z"
   },
   {
    "duration": 1096,
    "start_time": "2023-04-03T19:28:46.023Z"
   },
   {
    "duration": 3,
    "start_time": "2023-04-03T19:28:47.121Z"
   },
   {
    "duration": 20,
    "start_time": "2023-04-03T19:28:47.134Z"
   },
   {
    "duration": 17,
    "start_time": "2023-04-03T19:28:47.156Z"
   },
   {
    "duration": 285,
    "start_time": "2023-04-03T19:28:47.175Z"
   },
   {
    "duration": 20,
    "start_time": "2023-04-03T19:28:47.463Z"
   },
   {
    "duration": 299,
    "start_time": "2023-04-03T19:28:47.485Z"
   },
   {
    "duration": 4,
    "start_time": "2023-04-03T19:28:47.786Z"
   },
   {
    "duration": 15,
    "start_time": "2023-04-03T19:28:47.793Z"
   },
   {
    "duration": 15,
    "start_time": "2023-04-03T19:28:47.809Z"
   },
   {
    "duration": 106318,
    "start_time": "2023-04-03T19:28:51.759Z"
   },
   {
    "duration": 1926,
    "start_time": "2023-04-03T20:07:14.280Z"
   },
   {
    "duration": 1200,
    "start_time": "2023-04-03T20:07:16.209Z"
   },
   {
    "duration": 5,
    "start_time": "2023-04-03T20:07:17.410Z"
   },
   {
    "duration": 31,
    "start_time": "2023-04-03T20:07:17.417Z"
   },
   {
    "duration": 32,
    "start_time": "2023-04-03T20:07:17.451Z"
   },
   {
    "duration": 298,
    "start_time": "2023-04-03T20:07:17.486Z"
   },
   {
    "duration": 19,
    "start_time": "2023-04-03T20:07:17.785Z"
   },
   {
    "duration": 319,
    "start_time": "2023-04-03T20:07:17.806Z"
   },
   {
    "duration": 9,
    "start_time": "2023-04-03T20:07:18.127Z"
   },
   {
    "duration": 27,
    "start_time": "2023-04-03T20:07:18.138Z"
   },
   {
    "duration": 6,
    "start_time": "2023-04-03T20:07:18.166Z"
   },
   {
    "duration": 1390358,
    "start_time": "2023-04-03T20:07:21.865Z"
   },
   {
    "duration": 736,
    "start_time": "2023-04-03T20:31:16.121Z"
   },
   {
    "duration": 15,
    "start_time": "2023-04-03T20:31:19.435Z"
   },
   {
    "duration": 28,
    "start_time": "2023-04-03T20:31:22.481Z"
   },
   {
    "duration": 2261,
    "start_time": "2023-04-03T20:33:00.659Z"
   },
   {
    "duration": 8072,
    "start_time": "2023-04-03T20:33:53.494Z"
   },
   {
    "duration": 6415,
    "start_time": "2023-04-03T20:35:41.010Z"
   },
   {
    "duration": 70,
    "start_time": "2023-04-03T20:38:07.620Z"
   },
   {
    "duration": 2109,
    "start_time": "2023-04-03T20:38:36.849Z"
   },
   {
    "duration": 2867,
    "start_time": "2023-04-03T20:38:38.964Z"
   },
   {
    "duration": 14,
    "start_time": "2023-04-03T20:38:41.834Z"
   },
   {
    "duration": 36,
    "start_time": "2023-04-03T20:38:41.850Z"
   },
   {
    "duration": 12,
    "start_time": "2023-04-03T20:38:41.890Z"
   },
   {
    "duration": 270,
    "start_time": "2023-04-03T20:38:41.904Z"
   },
   {
    "duration": 21,
    "start_time": "2023-04-03T20:38:42.176Z"
   },
   {
    "duration": 306,
    "start_time": "2023-04-03T20:38:42.199Z"
   },
   {
    "duration": 3,
    "start_time": "2023-04-03T20:38:42.508Z"
   },
   {
    "duration": 10,
    "start_time": "2023-04-03T20:38:42.514Z"
   },
   {
    "duration": 20,
    "start_time": "2023-04-03T20:38:42.526Z"
   },
   {
    "duration": 1403722,
    "start_time": "2023-04-03T20:38:42.549Z"
   },
   {
    "duration": 773,
    "start_time": "2023-04-03T21:02:06.273Z"
   },
   {
    "duration": 13,
    "start_time": "2023-04-03T21:02:07.049Z"
   },
   {
    "duration": 37,
    "start_time": "2023-04-03T21:02:07.064Z"
   },
   {
    "duration": 2389,
    "start_time": "2023-04-03T21:02:07.103Z"
   },
   {
    "duration": 8690,
    "start_time": "2023-04-03T21:02:09.494Z"
   },
   {
    "duration": 6307,
    "start_time": "2023-04-03T21:02:18.186Z"
   },
   {
    "duration": 1942,
    "start_time": "2023-04-03T21:21:48.874Z"
   },
   {
    "duration": 2882,
    "start_time": "2023-04-03T21:21:50.818Z"
   },
   {
    "duration": 5,
    "start_time": "2023-04-03T21:21:53.702Z"
   },
   {
    "duration": 33,
    "start_time": "2023-04-03T21:21:53.710Z"
   },
   {
    "duration": 14,
    "start_time": "2023-04-03T21:21:53.749Z"
   },
   {
    "duration": 299,
    "start_time": "2023-04-03T21:21:53.765Z"
   },
   {
    "duration": 26,
    "start_time": "2023-04-03T21:21:54.068Z"
   },
   {
    "duration": 315,
    "start_time": "2023-04-03T21:21:54.095Z"
   },
   {
    "duration": 4,
    "start_time": "2023-04-03T21:21:54.412Z"
   },
   {
    "duration": 23,
    "start_time": "2023-04-03T21:21:54.419Z"
   },
   {
    "duration": 14,
    "start_time": "2023-04-03T21:21:54.444Z"
   },
   {
    "duration": 1346033,
    "start_time": "2023-04-03T21:21:54.460Z"
   },
   {
    "duration": 631,
    "start_time": "2023-04-03T21:44:20.495Z"
   },
   {
    "duration": 20,
    "start_time": "2023-04-03T21:44:21.128Z"
   },
   {
    "duration": 37,
    "start_time": "2023-04-03T21:44:21.150Z"
   },
   {
    "duration": 2410,
    "start_time": "2023-04-03T21:44:21.189Z"
   },
   {
    "duration": 7901,
    "start_time": "2023-04-03T21:44:23.601Z"
   },
   {
    "duration": 5982,
    "start_time": "2023-04-03T21:44:31.504Z"
   },
   {
    "duration": 2,
    "start_time": "2023-04-03T21:44:37.488Z"
   },
   {
    "duration": 7,
    "start_time": "2023-04-03T21:45:45.391Z"
   },
   {
    "duration": 142,
    "start_time": "2023-04-03T21:54:00.789Z"
   },
   {
    "duration": 12,
    "start_time": "2023-04-03T21:55:21.734Z"
   },
   {
    "duration": 16,
    "start_time": "2023-04-03T21:55:39.070Z"
   },
   {
    "duration": 13,
    "start_time": "2023-04-03T21:56:11.080Z"
   },
   {
    "duration": 134357,
    "start_time": "2023-04-03T22:03:53.652Z"
   },
   {
    "duration": 2467,
    "start_time": "2023-04-03T22:06:57.249Z"
   },
   {
    "duration": 11,
    "start_time": "2023-04-03T22:07:17.682Z"
   },
   {
    "duration": 3,
    "start_time": "2023-04-03T22:07:41.546Z"
   },
   {
    "duration": 119695,
    "start_time": "2023-04-03T22:07:44.467Z"
   },
   {
    "duration": 16,
    "start_time": "2023-04-03T22:09:52.542Z"
   },
   {
    "duration": 36,
    "start_time": "2023-04-03T22:09:55.606Z"
   },
   {
    "duration": 3,
    "start_time": "2023-04-03T22:10:00.439Z"
   },
   {
    "duration": 64441,
    "start_time": "2023-04-03T22:10:06.430Z"
   },
   {
    "duration": 7,
    "start_time": "2023-04-03T22:11:18.657Z"
   },
   {
    "duration": 16,
    "start_time": "2023-04-03T22:11:21.121Z"
   },
   {
    "duration": 2103,
    "start_time": "2023-04-06T16:56:58.140Z"
   },
   {
    "duration": 2372,
    "start_time": "2023-04-06T16:57:00.245Z"
   },
   {
    "duration": 4,
    "start_time": "2023-04-06T16:57:02.618Z"
   },
   {
    "duration": 39,
    "start_time": "2023-04-06T16:57:02.624Z"
   },
   {
    "duration": 8,
    "start_time": "2023-04-06T16:57:02.665Z"
   },
   {
    "duration": 212,
    "start_time": "2023-04-06T16:57:02.675Z"
   },
   {
    "duration": 19,
    "start_time": "2023-04-06T16:57:02.888Z"
   },
   {
    "duration": 242,
    "start_time": "2023-04-06T16:57:02.909Z"
   },
   {
    "duration": 3,
    "start_time": "2023-04-06T16:57:03.153Z"
   },
   {
    "duration": 8,
    "start_time": "2023-04-06T16:57:03.158Z"
   },
   {
    "duration": 8,
    "start_time": "2023-04-06T16:57:03.167Z"
   },
   {
    "duration": 1083697,
    "start_time": "2023-04-06T16:57:03.176Z"
   },
   {
    "duration": 551,
    "start_time": "2023-04-06T17:15:06.875Z"
   },
   {
    "duration": 15,
    "start_time": "2023-04-06T17:15:07.427Z"
   },
   {
    "duration": 37,
    "start_time": "2023-04-06T17:15:07.443Z"
   },
   {
    "duration": 1944,
    "start_time": "2023-04-06T17:15:07.483Z"
   },
   {
    "duration": 6394,
    "start_time": "2023-04-06T17:15:09.434Z"
   },
   {
    "duration": 4867,
    "start_time": "2023-04-06T17:15:15.835Z"
   },
   {
    "duration": 3,
    "start_time": "2023-04-06T17:15:20.704Z"
   },
   {
    "duration": 132386,
    "start_time": "2023-04-06T17:15:20.709Z"
   },
   {
    "duration": 2138,
    "start_time": "2023-04-06T17:17:33.097Z"
   },
   {
    "duration": 3,
    "start_time": "2023-04-06T17:17:35.237Z"
   },
   {
    "duration": 119815,
    "start_time": "2023-04-06T17:17:35.241Z"
   },
   {
    "duration": 18,
    "start_time": "2023-04-06T17:19:35.058Z"
   },
   {
    "duration": 57,
    "start_time": "2023-04-06T17:19:35.078Z"
   },
   {
    "duration": 4,
    "start_time": "2023-04-06T17:19:35.137Z"
   },
   {
    "duration": 223640,
    "start_time": "2023-04-06T17:19:35.144Z"
   },
   {
    "duration": 7,
    "start_time": "2023-04-06T17:23:18.787Z"
   },
   {
    "duration": 42,
    "start_time": "2023-04-06T17:23:18.796Z"
   },
   {
    "duration": 12,
    "start_time": "2023-04-06T17:23:46.993Z"
   },
   {
    "duration": 152,
    "start_time": "2023-04-06T17:25:25.268Z"
   },
   {
    "duration": 12,
    "start_time": "2023-04-06T17:25:46.109Z"
   },
   {
    "duration": 9,
    "start_time": "2023-04-06T17:26:04.134Z"
   },
   {
    "duration": 12,
    "start_time": "2023-04-06T17:26:51.503Z"
   },
   {
    "duration": 55,
    "start_time": "2023-04-06T17:31:44.483Z"
   },
   {
    "duration": 2,
    "start_time": "2023-04-06T17:36:59.917Z"
   },
   {
    "duration": 9,
    "start_time": "2023-04-06T17:37:07.816Z"
   },
   {
    "duration": 1744,
    "start_time": "2023-04-06T17:41:25.093Z"
   },
   {
    "duration": 876,
    "start_time": "2023-04-06T17:41:26.839Z"
   },
   {
    "duration": 3,
    "start_time": "2023-04-06T17:41:27.717Z"
   },
   {
    "duration": 17,
    "start_time": "2023-04-06T17:41:27.722Z"
   },
   {
    "duration": 17,
    "start_time": "2023-04-06T17:41:27.741Z"
   },
   {
    "duration": 228,
    "start_time": "2023-04-06T17:41:27.760Z"
   },
   {
    "duration": 20,
    "start_time": "2023-04-06T17:41:27.989Z"
   },
   {
    "duration": 241,
    "start_time": "2023-04-06T17:41:28.011Z"
   },
   {
    "duration": 3,
    "start_time": "2023-04-06T17:41:28.253Z"
   },
   {
    "duration": 9,
    "start_time": "2023-04-06T17:41:28.258Z"
   },
   {
    "duration": 10,
    "start_time": "2023-04-06T17:41:28.268Z"
   },
   {
    "duration": 1095259,
    "start_time": "2023-04-06T17:41:28.279Z"
   },
   {
    "duration": 575,
    "start_time": "2023-04-06T17:59:43.542Z"
   },
   {
    "duration": 16,
    "start_time": "2023-04-06T17:59:44.119Z"
   },
   {
    "duration": 43,
    "start_time": "2023-04-06T17:59:44.143Z"
   },
   {
    "duration": 1821,
    "start_time": "2023-04-06T18:00:57.710Z"
   },
   {
    "duration": 2736,
    "start_time": "2023-04-06T18:00:59.533Z"
   },
   {
    "duration": 4,
    "start_time": "2023-04-06T18:01:02.271Z"
   },
   {
    "duration": 43,
    "start_time": "2023-04-06T18:01:02.277Z"
   },
   {
    "duration": 34,
    "start_time": "2023-04-06T18:01:02.321Z"
   },
   {
    "duration": 239,
    "start_time": "2023-04-06T18:01:02.357Z"
   },
   {
    "duration": 18,
    "start_time": "2023-04-06T18:01:02.597Z"
   },
   {
    "duration": 275,
    "start_time": "2023-04-06T18:01:02.616Z"
   },
   {
    "duration": 3,
    "start_time": "2023-04-06T18:01:02.893Z"
   },
   {
    "duration": 15,
    "start_time": "2023-04-06T18:01:02.898Z"
   },
   {
    "duration": 38,
    "start_time": "2023-04-06T18:01:02.915Z"
   },
   {
    "duration": 1092270,
    "start_time": "2023-04-06T18:01:02.955Z"
   },
   {
    "duration": 535,
    "start_time": "2023-04-06T18:19:15.226Z"
   },
   {
    "duration": 12,
    "start_time": "2023-04-06T18:19:15.763Z"
   },
   {
    "duration": 58,
    "start_time": "2023-04-06T18:19:15.776Z"
   },
   {
    "duration": 1814,
    "start_time": "2023-04-06T19:31:27.973Z"
   },
   {
    "duration": 2572,
    "start_time": "2023-04-06T19:31:29.789Z"
   },
   {
    "duration": 6,
    "start_time": "2023-04-06T19:31:32.362Z"
   },
   {
    "duration": 38,
    "start_time": "2023-04-06T19:31:32.371Z"
   },
   {
    "duration": 17,
    "start_time": "2023-04-06T19:31:32.411Z"
   },
   {
    "duration": 254,
    "start_time": "2023-04-06T19:31:32.430Z"
   },
   {
    "duration": 17,
    "start_time": "2023-04-06T19:31:32.685Z"
   },
   {
    "duration": 270,
    "start_time": "2023-04-06T19:31:32.703Z"
   },
   {
    "duration": 3,
    "start_time": "2023-04-06T19:31:32.975Z"
   },
   {
    "duration": 6,
    "start_time": "2023-04-06T19:31:32.981Z"
   },
   {
    "duration": 8,
    "start_time": "2023-04-06T19:31:32.988Z"
   },
   {
    "duration": 1149156,
    "start_time": "2023-04-06T19:31:32.998Z"
   },
   {
    "duration": 526,
    "start_time": "2023-04-06T19:50:42.155Z"
   },
   {
    "duration": 10,
    "start_time": "2023-04-06T19:50:42.683Z"
   },
   {
    "duration": 54,
    "start_time": "2023-04-06T19:50:42.694Z"
   },
   {
    "duration": 1795,
    "start_time": "2023-04-06T19:51:28.642Z"
   },
   {
    "duration": 2488,
    "start_time": "2023-04-06T19:51:30.439Z"
   },
   {
    "duration": 3,
    "start_time": "2023-04-06T19:51:32.929Z"
   },
   {
    "duration": 16,
    "start_time": "2023-04-06T19:51:32.934Z"
   },
   {
    "duration": 9,
    "start_time": "2023-04-06T19:51:32.952Z"
   },
   {
    "duration": 233,
    "start_time": "2023-04-06T19:51:32.964Z"
   },
   {
    "duration": 17,
    "start_time": "2023-04-06T19:51:33.199Z"
   },
   {
    "duration": 255,
    "start_time": "2023-04-06T19:51:33.218Z"
   },
   {
    "duration": 3,
    "start_time": "2023-04-06T19:51:33.475Z"
   },
   {
    "duration": 12,
    "start_time": "2023-04-06T19:51:33.479Z"
   },
   {
    "duration": 24,
    "start_time": "2023-04-06T19:51:33.492Z"
   },
   {
    "duration": 577,
    "start_time": "2023-04-06T19:51:47.262Z"
   },
   {
    "duration": 11,
    "start_time": "2023-04-06T19:51:50.664Z"
   },
   {
    "duration": 32,
    "start_time": "2023-04-06T19:51:53.058Z"
   },
   {
    "duration": 2093,
    "start_time": "2023-04-06T19:51:59.601Z"
   },
   {
    "duration": 7151,
    "start_time": "2023-04-06T19:52:08.274Z"
   },
   {
    "duration": 6506,
    "start_time": "2023-04-06T19:52:20.010Z"
   },
   {
    "duration": 1079124,
    "start_time": "2023-04-06T19:52:32.770Z"
   },
   {
    "duration": 548,
    "start_time": "2023-04-06T20:10:43.355Z"
   },
   {
    "duration": 22,
    "start_time": "2023-04-06T20:10:48.043Z"
   },
   {
    "duration": 38,
    "start_time": "2023-04-06T20:10:50.923Z"
   },
   {
    "duration": 25,
    "start_time": "2023-04-06T20:10:53.835Z"
   },
   {
    "duration": 47,
    "start_time": "2023-04-06T20:11:22.467Z"
   },
   {
    "duration": 1683,
    "start_time": "2023-04-06T20:13:35.758Z"
   },
   {
    "duration": 2368,
    "start_time": "2023-04-06T20:13:37.442Z"
   },
   {
    "duration": 3,
    "start_time": "2023-04-06T20:13:39.812Z"
   },
   {
    "duration": 14,
    "start_time": "2023-04-06T20:13:39.816Z"
   },
   {
    "duration": 9,
    "start_time": "2023-04-06T20:13:39.832Z"
   },
   {
    "duration": 223,
    "start_time": "2023-04-06T20:13:39.842Z"
   },
   {
    "duration": 18,
    "start_time": "2023-04-06T20:13:40.066Z"
   },
   {
    "duration": 245,
    "start_time": "2023-04-06T20:13:40.085Z"
   },
   {
    "duration": 4,
    "start_time": "2023-04-06T20:13:40.335Z"
   },
   {
    "duration": 16,
    "start_time": "2023-04-06T20:13:40.340Z"
   },
   {
    "duration": 6,
    "start_time": "2023-04-06T20:13:40.358Z"
   },
   {
    "duration": 545,
    "start_time": "2023-04-06T20:13:40.366Z"
   },
   {
    "duration": 11,
    "start_time": "2023-04-06T20:13:40.913Z"
   },
   {
    "duration": 23,
    "start_time": "2023-04-06T20:13:40.934Z"
   },
   {
    "duration": 13,
    "start_time": "2023-04-06T20:13:40.959Z"
   },
   {
    "duration": 638080,
    "start_time": "2023-04-06T20:13:40.974Z"
   },
   {
    "duration": 209390,
    "start_time": "2023-04-06T20:24:19.055Z"
   },
   {
    "duration": 213188,
    "start_time": "2023-04-06T20:27:48.446Z"
   },
   {
    "duration": 688,
    "start_time": "2023-04-06T20:32:04.972Z"
   },
   {
    "duration": 0,
    "start_time": "2023-04-06T20:32:05.663Z"
   },
   {
    "duration": 0,
    "start_time": "2023-04-06T20:32:05.664Z"
   },
   {
    "duration": 0,
    "start_time": "2023-04-06T20:32:05.665Z"
   },
   {
    "duration": 0,
    "start_time": "2023-04-06T20:32:05.666Z"
   },
   {
    "duration": 0,
    "start_time": "2023-04-06T20:32:05.668Z"
   },
   {
    "duration": 0,
    "start_time": "2023-04-06T20:32:05.669Z"
   },
   {
    "duration": 0,
    "start_time": "2023-04-06T20:32:05.670Z"
   },
   {
    "duration": 1,
    "start_time": "2023-04-06T20:32:05.671Z"
   },
   {
    "duration": 0,
    "start_time": "2023-04-06T20:32:05.673Z"
   },
   {
    "duration": 0,
    "start_time": "2023-04-06T20:32:05.674Z"
   },
   {
    "duration": 0,
    "start_time": "2023-04-06T20:32:05.675Z"
   },
   {
    "duration": 588,
    "start_time": "2023-04-06T20:32:59.794Z"
   },
   {
    "duration": 5,
    "start_time": "2023-04-06T20:33:26.097Z"
   },
   {
    "duration": 540,
    "start_time": "2023-04-06T20:34:07.027Z"
   },
   {
    "duration": 774,
    "start_time": "2023-04-06T20:34:30.412Z"
   },
   {
    "duration": 2054,
    "start_time": "2023-04-06T20:35:10.075Z"
   },
   {
    "duration": 871,
    "start_time": "2023-04-06T20:35:12.131Z"
   },
   {
    "duration": 4,
    "start_time": "2023-04-06T20:35:13.003Z"
   },
   {
    "duration": 13,
    "start_time": "2023-04-06T20:35:13.008Z"
   },
   {
    "duration": 9,
    "start_time": "2023-04-06T20:35:13.034Z"
   },
   {
    "duration": 232,
    "start_time": "2023-04-06T20:35:13.044Z"
   },
   {
    "duration": 19,
    "start_time": "2023-04-06T20:35:13.278Z"
   },
   {
    "duration": 244,
    "start_time": "2023-04-06T20:35:13.299Z"
   },
   {
    "duration": 3,
    "start_time": "2023-04-06T20:35:13.544Z"
   },
   {
    "duration": 5,
    "start_time": "2023-04-06T20:35:13.550Z"
   },
   {
    "duration": 4,
    "start_time": "2023-04-06T20:35:13.557Z"
   },
   {
    "duration": 554,
    "start_time": "2023-04-06T20:35:13.562Z"
   },
   {
    "duration": 17,
    "start_time": "2023-04-06T20:35:14.118Z"
   },
   {
    "duration": 25,
    "start_time": "2023-04-06T20:35:14.137Z"
   },
   {
    "duration": 11,
    "start_time": "2023-04-06T20:35:14.164Z"
   },
   {
    "duration": 649508,
    "start_time": "2023-04-06T20:35:14.176Z"
   },
   {
    "duration": 214389,
    "start_time": "2023-04-06T20:46:03.686Z"
   },
   {
    "duration": 220422,
    "start_time": "2023-04-06T20:49:38.076Z"
   },
   {
    "duration": 662,
    "start_time": "2023-04-06T20:53:18.500Z"
   },
   {
    "duration": 0,
    "start_time": "2023-04-06T20:53:19.164Z"
   },
   {
    "duration": 0,
    "start_time": "2023-04-06T20:53:19.165Z"
   },
   {
    "duration": 0,
    "start_time": "2023-04-06T20:53:19.166Z"
   },
   {
    "duration": 0,
    "start_time": "2023-04-06T20:53:19.167Z"
   },
   {
    "duration": 0,
    "start_time": "2023-04-06T20:53:19.168Z"
   },
   {
    "duration": 0,
    "start_time": "2023-04-06T20:53:19.168Z"
   },
   {
    "duration": 0,
    "start_time": "2023-04-06T20:53:19.169Z"
   },
   {
    "duration": 0,
    "start_time": "2023-04-06T20:53:19.170Z"
   },
   {
    "duration": 0,
    "start_time": "2023-04-06T20:53:19.171Z"
   },
   {
    "duration": 0,
    "start_time": "2023-04-06T20:53:19.172Z"
   },
   {
    "duration": 1965,
    "start_time": "2023-04-06T21:00:04.072Z"
   },
   {
    "duration": 6796,
    "start_time": "2023-04-06T21:00:11.058Z"
   },
   {
    "duration": 11,
    "start_time": "2023-04-06T21:00:20.888Z"
   },
   {
    "duration": 5581,
    "start_time": "2023-04-06T21:00:44.756Z"
   },
   {
    "duration": 3,
    "start_time": "2023-04-06T21:00:56.762Z"
   },
   {
    "duration": 12,
    "start_time": "2023-04-06T21:01:00.499Z"
   },
   {
    "duration": 5521,
    "start_time": "2023-04-06T21:01:31.251Z"
   },
   {
    "duration": 2,
    "start_time": "2023-04-06T21:01:42.235Z"
   },
   {
    "duration": 292333,
    "start_time": "2023-04-06T21:01:45.411Z"
   },
   {
    "duration": 1655,
    "start_time": "2023-04-06T21:06:55.629Z"
   },
   {
    "duration": 10,
    "start_time": "2023-04-06T21:07:03.644Z"
   },
   {
    "duration": 3,
    "start_time": "2023-04-06T21:08:00.438Z"
   },
   {
    "duration": 126192,
    "start_time": "2023-04-06T21:08:05.354Z"
   },
   {
    "duration": 206685,
    "start_time": "2023-04-06T21:10:22.659Z"
   },
   {
    "duration": 11,
    "start_time": "2023-04-06T21:14:23.297Z"
   },
   {
    "duration": 7,
    "start_time": "2023-04-06T21:14:39.780Z"
   },
   {
    "duration": 9,
    "start_time": "2023-04-06T21:14:45.401Z"
   },
   {
    "duration": 11,
    "start_time": "2023-04-06T21:15:13.746Z"
   },
   {
    "duration": 10,
    "start_time": "2023-04-06T21:15:45.148Z"
   },
   {
    "duration": 11,
    "start_time": "2023-04-06T21:16:02.212Z"
   },
   {
    "duration": 200984,
    "start_time": "2023-04-06T21:17:29.366Z"
   },
   {
    "duration": 10,
    "start_time": "2023-04-06T21:21:01.957Z"
   },
   {
    "duration": 10,
    "start_time": "2023-04-06T21:21:04.506Z"
   },
   {
    "duration": 12,
    "start_time": "2023-04-06T21:25:21.601Z"
   },
   {
    "duration": 6,
    "start_time": "2023-04-06T21:25:37.364Z"
   },
   {
    "duration": 9,
    "start_time": "2023-04-06T21:25:40.069Z"
   },
   {
    "duration": 11,
    "start_time": "2023-04-06T21:25:48.854Z"
   },
   {
    "duration": 5,
    "start_time": "2023-04-06T21:26:16.397Z"
   },
   {
    "duration": 10,
    "start_time": "2023-04-06T21:26:56.097Z"
   },
   {
    "duration": 10,
    "start_time": "2023-04-06T21:27:02.207Z"
   },
   {
    "duration": 10,
    "start_time": "2023-04-06T21:28:39.604Z"
   },
   {
    "duration": 18,
    "start_time": "2023-04-06T21:29:26.939Z"
   },
   {
    "duration": 14,
    "start_time": "2023-04-06T21:29:54.636Z"
   },
   {
    "duration": 11,
    "start_time": "2023-04-06T21:30:18.140Z"
   },
   {
    "duration": 9,
    "start_time": "2023-04-06T21:30:48.102Z"
   },
   {
    "duration": 17,
    "start_time": "2023-04-06T21:31:47.705Z"
   },
   {
    "duration": 12,
    "start_time": "2023-04-06T21:35:04.477Z"
   },
   {
    "duration": 7,
    "start_time": "2023-04-06T21:35:28.102Z"
   },
   {
    "duration": 9,
    "start_time": "2023-04-06T21:35:40.405Z"
   },
   {
    "duration": 9,
    "start_time": "2023-04-06T21:35:50.054Z"
   },
   {
    "duration": 9,
    "start_time": "2023-04-06T21:35:54.315Z"
   },
   {
    "duration": 5,
    "start_time": "2023-04-06T21:35:57.845Z"
   },
   {
    "duration": 10,
    "start_time": "2023-04-06T21:36:00.046Z"
   },
   {
    "duration": 10,
    "start_time": "2023-04-06T21:37:00.143Z"
   },
   {
    "duration": 6,
    "start_time": "2023-04-06T21:39:08.948Z"
   },
   {
    "duration": 242903,
    "start_time": "2023-04-06T21:40:36.742Z"
   },
   {
    "duration": 54,
    "start_time": "2023-04-06T21:48:00.909Z"
   },
   {
    "duration": 2171,
    "start_time": "2023-04-07T21:15:02.816Z"
   },
   {
    "duration": 2432,
    "start_time": "2023-04-07T21:15:04.988Z"
   },
   {
    "duration": 4,
    "start_time": "2023-04-07T21:15:07.421Z"
   },
   {
    "duration": 13,
    "start_time": "2023-04-07T21:15:07.427Z"
   },
   {
    "duration": 9,
    "start_time": "2023-04-07T21:15:07.443Z"
   },
   {
    "duration": 242,
    "start_time": "2023-04-07T21:15:07.454Z"
   },
   {
    "duration": 14,
    "start_time": "2023-04-07T21:15:07.697Z"
   },
   {
    "duration": 197,
    "start_time": "2023-04-07T21:15:07.713Z"
   },
   {
    "duration": 3,
    "start_time": "2023-04-07T21:15:07.912Z"
   },
   {
    "duration": 8,
    "start_time": "2023-04-07T21:15:07.917Z"
   },
   {
    "duration": 4,
    "start_time": "2023-04-07T21:15:07.926Z"
   },
   {
    "duration": 552,
    "start_time": "2023-04-07T21:15:07.932Z"
   },
   {
    "duration": 10,
    "start_time": "2023-04-07T21:15:08.486Z"
   },
   {
    "duration": 21,
    "start_time": "2023-04-07T21:15:08.499Z"
   },
   {
    "duration": 9,
    "start_time": "2023-04-07T21:15:08.522Z"
   },
   {
    "duration": 673780,
    "start_time": "2023-04-07T21:15:08.532Z"
   },
   {
    "duration": 220053,
    "start_time": "2023-04-07T21:26:22.313Z"
   },
   {
    "duration": 219244,
    "start_time": "2023-04-07T21:30:02.368Z"
   },
   {
    "duration": 1620,
    "start_time": "2023-04-07T21:33:41.614Z"
   },
   {
    "duration": 6127,
    "start_time": "2023-04-07T21:33:43.236Z"
   },
   {
    "duration": 5610,
    "start_time": "2023-04-07T21:33:49.364Z"
   },
   {
    "duration": 5,
    "start_time": "2023-04-07T21:33:54.976Z"
   },
   {
    "duration": 266796,
    "start_time": "2023-04-07T21:33:54.982Z"
   },
   {
    "duration": 1668,
    "start_time": "2023-04-07T21:38:21.780Z"
   },
   {
    "duration": 2,
    "start_time": "2023-04-07T21:38:23.450Z"
   },
   {
    "duration": 96523,
    "start_time": "2023-04-07T21:38:23.454Z"
   },
   {
    "duration": 225097,
    "start_time": "2023-04-07T21:39:59.978Z"
   },
   {
    "duration": 214203,
    "start_time": "2023-04-07T21:43:45.077Z"
   },
   {
    "duration": 3,
    "start_time": "2023-04-07T21:48:08.941Z"
   },
   {
    "duration": 88603,
    "start_time": "2023-04-07T21:48:16.781Z"
   },
   {
    "duration": 121,
    "start_time": "2023-04-07T21:50:42.392Z"
   },
   {
    "duration": 1647,
    "start_time": "2023-04-07T21:55:32.213Z"
   },
   {
    "duration": 906,
    "start_time": "2023-04-07T21:55:33.862Z"
   },
   {
    "duration": 4,
    "start_time": "2023-04-07T21:55:34.771Z"
   },
   {
    "duration": 20,
    "start_time": "2023-04-07T21:55:34.777Z"
   },
   {
    "duration": 10,
    "start_time": "2023-04-07T21:55:34.799Z"
   },
   {
    "duration": 258,
    "start_time": "2023-04-07T21:55:34.811Z"
   },
   {
    "duration": 33,
    "start_time": "2023-04-07T21:55:35.078Z"
   },
   {
    "duration": 224,
    "start_time": "2023-04-07T21:55:35.113Z"
   },
   {
    "duration": 3,
    "start_time": "2023-04-07T21:55:35.338Z"
   },
   {
    "duration": 6,
    "start_time": "2023-04-07T21:55:35.343Z"
   },
   {
    "duration": 5,
    "start_time": "2023-04-07T21:55:35.350Z"
   },
   {
    "duration": 663,
    "start_time": "2023-04-07T21:55:35.356Z"
   },
   {
    "duration": 11,
    "start_time": "2023-04-07T21:55:36.021Z"
   },
   {
    "duration": 92,
    "start_time": "2023-04-07T21:55:36.036Z"
   },
   {
    "duration": 12,
    "start_time": "2023-04-07T21:55:36.131Z"
   },
   {
    "duration": 715872,
    "start_time": "2023-04-07T21:55:36.145Z"
   },
   {
    "duration": 243495,
    "start_time": "2023-04-07T22:07:32.019Z"
   },
   {
    "duration": 249426,
    "start_time": "2023-04-07T22:11:35.516Z"
   },
   {
    "duration": 1788,
    "start_time": "2023-04-07T22:15:44.944Z"
   },
   {
    "duration": 6833,
    "start_time": "2023-04-07T22:15:46.734Z"
   },
   {
    "duration": 6125,
    "start_time": "2023-04-07T22:15:53.569Z"
   },
   {
    "duration": 3,
    "start_time": "2023-04-07T22:15:59.695Z"
   },
   {
    "duration": 262072,
    "start_time": "2023-04-07T22:15:59.701Z"
   },
   {
    "duration": 1763,
    "start_time": "2023-04-07T22:20:21.775Z"
   },
   {
    "duration": 3,
    "start_time": "2023-04-07T22:20:23.539Z"
   },
   {
    "duration": 103744,
    "start_time": "2023-04-07T22:20:23.543Z"
   },
   {
    "duration": 132,
    "start_time": "2023-04-07T22:22:07.373Z"
   },
   {
    "duration": 12,
    "start_time": "2023-04-07T22:23:13.762Z"
   },
   {
    "duration": 5,
    "start_time": "2023-04-07T22:23:28.955Z"
   },
   {
    "duration": 7,
    "start_time": "2023-04-07T22:23:38.675Z"
   },
   {
    "duration": 11,
    "start_time": "2023-04-07T22:24:17.012Z"
   },
   {
    "duration": 545,
    "start_time": "2023-04-07T22:24:36.452Z"
   },
   {
    "duration": 9,
    "start_time": "2023-04-07T22:25:26.630Z"
   },
   {
    "duration": 4,
    "start_time": "2023-04-07T22:25:47.126Z"
   },
   {
    "duration": 5,
    "start_time": "2023-04-07T22:26:07.190Z"
   },
   {
    "duration": 3,
    "start_time": "2023-04-07T22:26:29.383Z"
   },
   {
    "duration": 6,
    "start_time": "2023-04-07T22:28:33.842Z"
   },
   {
    "duration": 8,
    "start_time": "2023-04-07T22:28:37.218Z"
   },
   {
    "duration": 11,
    "start_time": "2023-04-07T22:29:10.763Z"
   },
   {
    "duration": 14,
    "start_time": "2023-04-07T22:32:22.889Z"
   },
   {
    "duration": 12,
    "start_time": "2023-04-07T22:34:25.996Z"
   },
   {
    "duration": 9,
    "start_time": "2023-04-07T22:35:27.253Z"
   },
   {
    "duration": 10,
    "start_time": "2023-04-07T22:35:30.085Z"
   },
   {
    "duration": 14,
    "start_time": "2023-04-07T22:37:26.329Z"
   },
   {
    "duration": 18409,
    "start_time": "2023-04-08T12:40:18.940Z"
   },
   {
    "duration": 7100,
    "start_time": "2023-04-08T12:40:37.352Z"
   },
   {
    "duration": 10,
    "start_time": "2023-04-08T12:40:44.539Z"
   },
   {
    "duration": 195,
    "start_time": "2023-04-08T12:40:44.551Z"
   },
   {
    "duration": 102,
    "start_time": "2023-04-08T12:40:44.748Z"
   },
   {
    "duration": 2006,
    "start_time": "2023-04-08T12:40:44.851Z"
   },
   {
    "duration": 90,
    "start_time": "2023-04-08T12:40:46.860Z"
   },
   {
    "duration": 2208,
    "start_time": "2023-04-08T12:40:46.954Z"
   },
   {
    "duration": 83,
    "start_time": "2023-04-08T12:40:49.165Z"
   },
   {
    "duration": 10,
    "start_time": "2023-04-08T12:40:49.341Z"
   },
   {
    "duration": 7,
    "start_time": "2023-04-08T12:40:49.441Z"
   },
   {
    "duration": 5294,
    "start_time": "2023-04-08T12:40:49.453Z"
   },
   {
    "duration": 104,
    "start_time": "2023-04-08T12:40:54.749Z"
   },
   {
    "duration": 190,
    "start_time": "2023-04-08T12:40:54.859Z"
   },
   {
    "duration": 182,
    "start_time": "2023-04-08T12:40:55.057Z"
   },
   {
    "duration": 6030308,
    "start_time": "2023-04-08T12:40:55.241Z"
   },
   {
    "duration": 1973295,
    "start_time": "2023-04-08T14:21:25.550Z"
   },
   {
    "duration": 2065292,
    "start_time": "2023-04-08T14:54:18.847Z"
   },
   {
    "duration": 182,
    "start_time": "2023-04-08T16:16:16.657Z"
   },
   {
    "duration": 15813,
    "start_time": "2023-04-08T16:16:19.346Z"
   },
   {
    "duration": 23704,
    "start_time": "2023-04-08T16:16:35.241Z"
   },
   {
    "duration": 9,
    "start_time": "2023-04-08T16:16:58.955Z"
   },
   {
    "duration": 91,
    "start_time": "2023-04-08T16:16:58.966Z"
   },
   {
    "duration": 88,
    "start_time": "2023-04-08T16:16:59.069Z"
   },
   {
    "duration": 184,
    "start_time": "2023-04-08T16:16:59.161Z"
   },
   {
    "duration": 107,
    "start_time": "2023-04-08T16:16:59.350Z"
   },
   {
    "duration": 85,
    "start_time": "2023-04-08T16:16:59.462Z"
   },
   {
    "duration": 10,
    "start_time": "2023-04-08T16:16:59.555Z"
   },
   {
    "duration": 12,
    "start_time": "2023-04-08T16:16:59.646Z"
   },
   {
    "duration": 83,
    "start_time": "2023-04-08T16:16:59.662Z"
   },
   {
    "duration": 210,
    "start_time": "2023-04-08T16:16:59.747Z"
   },
   {
    "duration": 4,
    "start_time": "2023-04-08T16:16:59.958Z"
   },
   {
    "duration": 86,
    "start_time": "2023-04-08T16:16:59.964Z"
   },
   {
    "duration": 89,
    "start_time": "2023-04-08T16:17:00.051Z"
   },
   {
    "duration": 15518,
    "start_time": "2023-04-08T16:17:00.143Z"
   },
   {
    "duration": 597,
    "start_time": "2023-04-08T16:17:15.747Z"
   },
   {
    "duration": 807,
    "start_time": "2023-04-08T16:17:16.345Z"
   },
   {
    "duration": 8,
    "start_time": "2023-04-08T16:17:17.153Z"
   },
   {
    "duration": 108,
    "start_time": "2023-04-08T16:17:17.242Z"
   },
   {
    "duration": 183,
    "start_time": "2023-04-08T16:17:17.356Z"
   },
   {
    "duration": 15,
    "start_time": "2023-04-08T16:17:17.542Z"
   },
   {
    "duration": 899,
    "start_time": "2023-04-08T16:17:17.561Z"
   },
   {
    "duration": 89,
    "start_time": "2023-04-08T16:17:18.466Z"
   },
   {
    "duration": 4,
    "start_time": "2023-04-08T16:17:18.561Z"
   },
   {
    "duration": 13,
    "start_time": "2023-04-08T16:17:18.644Z"
   },
   {
    "duration": 88,
    "start_time": "2023-04-08T16:17:18.661Z"
   },
   {
    "duration": 991,
    "start_time": "2023-04-08T16:17:18.762Z"
   },
   {
    "duration": 0,
    "start_time": "2023-04-08T16:17:19.844Z"
   },
   {
    "duration": 0,
    "start_time": "2023-04-08T16:17:19.857Z"
   },
   {
    "duration": 89,
    "start_time": "2023-04-08T16:17:58.259Z"
   },
   {
    "duration": 3782,
    "start_time": "2023-04-08T19:45:10.345Z"
   },
   {
    "duration": 2656,
    "start_time": "2023-04-08T19:45:14.129Z"
   },
   {
    "duration": 4,
    "start_time": "2023-04-08T19:45:16.786Z"
   },
   {
    "duration": 12,
    "start_time": "2023-04-08T19:45:16.792Z"
   },
   {
    "duration": 40,
    "start_time": "2023-04-08T19:45:16.805Z"
   },
   {
    "duration": 13,
    "start_time": "2023-04-08T19:45:16.852Z"
   },
   {
    "duration": 12,
    "start_time": "2023-04-08T19:45:16.868Z"
   },
   {
    "duration": 24,
    "start_time": "2023-04-08T19:45:16.881Z"
   },
   {
    "duration": 20,
    "start_time": "2023-04-08T19:45:16.907Z"
   },
   {
    "duration": 29,
    "start_time": "2023-04-08T19:45:16.930Z"
   },
   {
    "duration": 6,
    "start_time": "2023-04-08T19:45:16.963Z"
   },
   {
    "duration": 19,
    "start_time": "2023-04-08T19:45:16.970Z"
   },
   {
    "duration": 15,
    "start_time": "2023-04-08T19:45:16.991Z"
   },
   {
    "duration": 15,
    "start_time": "2023-04-08T19:45:17.008Z"
   },
   {
    "duration": 8,
    "start_time": "2023-04-08T19:45:17.025Z"
   },
   {
    "duration": 2260,
    "start_time": "2023-04-08T19:45:17.035Z"
   },
   {
    "duration": 315,
    "start_time": "2023-04-08T19:45:19.296Z"
   },
   {
    "duration": 178,
    "start_time": "2023-04-08T19:45:19.613Z"
   },
   {
    "duration": 3,
    "start_time": "2023-04-08T19:45:19.793Z"
   },
   {
    "duration": 36,
    "start_time": "2023-04-08T19:45:19.798Z"
   },
   {
    "duration": 36,
    "start_time": "2023-04-08T19:45:19.836Z"
   },
   {
    "duration": 9,
    "start_time": "2023-04-08T19:45:19.874Z"
   },
   {
    "duration": 116,
    "start_time": "2023-04-08T19:45:19.885Z"
   },
   {
    "duration": 7,
    "start_time": "2023-04-08T19:45:20.003Z"
   },
   {
    "duration": 48,
    "start_time": "2023-04-08T19:45:20.011Z"
   },
   {
    "duration": 66,
    "start_time": "2023-04-08T19:45:20.062Z"
   },
   {
    "duration": 19,
    "start_time": "2023-04-08T19:45:20.130Z"
   },
   {
    "duration": 24,
    "start_time": "2023-04-08T19:45:20.156Z"
   },
   {
    "duration": 7,
    "start_time": "2023-04-08T19:45:20.182Z"
   },
   {
    "duration": 8,
    "start_time": "2023-04-08T19:45:20.190Z"
   },
   {
    "duration": 3933,
    "start_time": "2023-04-08T19:50:27.853Z"
   },
   {
    "duration": 1241,
    "start_time": "2023-04-08T19:50:31.789Z"
   },
   {
    "duration": 4,
    "start_time": "2023-04-08T19:50:33.031Z"
   },
   {
    "duration": 28,
    "start_time": "2023-04-08T19:50:33.036Z"
   },
   {
    "duration": 19,
    "start_time": "2023-04-08T19:50:33.067Z"
   },
   {
    "duration": 14,
    "start_time": "2023-04-08T19:50:33.087Z"
   },
   {
    "duration": 12,
    "start_time": "2023-04-08T19:50:33.102Z"
   },
   {
    "duration": 7,
    "start_time": "2023-04-08T19:50:33.115Z"
   },
   {
    "duration": 12,
    "start_time": "2023-04-08T19:50:33.123Z"
   },
   {
    "duration": 12,
    "start_time": "2023-04-08T19:50:33.136Z"
   },
   {
    "duration": 20,
    "start_time": "2023-04-08T19:50:33.150Z"
   },
   {
    "duration": 17,
    "start_time": "2023-04-08T19:50:33.171Z"
   },
   {
    "duration": 18,
    "start_time": "2023-04-08T19:50:33.190Z"
   },
   {
    "duration": 8,
    "start_time": "2023-04-08T19:50:33.211Z"
   },
   {
    "duration": 18,
    "start_time": "2023-04-08T19:50:33.221Z"
   },
   {
    "duration": 2080,
    "start_time": "2023-04-08T19:50:33.241Z"
   },
   {
    "duration": 215,
    "start_time": "2023-04-08T19:50:35.323Z"
   },
   {
    "duration": 150,
    "start_time": "2023-04-08T19:50:35.543Z"
   },
   {
    "duration": 4,
    "start_time": "2023-04-08T19:50:35.694Z"
   },
   {
    "duration": 16,
    "start_time": "2023-04-08T19:50:35.699Z"
   },
   {
    "duration": 16,
    "start_time": "2023-04-08T19:50:35.717Z"
   },
   {
    "duration": 34,
    "start_time": "2023-04-08T19:50:35.754Z"
   },
   {
    "duration": 122,
    "start_time": "2023-04-08T19:50:35.790Z"
   },
   {
    "duration": 7,
    "start_time": "2023-04-08T19:50:35.914Z"
   },
   {
    "duration": 12,
    "start_time": "2023-04-08T19:50:35.923Z"
   },
   {
    "duration": 35,
    "start_time": "2023-04-08T19:50:35.950Z"
   },
   {
    "duration": 12,
    "start_time": "2023-04-08T19:50:35.988Z"
   },
   {
    "duration": 7,
    "start_time": "2023-04-08T19:50:36.003Z"
   },
   {
    "duration": 20,
    "start_time": "2023-04-08T19:50:36.012Z"
   },
   {
    "duration": 21,
    "start_time": "2023-04-08T19:50:36.035Z"
   },
   {
    "duration": 7,
    "start_time": "2023-04-08T19:51:40.335Z"
   },
   {
    "duration": 884,
    "start_time": "2023-04-08T19:51:40.345Z"
   },
   {
    "duration": 14,
    "start_time": "2023-04-08T19:51:41.231Z"
   },
   {
    "duration": 29,
    "start_time": "2023-04-08T19:51:41.247Z"
   },
   {
    "duration": 13,
    "start_time": "2023-04-08T19:51:41.279Z"
   },
   {
    "duration": 5,
    "start_time": "2023-04-08T19:51:41.294Z"
   },
   {
    "duration": 10,
    "start_time": "2023-04-08T19:51:41.301Z"
   },
   {
    "duration": 7,
    "start_time": "2023-04-08T19:51:41.313Z"
   },
   {
    "duration": 5,
    "start_time": "2023-04-08T19:51:41.321Z"
   },
   {
    "duration": 6,
    "start_time": "2023-04-08T19:51:41.328Z"
   },
   {
    "duration": 6,
    "start_time": "2023-04-08T19:51:41.335Z"
   },
   {
    "duration": 21,
    "start_time": "2023-04-08T19:51:41.359Z"
   },
   {
    "duration": 5,
    "start_time": "2023-04-08T19:51:41.382Z"
   },
   {
    "duration": 5,
    "start_time": "2023-04-08T19:51:41.390Z"
   },
   {
    "duration": 7,
    "start_time": "2023-04-08T19:51:41.396Z"
   },
   {
    "duration": 331,
    "start_time": "2023-04-08T19:51:41.404Z"
   },
   {
    "duration": 102,
    "start_time": "2023-04-08T19:51:41.736Z"
   },
   {
    "duration": 119,
    "start_time": "2023-04-08T19:51:41.839Z"
   },
   {
    "duration": 4,
    "start_time": "2023-04-08T19:51:41.960Z"
   },
   {
    "duration": 20,
    "start_time": "2023-04-08T19:51:41.966Z"
   },
   {
    "duration": 18,
    "start_time": "2023-04-08T19:51:41.988Z"
   },
   {
    "duration": 3,
    "start_time": "2023-04-08T19:51:42.007Z"
   },
   {
    "duration": 113,
    "start_time": "2023-04-08T19:51:42.011Z"
   },
   {
    "duration": 5,
    "start_time": "2023-04-08T19:51:42.126Z"
   },
   {
    "duration": 19,
    "start_time": "2023-04-08T19:51:42.132Z"
   },
   {
    "duration": 28,
    "start_time": "2023-04-08T19:51:42.154Z"
   },
   {
    "duration": 7,
    "start_time": "2023-04-08T19:51:42.184Z"
   },
   {
    "duration": 8,
    "start_time": "2023-04-08T19:51:42.193Z"
   },
   {
    "duration": 6,
    "start_time": "2023-04-08T19:51:42.203Z"
   },
   {
    "duration": 7,
    "start_time": "2023-04-08T19:51:42.211Z"
   },
   {
    "duration": 2125,
    "start_time": "2023-04-08T19:52:01.442Z"
   },
   {
    "duration": 991,
    "start_time": "2023-04-08T19:52:03.569Z"
   },
   {
    "duration": 4,
    "start_time": "2023-04-08T19:52:04.566Z"
   },
   {
    "duration": 14,
    "start_time": "2023-04-08T19:52:04.571Z"
   },
   {
    "duration": 12,
    "start_time": "2023-04-08T19:52:04.588Z"
   },
   {
    "duration": 8,
    "start_time": "2023-04-08T19:52:04.602Z"
   },
   {
    "duration": 37,
    "start_time": "2023-04-08T19:52:04.611Z"
   },
   {
    "duration": 10,
    "start_time": "2023-04-08T19:52:04.651Z"
   },
   {
    "duration": 18,
    "start_time": "2023-04-08T19:52:04.663Z"
   },
   {
    "duration": 8,
    "start_time": "2023-04-08T19:52:04.683Z"
   },
   {
    "duration": 5,
    "start_time": "2023-04-08T19:52:04.693Z"
   },
   {
    "duration": 13,
    "start_time": "2023-04-08T19:52:04.700Z"
   },
   {
    "duration": 12,
    "start_time": "2023-04-08T19:52:04.715Z"
   },
   {
    "duration": 6,
    "start_time": "2023-04-08T19:52:04.730Z"
   },
   {
    "duration": 16,
    "start_time": "2023-04-08T19:52:04.738Z"
   },
   {
    "duration": 1867,
    "start_time": "2023-04-08T19:52:04.756Z"
   },
   {
    "duration": 207,
    "start_time": "2023-04-08T19:52:06.624Z"
   },
   {
    "duration": 161,
    "start_time": "2023-04-08T19:52:06.833Z"
   },
   {
    "duration": 3,
    "start_time": "2023-04-08T19:52:06.995Z"
   },
   {
    "duration": 14,
    "start_time": "2023-04-08T19:52:06.999Z"
   },
   {
    "duration": 13,
    "start_time": "2023-04-08T19:52:07.014Z"
   },
   {
    "duration": 13,
    "start_time": "2023-04-08T19:52:07.028Z"
   },
   {
    "duration": 98,
    "start_time": "2023-04-08T19:52:07.046Z"
   },
   {
    "duration": 8,
    "start_time": "2023-04-08T19:52:07.147Z"
   },
   {
    "duration": 25,
    "start_time": "2023-04-08T19:52:07.158Z"
   },
   {
    "duration": 16,
    "start_time": "2023-04-08T19:52:07.185Z"
   },
   {
    "duration": 15,
    "start_time": "2023-04-08T19:52:07.202Z"
   },
   {
    "duration": 31,
    "start_time": "2023-04-08T19:52:07.219Z"
   },
   {
    "duration": 16,
    "start_time": "2023-04-08T19:52:07.252Z"
   },
   {
    "duration": 31,
    "start_time": "2023-04-08T19:52:07.270Z"
   },
   {
    "duration": 1901,
    "start_time": "2023-04-08T19:55:12.974Z"
   },
   {
    "duration": 1019,
    "start_time": "2023-04-08T19:55:14.879Z"
   },
   {
    "duration": 4,
    "start_time": "2023-04-08T19:55:15.901Z"
   },
   {
    "duration": 18,
    "start_time": "2023-04-08T19:55:15.907Z"
   },
   {
    "duration": 39,
    "start_time": "2023-04-08T19:55:15.928Z"
   },
   {
    "duration": 312,
    "start_time": "2023-04-08T19:55:15.968Z"
   },
   {
    "duration": 28,
    "start_time": "2023-04-08T19:55:16.282Z"
   },
   {
    "duration": 330,
    "start_time": "2023-04-08T19:55:16.312Z"
   },
   {
    "duration": 10,
    "start_time": "2023-04-08T19:55:16.645Z"
   },
   {
    "duration": 125,
    "start_time": "2023-04-08T19:55:16.657Z"
   },
   {
    "duration": 33,
    "start_time": "2023-04-08T19:55:16.787Z"
   },
   {
    "duration": 669,
    "start_time": "2023-04-08T19:55:16.821Z"
   },
   {
    "duration": 18,
    "start_time": "2023-04-08T19:55:17.493Z"
   },
   {
    "duration": 60,
    "start_time": "2023-04-08T19:55:17.516Z"
   },
   {
    "duration": 22,
    "start_time": "2023-04-08T19:55:17.579Z"
   },
   {
    "duration": 751889,
    "start_time": "2023-04-08T19:55:17.604Z"
   },
   {
    "duration": 231023,
    "start_time": "2023-04-08T20:07:49.495Z"
   },
   {
    "duration": 234573,
    "start_time": "2023-04-08T20:11:40.520Z"
   },
   {
    "duration": 3,
    "start_time": "2023-04-08T20:15:35.095Z"
   },
   {
    "duration": 5550,
    "start_time": "2023-04-08T20:15:35.100Z"
   },
   {
    "duration": 5804,
    "start_time": "2023-04-08T20:15:40.652Z"
   },
   {
    "duration": 3,
    "start_time": "2023-04-08T20:15:46.458Z"
   },
   {
    "duration": 307582,
    "start_time": "2023-04-08T20:15:46.463Z"
   },
   {
    "duration": 1473,
    "start_time": "2023-04-08T20:20:54.047Z"
   },
   {
    "duration": 3,
    "start_time": "2023-04-08T20:20:55.521Z"
   },
   {
    "duration": 125433,
    "start_time": "2023-04-08T20:20:55.526Z"
   },
   {
    "duration": 8,
    "start_time": "2023-04-08T20:23:00.961Z"
   },
   {
    "duration": 17,
    "start_time": "2023-04-08T20:23:00.970Z"
   },
   {
    "duration": 9,
    "start_time": "2023-04-08T20:23:00.989Z"
   },
   {
    "duration": 39,
    "start_time": "2023-04-08T20:23:01.000Z"
   },
   {
    "duration": 4,
    "start_time": "2023-04-08T20:24:18.829Z"
   },
   {
    "duration": 127201,
    "start_time": "2023-04-08T20:24:22.646Z"
   },
   {
    "duration": 7,
    "start_time": "2023-04-08T20:26:36.114Z"
   },
   {
    "duration": 12,
    "start_time": "2023-04-08T20:26:39.841Z"
   },
   {
    "duration": 4,
    "start_time": "2023-04-08T20:26:53.521Z"
   },
   {
    "duration": 129326,
    "start_time": "2023-04-08T20:26:58.426Z"
   },
   {
    "duration": 7,
    "start_time": "2023-04-08T20:29:12.950Z"
   },
   {
    "duration": 11,
    "start_time": "2023-04-08T20:29:16.014Z"
   },
   {
    "duration": 4,
    "start_time": "2023-04-08T20:29:42.950Z"
   },
   {
    "duration": 42230,
    "start_time": "2023-04-08T20:29:46.022Z"
   },
   {
    "duration": 7,
    "start_time": "2023-04-08T20:30:37.151Z"
   },
   {
    "duration": 13,
    "start_time": "2023-04-08T20:30:39.343Z"
   },
   {
    "duration": 3,
    "start_time": "2023-04-08T20:31:04.480Z"
   },
   {
    "duration": 43026,
    "start_time": "2023-04-08T20:31:07.624Z"
   },
   {
    "duration": 8,
    "start_time": "2023-04-08T20:31:56.114Z"
   },
   {
    "duration": 16,
    "start_time": "2023-04-08T20:31:58.897Z"
   },
   {
    "duration": 3,
    "start_time": "2023-04-08T20:32:12.162Z"
   },
   {
    "duration": 39354,
    "start_time": "2023-04-08T20:32:15.090Z"
   },
   {
    "duration": 6,
    "start_time": "2023-04-08T20:32:59.931Z"
   },
   {
    "duration": 11,
    "start_time": "2023-04-08T20:33:03.667Z"
   },
   {
    "duration": 3,
    "start_time": "2023-04-08T20:33:20.019Z"
   },
   {
    "duration": 40397,
    "start_time": "2023-04-08T20:33:22.844Z"
   },
   {
    "duration": 7,
    "start_time": "2023-04-08T20:34:15.581Z"
   },
   {
    "duration": 12,
    "start_time": "2023-04-08T20:34:19.069Z"
   },
   {
    "duration": 3,
    "start_time": "2023-04-08T20:34:43.136Z"
   },
   {
    "duration": 43062,
    "start_time": "2023-04-08T20:34:45.990Z"
   },
   {
    "duration": 7,
    "start_time": "2023-04-08T20:35:35.295Z"
   },
   {
    "duration": 11,
    "start_time": "2023-04-08T20:35:37.511Z"
   },
   {
    "duration": 3,
    "start_time": "2023-04-08T20:35:57.703Z"
   },
   {
    "duration": 43486,
    "start_time": "2023-04-08T20:36:00.768Z"
   },
   {
    "duration": 8,
    "start_time": "2023-04-08T20:37:20.723Z"
   },
   {
    "duration": 12,
    "start_time": "2023-04-08T20:37:23.090Z"
   },
   {
    "duration": 3,
    "start_time": "2023-04-08T20:37:35.692Z"
   },
   {
    "duration": 43073,
    "start_time": "2023-04-08T20:37:39.770Z"
   },
   {
    "duration": 8,
    "start_time": "2023-04-08T20:38:29.012Z"
   },
   {
    "duration": 16,
    "start_time": "2023-04-08T20:38:31.474Z"
   },
   {
    "duration": 3,
    "start_time": "2023-04-08T20:38:47.917Z"
   },
   {
    "duration": 44203,
    "start_time": "2023-04-08T20:38:50.645Z"
   },
   {
    "duration": 8,
    "start_time": "2023-04-08T20:39:41.803Z"
   },
   {
    "duration": 17,
    "start_time": "2023-04-08T20:39:44.670Z"
   },
   {
    "duration": 3,
    "start_time": "2023-04-08T20:39:55.031Z"
   },
   {
    "duration": 42826,
    "start_time": "2023-04-08T20:39:59.526Z"
   },
   {
    "duration": 7,
    "start_time": "2023-04-08T20:40:53.543Z"
   },
   {
    "duration": 12,
    "start_time": "2023-04-08T20:40:56.108Z"
   },
   {
    "duration": 12,
    "start_time": "2023-04-08T20:43:13.395Z"
   }
  ],
  "kernelspec": {
   "display_name": "Python 3 (ipykernel)",
   "language": "python",
   "name": "python3"
  },
  "language_info": {
   "codemirror_mode": {
    "name": "ipython",
    "version": 3
   },
   "file_extension": ".py",
   "mimetype": "text/x-python",
   "name": "python",
   "nbconvert_exporter": "python",
   "pygments_lexer": "ipython3",
   "version": "3.9.12"
  },
  "toc": {
   "base_numbering": 1,
   "nav_menu": {},
   "number_sections": true,
   "sideBar": true,
   "skip_h1_title": true,
   "title_cell": "Содержание",
   "title_sidebar": "Contents",
   "toc_cell": true,
   "toc_position": {
    "height": "calc(100% - 180px)",
    "left": "10px",
    "top": "150px",
    "width": "302.391px"
   },
   "toc_section_display": true,
   "toc_window_display": false
  }
 },
 "nbformat": 4,
 "nbformat_minor": 2
}

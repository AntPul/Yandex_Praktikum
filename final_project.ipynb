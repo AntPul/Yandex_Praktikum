{
 "cells": [
  {
   "cell_type": "markdown",
   "metadata": {},
   "source": [
    "# Задача: построить модель, которая предскажет температуру стали на последнем этапе. (Метрика MAE<= 6.8 )"
   ]
  },
  {
   "cell_type": "markdown",
   "metadata": {},
   "source": [
    "## Описание данных"
   ]
  },
  {
   "cell_type": "markdown",
   "metadata": {},
   "source": [
    "Данные состоят из файлов, полученных из разных источников:\n",
    "\n",
    "- data_arc_new.csv — данные об электродах;\n",
    "- data_bulk_new.csv — данные о подаче сыпучих материалов (объём);\n",
    "- data_bulk_time_new.csv — данные о подаче сыпучих материалов (время);\n",
    "- data_gas_new.csv — данные о продувке сплава газом;\n",
    "- data_temp_new.csv — результаты измерения температуры;\n",
    "- data_wire_new.csv — данные о проволочных материалах (объём);\n",
    "- data_wire_time_new.csv — данные о проволочных материалах (время).\n",
    "\n",
    "Во всех файлах столбец key содержит номер партии. В файлах может быть несколько строк с одинаковым значением key: они соответствуют разным итерациям обработки."
   ]
  },
  {
   "cell_type": "code",
   "execution_count": 1,
   "metadata": {},
   "outputs": [
    {
     "name": "stdout",
     "output_type": "stream",
     "text": [
      "Collecting shap\n",
      "  Downloading shap-0.41.0-cp39-cp39-manylinux_2_12_x86_64.manylinux2010_x86_64.whl (572 kB)\n",
      "\u001b[K     |████████████████████████████████| 572 kB 2.6 MB/s eta 0:00:01\n",
      "\u001b[?25hRequirement already satisfied: tqdm>4.25.0 in /opt/conda/lib/python3.9/site-packages (from shap) (4.61.2)\n",
      "Requirement already satisfied: numba in /opt/conda/lib/python3.9/site-packages (from shap) (0.56.0)\n",
      "Requirement already satisfied: scikit-learn in /opt/conda/lib/python3.9/site-packages (from shap) (0.24.1)\n",
      "Requirement already satisfied: packaging>20.9 in /opt/conda/lib/python3.9/site-packages (from shap) (21.3)\n",
      "Requirement already satisfied: numpy in /opt/conda/lib/python3.9/site-packages (from shap) (1.21.1)\n",
      "Collecting slicer==0.0.7\n",
      "  Downloading slicer-0.0.7-py3-none-any.whl (14 kB)\n",
      "Requirement already satisfied: pandas in /opt/conda/lib/python3.9/site-packages (from shap) (1.2.4)\n",
      "Requirement already satisfied: scipy in /opt/conda/lib/python3.9/site-packages (from shap) (1.9.1)\n",
      "Collecting cloudpickle\n",
      "  Downloading cloudpickle-2.2.1-py3-none-any.whl (25 kB)\n",
      "Requirement already satisfied: pyparsing!=3.0.5,>=2.0.2 in /opt/conda/lib/python3.9/site-packages (from packaging>20.9->shap) (2.4.7)\n",
      "Requirement already satisfied: llvmlite<0.40,>=0.39.0dev0 in /opt/conda/lib/python3.9/site-packages (from numba->shap) (0.39.0)\n",
      "Requirement already satisfied: setuptools in /opt/conda/lib/python3.9/site-packages (from numba->shap) (49.6.0.post20210108)\n",
      "Requirement already satisfied: python-dateutil>=2.7.3 in /opt/conda/lib/python3.9/site-packages (from pandas->shap) (2.8.1)\n",
      "Requirement already satisfied: pytz>=2017.3 in /opt/conda/lib/python3.9/site-packages (from pandas->shap) (2021.1)\n",
      "Requirement already satisfied: six>=1.5 in /opt/conda/lib/python3.9/site-packages (from python-dateutil>=2.7.3->pandas->shap) (1.16.0)\n",
      "Requirement already satisfied: joblib>=0.11 in /opt/conda/lib/python3.9/site-packages (from scikit-learn->shap) (1.1.0)\n",
      "Requirement already satisfied: threadpoolctl>=2.0.0 in /opt/conda/lib/python3.9/site-packages (from scikit-learn->shap) (3.1.0)\n",
      "Installing collected packages: slicer, cloudpickle, shap\n",
      "Successfully installed cloudpickle-2.2.1 shap-0.41.0 slicer-0.0.7\n",
      "Note: you may need to restart the kernel to use updated packages.\n"
     ]
    }
   ],
   "source": [
    "pip install shap"
   ]
  },
  {
   "cell_type": "code",
   "execution_count": 2,
   "metadata": {},
   "outputs": [],
   "source": [
    "import pandas as pd\n",
    "import numpy as np\n",
    "\n",
    "import matplotlib.pyplot as plt\n",
    "import seaborn as sns\n",
    "import shap\n",
    "\n",
    "from sklearn.metrics import mean_absolute_error\n",
    "from sklearn.model_selection import train_test_split, cross_val_score\n",
    "from sklearn.preprocessing import StandardScaler\n",
    "\n",
    "from sklearn.model_selection import GridSearchCV\n",
    "from sklearn.linear_model import LinearRegression\n",
    "from sklearn.ensemble import RandomForestRegressor\n",
    "from lightgbm import LGBMRegressor, plot_importance\n",
    "from catboost import CatBoostRegressor"
   ]
  },
  {
   "cell_type": "code",
   "execution_count": 3,
   "metadata": {},
   "outputs": [],
   "source": [
    "data_arc_new = pd.read_csv('/datasets/data_arc_new.csv')\n",
    "data_bulk_new = pd.read_csv('/datasets/data_bulk_new.csv')\n",
    "data_bulk_time_new = pd.read_csv('/datasets/data_bulk_time_new.csv')\n",
    "data_gas_new = pd.read_csv('/datasets/data_gas_new.csv')\n",
    "data_temp_new = pd.read_csv('/datasets/data_temp_new.csv')\n",
    "data_wire_new = pd.read_csv('/datasets/data_wire_new.csv')\n",
    "data_wire_time_new = pd.read_csv('/datasets/data_wire_time_new.csv')"
   ]
  },
  {
   "cell_type": "code",
   "execution_count": 4,
   "metadata": {},
   "outputs": [
    {
     "name": "stdout",
     "output_type": "stream",
     "text": [
      "<class 'pandas.core.frame.DataFrame'>\n",
      "RangeIndex: 14876 entries, 0 to 14875\n",
      "Data columns (total 5 columns):\n",
      " #   Column                Non-Null Count  Dtype  \n",
      "---  ------                --------------  -----  \n",
      " 0   key                   14876 non-null  int64  \n",
      " 1   Начало нагрева дугой  14876 non-null  object \n",
      " 2   Конец нагрева дугой   14876 non-null  object \n",
      " 3   Активная мощность     14876 non-null  float64\n",
      " 4   Реактивная мощность   14876 non-null  float64\n",
      "dtypes: float64(2), int64(1), object(2)\n",
      "memory usage: 581.2+ KB\n"
     ]
    }
   ],
   "source": [
    "data_arc_new.info()"
   ]
  },
  {
   "cell_type": "code",
   "execution_count": 5,
   "metadata": {},
   "outputs": [
    {
     "data": {
      "text/html": [
       "<div>\n",
       "<style scoped>\n",
       "    .dataframe tbody tr th:only-of-type {\n",
       "        vertical-align: middle;\n",
       "    }\n",
       "\n",
       "    .dataframe tbody tr th {\n",
       "        vertical-align: top;\n",
       "    }\n",
       "\n",
       "    .dataframe thead th {\n",
       "        text-align: right;\n",
       "    }\n",
       "</style>\n",
       "<table border=\"1\" class=\"dataframe\">\n",
       "  <thead>\n",
       "    <tr style=\"text-align: right;\">\n",
       "      <th></th>\n",
       "      <th>key</th>\n",
       "      <th>Активная мощность</th>\n",
       "      <th>Реактивная мощность</th>\n",
       "    </tr>\n",
       "  </thead>\n",
       "  <tbody>\n",
       "    <tr>\n",
       "      <th>count</th>\n",
       "      <td>14876.000000</td>\n",
       "      <td>14876.000000</td>\n",
       "      <td>14876.000000</td>\n",
       "    </tr>\n",
       "    <tr>\n",
       "      <th>mean</th>\n",
       "      <td>1615.220422</td>\n",
       "      <td>0.662752</td>\n",
       "      <td>0.438986</td>\n",
       "    </tr>\n",
       "    <tr>\n",
       "      <th>std</th>\n",
       "      <td>934.571502</td>\n",
       "      <td>0.258885</td>\n",
       "      <td>5.873485</td>\n",
       "    </tr>\n",
       "    <tr>\n",
       "      <th>min</th>\n",
       "      <td>1.000000</td>\n",
       "      <td>0.223120</td>\n",
       "      <td>-715.479924</td>\n",
       "    </tr>\n",
       "    <tr>\n",
       "      <th>25%</th>\n",
       "      <td>806.000000</td>\n",
       "      <td>0.467115</td>\n",
       "      <td>0.337175</td>\n",
       "    </tr>\n",
       "    <tr>\n",
       "      <th>50%</th>\n",
       "      <td>1617.000000</td>\n",
       "      <td>0.599587</td>\n",
       "      <td>0.441639</td>\n",
       "    </tr>\n",
       "    <tr>\n",
       "      <th>75%</th>\n",
       "      <td>2429.000000</td>\n",
       "      <td>0.830070</td>\n",
       "      <td>0.608201</td>\n",
       "    </tr>\n",
       "    <tr>\n",
       "      <th>max</th>\n",
       "      <td>3241.000000</td>\n",
       "      <td>1.463773</td>\n",
       "      <td>1.270284</td>\n",
       "    </tr>\n",
       "  </tbody>\n",
       "</table>\n",
       "</div>"
      ],
      "text/plain": [
       "                key  Активная мощность  Реактивная мощность\n",
       "count  14876.000000       14876.000000         14876.000000\n",
       "mean    1615.220422           0.662752             0.438986\n",
       "std      934.571502           0.258885             5.873485\n",
       "min        1.000000           0.223120          -715.479924\n",
       "25%      806.000000           0.467115             0.337175\n",
       "50%     1617.000000           0.599587             0.441639\n",
       "75%     2429.000000           0.830070             0.608201\n",
       "max     3241.000000           1.463773             1.270284"
      ]
     },
     "execution_count": 5,
     "metadata": {},
     "output_type": "execute_result"
    }
   ],
   "source": [
    "data_arc_new.describe()"
   ]
  },
  {
   "cell_type": "code",
   "execution_count": 6,
   "metadata": {},
   "outputs": [
    {
     "data": {
      "text/html": [
       "<div>\n",
       "<style scoped>\n",
       "    .dataframe tbody tr th:only-of-type {\n",
       "        vertical-align: middle;\n",
       "    }\n",
       "\n",
       "    .dataframe tbody tr th {\n",
       "        vertical-align: top;\n",
       "    }\n",
       "\n",
       "    .dataframe thead th {\n",
       "        text-align: right;\n",
       "    }\n",
       "</style>\n",
       "<table border=\"1\" class=\"dataframe\">\n",
       "  <thead>\n",
       "    <tr style=\"text-align: right;\">\n",
       "      <th></th>\n",
       "      <th>key</th>\n",
       "      <th>Начало нагрева дугой</th>\n",
       "      <th>Конец нагрева дугой</th>\n",
       "      <th>Активная мощность</th>\n",
       "      <th>Реактивная мощность</th>\n",
       "    </tr>\n",
       "  </thead>\n",
       "  <tbody>\n",
       "    <tr>\n",
       "      <th>0</th>\n",
       "      <td>1</td>\n",
       "      <td>2019-05-03 11:02:14</td>\n",
       "      <td>2019-05-03 11:06:02</td>\n",
       "      <td>0.305130</td>\n",
       "      <td>0.211253</td>\n",
       "    </tr>\n",
       "    <tr>\n",
       "      <th>1</th>\n",
       "      <td>1</td>\n",
       "      <td>2019-05-03 11:07:28</td>\n",
       "      <td>2019-05-03 11:10:33</td>\n",
       "      <td>0.765658</td>\n",
       "      <td>0.477438</td>\n",
       "    </tr>\n",
       "    <tr>\n",
       "      <th>2</th>\n",
       "      <td>1</td>\n",
       "      <td>2019-05-03 11:11:44</td>\n",
       "      <td>2019-05-03 11:14:36</td>\n",
       "      <td>0.580313</td>\n",
       "      <td>0.430460</td>\n",
       "    </tr>\n",
       "    <tr>\n",
       "      <th>3</th>\n",
       "      <td>1</td>\n",
       "      <td>2019-05-03 11:18:14</td>\n",
       "      <td>2019-05-03 11:24:19</td>\n",
       "      <td>0.518496</td>\n",
       "      <td>0.379979</td>\n",
       "    </tr>\n",
       "    <tr>\n",
       "      <th>4</th>\n",
       "      <td>1</td>\n",
       "      <td>2019-05-03 11:26:09</td>\n",
       "      <td>2019-05-03 11:28:37</td>\n",
       "      <td>0.867133</td>\n",
       "      <td>0.643691</td>\n",
       "    </tr>\n",
       "  </tbody>\n",
       "</table>\n",
       "</div>"
      ],
      "text/plain": [
       "   key Начало нагрева дугой  Конец нагрева дугой  Активная мощность  \\\n",
       "0    1  2019-05-03 11:02:14  2019-05-03 11:06:02           0.305130   \n",
       "1    1  2019-05-03 11:07:28  2019-05-03 11:10:33           0.765658   \n",
       "2    1  2019-05-03 11:11:44  2019-05-03 11:14:36           0.580313   \n",
       "3    1  2019-05-03 11:18:14  2019-05-03 11:24:19           0.518496   \n",
       "4    1  2019-05-03 11:26:09  2019-05-03 11:28:37           0.867133   \n",
       "\n",
       "   Реактивная мощность  \n",
       "0             0.211253  \n",
       "1             0.477438  \n",
       "2             0.430460  \n",
       "3             0.379979  \n",
       "4             0.643691  "
      ]
     },
     "metadata": {},
     "output_type": "display_data"
    }
   ],
   "source": [
    "display(data_arc_new.head())"
   ]
  },
  {
   "cell_type": "code",
   "execution_count": 7,
   "metadata": {},
   "outputs": [
    {
     "name": "stdout",
     "output_type": "stream",
     "text": [
      "<class 'pandas.core.frame.DataFrame'>\n",
      "RangeIndex: 3129 entries, 0 to 3128\n",
      "Data columns (total 16 columns):\n",
      " #   Column   Non-Null Count  Dtype  \n",
      "---  ------   --------------  -----  \n",
      " 0   key      3129 non-null   int64  \n",
      " 1   Bulk 1   252 non-null    float64\n",
      " 2   Bulk 2   22 non-null     float64\n",
      " 3   Bulk 3   1298 non-null   float64\n",
      " 4   Bulk 4   1014 non-null   float64\n",
      " 5   Bulk 5   77 non-null     float64\n",
      " 6   Bulk 6   576 non-null    float64\n",
      " 7   Bulk 7   25 non-null     float64\n",
      " 8   Bulk 8   1 non-null      float64\n",
      " 9   Bulk 9   19 non-null     float64\n",
      " 10  Bulk 10  176 non-null    float64\n",
      " 11  Bulk 11  177 non-null    float64\n",
      " 12  Bulk 12  2450 non-null   float64\n",
      " 13  Bulk 13  18 non-null     float64\n",
      " 14  Bulk 14  2806 non-null   float64\n",
      " 15  Bulk 15  2248 non-null   float64\n",
      "dtypes: float64(15), int64(1)\n",
      "memory usage: 391.2 KB\n"
     ]
    }
   ],
   "source": [
    "data_bulk_new.info()"
   ]
  },
  {
   "cell_type": "code",
   "execution_count": 8,
   "metadata": {},
   "outputs": [
    {
     "data": {
      "text/html": [
       "<div>\n",
       "<style scoped>\n",
       "    .dataframe tbody tr th:only-of-type {\n",
       "        vertical-align: middle;\n",
       "    }\n",
       "\n",
       "    .dataframe tbody tr th {\n",
       "        vertical-align: top;\n",
       "    }\n",
       "\n",
       "    .dataframe thead th {\n",
       "        text-align: right;\n",
       "    }\n",
       "</style>\n",
       "<table border=\"1\" class=\"dataframe\">\n",
       "  <thead>\n",
       "    <tr style=\"text-align: right;\">\n",
       "      <th></th>\n",
       "      <th>key</th>\n",
       "      <th>Bulk 1</th>\n",
       "      <th>Bulk 2</th>\n",
       "      <th>Bulk 3</th>\n",
       "      <th>Bulk 4</th>\n",
       "      <th>Bulk 5</th>\n",
       "      <th>Bulk 6</th>\n",
       "      <th>Bulk 7</th>\n",
       "      <th>Bulk 8</th>\n",
       "      <th>Bulk 9</th>\n",
       "      <th>Bulk 10</th>\n",
       "      <th>Bulk 11</th>\n",
       "      <th>Bulk 12</th>\n",
       "      <th>Bulk 13</th>\n",
       "      <th>Bulk 14</th>\n",
       "      <th>Bulk 15</th>\n",
       "    </tr>\n",
       "  </thead>\n",
       "  <tbody>\n",
       "    <tr>\n",
       "      <th>count</th>\n",
       "      <td>3129.000000</td>\n",
       "      <td>252.000000</td>\n",
       "      <td>22.000000</td>\n",
       "      <td>1298.000000</td>\n",
       "      <td>1014.000000</td>\n",
       "      <td>77.000000</td>\n",
       "      <td>576.000000</td>\n",
       "      <td>25.000000</td>\n",
       "      <td>1.0</td>\n",
       "      <td>19.000000</td>\n",
       "      <td>176.000000</td>\n",
       "      <td>177.000000</td>\n",
       "      <td>2450.000000</td>\n",
       "      <td>18.000000</td>\n",
       "      <td>2806.000000</td>\n",
       "      <td>2248.000000</td>\n",
       "    </tr>\n",
       "    <tr>\n",
       "      <th>mean</th>\n",
       "      <td>1624.383509</td>\n",
       "      <td>39.242063</td>\n",
       "      <td>253.045455</td>\n",
       "      <td>113.879045</td>\n",
       "      <td>104.394477</td>\n",
       "      <td>107.025974</td>\n",
       "      <td>118.925347</td>\n",
       "      <td>305.600000</td>\n",
       "      <td>49.0</td>\n",
       "      <td>76.315789</td>\n",
       "      <td>83.284091</td>\n",
       "      <td>76.819209</td>\n",
       "      <td>260.471020</td>\n",
       "      <td>181.111111</td>\n",
       "      <td>170.284747</td>\n",
       "      <td>160.513345</td>\n",
       "    </tr>\n",
       "    <tr>\n",
       "      <th>std</th>\n",
       "      <td>933.337642</td>\n",
       "      <td>18.277654</td>\n",
       "      <td>21.180578</td>\n",
       "      <td>75.483494</td>\n",
       "      <td>48.184126</td>\n",
       "      <td>81.790646</td>\n",
       "      <td>72.057776</td>\n",
       "      <td>191.022904</td>\n",
       "      <td>NaN</td>\n",
       "      <td>21.720581</td>\n",
       "      <td>26.060347</td>\n",
       "      <td>59.655365</td>\n",
       "      <td>120.649269</td>\n",
       "      <td>46.088009</td>\n",
       "      <td>65.868652</td>\n",
       "      <td>51.765319</td>\n",
       "    </tr>\n",
       "    <tr>\n",
       "      <th>min</th>\n",
       "      <td>1.000000</td>\n",
       "      <td>10.000000</td>\n",
       "      <td>228.000000</td>\n",
       "      <td>6.000000</td>\n",
       "      <td>12.000000</td>\n",
       "      <td>11.000000</td>\n",
       "      <td>17.000000</td>\n",
       "      <td>47.000000</td>\n",
       "      <td>49.0</td>\n",
       "      <td>63.000000</td>\n",
       "      <td>24.000000</td>\n",
       "      <td>8.000000</td>\n",
       "      <td>53.000000</td>\n",
       "      <td>151.000000</td>\n",
       "      <td>16.000000</td>\n",
       "      <td>1.000000</td>\n",
       "    </tr>\n",
       "    <tr>\n",
       "      <th>25%</th>\n",
       "      <td>816.000000</td>\n",
       "      <td>27.000000</td>\n",
       "      <td>242.000000</td>\n",
       "      <td>58.000000</td>\n",
       "      <td>72.000000</td>\n",
       "      <td>70.000000</td>\n",
       "      <td>69.750000</td>\n",
       "      <td>155.000000</td>\n",
       "      <td>49.0</td>\n",
       "      <td>66.000000</td>\n",
       "      <td>64.000000</td>\n",
       "      <td>25.000000</td>\n",
       "      <td>204.000000</td>\n",
       "      <td>153.250000</td>\n",
       "      <td>119.000000</td>\n",
       "      <td>105.000000</td>\n",
       "    </tr>\n",
       "    <tr>\n",
       "      <th>50%</th>\n",
       "      <td>1622.000000</td>\n",
       "      <td>31.000000</td>\n",
       "      <td>251.500000</td>\n",
       "      <td>97.500000</td>\n",
       "      <td>102.000000</td>\n",
       "      <td>86.000000</td>\n",
       "      <td>100.000000</td>\n",
       "      <td>298.000000</td>\n",
       "      <td>49.0</td>\n",
       "      <td>68.000000</td>\n",
       "      <td>86.500000</td>\n",
       "      <td>64.000000</td>\n",
       "      <td>208.000000</td>\n",
       "      <td>155.500000</td>\n",
       "      <td>151.000000</td>\n",
       "      <td>160.000000</td>\n",
       "    </tr>\n",
       "    <tr>\n",
       "      <th>75%</th>\n",
       "      <td>2431.000000</td>\n",
       "      <td>46.000000</td>\n",
       "      <td>257.750000</td>\n",
       "      <td>152.000000</td>\n",
       "      <td>133.000000</td>\n",
       "      <td>132.000000</td>\n",
       "      <td>157.000000</td>\n",
       "      <td>406.000000</td>\n",
       "      <td>49.0</td>\n",
       "      <td>70.500000</td>\n",
       "      <td>102.000000</td>\n",
       "      <td>106.000000</td>\n",
       "      <td>316.000000</td>\n",
       "      <td>203.500000</td>\n",
       "      <td>205.750000</td>\n",
       "      <td>205.000000</td>\n",
       "    </tr>\n",
       "    <tr>\n",
       "      <th>max</th>\n",
       "      <td>3241.000000</td>\n",
       "      <td>185.000000</td>\n",
       "      <td>325.000000</td>\n",
       "      <td>454.000000</td>\n",
       "      <td>281.000000</td>\n",
       "      <td>603.000000</td>\n",
       "      <td>503.000000</td>\n",
       "      <td>772.000000</td>\n",
       "      <td>49.0</td>\n",
       "      <td>147.000000</td>\n",
       "      <td>159.000000</td>\n",
       "      <td>313.000000</td>\n",
       "      <td>1849.000000</td>\n",
       "      <td>305.000000</td>\n",
       "      <td>636.000000</td>\n",
       "      <td>405.000000</td>\n",
       "    </tr>\n",
       "  </tbody>\n",
       "</table>\n",
       "</div>"
      ],
      "text/plain": [
       "               key      Bulk 1      Bulk 2       Bulk 3       Bulk 4  \\\n",
       "count  3129.000000  252.000000   22.000000  1298.000000  1014.000000   \n",
       "mean   1624.383509   39.242063  253.045455   113.879045   104.394477   \n",
       "std     933.337642   18.277654   21.180578    75.483494    48.184126   \n",
       "min       1.000000   10.000000  228.000000     6.000000    12.000000   \n",
       "25%     816.000000   27.000000  242.000000    58.000000    72.000000   \n",
       "50%    1622.000000   31.000000  251.500000    97.500000   102.000000   \n",
       "75%    2431.000000   46.000000  257.750000   152.000000   133.000000   \n",
       "max    3241.000000  185.000000  325.000000   454.000000   281.000000   \n",
       "\n",
       "           Bulk 5      Bulk 6      Bulk 7  Bulk 8      Bulk 9     Bulk 10  \\\n",
       "count   77.000000  576.000000   25.000000     1.0   19.000000  176.000000   \n",
       "mean   107.025974  118.925347  305.600000    49.0   76.315789   83.284091   \n",
       "std     81.790646   72.057776  191.022904     NaN   21.720581   26.060347   \n",
       "min     11.000000   17.000000   47.000000    49.0   63.000000   24.000000   \n",
       "25%     70.000000   69.750000  155.000000    49.0   66.000000   64.000000   \n",
       "50%     86.000000  100.000000  298.000000    49.0   68.000000   86.500000   \n",
       "75%    132.000000  157.000000  406.000000    49.0   70.500000  102.000000   \n",
       "max    603.000000  503.000000  772.000000    49.0  147.000000  159.000000   \n",
       "\n",
       "          Bulk 11      Bulk 12     Bulk 13      Bulk 14      Bulk 15  \n",
       "count  177.000000  2450.000000   18.000000  2806.000000  2248.000000  \n",
       "mean    76.819209   260.471020  181.111111   170.284747   160.513345  \n",
       "std     59.655365   120.649269   46.088009    65.868652    51.765319  \n",
       "min      8.000000    53.000000  151.000000    16.000000     1.000000  \n",
       "25%     25.000000   204.000000  153.250000   119.000000   105.000000  \n",
       "50%     64.000000   208.000000  155.500000   151.000000   160.000000  \n",
       "75%    106.000000   316.000000  203.500000   205.750000   205.000000  \n",
       "max    313.000000  1849.000000  305.000000   636.000000   405.000000  "
      ]
     },
     "execution_count": 8,
     "metadata": {},
     "output_type": "execute_result"
    }
   ],
   "source": [
    "data_bulk_new.describe()"
   ]
  },
  {
   "cell_type": "code",
   "execution_count": 9,
   "metadata": {},
   "outputs": [
    {
     "data": {
      "text/html": [
       "<div>\n",
       "<style scoped>\n",
       "    .dataframe tbody tr th:only-of-type {\n",
       "        vertical-align: middle;\n",
       "    }\n",
       "\n",
       "    .dataframe tbody tr th {\n",
       "        vertical-align: top;\n",
       "    }\n",
       "\n",
       "    .dataframe thead th {\n",
       "        text-align: right;\n",
       "    }\n",
       "</style>\n",
       "<table border=\"1\" class=\"dataframe\">\n",
       "  <thead>\n",
       "    <tr style=\"text-align: right;\">\n",
       "      <th></th>\n",
       "      <th>key</th>\n",
       "      <th>Bulk 1</th>\n",
       "      <th>Bulk 2</th>\n",
       "      <th>Bulk 3</th>\n",
       "      <th>Bulk 4</th>\n",
       "      <th>Bulk 5</th>\n",
       "      <th>Bulk 6</th>\n",
       "      <th>Bulk 7</th>\n",
       "      <th>Bulk 8</th>\n",
       "      <th>Bulk 9</th>\n",
       "      <th>Bulk 10</th>\n",
       "      <th>Bulk 11</th>\n",
       "      <th>Bulk 12</th>\n",
       "      <th>Bulk 13</th>\n",
       "      <th>Bulk 14</th>\n",
       "      <th>Bulk 15</th>\n",
       "    </tr>\n",
       "  </thead>\n",
       "  <tbody>\n",
       "    <tr>\n",
       "      <th>0</th>\n",
       "      <td>1</td>\n",
       "      <td>NaN</td>\n",
       "      <td>NaN</td>\n",
       "      <td>NaN</td>\n",
       "      <td>43.0</td>\n",
       "      <td>NaN</td>\n",
       "      <td>NaN</td>\n",
       "      <td>NaN</td>\n",
       "      <td>NaN</td>\n",
       "      <td>NaN</td>\n",
       "      <td>NaN</td>\n",
       "      <td>NaN</td>\n",
       "      <td>206.0</td>\n",
       "      <td>NaN</td>\n",
       "      <td>150.0</td>\n",
       "      <td>154.0</td>\n",
       "    </tr>\n",
       "    <tr>\n",
       "      <th>1</th>\n",
       "      <td>2</td>\n",
       "      <td>NaN</td>\n",
       "      <td>NaN</td>\n",
       "      <td>NaN</td>\n",
       "      <td>73.0</td>\n",
       "      <td>NaN</td>\n",
       "      <td>NaN</td>\n",
       "      <td>NaN</td>\n",
       "      <td>NaN</td>\n",
       "      <td>NaN</td>\n",
       "      <td>NaN</td>\n",
       "      <td>NaN</td>\n",
       "      <td>206.0</td>\n",
       "      <td>NaN</td>\n",
       "      <td>149.0</td>\n",
       "      <td>154.0</td>\n",
       "    </tr>\n",
       "    <tr>\n",
       "      <th>2</th>\n",
       "      <td>3</td>\n",
       "      <td>NaN</td>\n",
       "      <td>NaN</td>\n",
       "      <td>NaN</td>\n",
       "      <td>34.0</td>\n",
       "      <td>NaN</td>\n",
       "      <td>NaN</td>\n",
       "      <td>NaN</td>\n",
       "      <td>NaN</td>\n",
       "      <td>NaN</td>\n",
       "      <td>NaN</td>\n",
       "      <td>NaN</td>\n",
       "      <td>205.0</td>\n",
       "      <td>NaN</td>\n",
       "      <td>152.0</td>\n",
       "      <td>153.0</td>\n",
       "    </tr>\n",
       "    <tr>\n",
       "      <th>3</th>\n",
       "      <td>4</td>\n",
       "      <td>NaN</td>\n",
       "      <td>NaN</td>\n",
       "      <td>NaN</td>\n",
       "      <td>81.0</td>\n",
       "      <td>NaN</td>\n",
       "      <td>NaN</td>\n",
       "      <td>NaN</td>\n",
       "      <td>NaN</td>\n",
       "      <td>NaN</td>\n",
       "      <td>NaN</td>\n",
       "      <td>NaN</td>\n",
       "      <td>207.0</td>\n",
       "      <td>NaN</td>\n",
       "      <td>153.0</td>\n",
       "      <td>154.0</td>\n",
       "    </tr>\n",
       "    <tr>\n",
       "      <th>4</th>\n",
       "      <td>5</td>\n",
       "      <td>NaN</td>\n",
       "      <td>NaN</td>\n",
       "      <td>NaN</td>\n",
       "      <td>78.0</td>\n",
       "      <td>NaN</td>\n",
       "      <td>NaN</td>\n",
       "      <td>NaN</td>\n",
       "      <td>NaN</td>\n",
       "      <td>NaN</td>\n",
       "      <td>NaN</td>\n",
       "      <td>NaN</td>\n",
       "      <td>203.0</td>\n",
       "      <td>NaN</td>\n",
       "      <td>151.0</td>\n",
       "      <td>152.0</td>\n",
       "    </tr>\n",
       "  </tbody>\n",
       "</table>\n",
       "</div>"
      ],
      "text/plain": [
       "   key  Bulk 1  Bulk 2  Bulk 3  Bulk 4  Bulk 5  Bulk 6  Bulk 7  Bulk 8  \\\n",
       "0    1     NaN     NaN     NaN    43.0     NaN     NaN     NaN     NaN   \n",
       "1    2     NaN     NaN     NaN    73.0     NaN     NaN     NaN     NaN   \n",
       "2    3     NaN     NaN     NaN    34.0     NaN     NaN     NaN     NaN   \n",
       "3    4     NaN     NaN     NaN    81.0     NaN     NaN     NaN     NaN   \n",
       "4    5     NaN     NaN     NaN    78.0     NaN     NaN     NaN     NaN   \n",
       "\n",
       "   Bulk 9  Bulk 10  Bulk 11  Bulk 12  Bulk 13  Bulk 14  Bulk 15  \n",
       "0     NaN      NaN      NaN    206.0      NaN    150.0    154.0  \n",
       "1     NaN      NaN      NaN    206.0      NaN    149.0    154.0  \n",
       "2     NaN      NaN      NaN    205.0      NaN    152.0    153.0  \n",
       "3     NaN      NaN      NaN    207.0      NaN    153.0    154.0  \n",
       "4     NaN      NaN      NaN    203.0      NaN    151.0    152.0  "
      ]
     },
     "metadata": {},
     "output_type": "display_data"
    }
   ],
   "source": [
    "display(data_bulk_new.head())"
   ]
  },
  {
   "cell_type": "code",
   "execution_count": 10,
   "metadata": {},
   "outputs": [
    {
     "name": "stdout",
     "output_type": "stream",
     "text": [
      "<class 'pandas.core.frame.DataFrame'>\n",
      "RangeIndex: 3129 entries, 0 to 3128\n",
      "Data columns (total 16 columns):\n",
      " #   Column   Non-Null Count  Dtype \n",
      "---  ------   --------------  ----- \n",
      " 0   key      3129 non-null   int64 \n",
      " 1   Bulk 1   252 non-null    object\n",
      " 2   Bulk 2   22 non-null     object\n",
      " 3   Bulk 3   1298 non-null   object\n",
      " 4   Bulk 4   1014 non-null   object\n",
      " 5   Bulk 5   77 non-null     object\n",
      " 6   Bulk 6   576 non-null    object\n",
      " 7   Bulk 7   25 non-null     object\n",
      " 8   Bulk 8   1 non-null      object\n",
      " 9   Bulk 9   19 non-null     object\n",
      " 10  Bulk 10  176 non-null    object\n",
      " 11  Bulk 11  177 non-null    object\n",
      " 12  Bulk 12  2450 non-null   object\n",
      " 13  Bulk 13  18 non-null     object\n",
      " 14  Bulk 14  2806 non-null   object\n",
      " 15  Bulk 15  2248 non-null   object\n",
      "dtypes: int64(1), object(15)\n",
      "memory usage: 391.2+ KB\n"
     ]
    }
   ],
   "source": [
    "data_bulk_time_new.info()"
   ]
  },
  {
   "cell_type": "code",
   "execution_count": 11,
   "metadata": {},
   "outputs": [
    {
     "data": {
      "text/html": [
       "<div>\n",
       "<style scoped>\n",
       "    .dataframe tbody tr th:only-of-type {\n",
       "        vertical-align: middle;\n",
       "    }\n",
       "\n",
       "    .dataframe tbody tr th {\n",
       "        vertical-align: top;\n",
       "    }\n",
       "\n",
       "    .dataframe thead th {\n",
       "        text-align: right;\n",
       "    }\n",
       "</style>\n",
       "<table border=\"1\" class=\"dataframe\">\n",
       "  <thead>\n",
       "    <tr style=\"text-align: right;\">\n",
       "      <th></th>\n",
       "      <th>key</th>\n",
       "    </tr>\n",
       "  </thead>\n",
       "  <tbody>\n",
       "    <tr>\n",
       "      <th>count</th>\n",
       "      <td>3129.000000</td>\n",
       "    </tr>\n",
       "    <tr>\n",
       "      <th>mean</th>\n",
       "      <td>1624.383509</td>\n",
       "    </tr>\n",
       "    <tr>\n",
       "      <th>std</th>\n",
       "      <td>933.337642</td>\n",
       "    </tr>\n",
       "    <tr>\n",
       "      <th>min</th>\n",
       "      <td>1.000000</td>\n",
       "    </tr>\n",
       "    <tr>\n",
       "      <th>25%</th>\n",
       "      <td>816.000000</td>\n",
       "    </tr>\n",
       "    <tr>\n",
       "      <th>50%</th>\n",
       "      <td>1622.000000</td>\n",
       "    </tr>\n",
       "    <tr>\n",
       "      <th>75%</th>\n",
       "      <td>2431.000000</td>\n",
       "    </tr>\n",
       "    <tr>\n",
       "      <th>max</th>\n",
       "      <td>3241.000000</td>\n",
       "    </tr>\n",
       "  </tbody>\n",
       "</table>\n",
       "</div>"
      ],
      "text/plain": [
       "               key\n",
       "count  3129.000000\n",
       "mean   1624.383509\n",
       "std     933.337642\n",
       "min       1.000000\n",
       "25%     816.000000\n",
       "50%    1622.000000\n",
       "75%    2431.000000\n",
       "max    3241.000000"
      ]
     },
     "execution_count": 11,
     "metadata": {},
     "output_type": "execute_result"
    }
   ],
   "source": [
    "data_bulk_time_new.describe()"
   ]
  },
  {
   "cell_type": "code",
   "execution_count": 12,
   "metadata": {},
   "outputs": [
    {
     "data": {
      "text/html": [
       "<div>\n",
       "<style scoped>\n",
       "    .dataframe tbody tr th:only-of-type {\n",
       "        vertical-align: middle;\n",
       "    }\n",
       "\n",
       "    .dataframe tbody tr th {\n",
       "        vertical-align: top;\n",
       "    }\n",
       "\n",
       "    .dataframe thead th {\n",
       "        text-align: right;\n",
       "    }\n",
       "</style>\n",
       "<table border=\"1\" class=\"dataframe\">\n",
       "  <thead>\n",
       "    <tr style=\"text-align: right;\">\n",
       "      <th></th>\n",
       "      <th>key</th>\n",
       "      <th>Bulk 1</th>\n",
       "      <th>Bulk 2</th>\n",
       "      <th>Bulk 3</th>\n",
       "      <th>Bulk 4</th>\n",
       "      <th>Bulk 5</th>\n",
       "      <th>Bulk 6</th>\n",
       "      <th>Bulk 7</th>\n",
       "      <th>Bulk 8</th>\n",
       "      <th>Bulk 9</th>\n",
       "      <th>Bulk 10</th>\n",
       "      <th>Bulk 11</th>\n",
       "      <th>Bulk 12</th>\n",
       "      <th>Bulk 13</th>\n",
       "      <th>Bulk 14</th>\n",
       "      <th>Bulk 15</th>\n",
       "    </tr>\n",
       "  </thead>\n",
       "  <tbody>\n",
       "    <tr>\n",
       "      <th>0</th>\n",
       "      <td>1</td>\n",
       "      <td>NaN</td>\n",
       "      <td>NaN</td>\n",
       "      <td>NaN</td>\n",
       "      <td>2019-05-03 11:28:48</td>\n",
       "      <td>NaN</td>\n",
       "      <td>NaN</td>\n",
       "      <td>NaN</td>\n",
       "      <td>NaN</td>\n",
       "      <td>NaN</td>\n",
       "      <td>NaN</td>\n",
       "      <td>NaN</td>\n",
       "      <td>2019-05-03 11:24:31</td>\n",
       "      <td>NaN</td>\n",
       "      <td>2019-05-03 11:14:50</td>\n",
       "      <td>2019-05-03 11:10:43</td>\n",
       "    </tr>\n",
       "    <tr>\n",
       "      <th>1</th>\n",
       "      <td>2</td>\n",
       "      <td>NaN</td>\n",
       "      <td>NaN</td>\n",
       "      <td>NaN</td>\n",
       "      <td>2019-05-03 11:36:50</td>\n",
       "      <td>NaN</td>\n",
       "      <td>NaN</td>\n",
       "      <td>NaN</td>\n",
       "      <td>NaN</td>\n",
       "      <td>NaN</td>\n",
       "      <td>NaN</td>\n",
       "      <td>NaN</td>\n",
       "      <td>2019-05-03 11:53:30</td>\n",
       "      <td>NaN</td>\n",
       "      <td>2019-05-03 11:48:37</td>\n",
       "      <td>2019-05-03 11:44:39</td>\n",
       "    </tr>\n",
       "    <tr>\n",
       "      <th>2</th>\n",
       "      <td>3</td>\n",
       "      <td>NaN</td>\n",
       "      <td>NaN</td>\n",
       "      <td>NaN</td>\n",
       "      <td>2019-05-03 12:32:39</td>\n",
       "      <td>NaN</td>\n",
       "      <td>NaN</td>\n",
       "      <td>NaN</td>\n",
       "      <td>NaN</td>\n",
       "      <td>NaN</td>\n",
       "      <td>NaN</td>\n",
       "      <td>NaN</td>\n",
       "      <td>2019-05-03 12:27:13</td>\n",
       "      <td>NaN</td>\n",
       "      <td>2019-05-03 12:21:01</td>\n",
       "      <td>2019-05-03 12:16:16</td>\n",
       "    </tr>\n",
       "    <tr>\n",
       "      <th>3</th>\n",
       "      <td>4</td>\n",
       "      <td>NaN</td>\n",
       "      <td>NaN</td>\n",
       "      <td>NaN</td>\n",
       "      <td>2019-05-03 12:43:22</td>\n",
       "      <td>NaN</td>\n",
       "      <td>NaN</td>\n",
       "      <td>NaN</td>\n",
       "      <td>NaN</td>\n",
       "      <td>NaN</td>\n",
       "      <td>NaN</td>\n",
       "      <td>NaN</td>\n",
       "      <td>2019-05-03 12:58:00</td>\n",
       "      <td>NaN</td>\n",
       "      <td>2019-05-03 12:51:11</td>\n",
       "      <td>2019-05-03 12:46:36</td>\n",
       "    </tr>\n",
       "    <tr>\n",
       "      <th>4</th>\n",
       "      <td>5</td>\n",
       "      <td>NaN</td>\n",
       "      <td>NaN</td>\n",
       "      <td>NaN</td>\n",
       "      <td>2019-05-03 13:30:47</td>\n",
       "      <td>NaN</td>\n",
       "      <td>NaN</td>\n",
       "      <td>NaN</td>\n",
       "      <td>NaN</td>\n",
       "      <td>NaN</td>\n",
       "      <td>NaN</td>\n",
       "      <td>NaN</td>\n",
       "      <td>2019-05-03 13:30:47</td>\n",
       "      <td>NaN</td>\n",
       "      <td>2019-05-03 13:34:12</td>\n",
       "      <td>2019-05-03 13:30:47</td>\n",
       "    </tr>\n",
       "  </tbody>\n",
       "</table>\n",
       "</div>"
      ],
      "text/plain": [
       "   key Bulk 1 Bulk 2 Bulk 3               Bulk 4 Bulk 5 Bulk 6 Bulk 7 Bulk 8  \\\n",
       "0    1    NaN    NaN    NaN  2019-05-03 11:28:48    NaN    NaN    NaN    NaN   \n",
       "1    2    NaN    NaN    NaN  2019-05-03 11:36:50    NaN    NaN    NaN    NaN   \n",
       "2    3    NaN    NaN    NaN  2019-05-03 12:32:39    NaN    NaN    NaN    NaN   \n",
       "3    4    NaN    NaN    NaN  2019-05-03 12:43:22    NaN    NaN    NaN    NaN   \n",
       "4    5    NaN    NaN    NaN  2019-05-03 13:30:47    NaN    NaN    NaN    NaN   \n",
       "\n",
       "  Bulk 9 Bulk 10 Bulk 11              Bulk 12 Bulk 13              Bulk 14  \\\n",
       "0    NaN     NaN     NaN  2019-05-03 11:24:31     NaN  2019-05-03 11:14:50   \n",
       "1    NaN     NaN     NaN  2019-05-03 11:53:30     NaN  2019-05-03 11:48:37   \n",
       "2    NaN     NaN     NaN  2019-05-03 12:27:13     NaN  2019-05-03 12:21:01   \n",
       "3    NaN     NaN     NaN  2019-05-03 12:58:00     NaN  2019-05-03 12:51:11   \n",
       "4    NaN     NaN     NaN  2019-05-03 13:30:47     NaN  2019-05-03 13:34:12   \n",
       "\n",
       "               Bulk 15  \n",
       "0  2019-05-03 11:10:43  \n",
       "1  2019-05-03 11:44:39  \n",
       "2  2019-05-03 12:16:16  \n",
       "3  2019-05-03 12:46:36  \n",
       "4  2019-05-03 13:30:47  "
      ]
     },
     "metadata": {},
     "output_type": "display_data"
    }
   ],
   "source": [
    "display(data_bulk_time_new.head())"
   ]
  },
  {
   "cell_type": "code",
   "execution_count": 13,
   "metadata": {},
   "outputs": [
    {
     "name": "stdout",
     "output_type": "stream",
     "text": [
      "<class 'pandas.core.frame.DataFrame'>\n",
      "RangeIndex: 3239 entries, 0 to 3238\n",
      "Data columns (total 2 columns):\n",
      " #   Column  Non-Null Count  Dtype  \n",
      "---  ------  --------------  -----  \n",
      " 0   key     3239 non-null   int64  \n",
      " 1   Газ 1   3239 non-null   float64\n",
      "dtypes: float64(1), int64(1)\n",
      "memory usage: 50.7 KB\n"
     ]
    }
   ],
   "source": [
    "data_gas_new.info()"
   ]
  },
  {
   "cell_type": "code",
   "execution_count": 14,
   "metadata": {},
   "outputs": [
    {
     "data": {
      "text/html": [
       "<div>\n",
       "<style scoped>\n",
       "    .dataframe tbody tr th:only-of-type {\n",
       "        vertical-align: middle;\n",
       "    }\n",
       "\n",
       "    .dataframe tbody tr th {\n",
       "        vertical-align: top;\n",
       "    }\n",
       "\n",
       "    .dataframe thead th {\n",
       "        text-align: right;\n",
       "    }\n",
       "</style>\n",
       "<table border=\"1\" class=\"dataframe\">\n",
       "  <thead>\n",
       "    <tr style=\"text-align: right;\">\n",
       "      <th></th>\n",
       "      <th>key</th>\n",
       "      <th>Газ 1</th>\n",
       "    </tr>\n",
       "  </thead>\n",
       "  <tbody>\n",
       "    <tr>\n",
       "      <th>count</th>\n",
       "      <td>3239.000000</td>\n",
       "      <td>3239.000000</td>\n",
       "    </tr>\n",
       "    <tr>\n",
       "      <th>mean</th>\n",
       "      <td>1621.861377</td>\n",
       "      <td>11.002062</td>\n",
       "    </tr>\n",
       "    <tr>\n",
       "      <th>std</th>\n",
       "      <td>935.386334</td>\n",
       "      <td>6.220327</td>\n",
       "    </tr>\n",
       "    <tr>\n",
       "      <th>min</th>\n",
       "      <td>1.000000</td>\n",
       "      <td>0.008399</td>\n",
       "    </tr>\n",
       "    <tr>\n",
       "      <th>25%</th>\n",
       "      <td>812.500000</td>\n",
       "      <td>7.043089</td>\n",
       "    </tr>\n",
       "    <tr>\n",
       "      <th>50%</th>\n",
       "      <td>1622.000000</td>\n",
       "      <td>9.836267</td>\n",
       "    </tr>\n",
       "    <tr>\n",
       "      <th>75%</th>\n",
       "      <td>2431.500000</td>\n",
       "      <td>13.769915</td>\n",
       "    </tr>\n",
       "    <tr>\n",
       "      <th>max</th>\n",
       "      <td>3241.000000</td>\n",
       "      <td>77.995040</td>\n",
       "    </tr>\n",
       "  </tbody>\n",
       "</table>\n",
       "</div>"
      ],
      "text/plain": [
       "               key        Газ 1\n",
       "count  3239.000000  3239.000000\n",
       "mean   1621.861377    11.002062\n",
       "std     935.386334     6.220327\n",
       "min       1.000000     0.008399\n",
       "25%     812.500000     7.043089\n",
       "50%    1622.000000     9.836267\n",
       "75%    2431.500000    13.769915\n",
       "max    3241.000000    77.995040"
      ]
     },
     "execution_count": 14,
     "metadata": {},
     "output_type": "execute_result"
    }
   ],
   "source": [
    "data_gas_new.describe()"
   ]
  },
  {
   "cell_type": "code",
   "execution_count": 15,
   "metadata": {},
   "outputs": [
    {
     "data": {
      "text/html": [
       "<div>\n",
       "<style scoped>\n",
       "    .dataframe tbody tr th:only-of-type {\n",
       "        vertical-align: middle;\n",
       "    }\n",
       "\n",
       "    .dataframe tbody tr th {\n",
       "        vertical-align: top;\n",
       "    }\n",
       "\n",
       "    .dataframe thead th {\n",
       "        text-align: right;\n",
       "    }\n",
       "</style>\n",
       "<table border=\"1\" class=\"dataframe\">\n",
       "  <thead>\n",
       "    <tr style=\"text-align: right;\">\n",
       "      <th></th>\n",
       "      <th>key</th>\n",
       "      <th>Газ 1</th>\n",
       "    </tr>\n",
       "  </thead>\n",
       "  <tbody>\n",
       "    <tr>\n",
       "      <th>0</th>\n",
       "      <td>1</td>\n",
       "      <td>29.749986</td>\n",
       "    </tr>\n",
       "    <tr>\n",
       "      <th>1</th>\n",
       "      <td>2</td>\n",
       "      <td>12.555561</td>\n",
       "    </tr>\n",
       "    <tr>\n",
       "      <th>2</th>\n",
       "      <td>3</td>\n",
       "      <td>28.554793</td>\n",
       "    </tr>\n",
       "    <tr>\n",
       "      <th>3</th>\n",
       "      <td>4</td>\n",
       "      <td>18.841219</td>\n",
       "    </tr>\n",
       "    <tr>\n",
       "      <th>4</th>\n",
       "      <td>5</td>\n",
       "      <td>5.413692</td>\n",
       "    </tr>\n",
       "  </tbody>\n",
       "</table>\n",
       "</div>"
      ],
      "text/plain": [
       "   key      Газ 1\n",
       "0    1  29.749986\n",
       "1    2  12.555561\n",
       "2    3  28.554793\n",
       "3    4  18.841219\n",
       "4    5   5.413692"
      ]
     },
     "metadata": {},
     "output_type": "display_data"
    }
   ],
   "source": [
    "display(data_gas_new.head())"
   ]
  },
  {
   "cell_type": "code",
   "execution_count": 16,
   "metadata": {},
   "outputs": [
    {
     "name": "stdout",
     "output_type": "stream",
     "text": [
      "<class 'pandas.core.frame.DataFrame'>\n",
      "RangeIndex: 18092 entries, 0 to 18091\n",
      "Data columns (total 3 columns):\n",
      " #   Column        Non-Null Count  Dtype  \n",
      "---  ------        --------------  -----  \n",
      " 0   key           18092 non-null  int64  \n",
      " 1   Время замера  18092 non-null  object \n",
      " 2   Температура   14665 non-null  float64\n",
      "dtypes: float64(1), int64(1), object(1)\n",
      "memory usage: 424.2+ KB\n"
     ]
    }
   ],
   "source": [
    "data_temp_new.info()"
   ]
  },
  {
   "cell_type": "code",
   "execution_count": 17,
   "metadata": {},
   "outputs": [
    {
     "data": {
      "text/html": [
       "<div>\n",
       "<style scoped>\n",
       "    .dataframe tbody tr th:only-of-type {\n",
       "        vertical-align: middle;\n",
       "    }\n",
       "\n",
       "    .dataframe tbody tr th {\n",
       "        vertical-align: top;\n",
       "    }\n",
       "\n",
       "    .dataframe thead th {\n",
       "        text-align: right;\n",
       "    }\n",
       "</style>\n",
       "<table border=\"1\" class=\"dataframe\">\n",
       "  <thead>\n",
       "    <tr style=\"text-align: right;\">\n",
       "      <th></th>\n",
       "      <th>key</th>\n",
       "      <th>Температура</th>\n",
       "    </tr>\n",
       "  </thead>\n",
       "  <tbody>\n",
       "    <tr>\n",
       "      <th>count</th>\n",
       "      <td>18092.000000</td>\n",
       "      <td>14665.000000</td>\n",
       "    </tr>\n",
       "    <tr>\n",
       "      <th>mean</th>\n",
       "      <td>1616.460977</td>\n",
       "      <td>1590.722741</td>\n",
       "    </tr>\n",
       "    <tr>\n",
       "      <th>std</th>\n",
       "      <td>934.641385</td>\n",
       "      <td>20.394381</td>\n",
       "    </tr>\n",
       "    <tr>\n",
       "      <th>min</th>\n",
       "      <td>1.000000</td>\n",
       "      <td>1191.000000</td>\n",
       "    </tr>\n",
       "    <tr>\n",
       "      <th>25%</th>\n",
       "      <td>807.750000</td>\n",
       "      <td>1580.000000</td>\n",
       "    </tr>\n",
       "    <tr>\n",
       "      <th>50%</th>\n",
       "      <td>1618.000000</td>\n",
       "      <td>1590.000000</td>\n",
       "    </tr>\n",
       "    <tr>\n",
       "      <th>75%</th>\n",
       "      <td>2429.000000</td>\n",
       "      <td>1599.000000</td>\n",
       "    </tr>\n",
       "    <tr>\n",
       "      <th>max</th>\n",
       "      <td>3241.000000</td>\n",
       "      <td>1705.000000</td>\n",
       "    </tr>\n",
       "  </tbody>\n",
       "</table>\n",
       "</div>"
      ],
      "text/plain": [
       "                key   Температура\n",
       "count  18092.000000  14665.000000\n",
       "mean    1616.460977   1590.722741\n",
       "std      934.641385     20.394381\n",
       "min        1.000000   1191.000000\n",
       "25%      807.750000   1580.000000\n",
       "50%     1618.000000   1590.000000\n",
       "75%     2429.000000   1599.000000\n",
       "max     3241.000000   1705.000000"
      ]
     },
     "execution_count": 17,
     "metadata": {},
     "output_type": "execute_result"
    }
   ],
   "source": [
    "data_temp_new.describe()"
   ]
  },
  {
   "cell_type": "code",
   "execution_count": 18,
   "metadata": {},
   "outputs": [
    {
     "data": {
      "text/html": [
       "<div>\n",
       "<style scoped>\n",
       "    .dataframe tbody tr th:only-of-type {\n",
       "        vertical-align: middle;\n",
       "    }\n",
       "\n",
       "    .dataframe tbody tr th {\n",
       "        vertical-align: top;\n",
       "    }\n",
       "\n",
       "    .dataframe thead th {\n",
       "        text-align: right;\n",
       "    }\n",
       "</style>\n",
       "<table border=\"1\" class=\"dataframe\">\n",
       "  <thead>\n",
       "    <tr style=\"text-align: right;\">\n",
       "      <th></th>\n",
       "      <th>key</th>\n",
       "      <th>Время замера</th>\n",
       "      <th>Температура</th>\n",
       "    </tr>\n",
       "  </thead>\n",
       "  <tbody>\n",
       "    <tr>\n",
       "      <th>0</th>\n",
       "      <td>1</td>\n",
       "      <td>2019-05-03 11:02:04</td>\n",
       "      <td>1571.0</td>\n",
       "    </tr>\n",
       "    <tr>\n",
       "      <th>1</th>\n",
       "      <td>1</td>\n",
       "      <td>2019-05-03 11:07:18</td>\n",
       "      <td>1604.0</td>\n",
       "    </tr>\n",
       "    <tr>\n",
       "      <th>2</th>\n",
       "      <td>1</td>\n",
       "      <td>2019-05-03 11:11:34</td>\n",
       "      <td>1618.0</td>\n",
       "    </tr>\n",
       "    <tr>\n",
       "      <th>3</th>\n",
       "      <td>1</td>\n",
       "      <td>2019-05-03 11:18:04</td>\n",
       "      <td>1601.0</td>\n",
       "    </tr>\n",
       "    <tr>\n",
       "      <th>4</th>\n",
       "      <td>1</td>\n",
       "      <td>2019-05-03 11:25:59</td>\n",
       "      <td>1606.0</td>\n",
       "    </tr>\n",
       "  </tbody>\n",
       "</table>\n",
       "</div>"
      ],
      "text/plain": [
       "   key         Время замера  Температура\n",
       "0    1  2019-05-03 11:02:04       1571.0\n",
       "1    1  2019-05-03 11:07:18       1604.0\n",
       "2    1  2019-05-03 11:11:34       1618.0\n",
       "3    1  2019-05-03 11:18:04       1601.0\n",
       "4    1  2019-05-03 11:25:59       1606.0"
      ]
     },
     "metadata": {},
     "output_type": "display_data"
    }
   ],
   "source": [
    "display(data_temp_new.head())"
   ]
  },
  {
   "cell_type": "code",
   "execution_count": 19,
   "metadata": {},
   "outputs": [
    {
     "name": "stdout",
     "output_type": "stream",
     "text": [
      "<class 'pandas.core.frame.DataFrame'>\n",
      "RangeIndex: 3081 entries, 0 to 3080\n",
      "Data columns (total 10 columns):\n",
      " #   Column  Non-Null Count  Dtype  \n",
      "---  ------  --------------  -----  \n",
      " 0   key     3081 non-null   int64  \n",
      " 1   Wire 1  3055 non-null   float64\n",
      " 2   Wire 2  1079 non-null   float64\n",
      " 3   Wire 3  63 non-null     float64\n",
      " 4   Wire 4  14 non-null     float64\n",
      " 5   Wire 5  1 non-null      float64\n",
      " 6   Wire 6  73 non-null     float64\n",
      " 7   Wire 7  11 non-null     float64\n",
      " 8   Wire 8  19 non-null     float64\n",
      " 9   Wire 9  29 non-null     float64\n",
      "dtypes: float64(9), int64(1)\n",
      "memory usage: 240.8 KB\n"
     ]
    }
   ],
   "source": [
    "data_wire_new.info()"
   ]
  },
  {
   "cell_type": "code",
   "execution_count": 20,
   "metadata": {},
   "outputs": [
    {
     "data": {
      "text/html": [
       "<div>\n",
       "<style scoped>\n",
       "    .dataframe tbody tr th:only-of-type {\n",
       "        vertical-align: middle;\n",
       "    }\n",
       "\n",
       "    .dataframe tbody tr th {\n",
       "        vertical-align: top;\n",
       "    }\n",
       "\n",
       "    .dataframe thead th {\n",
       "        text-align: right;\n",
       "    }\n",
       "</style>\n",
       "<table border=\"1\" class=\"dataframe\">\n",
       "  <thead>\n",
       "    <tr style=\"text-align: right;\">\n",
       "      <th></th>\n",
       "      <th>key</th>\n",
       "      <th>Wire 1</th>\n",
       "      <th>Wire 2</th>\n",
       "      <th>Wire 3</th>\n",
       "      <th>Wire 4</th>\n",
       "      <th>Wire 5</th>\n",
       "      <th>Wire 6</th>\n",
       "      <th>Wire 7</th>\n",
       "      <th>Wire 8</th>\n",
       "      <th>Wire 9</th>\n",
       "    </tr>\n",
       "  </thead>\n",
       "  <tbody>\n",
       "    <tr>\n",
       "      <th>count</th>\n",
       "      <td>3081.000000</td>\n",
       "      <td>3055.000000</td>\n",
       "      <td>1079.000000</td>\n",
       "      <td>63.000000</td>\n",
       "      <td>14.000000</td>\n",
       "      <td>1.000</td>\n",
       "      <td>73.000000</td>\n",
       "      <td>11.000000</td>\n",
       "      <td>19.000000</td>\n",
       "      <td>29.000000</td>\n",
       "    </tr>\n",
       "    <tr>\n",
       "      <th>mean</th>\n",
       "      <td>1623.426485</td>\n",
       "      <td>100.895853</td>\n",
       "      <td>50.577323</td>\n",
       "      <td>189.482681</td>\n",
       "      <td>57.442841</td>\n",
       "      <td>15.132</td>\n",
       "      <td>48.016974</td>\n",
       "      <td>10.039007</td>\n",
       "      <td>53.625193</td>\n",
       "      <td>34.155752</td>\n",
       "    </tr>\n",
       "    <tr>\n",
       "      <th>std</th>\n",
       "      <td>932.996726</td>\n",
       "      <td>42.012518</td>\n",
       "      <td>39.320216</td>\n",
       "      <td>99.513444</td>\n",
       "      <td>28.824667</td>\n",
       "      <td>NaN</td>\n",
       "      <td>33.919845</td>\n",
       "      <td>8.610584</td>\n",
       "      <td>16.881728</td>\n",
       "      <td>19.931616</td>\n",
       "    </tr>\n",
       "    <tr>\n",
       "      <th>min</th>\n",
       "      <td>1.000000</td>\n",
       "      <td>1.918800</td>\n",
       "      <td>0.030160</td>\n",
       "      <td>0.144144</td>\n",
       "      <td>24.148801</td>\n",
       "      <td>15.132</td>\n",
       "      <td>0.034320</td>\n",
       "      <td>0.234208</td>\n",
       "      <td>45.076721</td>\n",
       "      <td>4.622800</td>\n",
       "    </tr>\n",
       "    <tr>\n",
       "      <th>25%</th>\n",
       "      <td>823.000000</td>\n",
       "      <td>72.115684</td>\n",
       "      <td>20.193680</td>\n",
       "      <td>95.135044</td>\n",
       "      <td>40.807002</td>\n",
       "      <td>15.132</td>\n",
       "      <td>25.053600</td>\n",
       "      <td>6.762756</td>\n",
       "      <td>46.094879</td>\n",
       "      <td>22.058401</td>\n",
       "    </tr>\n",
       "    <tr>\n",
       "      <th>50%</th>\n",
       "      <td>1619.000000</td>\n",
       "      <td>100.158234</td>\n",
       "      <td>40.142956</td>\n",
       "      <td>235.194977</td>\n",
       "      <td>45.234282</td>\n",
       "      <td>15.132</td>\n",
       "      <td>42.076324</td>\n",
       "      <td>9.017009</td>\n",
       "      <td>46.279999</td>\n",
       "      <td>30.066399</td>\n",
       "    </tr>\n",
       "    <tr>\n",
       "      <th>75%</th>\n",
       "      <td>2434.000000</td>\n",
       "      <td>126.060483</td>\n",
       "      <td>70.227558</td>\n",
       "      <td>276.252014</td>\n",
       "      <td>76.124619</td>\n",
       "      <td>15.132</td>\n",
       "      <td>64.212723</td>\n",
       "      <td>11.886057</td>\n",
       "      <td>48.089603</td>\n",
       "      <td>43.862003</td>\n",
       "    </tr>\n",
       "    <tr>\n",
       "      <th>max</th>\n",
       "      <td>3241.000000</td>\n",
       "      <td>330.314424</td>\n",
       "      <td>282.780152</td>\n",
       "      <td>385.008668</td>\n",
       "      <td>113.231044</td>\n",
       "      <td>15.132</td>\n",
       "      <td>180.454575</td>\n",
       "      <td>32.847674</td>\n",
       "      <td>102.762401</td>\n",
       "      <td>90.053604</td>\n",
       "    </tr>\n",
       "  </tbody>\n",
       "</table>\n",
       "</div>"
      ],
      "text/plain": [
       "               key       Wire 1       Wire 2      Wire 3      Wire 4  Wire 5  \\\n",
       "count  3081.000000  3055.000000  1079.000000   63.000000   14.000000   1.000   \n",
       "mean   1623.426485   100.895853    50.577323  189.482681   57.442841  15.132   \n",
       "std     932.996726    42.012518    39.320216   99.513444   28.824667     NaN   \n",
       "min       1.000000     1.918800     0.030160    0.144144   24.148801  15.132   \n",
       "25%     823.000000    72.115684    20.193680   95.135044   40.807002  15.132   \n",
       "50%    1619.000000   100.158234    40.142956  235.194977   45.234282  15.132   \n",
       "75%    2434.000000   126.060483    70.227558  276.252014   76.124619  15.132   \n",
       "max    3241.000000   330.314424   282.780152  385.008668  113.231044  15.132   \n",
       "\n",
       "           Wire 6     Wire 7      Wire 8     Wire 9  \n",
       "count   73.000000  11.000000   19.000000  29.000000  \n",
       "mean    48.016974  10.039007   53.625193  34.155752  \n",
       "std     33.919845   8.610584   16.881728  19.931616  \n",
       "min      0.034320   0.234208   45.076721   4.622800  \n",
       "25%     25.053600   6.762756   46.094879  22.058401  \n",
       "50%     42.076324   9.017009   46.279999  30.066399  \n",
       "75%     64.212723  11.886057   48.089603  43.862003  \n",
       "max    180.454575  32.847674  102.762401  90.053604  "
      ]
     },
     "execution_count": 20,
     "metadata": {},
     "output_type": "execute_result"
    }
   ],
   "source": [
    "data_wire_new.describe()"
   ]
  },
  {
   "cell_type": "code",
   "execution_count": 21,
   "metadata": {},
   "outputs": [
    {
     "data": {
      "text/html": [
       "<div>\n",
       "<style scoped>\n",
       "    .dataframe tbody tr th:only-of-type {\n",
       "        vertical-align: middle;\n",
       "    }\n",
       "\n",
       "    .dataframe tbody tr th {\n",
       "        vertical-align: top;\n",
       "    }\n",
       "\n",
       "    .dataframe thead th {\n",
       "        text-align: right;\n",
       "    }\n",
       "</style>\n",
       "<table border=\"1\" class=\"dataframe\">\n",
       "  <thead>\n",
       "    <tr style=\"text-align: right;\">\n",
       "      <th></th>\n",
       "      <th>key</th>\n",
       "      <th>Wire 1</th>\n",
       "      <th>Wire 2</th>\n",
       "      <th>Wire 3</th>\n",
       "      <th>Wire 4</th>\n",
       "      <th>Wire 5</th>\n",
       "      <th>Wire 6</th>\n",
       "      <th>Wire 7</th>\n",
       "      <th>Wire 8</th>\n",
       "      <th>Wire 9</th>\n",
       "    </tr>\n",
       "  </thead>\n",
       "  <tbody>\n",
       "    <tr>\n",
       "      <th>0</th>\n",
       "      <td>1</td>\n",
       "      <td>60.059998</td>\n",
       "      <td>NaN</td>\n",
       "      <td>NaN</td>\n",
       "      <td>NaN</td>\n",
       "      <td>NaN</td>\n",
       "      <td>NaN</td>\n",
       "      <td>NaN</td>\n",
       "      <td>NaN</td>\n",
       "      <td>NaN</td>\n",
       "    </tr>\n",
       "    <tr>\n",
       "      <th>1</th>\n",
       "      <td>2</td>\n",
       "      <td>96.052315</td>\n",
       "      <td>NaN</td>\n",
       "      <td>NaN</td>\n",
       "      <td>NaN</td>\n",
       "      <td>NaN</td>\n",
       "      <td>NaN</td>\n",
       "      <td>NaN</td>\n",
       "      <td>NaN</td>\n",
       "      <td>NaN</td>\n",
       "    </tr>\n",
       "    <tr>\n",
       "      <th>2</th>\n",
       "      <td>3</td>\n",
       "      <td>91.160157</td>\n",
       "      <td>NaN</td>\n",
       "      <td>NaN</td>\n",
       "      <td>NaN</td>\n",
       "      <td>NaN</td>\n",
       "      <td>NaN</td>\n",
       "      <td>NaN</td>\n",
       "      <td>NaN</td>\n",
       "      <td>NaN</td>\n",
       "    </tr>\n",
       "    <tr>\n",
       "      <th>3</th>\n",
       "      <td>4</td>\n",
       "      <td>89.063515</td>\n",
       "      <td>NaN</td>\n",
       "      <td>NaN</td>\n",
       "      <td>NaN</td>\n",
       "      <td>NaN</td>\n",
       "      <td>NaN</td>\n",
       "      <td>NaN</td>\n",
       "      <td>NaN</td>\n",
       "      <td>NaN</td>\n",
       "    </tr>\n",
       "    <tr>\n",
       "      <th>4</th>\n",
       "      <td>5</td>\n",
       "      <td>89.238236</td>\n",
       "      <td>9.11456</td>\n",
       "      <td>NaN</td>\n",
       "      <td>NaN</td>\n",
       "      <td>NaN</td>\n",
       "      <td>NaN</td>\n",
       "      <td>NaN</td>\n",
       "      <td>NaN</td>\n",
       "      <td>NaN</td>\n",
       "    </tr>\n",
       "  </tbody>\n",
       "</table>\n",
       "</div>"
      ],
      "text/plain": [
       "   key     Wire 1   Wire 2  Wire 3  Wire 4  Wire 5  Wire 6  Wire 7  Wire 8  \\\n",
       "0    1  60.059998      NaN     NaN     NaN     NaN     NaN     NaN     NaN   \n",
       "1    2  96.052315      NaN     NaN     NaN     NaN     NaN     NaN     NaN   \n",
       "2    3  91.160157      NaN     NaN     NaN     NaN     NaN     NaN     NaN   \n",
       "3    4  89.063515      NaN     NaN     NaN     NaN     NaN     NaN     NaN   \n",
       "4    5  89.238236  9.11456     NaN     NaN     NaN     NaN     NaN     NaN   \n",
       "\n",
       "   Wire 9  \n",
       "0     NaN  \n",
       "1     NaN  \n",
       "2     NaN  \n",
       "3     NaN  \n",
       "4     NaN  "
      ]
     },
     "metadata": {},
     "output_type": "display_data"
    }
   ],
   "source": [
    "display(data_wire_new.head())"
   ]
  },
  {
   "cell_type": "code",
   "execution_count": 22,
   "metadata": {},
   "outputs": [
    {
     "name": "stdout",
     "output_type": "stream",
     "text": [
      "<class 'pandas.core.frame.DataFrame'>\n",
      "RangeIndex: 3081 entries, 0 to 3080\n",
      "Data columns (total 10 columns):\n",
      " #   Column  Non-Null Count  Dtype \n",
      "---  ------  --------------  ----- \n",
      " 0   key     3081 non-null   int64 \n",
      " 1   Wire 1  3055 non-null   object\n",
      " 2   Wire 2  1079 non-null   object\n",
      " 3   Wire 3  63 non-null     object\n",
      " 4   Wire 4  14 non-null     object\n",
      " 5   Wire 5  1 non-null      object\n",
      " 6   Wire 6  73 non-null     object\n",
      " 7   Wire 7  11 non-null     object\n",
      " 8   Wire 8  19 non-null     object\n",
      " 9   Wire 9  29 non-null     object\n",
      "dtypes: int64(1), object(9)\n",
      "memory usage: 240.8+ KB\n"
     ]
    }
   ],
   "source": [
    "data_wire_time_new.info()"
   ]
  },
  {
   "cell_type": "code",
   "execution_count": 23,
   "metadata": {},
   "outputs": [
    {
     "data": {
      "text/html": [
       "<div>\n",
       "<style scoped>\n",
       "    .dataframe tbody tr th:only-of-type {\n",
       "        vertical-align: middle;\n",
       "    }\n",
       "\n",
       "    .dataframe tbody tr th {\n",
       "        vertical-align: top;\n",
       "    }\n",
       "\n",
       "    .dataframe thead th {\n",
       "        text-align: right;\n",
       "    }\n",
       "</style>\n",
       "<table border=\"1\" class=\"dataframe\">\n",
       "  <thead>\n",
       "    <tr style=\"text-align: right;\">\n",
       "      <th></th>\n",
       "      <th>key</th>\n",
       "    </tr>\n",
       "  </thead>\n",
       "  <tbody>\n",
       "    <tr>\n",
       "      <th>count</th>\n",
       "      <td>3081.000000</td>\n",
       "    </tr>\n",
       "    <tr>\n",
       "      <th>mean</th>\n",
       "      <td>1623.426485</td>\n",
       "    </tr>\n",
       "    <tr>\n",
       "      <th>std</th>\n",
       "      <td>932.996726</td>\n",
       "    </tr>\n",
       "    <tr>\n",
       "      <th>min</th>\n",
       "      <td>1.000000</td>\n",
       "    </tr>\n",
       "    <tr>\n",
       "      <th>25%</th>\n",
       "      <td>823.000000</td>\n",
       "    </tr>\n",
       "    <tr>\n",
       "      <th>50%</th>\n",
       "      <td>1619.000000</td>\n",
       "    </tr>\n",
       "    <tr>\n",
       "      <th>75%</th>\n",
       "      <td>2434.000000</td>\n",
       "    </tr>\n",
       "    <tr>\n",
       "      <th>max</th>\n",
       "      <td>3241.000000</td>\n",
       "    </tr>\n",
       "  </tbody>\n",
       "</table>\n",
       "</div>"
      ],
      "text/plain": [
       "               key\n",
       "count  3081.000000\n",
       "mean   1623.426485\n",
       "std     932.996726\n",
       "min       1.000000\n",
       "25%     823.000000\n",
       "50%    1619.000000\n",
       "75%    2434.000000\n",
       "max    3241.000000"
      ]
     },
     "execution_count": 23,
     "metadata": {},
     "output_type": "execute_result"
    }
   ],
   "source": [
    "data_wire_time_new.describe()"
   ]
  },
  {
   "cell_type": "code",
   "execution_count": 24,
   "metadata": {},
   "outputs": [
    {
     "data": {
      "text/html": [
       "<div>\n",
       "<style scoped>\n",
       "    .dataframe tbody tr th:only-of-type {\n",
       "        vertical-align: middle;\n",
       "    }\n",
       "\n",
       "    .dataframe tbody tr th {\n",
       "        vertical-align: top;\n",
       "    }\n",
       "\n",
       "    .dataframe thead th {\n",
       "        text-align: right;\n",
       "    }\n",
       "</style>\n",
       "<table border=\"1\" class=\"dataframe\">\n",
       "  <thead>\n",
       "    <tr style=\"text-align: right;\">\n",
       "      <th></th>\n",
       "      <th>key</th>\n",
       "      <th>Wire 1</th>\n",
       "      <th>Wire 2</th>\n",
       "      <th>Wire 3</th>\n",
       "      <th>Wire 4</th>\n",
       "      <th>Wire 5</th>\n",
       "      <th>Wire 6</th>\n",
       "      <th>Wire 7</th>\n",
       "      <th>Wire 8</th>\n",
       "      <th>Wire 9</th>\n",
       "    </tr>\n",
       "  </thead>\n",
       "  <tbody>\n",
       "    <tr>\n",
       "      <th>0</th>\n",
       "      <td>1</td>\n",
       "      <td>2019-05-03 11:06:19</td>\n",
       "      <td>NaN</td>\n",
       "      <td>NaN</td>\n",
       "      <td>NaN</td>\n",
       "      <td>NaN</td>\n",
       "      <td>NaN</td>\n",
       "      <td>NaN</td>\n",
       "      <td>NaN</td>\n",
       "      <td>NaN</td>\n",
       "    </tr>\n",
       "    <tr>\n",
       "      <th>1</th>\n",
       "      <td>2</td>\n",
       "      <td>2019-05-03 11:36:50</td>\n",
       "      <td>NaN</td>\n",
       "      <td>NaN</td>\n",
       "      <td>NaN</td>\n",
       "      <td>NaN</td>\n",
       "      <td>NaN</td>\n",
       "      <td>NaN</td>\n",
       "      <td>NaN</td>\n",
       "      <td>NaN</td>\n",
       "    </tr>\n",
       "    <tr>\n",
       "      <th>2</th>\n",
       "      <td>3</td>\n",
       "      <td>2019-05-03 12:11:46</td>\n",
       "      <td>NaN</td>\n",
       "      <td>NaN</td>\n",
       "      <td>NaN</td>\n",
       "      <td>NaN</td>\n",
       "      <td>NaN</td>\n",
       "      <td>NaN</td>\n",
       "      <td>NaN</td>\n",
       "      <td>NaN</td>\n",
       "    </tr>\n",
       "    <tr>\n",
       "      <th>3</th>\n",
       "      <td>4</td>\n",
       "      <td>2019-05-03 12:43:22</td>\n",
       "      <td>NaN</td>\n",
       "      <td>NaN</td>\n",
       "      <td>NaN</td>\n",
       "      <td>NaN</td>\n",
       "      <td>NaN</td>\n",
       "      <td>NaN</td>\n",
       "      <td>NaN</td>\n",
       "      <td>NaN</td>\n",
       "    </tr>\n",
       "    <tr>\n",
       "      <th>4</th>\n",
       "      <td>5</td>\n",
       "      <td>2019-05-03 13:20:44</td>\n",
       "      <td>2019-05-03 13:15:34</td>\n",
       "      <td>NaN</td>\n",
       "      <td>NaN</td>\n",
       "      <td>NaN</td>\n",
       "      <td>NaN</td>\n",
       "      <td>NaN</td>\n",
       "      <td>NaN</td>\n",
       "      <td>NaN</td>\n",
       "    </tr>\n",
       "  </tbody>\n",
       "</table>\n",
       "</div>"
      ],
      "text/plain": [
       "   key               Wire 1               Wire 2 Wire 3 Wire 4 Wire 5 Wire 6  \\\n",
       "0    1  2019-05-03 11:06:19                  NaN    NaN    NaN    NaN    NaN   \n",
       "1    2  2019-05-03 11:36:50                  NaN    NaN    NaN    NaN    NaN   \n",
       "2    3  2019-05-03 12:11:46                  NaN    NaN    NaN    NaN    NaN   \n",
       "3    4  2019-05-03 12:43:22                  NaN    NaN    NaN    NaN    NaN   \n",
       "4    5  2019-05-03 13:20:44  2019-05-03 13:15:34    NaN    NaN    NaN    NaN   \n",
       "\n",
       "  Wire 7 Wire 8 Wire 9  \n",
       "0    NaN    NaN    NaN  \n",
       "1    NaN    NaN    NaN  \n",
       "2    NaN    NaN    NaN  \n",
       "3    NaN    NaN    NaN  \n",
       "4    NaN    NaN    NaN  "
      ]
     },
     "metadata": {},
     "output_type": "display_data"
    }
   ],
   "source": [
    "display(data_wire_time_new.head())"
   ]
  },
  {
   "cell_type": "code",
   "execution_count": 25,
   "metadata": {},
   "outputs": [
    {
     "data": {
      "text/plain": [
       "Text(0, 0.5, 'кол-во партий')"
      ]
     },
     "execution_count": 25,
     "metadata": {},
     "output_type": "execute_result"
    },
    {
     "data": {
      "image/png": "[encoded data removed]",
      "text/plain": [
       "<Figure size 432x288 with 1 Axes>"
      ]
     },
     "metadata": {
      "needs_background": "light"
     },
     "output_type": "display_data"
    }
   ],
   "source": [
    "plt.hist(data_arc_new['key'].value_counts(), bins=20)\n",
    "plt.title('Распределение иттераций нагрева')\n",
    "plt.xlabel('кол-во иттераций')\n",
    "plt.ylabel('кол-во партий')"
   ]
  },
  {
   "cell_type": "code",
   "execution_count": 26,
   "metadata": {},
   "outputs": [
    {
     "data": {
      "text/plain": [
       "Text(0, 0.5, 'кол-во партий')"
      ]
     },
     "execution_count": 26,
     "metadata": {},
     "output_type": "execute_result"
    },
    {
     "data": {
      "image/png": "[encoded data removed]",
      "text/plain": [
       "<Figure size 432x288 with 1 Axes>"
      ]
     },
     "metadata": {
      "needs_background": "light"
     },
     "output_type": "display_data"
    }
   ],
   "source": [
    "plt.hist(data_temp_new['key'].value_counts(), bins=20)\n",
    "plt.title('Распределение иттераций замера температуры')\n",
    "plt.xlabel('кол-во измерений')\n",
    "plt.ylabel('кол-во партий')"
   ]
  },
  {
   "cell_type": "code",
   "execution_count": 27,
   "metadata": {},
   "outputs": [
    {
     "data": {
      "text/plain": [
       "Text(0.5, 0, 'температура')"
      ]
     },
     "execution_count": 27,
     "metadata": {},
     "output_type": "execute_result"
    },
    {
     "data": {
      "image/png": "[encoded data removed]",
      "text/plain": [
       "<Figure size 432x288 with 1 Axes>"
      ]
     },
     "metadata": {
      "needs_background": "light"
     },
     "output_type": "display_data"
    }
   ],
   "source": [
    "data_temp_new['Температура'].hist(bins=20)\n",
    "plt.title('Распределение температуры')\n",
    "plt.xlabel('температура')"
   ]
  },
  {
   "cell_type": "code",
   "execution_count": 28,
   "metadata": {},
   "outputs": [
    {
     "data": {
      "image/png": "[encoded data removed]",
      "text/plain": [
       "<Figure size 432x288 with 1 Axes>"
      ]
     },
     "metadata": {
      "needs_background": "light"
     },
     "output_type": "display_data"
    },
    {
     "data": {
      "image/png": "[encoded data removed]",
      "text/plain": [
       "<Figure size 432x288 with 1 Axes>"
      ]
     },
     "metadata": {
      "needs_background": "light"
     },
     "output_type": "display_data"
    },
    {
     "data": {
      "image/png": "[encoded data removed]",
      "text/plain": [
       "<Figure size 432x288 with 1 Axes>"
      ]
     },
     "metadata": {
      "needs_background": "light"
     },
     "output_type": "display_data"
    },
    {
     "data": {
      "image/png": "[encoded data removed]",
      "text/plain": [
       "<Figure size 432x288 with 1 Axes>"
      ]
     },
     "metadata": {
      "needs_background": "light"
     },
     "output_type": "display_data"
    },
    {
     "data": {
      "image/png": "[encoded data removed]",
      "text/plain": [
       "<Figure size 432x288 with 1 Axes>"
      ]
     },
     "metadata": {
      "needs_background": "light"
     },
     "output_type": "display_data"
    },
    {
     "data": {
      "image/png": "[encoded data removed]",
      "text/plain": [
       "<Figure size 432x288 with 1 Axes>"
      ]
     },
     "metadata": {
      "needs_background": "light"
     },
     "output_type": "display_data"
    },
    {
     "data": {
      "image/png": "[encoded data removed]",
      "text/plain": [
       "<Figure size 432x288 with 1 Axes>"
      ]
     },
     "metadata": {
      "needs_background": "light"
     },
     "output_type": "display_data"
    },
    {
     "data": {
      "image/png": "[encoded data removed]",
      "text/plain": [
       "<Figure size 432x288 with 1 Axes>"
      ]
     },
     "metadata": {
      "needs_background": "light"
     },
     "output_type": "display_data"
    },
    {
     "data": {
      "image/png": "[encoded data removed]",
      "text/plain": [
       "<Figure size 432x288 with 1 Axes>"
      ]
     },
     "metadata": {
      "needs_background": "light"
     },
     "output_type": "display_data"
    },
    {
     "data": {
      "image/png": "[encoded data removed]",
      "text/plain": [
       "<Figure size 432x288 with 1 Axes>"
      ]
     },
     "metadata": {
      "needs_background": "light"
     },
     "output_type": "display_data"
    },
    {
     "data": {
      "image/png": "[encoded data removed]",
      "text/plain": [
       "<Figure size 432x288 with 1 Axes>"
      ]
     },
     "metadata": {
      "needs_background": "light"
     },
     "output_type": "display_data"
    },
    {
     "data": {
      "image/png": "[encoded data removed]",
      "text/plain": [
       "<Figure size 432x288 with 1 Axes>"
      ]
     },
     "metadata": {
      "needs_background": "light"
     },
     "output_type": "display_data"
    },
    {
     "data": {
      "image/png": "[encoded data removed]",
      "text/plain": [
       "<Figure size 432x288 with 1 Axes>"
      ]
     },
     "metadata": {
      "needs_background": "light"
     },
     "output_type": "display_data"
    },
    {
     "data": {
      "image/png": "[encoded data removed]",
      "text/plain": [
       "<Figure size 432x288 with 1 Axes>"
      ]
     },
     "metadata": {
      "needs_background": "light"
     },
     "output_type": "display_data"
    },
    {
     "data": {
      "image/png": "[encoded data removed]",
      "text/plain": [
       "<Figure size 432x288 with 1 Axes>"
      ]
     },
     "metadata": {
      "needs_background": "light"
     },
     "output_type": "display_data"
    }
   ],
   "source": [
    "for i in ['Bulk 1', 'Bulk 2', 'Bulk 3', 'Bulk 4', 'Bulk 5', 'Bulk 6',\n",
    "       'Bulk 7', 'Bulk 8', 'Bulk 9', 'Bulk 10', 'Bulk 11', 'Bulk 12',\n",
    "       'Bulk 13', 'Bulk 14', 'Bulk 15']:\n",
    "    plt.hist(data_bulk_new[f'{i}'])\n",
    "    plt.title(f'{i}')\n",
    "    plt.ylabel('Частота')\n",
    "    plt.show()"
   ]
  },
  {
   "cell_type": "code",
   "execution_count": 29,
   "metadata": {},
   "outputs": [
    {
     "data": {
      "image/png": "[encoded data removed]",
      "text/plain": [
       "<Figure size 432x288 with 1 Axes>"
      ]
     },
     "metadata": {
      "needs_background": "light"
     },
     "output_type": "display_data"
    },
    {
     "data": {
      "image/png": "[encoded data removed]",
      "text/plain": [
       "<Figure size 432x288 with 1 Axes>"
      ]
     },
     "metadata": {
      "needs_background": "light"
     },
     "output_type": "display_data"
    },
    {
     "data": {
      "image/png": "[encoded data removed]",
      "text/plain": [
       "<Figure size 432x288 with 1 Axes>"
      ]
     },
     "metadata": {
      "needs_background": "light"
     },
     "output_type": "display_data"
    },
    {
     "data": {
      "image/png": "[encoded data removed]",
      "text/plain": [
       "<Figure size 432x288 with 1 Axes>"
      ]
     },
     "metadata": {
      "needs_background": "light"
     },
     "output_type": "display_data"
    },
    {
     "data": {
      "image/png": "[encoded data removed]",
      "text/plain": [
       "<Figure size 432x288 with 1 Axes>"
      ]
     },
     "metadata": {
      "needs_background": "light"
     },
     "output_type": "display_data"
    },
    {
     "data": {
      "image/png": "[encoded data removed]",
      "text/plain": [
       "<Figure size 432x288 with 1 Axes>"
      ]
     },
     "metadata": {
      "needs_background": "light"
     },
     "output_type": "display_data"
    },
    {
     "data": {
      "image/png": "[encoded data removed]",
      "text/plain": [
       "<Figure size 432x288 with 1 Axes>"
      ]
     },
     "metadata": {
      "needs_background": "light"
     },
     "output_type": "display_data"
    },
    {
     "data": {
      "image/png": "[encoded data removed]",
      "text/plain": [
       "<Figure size 432x288 with 1 Axes>"
      ]
     },
     "metadata": {
      "needs_background": "light"
     },
     "output_type": "display_data"
    },
    {
     "data": {
      "image/png": "[encoded data removed]",
      "text/plain": [
       "<Figure size 432x288 with 1 Axes>"
      ]
     },
     "metadata": {
      "needs_background": "light"
     },
     "output_type": "display_data"
    }
   ],
   "source": [
    "for i in ['Wire 1', 'Wire 2', 'Wire 3', 'Wire 4', 'Wire 5', 'Wire 6',\n",
    "       'Wire 7', 'Wire 8', 'Wire 9']:\n",
    "    plt.hist(data_wire_new[f'{i}'])\n",
    "    plt.title(f'{i}')\n",
    "    plt.ylabel('Частота')\n",
    "    plt.show()"
   ]
  },
  {
   "cell_type": "markdown",
   "metadata": {},
   "source": [
    "**Общие выводы:**\n",
    "\n",
    "- Много пропусков в bulk и wire т.к. скорее всего не все материалы нужны для каждой партии по тех процессу. Далее пропуски заполним нулями.\n",
    "- В data_temp пропуски в столбце температура. Далее будет исключать партии где нет этих данных.\n",
    "- В data_arc_new в столбце реактивная мощность есть отрицательные значение. Далее с агрегируем реактивную и активную мощность в полную по формуле S = (Q**2 +S**2)**1/2.\n"
   ]
  },
  {
   "cell_type": "markdown",
   "metadata": {},
   "source": [
    "## План"
   ]
  },
  {
   "cell_type": "markdown",
   "metadata": {},
   "source": [
    "- Исходя из ответов на вопросы возниших на этапе описания данных сделаем предобработку данных(пропукски, отрицательные значения и т.д.)\n",
    "- Необходимо будет сделать общий датасет для обучения моделей и выделить целевой признак\n",
    "- Провести анализ на мультиколлинеарность перед моделированием\n",
    "- Провести моделирование используя LinearRegression, CatBoostRegressor, LGBMRegressor и по метрики MAE определить лучшую модель\n",
    "- Сделать окончательные выводы по результатам на тестовой выборке лучшей модели\n",
    "- Сделать анализ важности факторов у лучшей модели"
   ]
  },
  {
   "cell_type": "markdown",
   "metadata": {},
   "source": [
    "## Предобработка данных"
   ]
  },
  {
   "cell_type": "markdown",
   "metadata": {},
   "source": [
    "**Расчет полной мощности**"
   ]
  },
  {
   "cell_type": "code",
   "execution_count": 30,
   "metadata": {},
   "outputs": [],
   "source": [
    "def full_power(row):\n",
    "    return (row['Активная мощность']**2 + row['Реактивная мощность']**2)**0.5"
   ]
  },
  {
   "cell_type": "code",
   "execution_count": 31,
   "metadata": {},
   "outputs": [],
   "source": [
    "data_arc_new['Полная мощность'] = data_arc_new.apply(full_power, axis=1)"
   ]
  },
  {
   "cell_type": "markdown",
   "metadata": {},
   "source": [
    "**Исключаем Активную и Реактивную мощности**"
   ]
  },
  {
   "cell_type": "code",
   "execution_count": 32,
   "metadata": {},
   "outputs": [],
   "source": [
    "data_arc_new = data_arc_new.drop(['Активная мощность', 'Реактивная мощность'], axis=1)"
   ]
  },
  {
   "cell_type": "code",
   "execution_count": 33,
   "metadata": {},
   "outputs": [
    {
     "data": {
      "text/plain": [
       "Index(['key', 'Начало нагрева дугой', 'Конец нагрева дугой',\n",
       "       'Полная мощность'],\n",
       "      dtype='object')"
      ]
     },
     "execution_count": 33,
     "metadata": {},
     "output_type": "execute_result"
    }
   ],
   "source": [
    "data_arc_new.columns"
   ]
  },
  {
   "cell_type": "markdown",
   "metadata": {},
   "source": [
    "**Добавим общюю длительность нагрева в мин**"
   ]
  },
  {
   "cell_type": "code",
   "execution_count": 34,
   "metadata": {},
   "outputs": [],
   "source": [
    "data_arc_new['Начало нагрева дугой'] = pd.to_datetime(data_arc_new['Начало нагрева дугой'])\n",
    "data_arc_new['Конец нагрева дугой'] = pd.to_datetime(data_arc_new['Конец нагрева дугой'])"
   ]
  },
  {
   "cell_type": "code",
   "execution_count": 35,
   "metadata": {},
   "outputs": [],
   "source": [
    "data_arc_new['Продолжительность нагрева'] = data_arc_new['Конец нагрева дугой'] - data_arc_new['Начало нагрева дугой']\n",
    "data_arc_new['Продолжительность в минутах'] = data_arc_new['Продолжительность нагрева'] / np.timedelta64(1, \"m\")"
   ]
  },
  {
   "cell_type": "code",
   "execution_count": 36,
   "metadata": {},
   "outputs": [],
   "source": [
    "data_arc_new = data_arc_new.drop(['Начало нагрева дугой', 'Конец нагрева дугой', 'Продолжительность нагрева'], axis=1)"
   ]
  },
  {
   "cell_type": "code",
   "execution_count": 37,
   "metadata": {},
   "outputs": [
    {
     "data": {
      "text/html": [
       "<div>\n",
       "<style scoped>\n",
       "    .dataframe tbody tr th:only-of-type {\n",
       "        vertical-align: middle;\n",
       "    }\n",
       "\n",
       "    .dataframe tbody tr th {\n",
       "        vertical-align: top;\n",
       "    }\n",
       "\n",
       "    .dataframe thead th {\n",
       "        text-align: right;\n",
       "    }\n",
       "</style>\n",
       "<table border=\"1\" class=\"dataframe\">\n",
       "  <thead>\n",
       "    <tr style=\"text-align: right;\">\n",
       "      <th></th>\n",
       "      <th>key</th>\n",
       "      <th>Полная мощность</th>\n",
       "      <th>Продолжительность в минутах</th>\n",
       "    </tr>\n",
       "  </thead>\n",
       "  <tbody>\n",
       "    <tr>\n",
       "      <th>0</th>\n",
       "      <td>1</td>\n",
       "      <td>0.371123</td>\n",
       "      <td>3.800000</td>\n",
       "    </tr>\n",
       "    <tr>\n",
       "      <th>1</th>\n",
       "      <td>1</td>\n",
       "      <td>0.902319</td>\n",
       "      <td>3.083333</td>\n",
       "    </tr>\n",
       "    <tr>\n",
       "      <th>2</th>\n",
       "      <td>1</td>\n",
       "      <td>0.722536</td>\n",
       "      <td>2.866667</td>\n",
       "    </tr>\n",
       "    <tr>\n",
       "      <th>3</th>\n",
       "      <td>1</td>\n",
       "      <td>0.642824</td>\n",
       "      <td>6.083333</td>\n",
       "    </tr>\n",
       "    <tr>\n",
       "      <th>4</th>\n",
       "      <td>1</td>\n",
       "      <td>1.079934</td>\n",
       "      <td>2.466667</td>\n",
       "    </tr>\n",
       "  </tbody>\n",
       "</table>\n",
       "</div>"
      ],
      "text/plain": [
       "   key  Полная мощность  Продолжительность в минутах\n",
       "0    1         0.371123                     3.800000\n",
       "1    1         0.902319                     3.083333\n",
       "2    1         0.722536                     2.866667\n",
       "3    1         0.642824                     6.083333\n",
       "4    1         1.079934                     2.466667"
      ]
     },
     "execution_count": 37,
     "metadata": {},
     "output_type": "execute_result"
    }
   ],
   "source": [
    "data_arc_new.head()"
   ]
  },
  {
   "cell_type": "markdown",
   "metadata": {},
   "source": [
    "**Группируем по key и получаем суммарную полную мощность, суммарную продолжительность нагрева и кол-во иттераций нагрева**"
   ]
  },
  {
   "cell_type": "code",
   "execution_count": 38,
   "metadata": {},
   "outputs": [],
   "source": [
    "group_arc = data_arc_new.groupby('key').agg({'Полная мощность':'sum', \n",
    "                                            'Продолжительность в минутах':['sum', 'count']},\n",
    "                                                 ).reset_index()\n",
    "\n",
    "group_arc.set_axis(['key', 'Полная мощность', 'Суммарная продолжительность',\n",
    "                    'Иттерации нагрева'], axis='columns', inplace=True)"
   ]
  },
  {
   "cell_type": "code",
   "execution_count": 39,
   "metadata": {},
   "outputs": [
    {
     "data": {
      "text/html": [
       "<div>\n",
       "<style scoped>\n",
       "    .dataframe tbody tr th:only-of-type {\n",
       "        vertical-align: middle;\n",
       "    }\n",
       "\n",
       "    .dataframe tbody tr th {\n",
       "        vertical-align: top;\n",
       "    }\n",
       "\n",
       "    .dataframe thead th {\n",
       "        text-align: right;\n",
       "    }\n",
       "</style>\n",
       "<table border=\"1\" class=\"dataframe\">\n",
       "  <thead>\n",
       "    <tr style=\"text-align: right;\">\n",
       "      <th></th>\n",
       "      <th>key</th>\n",
       "      <th>Полная мощность</th>\n",
       "      <th>Суммарная продолжительность</th>\n",
       "      <th>Иттерации нагрева</th>\n",
       "    </tr>\n",
       "  </thead>\n",
       "  <tbody>\n",
       "    <tr>\n",
       "      <th>0</th>\n",
       "      <td>1</td>\n",
       "      <td>3.718736</td>\n",
       "      <td>18.300000</td>\n",
       "      <td>5</td>\n",
       "    </tr>\n",
       "    <tr>\n",
       "      <th>1</th>\n",
       "      <td>2</td>\n",
       "      <td>2.588349</td>\n",
       "      <td>13.516667</td>\n",
       "      <td>4</td>\n",
       "    </tr>\n",
       "    <tr>\n",
       "      <th>2</th>\n",
       "      <td>3</td>\n",
       "      <td>5.019223</td>\n",
       "      <td>10.916667</td>\n",
       "      <td>5</td>\n",
       "    </tr>\n",
       "    <tr>\n",
       "      <th>3</th>\n",
       "      <td>4</td>\n",
       "      <td>3.400038</td>\n",
       "      <td>12.350000</td>\n",
       "      <td>4</td>\n",
       "    </tr>\n",
       "    <tr>\n",
       "      <th>4</th>\n",
       "      <td>5</td>\n",
       "      <td>2.816980</td>\n",
       "      <td>14.483333</td>\n",
       "      <td>4</td>\n",
       "    </tr>\n",
       "  </tbody>\n",
       "</table>\n",
       "</div>"
      ],
      "text/plain": [
       "   key  Полная мощность  Суммарная продолжительность  Иттерации нагрева\n",
       "0    1         3.718736                    18.300000                  5\n",
       "1    2         2.588349                    13.516667                  4\n",
       "2    3         5.019223                    10.916667                  5\n",
       "3    4         3.400038                    12.350000                  4\n",
       "4    5         2.816980                    14.483333                  4"
      ]
     },
     "execution_count": 39,
     "metadata": {},
     "output_type": "execute_result"
    }
   ],
   "source": [
    "group_arc.head()"
   ]
  },
  {
   "cell_type": "markdown",
   "metadata": {},
   "source": [
    "**Выделяем первоначальную температуру как признак и конечную, как целевой признак**"
   ]
  },
  {
   "cell_type": "code",
   "execution_count": 40,
   "metadata": {},
   "outputs": [
    {
     "data": {
      "text/plain": [
       "key\n",
       "195     1\n",
       "279     1\n",
       "2500    1\n",
       "2501    1\n",
       "2502    1\n",
       "       ..\n",
       "3237    1\n",
       "3238    1\n",
       "3239    1\n",
       "3240    1\n",
       "3241    1\n",
       "Name: Температура, Length: 741, dtype: int64"
      ]
     },
     "execution_count": 40,
     "metadata": {},
     "output_type": "execute_result"
    }
   ],
   "source": [
    "group_temp = data_temp_new.groupby('key').count()\n",
    "group_temp['Температура'][group_temp['Температура'] < 2]"
   ]
  },
  {
   "cell_type": "code",
   "execution_count": 41,
   "metadata": {},
   "outputs": [
    {
     "data": {
      "text/plain": [
       "Index(['key', 'Время замера', 'Температура'], dtype='object')"
      ]
     },
     "execution_count": 41,
     "metadata": {},
     "output_type": "execute_result"
    }
   ],
   "source": [
    "data_temp_new.columns"
   ]
  },
  {
   "cell_type": "markdown",
   "metadata": {},
   "source": [
    "**Удалим партии где только один замер температуры**"
   ]
  },
  {
   "cell_type": "code",
   "execution_count": 42,
   "metadata": {},
   "outputs": [],
   "source": [
    "keys_one_temp = list(group_temp['Температура'][group_temp['Температура'] < 2].index)\n",
    "data_temp_new = data_temp_new.query('key not in @keys_one_temp')"
   ]
  },
  {
   "cell_type": "markdown",
   "metadata": {},
   "source": [
    "**Для каждой партии найдем начало и конец замера температуры**"
   ]
  },
  {
   "cell_type": "code",
   "execution_count": 43,
   "metadata": {},
   "outputs": [],
   "source": [
    "data_temp_new['Время замера'] = pd.to_datetime(data_temp_new['Время замера'])\n",
    "\n",
    "first_temp = data_temp_new.groupby('key').agg({'Время замера':'min'})\n",
    "target_key = data_temp_new.groupby('key').agg({'Время замера':'max'})"
   ]
  },
  {
   "cell_type": "markdown",
   "metadata": {},
   "source": [
    "**Получаем целевой признак(конечная температура)**"
   ]
  },
  {
   "cell_type": "code",
   "execution_count": 44,
   "metadata": {},
   "outputs": [
    {
     "data": {
      "text/plain": [
       "(2475, 3)"
      ]
     },
     "execution_count": 44,
     "metadata": {},
     "output_type": "execute_result"
    }
   ],
   "source": [
    "target = data_temp_new.merge(target_key, on='Время замера')\n",
    "target.shape"
   ]
  },
  {
   "cell_type": "markdown",
   "metadata": {},
   "source": [
    "**Получаем начальную температуру**"
   ]
  },
  {
   "cell_type": "code",
   "execution_count": 45,
   "metadata": {},
   "outputs": [
    {
     "data": {
      "text/plain": [
       "(2475, 3)"
      ]
     },
     "execution_count": 45,
     "metadata": {},
     "output_type": "execute_result"
    }
   ],
   "source": [
    "data_temp_new = data_temp_new.merge(first_temp, on='Время замера')\n",
    "data_temp_new.shape"
   ]
  },
  {
   "cell_type": "code",
   "execution_count": 46,
   "metadata": {},
   "outputs": [],
   "source": [
    "data_temp_new = data_temp_new.rename(columns={'Температура':'Начальная температура'})"
   ]
  },
  {
   "cell_type": "code",
   "execution_count": 47,
   "metadata": {},
   "outputs": [
    {
     "data": {
      "text/html": [
       "<div>\n",
       "<style scoped>\n",
       "    .dataframe tbody tr th:only-of-type {\n",
       "        vertical-align: middle;\n",
       "    }\n",
       "\n",
       "    .dataframe tbody tr th {\n",
       "        vertical-align: top;\n",
       "    }\n",
       "\n",
       "    .dataframe thead th {\n",
       "        text-align: right;\n",
       "    }\n",
       "</style>\n",
       "<table border=\"1\" class=\"dataframe\">\n",
       "  <thead>\n",
       "    <tr style=\"text-align: right;\">\n",
       "      <th></th>\n",
       "      <th>key</th>\n",
       "      <th>Время замера</th>\n",
       "      <th>Начальная температура</th>\n",
       "    </tr>\n",
       "  </thead>\n",
       "  <tbody>\n",
       "    <tr>\n",
       "      <th>0</th>\n",
       "      <td>1</td>\n",
       "      <td>2019-05-03 11:02:04</td>\n",
       "      <td>1571.0</td>\n",
       "    </tr>\n",
       "    <tr>\n",
       "      <th>1</th>\n",
       "      <td>2</td>\n",
       "      <td>2019-05-03 11:34:04</td>\n",
       "      <td>1581.0</td>\n",
       "    </tr>\n",
       "    <tr>\n",
       "      <th>2</th>\n",
       "      <td>3</td>\n",
       "      <td>2019-05-03 12:06:44</td>\n",
       "      <td>1596.0</td>\n",
       "    </tr>\n",
       "    <tr>\n",
       "      <th>3</th>\n",
       "      <td>4</td>\n",
       "      <td>2019-05-03 12:39:27</td>\n",
       "      <td>1601.0</td>\n",
       "    </tr>\n",
       "    <tr>\n",
       "      <th>4</th>\n",
       "      <td>5</td>\n",
       "      <td>2019-05-03 13:11:03</td>\n",
       "      <td>1576.0</td>\n",
       "    </tr>\n",
       "    <tr>\n",
       "      <th>...</th>\n",
       "      <td>...</td>\n",
       "      <td>...</td>\n",
       "      <td>...</td>\n",
       "    </tr>\n",
       "    <tr>\n",
       "      <th>2470</th>\n",
       "      <td>2495</td>\n",
       "      <td>2019-08-10 11:27:47</td>\n",
       "      <td>1570.0</td>\n",
       "    </tr>\n",
       "    <tr>\n",
       "      <th>2471</th>\n",
       "      <td>2496</td>\n",
       "      <td>2019-08-10 11:56:48</td>\n",
       "      <td>1554.0</td>\n",
       "    </tr>\n",
       "    <tr>\n",
       "      <th>2472</th>\n",
       "      <td>2497</td>\n",
       "      <td>2019-08-10 12:37:26</td>\n",
       "      <td>1571.0</td>\n",
       "    </tr>\n",
       "    <tr>\n",
       "      <th>2473</th>\n",
       "      <td>2498</td>\n",
       "      <td>2019-08-10 12:58:11</td>\n",
       "      <td>1591.0</td>\n",
       "    </tr>\n",
       "    <tr>\n",
       "      <th>2474</th>\n",
       "      <td>2499</td>\n",
       "      <td>2019-08-10 13:33:21</td>\n",
       "      <td>1569.0</td>\n",
       "    </tr>\n",
       "  </tbody>\n",
       "</table>\n",
       "<p>2475 rows × 3 columns</p>\n",
       "</div>"
      ],
      "text/plain": [
       "       key        Время замера  Начальная температура\n",
       "0        1 2019-05-03 11:02:04                 1571.0\n",
       "1        2 2019-05-03 11:34:04                 1581.0\n",
       "2        3 2019-05-03 12:06:44                 1596.0\n",
       "3        4 2019-05-03 12:39:27                 1601.0\n",
       "4        5 2019-05-03 13:11:03                 1576.0\n",
       "...    ...                 ...                    ...\n",
       "2470  2495 2019-08-10 11:27:47                 1570.0\n",
       "2471  2496 2019-08-10 11:56:48                 1554.0\n",
       "2472  2497 2019-08-10 12:37:26                 1571.0\n",
       "2473  2498 2019-08-10 12:58:11                 1591.0\n",
       "2474  2499 2019-08-10 13:33:21                 1569.0\n",
       "\n",
       "[2475 rows x 3 columns]"
      ]
     },
     "execution_count": 47,
     "metadata": {},
     "output_type": "execute_result"
    }
   ],
   "source": [
    "data_temp_new"
   ]
  },
  {
   "cell_type": "markdown",
   "metadata": {},
   "source": [
    "### Формируем общую таблицу"
   ]
  },
  {
   "cell_type": "markdown",
   "metadata": {},
   "source": [
    "- объединяем все таблицы по key\n",
    "- проверим итоговую таблицу"
   ]
  },
  {
   "cell_type": "code",
   "execution_count": 48,
   "metadata": {},
   "outputs": [
    {
     "data": {
      "text/plain": [
       "(2329, 31)"
      ]
     },
     "execution_count": 48,
     "metadata": {},
     "output_type": "execute_result"
    }
   ],
   "source": [
    "features = data_temp_new \\\n",
    "               .merge(group_arc, on='key', how='inner') \\\n",
    "               .merge(data_gas_new, on='key', how='inner') \\\n",
    "               .merge(data_bulk_new, on='key', how='inner') \\\n",
    "               .merge(data_wire_new, on='key', how='inner')\n",
    "\n",
    "features.shape"
   ]
  },
  {
   "cell_type": "code",
   "execution_count": 49,
   "metadata": {},
   "outputs": [
    {
     "data": {
      "text/html": [
       "<div>\n",
       "<style scoped>\n",
       "    .dataframe tbody tr th:only-of-type {\n",
       "        vertical-align: middle;\n",
       "    }\n",
       "\n",
       "    .dataframe tbody tr th {\n",
       "        vertical-align: top;\n",
       "    }\n",
       "\n",
       "    .dataframe thead th {\n",
       "        text-align: right;\n",
       "    }\n",
       "</style>\n",
       "<table border=\"1\" class=\"dataframe\">\n",
       "  <thead>\n",
       "    <tr style=\"text-align: right;\">\n",
       "      <th></th>\n",
       "      <th>key</th>\n",
       "      <th>Время замера</th>\n",
       "      <th>Начальная температура</th>\n",
       "      <th>Полная мощность</th>\n",
       "      <th>Суммарная продолжительность</th>\n",
       "      <th>Иттерации нагрева</th>\n",
       "      <th>Газ 1</th>\n",
       "      <th>Bulk 1</th>\n",
       "      <th>Bulk 2</th>\n",
       "      <th>Bulk 3</th>\n",
       "      <th>...</th>\n",
       "      <th>Bulk 15</th>\n",
       "      <th>Wire 1</th>\n",
       "      <th>Wire 2</th>\n",
       "      <th>Wire 3</th>\n",
       "      <th>Wire 4</th>\n",
       "      <th>Wire 5</th>\n",
       "      <th>Wire 6</th>\n",
       "      <th>Wire 7</th>\n",
       "      <th>Wire 8</th>\n",
       "      <th>Wire 9</th>\n",
       "    </tr>\n",
       "  </thead>\n",
       "  <tbody>\n",
       "    <tr>\n",
       "      <th>0</th>\n",
       "      <td>1</td>\n",
       "      <td>2019-05-03 11:02:04</td>\n",
       "      <td>1571.0</td>\n",
       "      <td>3.718736</td>\n",
       "      <td>18.300000</td>\n",
       "      <td>5</td>\n",
       "      <td>29.749986</td>\n",
       "      <td>NaN</td>\n",
       "      <td>NaN</td>\n",
       "      <td>NaN</td>\n",
       "      <td>...</td>\n",
       "      <td>154.0</td>\n",
       "      <td>60.059998</td>\n",
       "      <td>NaN</td>\n",
       "      <td>NaN</td>\n",
       "      <td>NaN</td>\n",
       "      <td>NaN</td>\n",
       "      <td>NaN</td>\n",
       "      <td>NaN</td>\n",
       "      <td>NaN</td>\n",
       "      <td>NaN</td>\n",
       "    </tr>\n",
       "    <tr>\n",
       "      <th>1</th>\n",
       "      <td>2</td>\n",
       "      <td>2019-05-03 11:34:04</td>\n",
       "      <td>1581.0</td>\n",
       "      <td>2.588349</td>\n",
       "      <td>13.516667</td>\n",
       "      <td>4</td>\n",
       "      <td>12.555561</td>\n",
       "      <td>NaN</td>\n",
       "      <td>NaN</td>\n",
       "      <td>NaN</td>\n",
       "      <td>...</td>\n",
       "      <td>154.0</td>\n",
       "      <td>96.052315</td>\n",
       "      <td>NaN</td>\n",
       "      <td>NaN</td>\n",
       "      <td>NaN</td>\n",
       "      <td>NaN</td>\n",
       "      <td>NaN</td>\n",
       "      <td>NaN</td>\n",
       "      <td>NaN</td>\n",
       "      <td>NaN</td>\n",
       "    </tr>\n",
       "  </tbody>\n",
       "</table>\n",
       "<p>2 rows × 31 columns</p>\n",
       "</div>"
      ],
      "text/plain": [
       "   key        Время замера  Начальная температура  Полная мощность  \\\n",
       "0    1 2019-05-03 11:02:04                 1571.0         3.718736   \n",
       "1    2 2019-05-03 11:34:04                 1581.0         2.588349   \n",
       "\n",
       "   Суммарная продолжительность  Иттерации нагрева      Газ 1  Bulk 1  Bulk 2  \\\n",
       "0                    18.300000                  5  29.749986     NaN     NaN   \n",
       "1                    13.516667                  4  12.555561     NaN     NaN   \n",
       "\n",
       "   Bulk 3  ...  Bulk 15     Wire 1  Wire 2  Wire 3  Wire 4  Wire 5  Wire 6  \\\n",
       "0     NaN  ...    154.0  60.059998     NaN     NaN     NaN     NaN     NaN   \n",
       "1     NaN  ...    154.0  96.052315     NaN     NaN     NaN     NaN     NaN   \n",
       "\n",
       "   Wire 7  Wire 8  Wire 9  \n",
       "0     NaN     NaN     NaN  \n",
       "1     NaN     NaN     NaN  \n",
       "\n",
       "[2 rows x 31 columns]"
      ]
     },
     "execution_count": 49,
     "metadata": {},
     "output_type": "execute_result"
    }
   ],
   "source": [
    "features.head(2)"
   ]
  },
  {
   "cell_type": "code",
   "execution_count": 50,
   "metadata": {},
   "outputs": [
    {
     "name": "stdout",
     "output_type": "stream",
     "text": [
      "<class 'pandas.core.frame.DataFrame'>\n",
      "Int64Index: 2329 entries, 0 to 2328\n",
      "Data columns (total 31 columns):\n",
      " #   Column                       Non-Null Count  Dtype         \n",
      "---  ------                       --------------  -----         \n",
      " 0   key                          2329 non-null   int64         \n",
      " 1   Время замера                 2329 non-null   datetime64[ns]\n",
      " 2   Начальная температура        2329 non-null   float64       \n",
      " 3   Полная мощность              2329 non-null   float64       \n",
      " 4   Суммарная продолжительность  2329 non-null   float64       \n",
      " 5   Иттерации нагрева            2329 non-null   int64         \n",
      " 6   Газ 1                        2329 non-null   float64       \n",
      " 7   Bulk 1                       199 non-null    float64       \n",
      " 8   Bulk 2                       13 non-null     float64       \n",
      " 9   Bulk 3                       960 non-null    float64       \n",
      " 10  Bulk 4                       812 non-null    float64       \n",
      " 11  Bulk 5                       53 non-null     float64       \n",
      " 12  Bulk 6                       438 non-null    float64       \n",
      " 13  Bulk 7                       13 non-null     float64       \n",
      " 14  Bulk 8                       1 non-null      float64       \n",
      " 15  Bulk 9                       13 non-null     float64       \n",
      " 16  Bulk 10                      143 non-null    float64       \n",
      " 17  Bulk 11                      130 non-null    float64       \n",
      " 18  Bulk 12                      1812 non-null   float64       \n",
      " 19  Bulk 13                      14 non-null     float64       \n",
      " 20  Bulk 14                      2068 non-null   float64       \n",
      " 21  Bulk 15                      1699 non-null   float64       \n",
      " 22  Wire 1                       2306 non-null   float64       \n",
      " 23  Wire 2                       811 non-null    float64       \n",
      " 24  Wire 3                       39 non-null     float64       \n",
      " 25  Wire 4                       12 non-null     float64       \n",
      " 26  Wire 5                       0 non-null      float64       \n",
      " 27  Wire 6                       45 non-null     float64       \n",
      " 28  Wire 7                       4 non-null      float64       \n",
      " 29  Wire 8                       13 non-null     float64       \n",
      " 30  Wire 9                       24 non-null     float64       \n",
      "dtypes: datetime64[ns](1), float64(28), int64(2)\n",
      "memory usage: 582.2 KB\n"
     ]
    }
   ],
   "source": [
    "features.info()"
   ]
  },
  {
   "cell_type": "markdown",
   "metadata": {},
   "source": [
    "**Удаляем столбцы где нет данных или слишком мало данных (менее 20) и столбец Время замера**"
   ]
  },
  {
   "cell_type": "code",
   "execution_count": 51,
   "metadata": {},
   "outputs": [],
   "source": [
    "features = features.drop(['Bulk 2', 'Bulk 7', 'Bulk 8', 'Bulk 9', 'Bulk 13', \n",
    "                          'Wire 4', 'Wire 5', 'Wire 7', 'Wire 8', 'Время замера'], axis=1)"
   ]
  },
  {
   "cell_type": "markdown",
   "metadata": {},
   "source": [
    "**Пропуски в присадках заполняем нулями**"
   ]
  },
  {
   "cell_type": "code",
   "execution_count": 52,
   "metadata": {},
   "outputs": [
    {
     "data": {
      "text/html": [
       "<div>\n",
       "<style scoped>\n",
       "    .dataframe tbody tr th:only-of-type {\n",
       "        vertical-align: middle;\n",
       "    }\n",
       "\n",
       "    .dataframe tbody tr th {\n",
       "        vertical-align: top;\n",
       "    }\n",
       "\n",
       "    .dataframe thead th {\n",
       "        text-align: right;\n",
       "    }\n",
       "</style>\n",
       "<table border=\"1\" class=\"dataframe\">\n",
       "  <thead>\n",
       "    <tr style=\"text-align: right;\">\n",
       "      <th></th>\n",
       "      <th>key</th>\n",
       "      <th>Начальная температура</th>\n",
       "      <th>Полная мощность</th>\n",
       "      <th>Суммарная продолжительность</th>\n",
       "      <th>Иттерации нагрева</th>\n",
       "      <th>Газ 1</th>\n",
       "      <th>Bulk 1</th>\n",
       "      <th>Bulk 3</th>\n",
       "      <th>Bulk 4</th>\n",
       "      <th>Bulk 5</th>\n",
       "      <th>...</th>\n",
       "      <th>Bulk 10</th>\n",
       "      <th>Bulk 11</th>\n",
       "      <th>Bulk 12</th>\n",
       "      <th>Bulk 14</th>\n",
       "      <th>Bulk 15</th>\n",
       "      <th>Wire 1</th>\n",
       "      <th>Wire 2</th>\n",
       "      <th>Wire 3</th>\n",
       "      <th>Wire 6</th>\n",
       "      <th>Wire 9</th>\n",
       "    </tr>\n",
       "  </thead>\n",
       "  <tbody>\n",
       "    <tr>\n",
       "      <th>0</th>\n",
       "      <td>1</td>\n",
       "      <td>1571.0</td>\n",
       "      <td>3.718736</td>\n",
       "      <td>18.300000</td>\n",
       "      <td>5</td>\n",
       "      <td>29.749986</td>\n",
       "      <td>0.0</td>\n",
       "      <td>0.0</td>\n",
       "      <td>43.0</td>\n",
       "      <td>0.0</td>\n",
       "      <td>...</td>\n",
       "      <td>0.0</td>\n",
       "      <td>0.0</td>\n",
       "      <td>206.0</td>\n",
       "      <td>150.0</td>\n",
       "      <td>154.0</td>\n",
       "      <td>60.059998</td>\n",
       "      <td>0.0</td>\n",
       "      <td>0.0</td>\n",
       "      <td>0.0</td>\n",
       "      <td>0.0</td>\n",
       "    </tr>\n",
       "    <tr>\n",
       "      <th>1</th>\n",
       "      <td>2</td>\n",
       "      <td>1581.0</td>\n",
       "      <td>2.588349</td>\n",
       "      <td>13.516667</td>\n",
       "      <td>4</td>\n",
       "      <td>12.555561</td>\n",
       "      <td>0.0</td>\n",
       "      <td>0.0</td>\n",
       "      <td>73.0</td>\n",
       "      <td>0.0</td>\n",
       "      <td>...</td>\n",
       "      <td>0.0</td>\n",
       "      <td>0.0</td>\n",
       "      <td>206.0</td>\n",
       "      <td>149.0</td>\n",
       "      <td>154.0</td>\n",
       "      <td>96.052315</td>\n",
       "      <td>0.0</td>\n",
       "      <td>0.0</td>\n",
       "      <td>0.0</td>\n",
       "      <td>0.0</td>\n",
       "    </tr>\n",
       "  </tbody>\n",
       "</table>\n",
       "<p>2 rows × 21 columns</p>\n",
       "</div>"
      ],
      "text/plain": [
       "   key  Начальная температура  Полная мощность  Суммарная продолжительность  \\\n",
       "0    1                 1571.0         3.718736                    18.300000   \n",
       "1    2                 1581.0         2.588349                    13.516667   \n",
       "\n",
       "   Иттерации нагрева      Газ 1  Bulk 1  Bulk 3  Bulk 4  Bulk 5  ...  Bulk 10  \\\n",
       "0                  5  29.749986     0.0     0.0    43.0     0.0  ...      0.0   \n",
       "1                  4  12.555561     0.0     0.0    73.0     0.0  ...      0.0   \n",
       "\n",
       "   Bulk 11  Bulk 12  Bulk 14  Bulk 15     Wire 1  Wire 2  Wire 3  Wire 6  \\\n",
       "0      0.0    206.0    150.0    154.0  60.059998     0.0     0.0     0.0   \n",
       "1      0.0    206.0    149.0    154.0  96.052315     0.0     0.0     0.0   \n",
       "\n",
       "   Wire 9  \n",
       "0     0.0  \n",
       "1     0.0  \n",
       "\n",
       "[2 rows x 21 columns]"
      ]
     },
     "execution_count": 52,
     "metadata": {},
     "output_type": "execute_result"
    }
   ],
   "source": [
    "features = features.fillna(0)\n",
    "features.head(2)"
   ]
  },
  {
   "cell_type": "markdown",
   "metadata": {},
   "source": [
    "**Подтянем целевую под партии и удалим столбцы key  и  Время замера**"
   ]
  },
  {
   "cell_type": "code",
   "execution_count": 53,
   "metadata": {},
   "outputs": [],
   "source": [
    "keys = list(features['key'].unique())\n",
    "target = target.query('key in @keys').drop(['key', 'Время замера'], axis=1)"
   ]
  },
  {
   "cell_type": "markdown",
   "metadata": {},
   "source": [
    "**Сравним размеры таблицы с признаками и целевой**"
   ]
  },
  {
   "cell_type": "code",
   "execution_count": 54,
   "metadata": {},
   "outputs": [
    {
     "name": "stdout",
     "output_type": "stream",
     "text": [
      "размер датасета с признаками (2329, 21)\n",
      "размер таргета (2329, 1)\n"
     ]
    }
   ],
   "source": [
    "print('размер датасета с признаками', features.shape)\n",
    "print('размер таргета', target.shape)"
   ]
  },
  {
   "cell_type": "code",
   "execution_count": 55,
   "metadata": {},
   "outputs": [
    {
     "data": {
      "text/html": [
       "<div>\n",
       "<style scoped>\n",
       "    .dataframe tbody tr th:only-of-type {\n",
       "        vertical-align: middle;\n",
       "    }\n",
       "\n",
       "    .dataframe tbody tr th {\n",
       "        vertical-align: top;\n",
       "    }\n",
       "\n",
       "    .dataframe thead th {\n",
       "        text-align: right;\n",
       "    }\n",
       "</style>\n",
       "<table border=\"1\" class=\"dataframe\">\n",
       "  <thead>\n",
       "    <tr style=\"text-align: right;\">\n",
       "      <th></th>\n",
       "      <th>key</th>\n",
       "      <th>Начальная температура</th>\n",
       "      <th>Полная мощность</th>\n",
       "      <th>Суммарная продолжительность</th>\n",
       "      <th>Иттерации нагрева</th>\n",
       "      <th>Газ 1</th>\n",
       "      <th>Bulk 1</th>\n",
       "      <th>Bulk 3</th>\n",
       "      <th>Bulk 4</th>\n",
       "      <th>Bulk 5</th>\n",
       "      <th>...</th>\n",
       "      <th>Bulk 10</th>\n",
       "      <th>Bulk 11</th>\n",
       "      <th>Bulk 12</th>\n",
       "      <th>Bulk 14</th>\n",
       "      <th>Bulk 15</th>\n",
       "      <th>Wire 1</th>\n",
       "      <th>Wire 2</th>\n",
       "      <th>Wire 3</th>\n",
       "      <th>Wire 6</th>\n",
       "      <th>Wire 9</th>\n",
       "    </tr>\n",
       "  </thead>\n",
       "  <tbody>\n",
       "    <tr>\n",
       "      <th>0</th>\n",
       "      <td>1</td>\n",
       "      <td>1571.0</td>\n",
       "      <td>3.718736</td>\n",
       "      <td>18.300000</td>\n",
       "      <td>5</td>\n",
       "      <td>29.749986</td>\n",
       "      <td>0.0</td>\n",
       "      <td>0.0</td>\n",
       "      <td>43.0</td>\n",
       "      <td>0.0</td>\n",
       "      <td>...</td>\n",
       "      <td>0.0</td>\n",
       "      <td>0.0</td>\n",
       "      <td>206.0</td>\n",
       "      <td>150.0</td>\n",
       "      <td>154.0</td>\n",
       "      <td>60.059998</td>\n",
       "      <td>0.00000</td>\n",
       "      <td>0.0</td>\n",
       "      <td>0.0</td>\n",
       "      <td>0.0</td>\n",
       "    </tr>\n",
       "    <tr>\n",
       "      <th>1</th>\n",
       "      <td>2</td>\n",
       "      <td>1581.0</td>\n",
       "      <td>2.588349</td>\n",
       "      <td>13.516667</td>\n",
       "      <td>4</td>\n",
       "      <td>12.555561</td>\n",
       "      <td>0.0</td>\n",
       "      <td>0.0</td>\n",
       "      <td>73.0</td>\n",
       "      <td>0.0</td>\n",
       "      <td>...</td>\n",
       "      <td>0.0</td>\n",
       "      <td>0.0</td>\n",
       "      <td>206.0</td>\n",
       "      <td>149.0</td>\n",
       "      <td>154.0</td>\n",
       "      <td>96.052315</td>\n",
       "      <td>0.00000</td>\n",
       "      <td>0.0</td>\n",
       "      <td>0.0</td>\n",
       "      <td>0.0</td>\n",
       "    </tr>\n",
       "    <tr>\n",
       "      <th>2</th>\n",
       "      <td>3</td>\n",
       "      <td>1596.0</td>\n",
       "      <td>5.019223</td>\n",
       "      <td>10.916667</td>\n",
       "      <td>5</td>\n",
       "      <td>28.554793</td>\n",
       "      <td>0.0</td>\n",
       "      <td>0.0</td>\n",
       "      <td>34.0</td>\n",
       "      <td>0.0</td>\n",
       "      <td>...</td>\n",
       "      <td>0.0</td>\n",
       "      <td>0.0</td>\n",
       "      <td>205.0</td>\n",
       "      <td>152.0</td>\n",
       "      <td>153.0</td>\n",
       "      <td>91.160157</td>\n",
       "      <td>0.00000</td>\n",
       "      <td>0.0</td>\n",
       "      <td>0.0</td>\n",
       "      <td>0.0</td>\n",
       "    </tr>\n",
       "    <tr>\n",
       "      <th>3</th>\n",
       "      <td>4</td>\n",
       "      <td>1601.0</td>\n",
       "      <td>3.400038</td>\n",
       "      <td>12.350000</td>\n",
       "      <td>4</td>\n",
       "      <td>18.841219</td>\n",
       "      <td>0.0</td>\n",
       "      <td>0.0</td>\n",
       "      <td>81.0</td>\n",
       "      <td>0.0</td>\n",
       "      <td>...</td>\n",
       "      <td>0.0</td>\n",
       "      <td>0.0</td>\n",
       "      <td>207.0</td>\n",
       "      <td>153.0</td>\n",
       "      <td>154.0</td>\n",
       "      <td>89.063515</td>\n",
       "      <td>0.00000</td>\n",
       "      <td>0.0</td>\n",
       "      <td>0.0</td>\n",
       "      <td>0.0</td>\n",
       "    </tr>\n",
       "    <tr>\n",
       "      <th>4</th>\n",
       "      <td>5</td>\n",
       "      <td>1576.0</td>\n",
       "      <td>2.816980</td>\n",
       "      <td>14.483333</td>\n",
       "      <td>4</td>\n",
       "      <td>5.413692</td>\n",
       "      <td>0.0</td>\n",
       "      <td>0.0</td>\n",
       "      <td>78.0</td>\n",
       "      <td>0.0</td>\n",
       "      <td>...</td>\n",
       "      <td>0.0</td>\n",
       "      <td>0.0</td>\n",
       "      <td>203.0</td>\n",
       "      <td>151.0</td>\n",
       "      <td>152.0</td>\n",
       "      <td>89.238236</td>\n",
       "      <td>9.11456</td>\n",
       "      <td>0.0</td>\n",
       "      <td>0.0</td>\n",
       "      <td>0.0</td>\n",
       "    </tr>\n",
       "  </tbody>\n",
       "</table>\n",
       "<p>5 rows × 21 columns</p>\n",
       "</div>"
      ],
      "text/plain": [
       "   key  Начальная температура  Полная мощность  Суммарная продолжительность  \\\n",
       "0    1                 1571.0         3.718736                    18.300000   \n",
       "1    2                 1581.0         2.588349                    13.516667   \n",
       "2    3                 1596.0         5.019223                    10.916667   \n",
       "3    4                 1601.0         3.400038                    12.350000   \n",
       "4    5                 1576.0         2.816980                    14.483333   \n",
       "\n",
       "   Иттерации нагрева      Газ 1  Bulk 1  Bulk 3  Bulk 4  Bulk 5  ...  Bulk 10  \\\n",
       "0                  5  29.749986     0.0     0.0    43.0     0.0  ...      0.0   \n",
       "1                  4  12.555561     0.0     0.0    73.0     0.0  ...      0.0   \n",
       "2                  5  28.554793     0.0     0.0    34.0     0.0  ...      0.0   \n",
       "3                  4  18.841219     0.0     0.0    81.0     0.0  ...      0.0   \n",
       "4                  4   5.413692     0.0     0.0    78.0     0.0  ...      0.0   \n",
       "\n",
       "   Bulk 11  Bulk 12  Bulk 14  Bulk 15     Wire 1   Wire 2  Wire 3  Wire 6  \\\n",
       "0      0.0    206.0    150.0    154.0  60.059998  0.00000     0.0     0.0   \n",
       "1      0.0    206.0    149.0    154.0  96.052315  0.00000     0.0     0.0   \n",
       "2      0.0    205.0    152.0    153.0  91.160157  0.00000     0.0     0.0   \n",
       "3      0.0    207.0    153.0    154.0  89.063515  0.00000     0.0     0.0   \n",
       "4      0.0    203.0    151.0    152.0  89.238236  9.11456     0.0     0.0   \n",
       "\n",
       "   Wire 9  \n",
       "0     0.0  \n",
       "1     0.0  \n",
       "2     0.0  \n",
       "3     0.0  \n",
       "4     0.0  \n",
       "\n",
       "[5 rows x 21 columns]"
      ]
     },
     "execution_count": 55,
     "metadata": {},
     "output_type": "execute_result"
    }
   ],
   "source": [
    "features.head(5)"
   ]
  },
  {
   "cell_type": "markdown",
   "metadata": {},
   "source": [
    "### Анализируем на мультиколлинеарность"
   ]
  },
  {
   "cell_type": "code",
   "execution_count": 56,
   "metadata": {},
   "outputs": [
    {
     "data": {
      "text/html": [
       "<div>\n",
       "<style scoped>\n",
       "    .dataframe tbody tr th:only-of-type {\n",
       "        vertical-align: middle;\n",
       "    }\n",
       "\n",
       "    .dataframe tbody tr th {\n",
       "        vertical-align: top;\n",
       "    }\n",
       "\n",
       "    .dataframe thead th {\n",
       "        text-align: right;\n",
       "    }\n",
       "</style>\n",
       "<table border=\"1\" class=\"dataframe\">\n",
       "  <thead>\n",
       "    <tr style=\"text-align: right;\">\n",
       "      <th></th>\n",
       "      <th>key</th>\n",
       "      <th>Начальная температура</th>\n",
       "      <th>Полная мощность</th>\n",
       "      <th>Суммарная продолжительность</th>\n",
       "      <th>Иттерации нагрева</th>\n",
       "      <th>Газ 1</th>\n",
       "      <th>Bulk 1</th>\n",
       "      <th>Bulk 3</th>\n",
       "      <th>Bulk 4</th>\n",
       "      <th>Bulk 5</th>\n",
       "      <th>...</th>\n",
       "      <th>Bulk 10</th>\n",
       "      <th>Bulk 11</th>\n",
       "      <th>Bulk 12</th>\n",
       "      <th>Bulk 14</th>\n",
       "      <th>Bulk 15</th>\n",
       "      <th>Wire 1</th>\n",
       "      <th>Wire 2</th>\n",
       "      <th>Wire 3</th>\n",
       "      <th>Wire 6</th>\n",
       "      <th>Wire 9</th>\n",
       "    </tr>\n",
       "  </thead>\n",
       "  <tbody>\n",
       "    <tr>\n",
       "      <th>key</th>\n",
       "      <td>1.000000</td>\n",
       "      <td>-0.019186</td>\n",
       "      <td>0.022669</td>\n",
       "      <td>-0.029358</td>\n",
       "      <td>-0.033268</td>\n",
       "      <td>-0.043486</td>\n",
       "      <td>-0.078236</td>\n",
       "      <td>-0.007271</td>\n",
       "      <td>-0.026147</td>\n",
       "      <td>0.035212</td>\n",
       "      <td>...</td>\n",
       "      <td>0.062875</td>\n",
       "      <td>0.034924</td>\n",
       "      <td>0.025958</td>\n",
       "      <td>-0.110275</td>\n",
       "      <td>-0.045531</td>\n",
       "      <td>-0.013564</td>\n",
       "      <td>0.043149</td>\n",
       "      <td>-0.027270</td>\n",
       "      <td>-0.008236</td>\n",
       "      <td>0.021312</td>\n",
       "    </tr>\n",
       "    <tr>\n",
       "      <th>Начальная температура</th>\n",
       "      <td>-0.019186</td>\n",
       "      <td>1.000000</td>\n",
       "      <td>-0.017907</td>\n",
       "      <td>-0.305086</td>\n",
       "      <td>-0.141478</td>\n",
       "      <td>0.037341</td>\n",
       "      <td>0.072331</td>\n",
       "      <td>-0.104394</td>\n",
       "      <td>0.144775</td>\n",
       "      <td>0.068389</td>\n",
       "      <td>...</td>\n",
       "      <td>0.035408</td>\n",
       "      <td>-0.087791</td>\n",
       "      <td>-0.058495</td>\n",
       "      <td>-0.131024</td>\n",
       "      <td>-0.040349</td>\n",
       "      <td>0.209444</td>\n",
       "      <td>-0.086089</td>\n",
       "      <td>-0.000178</td>\n",
       "      <td>0.019884</td>\n",
       "      <td>0.004310</td>\n",
       "    </tr>\n",
       "    <tr>\n",
       "      <th>Полная мощность</th>\n",
       "      <td>0.022669</td>\n",
       "      <td>-0.017907</td>\n",
       "      <td>1.000000</td>\n",
       "      <td>0.050750</td>\n",
       "      <td>0.081226</td>\n",
       "      <td>0.038491</td>\n",
       "      <td>0.004317</td>\n",
       "      <td>-0.002515</td>\n",
       "      <td>-0.012610</td>\n",
       "      <td>0.005028</td>\n",
       "      <td>...</td>\n",
       "      <td>-0.003988</td>\n",
       "      <td>0.002773</td>\n",
       "      <td>0.001816</td>\n",
       "      <td>0.041734</td>\n",
       "      <td>-0.011982</td>\n",
       "      <td>0.001200</td>\n",
       "      <td>-0.004456</td>\n",
       "      <td>0.003233</td>\n",
       "      <td>0.003347</td>\n",
       "      <td>-0.004174</td>\n",
       "    </tr>\n",
       "    <tr>\n",
       "      <th>Суммарная продолжительность</th>\n",
       "      <td>-0.029358</td>\n",
       "      <td>-0.305086</td>\n",
       "      <td>0.050750</td>\n",
       "      <td>1.000000</td>\n",
       "      <td>0.798897</td>\n",
       "      <td>0.396379</td>\n",
       "      <td>0.103027</td>\n",
       "      <td>0.092612</td>\n",
       "      <td>-0.028329</td>\n",
       "      <td>0.013519</td>\n",
       "      <td>...</td>\n",
       "      <td>-0.005031</td>\n",
       "      <td>0.078171</td>\n",
       "      <td>0.466688</td>\n",
       "      <td>0.461335</td>\n",
       "      <td>0.295711</td>\n",
       "      <td>0.055419</td>\n",
       "      <td>0.054481</td>\n",
       "      <td>0.033399</td>\n",
       "      <td>0.042288</td>\n",
       "      <td>-0.011585</td>\n",
       "    </tr>\n",
       "    <tr>\n",
       "      <th>Иттерации нагрева</th>\n",
       "      <td>-0.033268</td>\n",
       "      <td>-0.141478</td>\n",
       "      <td>0.081226</td>\n",
       "      <td>0.798897</td>\n",
       "      <td>1.000000</td>\n",
       "      <td>0.404036</td>\n",
       "      <td>0.097734</td>\n",
       "      <td>0.109092</td>\n",
       "      <td>-0.004408</td>\n",
       "      <td>0.075008</td>\n",
       "      <td>...</td>\n",
       "      <td>0.012659</td>\n",
       "      <td>0.062565</td>\n",
       "      <td>0.306937</td>\n",
       "      <td>0.334118</td>\n",
       "      <td>0.174703</td>\n",
       "      <td>0.138141</td>\n",
       "      <td>0.078113</td>\n",
       "      <td>0.055257</td>\n",
       "      <td>0.053383</td>\n",
       "      <td>-0.024577</td>\n",
       "    </tr>\n",
       "    <tr>\n",
       "      <th>Газ 1</th>\n",
       "      <td>-0.043486</td>\n",
       "      <td>0.037341</td>\n",
       "      <td>0.038491</td>\n",
       "      <td>0.396379</td>\n",
       "      <td>0.404036</td>\n",
       "      <td>1.000000</td>\n",
       "      <td>0.234141</td>\n",
       "      <td>0.059628</td>\n",
       "      <td>0.017578</td>\n",
       "      <td>0.086902</td>\n",
       "      <td>...</td>\n",
       "      <td>-0.008508</td>\n",
       "      <td>0.042027</td>\n",
       "      <td>0.217332</td>\n",
       "      <td>0.268889</td>\n",
       "      <td>0.043624</td>\n",
       "      <td>0.117313</td>\n",
       "      <td>0.104248</td>\n",
       "      <td>0.103382</td>\n",
       "      <td>0.108089</td>\n",
       "      <td>0.014070</td>\n",
       "    </tr>\n",
       "    <tr>\n",
       "      <th>Bulk 1</th>\n",
       "      <td>-0.078236</td>\n",
       "      <td>0.072331</td>\n",
       "      <td>0.004317</td>\n",
       "      <td>0.103027</td>\n",
       "      <td>0.097734</td>\n",
       "      <td>0.234141</td>\n",
       "      <td>1.000000</td>\n",
       "      <td>-0.011628</td>\n",
       "      <td>0.041846</td>\n",
       "      <td>0.060429</td>\n",
       "      <td>...</td>\n",
       "      <td>-0.023187</td>\n",
       "      <td>-0.037892</td>\n",
       "      <td>0.325771</td>\n",
       "      <td>0.207718</td>\n",
       "      <td>-0.000800</td>\n",
       "      <td>0.013682</td>\n",
       "      <td>-0.009229</td>\n",
       "      <td>0.020271</td>\n",
       "      <td>0.148561</td>\n",
       "      <td>0.011066</td>\n",
       "    </tr>\n",
       "    <tr>\n",
       "      <th>Bulk 3</th>\n",
       "      <td>-0.007271</td>\n",
       "      <td>-0.104394</td>\n",
       "      <td>-0.002515</td>\n",
       "      <td>0.092612</td>\n",
       "      <td>0.109092</td>\n",
       "      <td>0.059628</td>\n",
       "      <td>-0.011628</td>\n",
       "      <td>1.000000</td>\n",
       "      <td>-0.295431</td>\n",
       "      <td>-0.006801</td>\n",
       "      <td>...</td>\n",
       "      <td>-0.085186</td>\n",
       "      <td>-0.007445</td>\n",
       "      <td>0.018371</td>\n",
       "      <td>0.010772</td>\n",
       "      <td>-0.012860</td>\n",
       "      <td>0.039637</td>\n",
       "      <td>0.095723</td>\n",
       "      <td>0.005780</td>\n",
       "      <td>0.007113</td>\n",
       "      <td>0.004621</td>\n",
       "    </tr>\n",
       "    <tr>\n",
       "      <th>Bulk 4</th>\n",
       "      <td>-0.026147</td>\n",
       "      <td>0.144775</td>\n",
       "      <td>-0.012610</td>\n",
       "      <td>-0.028329</td>\n",
       "      <td>-0.004408</td>\n",
       "      <td>0.017578</td>\n",
       "      <td>0.041846</td>\n",
       "      <td>-0.295431</td>\n",
       "      <td>1.000000</td>\n",
       "      <td>0.028348</td>\n",
       "      <td>...</td>\n",
       "      <td>-0.084746</td>\n",
       "      <td>-0.119529</td>\n",
       "      <td>0.105791</td>\n",
       "      <td>-0.090602</td>\n",
       "      <td>0.101514</td>\n",
       "      <td>0.297591</td>\n",
       "      <td>-0.268142</td>\n",
       "      <td>-0.039219</td>\n",
       "      <td>-0.011417</td>\n",
       "      <td>-0.058138</td>\n",
       "    </tr>\n",
       "    <tr>\n",
       "      <th>Bulk 5</th>\n",
       "      <td>0.035212</td>\n",
       "      <td>0.068389</td>\n",
       "      <td>0.005028</td>\n",
       "      <td>0.013519</td>\n",
       "      <td>0.075008</td>\n",
       "      <td>0.086902</td>\n",
       "      <td>0.060429</td>\n",
       "      <td>-0.006801</td>\n",
       "      <td>0.028348</td>\n",
       "      <td>1.000000</td>\n",
       "      <td>...</td>\n",
       "      <td>-0.028480</td>\n",
       "      <td>-0.015840</td>\n",
       "      <td>-0.072758</td>\n",
       "      <td>-0.065890</td>\n",
       "      <td>-0.067190</td>\n",
       "      <td>-0.013493</td>\n",
       "      <td>-0.013794</td>\n",
       "      <td>0.070916</td>\n",
       "      <td>0.204819</td>\n",
       "      <td>-0.010817</td>\n",
       "    </tr>\n",
       "    <tr>\n",
       "      <th>Bulk 6</th>\n",
       "      <td>0.006241</td>\n",
       "      <td>-0.096951</td>\n",
       "      <td>0.055987</td>\n",
       "      <td>0.161907</td>\n",
       "      <td>0.152614</td>\n",
       "      <td>0.139625</td>\n",
       "      <td>-0.003630</td>\n",
       "      <td>0.065284</td>\n",
       "      <td>-0.251562</td>\n",
       "      <td>-0.021852</td>\n",
       "      <td>...</td>\n",
       "      <td>-0.097157</td>\n",
       "      <td>0.196733</td>\n",
       "      <td>-0.112902</td>\n",
       "      <td>0.177490</td>\n",
       "      <td>-0.109316</td>\n",
       "      <td>-0.235793</td>\n",
       "      <td>0.204627</td>\n",
       "      <td>-0.046518</td>\n",
       "      <td>-0.020223</td>\n",
       "      <td>-0.013335</td>\n",
       "    </tr>\n",
       "    <tr>\n",
       "      <th>Bulk 10</th>\n",
       "      <td>0.062875</td>\n",
       "      <td>0.035408</td>\n",
       "      <td>-0.003988</td>\n",
       "      <td>-0.005031</td>\n",
       "      <td>0.012659</td>\n",
       "      <td>-0.008508</td>\n",
       "      <td>-0.023187</td>\n",
       "      <td>-0.085186</td>\n",
       "      <td>-0.084746</td>\n",
       "      <td>-0.028480</td>\n",
       "      <td>...</td>\n",
       "      <td>1.000000</td>\n",
       "      <td>-0.045564</td>\n",
       "      <td>0.027909</td>\n",
       "      <td>-0.045537</td>\n",
       "      <td>0.052262</td>\n",
       "      <td>0.062713</td>\n",
       "      <td>-0.103758</td>\n",
       "      <td>-0.027977</td>\n",
       "      <td>-0.017800</td>\n",
       "      <td>-0.022170</td>\n",
       "    </tr>\n",
       "    <tr>\n",
       "      <th>Bulk 11</th>\n",
       "      <td>0.034924</td>\n",
       "      <td>-0.087791</td>\n",
       "      <td>0.002773</td>\n",
       "      <td>0.078171</td>\n",
       "      <td>0.062565</td>\n",
       "      <td>0.042027</td>\n",
       "      <td>-0.037892</td>\n",
       "      <td>-0.007445</td>\n",
       "      <td>-0.119529</td>\n",
       "      <td>-0.015840</td>\n",
       "      <td>...</td>\n",
       "      <td>-0.045564</td>\n",
       "      <td>1.000000</td>\n",
       "      <td>-0.040168</td>\n",
       "      <td>0.078115</td>\n",
       "      <td>-0.048246</td>\n",
       "      <td>-0.117755</td>\n",
       "      <td>0.062067</td>\n",
       "      <td>-0.021829</td>\n",
       "      <td>0.008701</td>\n",
       "      <td>-0.017305</td>\n",
       "    </tr>\n",
       "    <tr>\n",
       "      <th>Bulk 12</th>\n",
       "      <td>0.025958</td>\n",
       "      <td>-0.058495</td>\n",
       "      <td>0.001816</td>\n",
       "      <td>0.466688</td>\n",
       "      <td>0.306937</td>\n",
       "      <td>0.217332</td>\n",
       "      <td>0.325771</td>\n",
       "      <td>0.018371</td>\n",
       "      <td>0.105791</td>\n",
       "      <td>-0.072758</td>\n",
       "      <td>...</td>\n",
       "      <td>0.027909</td>\n",
       "      <td>-0.040168</td>\n",
       "      <td>1.000000</td>\n",
       "      <td>0.481541</td>\n",
       "      <td>0.614479</td>\n",
       "      <td>0.170167</td>\n",
       "      <td>-0.098263</td>\n",
       "      <td>-0.120469</td>\n",
       "      <td>-0.042731</td>\n",
       "      <td>-0.042218</td>\n",
       "    </tr>\n",
       "    <tr>\n",
       "      <th>Bulk 14</th>\n",
       "      <td>-0.110275</td>\n",
       "      <td>-0.131024</td>\n",
       "      <td>0.041734</td>\n",
       "      <td>0.461335</td>\n",
       "      <td>0.334118</td>\n",
       "      <td>0.268889</td>\n",
       "      <td>0.207718</td>\n",
       "      <td>0.010772</td>\n",
       "      <td>-0.090602</td>\n",
       "      <td>-0.065890</td>\n",
       "      <td>...</td>\n",
       "      <td>-0.045537</td>\n",
       "      <td>0.078115</td>\n",
       "      <td>0.481541</td>\n",
       "      <td>1.000000</td>\n",
       "      <td>0.265354</td>\n",
       "      <td>-0.053835</td>\n",
       "      <td>0.036309</td>\n",
       "      <td>-0.008859</td>\n",
       "      <td>-0.052387</td>\n",
       "      <td>0.018576</td>\n",
       "    </tr>\n",
       "    <tr>\n",
       "      <th>Bulk 15</th>\n",
       "      <td>-0.045531</td>\n",
       "      <td>-0.040349</td>\n",
       "      <td>-0.011982</td>\n",
       "      <td>0.295711</td>\n",
       "      <td>0.174703</td>\n",
       "      <td>0.043624</td>\n",
       "      <td>-0.000800</td>\n",
       "      <td>-0.012860</td>\n",
       "      <td>0.101514</td>\n",
       "      <td>-0.067190</td>\n",
       "      <td>...</td>\n",
       "      <td>0.052262</td>\n",
       "      <td>-0.048246</td>\n",
       "      <td>0.614479</td>\n",
       "      <td>0.265354</td>\n",
       "      <td>1.000000</td>\n",
       "      <td>0.118437</td>\n",
       "      <td>-0.096415</td>\n",
       "      <td>-0.118076</td>\n",
       "      <td>-0.032421</td>\n",
       "      <td>-0.036960</td>\n",
       "    </tr>\n",
       "    <tr>\n",
       "      <th>Wire 1</th>\n",
       "      <td>-0.013564</td>\n",
       "      <td>0.209444</td>\n",
       "      <td>0.001200</td>\n",
       "      <td>0.055419</td>\n",
       "      <td>0.138141</td>\n",
       "      <td>0.117313</td>\n",
       "      <td>0.013682</td>\n",
       "      <td>0.039637</td>\n",
       "      <td>0.297591</td>\n",
       "      <td>-0.013493</td>\n",
       "      <td>...</td>\n",
       "      <td>0.062713</td>\n",
       "      <td>-0.117755</td>\n",
       "      <td>0.170167</td>\n",
       "      <td>-0.053835</td>\n",
       "      <td>0.118437</td>\n",
       "      <td>1.000000</td>\n",
       "      <td>-0.068301</td>\n",
       "      <td>0.038075</td>\n",
       "      <td>-0.128036</td>\n",
       "      <td>0.021074</td>\n",
       "    </tr>\n",
       "    <tr>\n",
       "      <th>Wire 2</th>\n",
       "      <td>0.043149</td>\n",
       "      <td>-0.086089</td>\n",
       "      <td>-0.004456</td>\n",
       "      <td>0.054481</td>\n",
       "      <td>0.078113</td>\n",
       "      <td>0.104248</td>\n",
       "      <td>-0.009229</td>\n",
       "      <td>0.095723</td>\n",
       "      <td>-0.268142</td>\n",
       "      <td>-0.013794</td>\n",
       "      <td>...</td>\n",
       "      <td>-0.103758</td>\n",
       "      <td>0.062067</td>\n",
       "      <td>-0.098263</td>\n",
       "      <td>0.036309</td>\n",
       "      <td>-0.096415</td>\n",
       "      <td>-0.068301</td>\n",
       "      <td>1.000000</td>\n",
       "      <td>0.094073</td>\n",
       "      <td>-0.058700</td>\n",
       "      <td>0.213150</td>\n",
       "    </tr>\n",
       "    <tr>\n",
       "      <th>Wire 3</th>\n",
       "      <td>-0.027270</td>\n",
       "      <td>-0.000178</td>\n",
       "      <td>0.003233</td>\n",
       "      <td>0.033399</td>\n",
       "      <td>0.055257</td>\n",
       "      <td>0.103382</td>\n",
       "      <td>0.020271</td>\n",
       "      <td>0.005780</td>\n",
       "      <td>-0.039219</td>\n",
       "      <td>0.070916</td>\n",
       "      <td>...</td>\n",
       "      <td>-0.027977</td>\n",
       "      <td>-0.021829</td>\n",
       "      <td>-0.120469</td>\n",
       "      <td>-0.008859</td>\n",
       "      <td>-0.118076</td>\n",
       "      <td>0.038075</td>\n",
       "      <td>0.094073</td>\n",
       "      <td>1.000000</td>\n",
       "      <td>0.183456</td>\n",
       "      <td>-0.010625</td>\n",
       "    </tr>\n",
       "    <tr>\n",
       "      <th>Wire 6</th>\n",
       "      <td>-0.008236</td>\n",
       "      <td>0.019884</td>\n",
       "      <td>0.003347</td>\n",
       "      <td>0.042288</td>\n",
       "      <td>0.053383</td>\n",
       "      <td>0.108089</td>\n",
       "      <td>0.148561</td>\n",
       "      <td>0.007113</td>\n",
       "      <td>-0.011417</td>\n",
       "      <td>0.204819</td>\n",
       "      <td>...</td>\n",
       "      <td>-0.017800</td>\n",
       "      <td>0.008701</td>\n",
       "      <td>-0.042731</td>\n",
       "      <td>-0.052387</td>\n",
       "      <td>-0.032421</td>\n",
       "      <td>-0.128036</td>\n",
       "      <td>-0.058700</td>\n",
       "      <td>0.183456</td>\n",
       "      <td>1.000000</td>\n",
       "      <td>-0.010334</td>\n",
       "    </tr>\n",
       "    <tr>\n",
       "      <th>Wire 9</th>\n",
       "      <td>0.021312</td>\n",
       "      <td>0.004310</td>\n",
       "      <td>-0.004174</td>\n",
       "      <td>-0.011585</td>\n",
       "      <td>-0.024577</td>\n",
       "      <td>0.014070</td>\n",
       "      <td>0.011066</td>\n",
       "      <td>0.004621</td>\n",
       "      <td>-0.058138</td>\n",
       "      <td>-0.010817</td>\n",
       "      <td>...</td>\n",
       "      <td>-0.022170</td>\n",
       "      <td>-0.017305</td>\n",
       "      <td>-0.042218</td>\n",
       "      <td>0.018576</td>\n",
       "      <td>-0.036960</td>\n",
       "      <td>0.021074</td>\n",
       "      <td>0.213150</td>\n",
       "      <td>-0.010625</td>\n",
       "      <td>-0.010334</td>\n",
       "      <td>1.000000</td>\n",
       "    </tr>\n",
       "  </tbody>\n",
       "</table>\n",
       "<p>21 rows × 21 columns</p>\n",
       "</div>"
      ],
      "text/plain": [
       "                                  key  Начальная температура  Полная мощность  \\\n",
       "key                          1.000000              -0.019186         0.022669   \n",
       "Начальная температура       -0.019186               1.000000        -0.017907   \n",
       "Полная мощность              0.022669              -0.017907         1.000000   \n",
       "Суммарная продолжительность -0.029358              -0.305086         0.050750   \n",
       "Иттерации нагрева           -0.033268              -0.141478         0.081226   \n",
       "Газ 1                       -0.043486               0.037341         0.038491   \n",
       "Bulk 1                      -0.078236               0.072331         0.004317   \n",
       "Bulk 3                      -0.007271              -0.104394        -0.002515   \n",
       "Bulk 4                      -0.026147               0.144775        -0.012610   \n",
       "Bulk 5                       0.035212               0.068389         0.005028   \n",
       "Bulk 6                       0.006241              -0.096951         0.055987   \n",
       "Bulk 10                      0.062875               0.035408        -0.003988   \n",
       "Bulk 11                      0.034924              -0.087791         0.002773   \n",
       "Bulk 12                      0.025958              -0.058495         0.001816   \n",
       "Bulk 14                     -0.110275              -0.131024         0.041734   \n",
       "Bulk 15                     -0.045531              -0.040349        -0.011982   \n",
       "Wire 1                      -0.013564               0.209444         0.001200   \n",
       "Wire 2                       0.043149              -0.086089        -0.004456   \n",
       "Wire 3                      -0.027270              -0.000178         0.003233   \n",
       "Wire 6                      -0.008236               0.019884         0.003347   \n",
       "Wire 9                       0.021312               0.004310        -0.004174   \n",
       "\n",
       "                             Суммарная продолжительность  Иттерации нагрева  \\\n",
       "key                                            -0.029358          -0.033268   \n",
       "Начальная температура                          -0.305086          -0.141478   \n",
       "Полная мощность                                 0.050750           0.081226   \n",
       "Суммарная продолжительность                     1.000000           0.798897   \n",
       "Иттерации нагрева                               0.798897           1.000000   \n",
       "Газ 1                                           0.396379           0.404036   \n",
       "Bulk 1                                          0.103027           0.097734   \n",
       "Bulk 3                                          0.092612           0.109092   \n",
       "Bulk 4                                         -0.028329          -0.004408   \n",
       "Bulk 5                                          0.013519           0.075008   \n",
       "Bulk 6                                          0.161907           0.152614   \n",
       "Bulk 10                                        -0.005031           0.012659   \n",
       "Bulk 11                                         0.078171           0.062565   \n",
       "Bulk 12                                         0.466688           0.306937   \n",
       "Bulk 14                                         0.461335           0.334118   \n",
       "Bulk 15                                         0.295711           0.174703   \n",
       "Wire 1                                          0.055419           0.138141   \n",
       "Wire 2                                          0.054481           0.078113   \n",
       "Wire 3                                          0.033399           0.055257   \n",
       "Wire 6                                          0.042288           0.053383   \n",
       "Wire 9                                         -0.011585          -0.024577   \n",
       "\n",
       "                                Газ 1    Bulk 1    Bulk 3    Bulk 4    Bulk 5  \\\n",
       "key                         -0.043486 -0.078236 -0.007271 -0.026147  0.035212   \n",
       "Начальная температура        0.037341  0.072331 -0.104394  0.144775  0.068389   \n",
       "Полная мощность              0.038491  0.004317 -0.002515 -0.012610  0.005028   \n",
       "Суммарная продолжительность  0.396379  0.103027  0.092612 -0.028329  0.013519   \n",
       "Иттерации нагрева            0.404036  0.097734  0.109092 -0.004408  0.075008   \n",
       "Газ 1                        1.000000  0.234141  0.059628  0.017578  0.086902   \n",
       "Bulk 1                       0.234141  1.000000 -0.011628  0.041846  0.060429   \n",
       "Bulk 3                       0.059628 -0.011628  1.000000 -0.295431 -0.006801   \n",
       "Bulk 4                       0.017578  0.041846 -0.295431  1.000000  0.028348   \n",
       "Bulk 5                       0.086902  0.060429 -0.006801  0.028348  1.000000   \n",
       "Bulk 6                       0.139625 -0.003630  0.065284 -0.251562 -0.021852   \n",
       "Bulk 10                     -0.008508 -0.023187 -0.085186 -0.084746 -0.028480   \n",
       "Bulk 11                      0.042027 -0.037892 -0.007445 -0.119529 -0.015840   \n",
       "Bulk 12                      0.217332  0.325771  0.018371  0.105791 -0.072758   \n",
       "Bulk 14                      0.268889  0.207718  0.010772 -0.090602 -0.065890   \n",
       "Bulk 15                      0.043624 -0.000800 -0.012860  0.101514 -0.067190   \n",
       "Wire 1                       0.117313  0.013682  0.039637  0.297591 -0.013493   \n",
       "Wire 2                       0.104248 -0.009229  0.095723 -0.268142 -0.013794   \n",
       "Wire 3                       0.103382  0.020271  0.005780 -0.039219  0.070916   \n",
       "Wire 6                       0.108089  0.148561  0.007113 -0.011417  0.204819   \n",
       "Wire 9                       0.014070  0.011066  0.004621 -0.058138 -0.010817   \n",
       "\n",
       "                             ...   Bulk 10   Bulk 11   Bulk 12   Bulk 14  \\\n",
       "key                          ...  0.062875  0.034924  0.025958 -0.110275   \n",
       "Начальная температура        ...  0.035408 -0.087791 -0.058495 -0.131024   \n",
       "Полная мощность              ... -0.003988  0.002773  0.001816  0.041734   \n",
       "Суммарная продолжительность  ... -0.005031  0.078171  0.466688  0.461335   \n",
       "Иттерации нагрева            ...  0.012659  0.062565  0.306937  0.334118   \n",
       "Газ 1                        ... -0.008508  0.042027  0.217332  0.268889   \n",
       "Bulk 1                       ... -0.023187 -0.037892  0.325771  0.207718   \n",
       "Bulk 3                       ... -0.085186 -0.007445  0.018371  0.010772   \n",
       "Bulk 4                       ... -0.084746 -0.119529  0.105791 -0.090602   \n",
       "Bulk 5                       ... -0.028480 -0.015840 -0.072758 -0.065890   \n",
       "Bulk 6                       ... -0.097157  0.196733 -0.112902  0.177490   \n",
       "Bulk 10                      ...  1.000000 -0.045564  0.027909 -0.045537   \n",
       "Bulk 11                      ... -0.045564  1.000000 -0.040168  0.078115   \n",
       "Bulk 12                      ...  0.027909 -0.040168  1.000000  0.481541   \n",
       "Bulk 14                      ... -0.045537  0.078115  0.481541  1.000000   \n",
       "Bulk 15                      ...  0.052262 -0.048246  0.614479  0.265354   \n",
       "Wire 1                       ...  0.062713 -0.117755  0.170167 -0.053835   \n",
       "Wire 2                       ... -0.103758  0.062067 -0.098263  0.036309   \n",
       "Wire 3                       ... -0.027977 -0.021829 -0.120469 -0.008859   \n",
       "Wire 6                       ... -0.017800  0.008701 -0.042731 -0.052387   \n",
       "Wire 9                       ... -0.022170 -0.017305 -0.042218  0.018576   \n",
       "\n",
       "                              Bulk 15    Wire 1    Wire 2    Wire 3    Wire 6  \\\n",
       "key                         -0.045531 -0.013564  0.043149 -0.027270 -0.008236   \n",
       "Начальная температура       -0.040349  0.209444 -0.086089 -0.000178  0.019884   \n",
       "Полная мощность             -0.011982  0.001200 -0.004456  0.003233  0.003347   \n",
       "Суммарная продолжительность  0.295711  0.055419  0.054481  0.033399  0.042288   \n",
       "Иттерации нагрева            0.174703  0.138141  0.078113  0.055257  0.053383   \n",
       "Газ 1                        0.043624  0.117313  0.104248  0.103382  0.108089   \n",
       "Bulk 1                      -0.000800  0.013682 -0.009229  0.020271  0.148561   \n",
       "Bulk 3                      -0.012860  0.039637  0.095723  0.005780  0.007113   \n",
       "Bulk 4                       0.101514  0.297591 -0.268142 -0.039219 -0.011417   \n",
       "Bulk 5                      -0.067190 -0.013493 -0.013794  0.070916  0.204819   \n",
       "Bulk 6                      -0.109316 -0.235793  0.204627 -0.046518 -0.020223   \n",
       "Bulk 10                      0.052262  0.062713 -0.103758 -0.027977 -0.017800   \n",
       "Bulk 11                     -0.048246 -0.117755  0.062067 -0.021829  0.008701   \n",
       "Bulk 12                      0.614479  0.170167 -0.098263 -0.120469 -0.042731   \n",
       "Bulk 14                      0.265354 -0.053835  0.036309 -0.008859 -0.052387   \n",
       "Bulk 15                      1.000000  0.118437 -0.096415 -0.118076 -0.032421   \n",
       "Wire 1                       0.118437  1.000000 -0.068301  0.038075 -0.128036   \n",
       "Wire 2                      -0.096415 -0.068301  1.000000  0.094073 -0.058700   \n",
       "Wire 3                      -0.118076  0.038075  0.094073  1.000000  0.183456   \n",
       "Wire 6                      -0.032421 -0.128036 -0.058700  0.183456  1.000000   \n",
       "Wire 9                      -0.036960  0.021074  0.213150 -0.010625 -0.010334   \n",
       "\n",
       "                               Wire 9  \n",
       "key                          0.021312  \n",
       "Начальная температура        0.004310  \n",
       "Полная мощность             -0.004174  \n",
       "Суммарная продолжительность -0.011585  \n",
       "Иттерации нагрева           -0.024577  \n",
       "Газ 1                        0.014070  \n",
       "Bulk 1                       0.011066  \n",
       "Bulk 3                       0.004621  \n",
       "Bulk 4                      -0.058138  \n",
       "Bulk 5                      -0.010817  \n",
       "Bulk 6                      -0.013335  \n",
       "Bulk 10                     -0.022170  \n",
       "Bulk 11                     -0.017305  \n",
       "Bulk 12                     -0.042218  \n",
       "Bulk 14                      0.018576  \n",
       "Bulk 15                     -0.036960  \n",
       "Wire 1                       0.021074  \n",
       "Wire 2                       0.213150  \n",
       "Wire 3                      -0.010625  \n",
       "Wire 6                      -0.010334  \n",
       "Wire 9                       1.000000  \n",
       "\n",
       "[21 rows x 21 columns]"
      ]
     },
     "execution_count": 56,
     "metadata": {},
     "output_type": "execute_result"
    }
   ],
   "source": [
    "features.corr()"
   ]
  },
  {
   "cell_type": "code",
   "execution_count": 57,
   "metadata": {},
   "outputs": [
    {
     "data": {
      "image/png": "[encoded data removed]",
      "text/plain": [
       "<Figure size 1440x864 with 2 Axes>"
      ]
     },
     "metadata": {
      "needs_background": "light"
     },
     "output_type": "display_data"
    }
   ],
   "source": [
    "plt.figure(figsize=(20, 12))\n",
    "plt.title('Корреляция признаков')\n",
    "sns.heatmap(features.corr(method='spearman'), annot = True, cmap=\"coolwarm\")\n",
    "plt.show()"
   ]
  },
  {
   "cell_type": "markdown",
   "metadata": {},
   "source": [
    "**Удалим из фичей key**"
   ]
  },
  {
   "cell_type": "code",
   "execution_count": 58,
   "metadata": {},
   "outputs": [],
   "source": [
    "features = features.drop(['key'], axis=1)"
   ]
  },
  {
   "cell_type": "code",
   "execution_count": 59,
   "metadata": {},
   "outputs": [
    {
     "data": {
      "text/plain": [
       "['Начальная температура',\n",
       " 'Полная мощность',\n",
       " 'Суммарная продолжительность',\n",
       " 'Иттерации нагрева',\n",
       " 'Газ 1',\n",
       " 'Bulk 1',\n",
       " 'Bulk 3',\n",
       " 'Bulk 4',\n",
       " 'Bulk 5',\n",
       " 'Bulk 6',\n",
       " 'Bulk 10',\n",
       " 'Bulk 11',\n",
       " 'Bulk 12',\n",
       " 'Bulk 14',\n",
       " 'Bulk 15',\n",
       " 'Wire 1',\n",
       " 'Wire 2',\n",
       " 'Wire 3',\n",
       " 'Wire 6',\n",
       " 'Wire 9']"
      ]
     },
     "execution_count": 59,
     "metadata": {},
     "output_type": "execute_result"
    }
   ],
   "source": [
    "feature_names = list(features.columns)\n",
    "feature_names"
   ]
  },
  {
   "cell_type": "markdown",
   "metadata": {},
   "source": [
    "## Подбор модели"
   ]
  },
  {
   "cell_type": "markdown",
   "metadata": {},
   "source": [
    "**Выделим тестовую выборку и тренировочную**"
   ]
  },
  {
   "cell_type": "code",
   "execution_count": 60,
   "metadata": {},
   "outputs": [],
   "source": [
    "RANDOM_STATE = 22052023"
   ]
  },
  {
   "cell_type": "code",
   "execution_count": 61,
   "metadata": {},
   "outputs": [],
   "source": [
    "features_train, features_test, target_train, target_test = train_test_split(\n",
    "    features, target, test_size=0.25, random_state=RANDOM_STATE)"
   ]
  },
  {
   "cell_type": "code",
   "execution_count": 62,
   "metadata": {},
   "outputs": [
    {
     "name": "stdout",
     "output_type": "stream",
     "text": [
      "Размер обучающей выборки (1746, 20)\n",
      "Размер тестовой выборки (583, 20)\n",
      "Размер трейн таргета (1746, 1)\n",
      "Размер тестового таргета (583, 1)\n"
     ]
    }
   ],
   "source": [
    "print('Размер обучающей выборки', features_train.shape)\n",
    "print('Размер тестовой выборки', features_test.shape)\n",
    "\n",
    "print('Размер трейн таргета', target_train.shape)\n",
    "print('Размер тестового таргета', target_test.shape)"
   ]
  },
  {
   "cell_type": "markdown",
   "metadata": {},
   "source": [
    "**Маштабируем признаки**"
   ]
  },
  {
   "cell_type": "code",
   "execution_count": 63,
   "metadata": {},
   "outputs": [],
   "source": [
    "scaler = StandardScaler().fit(features_train)\n",
    "\n",
    "features_train = scaler.transform(features_train)\n",
    "features_test = scaler.transform(features_test)"
   ]
  },
  {
   "cell_type": "markdown",
   "metadata": {},
   "source": [
    "**Создадим сводный словарь для результатов**"
   ]
  },
  {
   "cell_type": "code",
   "execution_count": 64,
   "metadata": {},
   "outputs": [],
   "source": [
    "results = {\n",
    "    'Constant_mean': [],\n",
    "    'LinearRegression': [],\n",
    "    'CatBoost': [],\n",
    "    'LGBM': [],   \n",
    "}"
   ]
  },
  {
   "cell_type": "markdown",
   "metadata": {},
   "source": [
    "### Константная модель"
   ]
  },
  {
   "cell_type": "code",
   "execution_count": 65,
   "metadata": {},
   "outputs": [
    {
     "data": {
      "text/plain": [
       "{'Constant_mean': [8.768439108061749],\n",
       " 'LinearRegression': [],\n",
       " 'CatBoost': [],\n",
       " 'LGBM': []}"
      ]
     },
     "execution_count": 65,
     "metadata": {},
     "output_type": "execute_result"
    }
   ],
   "source": [
    "const_predict = np.array([int(target_test.mean())] * int(target_test.count()))\n",
    "\n",
    "results['Constant_mean'].append(mean_absolute_error(target_test, const_predict))\n",
    "\n",
    "results"
   ]
  },
  {
   "cell_type": "markdown",
   "metadata": {},
   "source": [
    "### LinearRegression модель"
   ]
  },
  {
   "cell_type": "markdown",
   "metadata": {},
   "source": [
    "**Кросс валидацией определяем лучший показатель метрики МАЕ**"
   ]
  },
  {
   "cell_type": "code",
   "execution_count": 66,
   "metadata": {},
   "outputs": [
    {
     "name": "stdout",
     "output_type": "stream",
     "text": [
      "6.569637488265502\n"
     ]
    }
   ],
   "source": [
    "scores = cross_val_score(LinearRegression(), \n",
    "                         features_train, target_train, \n",
    "                         cv=5, scoring='neg_mean_absolute_error',\n",
    "                        )\n",
    "print(-np.mean(scores))"
   ]
  },
  {
   "cell_type": "code",
   "execution_count": 67,
   "metadata": {},
   "outputs": [],
   "source": [
    "results['LinearRegression'].append(-np.mean(scores))"
   ]
  },
  {
   "cell_type": "markdown",
   "metadata": {},
   "source": [
    "### CatBoostRegressor модель"
   ]
  },
  {
   "cell_type": "code",
   "execution_count": 68,
   "metadata": {},
   "outputs": [
    {
     "name": "stdout",
     "output_type": "stream",
     "text": [
      "6.154991184608758\n"
     ]
    }
   ],
   "source": [
    "scores = cross_val_score(CatBoostRegressor(random_state=RANDOM_STATE, silent=True), \n",
    "                         features_train, target_train, \n",
    "                         cv=5, scoring='neg_mean_absolute_error',\n",
    "                        )\n",
    "print(-np.mean(scores))"
   ]
  },
  {
   "cell_type": "markdown",
   "metadata": {},
   "source": [
    "parameters = {'learning_rate': [0.03, 0.1, 0.2],\n",
    "        'depth': [i for i in range(2, 6)],\n",
    "        'l2_leaf_reg': [i for i in range(1, 5)],\n",
    "        'iterations': [i for i in range(100, 500, 50)],\n",
    "         }\n",
    "\n",
    "model = CatBoostRegressor(random_state=RANDOM_STATE, loss_function='MAE', silent=True)\n",
    "\n",
    "grid_search = GridSearchCV(model, parameters, scoring='neg_mean_absolute_error')\n",
    "\n",
    "grid_search.fit(features_train, target_train)\n",
    "\n",
    "print(\"Лучшие гиперпараметры:\", grid_search.best_params_)\n",
    "print(\"Лучший результат:\", grid_search.best_score_)"
   ]
  },
  {
   "cell_type": "markdown",
   "metadata": {},
   "source": [
    "Лучшие гиперпараметры: {'depth': 5, 'iterations': 450, 'l2_leaf_reg': 3, 'learning_rate': 0.03}\n",
    "Лучший результат: -5.970519888135045"
   ]
  },
  {
   "cell_type": "code",
   "execution_count": 69,
   "metadata": {},
   "outputs": [],
   "source": [
    "results['CatBoost'].append(-np.mean(scores))"
   ]
  },
  {
   "cell_type": "markdown",
   "metadata": {},
   "source": [
    "### LGBMRegressor модель"
   ]
  },
  {
   "cell_type": "code",
   "execution_count": 70,
   "metadata": {},
   "outputs": [
    {
     "name": "stderr",
     "output_type": "stream",
     "text": [
      "A column-vector y was passed when a 1d array was expected. Please change the shape of y to (n_samples, ), for example using ravel().\n",
      "A column-vector y was passed when a 1d array was expected. Please change the shape of y to (n_samples, ), for example using ravel().\n",
      "A column-vector y was passed when a 1d array was expected. Please change the shape of y to (n_samples, ), for example using ravel().\n",
      "A column-vector y was passed when a 1d array was expected. Please change the shape of y to (n_samples, ), for example using ravel().\n",
      "A column-vector y was passed when a 1d array was expected. Please change the shape of y to (n_samples, ), for example using ravel().\n"
     ]
    },
    {
     "name": "stdout",
     "output_type": "stream",
     "text": [
      "6.417901488302495\n"
     ]
    }
   ],
   "source": [
    "scores = cross_val_score(LGBMRegressor(random_state=RANDOM_STATE), \n",
    "                         features_train, target_train, \n",
    "                         cv=5, scoring='neg_mean_absolute_error')\n",
    "\n",
    "print(-np.mean(scores))"
   ]
  },
  {
   "cell_type": "code",
   "execution_count": 71,
   "metadata": {},
   "outputs": [],
   "source": [
    "results['LGBM'].append(-np.mean(scores))"
   ]
  },
  {
   "cell_type": "code",
   "execution_count": 72,
   "metadata": {},
   "outputs": [
    {
     "data": {
      "text/plain": [
       "{'Constant_mean': [8.768439108061749],\n",
       " 'LinearRegression': [6.569637488265502],\n",
       " 'CatBoost': [6.154991184608758],\n",
       " 'LGBM': [6.417901488302495]}"
      ]
     },
     "execution_count": 72,
     "metadata": {},
     "output_type": "execute_result"
    }
   ],
   "source": [
    "results"
   ]
  },
  {
   "cell_type": "code",
   "execution_count": 73,
   "metadata": {},
   "outputs": [
    {
     "data": {
      "text/html": [
       "<div>\n",
       "<style scoped>\n",
       "    .dataframe tbody tr th:only-of-type {\n",
       "        vertical-align: middle;\n",
       "    }\n",
       "\n",
       "    .dataframe tbody tr th {\n",
       "        vertical-align: top;\n",
       "    }\n",
       "\n",
       "    .dataframe thead th {\n",
       "        text-align: right;\n",
       "    }\n",
       "</style>\n",
       "<table border=\"1\" class=\"dataframe\">\n",
       "  <thead>\n",
       "    <tr style=\"text-align: right;\">\n",
       "      <th></th>\n",
       "      <th>Constant_mean</th>\n",
       "      <th>LinearRegression</th>\n",
       "      <th>CatBoost</th>\n",
       "      <th>LGBM</th>\n",
       "    </tr>\n",
       "  </thead>\n",
       "  <tbody>\n",
       "    <tr>\n",
       "      <th>train (MAE)</th>\n",
       "      <td>8.768439</td>\n",
       "      <td>6.569637</td>\n",
       "      <td>6.154991</td>\n",
       "      <td>6.417901</td>\n",
       "    </tr>\n",
       "  </tbody>\n",
       "</table>\n",
       "</div>"
      ],
      "text/plain": [
       "             Constant_mean  LinearRegression  CatBoost      LGBM\n",
       "train (MAE)       8.768439          6.569637  6.154991  6.417901"
      ]
     },
     "execution_count": 73,
     "metadata": {},
     "output_type": "execute_result"
    }
   ],
   "source": [
    "pd.DataFrame(results, columns=results.keys(), index=['train (MAE)'])"
   ]
  },
  {
   "cell_type": "markdown",
   "metadata": {},
   "source": [
    "**Вывод**\n",
    "\n",
    "- Лучшая модель с метрикой МАЕ на тестовой выборке CatBoost"
   ]
  },
  {
   "cell_type": "markdown",
   "metadata": {},
   "source": [
    "## Проверка на тестовой выборке"
   ]
  },
  {
   "cell_type": "code",
   "execution_count": 74,
   "metadata": {},
   "outputs": [
    {
     "name": "stdout",
     "output_type": "stream",
     "text": [
      "0:\tlearn: 7.7577482\ttotal: 2.33ms\tremaining: 1.04s\n",
      "1:\tlearn: 7.6902114\ttotal: 4.27ms\tremaining: 957ms\n",
      "2:\tlearn: 7.6530255\ttotal: 5.99ms\tremaining: 892ms\n",
      "3:\tlearn: 7.6099708\ttotal: 7.69ms\tremaining: 857ms\n",
      "4:\tlearn: 7.5641007\ttotal: 9.43ms\tremaining: 839ms\n",
      "5:\tlearn: 7.5280270\ttotal: 11.2ms\tremaining: 831ms\n",
      "6:\tlearn: 7.4901622\ttotal: 13.1ms\tremaining: 826ms\n",
      "7:\tlearn: 7.4568416\ttotal: 14.9ms\tremaining: 821ms\n",
      "8:\tlearn: 7.4223709\ttotal: 16.7ms\tremaining: 817ms\n",
      "9:\tlearn: 7.3891230\ttotal: 18.4ms\tremaining: 809ms\n",
      "10:\tlearn: 7.3659494\ttotal: 20.2ms\tremaining: 805ms\n",
      "11:\tlearn: 7.3290252\ttotal: 21.8ms\tremaining: 797ms\n",
      "12:\tlearn: 7.2925259\ttotal: 23.7ms\tremaining: 795ms\n",
      "13:\tlearn: 7.2494528\ttotal: 25.3ms\tremaining: 789ms\n",
      "14:\tlearn: 7.2147789\ttotal: 27ms\tremaining: 783ms\n",
      "15:\tlearn: 7.1768101\ttotal: 28.6ms\tremaining: 776ms\n",
      "16:\tlearn: 7.1508046\ttotal: 30.2ms\tremaining: 769ms\n",
      "17:\tlearn: 7.1267703\ttotal: 31.8ms\tremaining: 764ms\n",
      "18:\tlearn: 7.1043569\ttotal: 33.5ms\tremaining: 761ms\n",
      "19:\tlearn: 7.0794882\ttotal: 35.2ms\tremaining: 757ms\n",
      "20:\tlearn: 7.0445102\ttotal: 36.9ms\tremaining: 754ms\n",
      "21:\tlearn: 7.0142525\ttotal: 38.6ms\tremaining: 750ms\n",
      "22:\tlearn: 6.9897804\ttotal: 40.3ms\tremaining: 749ms\n",
      "23:\tlearn: 6.9709993\ttotal: 42.1ms\tremaining: 747ms\n",
      "24:\tlearn: 6.9521476\ttotal: 43.6ms\tremaining: 742ms\n",
      "25:\tlearn: 6.9163400\ttotal: 45.2ms\tremaining: 736ms\n",
      "26:\tlearn: 6.8895393\ttotal: 46.7ms\tremaining: 732ms\n",
      "27:\tlearn: 6.8704138\ttotal: 48.3ms\tremaining: 728ms\n",
      "28:\tlearn: 6.8420172\ttotal: 49.8ms\tremaining: 723ms\n",
      "29:\tlearn: 6.8114910\ttotal: 51.4ms\tremaining: 720ms\n",
      "30:\tlearn: 6.7836921\ttotal: 53ms\tremaining: 716ms\n",
      "31:\tlearn: 6.7521617\ttotal: 54.5ms\tremaining: 712ms\n",
      "32:\tlearn: 6.7320771\ttotal: 56.1ms\tremaining: 709ms\n",
      "33:\tlearn: 6.7032194\ttotal: 57.7ms\tremaining: 705ms\n",
      "34:\tlearn: 6.6812826\ttotal: 59.2ms\tremaining: 702ms\n",
      "35:\tlearn: 6.6611543\ttotal: 60.8ms\tremaining: 700ms\n",
      "36:\tlearn: 6.6356455\ttotal: 62.4ms\tremaining: 697ms\n",
      "37:\tlearn: 6.6190215\ttotal: 64ms\tremaining: 694ms\n",
      "38:\tlearn: 6.5957047\ttotal: 65.6ms\tremaining: 692ms\n",
      "39:\tlearn: 6.5775105\ttotal: 67.2ms\tremaining: 689ms\n",
      "40:\tlearn: 6.5476495\ttotal: 68.8ms\tremaining: 686ms\n",
      "41:\tlearn: 6.5372106\ttotal: 70.4ms\tremaining: 683ms\n",
      "42:\tlearn: 6.5152568\ttotal: 72ms\tremaining: 681ms\n",
      "43:\tlearn: 6.5001189\ttotal: 73.5ms\tremaining: 678ms\n",
      "44:\tlearn: 6.4774531\ttotal: 75.1ms\tremaining: 676ms\n",
      "45:\tlearn: 6.4667573\ttotal: 76.6ms\tremaining: 673ms\n",
      "46:\tlearn: 6.4538309\ttotal: 78.3ms\tremaining: 671ms\n",
      "47:\tlearn: 6.4399819\ttotal: 79.9ms\tremaining: 669ms\n",
      "48:\tlearn: 6.4220194\ttotal: 81.5ms\tremaining: 667ms\n",
      "49:\tlearn: 6.4000746\ttotal: 83.2ms\tremaining: 665ms\n",
      "50:\tlearn: 6.3814429\ttotal: 84.9ms\tremaining: 664ms\n",
      "51:\tlearn: 6.3692305\ttotal: 86.5ms\tremaining: 662ms\n",
      "52:\tlearn: 6.3567142\ttotal: 88ms\tremaining: 659ms\n",
      "53:\tlearn: 6.3428381\ttotal: 89.6ms\tremaining: 657ms\n",
      "54:\tlearn: 6.3190372\ttotal: 91.2ms\tremaining: 655ms\n",
      "55:\tlearn: 6.3049487\ttotal: 92.9ms\tremaining: 654ms\n",
      "56:\tlearn: 6.2941496\ttotal: 94.5ms\tremaining: 651ms\n",
      "57:\tlearn: 6.2791819\ttotal: 96.1ms\tremaining: 649ms\n",
      "58:\tlearn: 6.2655290\ttotal: 97.7ms\tremaining: 647ms\n",
      "59:\tlearn: 6.2567885\ttotal: 99.3ms\tremaining: 646ms\n",
      "60:\tlearn: 6.2492546\ttotal: 101ms\tremaining: 644ms\n",
      "61:\tlearn: 6.2343932\ttotal: 103ms\tremaining: 642ms\n",
      "62:\tlearn: 6.2202048\ttotal: 104ms\tremaining: 640ms\n",
      "63:\tlearn: 6.2040808\ttotal: 106ms\tremaining: 638ms\n",
      "64:\tlearn: 6.1916444\ttotal: 107ms\tremaining: 636ms\n",
      "65:\tlearn: 6.1788127\ttotal: 109ms\tremaining: 634ms\n",
      "66:\tlearn: 6.1683279\ttotal: 111ms\tremaining: 632ms\n",
      "67:\tlearn: 6.1566271\ttotal: 112ms\tremaining: 629ms\n",
      "68:\tlearn: 6.1460450\ttotal: 114ms\tremaining: 627ms\n",
      "69:\tlearn: 6.1341762\ttotal: 115ms\tremaining: 625ms\n",
      "70:\tlearn: 6.1194818\ttotal: 117ms\tremaining: 623ms\n",
      "71:\tlearn: 6.1068857\ttotal: 118ms\tremaining: 621ms\n",
      "72:\tlearn: 6.0937524\ttotal: 120ms\tremaining: 619ms\n",
      "73:\tlearn: 6.0839225\ttotal: 122ms\tremaining: 618ms\n",
      "74:\tlearn: 6.0684524\ttotal: 123ms\tremaining: 616ms\n",
      "75:\tlearn: 6.0540557\ttotal: 125ms\tremaining: 615ms\n",
      "76:\tlearn: 6.0446279\ttotal: 127ms\tremaining: 613ms\n",
      "77:\tlearn: 6.0340947\ttotal: 128ms\tremaining: 612ms\n",
      "78:\tlearn: 6.0178009\ttotal: 130ms\tremaining: 609ms\n",
      "79:\tlearn: 6.0067273\ttotal: 131ms\tremaining: 607ms\n",
      "80:\tlearn: 6.0019461\ttotal: 133ms\tremaining: 605ms\n",
      "81:\tlearn: 5.9922977\ttotal: 135ms\tremaining: 604ms\n",
      "82:\tlearn: 5.9800049\ttotal: 136ms\tremaining: 603ms\n",
      "83:\tlearn: 5.9710345\ttotal: 138ms\tremaining: 601ms\n",
      "84:\tlearn: 5.9609597\ttotal: 140ms\tremaining: 600ms\n",
      "85:\tlearn: 5.9462532\ttotal: 142ms\tremaining: 599ms\n",
      "86:\tlearn: 5.9389599\ttotal: 143ms\tremaining: 597ms\n",
      "87:\tlearn: 5.9319580\ttotal: 145ms\tremaining: 595ms\n",
      "88:\tlearn: 5.9261331\ttotal: 146ms\tremaining: 593ms\n",
      "89:\tlearn: 5.9153510\ttotal: 148ms\tremaining: 592ms\n",
      "90:\tlearn: 5.9077975\ttotal: 150ms\tremaining: 590ms\n",
      "91:\tlearn: 5.8964006\ttotal: 151ms\tremaining: 588ms\n",
      "92:\tlearn: 5.8906966\ttotal: 153ms\tremaining: 586ms\n",
      "93:\tlearn: 5.8783456\ttotal: 154ms\tremaining: 584ms\n",
      "94:\tlearn: 5.8695190\ttotal: 156ms\tremaining: 582ms\n",
      "95:\tlearn: 5.8607718\ttotal: 157ms\tremaining: 579ms\n",
      "96:\tlearn: 5.8534742\ttotal: 159ms\tremaining: 577ms\n",
      "97:\tlearn: 5.8474891\ttotal: 160ms\tremaining: 575ms\n",
      "98:\tlearn: 5.8419681\ttotal: 162ms\tremaining: 573ms\n",
      "99:\tlearn: 5.8345400\ttotal: 163ms\tremaining: 571ms\n",
      "100:\tlearn: 5.8276529\ttotal: 165ms\tremaining: 570ms\n",
      "101:\tlearn: 5.8154386\ttotal: 167ms\tremaining: 568ms\n",
      "102:\tlearn: 5.8083363\ttotal: 168ms\tremaining: 567ms\n",
      "103:\tlearn: 5.8013754\ttotal: 170ms\tremaining: 566ms\n",
      "104:\tlearn: 5.7931006\ttotal: 172ms\tremaining: 565ms\n",
      "105:\tlearn: 5.7880329\ttotal: 173ms\tremaining: 563ms\n",
      "106:\tlearn: 5.7774582\ttotal: 175ms\tremaining: 561ms\n",
      "107:\tlearn: 5.7689039\ttotal: 177ms\tremaining: 560ms\n",
      "108:\tlearn: 5.7586844\ttotal: 179ms\tremaining: 560ms\n",
      "109:\tlearn: 5.7507075\ttotal: 181ms\tremaining: 558ms\n",
      "110:\tlearn: 5.7437631\ttotal: 182ms\tremaining: 557ms\n",
      "111:\tlearn: 5.7407209\ttotal: 184ms\tremaining: 555ms\n",
      "112:\tlearn: 5.7357059\ttotal: 185ms\tremaining: 553ms\n",
      "113:\tlearn: 5.7277134\ttotal: 187ms\tremaining: 551ms\n",
      "114:\tlearn: 5.7210235\ttotal: 189ms\tremaining: 550ms\n",
      "115:\tlearn: 5.7171205\ttotal: 190ms\tremaining: 548ms\n",
      "116:\tlearn: 5.7093508\ttotal: 192ms\tremaining: 547ms\n",
      "117:\tlearn: 5.7049945\ttotal: 194ms\tremaining: 545ms\n",
      "118:\tlearn: 5.6986180\ttotal: 195ms\tremaining: 543ms\n",
      "119:\tlearn: 5.6920979\ttotal: 197ms\tremaining: 542ms\n",
      "120:\tlearn: 5.6868512\ttotal: 199ms\tremaining: 540ms\n",
      "121:\tlearn: 5.6817297\ttotal: 200ms\tremaining: 539ms\n",
      "122:\tlearn: 5.6791680\ttotal: 202ms\tremaining: 537ms\n",
      "123:\tlearn: 5.6730931\ttotal: 204ms\tremaining: 535ms\n",
      "124:\tlearn: 5.6660683\ttotal: 205ms\tremaining: 533ms\n",
      "125:\tlearn: 5.6585061\ttotal: 207ms\tremaining: 532ms\n",
      "126:\tlearn: 5.6555931\ttotal: 208ms\tremaining: 530ms\n",
      "127:\tlearn: 5.6485490\ttotal: 210ms\tremaining: 528ms\n",
      "128:\tlearn: 5.6441847\ttotal: 212ms\tremaining: 527ms\n",
      "129:\tlearn: 5.6388381\ttotal: 213ms\tremaining: 526ms\n",
      "130:\tlearn: 5.6355956\ttotal: 215ms\tremaining: 524ms\n",
      "131:\tlearn: 5.6299015\ttotal: 217ms\tremaining: 522ms\n",
      "132:\tlearn: 5.6254620\ttotal: 218ms\tremaining: 520ms\n",
      "133:\tlearn: 5.6201532\ttotal: 220ms\tremaining: 518ms\n",
      "134:\tlearn: 5.6136299\ttotal: 221ms\tremaining: 517ms\n",
      "135:\tlearn: 5.6088065\ttotal: 223ms\tremaining: 515ms\n",
      "136:\tlearn: 5.6026690\ttotal: 225ms\tremaining: 513ms\n",
      "137:\tlearn: 5.5987873\ttotal: 226ms\tremaining: 511ms\n",
      "138:\tlearn: 5.5946347\ttotal: 228ms\tremaining: 509ms\n",
      "139:\tlearn: 5.5912302\ttotal: 229ms\tremaining: 507ms\n",
      "140:\tlearn: 5.5875353\ttotal: 231ms\tremaining: 505ms\n",
      "141:\tlearn: 5.5837794\ttotal: 232ms\tremaining: 503ms\n",
      "142:\tlearn: 5.5793748\ttotal: 234ms\tremaining: 501ms\n",
      "143:\tlearn: 5.5754812\ttotal: 235ms\tremaining: 500ms\n",
      "144:\tlearn: 5.5711740\ttotal: 237ms\tremaining: 498ms\n",
      "145:\tlearn: 5.5661451\ttotal: 238ms\tremaining: 496ms\n",
      "146:\tlearn: 5.5626632\ttotal: 240ms\tremaining: 494ms\n",
      "147:\tlearn: 5.5543835\ttotal: 241ms\tremaining: 493ms\n",
      "148:\tlearn: 5.5498751\ttotal: 243ms\tremaining: 491ms\n",
      "149:\tlearn: 5.5452655\ttotal: 245ms\tremaining: 489ms\n",
      "150:\tlearn: 5.5412862\ttotal: 246ms\tremaining: 488ms\n",
      "151:\tlearn: 5.5354181\ttotal: 248ms\tremaining: 486ms\n",
      "152:\tlearn: 5.5320745\ttotal: 249ms\tremaining: 484ms\n",
      "153:\tlearn: 5.5248350\ttotal: 251ms\tremaining: 482ms\n",
      "154:\tlearn: 5.5226045\ttotal: 253ms\tremaining: 481ms\n",
      "155:\tlearn: 5.5210525\ttotal: 254ms\tremaining: 479ms\n",
      "156:\tlearn: 5.5174545\ttotal: 256ms\tremaining: 478ms\n",
      "157:\tlearn: 5.5138773\ttotal: 258ms\tremaining: 476ms\n",
      "158:\tlearn: 5.5112654\ttotal: 259ms\tremaining: 475ms\n",
      "159:\tlearn: 5.5078956\ttotal: 261ms\tremaining: 473ms\n",
      "160:\tlearn: 5.5027151\ttotal: 263ms\tremaining: 471ms\n",
      "161:\tlearn: 5.5004932\ttotal: 264ms\tremaining: 470ms\n",
      "162:\tlearn: 5.4982010\ttotal: 266ms\tremaining: 468ms\n",
      "163:\tlearn: 5.4933691\ttotal: 267ms\tremaining: 466ms\n",
      "164:\tlearn: 5.4883599\ttotal: 269ms\tremaining: 464ms\n",
      "165:\tlearn: 5.4839558\ttotal: 270ms\tremaining: 462ms\n",
      "166:\tlearn: 5.4813069\ttotal: 272ms\tremaining: 461ms\n",
      "167:\tlearn: 5.4749108\ttotal: 273ms\tremaining: 459ms\n",
      "168:\tlearn: 5.4694509\ttotal: 275ms\tremaining: 457ms\n",
      "169:\tlearn: 5.4631172\ttotal: 277ms\tremaining: 455ms\n",
      "170:\tlearn: 5.4588026\ttotal: 278ms\tremaining: 454ms\n",
      "171:\tlearn: 5.4549512\ttotal: 280ms\tremaining: 452ms\n",
      "172:\tlearn: 5.4496196\ttotal: 281ms\tremaining: 450ms\n",
      "173:\tlearn: 5.4445740\ttotal: 283ms\tremaining: 448ms\n",
      "174:\tlearn: 5.4394092\ttotal: 284ms\tremaining: 447ms\n",
      "175:\tlearn: 5.4335931\ttotal: 286ms\tremaining: 445ms\n",
      "176:\tlearn: 5.4293578\ttotal: 287ms\tremaining: 443ms\n",
      "177:\tlearn: 5.4240390\ttotal: 289ms\tremaining: 441ms\n",
      "178:\tlearn: 5.4211882\ttotal: 290ms\tremaining: 440ms\n",
      "179:\tlearn: 5.4173791\ttotal: 292ms\tremaining: 438ms\n",
      "180:\tlearn: 5.4149415\ttotal: 293ms\tremaining: 436ms\n",
      "181:\tlearn: 5.4131735\ttotal: 295ms\tremaining: 434ms\n",
      "182:\tlearn: 5.4092978\ttotal: 297ms\tremaining: 433ms\n",
      "183:\tlearn: 5.4066506\ttotal: 298ms\tremaining: 431ms\n",
      "184:\tlearn: 5.4046879\ttotal: 300ms\tremaining: 430ms\n",
      "185:\tlearn: 5.4017574\ttotal: 302ms\tremaining: 428ms\n",
      "186:\tlearn: 5.3972976\ttotal: 304ms\tremaining: 427ms\n",
      "187:\tlearn: 5.3918895\ttotal: 305ms\tremaining: 425ms\n",
      "188:\tlearn: 5.3887978\ttotal: 307ms\tremaining: 424ms\n",
      "189:\tlearn: 5.3864592\ttotal: 309ms\tremaining: 422ms\n",
      "190:\tlearn: 5.3841988\ttotal: 310ms\tremaining: 421ms\n",
      "191:\tlearn: 5.3803459\ttotal: 312ms\tremaining: 419ms\n",
      "192:\tlearn: 5.3765005\ttotal: 313ms\tremaining: 417ms\n",
      "193:\tlearn: 5.3720327\ttotal: 315ms\tremaining: 416ms\n",
      "194:\tlearn: 5.3700928\ttotal: 317ms\tremaining: 414ms\n",
      "195:\tlearn: 5.3665059\ttotal: 318ms\tremaining: 412ms\n",
      "196:\tlearn: 5.3630192\ttotal: 320ms\tremaining: 411ms\n",
      "197:\tlearn: 5.3571967\ttotal: 322ms\tremaining: 409ms\n",
      "198:\tlearn: 5.3549660\ttotal: 323ms\tremaining: 408ms\n",
      "199:\tlearn: 5.3493094\ttotal: 325ms\tremaining: 406ms\n",
      "200:\tlearn: 5.3451802\ttotal: 326ms\tremaining: 404ms\n",
      "201:\tlearn: 5.3415975\ttotal: 328ms\tremaining: 403ms\n",
      "202:\tlearn: 5.3376427\ttotal: 329ms\tremaining: 401ms\n",
      "203:\tlearn: 5.3333713\ttotal: 331ms\tremaining: 399ms\n",
      "204:\tlearn: 5.3299111\ttotal: 333ms\tremaining: 398ms\n",
      "205:\tlearn: 5.3266112\ttotal: 334ms\tremaining: 396ms\n",
      "206:\tlearn: 5.3241681\ttotal: 336ms\tremaining: 394ms\n",
      "207:\tlearn: 5.3215659\ttotal: 337ms\tremaining: 393ms\n",
      "208:\tlearn: 5.3195584\ttotal: 339ms\tremaining: 391ms\n",
      "209:\tlearn: 5.3176676\ttotal: 340ms\tremaining: 389ms\n",
      "210:\tlearn: 5.3157942\ttotal: 342ms\tremaining: 388ms\n",
      "211:\tlearn: 5.3112078\ttotal: 344ms\tremaining: 386ms\n",
      "212:\tlearn: 5.3094355\ttotal: 346ms\tremaining: 385ms\n",
      "213:\tlearn: 5.3030362\ttotal: 347ms\tremaining: 383ms\n",
      "214:\tlearn: 5.2994365\ttotal: 349ms\tremaining: 382ms\n",
      "215:\tlearn: 5.2943714\ttotal: 351ms\tremaining: 380ms\n",
      "216:\tlearn: 5.2923610\ttotal: 352ms\tremaining: 378ms\n",
      "217:\tlearn: 5.2902925\ttotal: 354ms\tremaining: 377ms\n",
      "218:\tlearn: 5.2883294\ttotal: 356ms\tremaining: 376ms\n",
      "219:\tlearn: 5.2860092\ttotal: 358ms\tremaining: 374ms\n",
      "220:\tlearn: 5.2828187\ttotal: 360ms\tremaining: 373ms\n",
      "221:\tlearn: 5.2806020\ttotal: 362ms\tremaining: 371ms\n",
      "222:\tlearn: 5.2771212\ttotal: 363ms\tremaining: 370ms\n",
      "223:\tlearn: 5.2745619\ttotal: 365ms\tremaining: 368ms\n",
      "224:\tlearn: 5.2700360\ttotal: 366ms\tremaining: 366ms\n",
      "225:\tlearn: 5.2648029\ttotal: 368ms\tremaining: 365ms\n",
      "226:\tlearn: 5.2636413\ttotal: 369ms\tremaining: 363ms\n",
      "227:\tlearn: 5.2605027\ttotal: 371ms\tremaining: 361ms\n",
      "228:\tlearn: 5.2579134\ttotal: 372ms\tremaining: 359ms\n",
      "229:\tlearn: 5.2551573\ttotal: 374ms\tremaining: 358ms\n",
      "230:\tlearn: 5.2512135\ttotal: 376ms\tremaining: 356ms\n",
      "231:\tlearn: 5.2476431\ttotal: 377ms\tremaining: 355ms\n",
      "232:\tlearn: 5.2432982\ttotal: 379ms\tremaining: 353ms\n",
      "233:\tlearn: 5.2409780\ttotal: 381ms\tremaining: 351ms\n",
      "234:\tlearn: 5.2356920\ttotal: 382ms\tremaining: 350ms\n",
      "235:\tlearn: 5.2329957\ttotal: 384ms\tremaining: 348ms\n",
      "236:\tlearn: 5.2304417\ttotal: 386ms\tremaining: 347ms\n",
      "237:\tlearn: 5.2271076\ttotal: 387ms\tremaining: 345ms\n",
      "238:\tlearn: 5.2242581\ttotal: 389ms\tremaining: 343ms\n",
      "239:\tlearn: 5.2221881\ttotal: 391ms\tremaining: 342ms\n",
      "240:\tlearn: 5.2190849\ttotal: 392ms\tremaining: 340ms\n",
      "241:\tlearn: 5.2170195\ttotal: 394ms\tremaining: 339ms\n",
      "242:\tlearn: 5.2148272\ttotal: 396ms\tremaining: 337ms\n",
      "243:\tlearn: 5.2112846\ttotal: 397ms\tremaining: 335ms\n",
      "244:\tlearn: 5.2101446\ttotal: 399ms\tremaining: 334ms\n",
      "245:\tlearn: 5.2065563\ttotal: 401ms\tremaining: 333ms\n",
      "246:\tlearn: 5.2036234\ttotal: 403ms\tremaining: 331ms\n",
      "247:\tlearn: 5.2027380\ttotal: 404ms\tremaining: 329ms\n",
      "248:\tlearn: 5.1987920\ttotal: 406ms\tremaining: 328ms\n",
      "249:\tlearn: 5.1948576\ttotal: 408ms\tremaining: 326ms\n",
      "250:\tlearn: 5.1923803\ttotal: 410ms\tremaining: 325ms\n",
      "251:\tlearn: 5.1902591\ttotal: 411ms\tremaining: 323ms\n",
      "252:\tlearn: 5.1856890\ttotal: 413ms\tremaining: 321ms\n",
      "253:\tlearn: 5.1836224\ttotal: 414ms\tremaining: 320ms\n",
      "254:\tlearn: 5.1798240\ttotal: 416ms\tremaining: 318ms\n",
      "255:\tlearn: 5.1760490\ttotal: 418ms\tremaining: 316ms\n",
      "256:\tlearn: 5.1743729\ttotal: 419ms\tremaining: 315ms\n",
      "257:\tlearn: 5.1718257\ttotal: 421ms\tremaining: 313ms\n",
      "258:\tlearn: 5.1700323\ttotal: 422ms\tremaining: 311ms\n",
      "259:\tlearn: 5.1661630\ttotal: 424ms\tremaining: 310ms\n",
      "260:\tlearn: 5.1634298\ttotal: 425ms\tremaining: 308ms\n",
      "261:\tlearn: 5.1583399\ttotal: 427ms\tremaining: 306ms\n",
      "262:\tlearn: 5.1554254\ttotal: 429ms\tremaining: 305ms\n",
      "263:\tlearn: 5.1513290\ttotal: 430ms\tremaining: 303ms\n",
      "264:\tlearn: 5.1464126\ttotal: 432ms\tremaining: 302ms\n",
      "265:\tlearn: 5.1446097\ttotal: 433ms\tremaining: 300ms\n",
      "266:\tlearn: 5.1410995\ttotal: 435ms\tremaining: 298ms\n",
      "267:\tlearn: 5.1405061\ttotal: 437ms\tremaining: 297ms\n",
      "268:\tlearn: 5.1365496\ttotal: 438ms\tremaining: 295ms\n",
      "269:\tlearn: 5.1339233\ttotal: 440ms\tremaining: 293ms\n",
      "270:\tlearn: 5.1313665\ttotal: 441ms\tremaining: 292ms\n",
      "271:\tlearn: 5.1288273\ttotal: 443ms\tremaining: 290ms\n",
      "272:\tlearn: 5.1270524\ttotal: 444ms\tremaining: 288ms\n",
      "273:\tlearn: 5.1247838\ttotal: 446ms\tremaining: 287ms\n",
      "274:\tlearn: 5.1233349\ttotal: 448ms\tremaining: 285ms\n",
      "275:\tlearn: 5.1215414\ttotal: 449ms\tremaining: 283ms\n",
      "276:\tlearn: 5.1194018\ttotal: 451ms\tremaining: 281ms\n",
      "277:\tlearn: 5.1171839\ttotal: 452ms\tremaining: 280ms\n",
      "278:\tlearn: 5.1141987\ttotal: 454ms\tremaining: 278ms\n",
      "279:\tlearn: 5.1106297\ttotal: 455ms\tremaining: 276ms\n",
      "280:\tlearn: 5.1091933\ttotal: 457ms\tremaining: 275ms\n",
      "281:\tlearn: 5.1068296\ttotal: 458ms\tremaining: 273ms\n",
      "282:\tlearn: 5.1041491\ttotal: 460ms\tremaining: 271ms\n",
      "283:\tlearn: 5.0999201\ttotal: 461ms\tremaining: 270ms\n",
      "284:\tlearn: 5.0971266\ttotal: 463ms\tremaining: 268ms\n",
      "285:\tlearn: 5.0924316\ttotal: 465ms\tremaining: 267ms\n",
      "286:\tlearn: 5.0885260\ttotal: 467ms\tremaining: 265ms\n",
      "287:\tlearn: 5.0861564\ttotal: 469ms\tremaining: 264ms\n",
      "288:\tlearn: 5.0849118\ttotal: 471ms\tremaining: 262ms\n",
      "289:\tlearn: 5.0825927\ttotal: 473ms\tremaining: 261ms\n",
      "290:\tlearn: 5.0798051\ttotal: 474ms\tremaining: 259ms\n",
      "291:\tlearn: 5.0770049\ttotal: 476ms\tremaining: 258ms\n",
      "292:\tlearn: 5.0739677\ttotal: 478ms\tremaining: 256ms\n",
      "293:\tlearn: 5.0704439\ttotal: 480ms\tremaining: 255ms\n",
      "294:\tlearn: 5.0675583\ttotal: 481ms\tremaining: 253ms\n",
      "295:\tlearn: 5.0645214\ttotal: 483ms\tremaining: 251ms\n",
      "296:\tlearn: 5.0626411\ttotal: 485ms\tremaining: 250ms\n",
      "297:\tlearn: 5.0585508\ttotal: 486ms\tremaining: 248ms\n",
      "298:\tlearn: 5.0558490\ttotal: 488ms\tremaining: 246ms\n",
      "299:\tlearn: 5.0528774\ttotal: 490ms\tremaining: 245ms\n",
      "300:\tlearn: 5.0505450\ttotal: 492ms\tremaining: 243ms\n",
      "301:\tlearn: 5.0481729\ttotal: 494ms\tremaining: 242ms\n",
      "302:\tlearn: 5.0452631\ttotal: 496ms\tremaining: 240ms\n",
      "303:\tlearn: 5.0412232\ttotal: 498ms\tremaining: 239ms\n",
      "304:\tlearn: 5.0371862\ttotal: 499ms\tremaining: 237ms\n",
      "305:\tlearn: 5.0335026\ttotal: 501ms\tremaining: 236ms\n",
      "306:\tlearn: 5.0305449\ttotal: 503ms\tremaining: 234ms\n",
      "307:\tlearn: 5.0284555\ttotal: 505ms\tremaining: 233ms\n",
      "308:\tlearn: 5.0255841\ttotal: 506ms\tremaining: 231ms\n",
      "309:\tlearn: 5.0236273\ttotal: 508ms\tremaining: 229ms\n",
      "310:\tlearn: 5.0218231\ttotal: 509ms\tremaining: 228ms\n",
      "311:\tlearn: 5.0180404\ttotal: 511ms\tremaining: 226ms\n",
      "312:\tlearn: 5.0153058\ttotal: 513ms\tremaining: 224ms\n",
      "313:\tlearn: 5.0131809\ttotal: 514ms\tremaining: 223ms\n",
      "314:\tlearn: 5.0102954\ttotal: 516ms\tremaining: 221ms\n",
      "315:\tlearn: 5.0074655\ttotal: 518ms\tremaining: 219ms\n",
      "316:\tlearn: 5.0033298\ttotal: 519ms\tremaining: 218ms\n",
      "317:\tlearn: 5.0008518\ttotal: 521ms\tremaining: 216ms\n",
      "318:\tlearn: 5.0002528\ttotal: 523ms\tremaining: 215ms\n",
      "319:\tlearn: 4.9987240\ttotal: 525ms\tremaining: 213ms\n",
      "320:\tlearn: 4.9948450\ttotal: 528ms\tremaining: 212ms\n",
      "321:\tlearn: 4.9929030\ttotal: 529ms\tremaining: 210ms\n",
      "322:\tlearn: 4.9901270\ttotal: 532ms\tremaining: 209ms\n",
      "323:\tlearn: 4.9881457\ttotal: 533ms\tremaining: 207ms\n",
      "324:\tlearn: 4.9867965\ttotal: 535ms\tremaining: 206ms\n",
      "325:\tlearn: 4.9852232\ttotal: 537ms\tremaining: 204ms\n",
      "326:\tlearn: 4.9831426\ttotal: 539ms\tremaining: 203ms\n",
      "327:\tlearn: 4.9811485\ttotal: 540ms\tremaining: 201ms\n",
      "328:\tlearn: 4.9793754\ttotal: 542ms\tremaining: 199ms\n",
      "329:\tlearn: 4.9747072\ttotal: 543ms\tremaining: 198ms\n",
      "330:\tlearn: 4.9717356\ttotal: 545ms\tremaining: 196ms\n",
      "331:\tlearn: 4.9693635\ttotal: 547ms\tremaining: 194ms\n",
      "332:\tlearn: 4.9671272\ttotal: 548ms\tremaining: 193ms\n",
      "333:\tlearn: 4.9662196\ttotal: 550ms\tremaining: 191ms\n",
      "334:\tlearn: 4.9639094\ttotal: 551ms\tremaining: 189ms\n",
      "335:\tlearn: 4.9595245\ttotal: 553ms\tremaining: 188ms\n",
      "336:\tlearn: 4.9562424\ttotal: 555ms\tremaining: 186ms\n",
      "337:\tlearn: 4.9551264\ttotal: 556ms\tremaining: 184ms\n",
      "338:\tlearn: 4.9524723\ttotal: 558ms\tremaining: 183ms\n",
      "339:\tlearn: 4.9509667\ttotal: 560ms\tremaining: 181ms\n",
      "340:\tlearn: 4.9467117\ttotal: 561ms\tremaining: 179ms\n",
      "341:\tlearn: 4.9452437\ttotal: 563ms\tremaining: 178ms\n",
      "342:\tlearn: 4.9425455\ttotal: 565ms\tremaining: 176ms\n",
      "343:\tlearn: 4.9396502\ttotal: 566ms\tremaining: 175ms\n",
      "344:\tlearn: 4.9377638\ttotal: 568ms\tremaining: 173ms\n",
      "345:\tlearn: 4.9346348\ttotal: 569ms\tremaining: 171ms\n",
      "346:\tlearn: 4.9329522\ttotal: 571ms\tremaining: 170ms\n",
      "347:\tlearn: 4.9294980\ttotal: 573ms\tremaining: 168ms\n",
      "348:\tlearn: 4.9275577\ttotal: 575ms\tremaining: 166ms\n",
      "349:\tlearn: 4.9259314\ttotal: 577ms\tremaining: 165ms\n",
      "350:\tlearn: 4.9237189\ttotal: 579ms\tremaining: 163ms\n",
      "351:\tlearn: 4.9221304\ttotal: 580ms\tremaining: 162ms\n",
      "352:\tlearn: 4.9205399\ttotal: 582ms\tremaining: 160ms\n",
      "353:\tlearn: 4.9183828\ttotal: 584ms\tremaining: 158ms\n",
      "354:\tlearn: 4.9161503\ttotal: 586ms\tremaining: 157ms\n",
      "355:\tlearn: 4.9126073\ttotal: 588ms\tremaining: 155ms\n",
      "356:\tlearn: 4.9104390\ttotal: 590ms\tremaining: 154ms\n",
      "357:\tlearn: 4.9078640\ttotal: 592ms\tremaining: 152ms\n",
      "358:\tlearn: 4.9056418\ttotal: 593ms\tremaining: 150ms\n",
      "359:\tlearn: 4.9022947\ttotal: 595ms\tremaining: 149ms\n",
      "360:\tlearn: 4.9002367\ttotal: 597ms\tremaining: 147ms\n",
      "361:\tlearn: 4.8985748\ttotal: 598ms\tremaining: 145ms\n",
      "362:\tlearn: 4.8974472\ttotal: 600ms\tremaining: 144ms\n",
      "363:\tlearn: 4.8942343\ttotal: 602ms\tremaining: 142ms\n",
      "364:\tlearn: 4.8900482\ttotal: 604ms\tremaining: 141ms\n",
      "365:\tlearn: 4.8871686\ttotal: 606ms\tremaining: 139ms\n",
      "366:\tlearn: 4.8846150\ttotal: 608ms\tremaining: 137ms\n",
      "367:\tlearn: 4.8814796\ttotal: 609ms\tremaining: 136ms\n",
      "368:\tlearn: 4.8795348\ttotal: 611ms\tremaining: 134ms\n",
      "369:\tlearn: 4.8781306\ttotal: 613ms\tremaining: 132ms\n",
      "370:\tlearn: 4.8756987\ttotal: 614ms\tremaining: 131ms\n",
      "371:\tlearn: 4.8724869\ttotal: 617ms\tremaining: 129ms\n",
      "372:\tlearn: 4.8696753\ttotal: 618ms\tremaining: 128ms\n",
      "373:\tlearn: 4.8666164\ttotal: 620ms\tremaining: 126ms\n",
      "374:\tlearn: 4.8614928\ttotal: 622ms\tremaining: 124ms\n",
      "375:\tlearn: 4.8606014\ttotal: 623ms\tremaining: 123ms\n",
      "376:\tlearn: 4.8580714\ttotal: 625ms\tremaining: 121ms\n",
      "377:\tlearn: 4.8568629\ttotal: 627ms\tremaining: 119ms\n",
      "378:\tlearn: 4.8541404\ttotal: 628ms\tremaining: 118ms\n",
      "379:\tlearn: 4.8526456\ttotal: 630ms\tremaining: 116ms\n",
      "380:\tlearn: 4.8495354\ttotal: 631ms\tremaining: 114ms\n",
      "381:\tlearn: 4.8469185\ttotal: 633ms\tremaining: 113ms\n",
      "382:\tlearn: 4.8423662\ttotal: 635ms\tremaining: 111ms\n",
      "383:\tlearn: 4.8391768\ttotal: 636ms\tremaining: 109ms\n",
      "384:\tlearn: 4.8332812\ttotal: 638ms\tremaining: 108ms\n",
      "385:\tlearn: 4.8288482\ttotal: 640ms\tremaining: 106ms\n",
      "386:\tlearn: 4.8276156\ttotal: 642ms\tremaining: 104ms\n",
      "387:\tlearn: 4.8261466\ttotal: 643ms\tremaining: 103ms\n",
      "388:\tlearn: 4.8242761\ttotal: 645ms\tremaining: 101ms\n",
      "389:\tlearn: 4.8225307\ttotal: 647ms\tremaining: 99.5ms\n",
      "390:\tlearn: 4.8190858\ttotal: 648ms\tremaining: 97.8ms\n",
      "391:\tlearn: 4.8169070\ttotal: 650ms\tremaining: 96.2ms\n",
      "392:\tlearn: 4.8140868\ttotal: 652ms\tremaining: 94.6ms\n",
      "393:\tlearn: 4.8122973\ttotal: 654ms\tremaining: 92.9ms\n",
      "394:\tlearn: 4.8109677\ttotal: 655ms\tremaining: 91.2ms\n",
      "395:\tlearn: 4.8102387\ttotal: 657ms\tremaining: 89.6ms\n",
      "396:\tlearn: 4.8063668\ttotal: 658ms\tremaining: 87.9ms\n",
      "397:\tlearn: 4.8036433\ttotal: 660ms\tremaining: 86.3ms\n",
      "398:\tlearn: 4.8015273\ttotal: 662ms\tremaining: 84.6ms\n",
      "399:\tlearn: 4.7981272\ttotal: 664ms\tremaining: 83ms\n",
      "400:\tlearn: 4.7954372\ttotal: 666ms\tremaining: 81.4ms\n",
      "401:\tlearn: 4.7923021\ttotal: 668ms\tremaining: 79.7ms\n",
      "402:\tlearn: 4.7900013\ttotal: 669ms\tremaining: 78ms\n",
      "403:\tlearn: 4.7882757\ttotal: 671ms\tremaining: 76.4ms\n",
      "404:\tlearn: 4.7862212\ttotal: 672ms\tremaining: 74.7ms\n",
      "405:\tlearn: 4.7823260\ttotal: 674ms\tremaining: 73.1ms\n",
      "406:\tlearn: 4.7793774\ttotal: 676ms\tremaining: 71.4ms\n",
      "407:\tlearn: 4.7768510\ttotal: 677ms\tremaining: 69.7ms\n",
      "408:\tlearn: 4.7754912\ttotal: 679ms\tremaining: 68.1ms\n",
      "409:\tlearn: 4.7726684\ttotal: 681ms\tremaining: 66.4ms\n",
      "410:\tlearn: 4.7687558\ttotal: 683ms\tremaining: 64.8ms\n",
      "411:\tlearn: 4.7670160\ttotal: 684ms\tremaining: 63.1ms\n",
      "412:\tlearn: 4.7659349\ttotal: 686ms\tremaining: 61.5ms\n",
      "413:\tlearn: 4.7651933\ttotal: 688ms\tremaining: 59.8ms\n",
      "414:\tlearn: 4.7634785\ttotal: 690ms\tremaining: 58.2ms\n",
      "415:\tlearn: 4.7621440\ttotal: 691ms\tremaining: 56.5ms\n",
      "416:\tlearn: 4.7608721\ttotal: 693ms\tremaining: 54.8ms\n",
      "417:\tlearn: 4.7579432\ttotal: 694ms\tremaining: 53.2ms\n",
      "418:\tlearn: 4.7559155\ttotal: 696ms\tremaining: 51.5ms\n",
      "419:\tlearn: 4.7551679\ttotal: 698ms\tremaining: 49.8ms\n",
      "420:\tlearn: 4.7528351\ttotal: 699ms\tremaining: 48.2ms\n",
      "421:\tlearn: 4.7491246\ttotal: 701ms\tremaining: 46.5ms\n",
      "422:\tlearn: 4.7474023\ttotal: 703ms\tremaining: 44.9ms\n",
      "423:\tlearn: 4.7461319\ttotal: 704ms\tremaining: 43.2ms\n",
      "424:\tlearn: 4.7447473\ttotal: 706ms\tremaining: 41.5ms\n",
      "425:\tlearn: 4.7404539\ttotal: 707ms\tremaining: 39.9ms\n",
      "426:\tlearn: 4.7384822\ttotal: 709ms\tremaining: 38.2ms\n",
      "427:\tlearn: 4.7370578\ttotal: 711ms\tremaining: 36.5ms\n",
      "428:\tlearn: 4.7356648\ttotal: 712ms\tremaining: 34.9ms\n",
      "429:\tlearn: 4.7334288\ttotal: 714ms\tremaining: 33.2ms\n",
      "430:\tlearn: 4.7303908\ttotal: 716ms\tremaining: 31.6ms\n",
      "431:\tlearn: 4.7294336\ttotal: 717ms\tremaining: 29.9ms\n",
      "432:\tlearn: 4.7277901\ttotal: 719ms\tremaining: 28.2ms\n",
      "433:\tlearn: 4.7270541\ttotal: 720ms\tremaining: 26.6ms\n",
      "434:\tlearn: 4.7254460\ttotal: 722ms\tremaining: 24.9ms\n",
      "435:\tlearn: 4.7231544\ttotal: 724ms\tremaining: 23.2ms\n",
      "436:\tlearn: 4.7222421\ttotal: 726ms\tremaining: 21.6ms\n",
      "437:\tlearn: 4.7203445\ttotal: 727ms\tremaining: 19.9ms\n",
      "438:\tlearn: 4.7160136\ttotal: 729ms\tremaining: 18.3ms\n",
      "439:\tlearn: 4.7150063\ttotal: 731ms\tremaining: 16.6ms\n",
      "440:\tlearn: 4.7137779\ttotal: 732ms\tremaining: 14.9ms\n",
      "441:\tlearn: 4.7120105\ttotal: 734ms\tremaining: 13.3ms\n",
      "442:\tlearn: 4.7091722\ttotal: 736ms\tremaining: 11.6ms\n",
      "443:\tlearn: 4.7058747\ttotal: 737ms\tremaining: 9.96ms\n",
      "444:\tlearn: 4.7046264\ttotal: 739ms\tremaining: 8.3ms\n",
      "445:\tlearn: 4.7035727\ttotal: 741ms\tremaining: 6.64ms\n",
      "446:\tlearn: 4.7020854\ttotal: 743ms\tremaining: 4.98ms\n",
      "447:\tlearn: 4.6999786\ttotal: 744ms\tremaining: 3.32ms\n",
      "448:\tlearn: 4.6988024\ttotal: 746ms\tremaining: 1.66ms\n",
      "449:\tlearn: 4.6972515\ttotal: 748ms\tremaining: 0us\n"
     ]
    }
   ],
   "source": [
    "cat_model = CatBoostRegressor(random_state=RANDOM_STATE, \n",
    "                              loss_function=\"MAE\", \n",
    "                              depth=5, l2_leaf_reg=3, \n",
    "                              iterations=450, learning_rate=0.03\n",
    "                             )\n",
    "\n",
    "cat_model.fit(features_train, target_train)\n",
    "\n",
    "cat_prediction = cat_model.predict(features_test)\n",
    "\n",
    "cat_mae = mean_absolute_error(target_test, cat_prediction)\n",
    "\n"
   ]
  },
  {
   "cell_type": "code",
   "execution_count": 75,
   "metadata": {},
   "outputs": [
    {
     "name": "stdout",
     "output_type": "stream",
     "text": [
      "MAE на тестовой выборке: 6.623187942485103\n"
     ]
    }
   ],
   "source": [
    "print('MAE на тестовой выборке:', cat_mae)"
   ]
  },
  {
   "cell_type": "markdown",
   "metadata": {},
   "source": [
    "**Выводы**\n",
    "\n",
    "- Лучшая модель  CatBoost c парамметрами {'depth': 5, 'iterations': 450, 'l2_leaf_reg': 3, 'learning_rate': 0.03} показала на тестовой выборке MAE = 6.62, что удовлитворяет поставленной задаче."
   ]
  },
  {
   "cell_type": "markdown",
   "metadata": {},
   "source": [
    "## Проверка значимости признаков"
   ]
  },
  {
   "cell_type": "code",
   "execution_count": 76,
   "metadata": {},
   "outputs": [],
   "source": [
    "explainer = shap.Explainer(cat_model)"
   ]
  },
  {
   "cell_type": "code",
   "execution_count": 77,
   "metadata": {},
   "outputs": [],
   "source": [
    "shap_values = explainer.shap_values(features_train)"
   ]
  },
  {
   "cell_type": "code",
   "execution_count": 78,
   "metadata": {},
   "outputs": [
    {
     "data": {
      "image/png": "[encoded data removed]",
      "text/plain": [
       "<Figure size 576x684 with 2 Axes>"
      ]
     },
     "metadata": {
      "needs_background": "light"
     },
     "output_type": "display_data"
    }
   ],
   "source": [
    "shap.summary_plot(shap_values, features_train, feature_names=feature_names)\n"
   ]
  },
  {
   "cell_type": "markdown",
   "metadata": {},
   "source": [
    "**Вывод**\n",
    "\n",
    "- Наибольшее значение и влияние на модель оказывают признаки Суммарная продолжительность и Начальная температура\n",
    "\n"
   ]
  },
  {
   "cell_type": "markdown",
   "metadata": {},
   "source": [
    "## Отчет"
   ]
  },
  {
   "cell_type": "markdown",
   "metadata": {},
   "source": [
    "**Основные вопросы**\n",
    "\n",
    "- Какие пункты плана были выполнены, а какие нет?\n",
    "- Какие трудности возникли и как вы их преодолели?\n",
    "- Какие ключевые шаги в решении задачи вы выделили?\n",
    "- Какая ваша итоговая модель, какие у неё гиперпараметы и какое качество?"
   ]
  },
  {
   "cell_type": "markdown",
   "metadata": {},
   "source": [
    "**Были выполнены следующие пункты плана**\n",
    "\n",
    "- Загружены данные (датасеты: data_arc_new, data_bulk_new, data_bulk_time_new, data_gas_new, data_temp_new, data_wire_new и data_wire_time_new) и проведенна преобработка\n",
    "- Был сформирован общий датасет для обучения моделей (features) и выделен целевой признак (target)\n",
    "- Проведен анализ на мультиколлинеарность перед моделированием\n",
    "- Проведено моделирование используя LinearRegression, CatBoostRegressor, LGBMRegressor и по метрики MAE определили лучшую модель( CatBoost {'depth': 5, 'iterations': 450, 'l2_leaf_reg': 3, 'learning_rate': 0.03}) \n",
    "- Сделали окончательные выводы по результатам на тестовой выборке лучшей модели CatBoost. MAE = 6.62\n",
    "- Сделали анализ важности факторов SHAP у лучшей модели."
   ]
  },
  {
   "cell_type": "markdown",
   "metadata": {},
   "source": [
    "**Возникли следующие трудности**\n",
    "\n",
    "- Было не сразу понятно по пропускам в датасетах и где взять целевой признак. Понимание было достигнуто на первой встрече с тимлидом Николаем.\n",
    "- Было не понятно как обработать признаки мощности (активная, реактивная). Понимание было достигнуто на первой встрече с тимлидом Николаем. Решение - ввели Полную мощность и убрали Активную с Реактивной."
   ]
  },
  {
   "cell_type": "markdown",
   "metadata": {},
   "source": [
    "**Мы выделили следующие ключевые шаги**\n",
    "\n",
    "- Загрузка и преобработка датасетов\n",
    "- Формирование датасета с фичами и целевого признака для моделирования\n",
    "- Проверка на мультиколленеарность перед моделированием\n",
    "- Тренировка несколько моделей (LR, CT, LGBM) и пометрики МАЕ отбор лучшей модели\n",
    "- Проверка лучшей модели тестовой выборке на предмет что бы MAE было <= 6.8\n",
    "- Проверка на значимость признаков SHAP для лучшей модели "
   ]
  },
  {
   "cell_type": "markdown",
   "metadata": {},
   "source": [
    "**Итоговая модель**\n",
    "\n",
    "- Лучшие показатели на тренировочных данных по метрики MAE = 6.15 показала модель CatBoost. (RANDOM_STATE = 22052023)\n",
    "- Лучшие параметры для CatBoost {'depth': 5, 'iterations': 450, 'l2_leaf_reg': 3, 'learning_rate': 0.03} опрпеделены с помощью GridSearchCV\n",
    "- CatBoost {'depth': 5, 'iterations': 450, 'l2_leaf_reg': 3, 'learning_rate': 0.03} показала на тестовой выборке МАЕ=6.62"
   ]
  },
  {
   "cell_type": "markdown",
   "metadata": {},
   "source": [
    "**Список признаков (по значимости сверху вниз) и их предобработка**\n",
    "\n",
    "- Суммарная продолжительность: это продолжительность нагрева в минутах. Получили данный признак в датасете data_arc_new путем вычитания из времени конца нагрева дугой времени начала нагрева дугой, а затем группирования по key.\n",
    "- Начальная температура: получили данный признак путем слияния (merge) двух датафреймов data_temp_new и first_temp на основе столбца 'Время замера'. first_temp было получен ранее из data_temp_new \n",
    "- Bulk 6: полумен из data_bulk_new, где пропуски заполнены нулями.\n",
    "- Wire 1: полумен из data_wire_new, где пропуски заполнены нулями.\n",
    "- Wire 2: полумен из data_wire_new, где пропуски заполнены нулями.\n",
    "- Bulk 15: полумен из data_bulk_new, где пропуски заполнены нулями.\n",
    "- Bulk 12: полумен из data_bulk_new, где пропуски заполнены нулями.\n",
    "- Газ 1: полумен из data_gas_new\n",
    "- Bulk 1: полумен из data_bulk_new, где пропуски заполнены нулями.\n",
    "- Bulk 14: полумен из data_bulk_new, где пропуски заполнены нулями.\n",
    "- Полная мощность: получен из data_arc_new по формуле $ S= \\sqrt{Q^2 + P^2} $ \n",
    "- Bulk 4: полумен из data_bulk_new, где пропуски заполнены нулями.\n",
    "- Bulk 3: полумен из data_bulk_new, где пропуски заполнены нулями.\n",
    "- Bulk 11: полумен из data_bulk_new, где пропуски заполнены нулями.\n",
    "- Иттерации нагрева: получен из data_arc_new при группировании по key.\n",
    "- Bulk 10: полумен из data_bulk_new, где пропуски заполнены нулями.\n",
    "- Wire 3: полумен из data_wire_new, где пропуски заполнены нулями.\n",
    "- Bulk 5: полумен из data_bulk_new, где пропуски заполнены нулями.\n",
    "- Wire 6: полумен из data_wire_new, где пропуски заполнены нулями.\n",
    "- Wire 9: полумен из data_wire_new, где пропуски заполнены нулями."
   ]
  },
  {
   "cell_type": "markdown",
   "metadata": {},
   "source": [
    "**Рекомендации для улучшения модели**\n",
    "\n",
    "- Для повышения точности модели можно еще поработать (на предмет аномалий и выбросов например) с признаками Суммарная продолжительность и Начальная температура т.к. они максимально положительно и отрицательно воздействуют на модель.\n",
    "- Можно было бы выделить в отдельную группу данные выходящие за пределы \"нормальности\" так сказать и проанализировать возможные причины влияния с помощью гиппотез и оценок корреляции."
   ]
  }
 ],
 "metadata": {
  "ExecuteTimeLog": [
   {
    "duration": 125,
    "start_time": "2023-05-30T13:21:55.479Z"
   },
   {
    "duration": 3351,
    "start_time": "2023-05-30T20:13:28.295Z"
   },
   {
    "duration": 2421,
    "start_time": "2023-05-30T20:13:31.648Z"
   },
   {
    "duration": 793,
    "start_time": "2023-05-30T20:13:34.072Z"
   },
   {
    "duration": 11,
    "start_time": "2023-05-30T20:13:34.866Z"
   },
   {
    "duration": 43,
    "start_time": "2023-05-30T20:13:34.878Z"
   },
   {
    "duration": 11,
    "start_time": "2023-05-30T20:13:34.922Z"
   },
   {
    "duration": 27,
    "start_time": "2023-05-30T20:13:34.934Z"
   },
   {
    "duration": 50,
    "start_time": "2023-05-30T20:13:34.963Z"
   },
   {
    "duration": 13,
    "start_time": "2023-05-30T20:13:35.015Z"
   },
   {
    "duration": 35,
    "start_time": "2023-05-30T20:13:35.029Z"
   },
   {
    "duration": 23,
    "start_time": "2023-05-30T20:13:35.066Z"
   },
   {
    "duration": 22,
    "start_time": "2023-05-30T20:13:35.090Z"
   },
   {
    "duration": 18,
    "start_time": "2023-05-30T20:13:35.114Z"
   },
   {
    "duration": 22,
    "start_time": "2023-05-30T20:13:35.133Z"
   },
   {
    "duration": 5,
    "start_time": "2023-05-30T20:13:35.156Z"
   },
   {
    "duration": 18,
    "start_time": "2023-05-30T20:13:35.163Z"
   },
   {
    "duration": 17,
    "start_time": "2023-05-30T20:13:35.182Z"
   },
   {
    "duration": 6,
    "start_time": "2023-05-30T20:13:35.200Z"
   },
   {
    "duration": 17,
    "start_time": "2023-05-30T20:13:35.207Z"
   },
   {
    "duration": 30,
    "start_time": "2023-05-30T20:13:35.225Z"
   },
   {
    "duration": 9,
    "start_time": "2023-05-30T20:13:35.257Z"
   },
   {
    "duration": 16,
    "start_time": "2023-05-30T20:13:35.267Z"
   },
   {
    "duration": 30,
    "start_time": "2023-05-30T20:13:35.284Z"
   },
   {
    "duration": 32,
    "start_time": "2023-05-30T20:13:35.316Z"
   },
   {
    "duration": 130,
    "start_time": "2023-05-30T20:13:35.350Z"
   },
   {
    "duration": 120,
    "start_time": "2023-05-30T20:13:35.484Z"
   },
   {
    "duration": 133,
    "start_time": "2023-05-30T20:13:35.608Z"
   },
   {
    "duration": 1701,
    "start_time": "2023-05-30T20:13:35.743Z"
   },
   {
    "duration": 921,
    "start_time": "2023-05-30T20:13:37.446Z"
   },
   {
    "duration": 3,
    "start_time": "2023-05-30T20:13:38.368Z"
   },
   {
    "duration": 152,
    "start_time": "2023-05-30T20:13:38.372Z"
   },
   {
    "duration": 5,
    "start_time": "2023-05-30T20:13:38.525Z"
   },
   {
    "duration": 9,
    "start_time": "2023-05-30T20:13:38.531Z"
   },
   {
    "duration": 11,
    "start_time": "2023-05-30T20:13:38.541Z"
   },
   {
    "duration": 7,
    "start_time": "2023-05-30T20:13:38.553Z"
   },
   {
    "duration": 6,
    "start_time": "2023-05-30T20:13:38.561Z"
   },
   {
    "duration": 17,
    "start_time": "2023-05-30T20:13:38.568Z"
   },
   {
    "duration": 9,
    "start_time": "2023-05-30T20:13:38.586Z"
   },
   {
    "duration": 6,
    "start_time": "2023-05-30T20:13:38.597Z"
   },
   {
    "duration": 11,
    "start_time": "2023-05-30T20:13:38.605Z"
   },
   {
    "duration": 3,
    "start_time": "2023-05-30T20:13:38.617Z"
   },
   {
    "duration": 7,
    "start_time": "2023-05-30T20:13:38.621Z"
   },
   {
    "duration": 15,
    "start_time": "2023-05-30T20:13:38.629Z"
   },
   {
    "duration": 7,
    "start_time": "2023-05-30T20:13:38.646Z"
   },
   {
    "duration": 32,
    "start_time": "2023-05-30T20:13:38.654Z"
   },
   {
    "duration": 2,
    "start_time": "2023-05-30T20:13:38.688Z"
   },
   {
    "duration": 14,
    "start_time": "2023-05-30T20:13:38.691Z"
   },
   {
    "duration": 16,
    "start_time": "2023-05-30T20:13:38.706Z"
   },
   {
    "duration": 16,
    "start_time": "2023-05-30T20:13:38.723Z"
   },
   {
    "duration": 11,
    "start_time": "2023-05-30T20:13:38.740Z"
   },
   {
    "duration": 4,
    "start_time": "2023-05-30T20:13:38.752Z"
   },
   {
    "duration": 18,
    "start_time": "2023-05-30T20:13:38.784Z"
   },
   {
    "duration": 5,
    "start_time": "2023-05-30T20:13:38.803Z"
   },
   {
    "duration": 21,
    "start_time": "2023-05-30T20:13:38.810Z"
   },
   {
    "duration": 22,
    "start_time": "2023-05-30T20:13:38.833Z"
   },
   {
    "duration": 28,
    "start_time": "2023-05-30T20:13:38.856Z"
   },
   {
    "duration": 2489,
    "start_time": "2023-05-30T20:13:38.886Z"
   },
   {
    "duration": 4,
    "start_time": "2023-05-30T20:13:41.378Z"
   },
   {
    "duration": 15,
    "start_time": "2023-05-30T20:13:41.384Z"
   },
   {
    "duration": 7,
    "start_time": "2023-05-30T20:13:41.401Z"
   },
   {
    "duration": 7,
    "start_time": "2023-05-30T20:13:41.410Z"
   },
   {
    "duration": 5,
    "start_time": "2023-05-30T20:13:41.419Z"
   },
   {
    "duration": 12,
    "start_time": "2023-05-30T20:13:41.426Z"
   },
   {
    "duration": 4,
    "start_time": "2023-05-30T20:13:41.440Z"
   },
   {
    "duration": 12,
    "start_time": "2023-05-30T20:13:41.445Z"
   },
   {
    "duration": 131,
    "start_time": "2023-05-30T20:13:41.458Z"
   },
   {
    "duration": 5,
    "start_time": "2023-05-30T20:13:41.593Z"
   },
   {
    "duration": 15717,
    "start_time": "2023-05-30T20:13:41.600Z"
   },
   {
    "duration": 3,
    "start_time": "2023-05-30T20:13:57.318Z"
   },
   {
    "duration": 1779,
    "start_time": "2023-05-30T20:13:57.322Z"
   },
   {
    "duration": 3,
    "start_time": "2023-05-30T20:13:59.102Z"
   },
   {
    "duration": 12,
    "start_time": "2023-05-30T20:13:59.106Z"
   },
   {
    "duration": 69,
    "start_time": "2023-05-30T20:13:59.119Z"
   },
   {
    "duration": 1353,
    "start_time": "2023-05-30T20:13:59.190Z"
   },
   {
    "duration": 3,
    "start_time": "2023-05-30T20:14:00.544Z"
   },
   {
    "duration": 33,
    "start_time": "2023-05-30T20:14:00.548Z"
   },
   {
    "duration": 285,
    "start_time": "2023-05-30T20:14:00.582Z"
   },
   {
    "duration": 1131,
    "start_time": "2023-05-30T20:14:00.868Z"
   }
  ],
  "kernelspec": {
   "display_name": "Python 3 (ipykernel)",
   "language": "python",
   "name": "python3"
  },
  "language_info": {
   "codemirror_mode": {
    "name": "ipython",
    "version": 3
   },
   "file_extension": ".py",
   "mimetype": "text/x-python",
   "name": "python",
   "nbconvert_exporter": "python",
   "pygments_lexer": "ipython3",
   "version": "3.9.12"
  },
  "toc": {
   "base_numbering": 1,
   "nav_menu": {},
   "number_sections": true,
   "sideBar": true,
   "skip_h1_title": true,
   "title_cell": "Table of Contents",
   "title_sidebar": "Contents",
   "toc_cell": false,
   "toc_position": {},
   "toc_section_display": true,
   "toc_window_display": false
  }
 },
 "nbformat": 4,
 "nbformat_minor": 2
}

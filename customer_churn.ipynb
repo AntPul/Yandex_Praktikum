{
 "cells": [
  {
   "cell_type": "markdown",
   "metadata": {},
   "source": [
    "# Отток клиентов"
   ]
  },
  {
   "cell_type": "markdown",
   "metadata": {},
   "source": [
    "Из «Бета-Банка» стали уходить клиенты. Каждый месяц. Немного, но заметно. Банковские маркетологи посчитали: сохранять текущих клиентов дешевле, чем привлекать новых.\n",
    "\n",
    "Нужно спрогнозировать, уйдёт клиент из банка в ближайшее время или нет. Вам предоставлены исторические данные о поведении клиентов и расторжении договоров с банком. \n",
    "\n",
    "Постройте модель с предельно большим значением *F1*-меры. Чтобы сдать проект успешно, нужно довести метрику до 0.59. Проверьте *F1*-меру на тестовой выборке самостоятельно.\n",
    "\n",
    "Дополнительно измеряйте *AUC-ROC*, сравнивайте её значение с *F1*-мерой.\n",
    "\n",
    "Источник данных: [https://www.kaggle.com/barelydedicated/bank-customer-churn-modeling](https://www.kaggle.com/barelydedicated/bank-customer-churn-modeling)"
   ]
  },
  {
   "cell_type": "markdown",
   "metadata": {},
   "source": [
    "## Подготовка данных"
   ]
  },
  {
   "cell_type": "code",
   "execution_count": 78,
   "metadata": {
    "scrolled": true
   },
   "outputs": [
    {
     "name": "stdout",
     "output_type": "stream",
     "text": [
      "Collecting scikit-learn==1.1.3\n",
      "  Using cached scikit_learn-1.1.3-cp39-cp39-manylinux_2_17_x86_64.manylinux2014_x86_64.whl (30.8 MB)\n",
      "Requirement already satisfied: scipy>=1.3.2 in /opt/conda/lib/python3.9/site-packages (from scikit-learn==1.1.3) (1.9.1)\n",
      "Requirement already satisfied: threadpoolctl>=2.0.0 in /opt/conda/lib/python3.9/site-packages (from scikit-learn==1.1.3) (3.1.0)\n",
      "Requirement already satisfied: numpy>=1.17.3 in /opt/conda/lib/python3.9/site-packages (from scikit-learn==1.1.3) (1.21.1)\n",
      "Requirement already satisfied: joblib>=1.0.0 in /opt/conda/lib/python3.9/site-packages (from scikit-learn==1.1.3) (1.2.0)\n",
      "Installing collected packages: scikit-learn\n",
      "  Attempting uninstall: scikit-learn\n",
      "    Found existing installation: scikit-learn 1.2.0\n",
      "    Uninstalling scikit-learn-1.2.0:\n",
      "      Successfully uninstalled scikit-learn-1.2.0\n",
      "Successfully installed scikit-learn-1.1.3\n"
     ]
    }
   ],
   "source": [
    "!pip install scikit-learn==1.1.3"
   ]
  },
  {
   "cell_type": "code",
   "execution_count": 79,
   "metadata": {},
   "outputs": [
    {
     "name": "stdout",
     "output_type": "stream",
     "text": [
      "Requirement already satisfied: scikit-learn in /opt/conda/lib/python3.9/site-packages (1.1.3)\n",
      "Collecting scikit-learn\n",
      "  Using cached scikit_learn-1.2.0-cp39-cp39-manylinux_2_17_x86_64.manylinux2014_x86_64.whl (9.5 MB)\n",
      "Requirement already satisfied: threadpoolctl>=2.0.0 in /opt/conda/lib/python3.9/site-packages (from scikit-learn) (3.1.0)\n",
      "Requirement already satisfied: numpy>=1.17.3 in /opt/conda/lib/python3.9/site-packages (from scikit-learn) (1.21.1)\n",
      "Requirement already satisfied: joblib>=1.1.1 in /opt/conda/lib/python3.9/site-packages (from scikit-learn) (1.2.0)\n",
      "Requirement already satisfied: scipy>=1.3.2 in /opt/conda/lib/python3.9/site-packages (from scikit-learn) (1.9.1)\n",
      "Installing collected packages: scikit-learn\n",
      "  Attempting uninstall: scikit-learn\n",
      "    Found existing installation: scikit-learn 1.1.3\n",
      "    Uninstalling scikit-learn-1.1.3:\n",
      "      Successfully uninstalled scikit-learn-1.1.3\n",
      "Successfully installed scikit-learn-1.2.0\n",
      "Note: you may need to restart the kernel to use updated packages.\n"
     ]
    }
   ],
   "source": [
    "pip install -U scikit-learn"
   ]
  },
  {
   "cell_type": "code",
   "execution_count": 80,
   "metadata": {},
   "outputs": [],
   "source": [
    "import pandas as pd\n",
    "import numpy as np\n",
    "import matplotlib.pyplot as plt\n",
    "import warnings\n",
    "\n",
    "from sklearn.model_selection import (\n",
    "    GridSearchCV, \n",
    "    RandomizedSearchCV,\n",
    "    train_test_split\n",
    ")\n",
    "\n",
    "from sklearn.tree import DecisionTreeClassifier\n",
    "from sklearn.ensemble import RandomForestClassifier\n",
    "\n",
    "\n",
    "from sklearn.linear_model import (\n",
    "    LinearRegression, \n",
    "    LogisticRegression,\n",
    "    Ridge\n",
    ")\n",
    "\n",
    "from sklearn.preprocessing import (\n",
    "    OneHotEncoder,\n",
    "    OrdinalEncoder,\n",
    "    StandardScaler\n",
    ")\n",
    "from sklearn.compose import make_column_transformer\n",
    "from sklearn.pipeline import make_pipeline\n",
    "from sklearn.utils import shuffle\n",
    "\n",
    "from sklearn.metrics import (\n",
    "    accuracy_score, \n",
    "    confusion_matrix, \n",
    "    f1_score, \n",
    "    mean_squared_error, \n",
    "    roc_auc_score,\n",
    "    roc_curve\n",
    ")\n",
    "warnings.filterwarnings(\"ignore\")"
   ]
  },
  {
   "cell_type": "code",
   "execution_count": 81,
   "metadata": {
    "scrolled": true
   },
   "outputs": [
    {
     "data": {
      "text/html": [
       "<div>\n",
       "<style scoped>\n",
       "    .dataframe tbody tr th:only-of-type {\n",
       "        vertical-align: middle;\n",
       "    }\n",
       "\n",
       "    .dataframe tbody tr th {\n",
       "        vertical-align: top;\n",
       "    }\n",
       "\n",
       "    .dataframe thead th {\n",
       "        text-align: right;\n",
       "    }\n",
       "</style>\n",
       "<table border=\"1\" class=\"dataframe\">\n",
       "  <thead>\n",
       "    <tr style=\"text-align: right;\">\n",
       "      <th></th>\n",
       "      <th>RowNumber</th>\n",
       "      <th>CustomerId</th>\n",
       "      <th>Surname</th>\n",
       "      <th>CreditScore</th>\n",
       "      <th>Geography</th>\n",
       "      <th>Gender</th>\n",
       "      <th>Age</th>\n",
       "      <th>Tenure</th>\n",
       "      <th>Balance</th>\n",
       "      <th>NumOfProducts</th>\n",
       "      <th>HasCrCard</th>\n",
       "      <th>IsActiveMember</th>\n",
       "      <th>EstimatedSalary</th>\n",
       "      <th>Exited</th>\n",
       "    </tr>\n",
       "  </thead>\n",
       "  <tbody>\n",
       "    <tr>\n",
       "      <th>0</th>\n",
       "      <td>1</td>\n",
       "      <td>15634602</td>\n",
       "      <td>Hargrave</td>\n",
       "      <td>619</td>\n",
       "      <td>France</td>\n",
       "      <td>Female</td>\n",
       "      <td>42</td>\n",
       "      <td>2.0</td>\n",
       "      <td>0.00</td>\n",
       "      <td>1</td>\n",
       "      <td>1</td>\n",
       "      <td>1</td>\n",
       "      <td>101348.88</td>\n",
       "      <td>1</td>\n",
       "    </tr>\n",
       "    <tr>\n",
       "      <th>1</th>\n",
       "      <td>2</td>\n",
       "      <td>15647311</td>\n",
       "      <td>Hill</td>\n",
       "      <td>608</td>\n",
       "      <td>Spain</td>\n",
       "      <td>Female</td>\n",
       "      <td>41</td>\n",
       "      <td>1.0</td>\n",
       "      <td>83807.86</td>\n",
       "      <td>1</td>\n",
       "      <td>0</td>\n",
       "      <td>1</td>\n",
       "      <td>112542.58</td>\n",
       "      <td>0</td>\n",
       "    </tr>\n",
       "    <tr>\n",
       "      <th>2</th>\n",
       "      <td>3</td>\n",
       "      <td>15619304</td>\n",
       "      <td>Onio</td>\n",
       "      <td>502</td>\n",
       "      <td>France</td>\n",
       "      <td>Female</td>\n",
       "      <td>42</td>\n",
       "      <td>8.0</td>\n",
       "      <td>159660.80</td>\n",
       "      <td>3</td>\n",
       "      <td>1</td>\n",
       "      <td>0</td>\n",
       "      <td>113931.57</td>\n",
       "      <td>1</td>\n",
       "    </tr>\n",
       "    <tr>\n",
       "      <th>3</th>\n",
       "      <td>4</td>\n",
       "      <td>15701354</td>\n",
       "      <td>Boni</td>\n",
       "      <td>699</td>\n",
       "      <td>France</td>\n",
       "      <td>Female</td>\n",
       "      <td>39</td>\n",
       "      <td>1.0</td>\n",
       "      <td>0.00</td>\n",
       "      <td>2</td>\n",
       "      <td>0</td>\n",
       "      <td>0</td>\n",
       "      <td>93826.63</td>\n",
       "      <td>0</td>\n",
       "    </tr>\n",
       "    <tr>\n",
       "      <th>4</th>\n",
       "      <td>5</td>\n",
       "      <td>15737888</td>\n",
       "      <td>Mitchell</td>\n",
       "      <td>850</td>\n",
       "      <td>Spain</td>\n",
       "      <td>Female</td>\n",
       "      <td>43</td>\n",
       "      <td>2.0</td>\n",
       "      <td>125510.82</td>\n",
       "      <td>1</td>\n",
       "      <td>1</td>\n",
       "      <td>1</td>\n",
       "      <td>79084.10</td>\n",
       "      <td>0</td>\n",
       "    </tr>\n",
       "  </tbody>\n",
       "</table>\n",
       "</div>"
      ],
      "text/plain": [
       "   RowNumber  CustomerId   Surname  CreditScore Geography  Gender  Age  \\\n",
       "0          1    15634602  Hargrave          619    France  Female   42   \n",
       "1          2    15647311      Hill          608     Spain  Female   41   \n",
       "2          3    15619304      Onio          502    France  Female   42   \n",
       "3          4    15701354      Boni          699    France  Female   39   \n",
       "4          5    15737888  Mitchell          850     Spain  Female   43   \n",
       "\n",
       "   Tenure    Balance  NumOfProducts  HasCrCard  IsActiveMember  \\\n",
       "0     2.0       0.00              1          1               1   \n",
       "1     1.0   83807.86              1          0               1   \n",
       "2     8.0  159660.80              3          1               0   \n",
       "3     1.0       0.00              2          0               0   \n",
       "4     2.0  125510.82              1          1               1   \n",
       "\n",
       "   EstimatedSalary  Exited  \n",
       "0        101348.88       1  \n",
       "1        112542.58       0  \n",
       "2        113931.57       1  \n",
       "3         93826.63       0  \n",
       "4         79084.10       0  "
      ]
     },
     "execution_count": 81,
     "metadata": {},
     "output_type": "execute_result"
    }
   ],
   "source": [
    "data = pd.read_csv('/datasets/Churn.csv')\n",
    "data.head()"
   ]
  },
  {
   "cell_type": "code",
   "execution_count": 82,
   "metadata": {},
   "outputs": [
    {
     "data": {
      "text/plain": [
       "(10000, 14)"
      ]
     },
     "execution_count": 82,
     "metadata": {},
     "output_type": "execute_result"
    }
   ],
   "source": [
    "data.shape"
   ]
  },
  {
   "cell_type": "code",
   "execution_count": 83,
   "metadata": {
    "scrolled": true
   },
   "outputs": [
    {
     "name": "stdout",
     "output_type": "stream",
     "text": [
      "<class 'pandas.core.frame.DataFrame'>\n",
      "RangeIndex: 10000 entries, 0 to 9999\n",
      "Data columns (total 14 columns):\n",
      " #   Column           Non-Null Count  Dtype  \n",
      "---  ------           --------------  -----  \n",
      " 0   RowNumber        10000 non-null  int64  \n",
      " 1   CustomerId       10000 non-null  int64  \n",
      " 2   Surname          10000 non-null  object \n",
      " 3   CreditScore      10000 non-null  int64  \n",
      " 4   Geography        10000 non-null  object \n",
      " 5   Gender           10000 non-null  object \n",
      " 6   Age              10000 non-null  int64  \n",
      " 7   Tenure           9091 non-null   float64\n",
      " 8   Balance          10000 non-null  float64\n",
      " 9   NumOfProducts    10000 non-null  int64  \n",
      " 10  HasCrCard        10000 non-null  int64  \n",
      " 11  IsActiveMember   10000 non-null  int64  \n",
      " 12  EstimatedSalary  10000 non-null  float64\n",
      " 13  Exited           10000 non-null  int64  \n",
      "dtypes: float64(3), int64(8), object(3)\n",
      "memory usage: 1.1+ MB\n"
     ]
    }
   ],
   "source": [
    "data.info()"
   ]
  },
  {
   "cell_type": "code",
   "execution_count": 84,
   "metadata": {},
   "outputs": [],
   "source": [
    "def rename(name):\n",
    "  name = name.replace(name[0], name[0].lower())           \n",
    "  for i in range(len(name)):\n",
    "    if name[i].isupper():\n",
    "      index = name.find(name[i])\n",
    "      name = name.replace(name[i], name[i].lower())\n",
    "      name = name[:index] + '_' + name[index:]\n",
    "  return name\n",
    "\n",
    "for i in range(len(data.columns)):\n",
    "  x=data.columns[i]\n",
    "  x2=rename(x)\n",
    "  data = data.rename(columns={x:x2})\n",
    "\n",
    "# функция приведения к змеиному формату наименования столбцов"
   ]
  },
  {
   "cell_type": "code",
   "execution_count": 85,
   "metadata": {},
   "outputs": [
    {
     "data": {
      "text/plain": [
       "Index(['row_number', 'customer_id', 'surname', 'credit_score', 'geography',\n",
       "       'gender', 'age', 'tenure', 'balance', 'num_of_products', 'has_crcard',\n",
       "       'is_active_member', 'estimated_salary', 'exited'],\n",
       "      dtype='object')"
      ]
     },
     "execution_count": 85,
     "metadata": {},
     "output_type": "execute_result"
    }
   ],
   "source": [
    "data.columns"
   ]
  },
  {
   "cell_type": "code",
   "execution_count": 86,
   "metadata": {},
   "outputs": [],
   "source": [
    "data['surname'] = data['surname'].str.lower()\n",
    "data['geography'] = data['geography'].str.lower()\n",
    "data['gender'] = data['gender'].str.lower()\n",
    "# объекты в surname, geography и gender к нижнему регистру"
   ]
  },
  {
   "cell_type": "code",
   "execution_count": 87,
   "metadata": {},
   "outputs": [
    {
     "data": {
      "text/plain": [
       "array([18, 19, 20, 21, 22, 23, 24, 25, 26, 27, 28, 29, 30, 31, 32, 33, 34,\n",
       "       35, 36, 37, 38, 39, 40, 41, 42, 43, 44, 45, 46, 47, 48, 49, 50, 51,\n",
       "       52, 53, 54, 55, 56, 57, 58, 59, 60, 61, 62, 63, 64, 65, 66, 67, 68,\n",
       "       69, 70, 71, 72, 73, 74, 75, 76, 77, 78, 79, 80, 81, 82, 83, 84, 85,\n",
       "       88, 92])"
      ]
     },
     "execution_count": 87,
     "metadata": {},
     "output_type": "execute_result"
    }
   ],
   "source": [
    "data['age'].sort_values().unique()"
   ]
  },
  {
   "cell_type": "code",
   "execution_count": 88,
   "metadata": {
    "scrolled": false
   },
   "outputs": [
    {
     "name": "stdout",
     "output_type": "stream",
     "text": [
      "<class 'pandas.core.frame.DataFrame'>\n",
      "RangeIndex: 10000 entries, 0 to 9999\n",
      "Data columns (total 14 columns):\n",
      " #   Column            Non-Null Count  Dtype  \n",
      "---  ------            --------------  -----  \n",
      " 0   row_number        10000 non-null  int64  \n",
      " 1   customer_id       10000 non-null  int64  \n",
      " 2   surname           10000 non-null  object \n",
      " 3   credit_score      10000 non-null  int64  \n",
      " 4   geography         10000 non-null  object \n",
      " 5   gender            10000 non-null  object \n",
      " 6   age               10000 non-null  int64  \n",
      " 7   tenure            10000 non-null  float64\n",
      " 8   balance           10000 non-null  float64\n",
      " 9   num_of_products   10000 non-null  int64  \n",
      " 10  has_crcard        10000 non-null  int64  \n",
      " 11  is_active_member  10000 non-null  int64  \n",
      " 12  estimated_salary  10000 non-null  float64\n",
      " 13  exited            10000 non-null  int64  \n",
      "dtypes: float64(3), int64(8), object(3)\n",
      "memory usage: 1.1+ MB\n"
     ]
    }
   ],
   "source": [
    "for i in ['male', 'female']:\n",
    "    \n",
    "    data.loc[(data['age'] < 35) & (data['gender'] == i), 'tenure'] = (data.loc\n",
    "                            [(data['age'] < 35) & (data['gender'] == i), 'tenure'].\n",
    "                            fillna(data.loc[(data['age'] < 35) & (data['gender'] == i), 'tenure'].median()))\n",
    "    \n",
    "    data.loc[(data['age'] >= 35) & (data['age'] <= 65) & (data['gender'] == i), 'tenure'] = (data.loc\n",
    "                            [(data['age'] >= 35) & (data['age'] <= 65) & (data['gender'] == i), 'tenure'].\n",
    "                            fillna(data.loc[(data['age'] >= 35) & (data['age'] <= 65) & (data['gender'] == i), 'tenure'].median()))\n",
    "    \n",
    "    data.loc[(data['age'] > 65) & (data['gender'] == i), 'tenure'] = (data.loc\n",
    "                            [(data['age'] > 65) & (data['gender'] == i), 'tenure'].\n",
    "                            fillna(data.loc[(data['age'] > 65) & (data['gender'] == i), 'tenure'].median()))\n",
    "    \n",
    "data.info()    \n",
    "\n",
    "# заполняем пропуски в tenure (сколько лет человек является клиентом банка) медианным значением учитывая пол(gender) и \n",
    "# возростную категорию(age) до 35, от 35 по 65 и более 65 лет.\n",
    "\n",
    "\n",
    "\n"
   ]
  },
  {
   "cell_type": "code",
   "execution_count": 89,
   "metadata": {},
   "outputs": [],
   "source": [
    "data_ohe = data.drop(\n",
    "    ['row_number', 'customer_id', 'surname'], axis=1\n",
    ")\n",
    "# удаляем столбцы row_number, customer_id и surname для провидения кодирования"
   ]
  },
  {
   "cell_type": "code",
   "execution_count": 90,
   "metadata": {
    "scrolled": false
   },
   "outputs": [
    {
     "data": {
      "text/html": [
       "<div>\n",
       "<style scoped>\n",
       "    .dataframe tbody tr th:only-of-type {\n",
       "        vertical-align: middle;\n",
       "    }\n",
       "\n",
       "    .dataframe tbody tr th {\n",
       "        vertical-align: top;\n",
       "    }\n",
       "\n",
       "    .dataframe thead th {\n",
       "        text-align: right;\n",
       "    }\n",
       "</style>\n",
       "<table border=\"1\" class=\"dataframe\">\n",
       "  <thead>\n",
       "    <tr style=\"text-align: right;\">\n",
       "      <th></th>\n",
       "      <th>credit_score</th>\n",
       "      <th>age</th>\n",
       "      <th>tenure</th>\n",
       "      <th>balance</th>\n",
       "      <th>num_of_products</th>\n",
       "      <th>has_crcard</th>\n",
       "      <th>is_active_member</th>\n",
       "      <th>estimated_salary</th>\n",
       "      <th>exited</th>\n",
       "      <th>geography_germany</th>\n",
       "      <th>geography_spain</th>\n",
       "      <th>gender_male</th>\n",
       "    </tr>\n",
       "  </thead>\n",
       "  <tbody>\n",
       "    <tr>\n",
       "      <th>0</th>\n",
       "      <td>619</td>\n",
       "      <td>42</td>\n",
       "      <td>2.0</td>\n",
       "      <td>0.00</td>\n",
       "      <td>1</td>\n",
       "      <td>1</td>\n",
       "      <td>1</td>\n",
       "      <td>101348.88</td>\n",
       "      <td>1</td>\n",
       "      <td>0</td>\n",
       "      <td>0</td>\n",
       "      <td>0</td>\n",
       "    </tr>\n",
       "    <tr>\n",
       "      <th>1</th>\n",
       "      <td>608</td>\n",
       "      <td>41</td>\n",
       "      <td>1.0</td>\n",
       "      <td>83807.86</td>\n",
       "      <td>1</td>\n",
       "      <td>0</td>\n",
       "      <td>1</td>\n",
       "      <td>112542.58</td>\n",
       "      <td>0</td>\n",
       "      <td>0</td>\n",
       "      <td>1</td>\n",
       "      <td>0</td>\n",
       "    </tr>\n",
       "    <tr>\n",
       "      <th>2</th>\n",
       "      <td>502</td>\n",
       "      <td>42</td>\n",
       "      <td>8.0</td>\n",
       "      <td>159660.80</td>\n",
       "      <td>3</td>\n",
       "      <td>1</td>\n",
       "      <td>0</td>\n",
       "      <td>113931.57</td>\n",
       "      <td>1</td>\n",
       "      <td>0</td>\n",
       "      <td>0</td>\n",
       "      <td>0</td>\n",
       "    </tr>\n",
       "    <tr>\n",
       "      <th>3</th>\n",
       "      <td>699</td>\n",
       "      <td>39</td>\n",
       "      <td>1.0</td>\n",
       "      <td>0.00</td>\n",
       "      <td>2</td>\n",
       "      <td>0</td>\n",
       "      <td>0</td>\n",
       "      <td>93826.63</td>\n",
       "      <td>0</td>\n",
       "      <td>0</td>\n",
       "      <td>0</td>\n",
       "      <td>0</td>\n",
       "    </tr>\n",
       "    <tr>\n",
       "      <th>4</th>\n",
       "      <td>850</td>\n",
       "      <td>43</td>\n",
       "      <td>2.0</td>\n",
       "      <td>125510.82</td>\n",
       "      <td>1</td>\n",
       "      <td>1</td>\n",
       "      <td>1</td>\n",
       "      <td>79084.10</td>\n",
       "      <td>0</td>\n",
       "      <td>0</td>\n",
       "      <td>1</td>\n",
       "      <td>0</td>\n",
       "    </tr>\n",
       "  </tbody>\n",
       "</table>\n",
       "</div>"
      ],
      "text/plain": [
       "   credit_score  age  tenure    balance  num_of_products  has_crcard  \\\n",
       "0           619   42     2.0       0.00                1           1   \n",
       "1           608   41     1.0   83807.86                1           0   \n",
       "2           502   42     8.0  159660.80                3           1   \n",
       "3           699   39     1.0       0.00                2           0   \n",
       "4           850   43     2.0  125510.82                1           1   \n",
       "\n",
       "   is_active_member  estimated_salary  exited  geography_germany  \\\n",
       "0                 1         101348.88       1                  0   \n",
       "1                 1         112542.58       0                  0   \n",
       "2                 0         113931.57       1                  0   \n",
       "3                 0          93826.63       0                  0   \n",
       "4                 1          79084.10       0                  0   \n",
       "\n",
       "   geography_spain  gender_male  \n",
       "0                0            0  \n",
       "1                1            0  \n",
       "2                0            0  \n",
       "3                0            0  \n",
       "4                1            0  "
      ]
     },
     "execution_count": 90,
     "metadata": {},
     "output_type": "execute_result"
    }
   ],
   "source": [
    "data_ohe = pd.get_dummies(data_ohe, drop_first=True) \n",
    "# подготавливаем датесет data_ohe с преобразованными \n",
    "# категориальными признаками в численные с помощью прямого кодирования исключая дамми-ловушку\n",
    "data_ohe.head()"
   ]
  },
  {
   "cell_type": "code",
   "execution_count": 91,
   "metadata": {},
   "outputs": [
    {
     "data": {
      "text/html": [
       "<div>\n",
       "<style scoped>\n",
       "    .dataframe tbody tr th:only-of-type {\n",
       "        vertical-align: middle;\n",
       "    }\n",
       "\n",
       "    .dataframe tbody tr th {\n",
       "        vertical-align: top;\n",
       "    }\n",
       "\n",
       "    .dataframe thead th {\n",
       "        text-align: right;\n",
       "    }\n",
       "</style>\n",
       "<table border=\"1\" class=\"dataframe\">\n",
       "  <thead>\n",
       "    <tr style=\"text-align: right;\">\n",
       "      <th></th>\n",
       "      <th>credit_score</th>\n",
       "      <th>geography</th>\n",
       "      <th>gender</th>\n",
       "      <th>age</th>\n",
       "      <th>tenure</th>\n",
       "      <th>balance</th>\n",
       "      <th>num_of_products</th>\n",
       "      <th>has_crcard</th>\n",
       "      <th>is_active_member</th>\n",
       "      <th>estimated_salary</th>\n",
       "      <th>exited</th>\n",
       "    </tr>\n",
       "  </thead>\n",
       "  <tbody>\n",
       "    <tr>\n",
       "      <th>0</th>\n",
       "      <td>228.0</td>\n",
       "      <td>0.0</td>\n",
       "      <td>0.0</td>\n",
       "      <td>24.0</td>\n",
       "      <td>2.0</td>\n",
       "      <td>0.0</td>\n",
       "      <td>0.0</td>\n",
       "      <td>1.0</td>\n",
       "      <td>1.0</td>\n",
       "      <td>5068.0</td>\n",
       "      <td>1.0</td>\n",
       "    </tr>\n",
       "    <tr>\n",
       "      <th>1</th>\n",
       "      <td>217.0</td>\n",
       "      <td>2.0</td>\n",
       "      <td>0.0</td>\n",
       "      <td>23.0</td>\n",
       "      <td>1.0</td>\n",
       "      <td>743.0</td>\n",
       "      <td>0.0</td>\n",
       "      <td>0.0</td>\n",
       "      <td>1.0</td>\n",
       "      <td>5639.0</td>\n",
       "      <td>0.0</td>\n",
       "    </tr>\n",
       "    <tr>\n",
       "      <th>2</th>\n",
       "      <td>111.0</td>\n",
       "      <td>0.0</td>\n",
       "      <td>0.0</td>\n",
       "      <td>24.0</td>\n",
       "      <td>8.0</td>\n",
       "      <td>5793.0</td>\n",
       "      <td>2.0</td>\n",
       "      <td>1.0</td>\n",
       "      <td>0.0</td>\n",
       "      <td>5707.0</td>\n",
       "      <td>1.0</td>\n",
       "    </tr>\n",
       "    <tr>\n",
       "      <th>3</th>\n",
       "      <td>308.0</td>\n",
       "      <td>0.0</td>\n",
       "      <td>0.0</td>\n",
       "      <td>21.0</td>\n",
       "      <td>1.0</td>\n",
       "      <td>0.0</td>\n",
       "      <td>1.0</td>\n",
       "      <td>0.0</td>\n",
       "      <td>0.0</td>\n",
       "      <td>4704.0</td>\n",
       "      <td>0.0</td>\n",
       "    </tr>\n",
       "    <tr>\n",
       "      <th>4</th>\n",
       "      <td>459.0</td>\n",
       "      <td>2.0</td>\n",
       "      <td>0.0</td>\n",
       "      <td>25.0</td>\n",
       "      <td>2.0</td>\n",
       "      <td>3696.0</td>\n",
       "      <td>0.0</td>\n",
       "      <td>1.0</td>\n",
       "      <td>1.0</td>\n",
       "      <td>3925.0</td>\n",
       "      <td>0.0</td>\n",
       "    </tr>\n",
       "  </tbody>\n",
       "</table>\n",
       "</div>"
      ],
      "text/plain": [
       "   credit_score  geography  gender   age  tenure  balance  num_of_products  \\\n",
       "0         228.0        0.0     0.0  24.0     2.0      0.0              0.0   \n",
       "1         217.0        2.0     0.0  23.0     1.0    743.0              0.0   \n",
       "2         111.0        0.0     0.0  24.0     8.0   5793.0              2.0   \n",
       "3         308.0        0.0     0.0  21.0     1.0      0.0              1.0   \n",
       "4         459.0        2.0     0.0  25.0     2.0   3696.0              0.0   \n",
       "\n",
       "   has_crcard  is_active_member  estimated_salary  exited  \n",
       "0         1.0               1.0            5068.0     1.0  \n",
       "1         0.0               1.0            5639.0     0.0  \n",
       "2         1.0               0.0            5707.0     1.0  \n",
       "3         0.0               0.0            4704.0     0.0  \n",
       "4         1.0               1.0            3925.0     0.0  "
      ]
     },
     "execution_count": 91,
     "metadata": {},
     "output_type": "execute_result"
    }
   ],
   "source": [
    "data_ordinal = data.drop(\n",
    "    ['row_number', 'customer_id', 'surname'], axis=1\n",
    ")\n",
    "\n",
    "encoder = OrdinalEncoder()\n",
    "data_ordinal = pd.DataFrame(encoder.fit_transform(data_ordinal),\n",
    "                            columns=data_ordinal.columns)\n",
    "\n",
    "data_ordinal.head()"
   ]
  },
  {
   "cell_type": "markdown",
   "metadata": {},
   "source": [
    "***Результаты:***\n",
    "\n",
    "- Проанализировали датасет data с помщью info() и обнаружили пропуски в Tenure.\n",
    "- Пропуски в Tenure заполнили медианным значением учитывая пол(gender) и возростную категорию(age) до 35, от 35 по 65 и более 65 лет.\n",
    "- Произвели прямое кодирование исключая дамми-ловушку в результате был сформирован датасет data_ohe"
   ]
  },
  {
   "cell_type": "markdown",
   "metadata": {},
   "source": [
    "## Исследование задачи"
   ]
  },
  {
   "cell_type": "code",
   "execution_count": 92,
   "metadata": {},
   "outputs": [],
   "source": [
    "data_train, data_split = train_test_split(\n",
    "    data_ohe, test_size=0.40, random_state=12345)\n",
    "\n",
    "data_test, data_valid = train_test_split(\n",
    "    data_split, test_size=0.50, random_state=12345) # датасет data разбиваем на выборки train/valid/test в пропорции 60/20/20"
   ]
  },
  {
   "cell_type": "code",
   "execution_count": 93,
   "metadata": {},
   "outputs": [],
   "source": [
    "features_train = data_train.drop('exited', axis=1)\n",
    "target_train = data_train['exited']\n",
    "\n",
    "features_test = data_test.drop('exited', axis=1)\n",
    "target_test = data_test['exited']\n",
    "\n",
    "features_valid = data_valid.drop('exited', axis=1)\n",
    "target_valid = data_valid['exited'] # в выборках train/valid/test выделяем признаки и целевой признак"
   ]
  },
  {
   "cell_type": "code",
   "execution_count": 94,
   "metadata": {},
   "outputs": [
    {
     "name": "stdout",
     "output_type": "stream",
     "text": [
      "train Класс 0 : 4804 train Класс 1 : 1196\n",
      "valid Класс 0 : 1577 valid Класс 1 : 423\n",
      "test Класс 0 : 1582 test Класс 1 : 418\n"
     ]
    }
   ],
   "source": [
    "print('train Класс 0 :', target_train.loc[target_train==0].count(), 'train Класс 1 :', target_train.loc[target_train==1].count())\n",
    "print('valid Класс 0 :', target_valid.loc[target_valid==0].count(), 'valid Класс 1 :', target_valid.loc[target_valid==1].count())\n",
    "print('test Класс 0 :', target_test.loc[target_test==0].count(), 'test Класс 1 :', target_test.loc[target_test==1].count())\n",
    "\n",
    "# анализируем дисбаланс классов в выборках"
   ]
  },
  {
   "cell_type": "code",
   "execution_count": 95,
   "metadata": {},
   "outputs": [
    {
     "name": "stdout",
     "output_type": "stream",
     "text": [
      "0    0.7963\n",
      "1    0.2037\n",
      "Name: exited, dtype: float64\n"
     ]
    },
    {
     "data": {
      "image/png": "[encoded data removed]",
      "text/plain": [
       "<Figure size 432x288 with 1 Axes>"
      ]
     },
     "metadata": {
      "needs_background": "light"
     },
     "output_type": "display_data"
    }
   ],
   "source": [
    "class_frequency = data['exited'].value_counts(normalize=True)\n",
    "print(class_frequency)\n",
    "class_frequency.plot(kind='bar')\n",
    "plt.title('Дисбаланс классов')\n",
    "plt.show()\n",
    "# анализируем дисбаланс классов"
   ]
  },
  {
   "cell_type": "markdown",
   "metadata": {},
   "source": [
    "***Вывод по дисбалансу:***\n",
    "- Класс 0 в четыре раза превосходит класс 1\n",
    "- Дисбаланс приведет к тому, что модель будет считать стремиться чаще предсказывать класс 0"
   ]
  },
  {
   "cell_type": "code",
   "execution_count": 96,
   "metadata": {},
   "outputs": [],
   "source": [
    "numeric = ['credit_score', 'age', 'tenure', 'balance', 'estimated_salary']\n",
    "scaler = StandardScaler()\n",
    "scaler.fit(features_train[numeric])\n",
    "\n",
    "features_train[numeric] = scaler.transform(features_train[numeric])\n",
    "features_valid[numeric] = scaler.transform(features_valid[numeric])\n",
    "features_test[numeric] = scaler.transform(features_test[numeric])\n",
    "\n",
    "# производим масштабирование признаков в столбцах 'credit_score', 'age', 'tenure', 'balance', 'estimated_salary'"
   ]
  },
  {
   "cell_type": "markdown",
   "metadata": {},
   "source": [
    "### Модель DecisionTreeClassifier без учета дисбаланса"
   ]
  },
  {
   "cell_type": "code",
   "execution_count": 97,
   "metadata": {},
   "outputs": [
    {
     "name": "stdout",
     "output_type": "stream",
     "text": [
      "DecisionTreeClassifier(max_depth=10, min_samples_leaf=8, min_samples_split=90,\n",
      "                       random_state=12345)\n",
      "F1-мера: 0.5650969529085872\n"
     ]
    }
   ],
   "source": [
    "best_model_1 = None\n",
    "result_f1 = 0\n",
    "for depth in range(1, 20, 1):\n",
    "    for split in range (10, 150, 10):\n",
    "        for leaf in range (2, 20, 2):\n",
    "            model_1 = DecisionTreeClassifier(\n",
    "                random_state=12345, max_depth=depth, min_samples_split=split, min_samples_leaf=leaf\n",
    "            ) # обучаем модель\n",
    "            model_1.fit(features_train, target_train) # обучаем модель\n",
    "            predict = model_1.predict(features_valid)\n",
    "            forest_f1 = f1_score(target_valid, predict)\n",
    "            if forest_f1 > result_f1:\n",
    "                best_model_1 = model_1 # сохраняем наилучшую модель\n",
    "                result_f1 = forest_f1 #  сохраняем наилучшее значение метрики F1-мера\n",
    "        \n",
    "print(best_model_1)\n",
    "print('F1-мера:', result_f1)"
   ]
  },
  {
   "cell_type": "code",
   "execution_count": 98,
   "metadata": {
    "scrolled": true
   },
   "outputs": [
    {
     "data": {
      "image/png": "[encoded data removed]",
      "text/plain": [
       "<Figure size 432x288 with 1 Axes>"
      ]
     },
     "metadata": {
      "needs_background": "light"
     },
     "output_type": "display_data"
    }
   ],
   "source": [
    "probabilities_valid = best_model_1.predict_proba(features_valid)\n",
    "probabilities_one_valid = probabilities_valid[:, 1]\n",
    "\n",
    "fpr, tpr, thresholds = roc_curve(target_valid, probabilities_one_valid) # < напишите код здесь >\n",
    "\n",
    "plt.figure()\n",
    "plt.plot([0, 1], [0, 1], linestyle='--') # строим ROC-кривую случайной модели (выглядит как прямая)\n",
    "\n",
    "plt.plot(fpr, tpr)\n",
    "plt.ylim([0.0, 1.0])\n",
    "plt.xlim([0.0, 1.0]) # установливаем границы осей от 0 до 1 \n",
    "\n",
    "plt.xlabel('False Positive Rate')\n",
    "plt.ylabel('True Positive Rate') #   подписываем оси \"False Positive Rate\" и \"True Positive Rate\" >\n",
    "\n",
    "plt.title('ROC-кривая') # < добавляем к графику заголовок \"ROC-кривая\" функцией plt.title() >\n",
    "plt.show()"
   ]
  },
  {
   "cell_type": "code",
   "execution_count": 99,
   "metadata": {},
   "outputs": [
    {
     "data": {
      "text/plain": [
       "0.8375765098467779"
      ]
     },
     "execution_count": 99,
     "metadata": {},
     "output_type": "execute_result"
    }
   ],
   "source": [
    "roc_auc_score(target_valid, probabilities_one_valid) # считаем площадь под ROC-кривой"
   ]
  },
  {
   "cell_type": "markdown",
   "metadata": {},
   "source": [
    "***Вывод***\n",
    "\n",
    "- Обучили модель DecisionTreeClassifier(max_depth=10, min_samples_leaf=8, min_samples_split=90, random_state=12345)\n",
    "- Метрика F1-мера показала 0.5650969529085872 для модели, что говорит о дисбалансе в показателях полноты и точности. (требуется доработка модели)\n",
    "- ROC - кривая показала, что наша модель (оранжевая линия) точнее предсказывает чем случайная модель (синий пунктир)\n",
    "- Метрика площадь ROC-кривой показала 0.8375765098467779 - показатель ближе к идеальному показателю равному 1 чем к случайной модели равной 0.5\n",
    "                       "
   ]
  },
  {
   "cell_type": "markdown",
   "metadata": {},
   "source": [
    "### Модель RandomForestClassifier без учета дисбаланса"
   ]
  },
  {
   "cell_type": "code",
   "execution_count": 100,
   "metadata": {},
   "outputs": [
    {
     "name": "stdout",
     "output_type": "stream",
     "text": [
      "RandomForestClassifier(max_depth=4, min_samples_split=6, n_estimators=6,\n",
      "                       random_state=12345)\n",
      "F1-мера: 0.49358974358974367\n"
     ]
    }
   ],
   "source": [
    "best_model_2 = None\n",
    "result_f1 = 0\n",
    "for depth in range(1, 6, 1): \n",
    "    for est in range(2, 20, 2):\n",
    "        for split in range(2, 20, 2):\n",
    "            for leaf in range(1, 20, 1):\n",
    "                model_2 = RandomForestClassifier(\n",
    "                random_state=12345, max_depth=depth, n_estimators=est, min_samples_split=split, min_samples_leaf=leaf\n",
    "            ) # обучите модель с заданным количеством деревьев\n",
    "                model_2.fit(features_train, target_train) # обучите модель на тренировочной выборке\n",
    "                predict = model_2.predict(features_valid)\n",
    "                forest_f1 = f1_score(target_valid, predict)\n",
    "                if forest_f1 > result_f1:\n",
    "                    best_model_2 = model_2 # сохраняем наилучшую модель\n",
    "                    result_f1 = forest_f1 #  сохраняем наилучшее значение метрики F1-мера\n",
    "\n",
    "print(best_model_2)\n",
    "print('F1-мера:', result_f1)"
   ]
  },
  {
   "cell_type": "code",
   "execution_count": 101,
   "metadata": {},
   "outputs": [
    {
     "data": {
      "image/png": "[encoded data removed]",
      "text/plain": [
       "<Figure size 432x288 with 1 Axes>"
      ]
     },
     "metadata": {
      "needs_background": "light"
     },
     "output_type": "display_data"
    }
   ],
   "source": [
    "probabilities_valid = best_model_2.predict_proba(features_valid)\n",
    "probabilities_one_valid = probabilities_valid[:, 1]\n",
    "\n",
    "fpr, tpr, thresholds = roc_curve(target_valid, probabilities_one_valid) # < напишите код здесь >\n",
    "\n",
    "plt.figure()\n",
    "plt.plot([0, 1], [0, 1], linestyle='--') # строим ROC-кривую случайной модели (выглядит как прямая)\n",
    "\n",
    "plt.plot(fpr, tpr)\n",
    "plt.ylim([0.0, 1.0])\n",
    "plt.xlim([0.0, 1.0]) # установливаем границы осей от 0 до 1 \n",
    "\n",
    "plt.xlabel('False Positive Rate')\n",
    "plt.ylabel('True Positive Rate') #   подписываем оси \"False Positive Rate\" и \"True Positive Rate\" >\n",
    "\n",
    "plt.title('ROC-кривая') # < добавляем к графику заголовок \"ROC-кривая\" функцией plt.title() >\n",
    "plt.show()"
   ]
  },
  {
   "cell_type": "code",
   "execution_count": 102,
   "metadata": {},
   "outputs": [
    {
     "data": {
      "text/plain": [
       "0.8123340693869168"
      ]
     },
     "execution_count": 102,
     "metadata": {},
     "output_type": "execute_result"
    }
   ],
   "source": [
    "roc_auc_score(target_valid, probabilities_one_valid) # считаем площадь под ROC-кривой"
   ]
  },
  {
   "cell_type": "markdown",
   "metadata": {},
   "source": [
    "***Вывод***\n",
    "\n",
    "- Обучили модель RandomForestClassifier(min_samples_leaf=4, n_estimators=6, random_state=12345)\n",
    "- Метрика F1-мера показала 0.5626822157434401 для модели, что говорит о не приемлемом дисбалансе в показателях полноты и точности. (плохой результат - требуется доработка модели)\n",
    "- ROC - кривая показала, что наша модель (оранжевая линия) точнее предсказывает чем случайная модель (синий пунктир)\n",
    "- Метрика площадь ROC-кривой показала 0.8217648496187062 - показатель равноудалеин от идеала равного 1 и случайной модели равной 0.5"
   ]
  },
  {
   "cell_type": "markdown",
   "metadata": {},
   "source": [
    "### Модель LogisticRegression без учета дисбаланса"
   ]
  },
  {
   "cell_type": "code",
   "execution_count": 103,
   "metadata": {},
   "outputs": [
    {
     "name": "stdout",
     "output_type": "stream",
     "text": [
      "LogisticRegression(random_state=12345)\n",
      "Iter = 9900\n",
      "F1-мера: 0.27478260869565213\n"
     ]
    }
   ],
   "source": [
    "best_model_3 = None\n",
    "result_f1 = 0\n",
    "Iter = 0\n",
    "for i in range(100, 10000, 100):\n",
    "    model_3 = LogisticRegression(random_state=12345, max_iter=i)\n",
    "    model_3.fit(features_train, target_train) # обучите модель на тренировочной выборке\n",
    "    predict = model_3.predict(features_valid)\n",
    "    forest_f1 = f1_score(target_valid, predict)\n",
    "    if forest_f1 > result_f1:\n",
    "        best_model_3 = model_3 # сохраняем наилучшую модель\n",
    "        result_f1 = forest_f1\n",
    "        Iter = i\n",
    "\n",
    "print(best_model_3)\n",
    "print('Iter =', i)\n",
    "print('F1-мера:', result_f1)"
   ]
  },
  {
   "cell_type": "code",
   "execution_count": 104,
   "metadata": {
    "scrolled": true
   },
   "outputs": [
    {
     "data": {
      "image/png": "[encoded data removed]",
      "text/plain": [
       "<Figure size 432x288 with 1 Axes>"
      ]
     },
     "metadata": {
      "needs_background": "light"
     },
     "output_type": "display_data"
    }
   ],
   "source": [
    "probabilities_valid = model_3.predict_proba(features_valid)\n",
    "probabilities_one_valid = probabilities_valid[:, 1]\n",
    "\n",
    "fpr, tpr, thresholds = roc_curve(target_valid, probabilities_one_valid) # < напишите код здесь >\n",
    "\n",
    "plt.figure()\n",
    "plt.plot([0, 1], [0, 1], linestyle='--') # строим ROC-кривую случайной модели (выглядит как прямая)\n",
    "\n",
    "plt.plot(fpr, tpr)\n",
    "plt.ylim([0.0, 1.0])\n",
    "plt.xlim([0.0, 1.0]) # установливаем границы осей от 0 до 1 \n",
    "\n",
    "plt.xlabel('False Positive Rate')\n",
    "plt.ylabel('True Positive Rate') #   подписываем оси \"False Positive Rate\" и \"True Positive Rate\" >\n",
    "\n",
    "plt.title('ROC-кривая') # < добавляем к графику заголовок \"ROC-кривая\" функцией plt.title() >\n",
    "plt.show()"
   ]
  },
  {
   "cell_type": "code",
   "execution_count": 105,
   "metadata": {},
   "outputs": [
    {
     "data": {
      "text/plain": [
       "0.7387249633097526"
      ]
     },
     "execution_count": 105,
     "metadata": {},
     "output_type": "execute_result"
    }
   ],
   "source": [
    "roc_auc_score(target_valid, probabilities_one_valid) # считаем площадь под ROC-кривой"
   ]
  },
  {
   "cell_type": "markdown",
   "metadata": {},
   "source": [
    "***Вывод***\n",
    "\n",
    "- Обучили модель LogisticRegression(max_iter=9900, random_state=12345)\n",
    "- Метрика F1-мера показала 0.27478260869565213 для модели, что говорит о дисбалансе в показателях полноты и точности. (плохой результат - требуется доработка модели)\n",
    "- ROC - кривая показала, что наша модель (оранжевая линия) точнее предсказывает чем случайная модель (синий пунктир)\n",
    "- Метрика площадь ROC-кривой показала 0.7387249633097526 - показатель равноудалеин от идеала равного 1 и случайной модели равной 0.5\n",
    "                     "
   ]
  },
  {
   "cell_type": "markdown",
   "metadata": {},
   "source": [
    "## Борьба с дисбалансом"
   ]
  },
  {
   "cell_type": "markdown",
   "metadata": {},
   "source": [
    "### Метод с помощью аргумента class_weight в библиотеке sklearn"
   ]
  },
  {
   "cell_type": "code",
   "execution_count": 106,
   "metadata": {},
   "outputs": [
    {
     "name": "stdout",
     "output_type": "stream",
     "text": [
      "DecisionTreeClassifier(class_weight='balanced', max_depth=9,\n",
      "                       min_samples_leaf=18, min_samples_split=120,\n",
      "                       random_state=12345)\n",
      "F1-мера: 0.6077872744539411\n",
      "Площадь ROC-кривой: 0.8432265830773636\n"
     ]
    }
   ],
   "source": [
    "best_model_1 = None\n",
    "result_f1 = 0\n",
    "for depth in range(1, 10, 1):\n",
    "    for split in range (10, 150, 10):\n",
    "        for leaf in range (2, 20, 2):\n",
    "            model_1 = DecisionTreeClassifier(\n",
    "                random_state=12345, max_depth=depth, min_samples_split=split, min_samples_leaf=leaf, class_weight='balanced'\n",
    "            ) # обучаем модель\n",
    "            model_1.fit(features_train, target_train) # обучаем модель\n",
    "            predict = model_1.predict(features_valid)\n",
    "            forest_f1 = f1_score(target_valid, predict)\n",
    "            if forest_f1 > result_f1:\n",
    "                best_model_1 = model_1 # сохраняем наилучшую модель\n",
    "                result_f1 = forest_f1 #  сохраняем наилучшее значение метрики F1-мера\n",
    "                \n",
    "print(best_model_1)\n",
    "print('F1-мера:', result_f1)\n",
    "probabilities_valid = best_model_1.predict_proba(features_valid)\n",
    "probabilities_one_valid = probabilities_valid[:, 1]\n",
    "print('Площадь ROC-кривой:', roc_auc_score(target_valid, probabilities_one_valid))\n"
   ]
  },
  {
   "cell_type": "code",
   "execution_count": 107,
   "metadata": {},
   "outputs": [
    {
     "name": "stdout",
     "output_type": "stream",
     "text": [
      "RandomForestClassifier(class_weight='balanced', max_depth=5, min_samples_leaf=2,\n",
      "                       min_samples_split=14, n_estimators=12,\n",
      "                       random_state=12345)\n",
      "F1-мера: 0.6011787819253438\n",
      "Площадь ROC-кривой: 0.8361074008613776\n"
     ]
    }
   ],
   "source": [
    "best_model_2 = None\n",
    "result_f1 = 0\n",
    "for depth in range(1, 6, 1): \n",
    "    for est in range(2, 20, 2):\n",
    "        for split in range(2, 20, 2):\n",
    "            for leaf in range(1, 20, 1):\n",
    "                model_2 = RandomForestClassifier(\n",
    "                    random_state=12345, max_depth=depth, n_estimators=est, min_samples_split=split, \n",
    "                    min_samples_leaf=leaf, class_weight='balanced'\n",
    "                ) # обучите модель с заданным количеством деревьев\n",
    "                model_2.fit(features_train, target_train) # обучите модель на тренировочной выборке\n",
    "                predict = model_2.predict(features_valid)\n",
    "                forest_f1 = f1_score(target_valid, predict)\n",
    "                if forest_f1 > result_f1:\n",
    "                    best_model_2 = model_2 # сохраняем наилучшую модель\n",
    "                    result_f1 = forest_f1 #  сохраняем наилучшее значение метрики F1-мера\n",
    "\n",
    "print(best_model_2)\n",
    "print('F1-мера:', result_f1)\n",
    "probabilities_valid = best_model_2.predict_proba(features_valid)\n",
    "probabilities_one_valid = probabilities_valid[:, 1]\n",
    "print('Площадь ROC-кривой:', roc_auc_score(target_valid, probabilities_one_valid))"
   ]
  },
  {
   "cell_type": "code",
   "execution_count": 108,
   "metadata": {},
   "outputs": [
    {
     "name": "stdout",
     "output_type": "stream",
     "text": [
      "LogisticRegression(class_weight='balanced', random_state=12345)\n",
      "Iter = 9900\n",
      "F1-мера: 0.4775086505190312\n",
      "Площадь ROC-кривой: 0.7417726149090575\n"
     ]
    }
   ],
   "source": [
    "best_model_3 = None\n",
    "result_f1 = 0\n",
    "Iter = 0\n",
    "for i in range(100, 10000, 100):\n",
    "    model_3 = LogisticRegression(random_state=12345, max_iter=i, class_weight='balanced')\n",
    "    model_3.fit(features_train, target_train) # обучите модель на тренировочной выборке\n",
    "    predict = model_3.predict(features_valid)\n",
    "    forest_f1 = f1_score(target_valid, predict)\n",
    "    if forest_f1 > result_f1:\n",
    "        best_model_3 = model_3 # сохраняем наилучшую модель\n",
    "        result_f1 = forest_f1\n",
    "        Iter = i\n",
    "\n",
    "print(best_model_3)\n",
    "print('Iter =', i)\n",
    "print('F1-мера:', result_f1)\n",
    "probabilities_valid = best_model_3.predict_proba(features_valid)\n",
    "probabilities_one_valid = probabilities_valid[:, 1]\n",
    "print('Площадь ROC-кривой:', roc_auc_score(target_valid, probabilities_one_valid))"
   ]
  },
  {
   "cell_type": "markdown",
   "metadata": {},
   "source": [
    "***Вывод***\n",
    "\n",
    "- С помощью  class_weight='balanced' удалось получить показатели для:\n",
    "1. DecisionTreeClassifier F1-мера=0.6077872744539411     Площадь ROC-кривой=0.8432265830773636 \n",
    "2. RandomForestClassifier F1-мера=0.6011787819253438     Площадь ROC-кривой=0.8361074008613776\n",
    "3. LogisticRegression     F1-мера=0.4775086505190312    Площадь ROC-кривой=0.7417726149090575\n",
    "- Лучшая модель получилась DecisionTreeClassifier(class_weight='balanced', max_depth=9,\n",
    "                       min_samples_leaf=18, min_samples_split=120,\n",
    "                       random_state=12345)\n",
    "              "
   ]
  },
  {
   "cell_type": "markdown",
   "metadata": {},
   "source": [
    "### Метод увеличения выборки - upsampling"
   ]
  },
  {
   "cell_type": "code",
   "execution_count": 109,
   "metadata": {},
   "outputs": [],
   "source": [
    "def upsample(features, target, repeat):\n",
    "    features_zeros = features[target == 0]\n",
    "    features_ones = features[target == 1]\n",
    "    target_zeros = target[target == 0]\n",
    "    target_ones = target[target == 1]\n",
    "\n",
    "    features_upsampled = pd.concat([features_zeros] + [features_ones] * repeat)\n",
    "    target_upsampled = pd.concat([target_zeros] + [target_ones] * repeat)\n",
    "    \n",
    "    features_upsampled, target_upsampled = shuffle(\n",
    "        features_upsampled, target_upsampled, random_state=12345)\n",
    "    \n",
    "    return features_upsampled, target_upsampled\n",
    "\n",
    "features_upsampled, target_upsampled = upsample(features_train, target_train, 4)"
   ]
  },
  {
   "cell_type": "code",
   "execution_count": 110,
   "metadata": {},
   "outputs": [
    {
     "name": "stdout",
     "output_type": "stream",
     "text": [
      "DecisionTreeClassifier(max_depth=10, min_samples_leaf=18, min_samples_split=140,\n",
      "                       random_state=12345)\n",
      "F1-мера: 0.5902578796561605\n",
      "Площадь ROC-кривой: 0.8226065891037085\n"
     ]
    }
   ],
   "source": [
    "best_model_1 = None\n",
    "result_f1 = 0\n",
    "for depth in range(1, 20, 1):\n",
    "    for split in range (10, 150, 10):\n",
    "        for leaf in range (2, 20, 2):\n",
    "            model_1 = DecisionTreeClassifier(\n",
    "                random_state=12345, max_depth=depth, min_samples_split=split, min_samples_leaf=leaf\n",
    "            ) # обучаем модель\n",
    "            model_1.fit(features_upsampled, target_upsampled) # обучаем модель\n",
    "            predict = model_1.predict(features_valid)\n",
    "            forest_f1 = f1_score(target_valid, predict)\n",
    "            if forest_f1 > result_f1:\n",
    "                best_model_1 = model_1 # сохраняем наилучшую модель\n",
    "                result_f1 = forest_f1 #  сохраняем наилучшее значение метрики F1-мера\n",
    "                \n",
    "print(best_model_1)\n",
    "print('F1-мера:', result_f1)\n",
    "probabilities_valid = best_model_1.predict_proba(features_valid)\n",
    "probabilities_one_valid = probabilities_valid[:, 1]\n",
    "print('Площадь ROC-кривой:', roc_auc_score(target_valid, probabilities_one_valid))"
   ]
  },
  {
   "cell_type": "code",
   "execution_count": 111,
   "metadata": {},
   "outputs": [
    {
     "name": "stdout",
     "output_type": "stream",
     "text": [
      "RandomForestClassifier(max_depth=4, min_samples_leaf=19, n_estimators=12,\n",
      "                       random_state=12345)\n",
      "F1-мера: 0.591254752851711\n",
      "Площадь ROC-кривой: 0.8325448115717817\n"
     ]
    }
   ],
   "source": [
    "best_model_2 = None\n",
    "result_f1 = 0\n",
    "for depth in range(1, 6, 1): \n",
    "    for est in range(2, 20, 2):\n",
    "        for split in range(2, 20, 2):\n",
    "            for leaf in range(1, 20, 1):\n",
    "                model_2 = RandomForestClassifier(\n",
    "                random_state=12345, max_depth=depth, n_estimators=est, min_samples_split=split, min_samples_leaf=leaf\n",
    "            ) # обучите модель с заданным количеством деревьев\n",
    "                model_2.fit(features_upsampled, target_upsampled) # обучите модель на тренировочной выборке\n",
    "                predict = model_2.predict(features_valid)\n",
    "                forest_f1 = f1_score(target_valid, predict)\n",
    "                if forest_f1 > result_f1:\n",
    "                    best_model_2 = model_2 # сохраняем наилучшую модель\n",
    "                    result_f1 = forest_f1 #  сохраняем наилучшее значение метрики F1-мера\n",
    "\n",
    "print(best_model_2)\n",
    "print('F1-мера:', result_f1)\n",
    "probabilities_valid = best_model_2.predict_proba(features_valid)\n",
    "probabilities_one_valid = probabilities_valid[:, 1]\n",
    "print('Площадь ROC-кривой:', roc_auc_score(target_valid, probabilities_one_valid))\n"
   ]
  },
  {
   "cell_type": "code",
   "execution_count": 112,
   "metadata": {},
   "outputs": [
    {
     "name": "stdout",
     "output_type": "stream",
     "text": [
      "LogisticRegression(random_state=12345)\n",
      "Iter = 9900\n",
      "F1-мера: 0.47619047619047616\n",
      "Площадь ROC-кривой: 0.741721645821809\n"
     ]
    }
   ],
   "source": [
    "best_model_3 = None\n",
    "result_f1 = 0\n",
    "Iter = 0\n",
    "for i in range(100, 10000, 100):\n",
    "    model_3 = LogisticRegression(random_state=12345, max_iter=i)\n",
    "    model_3.fit(features_upsampled, target_upsampled) # обучите модель на тренировочной выборке\n",
    "    predict = model_3.predict(features_valid)\n",
    "    forest_f1 = f1_score(target_valid, predict)\n",
    "    if forest_f1 > result_f1:\n",
    "        best_model_3 = model_3 # сохраняем наилучшую модель\n",
    "        result_f1 = forest_f1\n",
    "        Iter = i\n",
    "\n",
    "print(best_model_3)\n",
    "print('Iter =', i)\n",
    "print('F1-мера:', result_f1)\n",
    "probabilities_valid = best_model_3.predict_proba(features_valid)\n",
    "probabilities_one_valid = probabilities_valid[:, 1]\n",
    "print('Площадь ROC-кривой:', roc_auc_score(target_valid, probabilities_one_valid))"
   ]
  },
  {
   "cell_type": "markdown",
   "metadata": {},
   "source": [
    "***Вывод***\n",
    "\n",
    "- С помощью  увеличения выборки удалось получить показатели для:\n",
    "1. DecisionTreeClassifier F1-мера=0.5902578796561605     Площадь ROC-кривой=0.8226065891037085 \n",
    "2. RandomForestClassifier F1-мера=0.591254752851711     Площадь ROC-кривой=0.8325448115717817\n",
    "3. LogisticRegression     F1-мера=0.47619047619047616    Площадь ROC-кривой=0.741721645821809\n",
    "- Лучшая модель получилась RandomForestClassifier(max_depth=4, min_samples_leaf=19, n_estimators=12,\n",
    "                       random_state=12345)"
   ]
  },
  {
   "cell_type": "markdown",
   "metadata": {},
   "source": [
    "### Метод уменьшения выборки - downsampling"
   ]
  },
  {
   "cell_type": "code",
   "execution_count": 113,
   "metadata": {},
   "outputs": [],
   "source": [
    "def downsample(features, target, fraction):\n",
    "    features_zeros = features[target == 0]\n",
    "    features_ones = features[target == 1]\n",
    "    target_zeros = target[target == 0]\n",
    "    target_ones = target[target == 1]\n",
    "\n",
    "    features_downsampled = pd.concat(\n",
    "        [features_zeros.sample(frac=fraction, random_state=12345)] + [features_ones])\n",
    "    target_downsampled = pd.concat(\n",
    "        [target_zeros.sample(frac=fraction, random_state=12345)] + [target_ones])\n",
    "    \n",
    "    features_downsampled, target_downsampled = shuffle(\n",
    "        features_downsampled, target_downsampled, random_state=12345)\n",
    "    \n",
    "    return features_downsampled, target_downsampled\n",
    "\n",
    "features_downsampled, target_downsampled = downsample(features_train, target_train, 0.25)"
   ]
  },
  {
   "cell_type": "code",
   "execution_count": 114,
   "metadata": {},
   "outputs": [
    {
     "name": "stdout",
     "output_type": "stream",
     "text": [
      "DecisionTreeClassifier(max_depth=5, min_samples_leaf=2, min_samples_split=20,\n",
      "                       random_state=12345)\n",
      "F1-мера: 0.6131386861313869\n",
      "Площадь ROC-кривой: 0.8452615988403033\n"
     ]
    }
   ],
   "source": [
    "best_model_1 = None\n",
    "result_f1 = 0\n",
    "for depth in range(1, 20, 1):\n",
    "    for split in range (10, 150, 10):\n",
    "        for leaf in range (2, 20, 2):\n",
    "            model_1 = DecisionTreeClassifier(\n",
    "                random_state=12345, max_depth=depth, min_samples_split=split, min_samples_leaf=leaf\n",
    "            ) # обучаем модель\n",
    "            model_1.fit(features_downsampled, target_downsampled) # обучаем модель\n",
    "            predict = model_1.predict(features_valid)\n",
    "            forest_f1 = f1_score(target_valid, predict)\n",
    "            if forest_f1 > result_f1:\n",
    "                best_model_1 = model_1 # сохраняем наилучшую модель\n",
    "                result_f1 = forest_f1 #  сохраняем наилучшее значение метрики F1-мера\n",
    "                \n",
    "print(best_model_1)\n",
    "print('F1-мера:', result_f1)\n",
    "probabilities_valid = best_model_1.predict_proba(features_valid)\n",
    "probabilities_one_valid = probabilities_valid[:, 1]\n",
    "print('Площадь ROC-кривой:', roc_auc_score(target_valid, probabilities_one_valid))\n",
    "thebest_model_1 = best_model_1"
   ]
  },
  {
   "cell_type": "code",
   "execution_count": 115,
   "metadata": {},
   "outputs": [
    {
     "name": "stdout",
     "output_type": "stream",
     "text": [
      "RandomForestClassifier(max_depth=5, min_samples_leaf=6, min_samples_split=16,\n",
      "                       n_estimators=10, random_state=12345)\n",
      "F1-мера: 0.5922509225092252\n",
      "Площадь ROC-кривой: 0.8364019722038585\n"
     ]
    }
   ],
   "source": [
    "best_model_2 = None\n",
    "result_f1 = 0\n",
    "for depth in range(1, 6, 1): \n",
    "    for est in range(2, 20, 2):\n",
    "        for split in range(2, 20, 2):\n",
    "            for leaf in range(1, 20, 1):\n",
    "                model_2 = RandomForestClassifier(\n",
    "                random_state=12345, max_depth=depth, n_estimators=est, min_samples_split=split, min_samples_leaf=leaf\n",
    "            ) # обучите модель с заданным количеством деревьев\n",
    "                model_2.fit(features_downsampled, target_downsampled) # обучите модель на тренировочной выборке\n",
    "                predict = model_2.predict(features_valid)\n",
    "                forest_f1 = f1_score(target_valid, predict)\n",
    "                if forest_f1 > result_f1:\n",
    "                    best_model_2 = model_2 # сохраняем наилучшую модель\n",
    "                    result_f1 = forest_f1 #  сохраняем наилучшее значение метрики F1-мера\n",
    "\n",
    "print(best_model_2)\n",
    "print('F1-мера:', result_f1)\n",
    "probabilities_valid = best_model_2.predict_proba(features_valid)\n",
    "probabilities_one_valid = probabilities_valid[:, 1]\n",
    "print('Площадь ROC-кривой:', roc_auc_score(target_valid, probabilities_one_valid))"
   ]
  },
  {
   "cell_type": "code",
   "execution_count": 116,
   "metadata": {},
   "outputs": [
    {
     "name": "stdout",
     "output_type": "stream",
     "text": [
      "LogisticRegression(random_state=12345)\n",
      "Iter = 9900\n",
      "F1-мера: 0.48547008547008547\n",
      "Площадь ROC-кривой: 0.7412554285825647\n"
     ]
    }
   ],
   "source": [
    "best_model_3 = None\n",
    "result_f1 = 0\n",
    "Iter = 0\n",
    "for i in range(100, 10000, 100):\n",
    "    model_3 = LogisticRegression(random_state=12345, max_iter=i)\n",
    "    model_3.fit(features_downsampled, target_downsampled) # обучите модель на тренировочной выборке\n",
    "    predict = model_3.predict(features_valid)\n",
    "    forest_f1 = f1_score(target_valid, predict)\n",
    "    if forest_f1 > result_f1:\n",
    "        best_model_3 = model_3 # сохраняем наилучшую модель\n",
    "        result_f1 = forest_f1\n",
    "        Iter = i\n",
    "\n",
    "print(best_model_3)\n",
    "print('Iter =', i)\n",
    "print('F1-мера:', result_f1)\n",
    "probabilities_valid = best_model_3.predict_proba(features_valid)\n",
    "probabilities_one_valid = probabilities_valid[:, 1]\n",
    "print('Площадь ROC-кривой:', roc_auc_score(target_valid, probabilities_one_valid))"
   ]
  },
  {
   "cell_type": "markdown",
   "metadata": {},
   "source": [
    "***Вывод***\n",
    "\n",
    "- С помощью  уменьшения выборки удалось получить показатели для:\n",
    "1. DecisionTreeClassifier F1-мера=0.6131386861313869     Площадь ROC-кривой=0.8452615988403033\n",
    "2. RandomForestClassifier F1-мера=0.5922509225092252     Площадь ROC-кривой=0.8364019722038585\n",
    "3. LogisticRegression     F1-мера=0.48547008547008547    Площадь ROC-кривой=0.7412554285825647\n",
    "- Лучшая модель получилась DecisionTreeClassifier(max_depth=5, min_samples_leaf=2, min_samples_split=20,\n",
    "                       random_state=12345)"
   ]
  },
  {
   "cell_type": "markdown",
   "metadata": {},
   "source": [
    "***Общий вывод:***\n",
    "\n",
    "- Лучшая модель RandomForestClassifier с метриками F1-мера=0.6203904555314533     Площадь ROC-кривой=0.8479517172834676 (с применением увеличения выборки)"
   ]
  },
  {
   "cell_type": "markdown",
   "metadata": {},
   "source": [
    "## Тестирование модели"
   ]
  },
  {
   "cell_type": "code",
   "execution_count": 117,
   "metadata": {},
   "outputs": [
    {
     "name": "stdout",
     "output_type": "stream",
     "text": [
      "F1-мера: 0.599388379204893\n",
      "Accuracy: 0.8035\n",
      "Площадь ROC-кривой: 0.8351535516183863\n"
     ]
    },
    {
     "data": {
      "text/html": [
       "<style>#sk-container-id-3 {color: black;background-color: white;}#sk-container-id-3 pre{padding: 0;}#sk-container-id-3 div.sk-toggleable {background-color: white;}#sk-container-id-3 label.sk-toggleable__label {cursor: pointer;display: block;width: 100%;margin-bottom: 0;padding: 0.3em;box-sizing: border-box;text-align: center;}#sk-container-id-3 label.sk-toggleable__label-arrow:before {content: \"▸\";float: left;margin-right: 0.25em;color: #696969;}#sk-container-id-3 label.sk-toggleable__label-arrow:hover:before {color: black;}#sk-container-id-3 div.sk-estimator:hover label.sk-toggleable__label-arrow:before {color: black;}#sk-container-id-3 div.sk-toggleable__content {max-height: 0;max-width: 0;overflow: hidden;text-align: left;background-color: #f0f8ff;}#sk-container-id-3 div.sk-toggleable__content pre {margin: 0.2em;color: black;border-radius: 0.25em;background-color: #f0f8ff;}#sk-container-id-3 input.sk-toggleable__control:checked~div.sk-toggleable__content {max-height: 200px;max-width: 100%;overflow: auto;}#sk-container-id-3 input.sk-toggleable__control:checked~label.sk-toggleable__label-arrow:before {content: \"▾\";}#sk-container-id-3 div.sk-estimator input.sk-toggleable__control:checked~label.sk-toggleable__label {background-color: #d4ebff;}#sk-container-id-3 div.sk-label input.sk-toggleable__control:checked~label.sk-toggleable__label {background-color: #d4ebff;}#sk-container-id-3 input.sk-hidden--visually {border: 0;clip: rect(1px 1px 1px 1px);clip: rect(1px, 1px, 1px, 1px);height: 1px;margin: -1px;overflow: hidden;padding: 0;position: absolute;width: 1px;}#sk-container-id-3 div.sk-estimator {font-family: monospace;background-color: #f0f8ff;border: 1px dotted black;border-radius: 0.25em;box-sizing: border-box;margin-bottom: 0.5em;}#sk-container-id-3 div.sk-estimator:hover {background-color: #d4ebff;}#sk-container-id-3 div.sk-parallel-item::after {content: \"\";width: 100%;border-bottom: 1px solid gray;flex-grow: 1;}#sk-container-id-3 div.sk-label:hover label.sk-toggleable__label {background-color: #d4ebff;}#sk-container-id-3 div.sk-serial::before {content: \"\";position: absolute;border-left: 1px solid gray;box-sizing: border-box;top: 0;bottom: 0;left: 50%;z-index: 0;}#sk-container-id-3 div.sk-serial {display: flex;flex-direction: column;align-items: center;background-color: white;padding-right: 0.2em;padding-left: 0.2em;position: relative;}#sk-container-id-3 div.sk-item {position: relative;z-index: 1;}#sk-container-id-3 div.sk-parallel {display: flex;align-items: stretch;justify-content: center;background-color: white;position: relative;}#sk-container-id-3 div.sk-item::before, #sk-container-id-3 div.sk-parallel-item::before {content: \"\";position: absolute;border-left: 1px solid gray;box-sizing: border-box;top: 0;bottom: 0;left: 50%;z-index: -1;}#sk-container-id-3 div.sk-parallel-item {display: flex;flex-direction: column;z-index: 1;position: relative;background-color: white;}#sk-container-id-3 div.sk-parallel-item:first-child::after {align-self: flex-end;width: 50%;}#sk-container-id-3 div.sk-parallel-item:last-child::after {align-self: flex-start;width: 50%;}#sk-container-id-3 div.sk-parallel-item:only-child::after {width: 0;}#sk-container-id-3 div.sk-dashed-wrapped {border: 1px dashed gray;margin: 0 0.4em 0.5em 0.4em;box-sizing: border-box;padding-bottom: 0.4em;background-color: white;}#sk-container-id-3 div.sk-label label {font-family: monospace;font-weight: bold;display: inline-block;line-height: 1.2em;}#sk-container-id-3 div.sk-label-container {text-align: center;}#sk-container-id-3 div.sk-container {/* jupyter's `normalize.less` sets `[hidden] { display: none; }` but bootstrap.min.css set `[hidden] { display: none !important; }` so we also need the `!important` here to be able to override the default hidden behavior on the sphinx rendered scikit-learn.org. See: https://github.com/scikit-learn/scikit-learn/issues/21755 */display: inline-block !important;position: relative;}#sk-container-id-3 div.sk-text-repr-fallback {display: none;}</style><div id=\"sk-container-id-3\" class=\"sk-top-container\"><div class=\"sk-text-repr-fallback\"><pre>DecisionTreeClassifier(max_depth=5, min_samples_leaf=2, min_samples_split=20,\n",
       "                       random_state=12345)</pre><b>In a Jupyter environment, please rerun this cell to show the HTML representation or trust the notebook. <br />On GitHub, the HTML representation is unable to render, please try loading this page with nbviewer.org.</b></div><div class=\"sk-container\" hidden><div class=\"sk-item\"><div class=\"sk-estimator sk-toggleable\"><input class=\"sk-toggleable__control sk-hidden--visually\" id=\"sk-estimator-id-3\" type=\"checkbox\" checked><label for=\"sk-estimator-id-3\" class=\"sk-toggleable__label sk-toggleable__label-arrow\">DecisionTreeClassifier</label><div class=\"sk-toggleable__content\"><pre>DecisionTreeClassifier(max_depth=5, min_samples_leaf=2, min_samples_split=20,\n",
       "                       random_state=12345)</pre></div></div></div></div></div>"
      ],
      "text/plain": [
       "DecisionTreeClassifier(max_depth=5, min_samples_leaf=2, min_samples_split=20,\n",
       "                       random_state=12345)"
      ]
     },
     "execution_count": 117,
     "metadata": {},
     "output_type": "execute_result"
    }
   ],
   "source": [
    "predicted_test = thebest_model_1.predict(features_test)\n",
    "print('F1-мера:', f1_score(target_test, predicted_test))\n",
    "\n",
    "accuracy_test = accuracy_score(target_test, predicted_test)\n",
    "print('Accuracy:', accuracy_test)\n",
    "\n",
    "probabilities_test = thebest_model_1.predict_proba(features_test)\n",
    "probabilities_one_test = probabilities_test[:, 1]\n",
    "print('Площадь ROC-кривой:', roc_auc_score(target_test, probabilities_one_test))\n",
    "thebest_model_1"
   ]
  },
  {
   "cell_type": "markdown",
   "metadata": {},
   "source": [
    "***Выводы***\n",
    "\n",
    "1. Лучшая модель DecisionTreeClassifier(max_depth=5, min_samples_leaf=2, min_samples_split=20,\n",
    "                       random_state=12345) на тестовой выборке показала:\n",
    "                       \n",
    "- F1-мера - 0.599388379204893\n",
    "- Площадь ROC-кривой: 0.8351535516183863\n",
    "\n",
    "Условие проекта по доведения метрики F1-меры более 0.59 - выполнено\n",
    "  \n"
   ]
  }
 ],
 "metadata": {
  "ExecuteTimeLog": [
   {
    "duration": 1267,
    "start_time": "2023-01-02T21:01:08.928Z"
   },
   {
    "duration": 1124,
    "start_time": "2023-01-05T19:35:41.216Z"
   },
   {
    "duration": 92,
    "start_time": "2023-01-05T19:35:45.077Z"
   },
   {
    "duration": 52,
    "start_time": "2023-01-05T19:36:02.733Z"
   },
   {
    "duration": 4,
    "start_time": "2023-01-05T19:37:13.132Z"
   },
   {
    "duration": 10,
    "start_time": "2023-01-05T19:42:31.952Z"
   },
   {
    "duration": 11,
    "start_time": "2023-01-05T19:42:55.753Z"
   },
   {
    "duration": 5,
    "start_time": "2023-01-05T19:45:30.934Z"
   },
   {
    "duration": 5,
    "start_time": "2023-01-05T19:45:45.460Z"
   },
   {
    "duration": 5,
    "start_time": "2023-01-05T19:46:12.756Z"
   },
   {
    "duration": 3,
    "start_time": "2023-01-05T19:54:22.551Z"
   },
   {
    "duration": 5,
    "start_time": "2023-01-05T19:54:32.081Z"
   },
   {
    "duration": 11,
    "start_time": "2023-01-05T20:00:14.084Z"
   },
   {
    "duration": 4,
    "start_time": "2023-01-05T20:40:39.403Z"
   },
   {
    "duration": 91,
    "start_time": "2023-01-05T20:40:58.946Z"
   },
   {
    "duration": 8,
    "start_time": "2023-01-05T20:41:09.251Z"
   },
   {
    "duration": 8,
    "start_time": "2023-01-05T20:42:06.477Z"
   },
   {
    "duration": 5,
    "start_time": "2023-01-05T20:43:10.662Z"
   },
   {
    "duration": 4,
    "start_time": "2023-01-05T21:01:03.647Z"
   },
   {
    "duration": 72,
    "start_time": "2023-01-05T21:02:30.240Z"
   },
   {
    "duration": 4,
    "start_time": "2023-01-05T21:03:52.491Z"
   },
   {
    "duration": 4,
    "start_time": "2023-01-05T21:04:41.660Z"
   },
   {
    "duration": 1092,
    "start_time": "2023-01-05T21:09:36.400Z"
   },
   {
    "duration": 65,
    "start_time": "2023-01-05T21:09:37.494Z"
   },
   {
    "duration": 4,
    "start_time": "2023-01-05T21:09:37.560Z"
   },
   {
    "duration": 16,
    "start_time": "2023-01-05T21:09:37.566Z"
   },
   {
    "duration": 4,
    "start_time": "2023-01-05T21:09:37.584Z"
   },
   {
    "duration": 19,
    "start_time": "2023-01-05T21:09:37.590Z"
   },
   {
    "duration": 20,
    "start_time": "2023-01-05T21:09:37.611Z"
   },
   {
    "duration": 7,
    "start_time": "2023-01-05T21:09:37.633Z"
   },
   {
    "duration": 47,
    "start_time": "2023-01-05T21:10:55.489Z"
   },
   {
    "duration": 6,
    "start_time": "2023-01-05T21:12:15.994Z"
   },
   {
    "duration": 8,
    "start_time": "2023-01-05T21:12:24.883Z"
   },
   {
    "duration": 11,
    "start_time": "2023-01-05T21:15:07.435Z"
   },
   {
    "duration": 10,
    "start_time": "2023-01-05T21:15:44.319Z"
   },
   {
    "duration": 10,
    "start_time": "2023-01-05T21:16:23.329Z"
   },
   {
    "duration": 16,
    "start_time": "2023-01-05T21:20:38.040Z"
   },
   {
    "duration": 48,
    "start_time": "2023-01-05T21:28:05.580Z"
   },
   {
    "duration": 65,
    "start_time": "2023-01-05T21:29:06.022Z"
   },
   {
    "duration": 61,
    "start_time": "2023-01-05T21:29:30.584Z"
   },
   {
    "duration": 3,
    "start_time": "2023-01-05T21:30:04.424Z"
   },
   {
    "duration": 44,
    "start_time": "2023-01-05T21:32:46.128Z"
   },
   {
    "duration": 51,
    "start_time": "2023-01-05T21:33:24.542Z"
   },
   {
    "duration": 57,
    "start_time": "2023-01-05T21:35:52.374Z"
   },
   {
    "duration": 1085,
    "start_time": "2023-01-05T21:37:38.503Z"
   },
   {
    "duration": 55,
    "start_time": "2023-01-05T21:37:39.590Z"
   },
   {
    "duration": 4,
    "start_time": "2023-01-05T21:37:39.646Z"
   },
   {
    "duration": 16,
    "start_time": "2023-01-05T21:37:39.651Z"
   },
   {
    "duration": 5,
    "start_time": "2023-01-05T21:37:39.669Z"
   },
   {
    "duration": 13,
    "start_time": "2023-01-05T21:37:39.676Z"
   },
   {
    "duration": 25,
    "start_time": "2023-01-05T21:37:39.691Z"
   },
   {
    "duration": 47,
    "start_time": "2023-01-05T21:37:44.128Z"
   },
   {
    "duration": 56,
    "start_time": "2023-01-05T21:38:32.927Z"
   },
   {
    "duration": 64,
    "start_time": "2023-01-05T21:39:37.265Z"
   },
   {
    "duration": 9,
    "start_time": "2023-01-05T21:40:00.713Z"
   },
   {
    "duration": 43,
    "start_time": "2023-01-05T21:40:41.754Z"
   },
   {
    "duration": 59,
    "start_time": "2023-01-05T21:40:51.282Z"
   },
   {
    "duration": 8,
    "start_time": "2023-01-05T21:43:02.029Z"
   },
   {
    "duration": 58,
    "start_time": "2023-01-05T21:43:20.086Z"
   },
   {
    "duration": 8,
    "start_time": "2023-01-05T21:43:42.686Z"
   },
   {
    "duration": 7,
    "start_time": "2023-01-05T21:44:29.768Z"
   },
   {
    "duration": 12,
    "start_time": "2023-01-05T21:45:39.498Z"
   },
   {
    "duration": 5,
    "start_time": "2023-01-05T21:48:36.335Z"
   },
   {
    "duration": 16,
    "start_time": "2023-01-05T21:49:26.158Z"
   },
   {
    "duration": 1077,
    "start_time": "2023-01-05T21:57:28.088Z"
   },
   {
    "duration": 107,
    "start_time": "2023-01-05T21:57:29.167Z"
   },
   {
    "duration": 4,
    "start_time": "2023-01-05T21:57:29.276Z"
   },
   {
    "duration": 19,
    "start_time": "2023-01-05T21:57:29.281Z"
   },
   {
    "duration": 7,
    "start_time": "2023-01-05T21:57:29.302Z"
   },
   {
    "duration": 17,
    "start_time": "2023-01-05T21:57:29.311Z"
   },
   {
    "duration": 5,
    "start_time": "2023-01-05T21:57:29.330Z"
   },
   {
    "duration": 35,
    "start_time": "2023-01-05T21:59:59.307Z"
   },
   {
    "duration": 46,
    "start_time": "2023-01-05T22:00:30.172Z"
   },
   {
    "duration": 55,
    "start_time": "2023-01-05T22:01:12.373Z"
   },
   {
    "duration": 43,
    "start_time": "2023-01-05T22:01:41.894Z"
   },
   {
    "duration": 41,
    "start_time": "2023-01-05T22:03:08.033Z"
   },
   {
    "duration": 214,
    "start_time": "2023-01-05T22:42:58.041Z"
   },
   {
    "duration": 224,
    "start_time": "2023-01-05T22:43:14.649Z"
   },
   {
    "duration": 205,
    "start_time": "2023-01-05T22:43:29.362Z"
   },
   {
    "duration": 3,
    "start_time": "2023-01-05T22:45:31.133Z"
   },
   {
    "duration": 38,
    "start_time": "2023-01-05T22:46:29.495Z"
   },
   {
    "duration": 50,
    "start_time": "2023-01-05T22:46:41.783Z"
   },
   {
    "duration": 3,
    "start_time": "2023-01-05T22:51:58.304Z"
   },
   {
    "duration": 1120,
    "start_time": "2023-01-06T21:43:37.072Z"
   },
   {
    "duration": 98,
    "start_time": "2023-01-06T21:43:38.194Z"
   },
   {
    "duration": 4,
    "start_time": "2023-01-06T21:43:38.293Z"
   },
   {
    "duration": 13,
    "start_time": "2023-01-06T21:43:38.299Z"
   },
   {
    "duration": 5,
    "start_time": "2023-01-06T21:43:38.313Z"
   },
   {
    "duration": 18,
    "start_time": "2023-01-06T21:43:38.319Z"
   },
   {
    "duration": 5,
    "start_time": "2023-01-06T21:43:38.339Z"
   },
   {
    "duration": 66,
    "start_time": "2023-01-06T21:43:38.346Z"
   },
   {
    "duration": 4,
    "start_time": "2023-01-06T21:43:38.414Z"
   },
   {
    "duration": 221,
    "start_time": "2023-01-06T21:43:38.420Z"
   },
   {
    "duration": 11,
    "start_time": "2023-01-06T21:46:28.016Z"
   },
   {
    "duration": 9,
    "start_time": "2023-01-06T21:52:21.889Z"
   },
   {
    "duration": 7,
    "start_time": "2023-01-06T21:52:23.754Z"
   },
   {
    "duration": 3,
    "start_time": "2023-01-06T22:21:27.852Z"
   },
   {
    "duration": 59,
    "start_time": "2023-01-06T22:21:27.857Z"
   },
   {
    "duration": 4,
    "start_time": "2023-01-06T22:21:27.918Z"
   },
   {
    "duration": 13,
    "start_time": "2023-01-06T22:21:27.923Z"
   },
   {
    "duration": 4,
    "start_time": "2023-01-06T22:21:27.938Z"
   },
   {
    "duration": 21,
    "start_time": "2023-01-06T22:21:27.943Z"
   },
   {
    "duration": 5,
    "start_time": "2023-01-06T22:21:27.965Z"
   },
   {
    "duration": 57,
    "start_time": "2023-01-06T22:21:27.971Z"
   },
   {
    "duration": 228,
    "start_time": "2023-01-06T22:21:28.029Z"
   },
   {
    "duration": 9,
    "start_time": "2023-01-06T22:21:28.258Z"
   },
   {
    "duration": 8,
    "start_time": "2023-01-06T22:21:28.268Z"
   },
   {
    "duration": 109,
    "start_time": "2023-01-06T22:21:33.655Z"
   },
   {
    "duration": 99,
    "start_time": "2023-01-06T22:23:57.524Z"
   },
   {
    "duration": 38,
    "start_time": "2023-01-06T22:24:00.695Z"
   },
   {
    "duration": 7273,
    "start_time": "2023-01-06T22:24:03.764Z"
   },
   {
    "duration": 14651,
    "start_time": "2023-01-06T22:25:59.640Z"
   },
   {
    "duration": 1108,
    "start_time": "2023-01-06T22:44:38.971Z"
   },
   {
    "duration": 57,
    "start_time": "2023-01-06T22:44:40.081Z"
   },
   {
    "duration": 4,
    "start_time": "2023-01-06T22:44:40.140Z"
   },
   {
    "duration": 18,
    "start_time": "2023-01-06T22:44:40.146Z"
   },
   {
    "duration": 7,
    "start_time": "2023-01-06T22:44:40.167Z"
   },
   {
    "duration": 18,
    "start_time": "2023-01-06T22:44:40.177Z"
   },
   {
    "duration": 19,
    "start_time": "2023-01-06T22:44:40.197Z"
   },
   {
    "duration": 61,
    "start_time": "2023-01-06T22:44:40.218Z"
   },
   {
    "duration": 246,
    "start_time": "2023-01-06T22:44:40.281Z"
   },
   {
    "duration": 140,
    "start_time": "2023-01-06T22:44:40.529Z"
   },
   {
    "duration": 41,
    "start_time": "2023-01-06T22:44:40.671Z"
   },
   {
    "duration": 8110,
    "start_time": "2023-01-06T22:44:40.714Z"
   },
   {
    "duration": 14724,
    "start_time": "2023-01-06T22:44:48.825Z"
   },
   {
    "duration": 75389,
    "start_time": "2023-01-06T22:45:03.552Z"
   },
   {
    "duration": 3,
    "start_time": "2023-01-06T22:47:28.426Z"
   },
   {
    "duration": 5093,
    "start_time": "2023-01-06T22:48:03.843Z"
   },
   {
    "duration": 94999,
    "start_time": "2023-01-06T22:50:30.815Z"
   },
   {
    "duration": 26,
    "start_time": "2023-01-06T22:58:19.828Z"
   },
   {
    "duration": 7155,
    "start_time": "2023-01-06T22:58:34.740Z"
   },
   {
    "duration": 13667,
    "start_time": "2023-01-06T22:58:55.069Z"
   },
   {
    "duration": 7269,
    "start_time": "2023-01-06T22:59:22.868Z"
   },
   {
    "duration": 81136,
    "start_time": "2023-01-06T22:59:46.181Z"
   },
   {
    "duration": 1231,
    "start_time": "2023-01-07T16:14:16.778Z"
   },
   {
    "duration": 284,
    "start_time": "2023-01-07T16:14:18.011Z"
   },
   {
    "duration": 7,
    "start_time": "2023-01-07T16:14:18.297Z"
   },
   {
    "duration": 82,
    "start_time": "2023-01-07T16:14:18.305Z"
   },
   {
    "duration": 7,
    "start_time": "2023-01-07T16:14:18.391Z"
   },
   {
    "duration": 18,
    "start_time": "2023-01-07T16:14:18.400Z"
   },
   {
    "duration": 23,
    "start_time": "2023-01-07T16:14:18.419Z"
   },
   {
    "duration": 77,
    "start_time": "2023-01-07T16:14:18.444Z"
   },
   {
    "duration": 243,
    "start_time": "2023-01-07T16:14:18.524Z"
   },
   {
    "duration": 127,
    "start_time": "2023-01-07T16:14:18.770Z"
   },
   {
    "duration": 56,
    "start_time": "2023-01-07T16:14:18.900Z"
   },
   {
    "duration": 47,
    "start_time": "2023-01-07T16:14:18.963Z"
   },
   {
    "duration": 8629,
    "start_time": "2023-01-07T16:14:19.012Z"
   },
   {
    "duration": 16925,
    "start_time": "2023-01-07T16:14:27.652Z"
   },
   {
    "duration": 8287,
    "start_time": "2023-01-07T16:14:44.580Z"
   },
   {
    "duration": 928,
    "start_time": "2023-01-07T16:23:01.708Z"
   },
   {
    "duration": 1003,
    "start_time": "2023-01-07T16:26:34.876Z"
   },
   {
    "duration": 7,
    "start_time": "2023-01-07T16:27:31.272Z"
   },
   {
    "duration": 6,
    "start_time": "2023-01-07T16:27:45.795Z"
   },
   {
    "duration": 21,
    "start_time": "2023-01-07T16:31:04.466Z"
   },
   {
    "duration": 11,
    "start_time": "2023-01-07T16:31:37.673Z"
   },
   {
    "duration": 47,
    "start_time": "2023-01-07T16:46:31.782Z"
   },
   {
    "duration": 50,
    "start_time": "2023-01-07T16:47:54.578Z"
   },
   {
    "duration": 115,
    "start_time": "2023-01-07T16:48:42.147Z"
   },
   {
    "duration": 58,
    "start_time": "2023-01-07T16:58:17.698Z"
   },
   {
    "duration": 58,
    "start_time": "2023-01-07T16:58:40.930Z"
   },
   {
    "duration": 383,
    "start_time": "2023-01-07T16:59:48.251Z"
   },
   {
    "duration": 57,
    "start_time": "2023-01-07T16:59:56.163Z"
   },
   {
    "duration": 183,
    "start_time": "2023-01-07T17:04:30.219Z"
   },
   {
    "duration": 267,
    "start_time": "2023-01-07T17:25:31.165Z"
   },
   {
    "duration": 399,
    "start_time": "2023-01-07T17:26:26.055Z"
   },
   {
    "duration": 10,
    "start_time": "2023-01-07T17:29:05.841Z"
   },
   {
    "duration": 11,
    "start_time": "2023-01-07T17:29:19.771Z"
   },
   {
    "duration": 8,
    "start_time": "2023-01-07T17:30:09.700Z"
   },
   {
    "duration": 114,
    "start_time": "2023-01-07T17:30:09.711Z"
   },
   {
    "duration": 6,
    "start_time": "2023-01-07T17:30:09.828Z"
   },
   {
    "duration": 147,
    "start_time": "2023-01-07T17:30:09.836Z"
   },
   {
    "duration": 6,
    "start_time": "2023-01-07T17:30:09.987Z"
   },
   {
    "duration": 34,
    "start_time": "2023-01-07T17:30:09.995Z"
   },
   {
    "duration": 22,
    "start_time": "2023-01-07T17:30:10.032Z"
   },
   {
    "duration": 66,
    "start_time": "2023-01-07T17:30:10.057Z"
   },
   {
    "duration": 280,
    "start_time": "2023-01-07T17:30:10.125Z"
   },
   {
    "duration": 124,
    "start_time": "2023-01-07T17:30:10.407Z"
   },
   {
    "duration": 39,
    "start_time": "2023-01-07T17:30:10.533Z"
   },
   {
    "duration": 13,
    "start_time": "2023-01-07T17:30:10.576Z"
   },
   {
    "duration": 41,
    "start_time": "2023-01-07T17:30:10.592Z"
   },
   {
    "duration": 8579,
    "start_time": "2023-01-07T17:30:10.650Z"
   },
   {
    "duration": 72,
    "start_time": "2023-01-07T17:30:19.232Z"
   },
   {
    "duration": 212,
    "start_time": "2023-01-07T17:30:19.307Z"
   },
   {
    "duration": 8,
    "start_time": "2023-01-07T17:30:19.521Z"
   },
   {
    "duration": 16689,
    "start_time": "2023-01-07T17:30:19.531Z"
   },
   {
    "duration": 69,
    "start_time": "2023-01-07T17:30:36.222Z"
   },
   {
    "duration": 204,
    "start_time": "2023-01-07T17:30:36.294Z"
   },
   {
    "duration": 9,
    "start_time": "2023-01-07T17:30:36.500Z"
   },
   {
    "duration": 8764,
    "start_time": "2023-01-07T17:30:36.511Z"
   },
   {
    "duration": 201,
    "start_time": "2023-01-07T17:30:45.278Z"
   },
   {
    "duration": 503,
    "start_time": "2023-01-07T17:30:45.482Z"
   },
   {
    "duration": 6,
    "start_time": "2023-01-07T17:33:02.486Z"
   },
   {
    "duration": 87,
    "start_time": "2023-01-07T17:33:02.495Z"
   },
   {
    "duration": 6,
    "start_time": "2023-01-07T17:33:02.586Z"
   },
   {
    "duration": 20,
    "start_time": "2023-01-07T17:33:02.594Z"
   },
   {
    "duration": 13,
    "start_time": "2023-01-07T17:33:02.618Z"
   },
   {
    "duration": 49,
    "start_time": "2023-01-07T17:33:02.633Z"
   },
   {
    "duration": 6,
    "start_time": "2023-01-07T17:33:02.684Z"
   },
   {
    "duration": 59,
    "start_time": "2023-01-07T17:33:02.692Z"
   },
   {
    "duration": 284,
    "start_time": "2023-01-07T17:33:02.753Z"
   },
   {
    "duration": 152,
    "start_time": "2023-01-07T17:33:03.039Z"
   },
   {
    "duration": 31,
    "start_time": "2023-01-07T17:33:03.193Z"
   },
   {
    "duration": 32,
    "start_time": "2023-01-07T17:33:03.226Z"
   },
   {
    "duration": 47,
    "start_time": "2023-01-07T17:33:03.262Z"
   },
   {
    "duration": 8940,
    "start_time": "2023-01-07T17:33:03.313Z"
   },
   {
    "duration": 66,
    "start_time": "2023-01-07T17:33:12.256Z"
   },
   {
    "duration": 269,
    "start_time": "2023-01-07T17:33:12.324Z"
   },
   {
    "duration": 10,
    "start_time": "2023-01-07T17:33:12.596Z"
   },
   {
    "duration": 18266,
    "start_time": "2023-01-07T17:33:12.608Z"
   },
   {
    "duration": 78,
    "start_time": "2023-01-07T17:33:30.881Z"
   },
   {
    "duration": 232,
    "start_time": "2023-01-07T17:33:30.962Z"
   },
   {
    "duration": 7,
    "start_time": "2023-01-07T17:33:31.196Z"
   },
   {
    "duration": 8764,
    "start_time": "2023-01-07T17:33:31.205Z"
   },
   {
    "duration": 176,
    "start_time": "2023-01-07T17:33:39.976Z"
   },
   {
    "duration": 457,
    "start_time": "2023-01-07T17:33:40.161Z"
   },
   {
    "duration": 9,
    "start_time": "2023-01-07T17:33:40.621Z"
   },
   {
    "duration": 4,
    "start_time": "2023-01-07T18:29:48.722Z"
   },
   {
    "duration": 4,
    "start_time": "2023-01-07T18:32:20.926Z"
   },
   {
    "duration": 29,
    "start_time": "2023-01-07T18:32:59.191Z"
   },
   {
    "duration": 71,
    "start_time": "2023-01-07T18:33:58.888Z"
   },
   {
    "duration": 206,
    "start_time": "2023-01-07T18:38:04.550Z"
   },
   {
    "duration": 621,
    "start_time": "2023-01-07T18:39:30.657Z"
   },
   {
    "duration": 675,
    "start_time": "2023-01-07T18:43:10.519Z"
   },
   {
    "duration": 496,
    "start_time": "2023-01-07T18:46:26.364Z"
   },
   {
    "duration": 493,
    "start_time": "2023-01-07T18:47:08.629Z"
   },
   {
    "duration": 313,
    "start_time": "2023-01-07T18:48:23.071Z"
   },
   {
    "duration": 17524,
    "start_time": "2023-01-07T18:50:27.354Z"
   },
   {
    "duration": 5,
    "start_time": "2023-01-07T19:05:41.697Z"
   },
   {
    "duration": 788,
    "start_time": "2023-01-07T19:16:02.105Z"
   },
   {
    "duration": 883,
    "start_time": "2023-01-07T19:17:58.299Z"
   },
   {
    "duration": 809,
    "start_time": "2023-01-07T19:19:16.366Z"
   },
   {
    "duration": 113,
    "start_time": "2023-01-07T19:21:58.562Z"
   },
   {
    "duration": 725,
    "start_time": "2023-01-07T19:22:00.713Z"
   },
   {
    "duration": 813,
    "start_time": "2023-01-07T19:22:45.651Z"
   },
   {
    "duration": 483,
    "start_time": "2023-01-07T19:23:51.125Z"
   },
   {
    "duration": 5865,
    "start_time": "2023-01-07T19:25:34.423Z"
   },
   {
    "duration": 50,
    "start_time": "2023-01-07T22:05:49.371Z"
   },
   {
    "duration": 1153,
    "start_time": "2023-01-07T22:08:26.497Z"
   },
   {
    "duration": 4737,
    "start_time": "2023-01-07T22:08:45.214Z"
   },
   {
    "duration": 11,
    "start_time": "2023-01-07T22:09:06.415Z"
   },
   {
    "duration": 193,
    "start_time": "2023-01-07T22:09:23.697Z"
   },
   {
    "duration": 192,
    "start_time": "2023-01-07T22:10:43.522Z"
   },
   {
    "duration": 8210,
    "start_time": "2023-01-07T22:12:13.364Z"
   },
   {
    "duration": 485,
    "start_time": "2023-01-07T22:20:53.018Z"
   },
   {
    "duration": 249,
    "start_time": "2023-01-07T22:21:06.610Z"
   },
   {
    "duration": 14145,
    "start_time": "2023-01-07T22:21:36.723Z"
   },
   {
    "duration": 445,
    "start_time": "2023-01-07T22:26:43.746Z"
   },
   {
    "duration": 428,
    "start_time": "2023-01-07T22:27:27.484Z"
   },
   {
    "duration": 119,
    "start_time": "2023-01-07T22:35:33.403Z"
   },
   {
    "duration": 6702,
    "start_time": "2023-01-07T22:35:51.360Z"
   },
   {
    "duration": 45,
    "start_time": "2023-01-07T22:37:21.363Z"
   },
   {
    "duration": 6897,
    "start_time": "2023-01-07T22:39:15.196Z"
   },
   {
    "duration": 45,
    "start_time": "2023-01-07T22:39:27.342Z"
   },
   {
    "duration": 152,
    "start_time": "2023-01-07T22:39:34.422Z"
   },
   {
    "duration": 8,
    "start_time": "2023-01-07T22:40:01.103Z"
   },
   {
    "duration": 84778,
    "start_time": "2023-01-07T22:42:26.899Z"
   },
   {
    "duration": 1792,
    "start_time": "2023-01-07T22:44:34.605Z"
   },
   {
    "duration": 1760,
    "start_time": "2023-01-07T22:45:33.353Z"
   },
   {
    "duration": 49,
    "start_time": "2023-01-07T22:46:01.745Z"
   },
   {
    "duration": 162,
    "start_time": "2023-01-07T22:46:19.217Z"
   },
   {
    "duration": 6,
    "start_time": "2023-01-07T22:46:30.210Z"
   },
   {
    "duration": 7376,
    "start_time": "2023-01-07T22:48:09.781Z"
   },
   {
    "duration": 6659,
    "start_time": "2023-01-07T22:48:45.701Z"
   },
   {
    "duration": 66,
    "start_time": "2023-01-07T22:48:55.885Z"
   },
   {
    "duration": 334,
    "start_time": "2023-01-07T22:49:01.806Z"
   },
   {
    "duration": 8,
    "start_time": "2023-01-07T22:49:09.317Z"
   },
   {
    "duration": 420,
    "start_time": "2023-01-07T22:51:10.073Z"
   },
   {
    "duration": 224,
    "start_time": "2023-01-07T22:52:04.738Z"
   },
   {
    "duration": 250,
    "start_time": "2023-01-07T22:52:13.450Z"
   },
   {
    "duration": 890,
    "start_time": "2023-01-07T22:52:19.995Z"
   },
   {
    "duration": 477,
    "start_time": "2023-01-07T22:52:38.939Z"
   },
   {
    "duration": 462,
    "start_time": "2023-01-07T22:52:46.516Z"
   },
   {
    "duration": 453,
    "start_time": "2023-01-07T22:52:55.139Z"
   },
   {
    "duration": 468,
    "start_time": "2023-01-07T22:53:01.684Z"
   },
   {
    "duration": 393,
    "start_time": "2023-01-07T22:53:08.324Z"
   },
   {
    "duration": 383,
    "start_time": "2023-01-07T22:53:19.405Z"
   },
   {
    "duration": 381,
    "start_time": "2023-01-07T22:53:24.245Z"
   },
   {
    "duration": 402,
    "start_time": "2023-01-07T22:53:32.996Z"
   },
   {
    "duration": 421,
    "start_time": "2023-01-07T22:53:39.556Z"
   },
   {
    "duration": 383,
    "start_time": "2023-01-07T22:54:27.128Z"
   },
   {
    "duration": 417,
    "start_time": "2023-01-07T22:54:32.015Z"
   },
   {
    "duration": 378,
    "start_time": "2023-01-07T22:54:38.359Z"
   },
   {
    "duration": 402,
    "start_time": "2023-01-07T22:54:44.199Z"
   },
   {
    "duration": 124,
    "start_time": "2023-01-07T22:54:50.351Z"
   },
   {
    "duration": 393,
    "start_time": "2023-01-07T22:54:57.486Z"
   },
   {
    "duration": 391,
    "start_time": "2023-01-07T22:55:48.289Z"
   },
   {
    "duration": 388,
    "start_time": "2023-01-07T22:56:02.729Z"
   },
   {
    "duration": 394,
    "start_time": "2023-01-07T22:56:12.745Z"
   },
   {
    "duration": 391,
    "start_time": "2023-01-07T22:56:22.138Z"
   },
   {
    "duration": 359,
    "start_time": "2023-01-07T22:56:33.986Z"
   },
   {
    "duration": 380,
    "start_time": "2023-01-07T22:56:43.673Z"
   },
   {
    "duration": 376,
    "start_time": "2023-01-07T22:56:50.978Z"
   },
   {
    "duration": 401,
    "start_time": "2023-01-07T22:57:00.587Z"
   },
   {
    "duration": 393,
    "start_time": "2023-01-07T22:57:08.978Z"
   },
   {
    "duration": 392,
    "start_time": "2023-01-07T22:57:15.851Z"
   },
   {
    "duration": 378,
    "start_time": "2023-01-07T22:57:24.219Z"
   },
   {
    "duration": 386,
    "start_time": "2023-01-07T22:57:34.932Z"
   },
   {
    "duration": 391,
    "start_time": "2023-01-07T22:57:41.755Z"
   },
   {
    "duration": 395,
    "start_time": "2023-01-07T22:57:48.715Z"
   },
   {
    "duration": 217,
    "start_time": "2023-01-07T22:58:52.838Z"
   },
   {
    "duration": 846,
    "start_time": "2023-01-07T22:59:03.318Z"
   },
   {
    "duration": 1431,
    "start_time": "2023-01-07T22:59:12.606Z"
   },
   {
    "duration": 2098,
    "start_time": "2023-01-07T22:59:18.471Z"
   },
   {
    "duration": 3271,
    "start_time": "2023-01-07T22:59:25.431Z"
   },
   {
    "duration": 6877,
    "start_time": "2023-01-07T22:59:37.936Z"
   },
   {
    "duration": 6908,
    "start_time": "2023-01-07T23:02:07.336Z"
   },
   {
    "duration": 393,
    "start_time": "2023-01-07T23:02:14.251Z"
   },
   {
    "duration": 6858,
    "start_time": "2023-01-07T23:02:37.236Z"
   },
   {
    "duration": 6930,
    "start_time": "2023-01-07T23:02:58.972Z"
   },
   {
    "duration": 7052,
    "start_time": "2023-01-07T23:03:16.365Z"
   },
   {
    "duration": 6816,
    "start_time": "2023-01-07T23:03:30.485Z"
   },
   {
    "duration": 6882,
    "start_time": "2023-01-07T23:03:44.477Z"
   },
   {
    "duration": 6910,
    "start_time": "2023-01-07T23:03:58.605Z"
   },
   {
    "duration": 6997,
    "start_time": "2023-01-07T23:04:10.726Z"
   },
   {
    "duration": 2951,
    "start_time": "2023-01-07T23:04:24.975Z"
   },
   {
    "duration": 3256,
    "start_time": "2023-01-07T23:04:33.870Z"
   },
   {
    "duration": 8828,
    "start_time": "2023-01-07T23:04:43.334Z"
   },
   {
    "duration": 6822,
    "start_time": "2023-01-07T23:04:57.879Z"
   },
   {
    "duration": 5029,
    "start_time": "2023-01-07T23:05:11.735Z"
   },
   {
    "duration": 6734,
    "start_time": "2023-01-07T23:05:26.928Z"
   },
   {
    "duration": 13698,
    "start_time": "2023-01-07T23:05:54.753Z"
   },
   {
    "duration": 13523,
    "start_time": "2023-01-07T23:06:20.129Z"
   },
   {
    "duration": 10499,
    "start_time": "2023-01-07T23:06:44.154Z"
   },
   {
    "duration": 13216,
    "start_time": "2023-01-07T23:07:24.436Z"
   },
   {
    "duration": 13233,
    "start_time": "2023-01-07T23:07:55.645Z"
   },
   {
    "duration": 13634,
    "start_time": "2023-01-07T23:08:15.517Z"
   },
   {
    "duration": 88,
    "start_time": "2023-01-07T23:09:12.175Z"
   },
   {
    "duration": 92,
    "start_time": "2023-01-07T23:09:29.519Z"
   },
   {
    "duration": 549,
    "start_time": "2023-01-07T23:10:14.261Z"
   },
   {
    "duration": 17775,
    "start_time": "2023-01-07T23:12:19.339Z"
   },
   {
    "duration": 4299,
    "start_time": "2023-01-07T23:13:29.077Z"
   },
   {
    "duration": 152,
    "start_time": "2023-01-07T23:14:50.360Z"
   },
   {
    "duration": 57,
    "start_time": "2023-01-07T23:15:32.872Z"
   },
   {
    "duration": 190,
    "start_time": "2023-01-07T23:15:42.745Z"
   },
   {
    "duration": 2100,
    "start_time": "2023-01-07T23:16:52.866Z"
   },
   {
    "duration": 1507,
    "start_time": "2023-01-07T23:17:28.179Z"
   },
   {
    "duration": 3,
    "start_time": "2023-01-07T23:19:12.159Z"
   },
   {
    "duration": 87,
    "start_time": "2023-01-07T23:25:24.256Z"
   },
   {
    "duration": 87,
    "start_time": "2023-01-07T23:26:34.418Z"
   },
   {
    "duration": 6,
    "start_time": "2023-01-07T23:27:58.834Z"
   },
   {
    "duration": 57,
    "start_time": "2023-01-07T23:27:58.842Z"
   },
   {
    "duration": 5,
    "start_time": "2023-01-07T23:27:58.901Z"
   },
   {
    "duration": 15,
    "start_time": "2023-01-07T23:27:58.908Z"
   },
   {
    "duration": 5,
    "start_time": "2023-01-07T23:27:58.925Z"
   },
   {
    "duration": 20,
    "start_time": "2023-01-07T23:27:58.931Z"
   },
   {
    "duration": 10,
    "start_time": "2023-01-07T23:27:58.953Z"
   },
   {
    "duration": 49,
    "start_time": "2023-01-07T23:27:58.965Z"
   },
   {
    "duration": 252,
    "start_time": "2023-01-07T23:27:59.016Z"
   },
   {
    "duration": 112,
    "start_time": "2023-01-07T23:27:59.269Z"
   },
   {
    "duration": 27,
    "start_time": "2023-01-07T23:27:59.383Z"
   },
   {
    "duration": 9,
    "start_time": "2023-01-07T23:27:59.412Z"
   },
   {
    "duration": 51,
    "start_time": "2023-01-07T23:27:59.423Z"
   },
   {
    "duration": 6927,
    "start_time": "2023-01-07T23:27:59.478Z"
   },
   {
    "duration": 56,
    "start_time": "2023-01-07T23:28:06.407Z"
   },
   {
    "duration": 164,
    "start_time": "2023-01-07T23:28:06.465Z"
   },
   {
    "duration": 6,
    "start_time": "2023-01-07T23:28:06.631Z"
   },
   {
    "duration": 1801,
    "start_time": "2023-01-07T23:28:06.639Z"
   },
   {
    "duration": 50,
    "start_time": "2023-01-07T23:28:08.442Z"
   },
   {
    "duration": 172,
    "start_time": "2023-01-07T23:28:08.493Z"
   },
   {
    "duration": 7,
    "start_time": "2023-01-07T23:28:08.666Z"
   },
   {
    "duration": 7185,
    "start_time": "2023-01-07T23:28:08.674Z"
   },
   {
    "duration": 290,
    "start_time": "2023-01-07T23:28:15.861Z"
   },
   {
    "duration": 403,
    "start_time": "2023-01-07T23:28:16.153Z"
   },
   {
    "duration": 7,
    "start_time": "2023-01-07T23:28:16.558Z"
   },
   {
    "duration": 398,
    "start_time": "2023-01-07T23:28:16.566Z"
   },
   {
    "duration": 7029,
    "start_time": "2023-01-07T23:28:16.966Z"
   },
   {
    "duration": 13655,
    "start_time": "2023-01-07T23:28:23.997Z"
   },
   {
    "duration": 206,
    "start_time": "2023-01-07T23:28:37.654Z"
   },
   {
    "duration": 557,
    "start_time": "2023-01-07T23:28:37.862Z"
   },
   {
    "duration": 17130,
    "start_time": "2023-01-07T23:28:38.421Z"
   },
   {
    "duration": 4398,
    "start_time": "2023-01-07T23:28:55.553Z"
   },
   {
    "duration": 149,
    "start_time": "2023-01-07T23:28:59.959Z"
   },
   {
    "duration": 197,
    "start_time": "2023-01-07T23:29:00.110Z"
   },
   {
    "duration": 3,
    "start_time": "2023-01-07T23:29:00.308Z"
   },
   {
    "duration": 2219,
    "start_time": "2023-01-07T23:29:00.312Z"
   },
   {
    "duration": 1519,
    "start_time": "2023-01-07T23:29:02.533Z"
   },
   {
    "duration": 181,
    "start_time": "2023-01-07T23:29:04.055Z"
   },
   {
    "duration": 199,
    "start_time": "2023-01-07T23:34:48.952Z"
   },
   {
    "duration": 179,
    "start_time": "2023-01-07T23:36:53.235Z"
   },
   {
    "duration": 1574,
    "start_time": "2023-01-08T07:39:10.324Z"
   },
   {
    "duration": 102,
    "start_time": "2023-01-08T07:39:11.900Z"
   },
   {
    "duration": 4,
    "start_time": "2023-01-08T07:39:12.004Z"
   },
   {
    "duration": 20,
    "start_time": "2023-01-08T07:39:12.010Z"
   },
   {
    "duration": 11,
    "start_time": "2023-01-08T07:39:12.031Z"
   },
   {
    "duration": 15,
    "start_time": "2023-01-08T07:39:12.043Z"
   },
   {
    "duration": 20,
    "start_time": "2023-01-08T07:39:12.059Z"
   },
   {
    "duration": 46,
    "start_time": "2023-01-08T07:39:12.080Z"
   },
   {
    "duration": 257,
    "start_time": "2023-01-08T07:39:12.127Z"
   },
   {
    "duration": 135,
    "start_time": "2023-01-08T07:39:12.386Z"
   },
   {
    "duration": 38,
    "start_time": "2023-01-08T07:39:12.523Z"
   },
   {
    "duration": 21,
    "start_time": "2023-01-08T07:39:12.562Z"
   },
   {
    "duration": 29,
    "start_time": "2023-01-08T07:39:12.584Z"
   },
   {
    "duration": 7045,
    "start_time": "2023-01-08T07:39:12.615Z"
   },
   {
    "duration": 47,
    "start_time": "2023-01-08T07:39:19.661Z"
   },
   {
    "duration": 175,
    "start_time": "2023-01-08T07:39:19.710Z"
   },
   {
    "duration": 6,
    "start_time": "2023-01-08T07:39:19.886Z"
   },
   {
    "duration": 1863,
    "start_time": "2023-01-08T07:39:19.894Z"
   },
   {
    "duration": 49,
    "start_time": "2023-01-08T07:39:21.758Z"
   },
   {
    "duration": 168,
    "start_time": "2023-01-08T07:39:21.809Z"
   },
   {
    "duration": 5,
    "start_time": "2023-01-08T07:39:21.979Z"
   },
   {
    "duration": 7595,
    "start_time": "2023-01-08T07:39:21.986Z"
   },
   {
    "duration": 128,
    "start_time": "2023-01-08T07:39:29.582Z"
   },
   {
    "duration": 396,
    "start_time": "2023-01-08T07:39:29.782Z"
   },
   {
    "duration": 7,
    "start_time": "2023-01-08T07:39:30.179Z"
   },
   {
    "duration": 407,
    "start_time": "2023-01-08T07:39:30.187Z"
   },
   {
    "duration": 6683,
    "start_time": "2023-01-08T07:39:30.596Z"
   },
   {
    "duration": 14618,
    "start_time": "2023-01-08T07:39:37.282Z"
   },
   {
    "duration": 289,
    "start_time": "2023-01-08T07:39:51.902Z"
   },
   {
    "duration": 635,
    "start_time": "2023-01-08T07:39:52.193Z"
   },
   {
    "duration": 17749,
    "start_time": "2023-01-08T07:39:52.830Z"
   },
   {
    "duration": 4897,
    "start_time": "2023-01-08T07:40:10.581Z"
   },
   {
    "duration": 144,
    "start_time": "2023-01-08T07:40:15.481Z"
   },
   {
    "duration": 193,
    "start_time": "2023-01-08T07:40:15.626Z"
   },
   {
    "duration": 2,
    "start_time": "2023-01-08T07:40:15.821Z"
   },
   {
    "duration": 2091,
    "start_time": "2023-01-08T07:40:15.825Z"
   },
   {
    "duration": 1486,
    "start_time": "2023-01-08T07:40:17.918Z"
   },
   {
    "duration": 278,
    "start_time": "2023-01-08T07:40:19.478Z"
   },
   {
    "duration": 91,
    "start_time": "2023-01-08T07:41:34.059Z"
   },
   {
    "duration": 49,
    "start_time": "2023-01-08T07:44:01.967Z"
   },
   {
    "duration": 199,
    "start_time": "2023-01-08T07:45:03.802Z"
   },
   {
    "duration": 46,
    "start_time": "2023-01-08T07:45:11.640Z"
   },
   {
    "duration": 179,
    "start_time": "2023-01-08T07:47:14.344Z"
   },
   {
    "duration": 1547,
    "start_time": "2023-01-08T17:19:56.276Z"
   },
   {
    "duration": 91,
    "start_time": "2023-01-08T17:19:57.825Z"
   },
   {
    "duration": 4,
    "start_time": "2023-01-08T17:19:57.918Z"
   },
   {
    "duration": 34,
    "start_time": "2023-01-08T17:19:57.924Z"
   },
   {
    "duration": 25,
    "start_time": "2023-01-08T17:19:57.959Z"
   },
   {
    "duration": 32,
    "start_time": "2023-01-08T17:19:57.986Z"
   },
   {
    "duration": 20,
    "start_time": "2023-01-08T17:19:58.019Z"
   },
   {
    "duration": 63,
    "start_time": "2023-01-08T17:19:58.041Z"
   },
   {
    "duration": 242,
    "start_time": "2023-01-08T17:19:58.105Z"
   },
   {
    "duration": 146,
    "start_time": "2023-01-08T17:19:58.351Z"
   },
   {
    "duration": 35,
    "start_time": "2023-01-08T17:19:58.499Z"
   },
   {
    "duration": 10,
    "start_time": "2023-01-08T17:19:58.536Z"
   },
   {
    "duration": 43,
    "start_time": "2023-01-08T17:19:58.548Z"
   },
   {
    "duration": 7073,
    "start_time": "2023-01-08T17:19:58.593Z"
   },
   {
    "duration": 46,
    "start_time": "2023-01-08T17:20:05.668Z"
   },
   {
    "duration": 193,
    "start_time": "2023-01-08T17:20:05.716Z"
   },
   {
    "duration": 7,
    "start_time": "2023-01-08T17:20:05.911Z"
   },
   {
    "duration": 1888,
    "start_time": "2023-01-08T17:20:05.920Z"
   },
   {
    "duration": 50,
    "start_time": "2023-01-08T17:20:07.809Z"
   },
   {
    "duration": 176,
    "start_time": "2023-01-08T17:20:07.861Z"
   },
   {
    "duration": 7,
    "start_time": "2023-01-08T17:20:08.039Z"
   },
   {
    "duration": 8737,
    "start_time": "2023-01-08T17:20:08.047Z"
   },
   {
    "duration": 203,
    "start_time": "2023-01-08T17:20:16.785Z"
   },
   {
    "duration": 440,
    "start_time": "2023-01-08T17:20:16.991Z"
   },
   {
    "duration": 8,
    "start_time": "2023-01-08T17:20:17.433Z"
   },
   {
    "duration": 459,
    "start_time": "2023-01-08T17:20:17.444Z"
   },
   {
    "duration": 7024,
    "start_time": "2023-01-08T17:20:17.904Z"
   },
   {
    "duration": 17554,
    "start_time": "2023-01-08T17:20:24.932Z"
   },
   {
    "duration": 318,
    "start_time": "2023-01-08T17:20:42.488Z"
   },
   {
    "duration": 866,
    "start_time": "2023-01-08T17:20:42.807Z"
   },
   {
    "duration": 19048,
    "start_time": "2023-01-08T17:20:43.678Z"
   },
   {
    "duration": 5079,
    "start_time": "2023-01-08T17:21:02.728Z"
   },
   {
    "duration": 147,
    "start_time": "2023-01-08T17:21:07.877Z"
   },
   {
    "duration": 202,
    "start_time": "2023-01-08T17:21:08.025Z"
   },
   {
    "duration": 56,
    "start_time": "2023-01-08T17:21:08.230Z"
   },
   {
    "duration": 4,
    "start_time": "2023-01-08T17:21:08.288Z"
   },
   {
    "duration": 2177,
    "start_time": "2023-01-08T17:21:08.293Z"
   },
   {
    "duration": 1829,
    "start_time": "2023-01-08T17:21:10.472Z"
   },
   {
    "duration": 251,
    "start_time": "2023-01-08T17:21:12.303Z"
   },
   {
    "duration": 134,
    "start_time": "2023-01-08T17:29:23.410Z"
   },
   {
    "duration": 4,
    "start_time": "2023-01-08T17:34:20.437Z"
   },
   {
    "duration": 54,
    "start_time": "2023-01-08T17:34:20.444Z"
   },
   {
    "duration": 3,
    "start_time": "2023-01-08T17:34:20.500Z"
   },
   {
    "duration": 15,
    "start_time": "2023-01-08T17:34:20.505Z"
   },
   {
    "duration": 4,
    "start_time": "2023-01-08T17:34:20.522Z"
   },
   {
    "duration": 15,
    "start_time": "2023-01-08T17:34:20.528Z"
   },
   {
    "duration": 34,
    "start_time": "2023-01-08T17:34:20.544Z"
   },
   {
    "duration": 42,
    "start_time": "2023-01-08T17:34:20.580Z"
   },
   {
    "duration": 231,
    "start_time": "2023-01-08T17:34:20.624Z"
   },
   {
    "duration": 119,
    "start_time": "2023-01-08T17:34:20.858Z"
   },
   {
    "duration": 27,
    "start_time": "2023-01-08T17:34:20.979Z"
   },
   {
    "duration": 16,
    "start_time": "2023-01-08T17:34:21.008Z"
   },
   {
    "duration": 126,
    "start_time": "2023-01-08T17:34:21.026Z"
   },
   {
    "duration": 43,
    "start_time": "2023-01-08T17:34:21.153Z"
   },
   {
    "duration": 7292,
    "start_time": "2023-01-08T17:34:21.198Z"
   },
   {
    "duration": 48,
    "start_time": "2023-01-08T17:34:28.491Z"
   },
   {
    "duration": 172,
    "start_time": "2023-01-08T17:34:28.541Z"
   },
   {
    "duration": 7,
    "start_time": "2023-01-08T17:34:28.715Z"
   },
   {
    "duration": 1923,
    "start_time": "2023-01-08T17:34:28.724Z"
   },
   {
    "duration": 61,
    "start_time": "2023-01-08T17:34:30.648Z"
   },
   {
    "duration": 178,
    "start_time": "2023-01-08T17:34:30.710Z"
   },
   {
    "duration": 7,
    "start_time": "2023-01-08T17:34:30.889Z"
   },
   {
    "duration": 7681,
    "start_time": "2023-01-08T17:34:30.897Z"
   },
   {
    "duration": 127,
    "start_time": "2023-01-08T17:34:38.581Z"
   },
   {
    "duration": 427,
    "start_time": "2023-01-08T17:34:38.780Z"
   },
   {
    "duration": 7,
    "start_time": "2023-01-08T17:34:39.209Z"
   },
   {
    "duration": 437,
    "start_time": "2023-01-08T17:34:39.218Z"
   },
   {
    "duration": 6886,
    "start_time": "2023-01-08T17:34:39.658Z"
   },
   {
    "duration": 14832,
    "start_time": "2023-01-08T17:34:46.546Z"
   },
   {
    "duration": 155,
    "start_time": "2023-01-08T17:35:01.380Z"
   },
   {
    "duration": 608,
    "start_time": "2023-01-08T17:35:01.537Z"
   },
   {
    "duration": 18631,
    "start_time": "2023-01-08T17:35:02.147Z"
   },
   {
    "duration": 4799,
    "start_time": "2023-01-08T17:35:20.779Z"
   },
   {
    "duration": 147,
    "start_time": "2023-01-08T17:35:25.580Z"
   },
   {
    "duration": 210,
    "start_time": "2023-01-08T17:35:25.729Z"
   },
   {
    "duration": 53,
    "start_time": "2023-01-08T17:35:25.941Z"
   },
   {
    "duration": 3,
    "start_time": "2023-01-08T17:35:25.996Z"
   },
   {
    "duration": 2199,
    "start_time": "2023-01-08T17:35:26.000Z"
   },
   {
    "duration": 1678,
    "start_time": "2023-01-08T17:35:28.200Z"
   },
   {
    "duration": 187,
    "start_time": "2023-01-08T17:35:29.880Z"
   },
   {
    "duration": 151,
    "start_time": "2023-01-08T17:38:55.298Z"
   },
   {
    "duration": 54,
    "start_time": "2023-01-08T17:39:17.059Z"
   },
   {
    "duration": 4,
    "start_time": "2023-01-08T17:40:08.786Z"
   },
   {
    "duration": 94,
    "start_time": "2023-01-08T17:40:14.500Z"
   },
   {
    "duration": 96,
    "start_time": "2023-01-08T17:41:31.238Z"
   },
   {
    "duration": 5,
    "start_time": "2023-01-08T17:42:56.133Z"
   },
   {
    "duration": 56,
    "start_time": "2023-01-08T17:42:56.140Z"
   },
   {
    "duration": 4,
    "start_time": "2023-01-08T17:42:56.198Z"
   },
   {
    "duration": 16,
    "start_time": "2023-01-08T17:42:56.205Z"
   },
   {
    "duration": 6,
    "start_time": "2023-01-08T17:42:56.223Z"
   },
   {
    "duration": 17,
    "start_time": "2023-01-08T17:42:56.231Z"
   },
   {
    "duration": 11,
    "start_time": "2023-01-08T17:42:56.249Z"
   },
   {
    "duration": 44,
    "start_time": "2023-01-08T17:42:56.277Z"
   },
   {
    "duration": 226,
    "start_time": "2023-01-08T17:42:56.323Z"
   },
   {
    "duration": 109,
    "start_time": "2023-01-08T17:42:56.552Z"
   },
   {
    "duration": 34,
    "start_time": "2023-01-08T17:42:56.663Z"
   },
   {
    "duration": 10,
    "start_time": "2023-01-08T17:42:56.700Z"
   },
   {
    "duration": 137,
    "start_time": "2023-01-08T17:42:56.711Z"
   },
   {
    "duration": 40,
    "start_time": "2023-01-08T17:42:56.851Z"
   },
   {
    "duration": 7318,
    "start_time": "2023-01-08T17:42:56.893Z"
   },
   {
    "duration": 47,
    "start_time": "2023-01-08T17:43:04.214Z"
   },
   {
    "duration": 179,
    "start_time": "2023-01-08T17:43:04.263Z"
   },
   {
    "duration": 7,
    "start_time": "2023-01-08T17:43:04.444Z"
   },
   {
    "duration": 1963,
    "start_time": "2023-01-08T17:43:04.453Z"
   },
   {
    "duration": 48,
    "start_time": "2023-01-08T17:43:06.418Z"
   },
   {
    "duration": 172,
    "start_time": "2023-01-08T17:43:06.478Z"
   },
   {
    "duration": 7,
    "start_time": "2023-01-08T17:43:06.652Z"
   },
   {
    "duration": 8619,
    "start_time": "2023-01-08T17:43:06.660Z"
   },
   {
    "duration": 134,
    "start_time": "2023-01-08T17:43:15.281Z"
   },
   {
    "duration": 424,
    "start_time": "2023-01-08T17:43:15.479Z"
   },
   {
    "duration": 13,
    "start_time": "2023-01-08T17:43:15.905Z"
   },
   {
    "duration": 422,
    "start_time": "2023-01-08T17:43:15.920Z"
   },
   {
    "duration": 7023,
    "start_time": "2023-01-08T17:43:16.346Z"
   },
   {
    "duration": 16827,
    "start_time": "2023-01-08T17:43:23.371Z"
   },
   {
    "duration": 190,
    "start_time": "2023-01-08T17:43:40.277Z"
   },
   {
    "duration": 583,
    "start_time": "2023-01-08T17:43:40.478Z"
   },
   {
    "duration": 18971,
    "start_time": "2023-01-08T17:43:41.062Z"
   },
   {
    "duration": 4365,
    "start_time": "2023-01-08T17:44:00.035Z"
   },
   {
    "duration": 228,
    "start_time": "2023-01-08T17:44:04.401Z"
   },
   {
    "duration": 168,
    "start_time": "2023-01-08T17:44:04.631Z"
   },
   {
    "duration": 39,
    "start_time": "2023-01-08T17:44:04.800Z"
   },
   {
    "duration": 3,
    "start_time": "2023-01-08T17:44:04.842Z"
   },
   {
    "duration": 2305,
    "start_time": "2023-01-08T17:44:04.847Z"
   },
   {
    "duration": 1535,
    "start_time": "2023-01-08T17:44:07.154Z"
   },
   {
    "duration": 247,
    "start_time": "2023-01-08T17:44:08.692Z"
   },
   {
    "duration": 3,
    "start_time": "2023-01-08T17:48:33.386Z"
   },
   {
    "duration": 441,
    "start_time": "2023-01-08T17:49:33.324Z"
   },
   {
    "duration": 3,
    "start_time": "2023-01-08T18:51:05.271Z"
   },
   {
    "duration": 14508,
    "start_time": "2023-01-08T18:51:09.991Z"
   },
   {
    "duration": 3,
    "start_time": "2023-01-08T18:51:28.504Z"
   },
   {
    "duration": 260,
    "start_time": "2023-01-08T18:52:04.634Z"
   },
   {
    "duration": 1201,
    "start_time": "2023-01-08T20:32:37.077Z"
   },
   {
    "duration": 51,
    "start_time": "2023-01-08T20:32:38.280Z"
   },
   {
    "duration": 3,
    "start_time": "2023-01-08T20:32:38.333Z"
   },
   {
    "duration": 42,
    "start_time": "2023-01-08T20:32:38.337Z"
   },
   {
    "duration": 4,
    "start_time": "2023-01-08T20:32:38.381Z"
   },
   {
    "duration": 13,
    "start_time": "2023-01-08T20:32:38.386Z"
   },
   {
    "duration": 5,
    "start_time": "2023-01-08T20:32:38.400Z"
   },
   {
    "duration": 41,
    "start_time": "2023-01-08T20:32:38.406Z"
   },
   {
    "duration": 236,
    "start_time": "2023-01-08T20:32:38.449Z"
   },
   {
    "duration": 127,
    "start_time": "2023-01-08T20:32:38.686Z"
   },
   {
    "duration": 35,
    "start_time": "2023-01-08T20:32:38.814Z"
   },
   {
    "duration": 8,
    "start_time": "2023-01-08T20:32:38.851Z"
   },
   {
    "duration": 153,
    "start_time": "2023-01-08T20:32:38.861Z"
   },
   {
    "duration": 28,
    "start_time": "2023-01-08T20:32:39.017Z"
   },
   {
    "duration": 6353,
    "start_time": "2023-01-08T20:32:39.046Z"
   },
   {
    "duration": 51,
    "start_time": "2023-01-08T20:32:45.400Z"
   },
   {
    "duration": 145,
    "start_time": "2023-01-08T20:32:45.452Z"
   },
   {
    "duration": 6,
    "start_time": "2023-01-08T20:32:45.598Z"
   },
   {
    "duration": 1690,
    "start_time": "2023-01-08T20:32:45.613Z"
   },
   {
    "duration": 45,
    "start_time": "2023-01-08T20:32:47.305Z"
   },
   {
    "duration": 149,
    "start_time": "2023-01-08T20:32:47.352Z"
   },
   {
    "duration": 10,
    "start_time": "2023-01-08T20:32:47.503Z"
   },
   {
    "duration": 5803,
    "start_time": "2023-01-08T20:32:47.514Z"
   },
   {
    "duration": 198,
    "start_time": "2023-01-08T20:32:53.319Z"
   },
   {
    "duration": 394,
    "start_time": "2023-01-08T20:32:53.520Z"
   },
   {
    "duration": 6,
    "start_time": "2023-01-08T20:32:53.915Z"
   },
   {
    "duration": 357,
    "start_time": "2023-01-08T20:32:53.923Z"
   },
   {
    "duration": 6113,
    "start_time": "2023-01-08T20:32:54.282Z"
   },
   {
    "duration": 14249,
    "start_time": "2023-01-08T20:33:00.397Z"
   },
   {
    "duration": 2,
    "start_time": "2023-01-08T20:33:14.714Z"
   },
   {
    "duration": 196,
    "start_time": "2023-01-08T20:33:14.717Z"
   },
   {
    "duration": 503,
    "start_time": "2023-01-08T20:33:14.914Z"
   },
   {
    "duration": 15622,
    "start_time": "2023-01-08T20:33:15.419Z"
   },
   {
    "duration": 3,
    "start_time": "2023-01-08T20:33:31.043Z"
   },
   {
    "duration": 4195,
    "start_time": "2023-01-08T20:33:31.047Z"
   },
   {
    "duration": 52,
    "start_time": "2023-01-08T20:33:35.413Z"
   },
   {
    "duration": 198,
    "start_time": "2023-01-08T20:33:35.466Z"
   },
   {
    "duration": 51,
    "start_time": "2023-01-08T20:33:35.666Z"
   },
   {
    "duration": 2,
    "start_time": "2023-01-08T20:33:35.719Z"
   },
   {
    "duration": 2112,
    "start_time": "2023-01-08T20:33:35.722Z"
   },
   {
    "duration": 1401,
    "start_time": "2023-01-08T20:33:37.837Z"
   },
   {
    "duration": 177,
    "start_time": "2023-01-08T20:33:39.317Z"
   },
   {
    "duration": 530,
    "start_time": "2023-01-08T20:33:39.496Z"
   },
   {
    "duration": 286,
    "start_time": "2023-01-08T20:33:40.028Z"
   },
   {
    "duration": 81,
    "start_time": "2023-01-10T09:31:07.720Z"
   },
   {
    "duration": 1361,
    "start_time": "2023-01-10T09:31:31.926Z"
   },
   {
    "duration": 4,
    "start_time": "2023-01-10T09:33:03.625Z"
   },
   {
    "duration": 4,
    "start_time": "2023-01-10T09:34:33.374Z"
   },
   {
    "duration": 184,
    "start_time": "2023-01-10T09:34:33.380Z"
   },
   {
    "duration": 4,
    "start_time": "2023-01-10T09:34:33.565Z"
   },
   {
    "duration": 14,
    "start_time": "2023-01-10T09:34:33.571Z"
   },
   {
    "duration": 5,
    "start_time": "2023-01-10T09:34:33.586Z"
   },
   {
    "duration": 5,
    "start_time": "2023-01-10T09:34:38.115Z"
   },
   {
    "duration": 12,
    "start_time": "2023-01-10T09:38:21.643Z"
   },
   {
    "duration": 4,
    "start_time": "2023-01-10T09:38:32.401Z"
   },
   {
    "duration": 11,
    "start_time": "2023-01-10T09:38:49.265Z"
   },
   {
    "duration": 4,
    "start_time": "2023-01-10T09:38:51.978Z"
   },
   {
    "duration": 4,
    "start_time": "2023-01-10T09:39:04.793Z"
   },
   {
    "duration": 52,
    "start_time": "2023-01-10T09:39:04.798Z"
   },
   {
    "duration": 3,
    "start_time": "2023-01-10T09:39:04.852Z"
   },
   {
    "duration": 13,
    "start_time": "2023-01-10T09:39:04.857Z"
   },
   {
    "duration": 12,
    "start_time": "2023-01-10T09:39:04.871Z"
   },
   {
    "duration": 4,
    "start_time": "2023-01-10T09:39:08.946Z"
   },
   {
    "duration": 3,
    "start_time": "2023-01-10T09:54:54.669Z"
   },
   {
    "duration": 52,
    "start_time": "2023-01-10T09:54:54.674Z"
   },
   {
    "duration": 3,
    "start_time": "2023-01-10T09:54:54.728Z"
   },
   {
    "duration": 15,
    "start_time": "2023-01-10T09:54:54.733Z"
   },
   {
    "duration": 20,
    "start_time": "2023-01-10T09:54:54.749Z"
   },
   {
    "duration": 4,
    "start_time": "2023-01-10T09:54:54.770Z"
   },
   {
    "duration": 29,
    "start_time": "2023-01-10T09:54:54.776Z"
   },
   {
    "duration": 17,
    "start_time": "2023-01-10T09:54:54.807Z"
   },
   {
    "duration": 41,
    "start_time": "2023-01-10T09:54:54.827Z"
   },
   {
    "duration": 4,
    "start_time": "2023-01-10T09:59:30.508Z"
   },
   {
    "duration": 5,
    "start_time": "2023-01-10T09:59:46.469Z"
   },
   {
    "duration": 5,
    "start_time": "2023-01-10T10:03:21.355Z"
   },
   {
    "duration": 17,
    "start_time": "2023-01-10T10:03:27.049Z"
   },
   {
    "duration": 4,
    "start_time": "2023-01-10T10:03:55.569Z"
   },
   {
    "duration": 52,
    "start_time": "2023-01-10T10:03:55.574Z"
   },
   {
    "duration": 3,
    "start_time": "2023-01-10T10:03:55.628Z"
   },
   {
    "duration": 19,
    "start_time": "2023-01-10T10:03:55.634Z"
   },
   {
    "duration": 15,
    "start_time": "2023-01-10T10:03:55.655Z"
   },
   {
    "duration": 10,
    "start_time": "2023-01-10T10:03:55.672Z"
   },
   {
    "duration": 40,
    "start_time": "2023-01-10T10:03:55.684Z"
   },
   {
    "duration": 16,
    "start_time": "2023-01-10T10:03:55.725Z"
   },
   {
    "duration": 66,
    "start_time": "2023-01-10T10:03:55.743Z"
   },
   {
    "duration": 5,
    "start_time": "2023-01-10T10:03:55.811Z"
   },
   {
    "duration": 18,
    "start_time": "2023-01-10T10:04:05.964Z"
   },
   {
    "duration": 4,
    "start_time": "2023-01-10T10:04:41.181Z"
   },
   {
    "duration": 16,
    "start_time": "2023-01-10T10:04:47.373Z"
   },
   {
    "duration": 104,
    "start_time": "2023-01-10T10:05:43.478Z"
   },
   {
    "duration": 4,
    "start_time": "2023-01-10T10:06:01.182Z"
   },
   {
    "duration": 139,
    "start_time": "2023-01-10T10:06:01.188Z"
   },
   {
    "duration": 17,
    "start_time": "2023-01-10T10:06:01.329Z"
   },
   {
    "duration": 46,
    "start_time": "2023-01-10T10:06:01.348Z"
   },
   {
    "duration": 66,
    "start_time": "2023-01-10T10:06:01.395Z"
   },
   {
    "duration": 34,
    "start_time": "2023-01-10T10:06:01.463Z"
   },
   {
    "duration": 44,
    "start_time": "2023-01-10T10:06:01.498Z"
   },
   {
    "duration": 63,
    "start_time": "2023-01-10T10:06:01.543Z"
   },
   {
    "duration": 62,
    "start_time": "2023-01-10T10:06:01.609Z"
   },
   {
    "duration": 4,
    "start_time": "2023-01-10T10:06:06.120Z"
   },
   {
    "duration": 19,
    "start_time": "2023-01-10T10:06:13.712Z"
   },
   {
    "duration": 1525,
    "start_time": "2023-01-10T21:18:36.718Z"
   },
   {
    "duration": 104,
    "start_time": "2023-01-10T21:18:38.247Z"
   },
   {
    "duration": 4,
    "start_time": "2023-01-10T21:18:38.353Z"
   },
   {
    "duration": 26,
    "start_time": "2023-01-10T21:18:38.359Z"
   },
   {
    "duration": 17,
    "start_time": "2023-01-10T21:18:38.388Z"
   },
   {
    "duration": 4,
    "start_time": "2023-01-10T21:18:38.407Z"
   },
   {
    "duration": 12,
    "start_time": "2023-01-10T21:18:38.413Z"
   },
   {
    "duration": 6,
    "start_time": "2023-01-10T21:18:38.427Z"
   },
   {
    "duration": 75,
    "start_time": "2023-01-10T21:18:38.435Z"
   },
   {
    "duration": 4,
    "start_time": "2023-01-10T21:18:38.512Z"
   },
   {
    "duration": 23,
    "start_time": "2023-01-10T21:18:38.518Z"
   },
   {
    "duration": 8,
    "start_time": "2023-01-10T21:18:38.543Z"
   },
   {
    "duration": 10,
    "start_time": "2023-01-10T21:18:44.180Z"
   },
   {
    "duration": 7,
    "start_time": "2023-01-10T21:18:46.732Z"
   },
   {
    "duration": 9,
    "start_time": "2023-01-10T21:19:00.350Z"
   },
   {
    "duration": 133,
    "start_time": "2023-01-10T21:19:15.924Z"
   },
   {
    "duration": 122,
    "start_time": "2023-01-10T21:21:07.520Z"
   },
   {
    "duration": 5,
    "start_time": "2023-01-10T21:24:49.099Z"
   },
   {
    "duration": 59,
    "start_time": "2023-01-10T21:24:49.106Z"
   },
   {
    "duration": 5,
    "start_time": "2023-01-10T21:24:49.167Z"
   },
   {
    "duration": 15,
    "start_time": "2023-01-10T21:24:49.174Z"
   },
   {
    "duration": 15,
    "start_time": "2023-01-10T21:24:49.191Z"
   },
   {
    "duration": 6,
    "start_time": "2023-01-10T21:24:49.208Z"
   },
   {
    "duration": 25,
    "start_time": "2023-01-10T21:24:49.215Z"
   },
   {
    "duration": 8,
    "start_time": "2023-01-10T21:24:49.241Z"
   },
   {
    "duration": 58,
    "start_time": "2023-01-10T21:24:49.251Z"
   },
   {
    "duration": 4,
    "start_time": "2023-01-10T21:24:49.311Z"
   },
   {
    "duration": 25,
    "start_time": "2023-01-10T21:24:49.317Z"
   },
   {
    "duration": 7,
    "start_time": "2023-01-10T21:24:49.343Z"
   },
   {
    "duration": 7,
    "start_time": "2023-01-10T21:24:49.352Z"
   },
   {
    "duration": 38,
    "start_time": "2023-01-10T21:24:49.360Z"
   },
   {
    "duration": 125,
    "start_time": "2023-01-10T21:24:49.400Z"
   },
   {
    "duration": 5,
    "start_time": "2023-01-10T21:35:44.403Z"
   },
   {
    "duration": 54,
    "start_time": "2023-01-10T21:35:44.410Z"
   },
   {
    "duration": 4,
    "start_time": "2023-01-10T21:35:44.466Z"
   },
   {
    "duration": 20,
    "start_time": "2023-01-10T21:35:44.472Z"
   },
   {
    "duration": 13,
    "start_time": "2023-01-10T21:35:44.494Z"
   },
   {
    "duration": 5,
    "start_time": "2023-01-10T21:35:44.509Z"
   },
   {
    "duration": 15,
    "start_time": "2023-01-10T21:35:44.515Z"
   },
   {
    "duration": 6,
    "start_time": "2023-01-10T21:35:44.532Z"
   },
   {
    "duration": 62,
    "start_time": "2023-01-10T21:35:44.539Z"
   },
   {
    "duration": 4,
    "start_time": "2023-01-10T21:35:44.604Z"
   },
   {
    "duration": 22,
    "start_time": "2023-01-10T21:35:44.610Z"
   },
   {
    "duration": 9,
    "start_time": "2023-01-10T21:35:44.634Z"
   },
   {
    "duration": 10,
    "start_time": "2023-01-10T21:35:44.645Z"
   },
   {
    "duration": 10,
    "start_time": "2023-01-10T21:35:44.656Z"
   },
   {
    "duration": 125,
    "start_time": "2023-01-10T21:35:44.697Z"
   },
   {
    "duration": 127,
    "start_time": "2023-01-10T21:35:44.823Z"
   },
   {
    "duration": 331,
    "start_time": "2023-01-10T21:35:48.550Z"
   },
   {
    "duration": 14,
    "start_time": "2023-01-10T21:42:50.130Z"
   },
   {
    "duration": 12,
    "start_time": "2023-01-10T21:43:08.114Z"
   },
   {
    "duration": 13,
    "start_time": "2023-01-10T21:43:35.723Z"
   },
   {
    "duration": 13,
    "start_time": "2023-01-10T21:44:08.372Z"
   },
   {
    "duration": 24,
    "start_time": "2023-01-10T21:44:30.708Z"
   },
   {
    "duration": 5,
    "start_time": "2023-01-10T21:44:39.510Z"
   },
   {
    "duration": 57,
    "start_time": "2023-01-10T21:44:39.516Z"
   },
   {
    "duration": 4,
    "start_time": "2023-01-10T21:44:39.575Z"
   },
   {
    "duration": 94,
    "start_time": "2023-01-10T21:44:39.581Z"
   },
   {
    "duration": 25,
    "start_time": "2023-01-10T21:44:39.677Z"
   },
   {
    "duration": 5,
    "start_time": "2023-01-10T21:44:39.704Z"
   },
   {
    "duration": 13,
    "start_time": "2023-01-10T21:44:39.710Z"
   },
   {
    "duration": 6,
    "start_time": "2023-01-10T21:44:39.725Z"
   },
   {
    "duration": 64,
    "start_time": "2023-01-10T21:44:39.732Z"
   },
   {
    "duration": 4,
    "start_time": "2023-01-10T21:44:39.799Z"
   },
   {
    "duration": 22,
    "start_time": "2023-01-10T21:44:39.805Z"
   },
   {
    "duration": 7,
    "start_time": "2023-01-10T21:44:39.829Z"
   },
   {
    "duration": 10,
    "start_time": "2023-01-10T21:44:39.838Z"
   },
   {
    "duration": 15,
    "start_time": "2023-01-10T21:44:39.850Z"
   },
   {
    "duration": 156,
    "start_time": "2023-01-10T21:44:39.866Z"
   },
   {
    "duration": 26,
    "start_time": "2023-01-10T21:44:40.024Z"
   },
   {
    "duration": 3,
    "start_time": "2023-01-10T21:51:27.366Z"
   },
   {
    "duration": 60,
    "start_time": "2023-01-10T21:51:27.371Z"
   },
   {
    "duration": 3,
    "start_time": "2023-01-10T21:51:27.433Z"
   },
   {
    "duration": 28,
    "start_time": "2023-01-10T21:51:27.437Z"
   },
   {
    "duration": 12,
    "start_time": "2023-01-10T21:51:27.468Z"
   },
   {
    "duration": 4,
    "start_time": "2023-01-10T21:51:27.481Z"
   },
   {
    "duration": 16,
    "start_time": "2023-01-10T21:51:27.486Z"
   },
   {
    "duration": 12,
    "start_time": "2023-01-10T21:51:27.504Z"
   },
   {
    "duration": 47,
    "start_time": "2023-01-10T21:51:27.518Z"
   },
   {
    "duration": 5,
    "start_time": "2023-01-10T21:51:27.566Z"
   },
   {
    "duration": 37,
    "start_time": "2023-01-10T21:51:27.573Z"
   },
   {
    "duration": 8,
    "start_time": "2023-01-10T21:51:27.612Z"
   },
   {
    "duration": 11,
    "start_time": "2023-01-10T21:51:27.622Z"
   },
   {
    "duration": 10,
    "start_time": "2023-01-10T21:51:27.635Z"
   },
   {
    "duration": 142,
    "start_time": "2023-01-10T21:51:27.646Z"
   },
   {
    "duration": 26,
    "start_time": "2023-01-10T21:51:27.797Z"
   },
   {
    "duration": 372,
    "start_time": "2023-01-10T21:51:27.825Z"
   },
   {
    "duration": 16,
    "start_time": "2023-01-10T21:51:32.047Z"
   },
   {
    "duration": 22,
    "start_time": "2023-01-10T21:52:39.417Z"
   },
   {
    "duration": 22,
    "start_time": "2023-01-10T21:54:05.234Z"
   },
   {
    "duration": 13,
    "start_time": "2023-01-10T21:56:58.505Z"
   },
   {
    "duration": 20,
    "start_time": "2023-01-10T21:58:00.130Z"
   },
   {
    "duration": 45154,
    "start_time": "2023-01-10T21:58:35.754Z"
   },
   {
    "duration": 44957,
    "start_time": "2023-01-10T22:02:08.155Z"
   },
   {
    "duration": 45878,
    "start_time": "2023-01-10T22:03:55.566Z"
   },
   {
    "duration": 123,
    "start_time": "2023-01-10T22:05:23.094Z"
   },
   {
    "duration": 7,
    "start_time": "2023-01-10T22:05:55.071Z"
   },
   {
    "duration": 217359,
    "start_time": "2023-01-10T22:15:14.358Z"
   },
   {
    "duration": 171,
    "start_time": "2023-01-10T22:20:26.073Z"
   },
   {
    "duration": 6,
    "start_time": "2023-01-10T22:20:34.529Z"
   },
   {
    "duration": 29,
    "start_time": "2023-01-10T22:22:59.277Z"
   },
   {
    "duration": 51,
    "start_time": "2023-01-10T22:27:19.750Z"
   },
   {
    "duration": 13349,
    "start_time": "2023-01-10T22:28:15.350Z"
   },
   {
    "duration": 10672,
    "start_time": "2023-01-10T22:28:43.231Z"
   },
   {
    "duration": 10746,
    "start_time": "2023-01-10T22:31:07.052Z"
   },
   {
    "duration": 12175,
    "start_time": "2023-01-10T22:31:24.828Z"
   },
   {
    "duration": 21908,
    "start_time": "2023-01-10T22:31:53.990Z"
   },
   {
    "duration": 285,
    "start_time": "2023-01-10T22:32:54.272Z"
   },
   {
    "duration": 7,
    "start_time": "2023-01-10T22:32:59.647Z"
   },
   {
    "duration": 48030,
    "start_time": "2023-01-10T22:38:20.383Z"
   },
   {
    "duration": 205266,
    "start_time": "2023-01-10T22:41:33.949Z"
   },
   {
    "duration": 23174,
    "start_time": "2023-01-10T22:48:10.430Z"
   },
   {
    "duration": 97454,
    "start_time": "2023-01-10T22:49:49.703Z"
   },
   {
    "duration": 48455,
    "start_time": "2023-01-10T22:52:14.100Z"
   },
   {
    "duration": 22214,
    "start_time": "2023-01-10T23:08:05.189Z"
   },
   {
    "duration": 4,
    "start_time": "2023-01-10T23:10:24.405Z"
   },
   {
    "duration": 57,
    "start_time": "2023-01-10T23:10:24.411Z"
   },
   {
    "duration": 4,
    "start_time": "2023-01-10T23:10:24.470Z"
   },
   {
    "duration": 25,
    "start_time": "2023-01-10T23:10:24.476Z"
   },
   {
    "duration": 13,
    "start_time": "2023-01-10T23:10:24.502Z"
   },
   {
    "duration": 4,
    "start_time": "2023-01-10T23:10:24.517Z"
   },
   {
    "duration": 15,
    "start_time": "2023-01-10T23:10:24.523Z"
   },
   {
    "duration": 5,
    "start_time": "2023-01-10T23:10:24.540Z"
   },
   {
    "duration": 74,
    "start_time": "2023-01-10T23:10:24.547Z"
   },
   {
    "duration": 4,
    "start_time": "2023-01-10T23:10:24.623Z"
   },
   {
    "duration": 23,
    "start_time": "2023-01-10T23:10:24.629Z"
   },
   {
    "duration": 6,
    "start_time": "2023-01-10T23:10:24.654Z"
   },
   {
    "duration": 15,
    "start_time": "2023-01-10T23:10:24.661Z"
   },
   {
    "duration": 19,
    "start_time": "2023-01-10T23:10:24.678Z"
   },
   {
    "duration": 119,
    "start_time": "2023-01-10T23:10:24.699Z"
   },
   {
    "duration": 24,
    "start_time": "2023-01-10T23:10:24.820Z"
   },
   {
    "duration": 45560,
    "start_time": "2023-01-10T23:10:24.845Z"
   },
   {
    "duration": 128,
    "start_time": "2023-01-10T23:11:10.407Z"
   },
   {
    "duration": 7,
    "start_time": "2023-01-10T23:11:10.537Z"
   },
   {
    "duration": 205839,
    "start_time": "2023-01-10T23:11:10.545Z"
   },
   {
    "duration": 140,
    "start_time": "2023-01-10T23:14:36.386Z"
   },
   {
    "duration": 7,
    "start_time": "2023-01-10T23:14:36.527Z"
   },
   {
    "duration": 22262,
    "start_time": "2023-01-10T23:14:36.535Z"
   },
   {
    "duration": 313,
    "start_time": "2023-01-10T23:14:58.800Z"
   },
   {
    "duration": 6,
    "start_time": "2023-01-10T23:14:59.114Z"
   },
   {
    "duration": 48879,
    "start_time": "2023-01-10T23:14:59.122Z"
   },
   {
    "duration": 97812,
    "start_time": "2023-01-10T23:15:48.003Z"
   },
   {
    "duration": 29679,
    "start_time": "2023-01-10T23:17:25.819Z"
   },
   {
    "duration": 7,
    "start_time": "2023-01-10T23:17:55.499Z"
   },
   {
    "duration": 103,
    "start_time": "2023-01-10T23:17:55.512Z"
   },
   {
    "duration": 36,
    "start_time": "2023-01-10T23:17:55.617Z"
   },
   {
    "duration": 60404,
    "start_time": "2023-01-10T23:17:55.655Z"
   },
   {
    "duration": 139126,
    "start_time": "2023-01-10T23:19:12.455Z"
   },
   {
    "duration": 23187,
    "start_time": "2023-01-10T23:21:58.914Z"
   },
   {
    "duration": 14,
    "start_time": "2023-01-10T23:24:22.967Z"
   },
   {
    "duration": 22323,
    "start_time": "2023-01-10T23:28:10.133Z"
   },
   {
    "duration": 55305,
    "start_time": "2023-01-10T23:28:49.079Z"
   },
   {
    "duration": 16565,
    "start_time": "2023-01-10T23:29:59.032Z"
   },
   {
    "duration": 140003,
    "start_time": "2023-01-10T23:37:19.116Z"
   },
   {
    "duration": 25,
    "start_time": "2023-01-10T23:40:26.281Z"
   },
   {
    "duration": 26,
    "start_time": "2023-01-10T23:40:32.761Z"
   },
   {
    "duration": 11,
    "start_time": "2023-01-10T23:40:57.937Z"
   },
   {
    "duration": 26,
    "start_time": "2023-01-10T23:41:06.427Z"
   },
   {
    "duration": 1759,
    "start_time": "2023-01-11T19:03:35.184Z"
   },
   {
    "duration": 170,
    "start_time": "2023-01-11T19:03:36.945Z"
   },
   {
    "duration": 4,
    "start_time": "2023-01-11T19:03:37.117Z"
   },
   {
    "duration": 29,
    "start_time": "2023-01-11T19:03:37.123Z"
   },
   {
    "duration": 54,
    "start_time": "2023-01-11T19:03:37.158Z"
   },
   {
    "duration": 34,
    "start_time": "2023-01-11T19:03:37.214Z"
   },
   {
    "duration": 79,
    "start_time": "2023-01-11T19:03:37.250Z"
   },
   {
    "duration": 18,
    "start_time": "2023-01-11T19:03:37.331Z"
   },
   {
    "duration": 101,
    "start_time": "2023-01-11T19:03:37.351Z"
   },
   {
    "duration": 11,
    "start_time": "2023-01-11T19:03:37.454Z"
   },
   {
    "duration": 72,
    "start_time": "2023-01-11T19:03:37.467Z"
   },
   {
    "duration": 20,
    "start_time": "2023-01-11T19:03:37.541Z"
   },
   {
    "duration": 43,
    "start_time": "2023-01-11T19:03:37.563Z"
   },
   {
    "duration": 20,
    "start_time": "2023-01-11T19:03:37.610Z"
   },
   {
    "duration": 161,
    "start_time": "2023-01-11T19:03:37.632Z"
   },
   {
    "duration": 30,
    "start_time": "2023-01-11T19:03:37.795Z"
   },
   {
    "duration": 54904,
    "start_time": "2023-01-11T19:03:37.827Z"
   },
   {
    "duration": 160,
    "start_time": "2023-01-11T19:04:32.732Z"
   },
   {
    "duration": 14,
    "start_time": "2023-01-11T19:04:32.898Z"
   },
   {
    "duration": 247524,
    "start_time": "2023-01-11T19:04:32.914Z"
   },
   {
    "duration": 151,
    "start_time": "2023-01-11T19:08:40.440Z"
   },
   {
    "duration": 6,
    "start_time": "2023-01-11T19:08:40.592Z"
   },
   {
    "duration": 49285,
    "start_time": "2023-01-11T19:08:40.600Z"
   },
   {
    "duration": 309,
    "start_time": "2023-01-11T19:09:29.967Z"
   },
   {
    "duration": 11,
    "start_time": "2023-01-11T19:09:30.279Z"
   },
   {
    "duration": 55202,
    "start_time": "2023-01-11T19:09:30.292Z"
   },
   {
    "duration": 114115,
    "start_time": "2023-01-11T19:10:25.496Z"
   },
   {
    "duration": 43247,
    "start_time": "2023-01-11T19:12:19.612Z"
   },
   {
    "duration": 4,
    "start_time": "2023-01-11T19:13:02.863Z"
   },
   {
    "duration": 144,
    "start_time": "2023-01-11T19:13:02.871Z"
   },
   {
    "duration": 71529,
    "start_time": "2023-01-11T19:13:03.018Z"
   },
   {
    "duration": 151171,
    "start_time": "2023-01-11T19:14:14.549Z"
   },
   {
    "duration": 57460,
    "start_time": "2023-01-11T19:16:45.722Z"
   },
   {
    "duration": 24,
    "start_time": "2023-01-11T19:17:43.256Z"
   },
   {
    "duration": 25712,
    "start_time": "2023-01-11T19:17:43.282Z"
   },
   {
    "duration": 59740,
    "start_time": "2023-01-11T19:18:08.997Z"
   },
   {
    "duration": 44726,
    "start_time": "2023-01-11T19:19:08.739Z"
   },
   {
    "duration": 107,
    "start_time": "2023-01-11T19:19:53.471Z"
   },
   {
    "duration": 7275,
    "start_time": "2023-01-11T19:24:54.783Z"
   },
   {
    "duration": 127,
    "start_time": "2023-01-11T22:07:40.868Z"
   },
   {
    "duration": 5,
    "start_time": "2023-01-11T22:07:47.682Z"
   },
   {
    "duration": 20,
    "start_time": "2023-01-11T22:08:59.246Z"
   },
   {
    "duration": 7,
    "start_time": "2023-01-11T22:12:32.166Z"
   },
   {
    "duration": 18,
    "start_time": "2023-01-11T22:13:52.367Z"
   },
   {
    "duration": 6,
    "start_time": "2023-01-11T22:13:58.429Z"
   },
   {
    "duration": 11,
    "start_time": "2023-01-11T22:17:17.755Z"
   },
   {
    "duration": 8,
    "start_time": "2023-01-11T22:23:10.238Z"
   },
   {
    "duration": 16,
    "start_time": "2023-01-11T22:26:22.459Z"
   },
   {
    "duration": 9,
    "start_time": "2023-01-11T22:27:12.940Z"
   },
   {
    "duration": 9,
    "start_time": "2023-01-11T22:29:41.695Z"
   },
   {
    "duration": 4,
    "start_time": "2023-01-11T22:31:15.690Z"
   },
   {
    "duration": 11,
    "start_time": "2023-01-11T22:32:15.012Z"
   },
   {
    "duration": 17,
    "start_time": "2023-01-11T22:32:33.716Z"
   },
   {
    "duration": 5,
    "start_time": "2023-01-11T22:33:22.798Z"
   },
   {
    "duration": 3,
    "start_time": "2023-01-11T22:33:44.654Z"
   },
   {
    "duration": 16,
    "start_time": "2023-01-11T22:34:28.927Z"
   },
   {
    "duration": 2257,
    "start_time": "2023-01-11T22:35:43.281Z"
   },
   {
    "duration": 2416,
    "start_time": "2023-01-11T22:37:42.077Z"
   },
   {
    "duration": 5,
    "start_time": "2023-01-11T22:37:45.599Z"
   },
   {
    "duration": 53,
    "start_time": "2023-01-11T22:37:50.459Z"
   },
   {
    "duration": 4,
    "start_time": "2023-01-11T22:37:55.069Z"
   },
   {
    "duration": 19,
    "start_time": "2023-01-11T22:38:11.654Z"
   },
   {
    "duration": 2180,
    "start_time": "2023-01-11T22:39:00.230Z"
   },
   {
    "duration": 5,
    "start_time": "2023-01-11T22:39:02.413Z"
   },
   {
    "duration": 57,
    "start_time": "2023-01-11T22:39:02.420Z"
   },
   {
    "duration": 4,
    "start_time": "2023-01-11T22:39:02.478Z"
   },
   {
    "duration": 30,
    "start_time": "2023-01-11T22:39:02.484Z"
   },
   {
    "duration": 13,
    "start_time": "2023-01-11T22:39:02.515Z"
   },
   {
    "duration": 8,
    "start_time": "2023-01-11T22:39:02.529Z"
   },
   {
    "duration": 23,
    "start_time": "2023-01-11T22:39:02.538Z"
   },
   {
    "duration": 7,
    "start_time": "2023-01-11T22:39:02.562Z"
   },
   {
    "duration": 50,
    "start_time": "2023-01-11T22:39:02.570Z"
   },
   {
    "duration": 5,
    "start_time": "2023-01-11T22:39:02.621Z"
   },
   {
    "duration": 33,
    "start_time": "2023-01-11T22:39:02.627Z"
   },
   {
    "duration": 7,
    "start_time": "2023-01-11T22:39:02.662Z"
   },
   {
    "duration": 15,
    "start_time": "2023-01-11T22:39:02.672Z"
   },
   {
    "duration": 16,
    "start_time": "2023-01-11T22:39:02.689Z"
   },
   {
    "duration": 19,
    "start_time": "2023-01-11T22:39:02.707Z"
   },
   {
    "duration": 9,
    "start_time": "2023-01-11T22:39:02.728Z"
   },
   {
    "duration": 17,
    "start_time": "2023-01-11T22:39:02.738Z"
   },
   {
    "duration": 10,
    "start_time": "2023-01-11T22:39:02.756Z"
   },
   {
    "duration": 19,
    "start_time": "2023-01-11T22:39:02.767Z"
   },
   {
    "duration": 0,
    "start_time": "2023-01-11T22:39:02.788Z"
   },
   {
    "duration": 0,
    "start_time": "2023-01-11T22:39:02.790Z"
   },
   {
    "duration": 0,
    "start_time": "2023-01-11T22:39:02.791Z"
   },
   {
    "duration": 0,
    "start_time": "2023-01-11T22:39:02.793Z"
   },
   {
    "duration": 0,
    "start_time": "2023-01-11T22:39:02.795Z"
   },
   {
    "duration": 0,
    "start_time": "2023-01-11T22:39:02.796Z"
   },
   {
    "duration": 0,
    "start_time": "2023-01-11T22:39:02.798Z"
   },
   {
    "duration": 0,
    "start_time": "2023-01-11T22:39:02.799Z"
   },
   {
    "duration": 0,
    "start_time": "2023-01-11T22:39:02.801Z"
   },
   {
    "duration": 0,
    "start_time": "2023-01-11T22:39:02.802Z"
   },
   {
    "duration": 0,
    "start_time": "2023-01-11T22:39:02.804Z"
   },
   {
    "duration": 0,
    "start_time": "2023-01-11T22:39:02.805Z"
   },
   {
    "duration": 0,
    "start_time": "2023-01-11T22:39:02.807Z"
   },
   {
    "duration": 0,
    "start_time": "2023-01-11T22:39:02.808Z"
   },
   {
    "duration": 0,
    "start_time": "2023-01-11T22:39:02.809Z"
   },
   {
    "duration": 0,
    "start_time": "2023-01-11T22:39:02.810Z"
   },
   {
    "duration": 0,
    "start_time": "2023-01-11T22:39:02.811Z"
   },
   {
    "duration": 0,
    "start_time": "2023-01-11T22:39:02.855Z"
   },
   {
    "duration": 0,
    "start_time": "2023-01-11T22:39:02.857Z"
   },
   {
    "duration": 0,
    "start_time": "2023-01-11T22:39:02.858Z"
   },
   {
    "duration": 0,
    "start_time": "2023-01-11T22:39:02.859Z"
   },
   {
    "duration": 0,
    "start_time": "2023-01-11T22:39:02.860Z"
   },
   {
    "duration": 0,
    "start_time": "2023-01-11T22:39:02.862Z"
   },
   {
    "duration": 0,
    "start_time": "2023-01-11T22:39:02.863Z"
   },
   {
    "duration": 15,
    "start_time": "2023-01-11T22:44:29.937Z"
   },
   {
    "duration": 30,
    "start_time": "2023-01-11T22:45:01.354Z"
   },
   {
    "duration": 15,
    "start_time": "2023-01-11T22:50:11.674Z"
   },
   {
    "duration": 16,
    "start_time": "2023-01-11T22:51:30.892Z"
   },
   {
    "duration": 13,
    "start_time": "2023-01-11T22:52:21.976Z"
   },
   {
    "duration": 4,
    "start_time": "2023-01-11T22:53:27.268Z"
   },
   {
    "duration": 21,
    "start_time": "2023-01-11T22:53:38.593Z"
   },
   {
    "duration": 6031,
    "start_time": "2023-01-11T22:55:21.282Z"
   },
   {
    "duration": 5487,
    "start_time": "2023-01-11T22:56:04.968Z"
   },
   {
    "duration": 4760,
    "start_time": "2023-01-11T22:56:10.459Z"
   },
   {
    "duration": 7,
    "start_time": "2023-01-11T22:56:15.221Z"
   },
   {
    "duration": 66,
    "start_time": "2023-01-11T22:56:15.230Z"
   },
   {
    "duration": 4,
    "start_time": "2023-01-11T22:56:15.300Z"
   },
   {
    "duration": 20,
    "start_time": "2023-01-11T22:56:15.306Z"
   },
   {
    "duration": 15,
    "start_time": "2023-01-11T22:56:15.327Z"
   },
   {
    "duration": 22,
    "start_time": "2023-01-11T22:56:15.344Z"
   },
   {
    "duration": 16,
    "start_time": "2023-01-11T22:56:15.368Z"
   },
   {
    "duration": 6,
    "start_time": "2023-01-11T22:56:15.385Z"
   },
   {
    "duration": 62,
    "start_time": "2023-01-11T22:56:15.393Z"
   },
   {
    "duration": 6,
    "start_time": "2023-01-11T22:56:15.457Z"
   },
   {
    "duration": 33,
    "start_time": "2023-01-11T22:56:15.465Z"
   },
   {
    "duration": 8,
    "start_time": "2023-01-11T22:56:15.502Z"
   },
   {
    "duration": 14,
    "start_time": "2023-01-11T22:56:15.512Z"
   },
   {
    "duration": 27,
    "start_time": "2023-01-11T22:56:15.528Z"
   },
   {
    "duration": 10,
    "start_time": "2023-01-11T22:56:15.558Z"
   },
   {
    "duration": 10,
    "start_time": "2023-01-11T22:56:15.570Z"
   },
   {
    "duration": 9,
    "start_time": "2023-01-11T22:56:15.582Z"
   },
   {
    "duration": 8,
    "start_time": "2023-01-11T22:56:15.593Z"
   },
   {
    "duration": 28,
    "start_time": "2023-01-11T22:56:15.602Z"
   },
   {
    "duration": 0,
    "start_time": "2023-01-11T22:56:15.657Z"
   },
   {
    "duration": 0,
    "start_time": "2023-01-11T22:56:15.660Z"
   },
   {
    "duration": 0,
    "start_time": "2023-01-11T22:56:15.662Z"
   },
   {
    "duration": 0,
    "start_time": "2023-01-11T22:56:15.663Z"
   },
   {
    "duration": 0,
    "start_time": "2023-01-11T22:56:15.665Z"
   },
   {
    "duration": 0,
    "start_time": "2023-01-11T22:56:15.666Z"
   },
   {
    "duration": 0,
    "start_time": "2023-01-11T22:56:15.668Z"
   },
   {
    "duration": 0,
    "start_time": "2023-01-11T22:56:15.670Z"
   },
   {
    "duration": 0,
    "start_time": "2023-01-11T22:56:15.671Z"
   },
   {
    "duration": 1,
    "start_time": "2023-01-11T22:56:15.673Z"
   },
   {
    "duration": 0,
    "start_time": "2023-01-11T22:56:15.675Z"
   },
   {
    "duration": 0,
    "start_time": "2023-01-11T22:56:15.677Z"
   },
   {
    "duration": 0,
    "start_time": "2023-01-11T22:56:15.678Z"
   },
   {
    "duration": 0,
    "start_time": "2023-01-11T22:56:15.680Z"
   },
   {
    "duration": 0,
    "start_time": "2023-01-11T22:56:15.681Z"
   },
   {
    "duration": 1,
    "start_time": "2023-01-11T22:56:15.682Z"
   },
   {
    "duration": 0,
    "start_time": "2023-01-11T22:56:15.684Z"
   },
   {
    "duration": 1,
    "start_time": "2023-01-11T22:56:15.685Z"
   },
   {
    "duration": 0,
    "start_time": "2023-01-11T22:56:15.687Z"
   },
   {
    "duration": 0,
    "start_time": "2023-01-11T22:56:15.688Z"
   },
   {
    "duration": 0,
    "start_time": "2023-01-11T22:56:15.690Z"
   },
   {
    "duration": 0,
    "start_time": "2023-01-11T22:56:15.691Z"
   },
   {
    "duration": 0,
    "start_time": "2023-01-11T22:56:15.692Z"
   },
   {
    "duration": 0,
    "start_time": "2023-01-11T22:56:15.694Z"
   },
   {
    "duration": 7090,
    "start_time": "2023-01-12T19:02:13.481Z"
   },
   {
    "duration": 5246,
    "start_time": "2023-01-12T19:02:20.573Z"
   },
   {
    "duration": 5034,
    "start_time": "2023-01-12T19:02:53.120Z"
   },
   {
    "duration": 4410,
    "start_time": "2023-01-12T19:02:58.156Z"
   },
   {
    "duration": 1397,
    "start_time": "2023-01-12T19:03:02.568Z"
   },
   {
    "duration": 98,
    "start_time": "2023-01-12T19:03:03.967Z"
   },
   {
    "duration": 3,
    "start_time": "2023-01-12T19:03:04.068Z"
   },
   {
    "duration": 48,
    "start_time": "2023-01-12T19:03:04.073Z"
   },
   {
    "duration": 17,
    "start_time": "2023-01-12T19:03:04.122Z"
   },
   {
    "duration": 24,
    "start_time": "2023-01-12T19:03:04.140Z"
   },
   {
    "duration": 34,
    "start_time": "2023-01-12T19:03:04.165Z"
   },
   {
    "duration": 28,
    "start_time": "2023-01-12T19:03:04.201Z"
   },
   {
    "duration": 67,
    "start_time": "2023-01-12T19:03:04.230Z"
   },
   {
    "duration": 4,
    "start_time": "2023-01-12T19:03:04.298Z"
   },
   {
    "duration": 55,
    "start_time": "2023-01-12T19:03:04.303Z"
   },
   {
    "duration": 23,
    "start_time": "2023-01-12T19:03:04.359Z"
   },
   {
    "duration": 47,
    "start_time": "2023-01-12T19:03:04.383Z"
   },
   {
    "duration": 24,
    "start_time": "2023-01-12T19:03:04.431Z"
   },
   {
    "duration": 29,
    "start_time": "2023-01-12T19:03:04.456Z"
   },
   {
    "duration": 26,
    "start_time": "2023-01-12T19:03:04.487Z"
   },
   {
    "duration": 31,
    "start_time": "2023-01-12T19:03:04.515Z"
   },
   {
    "duration": 43,
    "start_time": "2023-01-12T19:03:04.548Z"
   },
   {
    "duration": 67,
    "start_time": "2023-01-12T19:03:04.593Z"
   },
   {
    "duration": 7,
    "start_time": "2023-01-12T19:03:04.662Z"
   },
   {
    "duration": 155,
    "start_time": "2023-01-12T19:03:04.671Z"
   },
   {
    "duration": 22,
    "start_time": "2023-01-12T19:03:04.828Z"
   },
   {
    "duration": 4845,
    "start_time": "2023-01-12T19:16:17.090Z"
   },
   {
    "duration": 4414,
    "start_time": "2023-01-12T19:16:21.937Z"
   },
   {
    "duration": 4,
    "start_time": "2023-01-12T19:16:26.353Z"
   },
   {
    "duration": 60,
    "start_time": "2023-01-12T19:16:26.359Z"
   },
   {
    "duration": 3,
    "start_time": "2023-01-12T19:16:26.421Z"
   },
   {
    "duration": 14,
    "start_time": "2023-01-12T19:16:26.426Z"
   },
   {
    "duration": 11,
    "start_time": "2023-01-12T19:16:26.441Z"
   },
   {
    "duration": 4,
    "start_time": "2023-01-12T19:16:26.453Z"
   },
   {
    "duration": 18,
    "start_time": "2023-01-12T19:16:26.458Z"
   },
   {
    "duration": 5,
    "start_time": "2023-01-12T19:16:26.477Z"
   },
   {
    "duration": 39,
    "start_time": "2023-01-12T19:16:26.484Z"
   },
   {
    "duration": 4,
    "start_time": "2023-01-12T19:16:26.525Z"
   },
   {
    "duration": 168,
    "start_time": "2023-01-12T19:16:26.530Z"
   },
   {
    "duration": 8,
    "start_time": "2023-01-12T19:16:26.700Z"
   },
   {
    "duration": 8,
    "start_time": "2023-01-12T19:16:26.710Z"
   },
   {
    "duration": 12,
    "start_time": "2023-01-12T19:16:26.719Z"
   },
   {
    "duration": 8,
    "start_time": "2023-01-12T19:16:26.733Z"
   },
   {
    "duration": 11,
    "start_time": "2023-01-12T19:16:26.744Z"
   },
   {
    "duration": 6,
    "start_time": "2023-01-12T19:16:26.777Z"
   },
   {
    "duration": 6,
    "start_time": "2023-01-12T19:16:26.785Z"
   },
   {
    "duration": 39,
    "start_time": "2023-01-12T19:16:26.792Z"
   },
   {
    "duration": 7,
    "start_time": "2023-01-12T19:16:26.832Z"
   },
   {
    "duration": 137,
    "start_time": "2023-01-12T19:16:26.840Z"
   },
   {
    "duration": 21,
    "start_time": "2023-01-12T19:16:26.978Z"
   },
   {
    "duration": 44740,
    "start_time": "2023-01-12T19:16:27.001Z"
   },
   {
    "duration": 122,
    "start_time": "2023-01-12T19:17:11.742Z"
   },
   {
    "duration": 12,
    "start_time": "2023-01-12T19:17:11.865Z"
   },
   {
    "duration": 208029,
    "start_time": "2023-01-12T19:17:11.878Z"
   },
   {
    "duration": 120,
    "start_time": "2023-01-12T19:20:39.908Z"
   },
   {
    "duration": 6,
    "start_time": "2023-01-12T19:20:40.030Z"
   },
   {
    "duration": 33041,
    "start_time": "2023-01-12T19:20:40.037Z"
   },
   {
    "duration": 361,
    "start_time": "2023-01-12T19:21:13.080Z"
   },
   {
    "duration": 5,
    "start_time": "2023-01-12T19:21:13.443Z"
   },
   {
    "duration": 47170,
    "start_time": "2023-01-12T19:21:13.450Z"
   },
   {
    "duration": 101238,
    "start_time": "2023-01-12T19:22:00.622Z"
   },
   {
    "duration": 27420,
    "start_time": "2023-01-12T19:23:41.862Z"
   },
   {
    "duration": 188,
    "start_time": "2023-01-12T19:24:09.289Z"
   },
   {
    "duration": 60122,
    "start_time": "2023-01-12T19:24:09.478Z"
   },
   {
    "duration": 133877,
    "start_time": "2023-01-12T19:25:09.601Z"
   },
   {
    "duration": 30302,
    "start_time": "2023-01-12T19:27:23.480Z"
   },
   {
    "duration": 97,
    "start_time": "2023-01-12T19:27:53.784Z"
   },
   {
    "duration": 23475,
    "start_time": "2023-01-12T19:27:53.883Z"
   },
   {
    "duration": 56308,
    "start_time": "2023-01-12T19:28:17.359Z"
   },
   {
    "duration": 31408,
    "start_time": "2023-01-12T19:29:13.668Z"
   },
   {
    "duration": 117,
    "start_time": "2023-01-12T19:29:45.083Z"
   },
   {
    "duration": 178,
    "start_time": "2023-01-12T19:29:45.201Z"
   },
   {
    "duration": 5148,
    "start_time": "2023-01-12T19:40:03.865Z"
   },
   {
    "duration": 4146,
    "start_time": "2023-01-12T19:40:09.016Z"
   },
   {
    "duration": 5,
    "start_time": "2023-01-12T19:40:13.164Z"
   },
   {
    "duration": 59,
    "start_time": "2023-01-12T19:40:13.170Z"
   },
   {
    "duration": 4,
    "start_time": "2023-01-12T19:40:13.231Z"
   },
   {
    "duration": 32,
    "start_time": "2023-01-12T19:40:13.237Z"
   },
   {
    "duration": 28,
    "start_time": "2023-01-12T19:40:13.270Z"
   },
   {
    "duration": 16,
    "start_time": "2023-01-12T19:40:13.299Z"
   },
   {
    "duration": 15,
    "start_time": "2023-01-12T19:40:13.317Z"
   },
   {
    "duration": 6,
    "start_time": "2023-01-12T19:40:13.333Z"
   },
   {
    "duration": 42,
    "start_time": "2023-01-12T19:40:13.341Z"
   },
   {
    "duration": 6,
    "start_time": "2023-01-12T19:40:13.385Z"
   },
   {
    "duration": 23,
    "start_time": "2023-01-12T19:40:13.392Z"
   },
   {
    "duration": 28,
    "start_time": "2023-01-12T19:40:13.418Z"
   },
   {
    "duration": 20,
    "start_time": "2023-01-12T19:40:13.448Z"
   },
   {
    "duration": 13,
    "start_time": "2023-01-12T19:40:13.470Z"
   },
   {
    "duration": 7,
    "start_time": "2023-01-12T19:40:13.484Z"
   },
   {
    "duration": 8,
    "start_time": "2023-01-12T19:40:13.492Z"
   },
   {
    "duration": 6,
    "start_time": "2023-01-12T19:40:13.501Z"
   },
   {
    "duration": 10,
    "start_time": "2023-01-12T19:40:13.509Z"
   },
   {
    "duration": 60,
    "start_time": "2023-01-12T19:40:13.521Z"
   },
   {
    "duration": 26,
    "start_time": "2023-01-12T19:40:18.014Z"
   },
   {
    "duration": 4,
    "start_time": "2023-01-12T20:05:37.122Z"
   },
   {
    "duration": 4,
    "start_time": "2023-01-12T20:06:55.371Z"
   },
   {
    "duration": 4,
    "start_time": "2023-01-12T20:07:20.275Z"
   },
   {
    "duration": 9296,
    "start_time": "2023-01-12T20:13:53.183Z"
   },
   {
    "duration": 9216,
    "start_time": "2023-01-12T20:17:01.670Z"
   },
   {
    "duration": 9682,
    "start_time": "2023-01-12T20:20:19.399Z"
   },
   {
    "duration": 9446,
    "start_time": "2023-01-12T20:22:19.733Z"
   },
   {
    "duration": 14,
    "start_time": "2023-01-12T20:23:10.389Z"
   },
   {
    "duration": 5048,
    "start_time": "2023-01-12T20:23:35.933Z"
   },
   {
    "duration": 4284,
    "start_time": "2023-01-12T20:23:40.983Z"
   },
   {
    "duration": 5,
    "start_time": "2023-01-12T20:23:45.269Z"
   },
   {
    "duration": 65,
    "start_time": "2023-01-12T20:23:45.276Z"
   },
   {
    "duration": 4,
    "start_time": "2023-01-12T20:23:45.343Z"
   },
   {
    "duration": 12,
    "start_time": "2023-01-12T20:23:45.349Z"
   },
   {
    "duration": 14,
    "start_time": "2023-01-12T20:23:45.363Z"
   },
   {
    "duration": 5,
    "start_time": "2023-01-12T20:23:45.379Z"
   },
   {
    "duration": 16,
    "start_time": "2023-01-12T20:23:45.386Z"
   },
   {
    "duration": 6,
    "start_time": "2023-01-12T20:23:45.404Z"
   },
   {
    "duration": 41,
    "start_time": "2023-01-12T20:23:45.412Z"
   },
   {
    "duration": 4,
    "start_time": "2023-01-12T20:23:45.476Z"
   },
   {
    "duration": 20,
    "start_time": "2023-01-12T20:23:45.482Z"
   },
   {
    "duration": 7,
    "start_time": "2023-01-12T20:23:45.504Z"
   },
   {
    "duration": 7,
    "start_time": "2023-01-12T20:23:45.512Z"
   },
   {
    "duration": 12,
    "start_time": "2023-01-12T20:23:45.521Z"
   },
   {
    "duration": 14,
    "start_time": "2023-01-12T20:23:45.535Z"
   },
   {
    "duration": 28,
    "start_time": "2023-01-12T20:23:45.551Z"
   },
   {
    "duration": 7,
    "start_time": "2023-01-12T20:23:45.581Z"
   },
   {
    "duration": 6,
    "start_time": "2023-01-12T20:23:45.589Z"
   },
   {
    "duration": 43,
    "start_time": "2023-01-12T20:23:45.596Z"
   },
   {
    "duration": 45,
    "start_time": "2023-01-12T20:23:45.640Z"
   },
   {
    "duration": 3,
    "start_time": "2023-01-12T20:23:45.686Z"
   },
   {
    "duration": 11,
    "start_time": "2023-01-12T20:23:45.691Z"
   },
   {
    "duration": 9946,
    "start_time": "2023-01-12T20:24:11.131Z"
   },
   {
    "duration": 8197,
    "start_time": "2023-01-12T20:25:54.585Z"
   },
   {
    "duration": 8467,
    "start_time": "2023-01-12T20:27:14.911Z"
   },
   {
    "duration": 8425,
    "start_time": "2023-01-12T20:29:12.354Z"
   },
   {
    "duration": 8046,
    "start_time": "2023-01-12T20:34:09.436Z"
   },
   {
    "duration": 7714,
    "start_time": "2023-01-12T20:34:44.963Z"
   },
   {
    "duration": 7526,
    "start_time": "2023-01-12T20:35:38.056Z"
   },
   {
    "duration": 7604,
    "start_time": "2023-01-12T20:35:59.183Z"
   },
   {
    "duration": 4,
    "start_time": "2023-01-12T20:37:26.673Z"
   },
   {
    "duration": 12,
    "start_time": "2023-01-12T20:40:38.623Z"
   },
   {
    "duration": 4977,
    "start_time": "2023-01-12T20:40:56.416Z"
   },
   {
    "duration": 4510,
    "start_time": "2023-01-12T20:41:01.395Z"
   },
   {
    "duration": 5,
    "start_time": "2023-01-12T20:41:05.908Z"
   },
   {
    "duration": 70,
    "start_time": "2023-01-12T20:41:05.915Z"
   },
   {
    "duration": 3,
    "start_time": "2023-01-12T20:41:05.988Z"
   },
   {
    "duration": 15,
    "start_time": "2023-01-12T20:41:05.993Z"
   },
   {
    "duration": 12,
    "start_time": "2023-01-12T20:41:06.009Z"
   },
   {
    "duration": 29,
    "start_time": "2023-01-12T20:41:06.022Z"
   },
   {
    "duration": 15,
    "start_time": "2023-01-12T20:41:06.052Z"
   },
   {
    "duration": 9,
    "start_time": "2023-01-12T20:41:06.068Z"
   },
   {
    "duration": 39,
    "start_time": "2023-01-12T20:41:06.079Z"
   },
   {
    "duration": 4,
    "start_time": "2023-01-12T20:41:06.120Z"
   },
   {
    "duration": 18,
    "start_time": "2023-01-12T20:41:06.126Z"
   },
   {
    "duration": 32,
    "start_time": "2023-01-12T20:41:06.147Z"
   },
   {
    "duration": 7,
    "start_time": "2023-01-12T20:41:06.181Z"
   },
   {
    "duration": 13,
    "start_time": "2023-01-12T20:41:06.190Z"
   },
   {
    "duration": 7,
    "start_time": "2023-01-12T20:41:06.205Z"
   },
   {
    "duration": 7,
    "start_time": "2023-01-12T20:41:06.214Z"
   },
   {
    "duration": 6,
    "start_time": "2023-01-12T20:41:06.223Z"
   },
   {
    "duration": 6,
    "start_time": "2023-01-12T20:41:06.231Z"
   },
   {
    "duration": 41,
    "start_time": "2023-01-12T20:41:06.277Z"
   },
   {
    "duration": 25,
    "start_time": "2023-01-12T20:41:06.320Z"
   },
   {
    "duration": 4,
    "start_time": "2023-01-12T20:41:06.346Z"
   },
   {
    "duration": 3,
    "start_time": "2023-01-12T20:41:06.376Z"
   },
   {
    "duration": 8996,
    "start_time": "2023-01-12T20:41:06.381Z"
   },
   {
    "duration": 98,
    "start_time": "2023-01-12T20:41:15.379Z"
   },
   {
    "duration": 13,
    "start_time": "2023-01-12T20:41:25.984Z"
   },
   {
    "duration": 5085,
    "start_time": "2023-01-12T20:42:55.229Z"
   },
   {
    "duration": 4434,
    "start_time": "2023-01-12T20:43:00.317Z"
   },
   {
    "duration": 14,
    "start_time": "2023-01-12T20:43:04.753Z"
   },
   {
    "duration": 68,
    "start_time": "2023-01-12T20:43:04.770Z"
   },
   {
    "duration": 6,
    "start_time": "2023-01-12T20:43:04.840Z"
   },
   {
    "duration": 25,
    "start_time": "2023-01-12T20:43:04.847Z"
   },
   {
    "duration": 14,
    "start_time": "2023-01-12T20:43:04.876Z"
   },
   {
    "duration": 4,
    "start_time": "2023-01-12T20:43:04.893Z"
   },
   {
    "duration": 15,
    "start_time": "2023-01-12T20:43:04.899Z"
   },
   {
    "duration": 12,
    "start_time": "2023-01-12T20:43:04.918Z"
   },
   {
    "duration": 68,
    "start_time": "2023-01-12T20:43:04.932Z"
   },
   {
    "duration": 4,
    "start_time": "2023-01-12T20:43:05.001Z"
   },
   {
    "duration": 37,
    "start_time": "2023-01-12T20:43:05.007Z"
   },
   {
    "duration": 8,
    "start_time": "2023-01-12T20:43:05.046Z"
   },
   {
    "duration": 10,
    "start_time": "2023-01-12T20:43:05.056Z"
   },
   {
    "duration": 12,
    "start_time": "2023-01-12T20:43:05.068Z"
   },
   {
    "duration": 7,
    "start_time": "2023-01-12T20:43:05.082Z"
   },
   {
    "duration": 9,
    "start_time": "2023-01-12T20:43:05.091Z"
   },
   {
    "duration": 10,
    "start_time": "2023-01-12T20:43:05.102Z"
   },
   {
    "duration": 7,
    "start_time": "2023-01-12T20:43:05.114Z"
   },
   {
    "duration": 64,
    "start_time": "2023-01-12T20:43:05.123Z"
   },
   {
    "duration": 28,
    "start_time": "2023-01-12T20:43:05.188Z"
   },
   {
    "duration": 4,
    "start_time": "2023-01-12T20:43:05.218Z"
   },
   {
    "duration": 10,
    "start_time": "2023-01-12T20:43:05.223Z"
   },
   {
    "duration": 9341,
    "start_time": "2023-01-12T20:43:05.235Z"
   },
   {
    "duration": 5,
    "start_time": "2023-01-12T20:43:14.579Z"
   },
   {
    "duration": 16,
    "start_time": "2023-01-12T20:43:19.123Z"
   },
   {
    "duration": 11,
    "start_time": "2023-01-12T20:46:22.888Z"
   },
   {
    "duration": 5139,
    "start_time": "2023-01-12T20:47:11.472Z"
   },
   {
    "duration": 4318,
    "start_time": "2023-01-12T20:47:16.613Z"
   },
   {
    "duration": 5,
    "start_time": "2023-01-12T20:47:20.933Z"
   },
   {
    "duration": 107,
    "start_time": "2023-01-12T20:47:20.939Z"
   },
   {
    "duration": 3,
    "start_time": "2023-01-12T20:47:21.049Z"
   },
   {
    "duration": 20,
    "start_time": "2023-01-12T20:47:21.054Z"
   },
   {
    "duration": 11,
    "start_time": "2023-01-12T20:47:21.075Z"
   },
   {
    "duration": 14,
    "start_time": "2023-01-12T20:47:21.088Z"
   },
   {
    "duration": 27,
    "start_time": "2023-01-12T20:47:21.103Z"
   },
   {
    "duration": 17,
    "start_time": "2023-01-12T20:47:21.132Z"
   },
   {
    "duration": 43,
    "start_time": "2023-01-12T20:47:21.150Z"
   },
   {
    "duration": 4,
    "start_time": "2023-01-12T20:47:21.194Z"
   },
   {
    "duration": 39,
    "start_time": "2023-01-12T20:47:21.199Z"
   },
   {
    "duration": 21,
    "start_time": "2023-01-12T20:47:21.241Z"
   },
   {
    "duration": 22,
    "start_time": "2023-01-12T20:47:21.264Z"
   },
   {
    "duration": 33,
    "start_time": "2023-01-12T20:47:21.288Z"
   },
   {
    "duration": 16,
    "start_time": "2023-01-12T20:47:21.323Z"
   },
   {
    "duration": 27,
    "start_time": "2023-01-12T20:47:21.340Z"
   },
   {
    "duration": 33,
    "start_time": "2023-01-12T20:47:21.369Z"
   },
   {
    "duration": 21,
    "start_time": "2023-01-12T20:47:21.404Z"
   },
   {
    "duration": 47,
    "start_time": "2023-01-12T20:47:21.427Z"
   },
   {
    "duration": 23,
    "start_time": "2023-01-12T20:47:21.476Z"
   },
   {
    "duration": 4,
    "start_time": "2023-01-12T20:47:21.501Z"
   },
   {
    "duration": 15,
    "start_time": "2023-01-12T20:47:21.507Z"
   },
   {
    "duration": 8057,
    "start_time": "2023-01-12T20:47:21.524Z"
   },
   {
    "duration": 93,
    "start_time": "2023-01-12T20:47:29.587Z"
   },
   {
    "duration": 33676,
    "start_time": "2023-01-12T20:47:49.953Z"
   },
   {
    "duration": 33179,
    "start_time": "2023-01-12T20:51:20.080Z"
   },
   {
    "duration": 34329,
    "start_time": "2023-01-12T20:52:30.121Z"
   },
   {
    "duration": 5046,
    "start_time": "2023-01-12T21:24:20.684Z"
   },
   {
    "duration": 4304,
    "start_time": "2023-01-12T21:24:25.732Z"
   },
   {
    "duration": 5,
    "start_time": "2023-01-12T21:24:30.038Z"
   },
   {
    "duration": 68,
    "start_time": "2023-01-12T21:24:30.045Z"
   },
   {
    "duration": 4,
    "start_time": "2023-01-12T21:24:30.116Z"
   },
   {
    "duration": 41,
    "start_time": "2023-01-12T21:24:30.121Z"
   },
   {
    "duration": 34,
    "start_time": "2023-01-12T21:24:30.164Z"
   },
   {
    "duration": 16,
    "start_time": "2023-01-12T21:24:30.199Z"
   },
   {
    "duration": 16,
    "start_time": "2023-01-12T21:24:30.217Z"
   },
   {
    "duration": 5,
    "start_time": "2023-01-12T21:24:30.235Z"
   },
   {
    "duration": 44,
    "start_time": "2023-01-12T21:24:30.241Z"
   },
   {
    "duration": 4,
    "start_time": "2023-01-12T21:24:30.286Z"
   },
   {
    "duration": 29,
    "start_time": "2023-01-12T21:24:30.292Z"
   },
   {
    "duration": 7,
    "start_time": "2023-01-12T21:24:30.325Z"
   },
   {
    "duration": 28,
    "start_time": "2023-01-12T21:24:30.334Z"
   },
   {
    "duration": 26,
    "start_time": "2023-01-12T21:24:30.364Z"
   },
   {
    "duration": 37,
    "start_time": "2023-01-12T21:24:30.392Z"
   },
   {
    "duration": 24,
    "start_time": "2023-01-12T21:24:30.430Z"
   },
   {
    "duration": 42,
    "start_time": "2023-01-12T21:24:30.456Z"
   },
   {
    "duration": 34,
    "start_time": "2023-01-12T21:24:30.499Z"
   },
   {
    "duration": 45,
    "start_time": "2023-01-12T21:24:30.535Z"
   },
   {
    "duration": 26,
    "start_time": "2023-01-12T21:24:30.582Z"
   },
   {
    "duration": 6,
    "start_time": "2023-01-12T21:24:30.610Z"
   },
   {
    "duration": 18,
    "start_time": "2023-01-12T21:24:30.618Z"
   },
   {
    "duration": 9043,
    "start_time": "2023-01-12T21:24:30.638Z"
   },
   {
    "duration": 94,
    "start_time": "2023-01-12T21:24:39.683Z"
   },
   {
    "duration": 35970,
    "start_time": "2023-01-12T21:24:39.779Z"
   },
   {
    "duration": 7,
    "start_time": "2023-01-12T21:25:15.751Z"
   },
   {
    "duration": 125,
    "start_time": "2023-01-12T21:25:15.760Z"
   },
   {
    "duration": 25,
    "start_time": "2023-01-12T21:25:15.886Z"
   },
   {
    "duration": 43464,
    "start_time": "2023-01-12T21:25:15.913Z"
   },
   {
    "duration": 114,
    "start_time": "2023-01-12T21:25:59.379Z"
   },
   {
    "duration": 6,
    "start_time": "2023-01-12T21:25:59.495Z"
   },
   {
    "duration": 205008,
    "start_time": "2023-01-12T21:25:59.503Z"
   },
   {
    "duration": 140,
    "start_time": "2023-01-12T21:29:24.513Z"
   },
   {
    "duration": 6,
    "start_time": "2023-01-12T21:29:24.655Z"
   },
   {
    "duration": 22921,
    "start_time": "2023-01-12T21:29:24.663Z"
   },
   {
    "duration": 392,
    "start_time": "2023-01-12T21:29:47.586Z"
   },
   {
    "duration": 7,
    "start_time": "2023-01-12T21:29:47.979Z"
   },
   {
    "duration": 49077,
    "start_time": "2023-01-12T21:29:47.987Z"
   },
   {
    "duration": 95870,
    "start_time": "2023-01-12T21:30:37.076Z"
   },
   {
    "duration": 21834,
    "start_time": "2023-01-12T21:32:12.947Z"
   },
   {
    "duration": 104,
    "start_time": "2023-01-12T21:32:34.784Z"
   },
   {
    "duration": 58429,
    "start_time": "2023-01-12T21:32:34.891Z"
   },
   {
    "duration": 133074,
    "start_time": "2023-01-12T21:33:33.322Z"
   },
   {
    "duration": 30879,
    "start_time": "2023-01-12T21:35:46.398Z"
   },
   {
    "duration": 97,
    "start_time": "2023-01-12T21:36:17.284Z"
   },
   {
    "duration": 22511,
    "start_time": "2023-01-12T21:36:17.383Z"
   },
   {
    "duration": 56630,
    "start_time": "2023-01-12T21:36:39.895Z"
   },
   {
    "duration": 19059,
    "start_time": "2023-01-12T21:37:36.527Z"
   },
   {
    "duration": 117,
    "start_time": "2023-01-12T21:37:55.678Z"
   },
   {
    "duration": 4940,
    "start_time": "2023-01-12T21:41:20.375Z"
   },
   {
    "duration": 4388,
    "start_time": "2023-01-12T21:41:25.318Z"
   },
   {
    "duration": 5,
    "start_time": "2023-01-12T21:41:29.708Z"
   },
   {
    "duration": 63,
    "start_time": "2023-01-12T21:41:29.715Z"
   },
   {
    "duration": 3,
    "start_time": "2023-01-12T21:41:29.780Z"
   },
   {
    "duration": 13,
    "start_time": "2023-01-12T21:41:29.785Z"
   },
   {
    "duration": 13,
    "start_time": "2023-01-12T21:41:29.800Z"
   },
   {
    "duration": 4,
    "start_time": "2023-01-12T21:41:29.814Z"
   },
   {
    "duration": 13,
    "start_time": "2023-01-12T21:41:29.820Z"
   },
   {
    "duration": 4,
    "start_time": "2023-01-12T21:41:29.835Z"
   },
   {
    "duration": 39,
    "start_time": "2023-01-12T21:41:29.877Z"
   },
   {
    "duration": 4,
    "start_time": "2023-01-12T21:41:29.918Z"
   },
   {
    "duration": 28,
    "start_time": "2023-01-12T21:41:29.923Z"
   },
   {
    "duration": 6,
    "start_time": "2023-01-12T21:41:29.954Z"
   },
   {
    "duration": 8,
    "start_time": "2023-01-12T21:41:29.976Z"
   },
   {
    "duration": 9,
    "start_time": "2023-01-12T21:41:29.986Z"
   },
   {
    "duration": 6,
    "start_time": "2023-01-12T21:41:29.997Z"
   },
   {
    "duration": 15,
    "start_time": "2023-01-12T21:41:30.004Z"
   },
   {
    "duration": 19,
    "start_time": "2023-01-12T21:41:30.021Z"
   },
   {
    "duration": 16,
    "start_time": "2023-01-12T21:41:30.041Z"
   },
   {
    "duration": 44,
    "start_time": "2023-01-12T21:41:30.059Z"
   },
   {
    "duration": 27,
    "start_time": "2023-01-12T21:41:30.104Z"
   },
   {
    "duration": 4,
    "start_time": "2023-01-12T21:41:30.132Z"
   },
   {
    "duration": 18,
    "start_time": "2023-01-12T21:41:30.138Z"
   },
   {
    "duration": 9624,
    "start_time": "2023-01-12T21:41:30.158Z"
   },
   {
    "duration": 6,
    "start_time": "2023-01-12T21:41:39.785Z"
   },
   {
    "duration": 35210,
    "start_time": "2023-01-12T21:41:39.792Z"
   },
   {
    "duration": 8,
    "start_time": "2023-01-12T21:42:15.004Z"
   },
   {
    "duration": 158,
    "start_time": "2023-01-12T21:42:15.013Z"
   },
   {
    "duration": 24,
    "start_time": "2023-01-12T21:42:15.173Z"
   },
   {
    "duration": 44177,
    "start_time": "2023-01-12T21:42:15.199Z"
   },
   {
    "duration": 111,
    "start_time": "2023-01-12T21:42:59.378Z"
   },
   {
    "duration": 5,
    "start_time": "2023-01-12T21:42:59.491Z"
   },
   {
    "duration": 198779,
    "start_time": "2023-01-12T21:42:59.497Z"
   },
   {
    "duration": 126,
    "start_time": "2023-01-12T21:46:18.278Z"
   },
   {
    "duration": 6,
    "start_time": "2023-01-12T21:46:18.406Z"
   },
   {
    "duration": 22163,
    "start_time": "2023-01-12T21:46:18.414Z"
   },
   {
    "duration": 365,
    "start_time": "2023-01-12T21:46:40.580Z"
   },
   {
    "duration": 6,
    "start_time": "2023-01-12T21:46:40.946Z"
   },
   {
    "duration": 45871,
    "start_time": "2023-01-12T21:46:40.953Z"
   },
   {
    "duration": 99866,
    "start_time": "2023-01-12T21:47:26.828Z"
   },
   {
    "duration": 22782,
    "start_time": "2023-01-12T21:49:06.695Z"
   },
   {
    "duration": 102,
    "start_time": "2023-01-12T21:49:29.479Z"
   },
   {
    "duration": 58132,
    "start_time": "2023-01-12T21:49:29.582Z"
   },
   {
    "duration": 136001,
    "start_time": "2023-01-12T21:50:27.716Z"
   },
   {
    "duration": 28659,
    "start_time": "2023-01-12T21:52:43.718Z"
   },
   {
    "duration": 103,
    "start_time": "2023-01-12T21:53:12.381Z"
   },
   {
    "duration": 21316,
    "start_time": "2023-01-12T21:53:12.485Z"
   },
   {
    "duration": 54506,
    "start_time": "2023-01-12T21:53:33.802Z"
   },
   {
    "duration": 17773,
    "start_time": "2023-01-12T21:54:28.309Z"
   },
   {
    "duration": 112,
    "start_time": "2023-01-12T21:54:46.084Z"
   },
   {
    "duration": 22,
    "start_time": "2023-01-12T22:32:07.874Z"
   },
   {
    "duration": 5108,
    "start_time": "2023-01-12T22:33:16.754Z"
   },
   {
    "duration": 4631,
    "start_time": "2023-01-12T22:33:21.864Z"
   },
   {
    "duration": 6,
    "start_time": "2023-01-12T22:33:26.497Z"
   },
   {
    "duration": 61,
    "start_time": "2023-01-12T22:33:26.505Z"
   },
   {
    "duration": 4,
    "start_time": "2023-01-12T22:33:26.568Z"
   },
   {
    "duration": 15,
    "start_time": "2023-01-12T22:33:26.574Z"
   },
   {
    "duration": 14,
    "start_time": "2023-01-12T22:33:26.591Z"
   },
   {
    "duration": 4,
    "start_time": "2023-01-12T22:33:26.607Z"
   },
   {
    "duration": 15,
    "start_time": "2023-01-12T22:33:26.613Z"
   },
   {
    "duration": 6,
    "start_time": "2023-01-12T22:33:26.629Z"
   },
   {
    "duration": 75,
    "start_time": "2023-01-12T22:33:26.638Z"
   },
   {
    "duration": 4,
    "start_time": "2023-01-12T22:33:26.715Z"
   },
   {
    "duration": 21,
    "start_time": "2023-01-12T22:33:26.720Z"
   },
   {
    "duration": 6,
    "start_time": "2023-01-12T22:33:26.744Z"
   },
   {
    "duration": 27,
    "start_time": "2023-01-12T22:33:26.752Z"
   },
   {
    "duration": 11,
    "start_time": "2023-01-12T22:33:26.781Z"
   },
   {
    "duration": 6,
    "start_time": "2023-01-12T22:33:26.793Z"
   },
   {
    "duration": 6,
    "start_time": "2023-01-12T22:33:26.801Z"
   },
   {
    "duration": 7,
    "start_time": "2023-01-12T22:33:26.808Z"
   },
   {
    "duration": 6,
    "start_time": "2023-01-12T22:33:26.816Z"
   },
   {
    "duration": 70,
    "start_time": "2023-01-12T22:33:26.823Z"
   },
   {
    "duration": 26,
    "start_time": "2023-01-12T22:33:26.894Z"
   },
   {
    "duration": 4,
    "start_time": "2023-01-12T22:33:26.922Z"
   },
   {
    "duration": 6,
    "start_time": "2023-01-12T22:33:26.927Z"
   },
   {
    "duration": 10544,
    "start_time": "2023-01-12T22:33:26.934Z"
   },
   {
    "duration": 8,
    "start_time": "2023-01-12T22:33:37.481Z"
   },
   {
    "duration": 36883,
    "start_time": "2023-01-12T22:33:37.577Z"
   },
   {
    "duration": 17,
    "start_time": "2023-01-12T22:34:14.461Z"
   },
   {
    "duration": 118,
    "start_time": "2023-01-12T22:34:14.480Z"
   },
   {
    "duration": 23,
    "start_time": "2023-01-12T22:34:14.600Z"
   },
   {
    "duration": 47594,
    "start_time": "2023-01-12T22:34:14.625Z"
   },
   {
    "duration": 133,
    "start_time": "2023-01-12T22:35:02.221Z"
   },
   {
    "duration": 7,
    "start_time": "2023-01-12T22:35:02.356Z"
   },
   {
    "duration": 214201,
    "start_time": "2023-01-12T22:35:02.377Z"
   },
   {
    "duration": 134,
    "start_time": "2023-01-12T22:38:36.580Z"
   },
   {
    "duration": 6,
    "start_time": "2023-01-12T22:38:36.716Z"
   },
   {
    "duration": 26254,
    "start_time": "2023-01-12T22:38:36.723Z"
   },
   {
    "duration": 398,
    "start_time": "2023-01-12T22:39:02.980Z"
   },
   {
    "duration": 6,
    "start_time": "2023-01-12T22:39:03.380Z"
   },
   {
    "duration": 50362,
    "start_time": "2023-01-12T22:39:03.388Z"
   },
   {
    "duration": 100974,
    "start_time": "2023-01-12T22:39:53.754Z"
   },
   {
    "duration": 25347,
    "start_time": "2023-01-12T22:41:34.730Z"
   },
   {
    "duration": 103,
    "start_time": "2023-01-12T22:42:00.081Z"
   },
   {
    "duration": 61811,
    "start_time": "2023-01-12T22:42:00.185Z"
   },
   {
    "duration": 7892,
    "start_time": "2023-01-13T19:52:53.450Z"
   },
   {
    "duration": 7186,
    "start_time": "2023-01-13T19:53:01.344Z"
   },
   {
    "duration": 1577,
    "start_time": "2023-01-13T19:53:08.533Z"
   },
   {
    "duration": 121,
    "start_time": "2023-01-13T19:53:10.113Z"
   },
   {
    "duration": 5,
    "start_time": "2023-01-13T19:53:10.236Z"
   },
   {
    "duration": 17,
    "start_time": "2023-01-13T19:53:10.243Z"
   },
   {
    "duration": 21,
    "start_time": "2023-01-13T19:53:10.262Z"
   },
   {
    "duration": 5,
    "start_time": "2023-01-13T19:53:10.290Z"
   },
   {
    "duration": 16,
    "start_time": "2023-01-13T19:53:10.297Z"
   },
   {
    "duration": 10,
    "start_time": "2023-01-13T19:53:10.316Z"
   },
   {
    "duration": 88,
    "start_time": "2023-01-13T19:53:10.327Z"
   },
   {
    "duration": 4,
    "start_time": "2023-01-13T19:53:10.417Z"
   },
   {
    "duration": 23,
    "start_time": "2023-01-13T19:53:10.423Z"
   },
   {
    "duration": 7,
    "start_time": "2023-01-13T19:53:10.448Z"
   },
   {
    "duration": 28,
    "start_time": "2023-01-13T19:53:10.457Z"
   },
   {
    "duration": 19,
    "start_time": "2023-01-13T19:53:10.487Z"
   },
   {
    "duration": 8,
    "start_time": "2023-01-13T19:53:10.508Z"
   },
   {
    "duration": 10,
    "start_time": "2023-01-13T19:53:10.519Z"
   },
   {
    "duration": 12,
    "start_time": "2023-01-13T19:53:10.530Z"
   },
   {
    "duration": 8,
    "start_time": "2023-01-13T19:53:10.544Z"
   },
   {
    "duration": 72,
    "start_time": "2023-01-13T19:53:10.554Z"
   },
   {
    "duration": 28,
    "start_time": "2023-01-13T19:53:10.628Z"
   },
   {
    "duration": 4,
    "start_time": "2023-01-13T19:53:10.658Z"
   },
   {
    "duration": 29,
    "start_time": "2023-01-13T19:53:10.664Z"
   },
   {
    "duration": 7785,
    "start_time": "2023-01-13T19:53:10.696Z"
   },
   {
    "duration": 7,
    "start_time": "2023-01-13T19:53:18.484Z"
   },
   {
    "duration": 39095,
    "start_time": "2023-01-13T19:53:18.494Z"
   },
   {
    "duration": 0,
    "start_time": "2023-01-13T19:53:57.592Z"
   },
   {
    "duration": 0,
    "start_time": "2023-01-13T19:53:57.593Z"
   },
   {
    "duration": 0,
    "start_time": "2023-01-13T19:53:57.595Z"
   },
   {
    "duration": 0,
    "start_time": "2023-01-13T19:53:57.595Z"
   },
   {
    "duration": 0,
    "start_time": "2023-01-13T19:53:57.597Z"
   },
   {
    "duration": 0,
    "start_time": "2023-01-13T19:53:57.598Z"
   },
   {
    "duration": 0,
    "start_time": "2023-01-13T19:53:57.599Z"
   },
   {
    "duration": 0,
    "start_time": "2023-01-13T19:53:57.600Z"
   },
   {
    "duration": 0,
    "start_time": "2023-01-13T19:53:57.602Z"
   },
   {
    "duration": 0,
    "start_time": "2023-01-13T19:53:57.603Z"
   },
   {
    "duration": 0,
    "start_time": "2023-01-13T19:53:57.604Z"
   },
   {
    "duration": 0,
    "start_time": "2023-01-13T19:53:57.605Z"
   },
   {
    "duration": 0,
    "start_time": "2023-01-13T19:53:57.606Z"
   },
   {
    "duration": 0,
    "start_time": "2023-01-13T19:53:57.607Z"
   },
   {
    "duration": 0,
    "start_time": "2023-01-13T19:53:57.608Z"
   },
   {
    "duration": 0,
    "start_time": "2023-01-13T19:53:57.609Z"
   },
   {
    "duration": 0,
    "start_time": "2023-01-13T19:53:57.610Z"
   },
   {
    "duration": 0,
    "start_time": "2023-01-13T19:53:57.612Z"
   },
   {
    "duration": 0,
    "start_time": "2023-01-13T19:53:57.613Z"
   },
   {
    "duration": 0,
    "start_time": "2023-01-13T19:53:57.614Z"
   },
   {
    "duration": 0,
    "start_time": "2023-01-13T19:53:57.615Z"
   },
   {
    "duration": 0,
    "start_time": "2023-01-13T19:53:57.616Z"
   },
   {
    "duration": 1,
    "start_time": "2023-01-13T19:53:57.617Z"
   },
   {
    "duration": 0,
    "start_time": "2023-01-13T19:53:57.619Z"
   },
   {
    "duration": 35576,
    "start_time": "2023-01-13T20:21:13.669Z"
   },
   {
    "duration": 96,
    "start_time": "2023-01-13T20:22:56.369Z"
   },
   {
    "duration": 95,
    "start_time": "2023-01-13T20:23:42.432Z"
   },
   {
    "duration": 47,
    "start_time": "2023-01-13T20:25:29.780Z"
   },
   {
    "duration": 9,
    "start_time": "2023-01-13T20:35:44.196Z"
   },
   {
    "duration": 126,
    "start_time": "2023-01-13T20:35:44.207Z"
   },
   {
    "duration": 24,
    "start_time": "2023-01-13T20:35:44.335Z"
   },
   {
    "duration": 45254,
    "start_time": "2023-01-13T20:35:44.361Z"
   },
   {
    "duration": 122,
    "start_time": "2023-01-13T20:36:29.616Z"
   },
   {
    "duration": 6,
    "start_time": "2023-01-13T20:36:29.740Z"
   },
   {
    "duration": 209740,
    "start_time": "2023-01-13T20:36:29.748Z"
   },
   {
    "duration": 128,
    "start_time": "2023-01-13T20:39:59.490Z"
   },
   {
    "duration": 8,
    "start_time": "2023-01-13T20:39:59.620Z"
   },
   {
    "duration": 20351,
    "start_time": "2023-01-13T20:39:59.631Z"
   },
   {
    "duration": 390,
    "start_time": "2023-01-13T20:40:19.987Z"
   },
   {
    "duration": 7,
    "start_time": "2023-01-13T20:40:20.379Z"
   },
   {
    "duration": 49944,
    "start_time": "2023-01-13T20:40:20.388Z"
   },
   {
    "duration": 101925,
    "start_time": "2023-01-13T20:41:10.335Z"
   },
   {
    "duration": 23220,
    "start_time": "2023-01-13T20:42:52.262Z"
   },
   {
    "duration": 100,
    "start_time": "2023-01-13T20:43:15.484Z"
   },
   {
    "duration": 60559,
    "start_time": "2023-01-13T20:43:15.586Z"
   },
   {
    "duration": 139258,
    "start_time": "2023-01-13T20:44:16.147Z"
   },
   {
    "duration": 23776,
    "start_time": "2023-01-13T20:46:35.406Z"
   },
   {
    "duration": 101,
    "start_time": "2023-01-13T20:46:59.184Z"
   },
   {
    "duration": 23044,
    "start_time": "2023-01-13T20:46:59.287Z"
   },
   {
    "duration": 58547,
    "start_time": "2023-01-13T20:47:22.333Z"
   },
   {
    "duration": 17000,
    "start_time": "2023-01-13T20:48:20.882Z"
   },
   {
    "duration": 195,
    "start_time": "2023-01-13T20:48:37.884Z"
   },
   {
    "duration": 5260,
    "start_time": "2023-01-14T07:30:53.234Z"
   },
   {
    "duration": 12718,
    "start_time": "2023-01-14T07:30:58.498Z"
   },
   {
    "duration": 2678,
    "start_time": "2023-01-14T07:31:11.217Z"
   },
   {
    "duration": 117,
    "start_time": "2023-01-14T07:31:13.898Z"
   },
   {
    "duration": 5,
    "start_time": "2023-01-14T07:31:14.017Z"
   },
   {
    "duration": 82,
    "start_time": "2023-01-14T07:31:14.024Z"
   },
   {
    "duration": 69,
    "start_time": "2023-01-14T07:31:14.109Z"
   },
   {
    "duration": 9,
    "start_time": "2023-01-14T07:31:14.180Z"
   },
   {
    "duration": 87,
    "start_time": "2023-01-14T07:31:14.191Z"
   },
   {
    "duration": 10,
    "start_time": "2023-01-14T07:31:14.281Z"
   },
   {
    "duration": 125,
    "start_time": "2023-01-14T07:31:14.297Z"
   },
   {
    "duration": 9,
    "start_time": "2023-01-14T07:31:14.480Z"
   },
   {
    "duration": 24,
    "start_time": "2023-01-14T07:31:14.495Z"
   },
   {
    "duration": 59,
    "start_time": "2023-01-14T07:31:14.521Z"
   },
   {
    "duration": 15,
    "start_time": "2023-01-14T07:31:14.583Z"
   },
   {
    "duration": 16,
    "start_time": "2023-01-14T07:31:14.600Z"
   },
   {
    "duration": 62,
    "start_time": "2023-01-14T07:31:14.618Z"
   },
   {
    "duration": 9,
    "start_time": "2023-01-14T07:31:14.682Z"
   },
   {
    "duration": 12,
    "start_time": "2023-01-14T07:31:14.692Z"
   },
   {
    "duration": 12,
    "start_time": "2023-01-14T07:31:14.705Z"
   },
   {
    "duration": 123,
    "start_time": "2023-01-14T07:31:14.777Z"
   },
   {
    "duration": 98,
    "start_time": "2023-01-14T07:31:14.903Z"
   },
   {
    "duration": 7,
    "start_time": "2023-01-14T07:31:15.003Z"
   },
   {
    "duration": 70,
    "start_time": "2023-01-14T07:31:15.012Z"
   },
   {
    "duration": 9706,
    "start_time": "2023-01-14T07:31:15.086Z"
   },
   {
    "duration": 91,
    "start_time": "2023-01-14T07:31:24.793Z"
   },
   {
    "duration": 88458,
    "start_time": "2023-01-14T07:31:24.887Z"
   },
   {
    "duration": 104,
    "start_time": "2023-01-14T07:32:53.349Z"
   },
   {
    "duration": 8,
    "start_time": "2023-01-14T07:32:53.455Z"
   },
   {
    "duration": 156,
    "start_time": "2023-01-14T07:32:53.464Z"
   },
   {
    "duration": 22,
    "start_time": "2023-01-14T07:32:53.622Z"
   },
   {
    "duration": 49903,
    "start_time": "2023-01-14T07:32:53.646Z"
   },
   {
    "duration": 136,
    "start_time": "2023-01-14T07:33:43.550Z"
   },
   {
    "duration": 8,
    "start_time": "2023-01-14T07:33:43.688Z"
   },
   {
    "duration": 244215,
    "start_time": "2023-01-14T07:33:43.698Z"
   },
   {
    "duration": 143,
    "start_time": "2023-01-14T07:37:47.915Z"
   },
   {
    "duration": 6,
    "start_time": "2023-01-14T07:37:48.061Z"
   },
   {
    "duration": 79619,
    "start_time": "2023-01-14T07:37:48.069Z"
   },
   {
    "duration": 273,
    "start_time": "2023-01-14T07:39:07.694Z"
   },
   {
    "duration": 28,
    "start_time": "2023-01-14T07:39:07.968Z"
   },
   {
    "duration": 56597,
    "start_time": "2023-01-14T07:39:07.999Z"
   },
   {
    "duration": 119182,
    "start_time": "2023-01-14T07:40:04.606Z"
   },
   {
    "duration": 67415,
    "start_time": "2023-01-14T07:42:03.790Z"
   },
   {
    "duration": 94,
    "start_time": "2023-01-14T07:43:11.285Z"
   },
   {
    "duration": 70734,
    "start_time": "2023-01-14T07:43:11.382Z"
   },
   {
    "duration": 158742,
    "start_time": "2023-01-14T07:44:22.117Z"
   },
   {
    "duration": 57029,
    "start_time": "2023-01-14T07:47:00.861Z"
   },
   {
    "duration": 93,
    "start_time": "2023-01-14T07:47:57.899Z"
   },
   {
    "duration": 25744,
    "start_time": "2023-01-14T07:47:58.000Z"
   },
   {
    "duration": 67439,
    "start_time": "2023-01-14T07:48:23.746Z"
   },
   {
    "duration": 57700,
    "start_time": "2023-01-14T07:49:31.188Z"
   },
   {
    "duration": 115,
    "start_time": "2023-01-14T07:50:28.891Z"
   },
   {
    "duration": 31,
    "start_time": "2023-01-14T07:59:30.868Z"
   },
   {
    "duration": 31219,
    "start_time": "2023-01-14T08:39:44.504Z"
   },
   {
    "duration": 72,
    "start_time": "2023-01-14T08:41:11.952Z"
   },
   {
    "duration": 93587,
    "start_time": "2023-01-14T08:41:43.871Z"
   },
   {
    "duration": 62,
    "start_time": "2023-01-14T08:43:31.126Z"
   },
   {
    "duration": 765,
    "start_time": "2023-01-14T08:46:28.448Z"
   },
   {
    "duration": 695,
    "start_time": "2023-01-14T08:46:40.712Z"
   },
   {
    "duration": 706,
    "start_time": "2023-01-14T08:46:49.721Z"
   },
   {
    "duration": 15,
    "start_time": "2023-01-14T08:47:18.947Z"
   },
   {
    "duration": 16,
    "start_time": "2023-01-14T08:47:51.445Z"
   },
   {
    "duration": 10,
    "start_time": "2023-01-14T08:48:07.310Z"
   },
   {
    "duration": 14,
    "start_time": "2023-01-14T08:48:13.744Z"
   },
   {
    "duration": 6,
    "start_time": "2023-01-14T08:48:48.751Z"
   },
   {
    "duration": 4,
    "start_time": "2023-01-14T08:48:49.705Z"
   },
   {
    "duration": 6,
    "start_time": "2023-01-14T08:49:21.314Z"
   },
   {
    "duration": 29,
    "start_time": "2023-01-14T09:11:24.299Z"
   },
   {
    "duration": 7596,
    "start_time": "2023-01-14T09:14:42.507Z"
   },
   {
    "duration": 6926,
    "start_time": "2023-01-14T09:14:50.105Z"
   },
   {
    "duration": 6,
    "start_time": "2023-01-14T09:14:57.033Z"
   },
   {
    "duration": 91,
    "start_time": "2023-01-14T09:14:57.042Z"
   },
   {
    "duration": 3,
    "start_time": "2023-01-14T09:14:57.135Z"
   },
   {
    "duration": 16,
    "start_time": "2023-01-14T09:14:57.139Z"
   },
   {
    "duration": 12,
    "start_time": "2023-01-14T09:14:57.156Z"
   },
   {
    "duration": 4,
    "start_time": "2023-01-14T09:14:57.169Z"
   },
   {
    "duration": 53,
    "start_time": "2023-01-14T09:14:57.178Z"
   },
   {
    "duration": 7,
    "start_time": "2023-01-14T09:14:57.233Z"
   },
   {
    "duration": 86,
    "start_time": "2023-01-14T09:14:57.242Z"
   },
   {
    "duration": 4,
    "start_time": "2023-01-14T09:14:57.332Z"
   },
   {
    "duration": 25,
    "start_time": "2023-01-14T09:14:57.338Z"
   },
   {
    "duration": 50,
    "start_time": "2023-01-14T09:14:57.376Z"
   },
   {
    "duration": 6,
    "start_time": "2023-01-14T09:14:57.429Z"
   },
   {
    "duration": 29,
    "start_time": "2023-01-14T09:15:30.753Z"
   },
   {
    "duration": 41770,
    "start_time": "2023-01-14T09:15:52.397Z"
   },
   {
    "duration": 53,
    "start_time": "2023-01-14T09:16:57.476Z"
   },
   {
    "duration": 34,
    "start_time": "2023-01-14T09:17:01.296Z"
   },
   {
    "duration": 14,
    "start_time": "2023-01-14T09:18:45.654Z"
   },
   {
    "duration": 43966,
    "start_time": "2023-01-14T09:19:13.874Z"
   },
   {
    "duration": 23,
    "start_time": "2023-01-14T09:19:57.843Z"
   },
   {
    "duration": 850,
    "start_time": "2023-01-14T09:20:58.237Z"
   },
   {
    "duration": 851,
    "start_time": "2023-01-14T09:21:06.806Z"
   },
   {
    "duration": 24,
    "start_time": "2023-01-14T09:24:01.825Z"
   },
   {
    "duration": 96,
    "start_time": "2023-01-14T09:30:20.456Z"
   },
   {
    "duration": 96,
    "start_time": "2023-01-14T09:31:22.974Z"
   },
   {
    "duration": 79,
    "start_time": "2023-01-14T09:31:48.467Z"
   },
   {
    "duration": 79,
    "start_time": "2023-01-14T09:32:23.096Z"
   },
   {
    "duration": 102,
    "start_time": "2023-01-14T09:32:44.160Z"
   },
   {
    "duration": 123,
    "start_time": "2023-01-14T09:33:14.205Z"
   },
   {
    "duration": 30,
    "start_time": "2023-01-14T09:33:55.405Z"
   },
   {
    "duration": 860,
    "start_time": "2023-01-14T09:34:35.297Z"
   },
   {
    "duration": 856,
    "start_time": "2023-01-14T09:36:13.123Z"
   },
   {
    "duration": 1011,
    "start_time": "2023-01-14T09:43:07.929Z"
   },
   {
    "duration": 1165,
    "start_time": "2023-01-14T09:43:40.220Z"
   },
   {
    "duration": 20,
    "start_time": "2023-01-14T09:44:41.254Z"
   },
   {
    "duration": 21,
    "start_time": "2023-01-14T09:45:11.604Z"
   },
   {
    "duration": 32,
    "start_time": "2023-01-14T09:45:21.764Z"
   },
   {
    "duration": 1204,
    "start_time": "2023-01-14T09:46:16.113Z"
   },
   {
    "duration": 7832,
    "start_time": "2023-01-14T20:28:42.040Z"
   },
   {
    "duration": 5713,
    "start_time": "2023-01-14T20:28:49.874Z"
   },
   {
    "duration": 1347,
    "start_time": "2023-01-14T20:28:55.589Z"
   },
   {
    "duration": 91,
    "start_time": "2023-01-14T20:28:56.938Z"
   },
   {
    "duration": 4,
    "start_time": "2023-01-14T20:28:57.031Z"
   },
   {
    "duration": 38,
    "start_time": "2023-01-14T20:28:57.037Z"
   },
   {
    "duration": 18,
    "start_time": "2023-01-14T20:28:57.077Z"
   },
   {
    "duration": 9,
    "start_time": "2023-01-14T20:28:57.098Z"
   },
   {
    "duration": 18,
    "start_time": "2023-01-14T20:28:57.109Z"
   },
   {
    "duration": 12,
    "start_time": "2023-01-14T20:28:57.129Z"
   },
   {
    "duration": 59,
    "start_time": "2023-01-14T20:28:57.143Z"
   },
   {
    "duration": 4,
    "start_time": "2023-01-14T20:28:57.203Z"
   },
   {
    "duration": 23,
    "start_time": "2023-01-14T20:28:57.209Z"
   },
   {
    "duration": 7,
    "start_time": "2023-01-14T20:28:57.235Z"
   },
   {
    "duration": 39,
    "start_time": "2023-01-14T20:28:57.244Z"
   },
   {
    "duration": 23,
    "start_time": "2023-01-14T20:28:57.285Z"
   },
   {
    "duration": 14,
    "start_time": "2023-01-14T20:28:57.310Z"
   },
   {
    "duration": 21,
    "start_time": "2023-01-14T20:28:57.326Z"
   },
   {
    "duration": 18,
    "start_time": "2023-01-14T20:28:57.349Z"
   },
   {
    "duration": 29,
    "start_time": "2023-01-14T20:28:57.369Z"
   },
   {
    "duration": 55,
    "start_time": "2023-01-14T20:28:57.400Z"
   },
   {
    "duration": 27,
    "start_time": "2023-01-14T20:28:57.457Z"
   },
   {
    "duration": 4,
    "start_time": "2023-01-14T20:28:57.485Z"
   },
   {
    "duration": 14,
    "start_time": "2023-01-14T20:28:57.490Z"
   },
   {
    "duration": 9131,
    "start_time": "2023-01-14T20:28:57.505Z"
   },
   {
    "duration": 4,
    "start_time": "2023-01-14T20:29:06.639Z"
   },
   {
    "duration": 36150,
    "start_time": "2023-01-14T20:29:06.734Z"
   },
   {
    "duration": 99,
    "start_time": "2023-01-14T20:29:42.886Z"
   },
   {
    "duration": 9,
    "start_time": "2023-01-14T20:29:42.987Z"
   },
   {
    "duration": 139,
    "start_time": "2023-01-14T20:29:42.998Z"
   },
   {
    "duration": 5153,
    "start_time": "2023-01-14T20:30:26.098Z"
   },
   {
    "duration": 4708,
    "start_time": "2023-01-14T20:30:31.254Z"
   },
   {
    "duration": 6,
    "start_time": "2023-01-14T20:30:35.964Z"
   },
   {
    "duration": 91,
    "start_time": "2023-01-14T20:30:35.973Z"
   },
   {
    "duration": 5,
    "start_time": "2023-01-14T20:30:36.066Z"
   },
   {
    "duration": 20,
    "start_time": "2023-01-14T20:30:36.073Z"
   },
   {
    "duration": 43,
    "start_time": "2023-01-14T20:30:36.094Z"
   },
   {
    "duration": 24,
    "start_time": "2023-01-14T20:30:36.138Z"
   },
   {
    "duration": 60,
    "start_time": "2023-01-14T20:30:36.164Z"
   },
   {
    "duration": 25,
    "start_time": "2023-01-14T20:30:36.227Z"
   },
   {
    "duration": 117,
    "start_time": "2023-01-14T20:30:36.254Z"
   },
   {
    "duration": 4,
    "start_time": "2023-01-14T20:30:36.373Z"
   },
   {
    "duration": 50,
    "start_time": "2023-01-14T20:30:36.379Z"
   },
   {
    "duration": 26,
    "start_time": "2023-01-14T20:30:36.431Z"
   },
   {
    "duration": 30,
    "start_time": "2023-01-14T20:30:36.459Z"
   },
   {
    "duration": 33,
    "start_time": "2023-01-14T20:30:36.491Z"
   },
   {
    "duration": 29,
    "start_time": "2023-01-14T20:30:36.525Z"
   },
   {
    "duration": 25,
    "start_time": "2023-01-14T20:30:36.556Z"
   },
   {
    "duration": 32,
    "start_time": "2023-01-14T20:30:36.583Z"
   },
   {
    "duration": 48,
    "start_time": "2023-01-14T20:30:36.617Z"
   },
   {
    "duration": 79,
    "start_time": "2023-01-14T20:30:36.667Z"
   },
   {
    "duration": 42,
    "start_time": "2023-01-14T20:30:36.747Z"
   },
   {
    "duration": 5,
    "start_time": "2023-01-14T20:30:36.791Z"
   },
   {
    "duration": 11,
    "start_time": "2023-01-14T20:30:36.797Z"
   },
   {
    "duration": 10228,
    "start_time": "2023-01-14T20:30:36.810Z"
   },
   {
    "duration": 98,
    "start_time": "2023-01-14T20:30:47.041Z"
   },
   {
    "duration": 37035,
    "start_time": "2023-01-14T20:30:47.141Z"
   },
   {
    "duration": 109,
    "start_time": "2023-01-14T20:31:24.179Z"
   },
   {
    "duration": 9,
    "start_time": "2023-01-14T20:31:24.290Z"
   },
   {
    "duration": 148,
    "start_time": "2023-01-14T20:31:24.301Z"
   },
   {
    "duration": 24,
    "start_time": "2023-01-14T20:31:24.451Z"
   },
   {
    "duration": 47681,
    "start_time": "2023-01-14T20:31:24.477Z"
   },
   {
    "duration": 118,
    "start_time": "2023-01-14T20:32:12.160Z"
   },
   {
    "duration": 7,
    "start_time": "2023-01-14T20:32:12.280Z"
   },
   {
    "duration": 228479,
    "start_time": "2023-01-14T20:32:12.288Z"
   },
   {
    "duration": 128,
    "start_time": "2023-01-14T20:36:00.769Z"
   },
   {
    "duration": 6,
    "start_time": "2023-01-14T20:36:00.899Z"
   },
   {
    "duration": 26231,
    "start_time": "2023-01-14T20:36:00.907Z"
   },
   {
    "duration": 376,
    "start_time": "2023-01-14T20:36:27.145Z"
   },
   {
    "duration": 17,
    "start_time": "2023-01-14T20:36:27.523Z"
   },
   {
    "duration": 54876,
    "start_time": "2023-01-14T20:36:27.542Z"
   },
   {
    "duration": 109465,
    "start_time": "2023-01-14T20:37:22.420Z"
   },
   {
    "duration": 27449,
    "start_time": "2023-01-14T20:39:11.887Z"
   },
   {
    "duration": 99,
    "start_time": "2023-01-14T20:39:39.339Z"
   },
   {
    "duration": 66437,
    "start_time": "2023-01-14T20:39:39.440Z"
   },
   {
    "duration": 77279,
    "start_time": "2023-01-14T20:40:45.881Z"
   },
   {
    "duration": 5394,
    "start_time": "2023-01-14T20:50:32.774Z"
   },
   {
    "duration": 4889,
    "start_time": "2023-01-14T20:50:38.170Z"
   },
   {
    "duration": 7,
    "start_time": "2023-01-14T20:50:43.061Z"
   },
   {
    "duration": 79,
    "start_time": "2023-01-14T20:50:43.071Z"
   },
   {
    "duration": 4,
    "start_time": "2023-01-14T20:50:43.152Z"
   },
   {
    "duration": 20,
    "start_time": "2023-01-14T20:50:43.158Z"
   },
   {
    "duration": 18,
    "start_time": "2023-01-14T20:50:43.180Z"
   },
   {
    "duration": 5,
    "start_time": "2023-01-14T20:50:43.200Z"
   },
   {
    "duration": 31,
    "start_time": "2023-01-14T20:50:43.207Z"
   },
   {
    "duration": 6,
    "start_time": "2023-01-14T20:50:43.241Z"
   },
   {
    "duration": 70,
    "start_time": "2023-01-14T20:50:43.249Z"
   },
   {
    "duration": 4,
    "start_time": "2023-01-14T20:50:43.323Z"
   },
   {
    "duration": 30,
    "start_time": "2023-01-14T20:50:43.329Z"
   },
   {
    "duration": 9,
    "start_time": "2023-01-14T20:50:43.361Z"
   },
   {
    "duration": 26,
    "start_time": "2023-01-14T20:50:43.372Z"
   },
   {
    "duration": 29,
    "start_time": "2023-01-14T20:50:43.401Z"
   },
   {
    "duration": 35,
    "start_time": "2023-01-14T20:50:43.432Z"
   },
   {
    "duration": 16,
    "start_time": "2023-01-14T20:50:43.470Z"
   },
   {
    "duration": 34,
    "start_time": "2023-01-14T20:50:43.489Z"
   },
   {
    "duration": 29,
    "start_time": "2023-01-14T20:50:43.526Z"
   },
   {
    "duration": 64,
    "start_time": "2023-01-14T20:50:43.557Z"
   },
   {
    "duration": 27,
    "start_time": "2023-01-14T20:50:43.623Z"
   },
   {
    "duration": 5,
    "start_time": "2023-01-14T20:50:43.652Z"
   },
   {
    "duration": 12,
    "start_time": "2023-01-14T20:50:43.659Z"
   },
   {
    "duration": 8073,
    "start_time": "2023-01-14T20:50:43.673Z"
   },
   {
    "duration": 90,
    "start_time": "2023-01-14T20:50:51.748Z"
   },
   {
    "duration": 39466,
    "start_time": "2023-01-14T20:50:51.841Z"
   },
   {
    "duration": 107,
    "start_time": "2023-01-14T20:51:31.310Z"
   },
   {
    "duration": 22,
    "start_time": "2023-01-14T20:51:31.419Z"
   },
   {
    "duration": 133,
    "start_time": "2023-01-14T20:51:31.444Z"
   },
   {
    "duration": 26,
    "start_time": "2023-01-14T20:51:31.580Z"
   },
   {
    "duration": 50596,
    "start_time": "2023-01-14T20:51:31.607Z"
   },
   {
    "duration": 150,
    "start_time": "2023-01-14T20:52:22.205Z"
   },
   {
    "duration": 6,
    "start_time": "2023-01-14T20:52:22.357Z"
   },
   {
    "duration": 5282,
    "start_time": "2023-01-14T21:05:35.826Z"
   },
   {
    "duration": 4830,
    "start_time": "2023-01-14T21:05:41.110Z"
   },
   {
    "duration": 1295,
    "start_time": "2023-01-14T21:05:45.942Z"
   },
   {
    "duration": 57,
    "start_time": "2023-01-14T21:05:47.239Z"
   },
   {
    "duration": 5,
    "start_time": "2023-01-14T21:05:47.298Z"
   },
   {
    "duration": 33,
    "start_time": "2023-01-14T21:05:47.305Z"
   },
   {
    "duration": 17,
    "start_time": "2023-01-14T21:05:47.341Z"
   },
   {
    "duration": 9,
    "start_time": "2023-01-14T21:05:47.361Z"
   },
   {
    "duration": 21,
    "start_time": "2023-01-14T21:05:47.371Z"
   },
   {
    "duration": 6,
    "start_time": "2023-01-14T21:05:47.395Z"
   },
   {
    "duration": 84,
    "start_time": "2023-01-14T21:05:47.402Z"
   },
   {
    "duration": 4,
    "start_time": "2023-01-14T21:05:47.488Z"
   },
   {
    "duration": 29,
    "start_time": "2023-01-14T21:05:47.494Z"
   },
   {
    "duration": 8,
    "start_time": "2023-01-14T21:05:47.536Z"
   },
   {
    "duration": 10,
    "start_time": "2023-01-14T21:05:47.546Z"
   },
   {
    "duration": 22,
    "start_time": "2023-01-14T21:05:47.558Z"
   },
   {
    "duration": 21,
    "start_time": "2023-01-14T21:05:47.582Z"
   },
   {
    "duration": 13,
    "start_time": "2023-01-14T21:05:47.605Z"
   },
   {
    "duration": 21,
    "start_time": "2023-01-14T21:05:47.621Z"
   },
   {
    "duration": 21,
    "start_time": "2023-01-14T21:05:47.643Z"
   },
   {
    "duration": 52,
    "start_time": "2023-01-14T21:05:47.667Z"
   },
   {
    "duration": 35,
    "start_time": "2023-01-14T21:05:47.721Z"
   },
   {
    "duration": 12,
    "start_time": "2023-01-14T21:05:47.758Z"
   },
   {
    "duration": 10,
    "start_time": "2023-01-14T21:05:47.771Z"
   },
   {
    "duration": 6952,
    "start_time": "2023-01-14T21:05:47.783Z"
   },
   {
    "duration": 4,
    "start_time": "2023-01-14T21:05:54.738Z"
   },
   {
    "duration": 38725,
    "start_time": "2023-01-14T21:05:54.749Z"
   },
   {
    "duration": 107,
    "start_time": "2023-01-14T21:06:33.478Z"
   },
   {
    "duration": 10,
    "start_time": "2023-01-14T21:06:33.587Z"
   },
   {
    "duration": 256,
    "start_time": "2023-01-14T21:06:33.599Z"
   },
   {
    "duration": 87,
    "start_time": "2023-01-14T21:06:33.858Z"
   },
   {
    "duration": 50092,
    "start_time": "2023-01-14T21:06:33.947Z"
   },
   {
    "duration": 139,
    "start_time": "2023-01-14T21:07:24.041Z"
   },
   {
    "duration": 7,
    "start_time": "2023-01-14T21:07:24.181Z"
   },
   {
    "duration": 318963,
    "start_time": "2023-01-14T21:07:24.190Z"
   },
   {
    "duration": 133,
    "start_time": "2023-01-14T21:12:43.155Z"
   },
   {
    "duration": 6,
    "start_time": "2023-01-14T21:12:43.290Z"
   },
   {
    "duration": 28638,
    "start_time": "2023-01-14T21:12:43.298Z"
   },
   {
    "duration": 413,
    "start_time": "2023-01-14T21:13:11.938Z"
   },
   {
    "duration": 9,
    "start_time": "2023-01-14T21:13:12.353Z"
   },
   {
    "duration": 20310,
    "start_time": "2023-01-14T21:13:12.364Z"
   },
   {
    "duration": 325053,
    "start_time": "2023-01-14T21:13:32.676Z"
   },
   {
    "duration": 36807,
    "start_time": "2023-01-14T21:18:57.730Z"
   },
   {
    "duration": 104,
    "start_time": "2023-01-14T21:19:34.539Z"
   },
   {
    "duration": 65264,
    "start_time": "2023-01-14T21:19:34.645Z"
   },
   {
    "duration": 388026,
    "start_time": "2023-01-14T21:20:39.911Z"
   },
   {
    "duration": 31800,
    "start_time": "2023-01-14T21:27:07.939Z"
   },
   {
    "duration": 98,
    "start_time": "2023-01-14T21:27:39.744Z"
   },
   {
    "duration": 22881,
    "start_time": "2023-01-14T21:27:39.844Z"
   },
   {
    "duration": 229460,
    "start_time": "2023-01-14T21:28:02.726Z"
   },
   {
    "duration": 21048,
    "start_time": "2023-01-14T21:31:52.188Z"
   },
   {
    "duration": 115,
    "start_time": "2023-01-14T21:32:13.239Z"
   },
   {
    "duration": 5,
    "start_time": "2023-01-14T21:32:13.356Z"
   },
   {
    "duration": 7,
    "start_time": "2023-01-14T21:32:13.362Z"
   },
   {
    "duration": 23876,
    "start_time": "2023-01-14T21:44:39.363Z"
   },
   {
    "duration": 15,
    "start_time": "2023-01-14T21:45:18.556Z"
   },
   {
    "duration": 53,
    "start_time": "2023-01-14T21:59:23.859Z"
   },
   {
    "duration": 121,
    "start_time": "2023-01-14T22:14:09.817Z"
   },
   {
    "duration": 5222,
    "start_time": "2023-01-14T22:14:58.863Z"
   },
   {
    "duration": 4647,
    "start_time": "2023-01-14T22:15:04.088Z"
   },
   {
    "duration": 5,
    "start_time": "2023-01-14T22:15:08.737Z"
   },
   {
    "duration": 60,
    "start_time": "2023-01-14T22:15:08.744Z"
   },
   {
    "duration": 4,
    "start_time": "2023-01-14T22:15:08.805Z"
   },
   {
    "duration": 16,
    "start_time": "2023-01-14T22:15:08.810Z"
   },
   {
    "duration": 99,
    "start_time": "2023-01-14T22:15:08.828Z"
   },
   {
    "duration": 8,
    "start_time": "2023-01-14T22:15:08.928Z"
   },
   {
    "duration": 15,
    "start_time": "2023-01-14T22:15:08.938Z"
   },
   {
    "duration": 8,
    "start_time": "2023-01-14T22:15:08.955Z"
   },
   {
    "duration": 45,
    "start_time": "2023-01-14T22:15:08.965Z"
   },
   {
    "duration": 5,
    "start_time": "2023-01-14T22:15:09.035Z"
   },
   {
    "duration": 26,
    "start_time": "2023-01-14T22:15:09.042Z"
   },
   {
    "duration": 4,
    "start_time": "2023-01-14T22:15:14.473Z"
   },
   {
    "duration": 4,
    "start_time": "2023-01-14T22:24:28.820Z"
   },
   {
    "duration": 47,
    "start_time": "2023-01-14T22:25:43.053Z"
   },
   {
    "duration": 35,
    "start_time": "2023-01-14T22:26:10.791Z"
   },
   {
    "duration": 38,
    "start_time": "2023-01-14T22:26:31.016Z"
   },
   {
    "duration": 46,
    "start_time": "2023-01-14T22:27:55.466Z"
   },
   {
    "duration": 5623,
    "start_time": "2023-01-14T22:34:32.288Z"
   },
   {
    "duration": 4713,
    "start_time": "2023-01-14T22:34:37.914Z"
   },
   {
    "duration": 8,
    "start_time": "2023-01-14T22:34:42.630Z"
   },
   {
    "duration": 90,
    "start_time": "2023-01-14T22:34:42.640Z"
   },
   {
    "duration": 4,
    "start_time": "2023-01-14T22:34:42.733Z"
   },
   {
    "duration": 17,
    "start_time": "2023-01-14T22:34:42.738Z"
   },
   {
    "duration": 13,
    "start_time": "2023-01-14T22:34:42.756Z"
   },
   {
    "duration": 15,
    "start_time": "2023-01-14T22:34:42.770Z"
   },
   {
    "duration": 27,
    "start_time": "2023-01-14T22:34:42.787Z"
   },
   {
    "duration": 7,
    "start_time": "2023-01-14T22:34:42.816Z"
   },
   {
    "duration": 46,
    "start_time": "2023-01-14T22:34:42.825Z"
   },
   {
    "duration": 4,
    "start_time": "2023-01-14T22:34:42.873Z"
   },
   {
    "duration": 25,
    "start_time": "2023-01-14T22:34:42.879Z"
   },
   {
    "duration": 63,
    "start_time": "2023-01-14T22:34:42.907Z"
   },
   {
    "duration": 7,
    "start_time": "2023-01-14T22:34:42.972Z"
   },
   {
    "duration": 12,
    "start_time": "2023-01-14T22:34:42.980Z"
   },
   {
    "duration": 13,
    "start_time": "2023-01-14T22:34:42.993Z"
   },
   {
    "duration": 137,
    "start_time": "2023-01-14T22:34:43.008Z"
   },
   {
    "duration": 24,
    "start_time": "2023-01-14T22:34:43.147Z"
   },
   {
    "duration": 48763,
    "start_time": "2023-01-14T22:34:43.173Z"
   },
   {
    "duration": 152,
    "start_time": "2023-01-14T22:35:31.938Z"
   },
   {
    "duration": 7,
    "start_time": "2023-01-14T22:35:32.092Z"
   },
   {
    "duration": 319604,
    "start_time": "2023-01-14T22:35:32.100Z"
   },
   {
    "duration": 140,
    "start_time": "2023-01-14T22:40:51.707Z"
   },
   {
    "duration": 7,
    "start_time": "2023-01-14T22:40:51.849Z"
   },
   {
    "duration": 24378,
    "start_time": "2023-01-14T22:40:51.858Z"
   },
   {
    "duration": 408,
    "start_time": "2023-01-14T22:41:16.239Z"
   },
   {
    "duration": 8,
    "start_time": "2023-01-14T22:41:16.649Z"
   },
   {
    "duration": 20129,
    "start_time": "2023-01-14T22:41:16.659Z"
   },
   {
    "duration": 331568,
    "start_time": "2023-01-14T22:41:36.790Z"
   },
   {
    "duration": 27085,
    "start_time": "2023-01-14T22:47:08.360Z"
   },
   {
    "duration": 101,
    "start_time": "2023-01-14T22:47:35.536Z"
   },
   {
    "duration": 66002,
    "start_time": "2023-01-14T22:47:35.640Z"
   },
   {
    "duration": 406765,
    "start_time": "2023-01-14T22:48:41.644Z"
   },
   {
    "duration": 33427,
    "start_time": "2023-01-14T22:55:28.411Z"
   },
   {
    "duration": 104,
    "start_time": "2023-01-14T22:56:01.845Z"
   },
   {
    "duration": 25194,
    "start_time": "2023-01-14T22:56:01.951Z"
   },
   {
    "duration": 235783,
    "start_time": "2023-01-14T22:56:27.147Z"
   },
   {
    "duration": 20701,
    "start_time": "2023-01-14T23:00:22.935Z"
   },
   {
    "duration": 103,
    "start_time": "2023-01-14T23:00:43.642Z"
   },
   {
    "duration": 5,
    "start_time": "2023-01-14T23:00:43.748Z"
   },
   {
    "duration": 9,
    "start_time": "2023-01-14T23:00:43.755Z"
   }
  ],
  "kernelspec": {
   "display_name": "Python 3 (ipykernel)",
   "language": "python",
   "name": "python3"
  },
  "language_info": {
   "codemirror_mode": {
    "name": "ipython",
    "version": 3
   },
   "file_extension": ".py",
   "mimetype": "text/x-python",
   "name": "python",
   "nbconvert_exporter": "python",
   "pygments_lexer": "ipython3",
   "version": "3.9.12"
  },
  "toc": {
   "base_numbering": 1,
   "nav_menu": {},
   "number_sections": true,
   "sideBar": true,
   "skip_h1_title": true,
   "title_cell": "Содержание",
   "title_sidebar": "Contents",
   "toc_cell": true,
   "toc_position": {
    "height": "calc(100% - 180px)",
    "left": "10px",
    "top": "150px",
    "width": "165px"
   },
   "toc_section_display": true,
   "toc_window_display": false
  }
 },
 "nbformat": 4,
 "nbformat_minor": 2
}

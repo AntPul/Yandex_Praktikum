{
 "cells": [
  {
   "cell_type": "markdown",
   "metadata": {},
   "source": [
    "# Рекомендация тарифов"
   ]
  },
  {
   "cell_type": "markdown",
   "metadata": {},
   "source": [
    "В вашем распоряжении данные о поведении клиентов, которые уже перешли на эти тарифы (из проекта курса «Статистический анализ данных»). Нужно построить модель для задачи классификации, которая выберет подходящий тариф. Предобработка данных не понадобится — вы её уже сделали.\n",
    "\n",
    "Постройте модель с максимально большим значением *accuracy*. Чтобы сдать проект успешно, нужно довести долю правильных ответов по крайней мере до 0.75. Проверьте *accuracy* на тестовой выборке самостоятельно."
   ]
  },
  {
   "cell_type": "markdown",
   "metadata": {},
   "source": [
    "## Откройте и изучите файл"
   ]
  },
  {
   "cell_type": "code",
   "execution_count": 1,
   "metadata": {},
   "outputs": [
    {
     "name": "stdout",
     "output_type": "stream",
     "text": [
      "<class 'pandas.core.frame.DataFrame'>\n",
      "RangeIndex: 3214 entries, 0 to 3213\n",
      "Data columns (total 5 columns):\n",
      " #   Column    Non-Null Count  Dtype  \n",
      "---  ------    --------------  -----  \n",
      " 0   calls     3214 non-null   float64\n",
      " 1   minutes   3214 non-null   float64\n",
      " 2   messages  3214 non-null   float64\n",
      " 3   mb_used   3214 non-null   float64\n",
      " 4   is_ultra  3214 non-null   int64  \n",
      "dtypes: float64(4), int64(1)\n",
      "memory usage: 125.7 KB\n"
     ]
    }
   ],
   "source": [
    "import pandas as pd\n",
    "data = pd.read_csv('/datasets/users_behavior.csv')\n",
    "data.info()"
   ]
  },
  {
   "cell_type": "markdown",
   "metadata": {},
   "source": [
    "**Выводы**\n",
    "1. С помощью библиотеки pandas загрузили файл users_behavior.csv\n",
    "2. С помощью функции info() помсмотрели основные параметры датасета"
   ]
  },
  {
   "cell_type": "markdown",
   "metadata": {},
   "source": [
    "## Разбейте данные на выборки"
   ]
  },
  {
   "cell_type": "code",
   "execution_count": 2,
   "metadata": {},
   "outputs": [],
   "source": [
    "from sklearn.model_selection import train_test_split"
   ]
  },
  {
   "cell_type": "code",
   "execution_count": 3,
   "metadata": {},
   "outputs": [],
   "source": [
    "data_train, data_split = train_test_split(\n",
    "    data, test_size=0.40, random_state=12345)\n",
    "\n",
    "data_test, data_valid = train_test_split(\n",
    "    data_split, test_size=0.50, random_state=12345)\n",
    "\n",
    "features_train = data_train.drop('is_ultra', axis=1)\n",
    "target_train = data_train['is_ultra']\n",
    "\n",
    "features_test = data_test.drop('is_ultra', axis=1)\n",
    "target_test = data_test['is_ultra']\n",
    "\n",
    "features_valid = data_valid.drop('is_ultra', axis=1)\n",
    "target_valid = data_valid['is_ultra']"
   ]
  },
  {
   "cell_type": "code",
   "execution_count": 4,
   "metadata": {},
   "outputs": [
    {
     "data": {
      "text/plain": [
       "(1928, 5)"
      ]
     },
     "execution_count": 4,
     "metadata": {},
     "output_type": "execute_result"
    }
   ],
   "source": [
    "data_train.shape"
   ]
  },
  {
   "cell_type": "code",
   "execution_count": 5,
   "metadata": {},
   "outputs": [
    {
     "data": {
      "text/plain": [
       "(643, 5)"
      ]
     },
     "execution_count": 5,
     "metadata": {},
     "output_type": "execute_result"
    }
   ],
   "source": [
    "data_test.shape"
   ]
  },
  {
   "cell_type": "code",
   "execution_count": 6,
   "metadata": {},
   "outputs": [
    {
     "data": {
      "text/plain": [
       "(643, 5)"
      ]
     },
     "execution_count": 6,
     "metadata": {},
     "output_type": "execute_result"
    }
   ],
   "source": [
    "data_valid.shape"
   ]
  },
  {
   "cell_type": "markdown",
   "metadata": {},
   "source": [
    "**Выводы**\n",
    "\n",
    "1. Данные были разбиты на выборки data_train, data_test и data_valid в соотношении 3:1:1\n",
    "2. Из выборок были выделены признаки (features_train, features_test и features_valid) и целевые признаки - (target_train, target_test и target_valid) \n"
   ]
  },
  {
   "cell_type": "markdown",
   "metadata": {},
   "source": [
    "## Исследуйте модели"
   ]
  },
  {
   "cell_type": "code",
   "execution_count": 7,
   "metadata": {},
   "outputs": [],
   "source": [
    "from sklearn.tree import DecisionTreeClassifier\n",
    "from sklearn.metrics import accuracy_score"
   ]
  },
  {
   "cell_type": "code",
   "execution_count": 8,
   "metadata": {},
   "outputs": [
    {
     "name": "stdout",
     "output_type": "stream",
     "text": [
      "Accuracy наилучшей модели на валидационной выборке: 0.8040435458786936\n"
     ]
    },
    {
     "data": {
      "text/plain": [
       "DecisionTreeClassifier(max_depth=10, min_samples_leaf=10, min_samples_split=100,\n",
       "                       random_state=12345)"
      ]
     },
     "execution_count": 8,
     "metadata": {},
     "output_type": "execute_result"
    }
   ],
   "source": [
    "best_model_1 = None\n",
    "best_result_1 = 0\n",
    "for depth in range(10, 200, 10):\n",
    "    model_1 = DecisionTreeClassifier(random_state=12345, max_depth=depth, min_samples_split=100, min_samples_leaf=10) # обучаем модель с заданной глубиной дерева от 1 до 6\n",
    "    model_1.fit(features_train, target_train) # обучаем модель\n",
    "    result = model_1.score(features_valid, target_valid)\n",
    "    if result > best_result_1:\n",
    "        best_model_1 = model_1 # сохраняем наилучшую модель\n",
    "        best_result_1 = result #  сохраняем наилучшее значение метрики accuracy на валидационных данных\n",
    "        \n",
    "print(\"Accuracy наилучшей модели на валидационной выборке:\", best_result_1)\n",
    "best_model_1"
   ]
  },
  {
   "cell_type": "code",
   "execution_count": 9,
   "metadata": {},
   "outputs": [],
   "source": [
    "from sklearn.ensemble import RandomForestClassifier"
   ]
  },
  {
   "cell_type": "code",
   "execution_count": 10,
   "metadata": {},
   "outputs": [
    {
     "name": "stdout",
     "output_type": "stream",
     "text": [
      "Accuracy наилучшей модели на валидационной выборке: 0.8118195956454122\n"
     ]
    },
    {
     "data": {
      "text/plain": [
       "RandomForestClassifier(min_samples_leaf=6, min_samples_split=30,\n",
       "                       random_state=12345)"
      ]
     },
     "execution_count": 10,
     "metadata": {},
     "output_type": "execute_result"
    }
   ],
   "source": [
    "best_model_2 = None\n",
    "best_result_2 = 0\n",
    "for est in range(10, 200, 10):\n",
    "    model_2 = RandomForestClassifier(random_state=12345, n_estimators=est, min_samples_split=30, min_samples_leaf=6) # обучите модель с заданным количеством деревьев\n",
    "    model_2.fit(features_train, target_train) # обучите модель на тренировочной выборке\n",
    "    result = model_2.score(features_valid, target_valid) # посчитайте качество модели на валидационной выборке\n",
    "    if result > best_result_2:\n",
    "        best_model_2 = model_2 # сохраните наилучшую модель\n",
    "        best_result_2 = result #  сохраните наилучшее значение метрики accuracy на валидационных данных\n",
    "\n",
    "print(\"Accuracy наилучшей модели на валидационной выборке:\", best_result_2)\n",
    "best_model_2"
   ]
  },
  {
   "cell_type": "code",
   "execution_count": 11,
   "metadata": {},
   "outputs": [],
   "source": [
    "from sklearn.linear_model import LogisticRegression"
   ]
  },
  {
   "cell_type": "code",
   "execution_count": 12,
   "metadata": {},
   "outputs": [
    {
     "name": "stdout",
     "output_type": "stream",
     "text": [
      "Accuracy наилучшей модели на валидационной выборке: 0.6842923794712286\n"
     ]
    },
    {
     "data": {
      "text/plain": [
       "LogisticRegression(max_iter=1000, random_state=12345)"
      ]
     },
     "execution_count": 12,
     "metadata": {},
     "output_type": "execute_result"
    }
   ],
   "source": [
    "model_3 = LogisticRegression(random_state=12345, solver='lbfgs', max_iter=1000) \n",
    "model_3.fit(features_train, target_train)\n",
    "result = model_3.score(features_valid, target_valid)\n",
    "print(\"Accuracy наилучшей модели на валидационной выборке:\", result)\n",
    "model_3"
   ]
  },
  {
   "cell_type": "markdown",
   "metadata": {},
   "source": [
    "**Выводы**\n",
    "\n",
    "1. Обучили на тренировычных данных три модели (DecisionTreeClassifier, RandomForestClassifier и LogisticRegression)\n",
    "2. Были подобраны гипперпарамметры для моделей DecisionTreeClassifier и RandomForestClassifier которые позволили получить долю правильных ответов(accuracy) 0.8040435458786936 для DecisionTreeClassifier и 0.8118195956454122 для RandomForestClassifier\n",
    "3. Лучший показатель доли правильных ответов у RandomForestClassifier (0.8118195956454122), а худший у LogisticRegression (0.6842923794712286)"
   ]
  },
  {
   "cell_type": "markdown",
   "metadata": {},
   "source": [
    "## Проверьте модель на тестовой выборке"
   ]
  },
  {
   "cell_type": "code",
   "execution_count": 13,
   "metadata": {
    "scrolled": true
   },
   "outputs": [
    {
     "name": "stdout",
     "output_type": "stream",
     "text": [
      "Accuracy на тестовой выборке: 0.7838258164852255\n"
     ]
    },
    {
     "data": {
      "text/plain": [
       "DecisionTreeClassifier(max_depth=10, min_samples_leaf=10, min_samples_split=100,\n",
       "                       random_state=12345)"
      ]
     },
     "execution_count": 13,
     "metadata": {},
     "output_type": "execute_result"
    }
   ],
   "source": [
    "print(\"Accuracy на тестовой выборке:\", best_model_1.score(features_test, target_test))\n",
    "best_model_1"
   ]
  },
  {
   "cell_type": "code",
   "execution_count": 14,
   "metadata": {},
   "outputs": [
    {
     "name": "stdout",
     "output_type": "stream",
     "text": [
      "Accuracy на тестовой выборке: 0.7931570762052877\n"
     ]
    },
    {
     "data": {
      "text/plain": [
       "RandomForestClassifier(min_samples_leaf=6, min_samples_split=30,\n",
       "                       random_state=12345)"
      ]
     },
     "execution_count": 14,
     "metadata": {},
     "output_type": "execute_result"
    }
   ],
   "source": [
    "print(\"Accuracy на тестовой выборке:\", best_model_2.score(features_test, target_test))\n",
    "best_model_2"
   ]
  },
  {
   "cell_type": "code",
   "execution_count": 15,
   "metadata": {},
   "outputs": [
    {
     "name": "stdout",
     "output_type": "stream",
     "text": [
      "Accuracy на тестовой выборке: 0.7107309486780715\n"
     ]
    },
    {
     "data": {
      "text/plain": [
       "LogisticRegression(max_iter=1000, random_state=12345)"
      ]
     },
     "execution_count": 15,
     "metadata": {},
     "output_type": "execute_result"
    }
   ],
   "source": [
    "print(\"Accuracy на тестовой выборке:\", model_3.score(features_test, target_test))\n",
    "model_3"
   ]
  },
  {
   "cell_type": "markdown",
   "metadata": {},
   "source": [
    "**Выводы**\n",
    "\n",
    "Проверили модели на тестовых выборках:\n",
    "- DecisionTreeClassifier доля правильных ответов(accuracy)- 0.7869362363919129\n",
    "- RandomForestClassifier доля правильных ответов(accuracy)- 0.7931570762052877 (лучший показатель)\n",
    "- LogisticRegression доля правильных ответов(accuracy)- 0.7107309486780715 (хучший показатель)"
   ]
  },
  {
   "cell_type": "markdown",
   "metadata": {},
   "source": [
    "## (бонус) Проверьте модели на адекватность"
   ]
  },
  {
   "cell_type": "code",
   "execution_count": 16,
   "metadata": {},
   "outputs": [],
   "source": [
    "from sklearn.dummy import DummyClassifier"
   ]
  },
  {
   "cell_type": "code",
   "execution_count": 17,
   "metadata": {},
   "outputs": [
    {
     "data": {
      "text/plain": [
       "0.7060653188180405"
      ]
     },
     "execution_count": 17,
     "metadata": {},
     "output_type": "execute_result"
    }
   ],
   "source": [
    "dclf = DummyClassifier(strategy = 'most_frequent', random_state = 12345)\n",
    "dclf.fit(features_train, target_train)\n",
    "score = dclf.score(features_test, target_test)\n",
    "score"
   ]
  },
  {
   "cell_type": "markdown",
   "metadata": {},
   "source": [
    "<div class=\"alert alert-info\">\n",
    "    \n",
    "**Вывод** \\\n",
    "С помощью фиктивного классифиактора DummyClassifier со стратегией 'most_frequent' мы убедились что наша лучшая модель RandomForestClassifier с показателем 0.8118195956454122 лучше случайной модели.\n",
    "    \n",
    "\n"
   ]
  },
  {
   "cell_type": "markdown",
   "metadata": {},
   "source": [
    "Из иследуемых моделей самые точные результаты демонстрирует модель RandomForestClassifier(min_samples_leaf=6,min_samples_split=30, n_estimators=9, random_state=12345)\n",
    "\n",
    "\n"
   ]
  }
 ],
 "metadata": {
  "ExecuteTimeLog": [
   {
    "duration": 495,
    "start_time": "2022-12-21T16:31:45.302Z"
   },
   {
    "duration": 748,
    "start_time": "2022-12-21T16:58:28.538Z"
   },
   {
    "duration": 10,
    "start_time": "2022-12-21T16:58:52.416Z"
   },
   {
    "duration": 11,
    "start_time": "2022-12-21T16:59:46.116Z"
   },
   {
    "duration": 10,
    "start_time": "2022-12-21T17:02:15.794Z"
   },
   {
    "duration": 14,
    "start_time": "2022-12-21T17:06:17.047Z"
   },
   {
    "duration": 14,
    "start_time": "2022-12-21T17:06:34.294Z"
   },
   {
    "duration": 12,
    "start_time": "2022-12-21T17:06:51.135Z"
   },
   {
    "duration": 5,
    "start_time": "2022-12-21T17:07:11.153Z"
   },
   {
    "duration": 7,
    "start_time": "2022-12-21T19:27:12.413Z"
   },
   {
    "duration": 39,
    "start_time": "2022-12-21T19:27:21.400Z"
   },
   {
    "duration": 18,
    "start_time": "2022-12-21T19:29:26.896Z"
   },
   {
    "duration": 19,
    "start_time": "2022-12-21T19:29:37.817Z"
   },
   {
    "duration": 9,
    "start_time": "2022-12-21T19:31:46.782Z"
   },
   {
    "duration": 3,
    "start_time": "2022-12-21T19:38:17.855Z"
   },
   {
    "duration": 17,
    "start_time": "2022-12-21T19:38:20.187Z"
   },
   {
    "duration": 32,
    "start_time": "2022-12-21T19:44:07.984Z"
   },
   {
    "duration": 10,
    "start_time": "2022-12-21T19:47:02.654Z"
   },
   {
    "duration": 256,
    "start_time": "2022-12-21T19:49:40.714Z"
   },
   {
    "duration": 911,
    "start_time": "2022-12-21T19:51:09.080Z"
   },
   {
    "duration": 331,
    "start_time": "2022-12-21T19:51:18.990Z"
   },
   {
    "duration": 263,
    "start_time": "2022-12-21T19:55:11.290Z"
   },
   {
    "duration": 247,
    "start_time": "2022-12-21T20:18:04.330Z"
   },
   {
    "duration": 271,
    "start_time": "2022-12-21T20:20:24.492Z"
   },
   {
    "duration": 35,
    "start_time": "2022-12-21T20:20:54.796Z"
   },
   {
    "duration": 33,
    "start_time": "2022-12-21T20:21:08.910Z"
   },
   {
    "duration": 251,
    "start_time": "2022-12-21T20:24:16.946Z"
   },
   {
    "duration": 231,
    "start_time": "2022-12-21T20:24:21.834Z"
   },
   {
    "duration": 3,
    "start_time": "2022-12-21T20:25:03.266Z"
   },
   {
    "duration": 31,
    "start_time": "2022-12-21T20:29:11.698Z"
   },
   {
    "duration": 26,
    "start_time": "2022-12-21T20:29:27.810Z"
   },
   {
    "duration": 34,
    "start_time": "2022-12-21T20:29:49.107Z"
   },
   {
    "duration": 28,
    "start_time": "2022-12-21T20:30:06.299Z"
   },
   {
    "duration": 37,
    "start_time": "2022-12-21T20:30:24.347Z"
   },
   {
    "duration": 17,
    "start_time": "2022-12-21T20:31:06.101Z"
   },
   {
    "duration": 27,
    "start_time": "2022-12-21T20:31:18.605Z"
   },
   {
    "duration": 23,
    "start_time": "2022-12-21T20:31:26.141Z"
   },
   {
    "duration": 25,
    "start_time": "2022-12-21T20:32:16.776Z"
   },
   {
    "duration": 6,
    "start_time": "2022-12-21T20:46:22.094Z"
   },
   {
    "duration": 7,
    "start_time": "2022-12-21T20:47:00.935Z"
   },
   {
    "duration": 9,
    "start_time": "2022-12-21T20:47:41.696Z"
   },
   {
    "duration": 8,
    "start_time": "2022-12-21T20:49:25.747Z"
   },
   {
    "duration": 621,
    "start_time": "2022-12-22T17:49:07.274Z"
   },
   {
    "duration": 705,
    "start_time": "2022-12-22T17:49:07.897Z"
   },
   {
    "duration": 43,
    "start_time": "2022-12-22T17:49:08.603Z"
   },
   {
    "duration": 58,
    "start_time": "2022-12-22T17:49:08.648Z"
   },
   {
    "duration": 15,
    "start_time": "2022-12-22T17:49:08.708Z"
   },
   {
    "duration": 317,
    "start_time": "2022-12-22T17:49:08.725Z"
   },
   {
    "duration": 11,
    "start_time": "2022-12-22T17:49:09.044Z"
   },
   {
    "duration": 45,
    "start_time": "2022-12-22T17:49:09.057Z"
   },
   {
    "duration": 9,
    "start_time": "2022-12-22T17:49:09.104Z"
   },
   {
    "duration": 37,
    "start_time": "2022-12-22T17:49:09.117Z"
   },
   {
    "duration": 9,
    "start_time": "2022-12-22T17:49:09.156Z"
   },
   {
    "duration": 106,
    "start_time": "2022-12-22T17:56:38.710Z"
   },
   {
    "duration": 34,
    "start_time": "2022-12-22T17:57:20.874Z"
   },
   {
    "duration": 34,
    "start_time": "2022-12-22T17:57:42.162Z"
   },
   {
    "duration": 33,
    "start_time": "2022-12-22T17:57:48.475Z"
   },
   {
    "duration": 39,
    "start_time": "2022-12-22T17:57:56.813Z"
   },
   {
    "duration": 26,
    "start_time": "2022-12-22T17:58:01.355Z"
   },
   {
    "duration": 38,
    "start_time": "2022-12-22T17:58:08.434Z"
   },
   {
    "duration": 30,
    "start_time": "2022-12-22T17:58:27.215Z"
   },
   {
    "duration": 36,
    "start_time": "2022-12-22T17:58:32.860Z"
   },
   {
    "duration": 42,
    "start_time": "2022-12-22T17:58:37.756Z"
   },
   {
    "duration": 43,
    "start_time": "2022-12-22T17:58:41.837Z"
   },
   {
    "duration": 42,
    "start_time": "2022-12-22T17:58:46.911Z"
   },
   {
    "duration": 42,
    "start_time": "2022-12-22T17:58:50.773Z"
   },
   {
    "duration": 33,
    "start_time": "2022-12-22T17:58:57.773Z"
   },
   {
    "duration": 34,
    "start_time": "2022-12-22T17:59:04.172Z"
   },
   {
    "duration": 34,
    "start_time": "2022-12-22T17:59:59.414Z"
   },
   {
    "duration": 46,
    "start_time": "2022-12-22T18:00:03.847Z"
   },
   {
    "duration": 34,
    "start_time": "2022-12-22T18:00:10.134Z"
   },
   {
    "duration": 41,
    "start_time": "2022-12-22T18:00:14.640Z"
   },
   {
    "duration": 39,
    "start_time": "2022-12-22T18:00:18.774Z"
   },
   {
    "duration": 30,
    "start_time": "2022-12-22T18:00:30.035Z"
   },
   {
    "duration": 33,
    "start_time": "2022-12-22T18:00:35.403Z"
   },
   {
    "duration": 202,
    "start_time": "2022-12-22T18:01:52.578Z"
   },
   {
    "duration": 159,
    "start_time": "2022-12-22T18:02:07.809Z"
   },
   {
    "duration": 216,
    "start_time": "2022-12-22T18:02:11.242Z"
   },
   {
    "duration": 180,
    "start_time": "2022-12-22T18:02:17.311Z"
   },
   {
    "duration": 204,
    "start_time": "2022-12-22T18:02:22.043Z"
   },
   {
    "duration": 204,
    "start_time": "2022-12-22T18:02:25.874Z"
   },
   {
    "duration": 172,
    "start_time": "2022-12-22T18:02:32.570Z"
   },
   {
    "duration": 225,
    "start_time": "2022-12-22T18:02:37.132Z"
   },
   {
    "duration": 242,
    "start_time": "2022-12-22T18:02:47.905Z"
   },
   {
    "duration": 287,
    "start_time": "2022-12-22T18:02:54.514Z"
   },
   {
    "duration": 228,
    "start_time": "2022-12-22T18:03:00.955Z"
   },
   {
    "duration": 230,
    "start_time": "2022-12-22T18:03:08.739Z"
   },
   {
    "duration": 232,
    "start_time": "2022-12-22T18:03:16.218Z"
   },
   {
    "duration": 264,
    "start_time": "2022-12-22T18:03:23.508Z"
   },
   {
    "duration": 251,
    "start_time": "2022-12-22T18:03:27.193Z"
   },
   {
    "duration": 231,
    "start_time": "2022-12-22T18:03:40.612Z"
   },
   {
    "duration": 246,
    "start_time": "2022-12-22T18:03:47.277Z"
   },
   {
    "duration": 228,
    "start_time": "2022-12-22T18:03:55.972Z"
   },
   {
    "duration": 304,
    "start_time": "2022-12-22T18:04:00.614Z"
   },
   {
    "duration": 246,
    "start_time": "2022-12-22T18:04:04.853Z"
   },
   {
    "duration": 240,
    "start_time": "2022-12-22T18:04:17.861Z"
   },
   {
    "duration": 219,
    "start_time": "2022-12-22T18:04:32.373Z"
   },
   {
    "duration": 239,
    "start_time": "2022-12-22T18:04:36.549Z"
   },
   {
    "duration": 227,
    "start_time": "2022-12-22T18:04:43.013Z"
   },
   {
    "duration": 255,
    "start_time": "2022-12-22T18:04:48.138Z"
   },
   {
    "duration": 12,
    "start_time": "2022-12-22T18:05:50.248Z"
   },
   {
    "duration": 30,
    "start_time": "2022-12-22T18:05:56.471Z"
   },
   {
    "duration": 39,
    "start_time": "2022-12-22T18:59:46.450Z"
   },
   {
    "duration": 9,
    "start_time": "2022-12-22T18:59:46.491Z"
   },
   {
    "duration": 7,
    "start_time": "2022-12-22T18:59:46.502Z"
   },
   {
    "duration": 35,
    "start_time": "2022-12-22T18:59:46.511Z"
   },
   {
    "duration": 2,
    "start_time": "2022-12-22T18:59:46.548Z"
   },
   {
    "duration": 218,
    "start_time": "2022-12-22T18:59:46.552Z"
   },
   {
    "duration": 2,
    "start_time": "2022-12-22T18:59:46.772Z"
   },
   {
    "duration": 27,
    "start_time": "2022-12-22T18:59:46.776Z"
   },
   {
    "duration": 7,
    "start_time": "2022-12-22T18:59:46.805Z"
   },
   {
    "duration": 13,
    "start_time": "2022-12-22T18:59:46.813Z"
   },
   {
    "duration": 31,
    "start_time": "2022-12-22T18:59:46.827Z"
   },
   {
    "duration": 36,
    "start_time": "2022-12-22T19:08:15.549Z"
   },
   {
    "duration": 9,
    "start_time": "2022-12-22T19:08:15.587Z"
   },
   {
    "duration": 6,
    "start_time": "2022-12-22T19:08:15.598Z"
   },
   {
    "duration": 37,
    "start_time": "2022-12-22T19:08:15.605Z"
   },
   {
    "duration": 3,
    "start_time": "2022-12-22T19:08:15.645Z"
   },
   {
    "duration": 253,
    "start_time": "2022-12-22T19:08:15.650Z"
   },
   {
    "duration": 4,
    "start_time": "2022-12-22T19:08:15.904Z"
   },
   {
    "duration": 31,
    "start_time": "2022-12-22T19:08:15.909Z"
   },
   {
    "duration": 14,
    "start_time": "2022-12-22T19:08:15.942Z"
   },
   {
    "duration": 8,
    "start_time": "2022-12-22T19:08:15.958Z"
   },
   {
    "duration": 14,
    "start_time": "2022-12-22T19:08:15.968Z"
   },
   {
    "duration": 421,
    "start_time": "2022-12-22T21:29:24.039Z"
   },
   {
    "duration": 1417,
    "start_time": "2022-12-22T21:29:24.463Z"
   },
   {
    "duration": 46,
    "start_time": "2022-12-22T21:29:25.882Z"
   },
   {
    "duration": 40,
    "start_time": "2022-12-22T21:29:25.931Z"
   },
   {
    "duration": 48,
    "start_time": "2022-12-22T21:29:25.973Z"
   },
   {
    "duration": 249,
    "start_time": "2022-12-22T21:29:26.023Z"
   },
   {
    "duration": 3,
    "start_time": "2022-12-22T21:29:26.274Z"
   },
   {
    "duration": 48,
    "start_time": "2022-12-22T21:29:26.279Z"
   },
   {
    "duration": 10,
    "start_time": "2022-12-22T21:29:26.329Z"
   },
   {
    "duration": 14,
    "start_time": "2022-12-22T21:29:26.342Z"
   },
   {
    "duration": 13,
    "start_time": "2022-12-22T21:29:26.357Z"
   },
   {
    "duration": 7,
    "start_time": "2022-12-22T21:33:45.420Z"
   },
   {
    "duration": 42,
    "start_time": "2022-12-24T08:35:09.710Z"
   },
   {
    "duration": 451,
    "start_time": "2022-12-24T08:38:00.731Z"
   },
   {
    "duration": 658,
    "start_time": "2022-12-24T08:38:01.184Z"
   },
   {
    "duration": 7,
    "start_time": "2022-12-24T08:38:01.844Z"
   },
   {
    "duration": 37,
    "start_time": "2022-12-24T08:38:01.853Z"
   },
   {
    "duration": 40,
    "start_time": "2022-12-24T08:38:01.891Z"
   },
   {
    "duration": 10,
    "start_time": "2022-12-24T08:38:01.933Z"
   },
   {
    "duration": 223,
    "start_time": "2022-12-24T08:38:01.945Z"
   },
   {
    "duration": 2,
    "start_time": "2022-12-24T08:38:02.170Z"
   },
   {
    "duration": 31,
    "start_time": "2022-12-24T08:38:02.174Z"
   },
   {
    "duration": 12,
    "start_time": "2022-12-24T08:38:02.207Z"
   },
   {
    "duration": 13,
    "start_time": "2022-12-24T08:38:02.220Z"
   },
   {
    "duration": 7,
    "start_time": "2022-12-24T08:38:02.235Z"
   },
   {
    "duration": 5,
    "start_time": "2022-12-24T08:41:20.235Z"
   },
   {
    "duration": 3,
    "start_time": "2022-12-24T08:41:22.703Z"
   },
   {
    "duration": 38,
    "start_time": "2022-12-24T08:54:12.174Z"
   },
   {
    "duration": 9,
    "start_time": "2022-12-24T08:54:12.214Z"
   },
   {
    "duration": 14,
    "start_time": "2022-12-24T08:54:12.224Z"
   },
   {
    "duration": 12,
    "start_time": "2022-12-24T08:54:12.240Z"
   },
   {
    "duration": 9,
    "start_time": "2022-12-24T08:54:12.254Z"
   },
   {
    "duration": 8,
    "start_time": "2022-12-24T08:54:12.265Z"
   },
   {
    "duration": 34,
    "start_time": "2022-12-24T08:54:12.275Z"
   },
   {
    "duration": 2,
    "start_time": "2022-12-24T08:54:12.311Z"
   },
   {
    "duration": 3,
    "start_time": "2022-12-24T08:54:50.955Z"
   },
   {
    "duration": 31,
    "start_time": "2022-12-24T08:54:50.959Z"
   },
   {
    "duration": 6,
    "start_time": "2022-12-24T08:54:50.992Z"
   },
   {
    "duration": 30,
    "start_time": "2022-12-24T08:54:51.016Z"
   },
   {
    "duration": 6,
    "start_time": "2022-12-24T08:54:51.047Z"
   },
   {
    "duration": 39498,
    "start_time": "2022-12-24T08:54:51.055Z"
   },
   {
    "duration": 6125,
    "start_time": "2022-12-24T09:01:42.841Z"
   },
   {
    "duration": 155,
    "start_time": "2022-12-24T09:02:32.383Z"
   },
   {
    "duration": 148,
    "start_time": "2022-12-24T09:02:53.191Z"
   },
   {
    "duration": 488,
    "start_time": "2022-12-25T21:59:04.949Z"
   },
   {
    "duration": 704,
    "start_time": "2022-12-25T21:59:05.439Z"
   },
   {
    "duration": 9,
    "start_time": "2022-12-25T21:59:06.145Z"
   },
   {
    "duration": 13,
    "start_time": "2022-12-25T21:59:06.156Z"
   },
   {
    "duration": 9,
    "start_time": "2022-12-25T21:59:06.172Z"
   },
   {
    "duration": 47,
    "start_time": "2022-12-25T21:59:06.182Z"
   },
   {
    "duration": 192,
    "start_time": "2022-12-25T21:59:06.231Z"
   },
   {
    "duration": 26,
    "start_time": "2022-12-25T21:59:06.425Z"
   },
   {
    "duration": 6956,
    "start_time": "2022-12-25T21:59:06.453Z"
   },
   {
    "duration": 3,
    "start_time": "2022-12-25T21:59:13.412Z"
   },
   {
    "duration": 54,
    "start_time": "2022-12-25T21:59:13.418Z"
   },
   {
    "duration": 10,
    "start_time": "2022-12-25T21:59:13.475Z"
   },
   {
    "duration": 32,
    "start_time": "2022-12-25T21:59:13.488Z"
   },
   {
    "duration": 32,
    "start_time": "2022-12-25T21:59:13.523Z"
   },
   {
    "duration": 45,
    "start_time": "2022-12-25T22:32:34.176Z"
   },
   {
    "duration": 3,
    "start_time": "2022-12-25T22:32:34.223Z"
   },
   {
    "duration": 22,
    "start_time": "2022-12-25T22:32:34.227Z"
   },
   {
    "duration": 10,
    "start_time": "2022-12-25T22:32:34.252Z"
   },
   {
    "duration": 10,
    "start_time": "2022-12-25T22:32:34.264Z"
   },
   {
    "duration": 7,
    "start_time": "2022-12-25T22:32:34.275Z"
   },
   {
    "duration": 4,
    "start_time": "2022-12-25T22:32:34.284Z"
   },
   {
    "duration": 228,
    "start_time": "2022-12-25T22:32:34.290Z"
   },
   {
    "duration": 3,
    "start_time": "2022-12-25T22:32:34.520Z"
   },
   {
    "duration": 6946,
    "start_time": "2022-12-25T22:32:34.525Z"
   },
   {
    "duration": 3,
    "start_time": "2022-12-25T22:32:41.473Z"
   },
   {
    "duration": 34,
    "start_time": "2022-12-25T22:32:41.478Z"
   },
   {
    "duration": 9,
    "start_time": "2022-12-25T22:32:41.514Z"
   },
   {
    "duration": 35,
    "start_time": "2022-12-25T22:32:41.551Z"
   },
   {
    "duration": 10,
    "start_time": "2022-12-25T22:32:41.588Z"
   },
   {
    "duration": 472,
    "start_time": "2022-12-25T22:36:25.682Z"
   },
   {
    "duration": 69,
    "start_time": "2022-12-25T22:37:46.645Z"
   },
   {
    "duration": 133,
    "start_time": "2022-12-25T22:43:50.079Z"
   },
   {
    "duration": 3,
    "start_time": "2022-12-25T22:44:59.560Z"
   },
   {
    "duration": 8,
    "start_time": "2022-12-25T22:45:02.601Z"
   },
   {
    "duration": 2,
    "start_time": "2022-12-25T22:45:42.218Z"
   },
   {
    "duration": 8,
    "start_time": "2022-12-25T22:45:43.825Z"
   },
   {
    "duration": 70,
    "start_time": "2022-12-25T22:54:16.580Z"
   },
   {
    "duration": 414,
    "start_time": "2022-12-26T19:06:27.580Z"
   },
   {
    "duration": 1312,
    "start_time": "2022-12-26T19:06:27.996Z"
   },
   {
    "duration": 12,
    "start_time": "2022-12-26T19:06:29.310Z"
   },
   {
    "duration": 27,
    "start_time": "2022-12-26T19:06:29.324Z"
   },
   {
    "duration": 6,
    "start_time": "2022-12-26T19:06:29.353Z"
   },
   {
    "duration": 7,
    "start_time": "2022-12-26T19:06:29.361Z"
   },
   {
    "duration": 66,
    "start_time": "2022-12-26T19:06:29.370Z"
   },
   {
    "duration": 180,
    "start_time": "2022-12-26T19:06:29.438Z"
   },
   {
    "duration": 13,
    "start_time": "2022-12-26T19:06:29.621Z"
   },
   {
    "duration": 12251,
    "start_time": "2022-12-26T19:06:29.638Z"
   },
   {
    "duration": 2,
    "start_time": "2022-12-26T19:06:41.891Z"
   },
   {
    "duration": 38,
    "start_time": "2022-12-26T19:06:41.894Z"
   },
   {
    "duration": 9,
    "start_time": "2022-12-26T19:06:41.934Z"
   },
   {
    "duration": 33,
    "start_time": "2022-12-26T19:06:41.944Z"
   },
   {
    "duration": 8,
    "start_time": "2022-12-26T19:06:41.979Z"
   },
   {
    "duration": 24,
    "start_time": "2022-12-26T19:06:41.988Z"
   },
   {
    "duration": 22,
    "start_time": "2022-12-26T19:06:42.014Z"
   },
   {
    "duration": 444,
    "start_time": "2023-06-02T19:04:29.345Z"
   },
   {
    "duration": 799,
    "start_time": "2023-06-02T19:04:29.791Z"
   },
   {
    "duration": 11,
    "start_time": "2023-06-02T19:04:30.593Z"
   },
   {
    "duration": 62,
    "start_time": "2023-06-02T19:04:30.606Z"
   },
   {
    "duration": 52,
    "start_time": "2023-06-02T19:04:30.670Z"
   },
   {
    "duration": 36,
    "start_time": "2023-06-02T19:04:30.724Z"
   },
   {
    "duration": 68,
    "start_time": "2023-06-02T19:04:30.762Z"
   },
   {
    "duration": 167,
    "start_time": "2023-06-02T19:04:30.832Z"
   },
   {
    "duration": 10,
    "start_time": "2023-06-02T19:04:31.001Z"
   },
   {
    "duration": 6278,
    "start_time": "2023-06-02T19:04:31.013Z"
   },
   {
    "duration": 2,
    "start_time": "2023-06-02T19:04:37.297Z"
   },
   {
    "duration": 35,
    "start_time": "2023-06-02T19:04:37.300Z"
   },
   {
    "duration": 15,
    "start_time": "2023-06-02T19:04:37.337Z"
   },
   {
    "duration": 50,
    "start_time": "2023-06-02T19:04:37.353Z"
   },
   {
    "duration": 10,
    "start_time": "2023-06-02T19:04:37.405Z"
   },
   {
    "duration": 6,
    "start_time": "2023-06-02T19:04:37.416Z"
   },
   {
    "duration": 14,
    "start_time": "2023-06-02T19:04:37.424Z"
   }
  ],
  "kernelspec": {
   "display_name": "Python 3 (ipykernel)",
   "language": "python",
   "name": "python3"
  },
  "language_info": {
   "codemirror_mode": {
    "name": "ipython",
    "version": 3
   },
   "file_extension": ".py",
   "mimetype": "text/x-python",
   "name": "python",
   "nbconvert_exporter": "python",
   "pygments_lexer": "ipython3",
   "version": "3.9.12"
  },
  "toc": {
   "base_numbering": 1,
   "nav_menu": {},
   "number_sections": true,
   "sideBar": true,
   "skip_h1_title": true,
   "title_cell": "Table of Contents",
   "title_sidebar": "Contents",
   "toc_cell": false,
   "toc_position": {
    "height": "calc(100% - 180px)",
    "left": "10px",
    "top": "150px",
    "width": "288px"
   },
   "toc_section_display": true,
   "toc_window_display": true
  }
 },
 "nbformat": 4,
 "nbformat_minor": 2
}

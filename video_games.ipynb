{
 "cells": [
  {
   "cell_type": "code",
   "execution_count": 844,
   "metadata": {},
   "outputs": [],
   "source": [
    "import pandas as pd\n",
    "import numpy as np\n",
    "import matplotlib.pyplot as plt"
   ]
  },
  {
   "cell_type": "markdown",
   "metadata": {},
   "source": [
    "<div class=\"alert alert-info\">\n",
    "<b>В настоящем проекте мы обработаем данные интернет-магазина «Стримчик», который продаёт по всему миру компьютерные игры.\n",
    "    Проанализировав данные мы выявим определяющие успешность игры закономерности для того что бы сделать ставку на потенциально популярный продукт и спланировать рекламные кампании.\n",
    "    Попробуем спрогнозировать продажи на 2017 год.\n",
    "    </b> \n",
    "</div>"
   ]
  },
  {
   "cell_type": "markdown",
   "metadata": {},
   "source": [
    "### Открываем файл с данными и изучаем общую информацию"
   ]
  },
  {
   "cell_type": "code",
   "execution_count": 845,
   "metadata": {},
   "outputs": [],
   "source": [
    "data = pd.read_csv('/datasets/games.csv')"
   ]
  },
  {
   "cell_type": "code",
   "execution_count": 846,
   "metadata": {
    "scrolled": true
   },
   "outputs": [
    {
     "name": "stdout",
     "output_type": "stream",
     "text": [
      "<class 'pandas.core.frame.DataFrame'>\n",
      "RangeIndex: 16715 entries, 0 to 16714\n",
      "Data columns (total 11 columns):\n",
      " #   Column           Non-Null Count  Dtype  \n",
      "---  ------           --------------  -----  \n",
      " 0   Name             16713 non-null  object \n",
      " 1   Platform         16715 non-null  object \n",
      " 2   Year_of_Release  16446 non-null  float64\n",
      " 3   Genre            16713 non-null  object \n",
      " 4   NA_sales         16715 non-null  float64\n",
      " 5   EU_sales         16715 non-null  float64\n",
      " 6   JP_sales         16715 non-null  float64\n",
      " 7   Other_sales      16715 non-null  float64\n",
      " 8   Critic_Score     8137 non-null   float64\n",
      " 9   User_Score       10014 non-null  object \n",
      " 10  Rating           9949 non-null   object \n",
      "dtypes: float64(6), object(5)\n",
      "memory usage: 1.4+ MB\n"
     ]
    }
   ],
   "source": [
    "data.info()"
   ]
  },
  {
   "cell_type": "markdown",
   "metadata": {},
   "source": [
    "**Выводы\n",
    "1. Ввсего 11 столбцов из которых без пропусков: \"Platform\", \"NA_sales\", \"EU_sales\", \"JP_sales\" и \"Other_sales\".\n",
    "2. Тип данных в столбцах \"Year_of_Release\", \"Critic_Score\", \"User_Score\" и \"Rating\" необходимо проверить и преобразовать."
   ]
  },
  {
   "cell_type": "markdown",
   "metadata": {},
   "source": [
    "### Подготовка данных"
   ]
  },
  {
   "cell_type": "code",
   "execution_count": 847,
   "metadata": {},
   "outputs": [],
   "source": [
    "data = data.drop_duplicates().reset_index(drop=True) \n",
    "# удаляем все полные дубликаты если они есть."
   ]
  },
  {
   "cell_type": "code",
   "execution_count": 848,
   "metadata": {},
   "outputs": [],
   "source": [
    "data = data.rename(columns={'Name': 'name', 'Platform': 'platform', 'Year_of_Release': 'year_of_release',\n",
    "                            'Genre': 'genre', 'NA_sales': 'na_sales', 'EU_sales': 'eu_sales', 'JP_sales': 'jp_sales', \n",
    "                           'Other_sales': 'other_sales', 'Critic_Score': 'critic_score', 'User_Score': 'user_score', 'Rating': 'rating'})\n",
    "# Заменяем названия столбцов (приводим к нижнему регистру) "
   ]
  },
  {
   "cell_type": "code",
   "execution_count": 849,
   "metadata": {},
   "outputs": [],
   "source": [
    "data['year_of_release'] = pd.to_datetime(data['year_of_release'], format='%Y')\n",
    "# меняем тип данных в столбце \"year_of_release\" на datetime64"
   ]
  },
  {
   "cell_type": "code",
   "execution_count": 850,
   "metadata": {},
   "outputs": [
    {
     "data": {
      "text/plain": [
       "0"
      ]
     },
     "execution_count": 850,
     "metadata": {},
     "output_type": "execute_result"
    }
   ],
   "source": [
    "data['name'] = data['name'].str.lower() # приволим к нижнему регистру данные в столбце \"name\"\n",
    "data = data.dropna(subset=['name']).reset_index(drop=True) # удаляем строки из data в которых пропуски в столбце \"name\"\n",
    "data['name'].isna().sum() # проверяем кол-во пропусков в столбце \"name\""
   ]
  },
  {
   "cell_type": "code",
   "execution_count": 851,
   "metadata": {
    "scrolled": true
   },
   "outputs": [
    {
     "data": {
      "text/plain": [
       "(-0.5, 1.0)"
      ]
     },
     "execution_count": 851,
     "metadata": {},
     "output_type": "execute_result"
    },
    {
     "data": {
      "image/png": "[encoded data removed]",
      "text/plain": [
       "<Figure size 432x288 with 1 Axes>"
      ]
     },
     "metadata": {
      "needs_background": "light"
     },
     "output_type": "display_data"
    }
   ],
   "source": [
    "data.boxplot(column=['na_sales'])\n",
    "plt.ylim(-0.5, 1)"
   ]
  },
  {
   "cell_type": "code",
   "execution_count": 852,
   "metadata": {
    "scrolled": true
   },
   "outputs": [
    {
     "data": {
      "text/plain": [
       "count    16713.000000\n",
       "mean         0.263302\n",
       "std          0.813565\n",
       "min          0.000000\n",
       "25%          0.000000\n",
       "50%          0.080000\n",
       "75%          0.240000\n",
       "max         41.360000\n",
       "Name: na_sales, dtype: float64"
      ]
     },
     "execution_count": 852,
     "metadata": {},
     "output_type": "execute_result"
    }
   ],
   "source": [
    "data['na_sales'].describe()"
   ]
  },
  {
   "cell_type": "code",
   "execution_count": 853,
   "metadata": {},
   "outputs": [
    {
     "data": {
      "text/plain": [
       "10.087955483755161"
      ]
     },
     "execution_count": 853,
     "metadata": {},
     "output_type": "execute_result"
    }
   ],
   "source": [
    " data.loc[(data['na_sales'] > 0.6), 'na_sales'].count() / data['na_sales'].shape[0] * 100 \n",
    "    # процент выбросов по столбцу  \"na_sales\""
   ]
  },
  {
   "cell_type": "code",
   "execution_count": 854,
   "metadata": {},
   "outputs": [
    {
     "data": {
      "text/plain": [
       "0    41.36\n",
       "1    29.08\n",
       "9    26.93\n",
       "5    23.20\n",
       "2    15.68\n",
       "Name: na_sales, dtype: float64"
      ]
     },
     "execution_count": 854,
     "metadata": {},
     "output_type": "execute_result"
    }
   ],
   "source": [
    "#data['na_sales'] = np.where(data['na_sales'] <= 0.6, data['na_sales'], float('nan'))\n",
    "#data = data.dropna(subset=['na_sales'])\n",
    "# удаляем выбросы в data по столбцу 'na_sales' т.к. их всего 10 % от всех данных\n",
    "data['na_sales'].sort_values(ascending=False).head()"
   ]
  },
  {
   "cell_type": "code",
   "execution_count": 855,
   "metadata": {
    "scrolled": false
   },
   "outputs": [
    {
     "data": {
      "text/plain": [
       "<AxesSubplot:>"
      ]
     },
     "execution_count": 855,
     "metadata": {},
     "output_type": "execute_result"
    },
    {
     "data": {
      "image/png": "[encoded data removed]",
      "text/plain": [
       "<Figure size 432x288 with 1 Axes>"
      ]
     },
     "metadata": {
      "needs_background": "light"
     },
     "output_type": "display_data"
    }
   ],
   "source": [
    "data['na_sales'].hist(bins=100, range=(0, 1))"
   ]
  },
  {
   "cell_type": "code",
   "execution_count": 856,
   "metadata": {},
   "outputs": [
    {
     "data": {
      "text/plain": [
       "(-0.1, 0.4)"
      ]
     },
     "execution_count": 856,
     "metadata": {},
     "output_type": "execute_result"
    },
    {
     "data": {
      "image/png": "[encoded data removed]",
      "text/plain": [
       "<Figure size 432x288 with 1 Axes>"
      ]
     },
     "metadata": {
      "needs_background": "light"
     },
     "output_type": "display_data"
    }
   ],
   "source": [
    "data.boxplot(column=['eu_sales'])\n",
    "plt.ylim(-0.1, 0.4)"
   ]
  },
  {
   "cell_type": "code",
   "execution_count": 857,
   "metadata": {},
   "outputs": [
    {
     "data": {
      "text/plain": [
       "count    16713.000000\n",
       "mean         0.145045\n",
       "std          0.503359\n",
       "min          0.000000\n",
       "25%          0.000000\n",
       "50%          0.020000\n",
       "75%          0.110000\n",
       "max         28.960000\n",
       "Name: eu_sales, dtype: float64"
      ]
     },
     "execution_count": 857,
     "metadata": {},
     "output_type": "execute_result"
    }
   ],
   "source": [
    "data['eu_sales'].describe()"
   ]
  },
  {
   "cell_type": "code",
   "execution_count": 858,
   "metadata": {},
   "outputs": [
    {
     "data": {
      "text/plain": [
       "17.202177945312034"
      ]
     },
     "execution_count": 858,
     "metadata": {},
     "output_type": "execute_result"
    }
   ],
   "source": [
    " data.loc[(data['eu_sales'] > 0.18), 'eu_sales'].count() / data['eu_sales'].shape[0] * 100 \n",
    "    # процент выбросов по столбцу  \"eu_sales\""
   ]
  },
  {
   "cell_type": "code",
   "execution_count": 859,
   "metadata": {},
   "outputs": [
    {
     "data": {
      "text/plain": [
       "0     28.96\n",
       "2     12.76\n",
       "10    10.95\n",
       "3     10.93\n",
       "19     9.20\n",
       "Name: eu_sales, dtype: float64"
      ]
     },
     "execution_count": 859,
     "metadata": {},
     "output_type": "execute_result"
    }
   ],
   "source": [
    "#data['eu_sales'] = np.where(data['eu_sales'] <= 0.18, data['eu_sales'], float('nan'))\n",
    "#data = data.dropna(subset=['eu_sales'])\n",
    "# удаляем выбросы в data по столбцу 'na_sales' т.к. их примерно 10 % от всех данных\n",
    "data['eu_sales'].sort_values(ascending=False).head()"
   ]
  },
  {
   "cell_type": "code",
   "execution_count": 860,
   "metadata": {
    "scrolled": false
   },
   "outputs": [
    {
     "data": {
      "text/plain": [
       "<AxesSubplot:>"
      ]
     },
     "execution_count": 860,
     "metadata": {},
     "output_type": "execute_result"
    },
    {
     "data": {
      "image/png": "[encoded data removed]",
      "text/plain": [
       "<Figure size 432x288 with 1 Axes>"
      ]
     },
     "metadata": {
      "needs_background": "light"
     },
     "output_type": "display_data"
    }
   ],
   "source": [
    "data['eu_sales'].hist(bins=100, range=(0, 1))"
   ]
  },
  {
   "cell_type": "code",
   "execution_count": 861,
   "metadata": {
    "scrolled": true
   },
   "outputs": [
    {
     "data": {
      "text/plain": [
       "(-0.1, 0.2)"
      ]
     },
     "execution_count": 861,
     "metadata": {},
     "output_type": "execute_result"
    },
    {
     "data": {
      "image/png": "[encoded data removed]",
      "text/plain": [
       "<Figure size 432x288 with 1 Axes>"
      ]
     },
     "metadata": {
      "needs_background": "light"
     },
     "output_type": "display_data"
    }
   ],
   "source": [
    "data.boxplot(column=['jp_sales'])\n",
    "plt.ylim(-0.1, 0.2)"
   ]
  },
  {
   "cell_type": "code",
   "execution_count": 862,
   "metadata": {},
   "outputs": [
    {
     "data": {
      "text/plain": [
       "count    16713.000000\n",
       "mean         0.077625\n",
       "std          0.308871\n",
       "min          0.000000\n",
       "25%          0.000000\n",
       "50%          0.000000\n",
       "75%          0.040000\n",
       "max         10.220000\n",
       "Name: jp_sales, dtype: float64"
      ]
     },
     "execution_count": 862,
     "metadata": {},
     "output_type": "execute_result"
    }
   ],
   "source": [
    "data['jp_sales'].describe()"
   ]
  },
  {
   "cell_type": "code",
   "execution_count": 863,
   "metadata": {},
   "outputs": [
    {
     "data": {
      "text/plain": [
       "12.068449709806737"
      ]
     },
     "execution_count": 863,
     "metadata": {},
     "output_type": "execute_result"
    }
   ],
   "source": [
    " data.loc[(data['jp_sales'] > 0.13), 'jp_sales'].count() / data['jp_sales'].shape[0] * 100 \n",
    "    # процент выбросов по столбцу  \"jp_sales\". Выбираем 0.13млн т.к. при этом условии процент удаление выбросов будет в районе 10%\n",
    "    "
   ]
  },
  {
   "cell_type": "code",
   "execution_count": 864,
   "metadata": {},
   "outputs": [
    {
     "data": {
      "text/plain": [
       "4     10.22\n",
       "12     7.20\n",
       "1      6.81\n",
       "6      6.50\n",
       "20     6.04\n",
       "Name: jp_sales, dtype: float64"
      ]
     },
     "execution_count": 864,
     "metadata": {},
     "output_type": "execute_result"
    }
   ],
   "source": [
    "#data['jp_sales'] = np.where(data['jp_sales'] <= 0.13, data['jp_sales'], float('nan'))\n",
    "#data = data.dropna(subset=['jp_sales'])\n",
    "# удаляем выбросы в data по столбцу 'jp_sales' т.к. их примерно 10 % от всех данных\n",
    "data['jp_sales'].sort_values(ascending=False).head()"
   ]
  },
  {
   "cell_type": "code",
   "execution_count": 865,
   "metadata": {
    "scrolled": false
   },
   "outputs": [
    {
     "data": {
      "text/plain": [
       "<AxesSubplot:>"
      ]
     },
     "execution_count": 865,
     "metadata": {},
     "output_type": "execute_result"
    },
    {
     "data": {
      "image/png": "[encoded data removed]",
      "text/plain": [
       "<Figure size 432x288 with 1 Axes>"
      ]
     },
     "metadata": {
      "needs_background": "light"
     },
     "output_type": "display_data"
    }
   ],
   "source": [
    "data['jp_sales'].hist(bins=10, range=(0, 0.3))"
   ]
  },
  {
   "cell_type": "code",
   "execution_count": 866,
   "metadata": {
    "scrolled": true
   },
   "outputs": [
    {
     "data": {
      "text/plain": [
       "(-0.1, 0.2)"
      ]
     },
     "execution_count": 866,
     "metadata": {},
     "output_type": "execute_result"
    },
    {
     "data": {
      "image/png": "[encoded data removed]",
      "text/plain": [
       "<Figure size 432x288 with 1 Axes>"
      ]
     },
     "metadata": {
      "needs_background": "light"
     },
     "output_type": "display_data"
    }
   ],
   "source": [
    "data.boxplot(column=['other_sales'])\n",
    "plt.ylim(-0.1, 0.2)"
   ]
  },
  {
   "cell_type": "code",
   "execution_count": 867,
   "metadata": {
    "scrolled": true
   },
   "outputs": [
    {
     "data": {
      "text/plain": [
       "count    16713.000000\n",
       "mean         0.047343\n",
       "std          0.186742\n",
       "min          0.000000\n",
       "25%          0.000000\n",
       "50%          0.010000\n",
       "75%          0.030000\n",
       "max         10.570000\n",
       "Name: other_sales, dtype: float64"
      ]
     },
     "execution_count": 867,
     "metadata": {},
     "output_type": "execute_result"
    }
   ],
   "source": [
    "data['other_sales'].describe()"
   ]
  },
  {
   "cell_type": "code",
   "execution_count": 868,
   "metadata": {},
   "outputs": [
    {
     "data": {
      "text/plain": [
       "17.79453120325495"
      ]
     },
     "execution_count": 868,
     "metadata": {},
     "output_type": "execute_result"
    }
   ],
   "source": [
    "data.loc[(data['other_sales'] > 0.05), 'other_sales'].count() / data['other_sales'].shape[0] * 100 \n",
    "# процент выбросов по столбцу  \"other_sales\""
   ]
  },
  {
   "cell_type": "code",
   "execution_count": 869,
   "metadata": {},
   "outputs": [
    {
     "data": {
      "text/plain": [
       "17    10.57\n",
       "0      8.45\n",
       "48     7.53\n",
       "16     3.96\n",
       "2      3.29\n",
       "Name: other_sales, dtype: float64"
      ]
     },
     "execution_count": 869,
     "metadata": {},
     "output_type": "execute_result"
    }
   ],
   "source": [
    "#data['other_sales'] = np.where(data['other_sales'] <= 0.05, data['other_sales'], float('nan'))\n",
    "#data = data.dropna(subset=['other_sales'])\n",
    "# удаляем выбросы в data по столбцу 'other_sales' т.к. их меньше 10 % от всех данных\n",
    "data['other_sales'].sort_values(ascending=False).head()"
   ]
  },
  {
   "cell_type": "code",
   "execution_count": 870,
   "metadata": {
    "scrolled": true
   },
   "outputs": [
    {
     "data": {
      "text/plain": [
       "<AxesSubplot:>"
      ]
     },
     "execution_count": 870,
     "metadata": {},
     "output_type": "execute_result"
    },
    {
     "data": {
      "image/png": "[encoded data removed]",
      "text/plain": [
       "<Figure size 432x288 with 1 Axes>"
      ]
     },
     "metadata": {
      "needs_background": "light"
     },
     "output_type": "display_data"
    }
   ],
   "source": [
    "data['jp_sales'].hist(range=(0, 0.06))"
   ]
  },
  {
   "cell_type": "code",
   "execution_count": 871,
   "metadata": {},
   "outputs": [
    {
     "data": {
      "text/plain": [
       "51.313348890085564"
      ]
     },
     "execution_count": 871,
     "metadata": {},
     "output_type": "execute_result"
    }
   ],
   "source": [
    "data['critic_score'].isna().sum() / data['critic_score'].shape[0] * 100\n",
    "# кол-во % пропусков в 'critic_score'"
   ]
  },
  {
   "cell_type": "code",
   "execution_count": 872,
   "metadata": {},
   "outputs": [
    {
     "data": {
      "text/plain": [
       "count    8137.000000\n",
       "mean       68.967679\n",
       "std        13.938165\n",
       "min        13.000000\n",
       "25%        60.000000\n",
       "50%        71.000000\n",
       "75%        79.000000\n",
       "max        98.000000\n",
       "Name: critic_score, dtype: float64"
      ]
     },
     "execution_count": 872,
     "metadata": {},
     "output_type": "execute_result"
    }
   ],
   "source": [
    "data['critic_score'].describe()"
   ]
  },
  {
   "cell_type": "code",
   "execution_count": 873,
   "metadata": {
    "scrolled": true
   },
   "outputs": [
    {
     "name": "stdout",
     "output_type": "stream",
     "text": [
      "<class 'pandas.core.frame.DataFrame'>\n",
      "RangeIndex: 16713 entries, 0 to 16712\n",
      "Data columns (total 11 columns):\n",
      " #   Column           Non-Null Count  Dtype         \n",
      "---  ------           --------------  -----         \n",
      " 0   name             16713 non-null  object        \n",
      " 1   platform         16713 non-null  object        \n",
      " 2   year_of_release  16444 non-null  datetime64[ns]\n",
      " 3   genre            16713 non-null  object        \n",
      " 4   na_sales         16713 non-null  float64       \n",
      " 5   eu_sales         16713 non-null  float64       \n",
      " 6   jp_sales         16713 non-null  float64       \n",
      " 7   other_sales      16713 non-null  float64       \n",
      " 8   critic_score     16713 non-null  int64         \n",
      " 9   user_score       10014 non-null  object        \n",
      " 10  rating           9949 non-null   object        \n",
      "dtypes: datetime64[ns](1), float64(4), int64(1), object(5)\n",
      "memory usage: 1.4+ MB\n"
     ]
    }
   ],
   "source": [
    "\n",
    "        \n",
    "data.loc[data['genre']=='Sports', 'critic_score'] = (data.loc[data['genre']=='Sports', 'critic_score'].\n",
    "                                                 fillna(data.loc[data['genre']=='Sports', 'critic_score'].median()))\n",
    "data.loc[data['genre']=='Platform', 'critic_score'] = (data.loc[data['genre']=='Platform', 'critic_score'].\n",
    "                                                 fillna(data.loc[data['genre']=='Platform', 'critic_score'].median()))\n",
    "data.loc[data['genre']=='Racing', 'critic_score'] = (data.loc[data['genre']=='Racing', 'critic_score'].\n",
    "                                                 fillna(data.loc[data['genre']=='Racing', 'critic_score'].median()))\n",
    "data.loc[data['genre']=='Role-Playing', 'critic_score'] = (data.loc[data['genre']=='Role-Playing', 'critic_score'].\n",
    "                                                 fillna(data.loc[data['genre']=='Role-Playing', 'critic_score'].median()))\n",
    "data.loc[data['genre']=='Puzzle', 'critic_score'] = (data.loc[data['genre']=='Puzzle', 'critic_score'].\n",
    "                                                 fillna(data.loc[data['genre']=='Puzzle', 'critic_score'].median()))\n",
    "data.loc[data['genre']=='Misc', 'critic_score'] = (data.loc[data['genre']=='Misc', 'critic_score'].\n",
    "                                                 fillna(data.loc[data['genre']=='Misc', 'critic_score'].median()))\n",
    "data.loc[data['genre']=='Shooter', 'critic_score'] = (data.loc[data['genre']=='Shooter', 'critic_score'].\n",
    "                                                 fillna(data.loc[data['genre']=='Shooter', 'critic_score'].median()))\n",
    "data.loc[data['genre']=='Simulation', 'critic_score'] = (data.loc[data['genre']=='Simulation', 'critic_score'].\n",
    "                                                 fillna(data.loc[data['genre']=='Simulation', 'critic_score'].median()))\n",
    "data.loc[data['genre']=='Action', 'critic_score'] = (data.loc[data['genre']=='Action', 'critic_score'].\n",
    "                                                 fillna(data.loc[data['genre']=='Action', 'critic_score'].median()))\n",
    "data.loc[data['genre']=='Fighting', 'critic_score'] = (data.loc[data['genre']=='Fighting', 'critic_score'].\n",
    "                                                 fillna(data.loc[data['genre']=='Fighting', 'critic_score'].median()))\n",
    "data.loc[data['genre']=='Adventure', 'critic_score'] = (data.loc[data['genre']=='Adventure', 'critic_score'].\n",
    "                                                 fillna(data.loc[data['genre']=='Adventure', 'critic_score'].median()))\n",
    "data.loc[data['genre']=='Strategy', 'critic_score'] = (data.loc[data['genre']=='Strategy', 'critic_score'].\n",
    "                                                 fillna(data.loc[data['genre']=='Strategy', 'critic_score'].median()))\n",
    "\n",
    "data['critic_score'] = data['critic_score'].astype('int')\n",
    "# преобразуем тип данных  'critic_score'  в int\n",
    "data.info()"
   ]
  },
  {
   "cell_type": "code",
   "execution_count": 874,
   "metadata": {},
   "outputs": [
    {
     "data": {
      "text/plain": [
       "40.0825704541375"
      ]
     },
     "execution_count": 874,
     "metadata": {},
     "output_type": "execute_result"
    }
   ],
   "source": [
    "data['user_score'].isna().sum() / data['user_score'].shape[0] * 100\n",
    "# кол-во % пропусков в 'critic_score'"
   ]
  },
  {
   "cell_type": "code",
   "execution_count": 875,
   "metadata": {},
   "outputs": [
    {
     "name": "stdout",
     "output_type": "stream",
     "text": [
      "<class 'pandas.core.frame.DataFrame'>\n",
      "RangeIndex: 16713 entries, 0 to 16712\n",
      "Data columns (total 11 columns):\n",
      " #   Column           Non-Null Count  Dtype         \n",
      "---  ------           --------------  -----         \n",
      " 0   name             16713 non-null  object        \n",
      " 1   platform         16713 non-null  object        \n",
      " 2   year_of_release  16444 non-null  datetime64[ns]\n",
      " 3   genre            16713 non-null  object        \n",
      " 4   na_sales         16713 non-null  float64       \n",
      " 5   eu_sales         16713 non-null  float64       \n",
      " 6   jp_sales         16713 non-null  float64       \n",
      " 7   other_sales      16713 non-null  float64       \n",
      " 8   critic_score     16713 non-null  int64         \n",
      " 9   user_score       16713 non-null  float64       \n",
      " 10  rating           9949 non-null   object        \n",
      "dtypes: datetime64[ns](1), float64(5), int64(1), object(4)\n",
      "memory usage: 1.4+ MB\n"
     ]
    }
   ],
   "source": [
    "data['user_score'] = np.where(data['user_score'] != 'tbd', data['user_score'], float('nan'))\n",
    "# заменяем в столбце 'user_score' строки с 'tbd' на nan\n",
    "\n",
    "\n",
    "\n",
    "data.loc[data['genre']=='Sports', 'user_score'] = (data.loc[data['genre']=='Sports', 'user_score'].\n",
    "                                                 fillna(data.loc[data['genre']=='Sports', 'user_score'].median()))\n",
    "data.loc[data['genre']=='Platform', 'user_score'] = (data.loc[data['genre']=='Platform', 'user_score'].\n",
    "                                                 fillna(data.loc[data['genre']=='Platform', 'user_score'].median()))\n",
    "data.loc[data['genre']=='Racing', 'user_score'] = (data.loc[data['genre']=='Racing', 'user_score'].\n",
    "                                                 fillna(data.loc[data['genre']=='Racing', 'user_score'].median()))\n",
    "data.loc[data['genre']=='Role-Playing', 'user_score'] = (data.loc[data['genre']=='Role-Playing', 'user_score'].\n",
    "                                                 fillna(data.loc[data['genre']=='Role-Playing', 'user_score'].median()))\n",
    "data.loc[data['genre']=='Puzzle', 'user_score'] = (data.loc[data['genre']=='Puzzle', 'user_score'].\n",
    "                                                 fillna(data.loc[data['genre']=='Puzzle', 'user_score'].median()))\n",
    "data.loc[data['genre']=='Misc', 'user_score'] = (data.loc[data['genre']=='Misc', 'user_score'].\n",
    "                                                 fillna(data.loc[data['genre']=='Misc', 'user_score'].median()))\n",
    "data.loc[data['genre']=='Shooter', 'user_score'] = (data.loc[data['genre']=='Shooter', 'user_score'].\n",
    "                                                 fillna(data.loc[data['genre']=='Shooter', 'user_score'].median()))\n",
    "data.loc[data['genre']=='Simulation', 'user_score'] = (data.loc[data['genre']=='Simulation', 'user_score'].\n",
    "                                                 fillna(data.loc[data['genre']=='Simulation', 'user_score'].median()))\n",
    "data.loc[data['genre']=='Action', 'user_score'] = (data.loc[data['genre']=='Action', 'user_score'].\n",
    "                                                 fillna(data.loc[data['genre']=='Action', 'user_score'].median()))\n",
    "data.loc[data['genre']=='Fighting', 'user_score'] = (data.loc[data['genre']=='Fighting', 'user_score'].\n",
    "                                                 fillna(data.loc[data['genre']=='Fighting', 'user_score'].median()))\n",
    "data.loc[data['genre']=='Adventure', 'user_score'] = (data.loc[data['genre']=='Adventure', 'user_score'].\n",
    "                                                 fillna(data.loc[data['genre']=='Adventure', 'user_score'].median()))\n",
    "data.loc[data['genre']=='Strategy', 'user_score'] = (data.loc[data['genre']=='Strategy', 'user_score'].\n",
    "                                                 fillna(data.loc[data['genre']=='Strategy', 'user_score'].median()))\n",
    "\n",
    "\n",
    "\n",
    "data['user_score'] = data['user_score'].astype('float')\n",
    "# преобразуем тип данных  'user_score'  в float\n",
    "data.info()"
   ]
  },
  {
   "cell_type": "code",
   "execution_count": 876,
   "metadata": {},
   "outputs": [
    {
     "data": {
      "text/plain": [
       "array(['E', nan, 'M', 'T', 'E10+', 'K-A', 'AO', 'EC', 'RP'], dtype=object)"
      ]
     },
     "execution_count": 876,
     "metadata": {},
     "output_type": "execute_result"
    }
   ],
   "source": [
    "data['rating'].unique()\n",
    "# уникальные значения столбца 'rating'"
   ]
  },
  {
   "cell_type": "code",
   "execution_count": 877,
   "metadata": {},
   "outputs": [
    {
     "data": {
      "text/plain": [
       "40.4714892598576"
      ]
     },
     "execution_count": 877,
     "metadata": {},
     "output_type": "execute_result"
    }
   ],
   "source": [
    "data['rating'].isna().sum() / data['rating'].shape[0] * 100\n",
    "# кол-во % пропусков в 'rating'"
   ]
  },
  {
   "cell_type": "code",
   "execution_count": 878,
   "metadata": {},
   "outputs": [
    {
     "data": {
      "text/html": [
       "<div>\n",
       "<style scoped>\n",
       "    .dataframe tbody tr th:only-of-type {\n",
       "        vertical-align: middle;\n",
       "    }\n",
       "\n",
       "    .dataframe tbody tr th {\n",
       "        vertical-align: top;\n",
       "    }\n",
       "\n",
       "    .dataframe thead th {\n",
       "        text-align: right;\n",
       "    }\n",
       "</style>\n",
       "<table border=\"1\" class=\"dataframe\">\n",
       "  <thead>\n",
       "    <tr style=\"text-align: right;\">\n",
       "      <th></th>\n",
       "      <th>name</th>\n",
       "      <th>platform</th>\n",
       "      <th>year_of_release</th>\n",
       "      <th>genre</th>\n",
       "      <th>na_sales</th>\n",
       "      <th>eu_sales</th>\n",
       "      <th>jp_sales</th>\n",
       "      <th>other_sales</th>\n",
       "      <th>critic_score</th>\n",
       "      <th>user_score</th>\n",
       "      <th>rating</th>\n",
       "      <th>total_sales</th>\n",
       "    </tr>\n",
       "  </thead>\n",
       "  <tbody>\n",
       "    <tr>\n",
       "      <th>0</th>\n",
       "      <td>wii sports</td>\n",
       "      <td>Wii</td>\n",
       "      <td>2006-01-01</td>\n",
       "      <td>Sports</td>\n",
       "      <td>41.36</td>\n",
       "      <td>28.96</td>\n",
       "      <td>3.77</td>\n",
       "      <td>8.45</td>\n",
       "      <td>76</td>\n",
       "      <td>8.0</td>\n",
       "      <td>E</td>\n",
       "      <td>82.54</td>\n",
       "    </tr>\n",
       "    <tr>\n",
       "      <th>1</th>\n",
       "      <td>super mario bros.</td>\n",
       "      <td>NES</td>\n",
       "      <td>1985-01-01</td>\n",
       "      <td>Platform</td>\n",
       "      <td>29.08</td>\n",
       "      <td>3.58</td>\n",
       "      <td>6.81</td>\n",
       "      <td>0.77</td>\n",
       "      <td>69</td>\n",
       "      <td>7.7</td>\n",
       "      <td>NaN</td>\n",
       "      <td>40.24</td>\n",
       "    </tr>\n",
       "    <tr>\n",
       "      <th>2</th>\n",
       "      <td>mario kart wii</td>\n",
       "      <td>Wii</td>\n",
       "      <td>2008-01-01</td>\n",
       "      <td>Racing</td>\n",
       "      <td>15.68</td>\n",
       "      <td>12.76</td>\n",
       "      <td>3.79</td>\n",
       "      <td>3.29</td>\n",
       "      <td>82</td>\n",
       "      <td>8.3</td>\n",
       "      <td>E</td>\n",
       "      <td>35.52</td>\n",
       "    </tr>\n",
       "    <tr>\n",
       "      <th>3</th>\n",
       "      <td>wii sports resort</td>\n",
       "      <td>Wii</td>\n",
       "      <td>2009-01-01</td>\n",
       "      <td>Sports</td>\n",
       "      <td>15.61</td>\n",
       "      <td>10.93</td>\n",
       "      <td>3.28</td>\n",
       "      <td>2.95</td>\n",
       "      <td>80</td>\n",
       "      <td>8.0</td>\n",
       "      <td>E</td>\n",
       "      <td>32.77</td>\n",
       "    </tr>\n",
       "    <tr>\n",
       "      <th>4</th>\n",
       "      <td>pokemon red/pokemon blue</td>\n",
       "      <td>GB</td>\n",
       "      <td>1996-01-01</td>\n",
       "      <td>Role-Playing</td>\n",
       "      <td>11.27</td>\n",
       "      <td>8.89</td>\n",
       "      <td>10.22</td>\n",
       "      <td>1.00</td>\n",
       "      <td>74</td>\n",
       "      <td>7.8</td>\n",
       "      <td>NaN</td>\n",
       "      <td>31.38</td>\n",
       "    </tr>\n",
       "    <tr>\n",
       "      <th>5</th>\n",
       "      <td>tetris</td>\n",
       "      <td>GB</td>\n",
       "      <td>1989-01-01</td>\n",
       "      <td>Puzzle</td>\n",
       "      <td>23.20</td>\n",
       "      <td>2.26</td>\n",
       "      <td>4.22</td>\n",
       "      <td>0.58</td>\n",
       "      <td>70</td>\n",
       "      <td>7.5</td>\n",
       "      <td>NaN</td>\n",
       "      <td>30.26</td>\n",
       "    </tr>\n",
       "    <tr>\n",
       "      <th>6</th>\n",
       "      <td>new super mario bros.</td>\n",
       "      <td>DS</td>\n",
       "      <td>2006-01-01</td>\n",
       "      <td>Platform</td>\n",
       "      <td>11.28</td>\n",
       "      <td>9.14</td>\n",
       "      <td>6.50</td>\n",
       "      <td>2.88</td>\n",
       "      <td>89</td>\n",
       "      <td>8.5</td>\n",
       "      <td>E</td>\n",
       "      <td>29.80</td>\n",
       "    </tr>\n",
       "    <tr>\n",
       "      <th>7</th>\n",
       "      <td>wii play</td>\n",
       "      <td>Wii</td>\n",
       "      <td>2006-01-01</td>\n",
       "      <td>Misc</td>\n",
       "      <td>13.96</td>\n",
       "      <td>9.18</td>\n",
       "      <td>2.93</td>\n",
       "      <td>2.84</td>\n",
       "      <td>58</td>\n",
       "      <td>6.6</td>\n",
       "      <td>E</td>\n",
       "      <td>28.91</td>\n",
       "    </tr>\n",
       "    <tr>\n",
       "      <th>8</th>\n",
       "      <td>new super mario bros. wii</td>\n",
       "      <td>Wii</td>\n",
       "      <td>2009-01-01</td>\n",
       "      <td>Platform</td>\n",
       "      <td>14.44</td>\n",
       "      <td>6.94</td>\n",
       "      <td>4.70</td>\n",
       "      <td>2.24</td>\n",
       "      <td>87</td>\n",
       "      <td>8.4</td>\n",
       "      <td>E</td>\n",
       "      <td>28.32</td>\n",
       "    </tr>\n",
       "    <tr>\n",
       "      <th>9</th>\n",
       "      <td>duck hunt</td>\n",
       "      <td>NES</td>\n",
       "      <td>1984-01-01</td>\n",
       "      <td>Shooter</td>\n",
       "      <td>26.93</td>\n",
       "      <td>0.63</td>\n",
       "      <td>0.28</td>\n",
       "      <td>0.47</td>\n",
       "      <td>73</td>\n",
       "      <td>7.4</td>\n",
       "      <td>NaN</td>\n",
       "      <td>28.31</td>\n",
       "    </tr>\n",
       "  </tbody>\n",
       "</table>\n",
       "</div>"
      ],
      "text/plain": [
       "                        name platform year_of_release         genre  na_sales  \\\n",
       "0                 wii sports      Wii      2006-01-01        Sports     41.36   \n",
       "1          super mario bros.      NES      1985-01-01      Platform     29.08   \n",
       "2             mario kart wii      Wii      2008-01-01        Racing     15.68   \n",
       "3          wii sports resort      Wii      2009-01-01        Sports     15.61   \n",
       "4   pokemon red/pokemon blue       GB      1996-01-01  Role-Playing     11.27   \n",
       "5                     tetris       GB      1989-01-01        Puzzle     23.20   \n",
       "6      new super mario bros.       DS      2006-01-01      Platform     11.28   \n",
       "7                   wii play      Wii      2006-01-01          Misc     13.96   \n",
       "8  new super mario bros. wii      Wii      2009-01-01      Platform     14.44   \n",
       "9                  duck hunt      NES      1984-01-01       Shooter     26.93   \n",
       "\n",
       "   eu_sales  jp_sales  other_sales  critic_score  user_score rating  \\\n",
       "0     28.96      3.77         8.45            76         8.0      E   \n",
       "1      3.58      6.81         0.77            69         7.7    NaN   \n",
       "2     12.76      3.79         3.29            82         8.3      E   \n",
       "3     10.93      3.28         2.95            80         8.0      E   \n",
       "4      8.89     10.22         1.00            74         7.8    NaN   \n",
       "5      2.26      4.22         0.58            70         7.5    NaN   \n",
       "6      9.14      6.50         2.88            89         8.5      E   \n",
       "7      9.18      2.93         2.84            58         6.6      E   \n",
       "8      6.94      4.70         2.24            87         8.4      E   \n",
       "9      0.63      0.28         0.47            73         7.4    NaN   \n",
       "\n",
       "   total_sales  \n",
       "0        82.54  \n",
       "1        40.24  \n",
       "2        35.52  \n",
       "3        32.77  \n",
       "4        31.38  \n",
       "5        30.26  \n",
       "6        29.80  \n",
       "7        28.91  \n",
       "8        28.32  \n",
       "9        28.31  "
      ]
     },
     "execution_count": 878,
     "metadata": {},
     "output_type": "execute_result"
    }
   ],
   "source": [
    "data['total_sales'] = data['na_sales'] + data['eu_sales'] + data['jp_sales'] + data['other_sales']\n",
    "data.sort_values('total_sales', ascending=False).head(10)\n",
    "# создаем в data столбец total_sales - сумма продаж по регионам и выводим первые 10 строк data в порядке убывания по столбцу total_sales "
   ]
  },
  {
   "cell_type": "code",
   "execution_count": 879,
   "metadata": {},
   "outputs": [
    {
     "data": {
      "text/plain": [
       "0    82.54\n",
       "1    40.24\n",
       "2    35.52\n",
       "3    32.77\n",
       "4    31.38\n",
       "Name: total_sales_2, dtype: float64"
      ]
     },
     "execution_count": 879,
     "metadata": {},
     "output_type": "execute_result"
    }
   ],
   "source": [
    "data['total_sales_2'] = data[['na_sales','eu_sales','jp_sales', 'other_sales']].sum(axis = 1)\n",
    "data['total_sales_2'].head()\n"
   ]
  },
  {
   "cell_type": "markdown",
   "metadata": {},
   "source": [
    "**Выводы:**\n",
    "\n",
    "1. Были заменены названия столбцов (приведите к нижнему регистру).\n",
    "2. Тип данных в year_of_release форматирован на datetime64\n",
    "3. Удалили две строки, где пропуски в name\n",
    "4. Удалили выбросы по столбцам na_sales, eu_sales, jp_sales, other_sales с условием, что кол-во выбросов не более 11%\n",
    "5. Заполнили медианным значением пропуски в critic_score и привели к типу данных int\n",
    "6. Заполнили медианным значением пропуски в user_score и привели к типу данных float\n",
    "7. Добавили к data столбец total_sales сумма продаж по всем регионам"
   ]
  },
  {
   "cell_type": "markdown",
   "metadata": {},
   "source": [
    "### Исследовательский анализ данных"
   ]
  },
  {
   "cell_type": "code",
   "execution_count": 880,
   "metadata": {},
   "outputs": [
    {
     "data": {
      "text/html": [
       "<div>\n",
       "<style scoped>\n",
       "    .dataframe tbody tr th:only-of-type {\n",
       "        vertical-align: middle;\n",
       "    }\n",
       "\n",
       "    .dataframe tbody tr th {\n",
       "        vertical-align: top;\n",
       "    }\n",
       "\n",
       "    .dataframe thead th {\n",
       "        text-align: right;\n",
       "    }\n",
       "</style>\n",
       "<table border=\"1\" class=\"dataframe\">\n",
       "  <thead>\n",
       "    <tr style=\"text-align: right;\">\n",
       "      <th></th>\n",
       "      <th>year_of_release</th>\n",
       "      <th>name</th>\n",
       "    </tr>\n",
       "  </thead>\n",
       "  <tbody>\n",
       "    <tr>\n",
       "      <th>28</th>\n",
       "      <td>2008-01-01</td>\n",
       "      <td>1427</td>\n",
       "    </tr>\n",
       "    <tr>\n",
       "      <th>29</th>\n",
       "      <td>2009-01-01</td>\n",
       "      <td>1426</td>\n",
       "    </tr>\n",
       "    <tr>\n",
       "      <th>30</th>\n",
       "      <td>2010-01-01</td>\n",
       "      <td>1255</td>\n",
       "    </tr>\n",
       "    <tr>\n",
       "      <th>27</th>\n",
       "      <td>2007-01-01</td>\n",
       "      <td>1197</td>\n",
       "    </tr>\n",
       "    <tr>\n",
       "      <th>31</th>\n",
       "      <td>2011-01-01</td>\n",
       "      <td>1136</td>\n",
       "    </tr>\n",
       "    <tr>\n",
       "      <th>26</th>\n",
       "      <td>2006-01-01</td>\n",
       "      <td>1006</td>\n",
       "    </tr>\n",
       "    <tr>\n",
       "      <th>25</th>\n",
       "      <td>2005-01-01</td>\n",
       "      <td>939</td>\n",
       "    </tr>\n",
       "    <tr>\n",
       "      <th>22</th>\n",
       "      <td>2002-01-01</td>\n",
       "      <td>829</td>\n",
       "    </tr>\n",
       "    <tr>\n",
       "      <th>23</th>\n",
       "      <td>2003-01-01</td>\n",
       "      <td>775</td>\n",
       "    </tr>\n",
       "    <tr>\n",
       "      <th>24</th>\n",
       "      <td>2004-01-01</td>\n",
       "      <td>762</td>\n",
       "    </tr>\n",
       "  </tbody>\n",
       "</table>\n",
       "</div>"
      ],
      "text/plain": [
       "   year_of_release  name\n",
       "28      2008-01-01  1427\n",
       "29      2009-01-01  1426\n",
       "30      2010-01-01  1255\n",
       "27      2007-01-01  1197\n",
       "31      2011-01-01  1136\n",
       "26      2006-01-01  1006\n",
       "25      2005-01-01   939\n",
       "22      2002-01-01   829\n",
       "23      2003-01-01   775\n",
       "24      2004-01-01   762"
      ]
     },
     "execution_count": 880,
     "metadata": {},
     "output_type": "execute_result"
    }
   ],
   "source": [
    "number_games = pd.pivot_table(data, index='year_of_release', values='name', aggfunc='count').reset_index()\n",
    "number_games.sort_values('name', ascending=False).head(10)\n",
    "# Формируем сводную таблицу number_games с данными по кол-ву игр относительно года реализа. \n",
    "# Выводим сводную таблицу отсоритрованную в порядке убывания (первые 10 строк)."
   ]
  },
  {
   "cell_type": "code",
   "execution_count": 881,
   "metadata": {
    "scrolled": true
   },
   "outputs": [
    {
     "data": {
      "text/plain": [
       "<AxesSubplot:xlabel='year_of_release'>"
      ]
     },
     "execution_count": 881,
     "metadata": {},
     "output_type": "execute_result"
    },
    {
     "data": {
      "image/png": "[encoded data removed]",
      "text/plain": [
       "<Figure size 432x288 with 1 Axes>"
      ]
     },
     "metadata": {
      "needs_background": "light"
     },
     "output_type": "display_data"
    }
   ],
   "source": [
    "number_games.plot(x='year_of_release', y='name', style='o-', grid=True)\n",
    "# визуализируем кол-во игр по годам\n"
   ]
  },
  {
   "cell_type": "code",
   "execution_count": 882,
   "metadata": {},
   "outputs": [
    {
     "data": {
      "text/html": [
       "<div>\n",
       "<style scoped>\n",
       "    .dataframe tbody tr th:only-of-type {\n",
       "        vertical-align: middle;\n",
       "    }\n",
       "\n",
       "    .dataframe tbody tr th {\n",
       "        vertical-align: top;\n",
       "    }\n",
       "\n",
       "    .dataframe thead th {\n",
       "        text-align: right;\n",
       "    }\n",
       "</style>\n",
       "<table border=\"1\" class=\"dataframe\">\n",
       "  <thead>\n",
       "    <tr style=\"text-align: right;\">\n",
       "      <th></th>\n",
       "      <th>total_sales</th>\n",
       "    </tr>\n",
       "    <tr>\n",
       "      <th>platform</th>\n",
       "      <th></th>\n",
       "    </tr>\n",
       "  </thead>\n",
       "  <tbody>\n",
       "    <tr>\n",
       "      <th>PS2</th>\n",
       "      <td>1255.77</td>\n",
       "    </tr>\n",
       "    <tr>\n",
       "      <th>X360</th>\n",
       "      <td>971.42</td>\n",
       "    </tr>\n",
       "    <tr>\n",
       "      <th>PS3</th>\n",
       "      <td>939.65</td>\n",
       "    </tr>\n",
       "    <tr>\n",
       "      <th>Wii</th>\n",
       "      <td>907.51</td>\n",
       "    </tr>\n",
       "    <tr>\n",
       "      <th>DS</th>\n",
       "      <td>806.12</td>\n",
       "    </tr>\n",
       "    <tr>\n",
       "      <th>PS</th>\n",
       "      <td>730.86</td>\n",
       "    </tr>\n",
       "    <tr>\n",
       "      <th>GBA</th>\n",
       "      <td>317.85</td>\n",
       "    </tr>\n",
       "    <tr>\n",
       "      <th>PS4</th>\n",
       "      <td>314.14</td>\n",
       "    </tr>\n",
       "    <tr>\n",
       "      <th>PSP</th>\n",
       "      <td>294.05</td>\n",
       "    </tr>\n",
       "    <tr>\n",
       "      <th>PC</th>\n",
       "      <td>259.52</td>\n",
       "    </tr>\n",
       "  </tbody>\n",
       "</table>\n",
       "</div>"
      ],
      "text/plain": [
       "          total_sales\n",
       "platform             \n",
       "PS2           1255.77\n",
       "X360           971.42\n",
       "PS3            939.65\n",
       "Wii            907.51\n",
       "DS             806.12\n",
       "PS             730.86\n",
       "GBA            317.85\n",
       "PS4            314.14\n",
       "PSP            294.05\n",
       "PC             259.52"
      ]
     },
     "execution_count": 882,
     "metadata": {},
     "output_type": "execute_result"
    }
   ],
   "source": [
    "sales_platform = pd.pivot_table(data, index='platform',  values='total_sales',\n",
    "                                aggfunc=np.sum)\n",
    "# Формируем сводную таблицу sales_platform с данными по сумме продаж относительно игровых платформ.\n",
    "\n",
    "sales_platform.sort_values('total_sales', ascending=False).head(10)\n",
    "# Выводим сводную таблицу sales_platform отсоритрованную в порядке убывания. Топ 10"
   ]
  },
  {
   "cell_type": "code",
   "execution_count": 883,
   "metadata": {
    "scrolled": true
   },
   "outputs": [
    {
     "data": {
      "text/html": [
       "<div>\n",
       "<style scoped>\n",
       "    .dataframe tbody tr th:only-of-type {\n",
       "        vertical-align: middle;\n",
       "    }\n",
       "\n",
       "    .dataframe tbody tr th {\n",
       "        vertical-align: top;\n",
       "    }\n",
       "\n",
       "    .dataframe thead th {\n",
       "        text-align: right;\n",
       "    }\n",
       "</style>\n",
       "<table border=\"1\" class=\"dataframe\">\n",
       "  <thead>\n",
       "    <tr style=\"text-align: right;\">\n",
       "      <th></th>\n",
       "      <th>platform</th>\n",
       "      <th>year_of_release</th>\n",
       "      <th>total_sales</th>\n",
       "    </tr>\n",
       "  </thead>\n",
       "  <tbody>\n",
       "    <tr>\n",
       "      <th>0</th>\n",
       "      <td>2600</td>\n",
       "      <td>1980</td>\n",
       "      <td>11.38</td>\n",
       "    </tr>\n",
       "    <tr>\n",
       "      <th>1</th>\n",
       "      <td>2600</td>\n",
       "      <td>1981</td>\n",
       "      <td>35.68</td>\n",
       "    </tr>\n",
       "    <tr>\n",
       "      <th>2</th>\n",
       "      <td>2600</td>\n",
       "      <td>1982</td>\n",
       "      <td>28.88</td>\n",
       "    </tr>\n",
       "    <tr>\n",
       "      <th>3</th>\n",
       "      <td>2600</td>\n",
       "      <td>1983</td>\n",
       "      <td>5.84</td>\n",
       "    </tr>\n",
       "    <tr>\n",
       "      <th>4</th>\n",
       "      <td>2600</td>\n",
       "      <td>1984</td>\n",
       "      <td>0.27</td>\n",
       "    </tr>\n",
       "    <tr>\n",
       "      <th>...</th>\n",
       "      <td>...</td>\n",
       "      <td>...</td>\n",
       "      <td>...</td>\n",
       "    </tr>\n",
       "    <tr>\n",
       "      <th>233</th>\n",
       "      <td>XB</td>\n",
       "      <td>2008</td>\n",
       "      <td>0.18</td>\n",
       "    </tr>\n",
       "    <tr>\n",
       "      <th>234</th>\n",
       "      <td>XOne</td>\n",
       "      <td>2013</td>\n",
       "      <td>18.96</td>\n",
       "    </tr>\n",
       "    <tr>\n",
       "      <th>235</th>\n",
       "      <td>XOne</td>\n",
       "      <td>2014</td>\n",
       "      <td>54.07</td>\n",
       "    </tr>\n",
       "    <tr>\n",
       "      <th>236</th>\n",
       "      <td>XOne</td>\n",
       "      <td>2015</td>\n",
       "      <td>60.14</td>\n",
       "    </tr>\n",
       "    <tr>\n",
       "      <th>237</th>\n",
       "      <td>XOne</td>\n",
       "      <td>2016</td>\n",
       "      <td>26.15</td>\n",
       "    </tr>\n",
       "  </tbody>\n",
       "</table>\n",
       "<p>238 rows × 3 columns</p>\n",
       "</div>"
      ],
      "text/plain": [
       "    platform  year_of_release  total_sales\n",
       "0       2600             1980        11.38\n",
       "1       2600             1981        35.68\n",
       "2       2600             1982        28.88\n",
       "3       2600             1983         5.84\n",
       "4       2600             1984         0.27\n",
       "..       ...              ...          ...\n",
       "233       XB             2008         0.18\n",
       "234     XOne             2013        18.96\n",
       "235     XOne             2014        54.07\n",
       "236     XOne             2015        60.14\n",
       "237     XOne             2016        26.15\n",
       "\n",
       "[238 rows x 3 columns]"
      ]
     },
     "execution_count": 883,
     "metadata": {},
     "output_type": "execute_result"
    }
   ],
   "source": [
    "year_platform = pd.pivot_table(data, index=['platform', 'year_of_release'], values='total_sales',\n",
    "                                aggfunc=np.sum).reset_index()\n",
    "year_platform['year_of_release'] = year_platform['year_of_release'].dt.year\n",
    "year_platform\n",
    "# формируем сводную таблицу кол-во лет существование платформы"
   ]
  },
  {
   "cell_type": "code",
   "execution_count": 884,
   "metadata": {},
   "outputs": [
    {
     "data": {
      "text/html": [
       "<div>\n",
       "<style scoped>\n",
       "    .dataframe tbody tr th:only-of-type {\n",
       "        vertical-align: middle;\n",
       "    }\n",
       "\n",
       "    .dataframe tbody tr th {\n",
       "        vertical-align: top;\n",
       "    }\n",
       "\n",
       "    .dataframe thead th {\n",
       "        text-align: right;\n",
       "    }\n",
       "</style>\n",
       "<table border=\"1\" class=\"dataframe\">\n",
       "  <thead>\n",
       "    <tr style=\"text-align: right;\">\n",
       "      <th></th>\n",
       "      <th>year_of_release</th>\n",
       "    </tr>\n",
       "    <tr>\n",
       "      <th>platform</th>\n",
       "      <th></th>\n",
       "    </tr>\n",
       "  </thead>\n",
       "  <tbody>\n",
       "    <tr>\n",
       "      <th>PC</th>\n",
       "      <td>26</td>\n",
       "    </tr>\n",
       "    <tr>\n",
       "      <th>GB</th>\n",
       "      <td>13</td>\n",
       "    </tr>\n",
       "    <tr>\n",
       "      <th>NES</th>\n",
       "      <td>12</td>\n",
       "    </tr>\n",
       "    <tr>\n",
       "      <th>X360</th>\n",
       "      <td>12</td>\n",
       "    </tr>\n",
       "    <tr>\n",
       "      <th>PSP</th>\n",
       "      <td>12</td>\n",
       "    </tr>\n",
       "    <tr>\n",
       "      <th>PS2</th>\n",
       "      <td>12</td>\n",
       "    </tr>\n",
       "    <tr>\n",
       "      <th>Wii</th>\n",
       "      <td>11</td>\n",
       "    </tr>\n",
       "    <tr>\n",
       "      <th>DS</th>\n",
       "      <td>11</td>\n",
       "    </tr>\n",
       "    <tr>\n",
       "      <th>PS3</th>\n",
       "      <td>11</td>\n",
       "    </tr>\n",
       "    <tr>\n",
       "      <th>2600</th>\n",
       "      <td>10</td>\n",
       "    </tr>\n",
       "  </tbody>\n",
       "</table>\n",
       "</div>"
      ],
      "text/plain": [
       "          year_of_release\n",
       "platform                 \n",
       "PC                     26\n",
       "GB                     13\n",
       "NES                    12\n",
       "X360                   12\n",
       "PSP                    12\n",
       "PS2                    12\n",
       "Wii                    11\n",
       "DS                     11\n",
       "PS3                    11\n",
       "2600                   10"
      ]
     },
     "execution_count": 884,
     "metadata": {},
     "output_type": "execute_result"
    }
   ],
   "source": [
    "year_platform_pivot = pd.pivot_table(year_platform, index='platform', values='year_of_release',\n",
    "                                aggfunc='count')\n",
    "\n",
    "year_platform_pivot.sort_values('year_of_release', ascending=False).head(10)\n",
    "\n",
    "# формируем таблицу с кол-во существования(года когда под платформы выходили игры) в годах платформ"
   ]
  },
  {
   "cell_type": "code",
   "execution_count": 885,
   "metadata": {
    "scrolled": true
   },
   "outputs": [
    {
     "data": {
      "text/plain": [
       "count    31.000000\n",
       "mean      7.677419\n",
       "std       5.081910\n",
       "min       1.000000\n",
       "25%       4.000000\n",
       "50%       7.000000\n",
       "75%      11.000000\n",
       "max      26.000000\n",
       "Name: year_of_release, dtype: float64"
      ]
     },
     "execution_count": 885,
     "metadata": {},
     "output_type": "execute_result"
    }
   ],
   "source": [
    "year_platform_pivot['year_of_release'].describe()\n",
    "# смотрим основные данные по распределению данных в таблице year_platform_pivot"
   ]
  },
  {
   "cell_type": "code",
   "execution_count": 886,
   "metadata": {},
   "outputs": [
    {
     "data": {
      "text/html": [
       "<div>\n",
       "<style scoped>\n",
       "    .dataframe tbody tr th:only-of-type {\n",
       "        vertical-align: middle;\n",
       "    }\n",
       "\n",
       "    .dataframe tbody tr th {\n",
       "        vertical-align: top;\n",
       "    }\n",
       "\n",
       "    .dataframe thead th {\n",
       "        text-align: right;\n",
       "    }\n",
       "</style>\n",
       "<table border=\"1\" class=\"dataframe\">\n",
       "  <thead>\n",
       "    <tr style=\"text-align: right;\">\n",
       "      <th></th>\n",
       "      <th>platform</th>\n",
       "      <th>year_of_release</th>\n",
       "      <th>total_sales</th>\n",
       "    </tr>\n",
       "  </thead>\n",
       "  <tbody>\n",
       "    <tr>\n",
       "      <th>237</th>\n",
       "      <td>XOne</td>\n",
       "      <td>2016-01-01</td>\n",
       "      <td>26.15</td>\n",
       "    </tr>\n",
       "    <tr>\n",
       "      <th>224</th>\n",
       "      <td>X360</td>\n",
       "      <td>2016-01-01</td>\n",
       "      <td>1.52</td>\n",
       "    </tr>\n",
       "    <tr>\n",
       "      <th>212</th>\n",
       "      <td>WiiU</td>\n",
       "      <td>2016-01-01</td>\n",
       "      <td>4.60</td>\n",
       "    </tr>\n",
       "    <tr>\n",
       "      <th>207</th>\n",
       "      <td>Wii</td>\n",
       "      <td>2016-01-01</td>\n",
       "      <td>0.18</td>\n",
       "    </tr>\n",
       "    <tr>\n",
       "      <th>156</th>\n",
       "      <td>PS4</td>\n",
       "      <td>2016-01-01</td>\n",
       "      <td>69.25</td>\n",
       "    </tr>\n",
       "    <tr>\n",
       "      <th>17</th>\n",
       "      <td>3DS</td>\n",
       "      <td>2016-01-01</td>\n",
       "      <td>15.14</td>\n",
       "    </tr>\n",
       "    <tr>\n",
       "      <th>152</th>\n",
       "      <td>PS3</td>\n",
       "      <td>2016-01-01</td>\n",
       "      <td>3.60</td>\n",
       "    </tr>\n",
       "    <tr>\n",
       "      <th>174</th>\n",
       "      <td>PSV</td>\n",
       "      <td>2016-01-01</td>\n",
       "      <td>4.25</td>\n",
       "    </tr>\n",
       "    <tr>\n",
       "      <th>118</th>\n",
       "      <td>PC</td>\n",
       "      <td>2016-01-01</td>\n",
       "      <td>5.25</td>\n",
       "    </tr>\n",
       "    <tr>\n",
       "      <th>211</th>\n",
       "      <td>WiiU</td>\n",
       "      <td>2015-01-01</td>\n",
       "      <td>16.35</td>\n",
       "    </tr>\n",
       "  </tbody>\n",
       "</table>\n",
       "</div>"
      ],
      "text/plain": [
       "    platform year_of_release  total_sales\n",
       "237     XOne      2016-01-01        26.15\n",
       "224     X360      2016-01-01         1.52\n",
       "212     WiiU      2016-01-01         4.60\n",
       "207      Wii      2016-01-01         0.18\n",
       "156      PS4      2016-01-01        69.25\n",
       "17       3DS      2016-01-01        15.14\n",
       "152      PS3      2016-01-01         3.60\n",
       "174      PSV      2016-01-01         4.25\n",
       "118       PC      2016-01-01         5.25\n",
       "211     WiiU      2015-01-01        16.35"
      ]
     },
     "execution_count": 886,
     "metadata": {},
     "output_type": "execute_result"
    }
   ],
   "source": [
    "year_platform_name = pd.pivot_table(data, index=['platform', 'year_of_release'], values='total_sales',\n",
    "                                aggfunc=np.sum).reset_index()\n",
    "year_platform_name.sort_values('year_of_release', ascending=False).head(10) # смотрим под какие платформы выпускались игры в 2016 году"
   ]
  },
  {
   "cell_type": "code",
   "execution_count": 887,
   "metadata": {
    "scrolled": false
   },
   "outputs": [
    {
     "data": {
      "text/plain": [
       "<AxesSubplot:xlabel='year_of_release'>"
      ]
     },
     "execution_count": 887,
     "metadata": {},
     "output_type": "execute_result"
    },
    {
     "data": {
      "image/png": "[encoded data removed]",
      "text/plain": [
       "<Figure size 432x288 with 1 Axes>"
      ]
     },
     "metadata": {
      "needs_background": "light"
     },
     "output_type": "display_data"
    }
   ],
   "source": [
    "XOne_pivot = pd.pivot_table(data.loc[data['platform']=='XOne'], index='year_of_release', values='total_sales',\n",
    "                                aggfunc=np.sum).reset_index()\n",
    "\n",
    "XOne_pivot.plot(x='year_of_release', y='total_sales', style='o-', grid=True, xlim=('01.01.2012','01.01.2018'))\n",
    "# смотрим график суммарных продаж по годам платформы XOne"
   ]
  },
  {
   "cell_type": "code",
   "execution_count": 888,
   "metadata": {},
   "outputs": [
    {
     "data": {
      "text/plain": [
       "<AxesSubplot:xlabel='year_of_release'>"
      ]
     },
     "execution_count": 888,
     "metadata": {},
     "output_type": "execute_result"
    },
    {
     "data": {
      "image/png": "[encoded data removed]",
      "text/plain": [
       "<Figure size 432x288 with 1 Axes>"
      ]
     },
     "metadata": {
      "needs_background": "light"
     },
     "output_type": "display_data"
    }
   ],
   "source": [
    "XOne_pivot = pd.pivot_table(data.loc[data['platform']=='PSV'], index='year_of_release', values='total_sales',\n",
    "                                aggfunc=np.sum).reset_index()\n",
    "\n",
    "XOne_pivot.plot(x='year_of_release', y='total_sales', style='o-', grid=True, xlim=('01.01.2010','01.01.2018'))\n",
    "# смотрим график суммарных продаж по годам платформы PSV"
   ]
  },
  {
   "cell_type": "code",
   "execution_count": 889,
   "metadata": {
    "scrolled": true
   },
   "outputs": [
    {
     "data": {
      "text/plain": [
       "<AxesSubplot:xlabel='year_of_release'>"
      ]
     },
     "execution_count": 889,
     "metadata": {},
     "output_type": "execute_result"
    },
    {
     "data": {
      "image/png": "[encoded data removed]",
      "text/plain": [
       "<Figure size 432x288 with 1 Axes>"
      ]
     },
     "metadata": {
      "needs_background": "light"
     },
     "output_type": "display_data"
    }
   ],
   "source": [
    "XOne_pivot = pd.pivot_table(data.loc[data['platform']=='Wii'], index='year_of_release', values='total_sales',\n",
    "                                aggfunc=np.sum).reset_index()\n",
    "\n",
    "XOne_pivot.plot(x='year_of_release', y='total_sales', style='o-', grid=True, xlim=('01.01.2005','01.01.2018'))\n",
    "# смотрим график суммарных продаж по годам платформы Wii"
   ]
  },
  {
   "cell_type": "code",
   "execution_count": 890,
   "metadata": {
    "scrolled": true
   },
   "outputs": [
    {
     "data": {
      "text/plain": [
       "<AxesSubplot:xlabel='year_of_release'>"
      ]
     },
     "execution_count": 890,
     "metadata": {},
     "output_type": "execute_result"
    },
    {
     "data": {
      "image/png": "[encoded data removed]",
      "text/plain": [
       "<Figure size 432x288 with 1 Axes>"
      ]
     },
     "metadata": {
      "needs_background": "light"
     },
     "output_type": "display_data"
    }
   ],
   "source": [
    "XOne_pivot = pd.pivot_table(data.loc[data['platform']=='X360'], index='year_of_release', values='total_sales',\n",
    "                                aggfunc=np.sum).reset_index()\n",
    "\n",
    "XOne_pivot.plot(x='year_of_release', y='total_sales', style='o-', grid=True, xlim=('01.01.2004','01.01.2018'))\n",
    "# смотрим график суммарных продаж по годам платформы X360"
   ]
  },
  {
   "cell_type": "code",
   "execution_count": 891,
   "metadata": {
    "scrolled": true
   },
   "outputs": [
    {
     "data": {
      "text/plain": [
       "<AxesSubplot:xlabel='year_of_release'>"
      ]
     },
     "execution_count": 891,
     "metadata": {},
     "output_type": "execute_result"
    },
    {
     "data": {
      "image/png": "[encoded data removed]",
      "text/plain": [
       "<Figure size 432x288 with 1 Axes>"
      ]
     },
     "metadata": {
      "needs_background": "light"
     },
     "output_type": "display_data"
    }
   ],
   "source": [
    "XOne_pivot = pd.pivot_table(data.loc[data['platform']=='3DS'], index='year_of_release', values='total_sales',\n",
    "                                aggfunc=np.sum).reset_index()\n",
    "\n",
    "XOne_pivot.plot(x='year_of_release', y='total_sales', style='o-', grid=True, xlim=('01.01.2010','01.01.2018'))\n",
    "# смотрим график суммарных продаж по годам платформы 3DS"
   ]
  },
  {
   "cell_type": "code",
   "execution_count": 892,
   "metadata": {},
   "outputs": [
    {
     "data": {
      "text/plain": [
       "<AxesSubplot:xlabel='year_of_release'>"
      ]
     },
     "execution_count": 892,
     "metadata": {},
     "output_type": "execute_result"
    },
    {
     "data": {
      "image/png": "[encoded data removed]",
      "text/plain": [
       "<Figure size 432x288 with 1 Axes>"
      ]
     },
     "metadata": {
      "needs_background": "light"
     },
     "output_type": "display_data"
    }
   ],
   "source": [
    "XOne_pivot = pd.pivot_table(data.loc[data['platform']=='PC'], index='year_of_release', values='total_sales',\n",
    "                                aggfunc=np.sum).reset_index()\n",
    "\n",
    "XOne_pivot.plot(x='year_of_release', y='total_sales', style='o-', grid=True, xlim=('01.01.1984','01.01.2018'))\n",
    "# смотрим график суммарных продаж по годам платформы PC"
   ]
  },
  {
   "cell_type": "code",
   "execution_count": 893,
   "metadata": {},
   "outputs": [
    {
     "data": {
      "text/plain": [
       "<AxesSubplot:xlabel='year_of_release'>"
      ]
     },
     "execution_count": 893,
     "metadata": {},
     "output_type": "execute_result"
    },
    {
     "data": {
      "image/png": "[encoded data removed]",
      "text/plain": [
       "<Figure size 432x288 with 1 Axes>"
      ]
     },
     "metadata": {
      "needs_background": "light"
     },
     "output_type": "display_data"
    }
   ],
   "source": [
    "XOne_pivot = pd.pivot_table(data.loc[data['platform']=='WiiU'], index='year_of_release', values='total_sales',\n",
    "                                aggfunc=np.sum).reset_index()\n",
    "\n",
    "XOne_pivot.plot(x='year_of_release', y='total_sales', style='o-', grid=True, xlim=('01.01.2010','01.01.2018'))\n",
    "# смотрим график суммарных продаж по годам платформы WiiU"
   ]
  },
  {
   "cell_type": "code",
   "execution_count": 894,
   "metadata": {},
   "outputs": [
    {
     "data": {
      "text/plain": [
       "<AxesSubplot:xlabel='year_of_release'>"
      ]
     },
     "execution_count": 894,
     "metadata": {},
     "output_type": "execute_result"
    },
    {
     "data": {
      "image/png": "[encoded data removed]",
      "text/plain": [
       "<Figure size 432x288 with 1 Axes>"
      ]
     },
     "metadata": {
      "needs_background": "light"
     },
     "output_type": "display_data"
    }
   ],
   "source": [
    "XOne_pivot = pd.pivot_table(data.loc[data['platform']=='PS3'], index='year_of_release', values='total_sales',\n",
    "                                aggfunc=np.sum).reset_index()\n",
    "\n",
    "XOne_pivot.plot(x='year_of_release', y='total_sales', style='o-', grid=True, xlim=('01.01.2005','01.01.2018'))\n",
    "# смотрим график суммарных продаж по годам платформы PS3"
   ]
  },
  {
   "cell_type": "code",
   "execution_count": 895,
   "metadata": {
    "scrolled": true
   },
   "outputs": [
    {
     "data": {
      "text/plain": [
       "<AxesSubplot:xlabel='year_of_release'>"
      ]
     },
     "execution_count": 895,
     "metadata": {},
     "output_type": "execute_result"
    },
    {
     "data": {
      "image/png": "[encoded data removed]",
      "text/plain": [
       "<Figure size 432x288 with 1 Axes>"
      ]
     },
     "metadata": {
      "needs_background": "light"
     },
     "output_type": "display_data"
    }
   ],
   "source": [
    "XOne_pivot = pd.pivot_table(data.loc[data['platform']=='PS4'], index='year_of_release', values='total_sales',\n",
    "                                aggfunc=np.sum).reset_index()\n",
    "\n",
    "XOne_pivot.plot(x='year_of_release', y='total_sales', style='o-', grid=True, xlim=('01.01.2012','01.01.2018'))\n",
    "# смотрим график суммарных продаж по годам платформы PS4"
   ]
  },
  {
   "cell_type": "code",
   "execution_count": 896,
   "metadata": {},
   "outputs": [],
   "source": [
    "data['year_of_release'] = pd.DatetimeIndex(data['year_of_release']).year"
   ]
  },
  {
   "cell_type": "code",
   "execution_count": 897,
   "metadata": {
    "scrolled": false
   },
   "outputs": [
    {
     "data": {
      "text/plain": [
       "(0.0, 2.0)"
      ]
     },
     "execution_count": 897,
     "metadata": {},
     "output_type": "execute_result"
    },
    {
     "data": {
      "image/png": "[encoded data removed]",
      "text/plain": [
       "<Figure size 432x288 with 1 Axes>"
      ]
     },
     "metadata": {
      "needs_background": "light"
     },
     "output_type": "display_data"
    }
   ],
   "source": [
    "data.loc[(data['platform']=='PS4') & (data['year_of_release'] > 2014)].boxplot(column=['total_sales'])\n",
    "# строим график «ящик с усами» по глобальным продажам игр по платформe PS4. \n",
    "plt.ylim(0, 2)"
   ]
  },
  {
   "cell_type": "code",
   "execution_count": 898,
   "metadata": {},
   "outputs": [
    {
     "data": {
      "text/plain": [
       "count    301.000000\n",
       "mean       0.625083\n",
       "std        1.457063\n",
       "min        0.010000\n",
       "25%        0.050000\n",
       "50%        0.120000\n",
       "75%        0.420000\n",
       "max       14.630000\n",
       "Name: total_sales, dtype: float64"
      ]
     },
     "execution_count": 898,
     "metadata": {},
     "output_type": "execute_result"
    }
   ],
   "source": [
    "data.loc[(data['platform']=='PS4') & (data['year_of_release'] > 2014)]['total_sales'].describe()"
   ]
  },
  {
   "cell_type": "code",
   "execution_count": 899,
   "metadata": {
    "scrolled": true
   },
   "outputs": [
    {
     "data": {
      "text/plain": [
       "(0.0, 2.0)"
      ]
     },
     "execution_count": 899,
     "metadata": {},
     "output_type": "execute_result"
    },
    {
     "data": {
      "image/png": "[encoded data removed]",
      "text/plain": [
       "<Figure size 432x288 with 1 Axes>"
      ]
     },
     "metadata": {
      "needs_background": "light"
     },
     "output_type": "display_data"
    }
   ],
   "source": [
    "data.loc[(data['platform']=='XOne') & (data['year_of_release'] > 2014)].boxplot(column=['total_sales'])\n",
    "# строим график «ящик с усами» по глобальным продажам игр по платформe XOne.\n",
    "plt.ylim(0, 2)"
   ]
  },
  {
   "cell_type": "code",
   "execution_count": 900,
   "metadata": {},
   "outputs": [
    {
     "data": {
      "text/plain": [
       "count    167.000000\n",
       "mean       0.516707\n",
       "std        0.965940\n",
       "min        0.010000\n",
       "25%        0.035000\n",
       "50%        0.130000\n",
       "75%        0.555000\n",
       "max        7.390000\n",
       "Name: total_sales, dtype: float64"
      ]
     },
     "execution_count": 900,
     "metadata": {},
     "output_type": "execute_result"
    }
   ],
   "source": [
    "data.loc[(data['platform']=='XOne') & (data['year_of_release'] > 2014)]['total_sales'].describe()"
   ]
  },
  {
   "cell_type": "code",
   "execution_count": 901,
   "metadata": {
    "scrolled": false
   },
   "outputs": [
    {
     "data": {
      "text/plain": [
       "(0.0, 1.0)"
      ]
     },
     "execution_count": 901,
     "metadata": {},
     "output_type": "execute_result"
    },
    {
     "data": {
      "image/png": "[encoded data removed]",
      "text/plain": [
       "<Figure size 432x288 with 1 Axes>"
      ]
     },
     "metadata": {
      "needs_background": "light"
     },
     "output_type": "display_data"
    }
   ],
   "source": [
    "data.loc[(data['platform']=='PC') & (data['year_of_release'] > 2014)].boxplot(column=['total_sales'])\n",
    "plt.ylim(0, 1)"
   ]
  },
  {
   "cell_type": "code",
   "execution_count": 902,
   "metadata": {},
   "outputs": [
    {
     "data": {
      "text/plain": [
       "count    104.000000\n",
       "mean       0.132404\n",
       "std        0.209449\n",
       "min        0.010000\n",
       "25%        0.020000\n",
       "50%        0.050000\n",
       "75%        0.142500\n",
       "max        1.280000\n",
       "Name: total_sales, dtype: float64"
      ]
     },
     "execution_count": 902,
     "metadata": {},
     "output_type": "execute_result"
    }
   ],
   "source": [
    "data.loc[(data['platform']=='PC') & (data['year_of_release'] > 2014)]['total_sales'].describe()"
   ]
  },
  {
   "cell_type": "markdown",
   "metadata": {},
   "source": [
    "<div class=\"alert alert-info\">\n",
    "<b> \n",
    "    \n",
    "    \n",
    "    Вывод:\n",
    "    \n",
    "  - Экономически самая выгодная платформа XOne т.к. сумма продаж выше (на это указывает медиана, она больше чем у PS4 и PC, а так же Q4  выше чем у остальных платформ)\n",
    "  - Экономически не самая выгодная платформа PC т.к. сумма продаж ниже (на это указывает медиана, она меньше чем у PS4 и PC, а так же Q4  ниже чем у остальных платформ)  \n",
    "    \n",
    "</b> \n",
    "</div>"
   ]
  },
  {
   "cell_type": "code",
   "execution_count": 903,
   "metadata": {},
   "outputs": [
    {
     "data": {
      "text/plain": [
       "<AxesSubplot:xlabel='critic_score', ylabel='total_sales'>"
      ]
     },
     "execution_count": 903,
     "metadata": {},
     "output_type": "execute_result"
    },
    {
     "data": {
      "image/png": "[encoded data removed]",
      "text/plain": [
       "<Figure size 432x288 with 1 Axes>"
      ]
     },
     "metadata": {
      "needs_background": "light"
     },
     "output_type": "display_data"
    }
   ],
   "source": [
    "(data.loc[(data['platform']=='PS4') & (data['year_of_release'] > 2014)].\n",
    " plot(x = 'critic_score', y = 'total_sales', kind='scatter'))"
   ]
  },
  {
   "cell_type": "code",
   "execution_count": 904,
   "metadata": {},
   "outputs": [
    {
     "data": {
      "text/plain": [
       "<AxesSubplot:xlabel='user_score', ylabel='total_sales'>"
      ]
     },
     "execution_count": 904,
     "metadata": {},
     "output_type": "execute_result"
    },
    {
     "data": {
      "image/png": "[encoded data removed]",
      "text/plain": [
       "<Figure size 432x288 with 1 Axes>"
      ]
     },
     "metadata": {
      "needs_background": "light"
     },
     "output_type": "display_data"
    }
   ],
   "source": [
    "(data.loc[(data['platform']=='PS4') & (data['year_of_release'] > 2014)].\n",
    " plot(x = 'user_score', y = 'total_sales', kind='scatter'))"
   ]
  },
  {
   "cell_type": "code",
   "execution_count": 905,
   "metadata": {},
   "outputs": [
    {
     "data": {
      "text/plain": [
       "0.31180455919585487"
      ]
     },
     "execution_count": 905,
     "metadata": {},
     "output_type": "execute_result"
    }
   ],
   "source": [
    "(data.loc[(data['platform']=='PS4') & (data['year_of_release'] > 2014)]['critic_score'].\n",
    " corr(data.loc[(data['platform']=='PS4') & (data['year_of_release'] > 2014)]['total_sales']))"
   ]
  },
  {
   "cell_type": "code",
   "execution_count": 906,
   "metadata": {},
   "outputs": [
    {
     "data": {
      "text/plain": [
       "-0.06922582020378636"
      ]
     },
     "execution_count": 906,
     "metadata": {},
     "output_type": "execute_result"
    }
   ],
   "source": [
    "(data.loc[(data['platform']=='PS4') & (data['year_of_release'] > 2014)]['user_score'].\n",
    " corr(data.loc[(data['platform']=='PS4') & (data['year_of_release'] > 2014)]['total_sales']))"
   ]
  },
  {
   "cell_type": "code",
   "execution_count": 907,
   "metadata": {
    "scrolled": true
   },
   "outputs": [
    {
     "data": {
      "text/plain": [
       "<AxesSubplot:xlabel='critic_score', ylabel='total_sales'>"
      ]
     },
     "execution_count": 907,
     "metadata": {},
     "output_type": "execute_result"
    },
    {
     "data": {
      "image/png": "[encoded data removed]",
      "text/plain": [
       "<Figure size 432x288 with 1 Axes>"
      ]
     },
     "metadata": {
      "needs_background": "light"
     },
     "output_type": "display_data"
    }
   ],
   "source": [
    "(data.loc[(data['platform']=='PC') & (data['year_of_release'] > 2014)].\n",
    " plot(x = 'critic_score', y = 'total_sales', kind='scatter'))"
   ]
  },
  {
   "cell_type": "code",
   "execution_count": 908,
   "metadata": {
    "scrolled": true
   },
   "outputs": [
    {
     "data": {
      "text/plain": [
       "<AxesSubplot:xlabel='user_score', ylabel='total_sales'>"
      ]
     },
     "execution_count": 908,
     "metadata": {},
     "output_type": "execute_result"
    },
    {
     "data": {
      "image/png": "[encoded data removed]",
      "text/plain": [
       "<Figure size 432x288 with 1 Axes>"
      ]
     },
     "metadata": {
      "needs_background": "light"
     },
     "output_type": "display_data"
    }
   ],
   "source": [
    "(data.loc[(data['platform']=='PC') & (data['year_of_release'] > 2014)].\n",
    " plot(x = 'user_score', y = 'total_sales', kind='scatter'))"
   ]
  },
  {
   "cell_type": "code",
   "execution_count": 909,
   "metadata": {},
   "outputs": [
    {
     "data": {
      "text/plain": [
       "0.40482859683586353"
      ]
     },
     "execution_count": 909,
     "metadata": {},
     "output_type": "execute_result"
    }
   ],
   "source": [
    "(data.loc[(data['platform']=='PC') & (data['year_of_release'] > 2014)]['critic_score'].\n",
    " corr(data.loc[(data['platform']=='PC') & (data['year_of_release'] > 2014)]['total_sales']))"
   ]
  },
  {
   "cell_type": "code",
   "execution_count": 910,
   "metadata": {},
   "outputs": [
    {
     "data": {
      "text/plain": [
       "0.09714668028325325"
      ]
     },
     "execution_count": 910,
     "metadata": {},
     "output_type": "execute_result"
    }
   ],
   "source": [
    "(data.loc[(data['platform']=='PC') & (data['year_of_release'] > 2014)]['user_score'].\n",
    " corr(data.loc[(data['platform']=='PC') & (data['year_of_release'] > 2014)]['total_sales']))"
   ]
  },
  {
   "cell_type": "code",
   "execution_count": 911,
   "metadata": {},
   "outputs": [
    {
     "data": {
      "text/plain": [
       "<AxesSubplot:xlabel='critic_score', ylabel='total_sales'>"
      ]
     },
     "execution_count": 911,
     "metadata": {},
     "output_type": "execute_result"
    },
    {
     "data": {
      "image/png": "[encoded data removed]",
      "text/plain": [
       "<Figure size 432x288 with 1 Axes>"
      ]
     },
     "metadata": {
      "needs_background": "light"
     },
     "output_type": "display_data"
    }
   ],
   "source": [
    "(data.loc[(data['platform']=='XOne') & (data['year_of_release'] > 2014)].\n",
    " plot(x = 'critic_score', y = 'total_sales', kind='scatter'))"
   ]
  },
  {
   "cell_type": "code",
   "execution_count": 912,
   "metadata": {},
   "outputs": [
    {
     "data": {
      "text/plain": [
       "<AxesSubplot:xlabel='user_score', ylabel='total_sales'>"
      ]
     },
     "execution_count": 912,
     "metadata": {},
     "output_type": "execute_result"
    },
    {
     "data": {
      "image/png": "[encoded data removed]",
      "text/plain": [
       "<Figure size 432x288 with 1 Axes>"
      ]
     },
     "metadata": {
      "needs_background": "light"
     },
     "output_type": "display_data"
    }
   ],
   "source": [
    "(data.loc[(data['platform']=='XOne') & (data['year_of_release'] > 2014)].\n",
    " plot(x = 'user_score', y = 'total_sales', kind='scatter'))"
   ]
  },
  {
   "cell_type": "code",
   "execution_count": 913,
   "metadata": {},
   "outputs": [
    {
     "data": {
      "text/plain": [
       "0.3581089445934351"
      ]
     },
     "execution_count": 913,
     "metadata": {},
     "output_type": "execute_result"
    }
   ],
   "source": [
    "(data.loc[(data['platform']=='XOne') & (data['year_of_release'] > 2014)]['critic_score'].\n",
    " corr(data.loc[(data['platform']=='XOne') & (data['year_of_release'] > 2014)]['total_sales']))"
   ]
  },
  {
   "cell_type": "code",
   "execution_count": 914,
   "metadata": {},
   "outputs": [
    {
     "data": {
      "text/plain": [
       "-0.05559144087617007"
      ]
     },
     "execution_count": 914,
     "metadata": {},
     "output_type": "execute_result"
    }
   ],
   "source": [
    "(data.loc[(data['platform']=='XOne') & (data['year_of_release'] > 2014)]['user_score'].\n",
    " corr(data.loc[(data['platform']=='XOne') & (data['year_of_release'] > 2014)]['total_sales']))"
   ]
  },
  {
   "cell_type": "markdown",
   "metadata": {},
   "source": [
    "<div class=\"alert alert-info\">\n",
    "<b> \n",
    "    \n",
    "   - Актуальный период добавил - 2015 - 2016 \n",
    "    \n",
    "   - Аналогичный анализ добавил для платформ PC и XOne \n",
    "    \n",
    "    - Вывод:\n",
    "    \n",
    "    На примере платформ PS4, PC и XOne посмотрели как влияют оценки critic_score и user_score на total_sales\n",
    "- корреляция между critic_score и total_sales  равна 0.4 у PC 0.3 у PS4 и 0.35 у XOne, что указывает на слабую прямую линейную связь.\n",
    "- корреляция между user_score и total_sales примерно равна 0, что указывает на осутвие линейной связи. \n",
    "    \n",
    "</b> \n",
    "</div>"
   ]
  },
  {
   "cell_type": "code",
   "execution_count": 915,
   "metadata": {},
   "outputs": [],
   "source": [
    "genre_pivot = pd.pivot_table(data.loc[data['year_of_release'] > 2014], index='genre', values='total_sales',\n",
    "                                aggfunc=np.sum).reset_index()\n",
    "genre_pivot = genre_pivot.sort_values('total_sales', ascending=False)"
   ]
  },
  {
   "cell_type": "code",
   "execution_count": 916,
   "metadata": {},
   "outputs": [
    {
     "data": {
      "text/plain": [
       "<AxesSubplot:xlabel='genre', ylabel='total_sales'>"
      ]
     },
     "execution_count": 916,
     "metadata": {},
     "output_type": "execute_result"
    },
    {
     "data": {
      "image/png": "[encoded data removed]",
      "text/plain": [
       "<Figure size 720x288 with 1 Axes>"
      ]
     },
     "metadata": {
      "needs_background": "light"
     },
     "output_type": "display_data"
    }
   ],
   "source": [
    "genre_pivot.loc[genre_pivot['total_sales']>=1.0].plot(x='genre', y='total_sales', figsize=( 10 , 4 ), \n",
    "                                                       kind='scatter', s=100, grid=True)\n",
    "\n",
    "# строим график рапределения сумма продаж по жанрам для 10 самых продоваемых за  период 2015-2016"
   ]
  },
  {
   "cell_type": "code",
   "execution_count": 917,
   "metadata": {},
   "outputs": [
    {
     "data": {
      "text/plain": [
       "count     12.000000\n",
       "mean      33.160000\n",
       "std       38.655059\n",
       "min        0.720000\n",
       "25%        8.847500\n",
       "50%       12.175000\n",
       "75%       57.947500\n",
       "max      105.730000\n",
       "Name: total_sales, dtype: float64"
      ]
     },
     "execution_count": 917,
     "metadata": {},
     "output_type": "execute_result"
    }
   ],
   "source": [
    "genre_pivot['total_sales'].describe()"
   ]
  },
  {
   "cell_type": "markdown",
   "metadata": {},
   "source": [
    "**Выводы:**\n",
    "\n",
    "1. Рост реализа игр начался с 1992г. Максмимальное кол-во реализов было в 2009 году после чего начался спад.\n",
    "2. Максимальный период реализа игр для платформы PC =  25 лет. Минимальный период реализа для платформ 1 год. Средний период реализа игр для платформ 6 лет.\n",
    "3. Проанализировали девять платформ (XOne, PSV, Wii, X360, 3DS, PC, WiiU, PS3, PS4)  на которые еще выходили в 2016году реализы игр.\\\n",
    "- PS4 - 8.74 млн продаж в 2016. С 2015 года идет падение продаж. Прогноз падение продолжится.\n",
    "- XOne - 7.35 млн продаж в 2016. С 2014 года идет падение продаж. Прогноз падение продолжится.\n",
    "- PC - 3.69 млн продаж в 2016. С 2013 года идет рост продаж. Прогноз рост продолжится.\n",
    "- PSV - 3.35 млн продаж в 2016. С 2014 года идет падение продаж. Прогноз падение продолжится.\n",
    "- PS3 - 2.87 млн продаж в 2016. С 2015 года идет рост продаж. Прогноз рост продолжится.\n",
    "4. Построили график «ящик с усами» по глобальным продажам игр в разбивке по платформам PS4, XOne, PC\n",
    "- Экономически самая выгодная платформа XOne т.к. сумма продаж выше (на это указывает медиана, она больше чем у PS4 и PC, а так же Q4  выше чем у остальных платформ)\n",
    "- - Экономически не самая выгодная платформа PC т.к. сумма продаж ниже (на это указывает медиана, она меньше чем у PS4 и PC, а так же Q4  ниже чем у остальных платформ)   \n",
    "5. На примере платформ PS4, PC и XOne посмотрели как влияют оценки critic_score и user_score на total_sales\n",
    "- корреляция между critic_score и total_sales  равна 0.4 у PC 0.3 у PS4 и 0.35 у XOne, что указывает на слабую прямую линейную связь.\n",
    "- корреляция между user_score и total_sales примерно равна 0, что указывает на осутвие линейной связи. \n",
    "6. Самые продаваемый жанр Shooter (более 105млн).\n",
    "7. Топ 5 по прадажам жанров за период 2015-2016 Shooter(более 105млн), Action(более 100млн), Sports(более 60млн), Role-Playing(чуть менее 60млн), Misc(около 17млн)"
   ]
  },
  {
   "cell_type": "markdown",
   "metadata": {},
   "source": [
    "### Исследовательский анализ данных"
   ]
  },
  {
   "cell_type": "code",
   "execution_count": 918,
   "metadata": {},
   "outputs": [
    {
     "data": {
      "text/html": [
       "<div>\n",
       "<style scoped>\n",
       "    .dataframe tbody tr th:only-of-type {\n",
       "        vertical-align: middle;\n",
       "    }\n",
       "\n",
       "    .dataframe tbody tr th {\n",
       "        vertical-align: top;\n",
       "    }\n",
       "\n",
       "    .dataframe thead th {\n",
       "        text-align: right;\n",
       "    }\n",
       "</style>\n",
       "<table border=\"1\" class=\"dataframe\">\n",
       "  <thead>\n",
       "    <tr style=\"text-align: right;\">\n",
       "      <th></th>\n",
       "      <th>platform</th>\n",
       "      <th>na_sales</th>\n",
       "    </tr>\n",
       "  </thead>\n",
       "  <tbody>\n",
       "    <tr>\n",
       "      <th>3</th>\n",
       "      <td>PS4</td>\n",
       "      <td>63.86</td>\n",
       "    </tr>\n",
       "    <tr>\n",
       "      <th>9</th>\n",
       "      <td>XOne</td>\n",
       "      <td>50.30</td>\n",
       "    </tr>\n",
       "    <tr>\n",
       "      <th>0</th>\n",
       "      <td>3DS</td>\n",
       "      <td>10.31</td>\n",
       "    </tr>\n",
       "    <tr>\n",
       "      <th>7</th>\n",
       "      <td>WiiU</td>\n",
       "      <td>8.86</td>\n",
       "    </tr>\n",
       "    <tr>\n",
       "      <th>8</th>\n",
       "      <td>X360</td>\n",
       "      <td>8.05</td>\n",
       "    </tr>\n",
       "  </tbody>\n",
       "</table>\n",
       "</div>"
      ],
      "text/plain": [
       "  platform  na_sales\n",
       "3      PS4     63.86\n",
       "9     XOne     50.30\n",
       "0      3DS     10.31\n",
       "7     WiiU      8.86\n",
       "8     X360      8.05"
      ]
     },
     "execution_count": 918,
     "metadata": {},
     "output_type": "execute_result"
    }
   ],
   "source": [
    "na_platform = pd.pivot_table(data.loc[data['year_of_release'] > 2014], index='platform', values='na_sales',\n",
    "                                aggfunc=np.sum).reset_index()\n",
    "na_platform.sort_values('na_sales', ascending=False).head()\n",
    "# определяем топ 5 самых популярных платформ по прадажам  для региона NA"
   ]
  },
  {
   "cell_type": "code",
   "execution_count": 919,
   "metadata": {},
   "outputs": [
    {
     "data": {
      "text/html": [
       "<div>\n",
       "<style scoped>\n",
       "    .dataframe tbody tr th:only-of-type {\n",
       "        vertical-align: middle;\n",
       "    }\n",
       "\n",
       "    .dataframe tbody tr th {\n",
       "        vertical-align: top;\n",
       "    }\n",
       "\n",
       "    .dataframe thead th {\n",
       "        text-align: right;\n",
       "    }\n",
       "</style>\n",
       "<table border=\"1\" class=\"dataframe\">\n",
       "  <thead>\n",
       "    <tr style=\"text-align: right;\">\n",
       "      <th></th>\n",
       "      <th>platform</th>\n",
       "      <th>eu_sales</th>\n",
       "    </tr>\n",
       "  </thead>\n",
       "  <tbody>\n",
       "    <tr>\n",
       "      <th>3</th>\n",
       "      <td>PS4</td>\n",
       "      <td>83.54</td>\n",
       "    </tr>\n",
       "    <tr>\n",
       "      <th>9</th>\n",
       "      <td>XOne</td>\n",
       "      <td>28.10</td>\n",
       "    </tr>\n",
       "    <tr>\n",
       "      <th>1</th>\n",
       "      <td>PC</td>\n",
       "      <td>9.10</td>\n",
       "    </tr>\n",
       "    <tr>\n",
       "      <th>0</th>\n",
       "      <td>3DS</td>\n",
       "      <td>7.39</td>\n",
       "    </tr>\n",
       "    <tr>\n",
       "      <th>2</th>\n",
       "      <td>PS3</td>\n",
       "      <td>7.30</td>\n",
       "    </tr>\n",
       "  </tbody>\n",
       "</table>\n",
       "</div>"
      ],
      "text/plain": [
       "  platform  eu_sales\n",
       "3      PS4     83.54\n",
       "9     XOne     28.10\n",
       "1       PC      9.10\n",
       "0      3DS      7.39\n",
       "2      PS3      7.30"
      ]
     },
     "execution_count": 919,
     "metadata": {},
     "output_type": "execute_result"
    }
   ],
   "source": [
    "eu_platform = pd.pivot_table(data.loc[data['year_of_release'] > 2014], index='platform', values='eu_sales',\n",
    "                                aggfunc=np.sum).reset_index()\n",
    "eu_platform.sort_values('eu_sales', ascending=False).head()\n",
    "\n",
    "# определяем топ 5 самых популярных платформ по прадажам  для региона EU"
   ]
  },
  {
   "cell_type": "code",
   "execution_count": 920,
   "metadata": {},
   "outputs": [
    {
     "data": {
      "text/html": [
       "<div>\n",
       "<style scoped>\n",
       "    .dataframe tbody tr th:only-of-type {\n",
       "        vertical-align: middle;\n",
       "    }\n",
       "\n",
       "    .dataframe tbody tr th {\n",
       "        vertical-align: top;\n",
       "    }\n",
       "\n",
       "    .dataframe thead th {\n",
       "        text-align: right;\n",
       "    }\n",
       "</style>\n",
       "<table border=\"1\" class=\"dataframe\">\n",
       "  <thead>\n",
       "    <tr style=\"text-align: right;\">\n",
       "      <th></th>\n",
       "      <th>platform</th>\n",
       "      <th>jp_sales</th>\n",
       "    </tr>\n",
       "  </thead>\n",
       "  <tbody>\n",
       "    <tr>\n",
       "      <th>0</th>\n",
       "      <td>3DS</td>\n",
       "      <td>23.55</td>\n",
       "    </tr>\n",
       "    <tr>\n",
       "      <th>3</th>\n",
       "      <td>PS4</td>\n",
       "      <td>12.05</td>\n",
       "    </tr>\n",
       "    <tr>\n",
       "      <th>5</th>\n",
       "      <td>PSV</td>\n",
       "      <td>8.41</td>\n",
       "    </tr>\n",
       "    <tr>\n",
       "      <th>2</th>\n",
       "      <td>PS3</td>\n",
       "      <td>4.97</td>\n",
       "    </tr>\n",
       "    <tr>\n",
       "      <th>7</th>\n",
       "      <td>WiiU</td>\n",
       "      <td>4.12</td>\n",
       "    </tr>\n",
       "  </tbody>\n",
       "</table>\n",
       "</div>"
      ],
      "text/plain": [
       "  platform  jp_sales\n",
       "0      3DS     23.55\n",
       "3      PS4     12.05\n",
       "5      PSV      8.41\n",
       "2      PS3      4.97\n",
       "7     WiiU      4.12"
      ]
     },
     "execution_count": 920,
     "metadata": {},
     "output_type": "execute_result"
    }
   ],
   "source": [
    "jp_platform = pd.pivot_table(data.loc[data['year_of_release'] > 2014], index='platform', values='jp_sales',\n",
    "                                aggfunc=np.sum).reset_index()\n",
    "jp_platform.sort_values('jp_sales', ascending=False).head()\n",
    "# определяем топ 5 самых популярных платформ по прадажам для региона JP"
   ]
  },
  {
   "cell_type": "code",
   "execution_count": 921,
   "metadata": {},
   "outputs": [
    {
     "data": {
      "text/html": [
       "<div>\n",
       "<style scoped>\n",
       "    .dataframe tbody tr th:only-of-type {\n",
       "        vertical-align: middle;\n",
       "    }\n",
       "\n",
       "    .dataframe tbody tr th {\n",
       "        vertical-align: top;\n",
       "    }\n",
       "\n",
       "    .dataframe thead th {\n",
       "        text-align: right;\n",
       "    }\n",
       "</style>\n",
       "<table border=\"1\" class=\"dataframe\">\n",
       "  <thead>\n",
       "    <tr style=\"text-align: right;\">\n",
       "      <th></th>\n",
       "      <th>genre</th>\n",
       "      <th>na_sales</th>\n",
       "    </tr>\n",
       "  </thead>\n",
       "  <tbody>\n",
       "    <tr>\n",
       "      <th>8</th>\n",
       "      <td>Shooter</td>\n",
       "      <td>48.18</td>\n",
       "    </tr>\n",
       "    <tr>\n",
       "      <th>0</th>\n",
       "      <td>Action</td>\n",
       "      <td>33.68</td>\n",
       "    </tr>\n",
       "    <tr>\n",
       "      <th>10</th>\n",
       "      <td>Sports</td>\n",
       "      <td>26.31</td>\n",
       "    </tr>\n",
       "    <tr>\n",
       "      <th>7</th>\n",
       "      <td>Role-Playing</td>\n",
       "      <td>19.82</td>\n",
       "    </tr>\n",
       "    <tr>\n",
       "      <th>3</th>\n",
       "      <td>Misc</td>\n",
       "      <td>5.58</td>\n",
       "    </tr>\n",
       "  </tbody>\n",
       "</table>\n",
       "</div>"
      ],
      "text/plain": [
       "           genre  na_sales\n",
       "8        Shooter     48.18\n",
       "0         Action     33.68\n",
       "10        Sports     26.31\n",
       "7   Role-Playing     19.82\n",
       "3           Misc      5.58"
      ]
     },
     "execution_count": 921,
     "metadata": {},
     "output_type": "execute_result"
    }
   ],
   "source": [
    "genre_pivot_na = pd.pivot_table(data.loc[data['year_of_release'] > 2014], index='genre', values='na_sales',\n",
    "                                aggfunc=np.sum).reset_index()\n",
    "genre_pivot_na.sort_values('na_sales', ascending=False).head()\n",
    "# определяем топ 5 самы продоваемые жанров в регионе NA"
   ]
  },
  {
   "cell_type": "code",
   "execution_count": 922,
   "metadata": {
    "scrolled": true
   },
   "outputs": [
    {
     "data": {
      "text/html": [
       "<div>\n",
       "<style scoped>\n",
       "    .dataframe tbody tr th:only-of-type {\n",
       "        vertical-align: middle;\n",
       "    }\n",
       "\n",
       "    .dataframe tbody tr th {\n",
       "        vertical-align: top;\n",
       "    }\n",
       "\n",
       "    .dataframe thead th {\n",
       "        text-align: right;\n",
       "    }\n",
       "</style>\n",
       "<table border=\"1\" class=\"dataframe\">\n",
       "  <thead>\n",
       "    <tr style=\"text-align: right;\">\n",
       "      <th></th>\n",
       "      <th>genre</th>\n",
       "      <th>eu_sales</th>\n",
       "    </tr>\n",
       "  </thead>\n",
       "  <tbody>\n",
       "    <tr>\n",
       "      <th>8</th>\n",
       "      <td>Shooter</td>\n",
       "      <td>40.28</td>\n",
       "    </tr>\n",
       "    <tr>\n",
       "      <th>0</th>\n",
       "      <td>Action</td>\n",
       "      <td>34.82</td>\n",
       "    </tr>\n",
       "    <tr>\n",
       "      <th>10</th>\n",
       "      <td>Sports</td>\n",
       "      <td>27.82</td>\n",
       "    </tr>\n",
       "    <tr>\n",
       "      <th>7</th>\n",
       "      <td>Role-Playing</td>\n",
       "      <td>17.21</td>\n",
       "    </tr>\n",
       "    <tr>\n",
       "      <th>6</th>\n",
       "      <td>Racing</td>\n",
       "      <td>6.52</td>\n",
       "    </tr>\n",
       "  </tbody>\n",
       "</table>\n",
       "</div>"
      ],
      "text/plain": [
       "           genre  eu_sales\n",
       "8        Shooter     40.28\n",
       "0         Action     34.82\n",
       "10        Sports     27.82\n",
       "7   Role-Playing     17.21\n",
       "6         Racing      6.52"
      ]
     },
     "execution_count": 922,
     "metadata": {},
     "output_type": "execute_result"
    }
   ],
   "source": [
    "genre_pivot_eu = pd.pivot_table(data.loc[data['year_of_release'] > 2014], index='genre', values='eu_sales',\n",
    "                                aggfunc=np.sum).reset_index()\n",
    "genre_pivot_eu.sort_values('eu_sales', ascending=False).head()\n",
    "# определяем топ 5 самы продоваемые жанров в регионе EU"
   ]
  },
  {
   "cell_type": "code",
   "execution_count": 923,
   "metadata": {
    "scrolled": true
   },
   "outputs": [
    {
     "data": {
      "text/html": [
       "<div>\n",
       "<style scoped>\n",
       "    .dataframe tbody tr th:only-of-type {\n",
       "        vertical-align: middle;\n",
       "    }\n",
       "\n",
       "    .dataframe tbody tr th {\n",
       "        vertical-align: top;\n",
       "    }\n",
       "\n",
       "    .dataframe thead th {\n",
       "        text-align: right;\n",
       "    }\n",
       "</style>\n",
       "<table border=\"1\" class=\"dataframe\">\n",
       "  <thead>\n",
       "    <tr style=\"text-align: right;\">\n",
       "      <th></th>\n",
       "      <th>genre</th>\n",
       "      <th>jp_sales</th>\n",
       "    </tr>\n",
       "  </thead>\n",
       "  <tbody>\n",
       "    <tr>\n",
       "      <th>0</th>\n",
       "      <td>Action</td>\n",
       "      <td>23.05</td>\n",
       "    </tr>\n",
       "    <tr>\n",
       "      <th>7</th>\n",
       "      <td>Role-Playing</td>\n",
       "      <td>13.41</td>\n",
       "    </tr>\n",
       "    <tr>\n",
       "      <th>8</th>\n",
       "      <td>Shooter</td>\n",
       "      <td>3.79</td>\n",
       "    </tr>\n",
       "    <tr>\n",
       "      <th>3</th>\n",
       "      <td>Misc</td>\n",
       "      <td>3.19</td>\n",
       "    </tr>\n",
       "    <tr>\n",
       "      <th>1</th>\n",
       "      <td>Adventure</td>\n",
       "      <td>2.22</td>\n",
       "    </tr>\n",
       "  </tbody>\n",
       "</table>\n",
       "</div>"
      ],
      "text/plain": [
       "          genre  jp_sales\n",
       "0        Action     23.05\n",
       "7  Role-Playing     13.41\n",
       "8       Shooter      3.79\n",
       "3          Misc      3.19\n",
       "1     Adventure      2.22"
      ]
     },
     "execution_count": 923,
     "metadata": {},
     "output_type": "execute_result"
    }
   ],
   "source": [
    "genre_pivot_jp = pd.pivot_table(data.loc[data['year_of_release'] > 2014], index='genre', values='jp_sales',\n",
    "                                aggfunc=np.sum).reset_index()\n",
    "genre_pivot_jp.sort_values('jp_sales', ascending=False).head()\n",
    "# определяем топ 5 самы продоваемые жанров в регионе JP"
   ]
  },
  {
   "cell_type": "code",
   "execution_count": 924,
   "metadata": {},
   "outputs": [],
   "source": [
    "rating_pivot = pd.pivot_table(data.loc[data['year_of_release'] > 2014], index='rating', values=['eu_sales','na_sales','jp_sales'],\n",
    "                                aggfunc=np.sum).reset_index()\n",
    "# делаем сводную таблицу с группировкой по рейтингу продаж"
   ]
  },
  {
   "cell_type": "code",
   "execution_count": 925,
   "metadata": {},
   "outputs": [
    {
     "data": {
      "text/plain": [
       "<AxesSubplot:xlabel='rating', ylabel='na_sales'>"
      ]
     },
     "execution_count": 925,
     "metadata": {},
     "output_type": "execute_result"
    },
    {
     "data": {
      "image/png": "[encoded data removed]",
      "text/plain": [
       "<Figure size 720x288 with 1 Axes>"
      ]
     },
     "metadata": {
      "needs_background": "light"
     },
     "output_type": "display_data"
    }
   ],
   "source": [
    "rating_pivot.plot(x='rating', y='na_sales', figsize=( 10 , 4 ), kind='scatter', grid=True, s=100)\n",
    "# смотрим распределение продаж для региона NA относительно рейтинга"
   ]
  },
  {
   "cell_type": "code",
   "execution_count": 926,
   "metadata": {},
   "outputs": [
    {
     "data": {
      "text/plain": [
       "<AxesSubplot:xlabel='rating', ylabel='eu_sales'>"
      ]
     },
     "execution_count": 926,
     "metadata": {},
     "output_type": "execute_result"
    },
    {
     "data": {
      "image/png": "[encoded data removed]",
      "text/plain": [
       "<Figure size 720x288 with 1 Axes>"
      ]
     },
     "metadata": {
      "needs_background": "light"
     },
     "output_type": "display_data"
    }
   ],
   "source": [
    "rating_pivot.plot(x='rating', y='eu_sales', figsize=( 10 , 4 ), kind='scatter', grid=True, s=100)\n",
    "# смотрим распределение продаж для региона EU относительно рейтинга"
   ]
  },
  {
   "cell_type": "code",
   "execution_count": 927,
   "metadata": {},
   "outputs": [
    {
     "data": {
      "text/plain": [
       "<AxesSubplot:xlabel='rating', ylabel='jp_sales'>"
      ]
     },
     "execution_count": 927,
     "metadata": {},
     "output_type": "execute_result"
    },
    {
     "data": {
      "image/png": "[encoded data removed]",
      "text/plain": [
       "<Figure size 720x288 with 1 Axes>"
      ]
     },
     "metadata": {
      "needs_background": "light"
     },
     "output_type": "display_data"
    }
   ],
   "source": [
    "rating_pivot.plot(x='rating', y='jp_sales', figsize=( 10 , 4 ), kind='scatter', grid=True, s=100)\n",
    "# смотрим распределение продаж для региона JP относительно рейтинга"
   ]
  },
  {
   "cell_type": "markdown",
   "metadata": {},
   "source": [
    "#### **Выводы:**\n",
    "\n",
    "1. В регионе NA самые продоваемые игры на платформах в порядке убывания PS4(64), XOne(50), 3DS(10), WiiU(9), X360(8)\n",
    "2. В регионе EU самые продоваемые игры на платформах в порядке убывания  PS4(84), XOne(28), PC(9), 3DS(7), PS3(7)\n",
    "3. В регионе JP самые продоваемые игры на платформах в порядке убывания  3DS(24), PS4(12), PSV(8), PS3(5), WiiU(4)\n",
    "\n",
    "4. В регионе NA самые продоваемые игры с жанром в порядке убывания Shooter(48), Action(34), Sports(26), Role-Playing(20), Misc(6)\n",
    "5. В регионе EU самые продоваемые игры с жанром в порядке убывания Shooter(40), Action(35), Sports(28), Role-Playing(17), Racing(7)\n",
    "6. В регионе JP самые продоваемые игры с жанром в порядке убывания Action(23), Role-Playing(13), Shooter(4), Misc(3), Adventure(2)\n",
    "\n",
    "7. Распределение продаж по регионам NA и EU в зависимости от рейтинга ESRB не отличается. \n",
    "8. Распределение продаж по региону JP отличается от NA и EU в зависимости от рейтинга ESRB, тем что максимальные продажи в JP у рейтинга Е, а в NA и EU с рейтингом М"
   ]
  },
  {
   "cell_type": "markdown",
   "metadata": {},
   "source": [
    "### Проверка гипотез"
   ]
  },
  {
   "cell_type": "markdown",
   "metadata": {},
   "source": [
    "#### Гипотеза №1\n",
    "H_0: Среднее (user_score) Xbox One пользователей = среднее (user_score) PC  пользователей.\\\n",
    "H_1: Среднее (user_score) Xbox One пользователей != среднее (user_score) PC  пользователей.\\\n",
    "alpha = 0.05\n"
   ]
  },
  {
   "cell_type": "code",
   "execution_count": 928,
   "metadata": {},
   "outputs": [],
   "source": [
    "from scipy import stats as st"
   ]
  },
  {
   "cell_type": "code",
   "execution_count": 929,
   "metadata": {},
   "outputs": [
    {
     "name": "stdout",
     "output_type": "stream",
     "text": [
      "0.17037901928055904\n",
      "Не получилось отвергнуть нулевую гипотезу\n"
     ]
    }
   ],
   "source": [
    "results_1 = st.ttest_ind(\n",
    "    data.loc[(data['platform']=='XOne') & (data['year_of_release'] > 2014), 'user_score'], \n",
    "    data.loc[(data['platform']=='PC') & (data['year_of_release'] > 2014), 'user_score'],\n",
    "    equal_var=False) # results_1 = вызов метода для проверки гипотезы №1\n",
    "\n",
    "alpha = 0.05 # alpha = задаём значение уровня значимости\n",
    "\n",
    "print(results_1.pvalue) # вывод значения p-value на экран \n",
    "if results_1.pvalue < alpha:\n",
    "    print(\"Отвергаем нулевую гипотезу\")\n",
    "else:\n",
    "    print(\"Не получилось отвергнуть нулевую гипотезу\") # условный оператор с выводом строки с ответом"
   ]
  },
  {
   "cell_type": "markdown",
   "metadata": {},
   "source": [
    "#### Гипотеза №2\n",
    "H_0: Среднее (user_score) Action  жанра = среднее (user_score) Sports  жанра.\\\n",
    "H_1: Среднее (user_score) Action  жанра != среднее (user_score) Sports  жанра.\\\n",
    "alpha = 0.05"
   ]
  },
  {
   "cell_type": "markdown",
   "metadata": {},
   "source": [
    "<div class=\"alert alert-info\">\n",
    "<b> \n",
    " Добавил срез по данным 2015-2016\n",
    "    \n",
    "</b> \n",
    "</div>"
   ]
  },
  {
   "cell_type": "code",
   "execution_count": 930,
   "metadata": {},
   "outputs": [
    {
     "name": "stdout",
     "output_type": "stream",
     "text": [
      "3.542055618874955e-11\n",
      "Отвергаем нулевую гипотезу\n"
     ]
    }
   ],
   "source": [
    "results_2 = st.ttest_ind(\n",
    "    data.loc[(data['genre']=='Action') & (data['year_of_release'] > 2014), 'user_score'], \n",
    "    data.loc[(data['genre']=='Sports') & (data['year_of_release'] > 2014), 'user_score'],\n",
    "    equal_var=False) # results_2 = вызов метода для проверки гипотезы №2\n",
    "\n",
    "alpha = 0.05 # alpha = задаём значение уровня значимости\n",
    "\n",
    "print(results_2.pvalue) # вывод значения p-value на экран \n",
    "if results_2.pvalue < alpha:\n",
    "    print(\"Отвергаем нулевую гипотезу\")\n",
    "else:\n",
    "    print(\"Не получилось отвергнуть нулевую гипотезу\") # условный оператор с выводом строки с ответом\n",
    "     "
   ]
  },
  {
   "cell_type": "markdown",
   "metadata": {},
   "source": [
    "<div class=\"alert alert-info\">\n",
    "<b> \n",
    " Добавил срез по данным 2015-2016\n",
    "    \n",
    "</b> \n",
    "</div>"
   ]
  },
  {
   "cell_type": "markdown",
   "metadata": {},
   "source": [
    "**Выводы:**\n",
    "\n",
    "1. Уровень значимости alpha выбран 0,05 общепринятое пороговые значение\n",
    "2. Гипотезу о том, что \"Среднее (user_score) Xbox One пользователей = среднее (user_score) PC пользователей.\" - нет оснований отвергать.\n",
    "3. Гипотезу о том, что \"Среднее (user_score) Action жанра = среднее (user_score) Sports жанра.\" - не подтвердилась."
   ]
  },
  {
   "cell_type": "markdown",
   "metadata": {},
   "source": [
    "### Общий вывод:\n",
    "\n",
    "**Был проведен анализ датасета по продажам игр и получены следующие основные выводы:**\n",
    "\n",
    "1. Рост реализа игр начался с 1992г. Максмимальное кол-во реализов было в 2009 году после чего начался спад.\n",
    "2. Максимальный период реализа игр для платформы PC = 25 лет. Минимальный период реализа для платформ 1 год. Средний период реализа игр для платформ 6 лет.\n",
    "3. Экономически самая выгодная платформа из топ 3 -  XOne\n",
    "4. Экономически не самая выгодная платформа из топ 3 -  PC\n",
    "5. На примере платформ PS4, PC и XOne посмотрели как влияют оценки critic_score и user_score на total_sales корреляция между critic_score и total_sales равна 0.4 у PC 0.3 у PS4 и 0.35 у XOne, что указывает на слабую прямую линейную связь. Корреляция между user_score и total_sales примерно равна 0, что указывает на осутвие линейной связи.\n",
    "6. Самый продаваемый жанр в период 2015-2016 Shooter (более 105млн). Топ 5 по прадажам жанров Shooter(более 105млн), Action(более 100млн), Sports(более 60млн), Role-Playing(чуть менее 60млн), Misc(около 17млн)\n",
    "7. Распределение продаж по регионам NA и EU в зависимости от рейтинга ESRB не отличается. Распределение продаж по региону JP отличается от NA и EU в зависимости от рейтинга ESRB, тем что в показателе рейтинга E(все возроста) продажи ниже.\n",
    "8. Гипотеза \"Среднее (user_score) Xbox One пользователей = среднее (user_score) PC пользователей\" - не получилось отвергнуть\n",
    "9. Гипотеза \"Среднее (user_score) Action жанра = среднее (user_score) Sports жанра.\" - не подтвердилась"
   ]
  }
 ],
 "metadata": {
  "ExecuteTimeLog": [
   {
    "duration": 419,
    "start_time": "2022-12-02T10:07:04.600Z"
   },
   {
    "duration": 103,
    "start_time": "2022-12-02T10:10:40.756Z"
   },
   {
    "duration": 16,
    "start_time": "2022-12-02T10:11:23.080Z"
   },
   {
    "duration": 2,
    "start_time": "2022-12-02T11:57:34.045Z"
   },
   {
    "duration": 4,
    "start_time": "2022-12-02T12:23:59.629Z"
   },
   {
    "duration": 16,
    "start_time": "2022-12-02T12:24:11.750Z"
   },
   {
    "duration": 12,
    "start_time": "2022-12-02T12:25:36.287Z"
   },
   {
    "duration": 5,
    "start_time": "2022-12-02T12:26:04.237Z"
   },
   {
    "duration": 7,
    "start_time": "2022-12-02T12:53:44.701Z"
   },
   {
    "duration": 67,
    "start_time": "2022-12-02T12:54:27.887Z"
   },
   {
    "duration": 14,
    "start_time": "2022-12-02T12:55:01.464Z"
   },
   {
    "duration": 6,
    "start_time": "2022-12-02T12:59:42.520Z"
   },
   {
    "duration": 14,
    "start_time": "2022-12-02T12:59:57.712Z"
   },
   {
    "duration": 3,
    "start_time": "2022-12-02T13:04:43.679Z"
   },
   {
    "duration": 29,
    "start_time": "2022-12-02T13:09:52.080Z"
   },
   {
    "duration": 22,
    "start_time": "2022-12-02T13:10:25.128Z"
   },
   {
    "duration": 15,
    "start_time": "2022-12-02T13:10:38.201Z"
   },
   {
    "duration": 6,
    "start_time": "2022-12-02T13:11:59.387Z"
   },
   {
    "duration": 13,
    "start_time": "2022-12-02T13:15:51.881Z"
   },
   {
    "duration": 15,
    "start_time": "2022-12-02T13:16:00.155Z"
   },
   {
    "duration": 16,
    "start_time": "2022-12-02T13:17:03.916Z"
   },
   {
    "duration": 15,
    "start_time": "2022-12-02T13:17:32.188Z"
   },
   {
    "duration": 23,
    "start_time": "2022-12-02T13:20:20.226Z"
   },
   {
    "duration": 17,
    "start_time": "2022-12-02T13:39:11.569Z"
   },
   {
    "duration": 5,
    "start_time": "2022-12-02T13:40:20.970Z"
   },
   {
    "duration": 6,
    "start_time": "2022-12-02T13:42:06.045Z"
   },
   {
    "duration": 15,
    "start_time": "2022-12-02T13:43:00.639Z"
   },
   {
    "duration": 533,
    "start_time": "2022-12-02T13:43:11.302Z"
   },
   {
    "duration": 262,
    "start_time": "2022-12-02T13:43:21.447Z"
   },
   {
    "duration": 1435,
    "start_time": "2022-12-02T13:43:47.624Z"
   },
   {
    "duration": 224,
    "start_time": "2022-12-02T13:43:54.209Z"
   },
   {
    "duration": 2,
    "start_time": "2022-12-02T13:44:34.545Z"
   },
   {
    "duration": 113,
    "start_time": "2022-12-02T13:45:32.491Z"
   },
   {
    "duration": 2,
    "start_time": "2022-12-02T13:46:05.531Z"
   },
   {
    "duration": 108,
    "start_time": "2022-12-02T13:46:30.668Z"
   },
   {
    "duration": 113,
    "start_time": "2022-12-02T13:46:36.902Z"
   },
   {
    "duration": 126,
    "start_time": "2022-12-02T13:46:50.221Z"
   },
   {
    "duration": 105,
    "start_time": "2022-12-02T13:46:58.869Z"
   },
   {
    "duration": 116,
    "start_time": "2022-12-02T13:47:04.205Z"
   },
   {
    "duration": 124,
    "start_time": "2022-12-02T13:47:14.989Z"
   },
   {
    "duration": 9,
    "start_time": "2022-12-02T13:49:37.466Z"
   },
   {
    "duration": 7,
    "start_time": "2022-12-02T14:03:25.312Z"
   },
   {
    "duration": 9,
    "start_time": "2022-12-02T14:04:20.192Z"
   },
   {
    "duration": 6,
    "start_time": "2022-12-02T14:11:42.022Z"
   },
   {
    "duration": 6,
    "start_time": "2022-12-02T14:12:48.184Z"
   },
   {
    "duration": 6,
    "start_time": "2022-12-02T14:13:11.680Z"
   },
   {
    "duration": 6,
    "start_time": "2022-12-02T14:13:20.367Z"
   },
   {
    "duration": 10,
    "start_time": "2022-12-02T14:29:51.939Z"
   },
   {
    "duration": 10,
    "start_time": "2022-12-02T14:30:29.298Z"
   },
   {
    "duration": 13,
    "start_time": "2022-12-02T14:30:55.852Z"
   },
   {
    "duration": 23,
    "start_time": "2022-12-02T14:31:24.614Z"
   },
   {
    "duration": 9,
    "start_time": "2022-12-02T14:32:22.135Z"
   },
   {
    "duration": 8,
    "start_time": "2022-12-02T14:33:09.017Z"
   },
   {
    "duration": 176,
    "start_time": "2022-12-02T14:33:33.938Z"
   },
   {
    "duration": 211,
    "start_time": "2022-12-02T14:33:40.209Z"
   },
   {
    "duration": 229,
    "start_time": "2022-12-02T14:33:50.969Z"
   },
   {
    "duration": 3,
    "start_time": "2022-12-02T14:34:05.572Z"
   },
   {
    "duration": 57,
    "start_time": "2022-12-02T14:34:05.577Z"
   },
   {
    "duration": 14,
    "start_time": "2022-12-02T14:34:05.635Z"
   },
   {
    "duration": 16,
    "start_time": "2022-12-02T14:34:05.651Z"
   },
   {
    "duration": 5,
    "start_time": "2022-12-02T14:34:05.668Z"
   },
   {
    "duration": 13,
    "start_time": "2022-12-02T14:34:05.674Z"
   },
   {
    "duration": 28,
    "start_time": "2022-12-02T14:34:05.688Z"
   },
   {
    "duration": 146,
    "start_time": "2022-12-02T14:34:05.717Z"
   },
   {
    "duration": 11,
    "start_time": "2022-12-02T14:34:05.865Z"
   },
   {
    "duration": 20,
    "start_time": "2022-12-02T14:34:05.878Z"
   },
   {
    "duration": 11,
    "start_time": "2022-12-02T14:34:12.146Z"
   },
   {
    "duration": 9,
    "start_time": "2022-12-02T14:35:10.259Z"
   },
   {
    "duration": 8,
    "start_time": "2022-12-02T14:35:46.213Z"
   },
   {
    "duration": 7,
    "start_time": "2022-12-02T14:35:50.374Z"
   },
   {
    "duration": 3,
    "start_time": "2022-12-02T14:36:27.635Z"
   },
   {
    "duration": 53,
    "start_time": "2022-12-02T14:36:27.640Z"
   },
   {
    "duration": 14,
    "start_time": "2022-12-02T14:36:27.695Z"
   },
   {
    "duration": 19,
    "start_time": "2022-12-02T14:36:27.711Z"
   },
   {
    "duration": 4,
    "start_time": "2022-12-02T14:36:27.732Z"
   },
   {
    "duration": 7,
    "start_time": "2022-12-02T14:36:27.738Z"
   },
   {
    "duration": 14,
    "start_time": "2022-12-02T14:36:27.747Z"
   },
   {
    "duration": 149,
    "start_time": "2022-12-02T14:36:27.763Z"
   },
   {
    "duration": 8,
    "start_time": "2022-12-02T14:36:27.914Z"
   },
   {
    "duration": 10,
    "start_time": "2022-12-02T14:36:27.924Z"
   },
   {
    "duration": 9,
    "start_time": "2022-12-02T14:36:34.454Z"
   },
   {
    "duration": 15,
    "start_time": "2022-12-02T14:37:22.328Z"
   },
   {
    "duration": 7,
    "start_time": "2022-12-02T14:38:43.946Z"
   },
   {
    "duration": 149,
    "start_time": "2022-12-02T14:38:59.921Z"
   },
   {
    "duration": 287,
    "start_time": "2022-12-02T14:39:18.994Z"
   },
   {
    "duration": 135,
    "start_time": "2022-12-02T14:43:02.585Z"
   },
   {
    "duration": 11,
    "start_time": "2022-12-02T14:43:32.538Z"
   },
   {
    "duration": 9,
    "start_time": "2022-12-02T14:45:37.869Z"
   },
   {
    "duration": 366,
    "start_time": "2022-12-02T14:53:40.143Z"
   },
   {
    "duration": 258,
    "start_time": "2022-12-02T14:54:10.531Z"
   },
   {
    "duration": 126,
    "start_time": "2022-12-02T14:55:25.493Z"
   },
   {
    "duration": 116,
    "start_time": "2022-12-02T14:55:48.614Z"
   },
   {
    "duration": 8,
    "start_time": "2022-12-02T14:58:51.154Z"
   },
   {
    "duration": 6,
    "start_time": "2022-12-02T14:59:04.779Z"
   },
   {
    "duration": 7,
    "start_time": "2022-12-02T14:59:31.547Z"
   },
   {
    "duration": 3,
    "start_time": "2022-12-02T15:00:21.368Z"
   },
   {
    "duration": 57,
    "start_time": "2022-12-02T15:00:21.373Z"
   },
   {
    "duration": 14,
    "start_time": "2022-12-02T15:00:21.431Z"
   },
   {
    "duration": 17,
    "start_time": "2022-12-02T15:00:21.446Z"
   },
   {
    "duration": 4,
    "start_time": "2022-12-02T15:00:21.465Z"
   },
   {
    "duration": 12,
    "start_time": "2022-12-02T15:00:21.470Z"
   },
   {
    "duration": 18,
    "start_time": "2022-12-02T15:00:21.496Z"
   },
   {
    "duration": 140,
    "start_time": "2022-12-02T15:00:21.515Z"
   },
   {
    "duration": 10,
    "start_time": "2022-12-02T15:00:21.656Z"
   },
   {
    "duration": 12,
    "start_time": "2022-12-02T15:00:29.373Z"
   },
   {
    "duration": 7,
    "start_time": "2022-12-02T15:02:16.927Z"
   },
   {
    "duration": 237,
    "start_time": "2022-12-02T15:02:50.977Z"
   },
   {
    "duration": 136,
    "start_time": "2022-12-02T15:03:01.209Z"
   },
   {
    "duration": 386,
    "start_time": "2022-12-02T15:03:11.697Z"
   },
   {
    "duration": 254,
    "start_time": "2022-12-02T15:03:54.794Z"
   },
   {
    "duration": 339,
    "start_time": "2022-12-02T15:04:06.059Z"
   },
   {
    "duration": 242,
    "start_time": "2022-12-02T15:04:31.867Z"
   },
   {
    "duration": 239,
    "start_time": "2022-12-02T15:04:45.676Z"
   },
   {
    "duration": 240,
    "start_time": "2022-12-02T15:05:42.629Z"
   },
   {
    "duration": 383,
    "start_time": "2022-12-02T15:05:49.662Z"
   },
   {
    "duration": 230,
    "start_time": "2022-12-02T15:06:10.574Z"
   },
   {
    "duration": 265,
    "start_time": "2022-12-02T15:06:41.143Z"
   },
   {
    "duration": 269,
    "start_time": "2022-12-02T15:07:05.736Z"
   },
   {
    "duration": 222,
    "start_time": "2022-12-02T15:07:12.824Z"
   },
   {
    "duration": 3,
    "start_time": "2022-12-02T15:10:19.166Z"
   },
   {
    "duration": 58,
    "start_time": "2022-12-02T15:10:19.171Z"
   },
   {
    "duration": 14,
    "start_time": "2022-12-02T15:10:19.231Z"
   },
   {
    "duration": 16,
    "start_time": "2022-12-02T15:10:19.247Z"
   },
   {
    "duration": 4,
    "start_time": "2022-12-02T15:10:19.265Z"
   },
   {
    "duration": 9,
    "start_time": "2022-12-02T15:10:19.271Z"
   },
   {
    "duration": 30,
    "start_time": "2022-12-02T15:10:19.281Z"
   },
   {
    "duration": 130,
    "start_time": "2022-12-02T15:10:19.313Z"
   },
   {
    "duration": 8,
    "start_time": "2022-12-02T15:10:19.445Z"
   },
   {
    "duration": 7,
    "start_time": "2022-12-02T15:10:19.455Z"
   },
   {
    "duration": 4,
    "start_time": "2022-12-02T15:10:19.464Z"
   },
   {
    "duration": 31,
    "start_time": "2022-12-02T15:10:19.470Z"
   },
   {
    "duration": 238,
    "start_time": "2022-12-02T15:10:19.503Z"
   },
   {
    "duration": 273,
    "start_time": "2022-12-02T15:10:19.744Z"
   },
   {
    "duration": 9,
    "start_time": "2022-12-02T15:10:20.018Z"
   },
   {
    "duration": 6,
    "start_time": "2022-12-02T15:10:25.373Z"
   },
   {
    "duration": 11,
    "start_time": "2022-12-02T15:11:41.303Z"
   },
   {
    "duration": 233,
    "start_time": "2022-12-02T15:12:25.185Z"
   },
   {
    "duration": 46,
    "start_time": "2022-12-02T15:12:39.490Z"
   },
   {
    "duration": 232,
    "start_time": "2022-12-02T15:12:50.866Z"
   },
   {
    "duration": 262,
    "start_time": "2022-12-02T15:13:14.946Z"
   },
   {
    "duration": 240,
    "start_time": "2022-12-02T15:13:23.842Z"
   },
   {
    "duration": 114,
    "start_time": "2022-12-02T15:14:34.660Z"
   },
   {
    "duration": 104,
    "start_time": "2022-12-02T15:14:47.411Z"
   },
   {
    "duration": 112,
    "start_time": "2022-12-02T15:14:55.508Z"
   },
   {
    "duration": 139,
    "start_time": "2022-12-02T15:15:06.269Z"
   },
   {
    "duration": 9,
    "start_time": "2022-12-02T15:15:46.014Z"
   },
   {
    "duration": 5,
    "start_time": "2022-12-02T15:17:30.434Z"
   },
   {
    "duration": 5,
    "start_time": "2022-12-02T15:17:49.314Z"
   },
   {
    "duration": 6,
    "start_time": "2022-12-02T15:17:55.618Z"
   },
   {
    "duration": 6,
    "start_time": "2022-12-02T15:18:00.154Z"
   },
   {
    "duration": 6,
    "start_time": "2022-12-02T15:18:04.297Z"
   },
   {
    "duration": 9,
    "start_time": "2022-12-02T15:18:14.052Z"
   },
   {
    "duration": 6,
    "start_time": "2022-12-02T15:18:20.698Z"
   },
   {
    "duration": 5,
    "start_time": "2022-12-02T15:18:25.338Z"
   },
   {
    "duration": 11,
    "start_time": "2022-12-02T15:23:18.570Z"
   },
   {
    "duration": 11,
    "start_time": "2022-12-02T15:23:29.835Z"
   },
   {
    "duration": 11,
    "start_time": "2022-12-02T15:24:19.973Z"
   },
   {
    "duration": 222,
    "start_time": "2022-12-02T15:31:28.497Z"
   },
   {
    "duration": 245,
    "start_time": "2022-12-02T15:31:41.331Z"
   },
   {
    "duration": 422,
    "start_time": "2022-12-02T15:31:50.889Z"
   },
   {
    "duration": 244,
    "start_time": "2022-12-02T15:31:58.707Z"
   },
   {
    "duration": 168,
    "start_time": "2022-12-02T15:32:05.864Z"
   },
   {
    "duration": 117,
    "start_time": "2022-12-02T15:32:14.061Z"
   },
   {
    "duration": 129,
    "start_time": "2022-12-02T15:32:20.569Z"
   },
   {
    "duration": 245,
    "start_time": "2022-12-02T15:32:30.097Z"
   },
   {
    "duration": 124,
    "start_time": "2022-12-02T15:32:36.354Z"
   },
   {
    "duration": 107,
    "start_time": "2022-12-02T15:33:17.819Z"
   },
   {
    "duration": 9,
    "start_time": "2022-12-02T15:33:40.110Z"
   },
   {
    "duration": 6,
    "start_time": "2022-12-02T15:39:07.492Z"
   },
   {
    "duration": 10,
    "start_time": "2022-12-02T15:40:57.319Z"
   },
   {
    "duration": 138,
    "start_time": "2022-12-02T15:41:29.249Z"
   },
   {
    "duration": 140,
    "start_time": "2022-12-02T15:41:47.310Z"
   },
   {
    "duration": 5,
    "start_time": "2022-12-02T15:44:03.213Z"
   },
   {
    "duration": 5,
    "start_time": "2022-12-02T15:45:13.830Z"
   },
   {
    "duration": 6,
    "start_time": "2022-12-02T15:45:38.983Z"
   },
   {
    "duration": 5,
    "start_time": "2022-12-02T17:37:25.632Z"
   },
   {
    "duration": 5,
    "start_time": "2022-12-02T17:37:45.952Z"
   },
   {
    "duration": 5,
    "start_time": "2022-12-02T17:39:14.850Z"
   },
   {
    "duration": 5,
    "start_time": "2022-12-02T17:39:31.243Z"
   },
   {
    "duration": 5,
    "start_time": "2022-12-02T17:40:58.870Z"
   },
   {
    "duration": 5,
    "start_time": "2022-12-02T17:41:11.742Z"
   },
   {
    "duration": 5,
    "start_time": "2022-12-02T17:41:20.062Z"
   },
   {
    "duration": 6,
    "start_time": "2022-12-02T17:41:38.664Z"
   },
   {
    "duration": 6,
    "start_time": "2022-12-02T17:41:59.112Z"
   },
   {
    "duration": 25225,
    "start_time": "2022-12-02T17:46:24.774Z"
   },
   {
    "duration": 3,
    "start_time": "2022-12-02T17:46:55.671Z"
   },
   {
    "duration": 60,
    "start_time": "2022-12-02T17:46:55.676Z"
   },
   {
    "duration": 13,
    "start_time": "2022-12-02T17:46:55.737Z"
   },
   {
    "duration": 17,
    "start_time": "2022-12-02T17:46:55.751Z"
   },
   {
    "duration": 5,
    "start_time": "2022-12-02T17:46:55.771Z"
   },
   {
    "duration": 11,
    "start_time": "2022-12-02T17:46:55.777Z"
   },
   {
    "duration": 26,
    "start_time": "2022-12-02T17:46:55.790Z"
   },
   {
    "duration": 135,
    "start_time": "2022-12-02T17:46:55.818Z"
   },
   {
    "duration": 8,
    "start_time": "2022-12-02T17:46:55.955Z"
   },
   {
    "duration": 5,
    "start_time": "2022-12-02T17:46:55.964Z"
   },
   {
    "duration": 30,
    "start_time": "2022-12-02T17:46:55.971Z"
   },
   {
    "duration": 284,
    "start_time": "2022-12-02T17:46:56.003Z"
   },
   {
    "duration": 149,
    "start_time": "2022-12-02T17:46:56.289Z"
   },
   {
    "duration": 9,
    "start_time": "2022-12-02T17:46:56.442Z"
   },
   {
    "duration": 16,
    "start_time": "2022-12-02T17:46:56.454Z"
   },
   {
    "duration": 12,
    "start_time": "2022-12-02T17:46:56.471Z"
   },
   {
    "duration": 256,
    "start_time": "2022-12-02T17:46:56.485Z"
   },
   {
    "duration": 123,
    "start_time": "2022-12-02T17:46:56.743Z"
   },
   {
    "duration": 9,
    "start_time": "2022-12-02T17:46:56.867Z"
   },
   {
    "duration": 23,
    "start_time": "2022-12-02T17:46:56.877Z"
   },
   {
    "duration": 22,
    "start_time": "2022-12-02T17:46:56.902Z"
   },
   {
    "duration": 145,
    "start_time": "2022-12-02T17:46:56.925Z"
   },
   {
    "duration": 116,
    "start_time": "2022-12-02T17:46:57.072Z"
   },
   {
    "duration": 9,
    "start_time": "2022-12-02T17:46:57.196Z"
   },
   {
    "duration": 5,
    "start_time": "2022-12-02T17:46:57.206Z"
   },
   {
    "duration": 21,
    "start_time": "2022-12-02T17:46:57.212Z"
   },
   {
    "duration": 172,
    "start_time": "2022-12-02T17:46:57.234Z"
   },
   {
    "duration": 26512,
    "start_time": "2022-12-02T17:47:36.863Z"
   },
   {
    "duration": 52,
    "start_time": "2022-12-02T17:49:41.711Z"
   },
   {
    "duration": 1205,
    "start_time": "2022-12-02T17:50:29.053Z"
   },
   {
    "duration": 781,
    "start_time": "2022-12-02T17:52:15.785Z"
   },
   {
    "duration": 6,
    "start_time": "2022-12-02T17:52:25.664Z"
   },
   {
    "duration": 93,
    "start_time": "2022-12-02T17:53:53.308Z"
   },
   {
    "duration": 7,
    "start_time": "2022-12-02T17:54:48.510Z"
   },
   {
    "duration": 5,
    "start_time": "2022-12-02T17:55:52.854Z"
   },
   {
    "duration": 9,
    "start_time": "2022-12-02T17:57:29.928Z"
   },
   {
    "duration": 5,
    "start_time": "2022-12-02T17:59:23.627Z"
   },
   {
    "duration": 6,
    "start_time": "2022-12-02T18:00:23.180Z"
   },
   {
    "duration": 22,
    "start_time": "2022-12-02T18:01:57.304Z"
   },
   {
    "duration": 9,
    "start_time": "2022-12-02T18:03:10.666Z"
   },
   {
    "duration": 6,
    "start_time": "2022-12-02T18:08:12.073Z"
   },
   {
    "duration": 3,
    "start_time": "2022-12-02T18:08:30.401Z"
   },
   {
    "duration": 69,
    "start_time": "2022-12-02T18:08:30.406Z"
   },
   {
    "duration": 17,
    "start_time": "2022-12-02T18:08:30.476Z"
   },
   {
    "duration": 22,
    "start_time": "2022-12-02T18:08:30.495Z"
   },
   {
    "duration": 23,
    "start_time": "2022-12-02T18:08:30.519Z"
   },
   {
    "duration": 15,
    "start_time": "2022-12-02T18:08:30.543Z"
   },
   {
    "duration": 24,
    "start_time": "2022-12-02T18:08:30.560Z"
   },
   {
    "duration": 126,
    "start_time": "2022-12-02T18:08:30.586Z"
   },
   {
    "duration": 9,
    "start_time": "2022-12-02T18:08:30.714Z"
   },
   {
    "duration": 13,
    "start_time": "2022-12-02T18:08:30.725Z"
   },
   {
    "duration": 12,
    "start_time": "2022-12-02T18:08:30.740Z"
   },
   {
    "duration": 263,
    "start_time": "2022-12-02T18:08:30.754Z"
   },
   {
    "duration": 134,
    "start_time": "2022-12-02T18:08:31.019Z"
   },
   {
    "duration": 8,
    "start_time": "2022-12-02T18:08:31.155Z"
   },
   {
    "duration": 26,
    "start_time": "2022-12-02T18:08:31.165Z"
   },
   {
    "duration": 55,
    "start_time": "2022-12-02T18:08:31.192Z"
   },
   {
    "duration": 258,
    "start_time": "2022-12-02T18:08:31.249Z"
   },
   {
    "duration": 129,
    "start_time": "2022-12-02T18:08:31.509Z"
   },
   {
    "duration": 8,
    "start_time": "2022-12-02T18:08:31.640Z"
   },
   {
    "duration": 11,
    "start_time": "2022-12-02T18:08:31.650Z"
   },
   {
    "duration": 33,
    "start_time": "2022-12-02T18:08:31.663Z"
   },
   {
    "duration": 142,
    "start_time": "2022-12-02T18:08:31.698Z"
   },
   {
    "duration": 126,
    "start_time": "2022-12-02T18:08:31.842Z"
   },
   {
    "duration": 10,
    "start_time": "2022-12-02T18:08:31.970Z"
   },
   {
    "duration": 19,
    "start_time": "2022-12-02T18:08:31.981Z"
   },
   {
    "duration": 31,
    "start_time": "2022-12-02T18:08:32.002Z"
   },
   {
    "duration": 199,
    "start_time": "2022-12-02T18:08:32.035Z"
   },
   {
    "duration": 6,
    "start_time": "2022-12-02T18:08:32.236Z"
   },
   {
    "duration": 19,
    "start_time": "2022-12-02T18:08:32.244Z"
   },
   {
    "duration": 35,
    "start_time": "2022-12-02T18:08:32.265Z"
   },
   {
    "duration": 11,
    "start_time": "2022-12-02T18:08:32.303Z"
   },
   {
    "duration": 12,
    "start_time": "2022-12-02T18:09:00.267Z"
   },
   {
    "duration": 3,
    "start_time": "2022-12-02T18:09:22.630Z"
   },
   {
    "duration": 66,
    "start_time": "2022-12-02T18:09:22.635Z"
   },
   {
    "duration": 15,
    "start_time": "2022-12-02T18:09:22.703Z"
   },
   {
    "duration": 18,
    "start_time": "2022-12-02T18:09:22.720Z"
   },
   {
    "duration": 6,
    "start_time": "2022-12-02T18:09:22.740Z"
   },
   {
    "duration": 10,
    "start_time": "2022-12-02T18:09:22.748Z"
   },
   {
    "duration": 44,
    "start_time": "2022-12-02T18:09:22.760Z"
   },
   {
    "duration": 179,
    "start_time": "2022-12-02T18:09:22.806Z"
   },
   {
    "duration": 16,
    "start_time": "2022-12-02T18:09:22.987Z"
   },
   {
    "duration": 9,
    "start_time": "2022-12-02T18:09:23.004Z"
   },
   {
    "duration": 19,
    "start_time": "2022-12-02T18:09:23.015Z"
   },
   {
    "duration": 270,
    "start_time": "2022-12-02T18:09:23.036Z"
   },
   {
    "duration": 139,
    "start_time": "2022-12-02T18:09:23.307Z"
   },
   {
    "duration": 9,
    "start_time": "2022-12-02T18:09:23.449Z"
   },
   {
    "duration": 8,
    "start_time": "2022-12-02T18:09:23.460Z"
   },
   {
    "duration": 30,
    "start_time": "2022-12-02T18:09:23.469Z"
   },
   {
    "duration": 253,
    "start_time": "2022-12-02T18:09:23.501Z"
   },
   {
    "duration": 116,
    "start_time": "2022-12-02T18:09:23.756Z"
   },
   {
    "duration": 25,
    "start_time": "2022-12-02T18:09:23.873Z"
   },
   {
    "duration": 7,
    "start_time": "2022-12-02T18:09:23.900Z"
   },
   {
    "duration": 29,
    "start_time": "2022-12-02T18:09:23.909Z"
   },
   {
    "duration": 170,
    "start_time": "2022-12-02T18:09:23.940Z"
   },
   {
    "duration": 123,
    "start_time": "2022-12-02T18:09:24.113Z"
   },
   {
    "duration": 10,
    "start_time": "2022-12-02T18:09:24.238Z"
   },
   {
    "duration": 41,
    "start_time": "2022-12-02T18:09:24.250Z"
   },
   {
    "duration": 25,
    "start_time": "2022-12-02T18:09:24.293Z"
   },
   {
    "duration": 199,
    "start_time": "2022-12-02T18:09:24.321Z"
   },
   {
    "duration": 5,
    "start_time": "2022-12-02T18:09:24.521Z"
   },
   {
    "duration": 5,
    "start_time": "2022-12-02T18:09:27.354Z"
   },
   {
    "duration": 4,
    "start_time": "2022-12-02T18:09:49.406Z"
   },
   {
    "duration": 8,
    "start_time": "2022-12-02T18:11:15.165Z"
   },
   {
    "duration": 3,
    "start_time": "2022-12-02T18:11:52.453Z"
   },
   {
    "duration": 70,
    "start_time": "2022-12-02T18:11:52.458Z"
   },
   {
    "duration": 16,
    "start_time": "2022-12-02T18:11:52.531Z"
   },
   {
    "duration": 15,
    "start_time": "2022-12-02T18:11:52.549Z"
   },
   {
    "duration": 5,
    "start_time": "2022-12-02T18:11:52.566Z"
   },
   {
    "duration": 24,
    "start_time": "2022-12-02T18:11:52.572Z"
   },
   {
    "duration": 25,
    "start_time": "2022-12-02T18:11:52.598Z"
   },
   {
    "duration": 133,
    "start_time": "2022-12-02T18:11:52.625Z"
   },
   {
    "duration": 10,
    "start_time": "2022-12-02T18:11:52.761Z"
   },
   {
    "duration": 26,
    "start_time": "2022-12-02T18:11:52.773Z"
   },
   {
    "duration": 30,
    "start_time": "2022-12-02T18:11:52.801Z"
   },
   {
    "duration": 223,
    "start_time": "2022-12-02T18:11:52.833Z"
   },
   {
    "duration": 120,
    "start_time": "2022-12-02T18:11:53.058Z"
   },
   {
    "duration": 23,
    "start_time": "2022-12-02T18:11:53.180Z"
   },
   {
    "duration": 10,
    "start_time": "2022-12-02T18:11:53.205Z"
   },
   {
    "duration": 13,
    "start_time": "2022-12-02T18:11:53.216Z"
   },
   {
    "duration": 251,
    "start_time": "2022-12-02T18:11:53.230Z"
   },
   {
    "duration": 127,
    "start_time": "2022-12-02T18:11:53.483Z"
   },
   {
    "duration": 10,
    "start_time": "2022-12-02T18:11:53.612Z"
   },
   {
    "duration": 6,
    "start_time": "2022-12-02T18:11:53.624Z"
   },
   {
    "duration": 13,
    "start_time": "2022-12-02T18:11:53.632Z"
   },
   {
    "duration": 441,
    "start_time": "2022-12-02T18:11:53.647Z"
   },
   {
    "duration": 121,
    "start_time": "2022-12-02T18:11:54.097Z"
   },
   {
    "duration": 8,
    "start_time": "2022-12-02T18:11:54.219Z"
   },
   {
    "duration": 7,
    "start_time": "2022-12-02T18:11:54.228Z"
   },
   {
    "duration": 11,
    "start_time": "2022-12-02T18:11:54.237Z"
   },
   {
    "duration": 172,
    "start_time": "2022-12-02T18:11:54.249Z"
   },
   {
    "duration": 4,
    "start_time": "2022-12-02T18:11:54.423Z"
   },
   {
    "duration": 13,
    "start_time": "2022-12-02T18:11:54.429Z"
   },
   {
    "duration": 14,
    "start_time": "2022-12-02T18:11:54.444Z"
   },
   {
    "duration": 5,
    "start_time": "2022-12-02T18:11:54.459Z"
   },
   {
    "duration": 36,
    "start_time": "2022-12-02T18:11:54.466Z"
   },
   {
    "duration": 4,
    "start_time": "2022-12-02T18:14:19.572Z"
   },
   {
    "duration": 875,
    "start_time": "2022-12-02T21:13:32.305Z"
   },
   {
    "duration": 123,
    "start_time": "2022-12-02T21:13:33.182Z"
   },
   {
    "duration": 17,
    "start_time": "2022-12-02T21:13:33.307Z"
   },
   {
    "duration": 17,
    "start_time": "2022-12-02T21:13:33.326Z"
   },
   {
    "duration": 4,
    "start_time": "2022-12-02T21:13:33.346Z"
   },
   {
    "duration": 11,
    "start_time": "2022-12-02T21:13:33.352Z"
   },
   {
    "duration": 30,
    "start_time": "2022-12-02T21:13:33.364Z"
   },
   {
    "duration": 145,
    "start_time": "2022-12-02T21:13:33.396Z"
   },
   {
    "duration": 10,
    "start_time": "2022-12-02T21:13:33.543Z"
   },
   {
    "duration": 15,
    "start_time": "2022-12-02T21:13:33.555Z"
   },
   {
    "duration": 16,
    "start_time": "2022-12-02T21:13:33.572Z"
   },
   {
    "duration": 265,
    "start_time": "2022-12-02T21:13:33.589Z"
   },
   {
    "duration": 133,
    "start_time": "2022-12-02T21:13:33.856Z"
   },
   {
    "duration": 9,
    "start_time": "2022-12-02T21:13:33.993Z"
   },
   {
    "duration": 21,
    "start_time": "2022-12-02T21:13:34.004Z"
   },
   {
    "duration": 18,
    "start_time": "2022-12-02T21:13:34.027Z"
   },
   {
    "duration": 305,
    "start_time": "2022-12-02T21:13:34.047Z"
   },
   {
    "duration": 123,
    "start_time": "2022-12-02T21:13:34.353Z"
   },
   {
    "duration": 9,
    "start_time": "2022-12-02T21:13:34.478Z"
   },
   {
    "duration": 17,
    "start_time": "2022-12-02T21:13:34.490Z"
   },
   {
    "duration": 37,
    "start_time": "2022-12-02T21:13:34.508Z"
   },
   {
    "duration": 168,
    "start_time": "2022-12-02T21:13:34.547Z"
   },
   {
    "duration": 122,
    "start_time": "2022-12-02T21:13:34.717Z"
   },
   {
    "duration": 9,
    "start_time": "2022-12-02T21:13:34.841Z"
   },
   {
    "duration": 6,
    "start_time": "2022-12-02T21:13:34.851Z"
   },
   {
    "duration": 15,
    "start_time": "2022-12-02T21:13:34.858Z"
   },
   {
    "duration": 169,
    "start_time": "2022-12-02T21:13:34.875Z"
   },
   {
    "duration": 5,
    "start_time": "2022-12-02T21:13:35.046Z"
   },
   {
    "duration": 18,
    "start_time": "2022-12-02T21:13:35.052Z"
   },
   {
    "duration": 21,
    "start_time": "2022-12-02T21:13:35.072Z"
   },
   {
    "duration": 4,
    "start_time": "2022-12-02T21:13:35.095Z"
   },
   {
    "duration": 7,
    "start_time": "2022-12-02T21:13:35.101Z"
   },
   {
    "duration": 47,
    "start_time": "2022-12-02T21:17:53.697Z"
   },
   {
    "duration": 6,
    "start_time": "2022-12-02T21:17:59.908Z"
   },
   {
    "duration": 3,
    "start_time": "2022-12-02T21:18:08.905Z"
   },
   {
    "duration": 64,
    "start_time": "2022-12-02T21:18:08.909Z"
   },
   {
    "duration": 12,
    "start_time": "2022-12-02T21:18:08.975Z"
   },
   {
    "duration": 15,
    "start_time": "2022-12-02T21:18:08.988Z"
   },
   {
    "duration": 9,
    "start_time": "2022-12-02T21:18:09.005Z"
   },
   {
    "duration": 8,
    "start_time": "2022-12-02T21:18:09.016Z"
   },
   {
    "duration": 28,
    "start_time": "2022-12-02T21:18:09.025Z"
   },
   {
    "duration": 129,
    "start_time": "2022-12-02T21:18:09.055Z"
   },
   {
    "duration": 9,
    "start_time": "2022-12-02T21:18:09.185Z"
   },
   {
    "duration": 8,
    "start_time": "2022-12-02T21:18:09.195Z"
   },
   {
    "duration": 10,
    "start_time": "2022-12-02T21:18:09.205Z"
   },
   {
    "duration": 252,
    "start_time": "2022-12-02T21:18:09.216Z"
   },
   {
    "duration": 125,
    "start_time": "2022-12-02T21:18:09.471Z"
   },
   {
    "duration": 9,
    "start_time": "2022-12-02T21:18:09.599Z"
   },
   {
    "duration": 15,
    "start_time": "2022-12-02T21:18:09.610Z"
   },
   {
    "duration": 20,
    "start_time": "2022-12-02T21:18:09.634Z"
   },
   {
    "duration": 314,
    "start_time": "2022-12-02T21:18:09.656Z"
   },
   {
    "duration": 115,
    "start_time": "2022-12-02T21:18:09.972Z"
   },
   {
    "duration": 8,
    "start_time": "2022-12-02T21:18:10.088Z"
   },
   {
    "duration": 6,
    "start_time": "2022-12-02T21:18:10.097Z"
   },
   {
    "duration": 21,
    "start_time": "2022-12-02T21:18:10.104Z"
   },
   {
    "duration": 135,
    "start_time": "2022-12-02T21:18:10.136Z"
   },
   {
    "duration": 109,
    "start_time": "2022-12-02T21:18:10.272Z"
   },
   {
    "duration": 8,
    "start_time": "2022-12-02T21:18:10.382Z"
   },
   {
    "duration": 5,
    "start_time": "2022-12-02T21:18:10.391Z"
   },
   {
    "duration": 9,
    "start_time": "2022-12-02T21:18:10.398Z"
   },
   {
    "duration": 167,
    "start_time": "2022-12-02T21:18:10.408Z"
   },
   {
    "duration": 4,
    "start_time": "2022-12-02T21:18:10.577Z"
   },
   {
    "duration": 12,
    "start_time": "2022-12-02T21:18:10.583Z"
   },
   {
    "duration": 14,
    "start_time": "2022-12-02T21:18:10.597Z"
   },
   {
    "duration": 26,
    "start_time": "2022-12-02T21:18:10.613Z"
   },
   {
    "duration": 37,
    "start_time": "2022-12-02T21:18:10.641Z"
   },
   {
    "duration": 4,
    "start_time": "2022-12-02T21:19:05.902Z"
   },
   {
    "duration": 73,
    "start_time": "2022-12-02T21:19:05.908Z"
   },
   {
    "duration": 15,
    "start_time": "2022-12-02T21:19:05.982Z"
   },
   {
    "duration": 15,
    "start_time": "2022-12-02T21:19:05.999Z"
   },
   {
    "duration": 6,
    "start_time": "2022-12-02T21:19:06.016Z"
   },
   {
    "duration": 33,
    "start_time": "2022-12-02T21:19:06.023Z"
   },
   {
    "duration": 18,
    "start_time": "2022-12-02T21:19:06.057Z"
   },
   {
    "duration": 120,
    "start_time": "2022-12-02T21:19:06.076Z"
   },
   {
    "duration": 10,
    "start_time": "2022-12-02T21:19:06.198Z"
   },
   {
    "duration": 12,
    "start_time": "2022-12-02T21:19:06.212Z"
   },
   {
    "duration": 32,
    "start_time": "2022-12-02T21:19:06.235Z"
   },
   {
    "duration": 233,
    "start_time": "2022-12-02T21:19:06.269Z"
   },
   {
    "duration": 124,
    "start_time": "2022-12-02T21:19:06.503Z"
   },
   {
    "duration": 14,
    "start_time": "2022-12-02T21:19:06.647Z"
   },
   {
    "duration": 15,
    "start_time": "2022-12-02T21:19:06.665Z"
   },
   {
    "duration": 13,
    "start_time": "2022-12-02T21:19:06.682Z"
   },
   {
    "duration": 286,
    "start_time": "2022-12-02T21:19:06.697Z"
   },
   {
    "duration": 213,
    "start_time": "2022-12-02T21:19:06.985Z"
   },
   {
    "duration": 8,
    "start_time": "2022-12-02T21:19:07.199Z"
   },
   {
    "duration": 4,
    "start_time": "2022-12-02T21:19:07.209Z"
   },
   {
    "duration": 33,
    "start_time": "2022-12-02T21:19:07.215Z"
   },
   {
    "duration": 153,
    "start_time": "2022-12-02T21:19:07.249Z"
   },
   {
    "duration": 123,
    "start_time": "2022-12-02T21:19:07.403Z"
   },
   {
    "duration": 16,
    "start_time": "2022-12-02T21:19:07.528Z"
   },
   {
    "duration": 6,
    "start_time": "2022-12-02T21:19:07.546Z"
   },
   {
    "duration": 9,
    "start_time": "2022-12-02T21:19:07.554Z"
   },
   {
    "duration": 165,
    "start_time": "2022-12-02T21:19:07.565Z"
   },
   {
    "duration": 6,
    "start_time": "2022-12-02T21:19:07.735Z"
   },
   {
    "duration": 22,
    "start_time": "2022-12-02T21:19:07.743Z"
   },
   {
    "duration": 17,
    "start_time": "2022-12-02T21:19:07.766Z"
   },
   {
    "duration": 12,
    "start_time": "2022-12-02T21:19:07.785Z"
   },
   {
    "duration": 12,
    "start_time": "2022-12-02T21:19:07.799Z"
   },
   {
    "duration": 104,
    "start_time": "2022-12-02T21:20:38.176Z"
   },
   {
    "duration": 103,
    "start_time": "2022-12-02T21:21:34.377Z"
   },
   {
    "duration": 6,
    "start_time": "2022-12-02T21:22:16.099Z"
   },
   {
    "duration": 5,
    "start_time": "2022-12-02T21:22:22.058Z"
   },
   {
    "duration": 3,
    "start_time": "2022-12-02T21:22:29.257Z"
   },
   {
    "duration": 69,
    "start_time": "2022-12-02T21:22:29.263Z"
   },
   {
    "duration": 15,
    "start_time": "2022-12-02T21:22:29.335Z"
   },
   {
    "duration": 17,
    "start_time": "2022-12-02T21:22:29.352Z"
   },
   {
    "duration": 6,
    "start_time": "2022-12-02T21:22:29.372Z"
   },
   {
    "duration": 24,
    "start_time": "2022-12-02T21:22:29.379Z"
   },
   {
    "duration": 35,
    "start_time": "2022-12-02T21:22:29.405Z"
   },
   {
    "duration": 123,
    "start_time": "2022-12-02T21:22:29.442Z"
   },
   {
    "duration": 8,
    "start_time": "2022-12-02T21:22:29.567Z"
   },
   {
    "duration": 8,
    "start_time": "2022-12-02T21:22:29.577Z"
   },
   {
    "duration": 12,
    "start_time": "2022-12-02T21:22:29.586Z"
   },
   {
    "duration": 252,
    "start_time": "2022-12-02T21:22:29.600Z"
   },
   {
    "duration": 113,
    "start_time": "2022-12-02T21:22:29.854Z"
   },
   {
    "duration": 7,
    "start_time": "2022-12-02T21:22:29.970Z"
   },
   {
    "duration": 6,
    "start_time": "2022-12-02T21:22:34.906Z"
   },
   {
    "duration": 6,
    "start_time": "2022-12-02T21:23:21.956Z"
   },
   {
    "duration": 11,
    "start_time": "2022-12-02T21:23:42.852Z"
   },
   {
    "duration": 10,
    "start_time": "2022-12-02T21:24:14.884Z"
   },
   {
    "duration": 3,
    "start_time": "2022-12-02T21:24:50.720Z"
   },
   {
    "duration": 108,
    "start_time": "2022-12-02T21:24:50.725Z"
   },
   {
    "duration": 15,
    "start_time": "2022-12-02T21:24:50.835Z"
   },
   {
    "duration": 18,
    "start_time": "2022-12-02T21:24:50.852Z"
   },
   {
    "duration": 6,
    "start_time": "2022-12-02T21:24:50.872Z"
   },
   {
    "duration": 13,
    "start_time": "2022-12-02T21:24:50.880Z"
   },
   {
    "duration": 41,
    "start_time": "2022-12-02T21:24:50.895Z"
   },
   {
    "duration": 128,
    "start_time": "2022-12-02T21:24:50.938Z"
   },
   {
    "duration": 9,
    "start_time": "2022-12-02T21:24:51.069Z"
   },
   {
    "duration": 6,
    "start_time": "2022-12-02T21:24:51.080Z"
   },
   {
    "duration": 37,
    "start_time": "2022-12-02T21:24:51.089Z"
   },
   {
    "duration": 350,
    "start_time": "2022-12-02T21:24:51.128Z"
   },
   {
    "duration": 119,
    "start_time": "2022-12-02T21:24:51.480Z"
   },
   {
    "duration": 10,
    "start_time": "2022-12-02T21:24:51.601Z"
   },
   {
    "duration": 27,
    "start_time": "2022-12-02T21:24:51.613Z"
   },
   {
    "duration": 23,
    "start_time": "2022-12-02T21:24:51.642Z"
   },
   {
    "duration": 272,
    "start_time": "2022-12-02T21:24:51.666Z"
   },
   {
    "duration": 130,
    "start_time": "2022-12-02T21:24:51.940Z"
   },
   {
    "duration": 9,
    "start_time": "2022-12-02T21:24:52.071Z"
   },
   {
    "duration": 21,
    "start_time": "2022-12-02T21:24:52.081Z"
   },
   {
    "duration": 16,
    "start_time": "2022-12-02T21:24:52.104Z"
   },
   {
    "duration": 139,
    "start_time": "2022-12-02T21:24:52.121Z"
   },
   {
    "duration": 115,
    "start_time": "2022-12-02T21:24:52.262Z"
   },
   {
    "duration": 17,
    "start_time": "2022-12-02T21:24:52.379Z"
   },
   {
    "duration": 14,
    "start_time": "2022-12-02T21:24:52.398Z"
   },
   {
    "duration": 29,
    "start_time": "2022-12-02T21:24:52.414Z"
   },
   {
    "duration": 204,
    "start_time": "2022-12-02T21:24:52.445Z"
   },
   {
    "duration": 6,
    "start_time": "2022-12-02T21:24:52.652Z"
   },
   {
    "duration": 31,
    "start_time": "2022-12-02T21:24:52.662Z"
   },
   {
    "duration": 20,
    "start_time": "2022-12-02T21:24:52.695Z"
   },
   {
    "duration": 5,
    "start_time": "2022-12-02T21:24:52.717Z"
   },
   {
    "duration": 13,
    "start_time": "2022-12-02T21:24:52.724Z"
   },
   {
    "duration": 4,
    "start_time": "2022-12-02T21:30:37.120Z"
   },
   {
    "duration": 6,
    "start_time": "2022-12-02T21:30:39.607Z"
   },
   {
    "duration": 8,
    "start_time": "2022-12-02T21:34:02.957Z"
   },
   {
    "duration": 7,
    "start_time": "2022-12-02T21:34:05.284Z"
   },
   {
    "duration": 16,
    "start_time": "2022-12-02T21:34:55.342Z"
   },
   {
    "duration": 6,
    "start_time": "2022-12-02T21:34:57.654Z"
   },
   {
    "duration": 15,
    "start_time": "2022-12-02T21:35:26.367Z"
   },
   {
    "duration": 6,
    "start_time": "2022-12-02T21:50:58.327Z"
   },
   {
    "duration": 6,
    "start_time": "2022-12-02T21:52:10.306Z"
   },
   {
    "duration": 91,
    "start_time": "2022-12-02T22:05:44.657Z"
   },
   {
    "duration": 2,
    "start_time": "2022-12-02T22:06:38.465Z"
   },
   {
    "duration": 71,
    "start_time": "2022-12-02T22:06:38.470Z"
   },
   {
    "duration": 13,
    "start_time": "2022-12-02T22:06:38.543Z"
   },
   {
    "duration": 25,
    "start_time": "2022-12-02T22:06:38.558Z"
   },
   {
    "duration": 6,
    "start_time": "2022-12-02T22:06:38.586Z"
   },
   {
    "duration": 17,
    "start_time": "2022-12-02T22:06:38.593Z"
   },
   {
    "duration": 26,
    "start_time": "2022-12-02T22:06:38.612Z"
   },
   {
    "duration": 172,
    "start_time": "2022-12-02T22:06:38.640Z"
   },
   {
    "duration": 8,
    "start_time": "2022-12-02T22:06:38.814Z"
   },
   {
    "duration": 13,
    "start_time": "2022-12-02T22:06:38.824Z"
   },
   {
    "duration": 18,
    "start_time": "2022-12-02T22:06:38.839Z"
   },
   {
    "duration": 233,
    "start_time": "2022-12-02T22:06:38.858Z"
   },
   {
    "duration": 119,
    "start_time": "2022-12-02T22:06:39.093Z"
   },
   {
    "duration": 24,
    "start_time": "2022-12-02T22:06:39.215Z"
   },
   {
    "duration": 6,
    "start_time": "2022-12-02T22:06:39.241Z"
   },
   {
    "duration": 20,
    "start_time": "2022-12-02T22:06:39.249Z"
   },
   {
    "duration": 372,
    "start_time": "2022-12-02T22:06:39.271Z"
   },
   {
    "duration": 133,
    "start_time": "2022-12-02T22:06:39.646Z"
   },
   {
    "duration": 9,
    "start_time": "2022-12-02T22:06:39.781Z"
   },
   {
    "duration": 11,
    "start_time": "2022-12-02T22:06:39.792Z"
   },
   {
    "duration": 18,
    "start_time": "2022-12-02T22:06:39.805Z"
   },
   {
    "duration": 139,
    "start_time": "2022-12-02T22:06:39.824Z"
   },
   {
    "duration": 121,
    "start_time": "2022-12-02T22:06:39.965Z"
   },
   {
    "duration": 10,
    "start_time": "2022-12-02T22:06:40.087Z"
   },
   {
    "duration": 6,
    "start_time": "2022-12-02T22:06:40.098Z"
   },
   {
    "duration": 32,
    "start_time": "2022-12-02T22:06:40.106Z"
   },
   {
    "duration": 177,
    "start_time": "2022-12-02T22:06:40.140Z"
   },
   {
    "duration": 6,
    "start_time": "2022-12-02T22:06:40.318Z"
   },
   {
    "duration": 14,
    "start_time": "2022-12-02T22:06:40.334Z"
   },
   {
    "duration": 17,
    "start_time": "2022-12-02T22:06:40.349Z"
   },
   {
    "duration": 6,
    "start_time": "2022-12-02T22:06:40.367Z"
   },
   {
    "duration": 24,
    "start_time": "2022-12-02T22:06:40.374Z"
   },
   {
    "duration": 4,
    "start_time": "2022-12-02T22:06:40.399Z"
   },
   {
    "duration": 32,
    "start_time": "2022-12-02T22:06:40.405Z"
   },
   {
    "duration": 16,
    "start_time": "2022-12-02T22:06:40.439Z"
   },
   {
    "duration": 11,
    "start_time": "2022-12-02T22:16:25.654Z"
   },
   {
    "duration": 34,
    "start_time": "2022-12-02T22:16:38.151Z"
   },
   {
    "duration": 13,
    "start_time": "2022-12-02T22:17:52.878Z"
   },
   {
    "duration": 9,
    "start_time": "2022-12-02T22:30:41.674Z"
   },
   {
    "duration": 17,
    "start_time": "2022-12-02T22:30:56.194Z"
   },
   {
    "duration": 9,
    "start_time": "2022-12-02T22:33:59.935Z"
   },
   {
    "duration": 7,
    "start_time": "2022-12-02T22:34:09.879Z"
   },
   {
    "duration": 3,
    "start_time": "2022-12-02T22:39:19.031Z"
   },
   {
    "duration": 2,
    "start_time": "2022-12-02T22:39:21.087Z"
   },
   {
    "duration": 719,
    "start_time": "2022-12-03T11:54:32.125Z"
   },
   {
    "duration": 110,
    "start_time": "2022-12-03T11:54:32.846Z"
   },
   {
    "duration": 14,
    "start_time": "2022-12-03T11:54:32.958Z"
   },
   {
    "duration": 21,
    "start_time": "2022-12-03T11:54:32.974Z"
   },
   {
    "duration": 25,
    "start_time": "2022-12-03T11:54:32.996Z"
   },
   {
    "duration": 20,
    "start_time": "2022-12-03T11:54:33.022Z"
   },
   {
    "duration": 20,
    "start_time": "2022-12-03T11:54:33.044Z"
   },
   {
    "duration": 133,
    "start_time": "2022-12-03T11:54:33.066Z"
   },
   {
    "duration": 14,
    "start_time": "2022-12-03T11:54:33.200Z"
   },
   {
    "duration": 77,
    "start_time": "2022-12-03T11:54:33.218Z"
   },
   {
    "duration": 16,
    "start_time": "2022-12-03T11:54:33.297Z"
   },
   {
    "duration": 202,
    "start_time": "2022-12-03T11:54:33.315Z"
   },
   {
    "duration": 147,
    "start_time": "2022-12-03T11:54:33.518Z"
   },
   {
    "duration": 16,
    "start_time": "2022-12-03T11:54:33.667Z"
   },
   {
    "duration": 34,
    "start_time": "2022-12-03T11:54:33.685Z"
   },
   {
    "duration": 35,
    "start_time": "2022-12-03T11:54:33.721Z"
   },
   {
    "duration": 235,
    "start_time": "2022-12-03T11:54:33.757Z"
   },
   {
    "duration": 115,
    "start_time": "2022-12-03T11:54:33.994Z"
   },
   {
    "duration": 7,
    "start_time": "2022-12-03T11:54:34.111Z"
   },
   {
    "duration": 5,
    "start_time": "2022-12-03T11:54:34.120Z"
   },
   {
    "duration": 12,
    "start_time": "2022-12-03T11:54:34.126Z"
   },
   {
    "duration": 185,
    "start_time": "2022-12-03T11:54:34.139Z"
   },
   {
    "duration": 127,
    "start_time": "2022-12-03T11:54:34.326Z"
   },
   {
    "duration": 33,
    "start_time": "2022-12-03T11:54:34.454Z"
   },
   {
    "duration": 6,
    "start_time": "2022-12-03T11:54:34.489Z"
   },
   {
    "duration": 18,
    "start_time": "2022-12-03T11:54:34.496Z"
   },
   {
    "duration": 154,
    "start_time": "2022-12-03T11:54:34.516Z"
   },
   {
    "duration": 5,
    "start_time": "2022-12-03T11:54:34.676Z"
   },
   {
    "duration": 14,
    "start_time": "2022-12-03T11:54:34.688Z"
   },
   {
    "duration": 15,
    "start_time": "2022-12-03T11:54:34.703Z"
   },
   {
    "duration": 5,
    "start_time": "2022-12-03T11:54:34.720Z"
   },
   {
    "duration": 22,
    "start_time": "2022-12-03T11:54:34.726Z"
   },
   {
    "duration": 4,
    "start_time": "2022-12-03T11:54:34.749Z"
   },
   {
    "duration": 31,
    "start_time": "2022-12-03T11:54:34.754Z"
   },
   {
    "duration": 10,
    "start_time": "2022-12-03T11:54:34.793Z"
   },
   {
    "duration": 10,
    "start_time": "2022-12-03T12:00:01.352Z"
   },
   {
    "duration": 17,
    "start_time": "2022-12-03T12:00:07.886Z"
   },
   {
    "duration": 13,
    "start_time": "2022-12-03T12:02:07.791Z"
   },
   {
    "duration": 13,
    "start_time": "2022-12-03T12:06:18.160Z"
   },
   {
    "duration": 128,
    "start_time": "2022-12-03T12:08:30.499Z"
   },
   {
    "duration": 80,
    "start_time": "2022-12-03T12:09:13.733Z"
   },
   {
    "duration": 8,
    "start_time": "2022-12-03T12:09:20.549Z"
   },
   {
    "duration": 130,
    "start_time": "2022-12-03T12:34:52.440Z"
   },
   {
    "duration": 667,
    "start_time": "2022-12-03T12:35:37.399Z"
   },
   {
    "duration": 157,
    "start_time": "2022-12-03T12:35:59.975Z"
   },
   {
    "duration": 810,
    "start_time": "2022-12-03T19:15:25.044Z"
   },
   {
    "duration": 131,
    "start_time": "2022-12-03T19:15:25.857Z"
   },
   {
    "duration": 16,
    "start_time": "2022-12-03T19:15:25.990Z"
   },
   {
    "duration": 48,
    "start_time": "2022-12-03T19:15:26.007Z"
   },
   {
    "duration": 5,
    "start_time": "2022-12-03T19:15:26.057Z"
   },
   {
    "duration": 9,
    "start_time": "2022-12-03T19:15:26.064Z"
   },
   {
    "duration": 19,
    "start_time": "2022-12-03T19:15:26.074Z"
   },
   {
    "duration": 148,
    "start_time": "2022-12-03T19:15:26.094Z"
   },
   {
    "duration": 12,
    "start_time": "2022-12-03T19:15:26.244Z"
   },
   {
    "duration": 5,
    "start_time": "2022-12-03T19:15:26.259Z"
   },
   {
    "duration": 19,
    "start_time": "2022-12-03T19:15:26.266Z"
   },
   {
    "duration": 315,
    "start_time": "2022-12-03T19:15:26.287Z"
   },
   {
    "duration": 136,
    "start_time": "2022-12-03T19:15:26.603Z"
   },
   {
    "duration": 7,
    "start_time": "2022-12-03T19:15:26.745Z"
   },
   {
    "duration": 5,
    "start_time": "2022-12-03T19:15:26.753Z"
   },
   {
    "duration": 13,
    "start_time": "2022-12-03T19:15:26.760Z"
   },
   {
    "duration": 294,
    "start_time": "2022-12-03T19:15:26.774Z"
   },
   {
    "duration": 115,
    "start_time": "2022-12-03T19:15:27.070Z"
   },
   {
    "duration": 8,
    "start_time": "2022-12-03T19:15:27.186Z"
   },
   {
    "duration": 5,
    "start_time": "2022-12-03T19:15:27.195Z"
   },
   {
    "duration": 29,
    "start_time": "2022-12-03T19:15:27.201Z"
   },
   {
    "duration": 149,
    "start_time": "2022-12-03T19:15:27.232Z"
   },
   {
    "duration": 106,
    "start_time": "2022-12-03T19:15:27.383Z"
   },
   {
    "duration": 7,
    "start_time": "2022-12-03T19:15:27.491Z"
   },
   {
    "duration": 22,
    "start_time": "2022-12-03T19:15:27.499Z"
   },
   {
    "duration": 33,
    "start_time": "2022-12-03T19:15:27.523Z"
   },
   {
    "duration": 160,
    "start_time": "2022-12-03T19:15:27.558Z"
   },
   {
    "duration": 6,
    "start_time": "2022-12-03T19:15:27.720Z"
   },
   {
    "duration": 26,
    "start_time": "2022-12-03T19:15:27.727Z"
   },
   {
    "duration": 16,
    "start_time": "2022-12-03T19:15:27.755Z"
   },
   {
    "duration": 4,
    "start_time": "2022-12-03T19:15:27.773Z"
   },
   {
    "duration": 20,
    "start_time": "2022-12-03T19:15:27.779Z"
   },
   {
    "duration": 4,
    "start_time": "2022-12-03T19:15:27.801Z"
   },
   {
    "duration": 16,
    "start_time": "2022-12-03T19:15:27.806Z"
   },
   {
    "duration": 27,
    "start_time": "2022-12-03T19:15:27.823Z"
   },
   {
    "duration": 20,
    "start_time": "2022-12-03T19:15:27.851Z"
   },
   {
    "duration": 147,
    "start_time": "2022-12-03T19:15:27.872Z"
   },
   {
    "duration": 1011,
    "start_time": "2022-12-03T19:17:24.201Z"
   },
   {
    "duration": 906,
    "start_time": "2022-12-03T19:18:18.959Z"
   },
   {
    "duration": 10,
    "start_time": "2022-12-03T19:18:35.581Z"
   },
   {
    "duration": 16,
    "start_time": "2022-12-03T19:19:13.895Z"
   },
   {
    "duration": 857,
    "start_time": "2022-12-03T19:19:54.443Z"
   },
   {
    "duration": 11,
    "start_time": "2022-12-03T19:20:26.249Z"
   },
   {
    "duration": 18,
    "start_time": "2022-12-03T19:21:12.641Z"
   },
   {
    "duration": 295,
    "start_time": "2022-12-03T19:21:25.898Z"
   },
   {
    "duration": 186,
    "start_time": "2022-12-03T19:22:05.491Z"
   },
   {
    "duration": 212,
    "start_time": "2022-12-03T19:23:03.956Z"
   },
   {
    "duration": 270,
    "start_time": "2022-12-03T19:23:31.458Z"
   },
   {
    "duration": 186,
    "start_time": "2022-12-03T19:23:39.241Z"
   },
   {
    "duration": 20,
    "start_time": "2022-12-03T19:25:32.529Z"
   },
   {
    "duration": 16,
    "start_time": "2022-12-03T19:25:49.341Z"
   },
   {
    "duration": 11,
    "start_time": "2022-12-03T19:30:48.064Z"
   },
   {
    "duration": 32,
    "start_time": "2022-12-03T19:31:15.711Z"
   },
   {
    "duration": 13,
    "start_time": "2022-12-03T19:34:19.904Z"
   },
   {
    "duration": 24,
    "start_time": "2022-12-03T19:34:32.634Z"
   },
   {
    "duration": 21,
    "start_time": "2022-12-03T19:36:05.528Z"
   },
   {
    "duration": 27,
    "start_time": "2022-12-03T19:36:19.998Z"
   },
   {
    "duration": 149,
    "start_time": "2022-12-03T19:47:08.603Z"
   },
   {
    "duration": 13,
    "start_time": "2022-12-03T19:47:24.846Z"
   },
   {
    "duration": 35,
    "start_time": "2022-12-03T19:49:58.441Z"
   },
   {
    "duration": 24,
    "start_time": "2022-12-03T19:50:11.035Z"
   },
   {
    "duration": 37,
    "start_time": "2022-12-03T19:51:14.573Z"
   },
   {
    "duration": 25,
    "start_time": "2022-12-03T19:52:01.535Z"
   },
   {
    "duration": 10,
    "start_time": "2022-12-03T19:54:09.386Z"
   },
   {
    "duration": 806,
    "start_time": "2022-12-03T19:54:31.162Z"
   },
   {
    "duration": 864,
    "start_time": "2022-12-03T19:55:50.105Z"
   },
   {
    "duration": 3,
    "start_time": "2022-12-03T19:55:54.574Z"
   },
   {
    "duration": 67,
    "start_time": "2022-12-03T19:55:54.580Z"
   },
   {
    "duration": 14,
    "start_time": "2022-12-03T19:55:54.648Z"
   },
   {
    "duration": 29,
    "start_time": "2022-12-03T19:55:54.664Z"
   },
   {
    "duration": 12,
    "start_time": "2022-12-03T19:55:54.696Z"
   },
   {
    "duration": 28,
    "start_time": "2022-12-03T19:55:54.710Z"
   },
   {
    "duration": 19,
    "start_time": "2022-12-03T19:55:54.740Z"
   },
   {
    "duration": 116,
    "start_time": "2022-12-03T19:55:54.761Z"
   },
   {
    "duration": 8,
    "start_time": "2022-12-03T19:55:54.879Z"
   },
   {
    "duration": 5,
    "start_time": "2022-12-03T19:55:54.889Z"
   },
   {
    "duration": 33,
    "start_time": "2022-12-03T19:55:54.896Z"
   },
   {
    "duration": 255,
    "start_time": "2022-12-03T19:55:54.931Z"
   },
   {
    "duration": 119,
    "start_time": "2022-12-03T19:55:55.187Z"
   },
   {
    "duration": 13,
    "start_time": "2022-12-03T19:55:55.315Z"
   },
   {
    "duration": 15,
    "start_time": "2022-12-03T19:55:55.331Z"
   },
   {
    "duration": 12,
    "start_time": "2022-12-03T19:55:55.347Z"
   },
   {
    "duration": 266,
    "start_time": "2022-12-03T19:55:55.361Z"
   },
   {
    "duration": 138,
    "start_time": "2022-12-03T19:55:55.629Z"
   },
   {
    "duration": 9,
    "start_time": "2022-12-03T19:55:55.769Z"
   },
   {
    "duration": 9,
    "start_time": "2022-12-03T19:55:55.779Z"
   },
   {
    "duration": 36,
    "start_time": "2022-12-03T19:55:55.789Z"
   },
   {
    "duration": 156,
    "start_time": "2022-12-03T19:55:55.827Z"
   },
   {
    "duration": 218,
    "start_time": "2022-12-03T19:55:55.985Z"
   },
   {
    "duration": 16,
    "start_time": "2022-12-03T19:55:56.205Z"
   },
   {
    "duration": 14,
    "start_time": "2022-12-03T19:55:56.223Z"
   },
   {
    "duration": 10,
    "start_time": "2022-12-03T19:55:56.238Z"
   },
   {
    "duration": 181,
    "start_time": "2022-12-03T19:55:56.249Z"
   },
   {
    "duration": 7,
    "start_time": "2022-12-03T19:55:56.433Z"
   },
   {
    "duration": 20,
    "start_time": "2022-12-03T19:55:56.443Z"
   },
   {
    "duration": 28,
    "start_time": "2022-12-03T19:55:56.466Z"
   },
   {
    "duration": 6,
    "start_time": "2022-12-03T19:55:56.497Z"
   },
   {
    "duration": 44,
    "start_time": "2022-12-03T19:55:56.516Z"
   },
   {
    "duration": 7,
    "start_time": "2022-12-03T19:55:56.563Z"
   },
   {
    "duration": 36,
    "start_time": "2022-12-03T19:55:56.572Z"
   },
   {
    "duration": 29,
    "start_time": "2022-12-03T19:55:56.610Z"
   },
   {
    "duration": 21,
    "start_time": "2022-12-03T19:55:56.642Z"
   },
   {
    "duration": 186,
    "start_time": "2022-12-03T19:55:56.666Z"
   },
   {
    "duration": 814,
    "start_time": "2022-12-03T19:55:56.854Z"
   },
   {
    "duration": 0,
    "start_time": "2022-12-03T19:55:57.670Z"
   },
   {
    "duration": 16,
    "start_time": "2022-12-03T19:57:09.679Z"
   },
   {
    "duration": 66,
    "start_time": "2022-12-03T19:57:16.334Z"
   },
   {
    "duration": 12,
    "start_time": "2022-12-03T19:58:58.882Z"
   },
   {
    "duration": 14,
    "start_time": "2022-12-03T19:59:02.355Z"
   },
   {
    "duration": 68,
    "start_time": "2022-12-03T19:59:09.601Z"
   },
   {
    "duration": 14,
    "start_time": "2022-12-03T19:59:16.467Z"
   },
   {
    "duration": 33,
    "start_time": "2022-12-03T19:59:24.162Z"
   },
   {
    "duration": 23,
    "start_time": "2022-12-03T20:02:10.744Z"
   },
   {
    "duration": 8,
    "start_time": "2022-12-03T20:08:18.807Z"
   },
   {
    "duration": 29,
    "start_time": "2022-12-03T20:09:45.006Z"
   },
   {
    "duration": 10,
    "start_time": "2022-12-03T20:13:03.491Z"
   },
   {
    "duration": 15,
    "start_time": "2022-12-03T20:13:15.913Z"
   },
   {
    "duration": 21,
    "start_time": "2022-12-03T20:13:58.314Z"
   },
   {
    "duration": 8,
    "start_time": "2022-12-03T20:20:46.706Z"
   },
   {
    "duration": 14,
    "start_time": "2022-12-03T20:20:54.657Z"
   },
   {
    "duration": 37,
    "start_time": "2022-12-03T20:24:06.941Z"
   },
   {
    "duration": 41,
    "start_time": "2022-12-03T20:25:50.345Z"
   },
   {
    "duration": 4,
    "start_time": "2022-12-03T20:26:00.834Z"
   },
   {
    "duration": 153,
    "start_time": "2022-12-03T20:26:00.840Z"
   },
   {
    "duration": 14,
    "start_time": "2022-12-03T20:26:00.994Z"
   },
   {
    "duration": 55,
    "start_time": "2022-12-03T20:26:01.010Z"
   },
   {
    "duration": 28,
    "start_time": "2022-12-03T20:26:01.068Z"
   },
   {
    "duration": 200,
    "start_time": "2022-12-03T20:26:01.099Z"
   },
   {
    "duration": 84,
    "start_time": "2022-12-03T20:26:01.301Z"
   },
   {
    "duration": 157,
    "start_time": "2022-12-03T20:26:01.387Z"
   },
   {
    "duration": 9,
    "start_time": "2022-12-03T20:26:01.546Z"
   },
   {
    "duration": 28,
    "start_time": "2022-12-03T20:26:01.557Z"
   },
   {
    "duration": 31,
    "start_time": "2022-12-03T20:26:01.586Z"
   },
   {
    "duration": 276,
    "start_time": "2022-12-03T20:26:01.619Z"
   },
   {
    "duration": 135,
    "start_time": "2022-12-03T20:26:01.896Z"
   },
   {
    "duration": 17,
    "start_time": "2022-12-03T20:26:02.034Z"
   },
   {
    "duration": 30,
    "start_time": "2022-12-03T20:26:02.052Z"
   },
   {
    "duration": 96,
    "start_time": "2022-12-03T20:26:02.085Z"
   },
   {
    "duration": 279,
    "start_time": "2022-12-03T20:26:02.183Z"
   },
   {
    "duration": 160,
    "start_time": "2022-12-03T20:26:02.464Z"
   },
   {
    "duration": 11,
    "start_time": "2022-12-03T20:26:02.625Z"
   },
   {
    "duration": 39,
    "start_time": "2022-12-03T20:26:02.638Z"
   },
   {
    "duration": 34,
    "start_time": "2022-12-03T20:26:02.679Z"
   },
   {
    "duration": 176,
    "start_time": "2022-12-03T20:26:02.715Z"
   },
   {
    "duration": 237,
    "start_time": "2022-12-03T20:26:02.894Z"
   },
   {
    "duration": 10,
    "start_time": "2022-12-03T20:26:03.133Z"
   },
   {
    "duration": 13,
    "start_time": "2022-12-03T20:26:03.145Z"
   },
   {
    "duration": 21,
    "start_time": "2022-12-03T20:26:03.159Z"
   },
   {
    "duration": 180,
    "start_time": "2022-12-03T20:26:03.182Z"
   },
   {
    "duration": 6,
    "start_time": "2022-12-03T20:26:03.364Z"
   },
   {
    "duration": 79,
    "start_time": "2022-12-03T20:26:03.371Z"
   },
   {
    "duration": 63,
    "start_time": "2022-12-03T20:26:03.452Z"
   },
   {
    "duration": 31,
    "start_time": "2022-12-03T20:26:03.518Z"
   },
   {
    "duration": 51,
    "start_time": "2022-12-03T20:26:03.551Z"
   },
   {
    "duration": 49,
    "start_time": "2022-12-03T20:26:03.604Z"
   },
   {
    "duration": 42,
    "start_time": "2022-12-03T20:26:03.654Z"
   },
   {
    "duration": 69,
    "start_time": "2022-12-03T20:26:03.698Z"
   },
   {
    "duration": 18,
    "start_time": "2022-12-03T20:26:03.769Z"
   },
   {
    "duration": 230,
    "start_time": "2022-12-03T20:26:03.788Z"
   },
   {
    "duration": 18,
    "start_time": "2022-12-03T20:26:04.020Z"
   },
   {
    "duration": 60,
    "start_time": "2022-12-03T20:26:04.041Z"
   },
   {
    "duration": 29,
    "start_time": "2022-12-03T20:27:15.362Z"
   },
   {
    "duration": 86,
    "start_time": "2022-12-03T20:28:52.101Z"
   },
   {
    "duration": 54,
    "start_time": "2022-12-03T20:30:17.600Z"
   },
   {
    "duration": 69,
    "start_time": "2022-12-03T20:33:36.431Z"
   },
   {
    "duration": 47,
    "start_time": "2022-12-03T20:34:23.837Z"
   },
   {
    "duration": 44,
    "start_time": "2022-12-03T20:37:18.650Z"
   },
   {
    "duration": 13,
    "start_time": "2022-12-03T20:45:23.827Z"
   },
   {
    "duration": 5,
    "start_time": "2022-12-03T20:46:37.451Z"
   },
   {
    "duration": 8,
    "start_time": "2022-12-03T20:46:54.940Z"
   },
   {
    "duration": 5,
    "start_time": "2022-12-03T20:50:51.612Z"
   },
   {
    "duration": 10,
    "start_time": "2022-12-03T20:51:18.605Z"
   },
   {
    "duration": 53,
    "start_time": "2022-12-03T20:57:49.401Z"
   },
   {
    "duration": 20,
    "start_time": "2022-12-03T20:59:17.091Z"
   },
   {
    "duration": 27,
    "start_time": "2022-12-03T20:59:26.683Z"
   },
   {
    "duration": 19,
    "start_time": "2022-12-03T21:00:19.460Z"
   },
   {
    "duration": 20,
    "start_time": "2022-12-03T21:00:46.129Z"
   },
   {
    "duration": 9,
    "start_time": "2022-12-03T21:03:23.874Z"
   },
   {
    "duration": 14,
    "start_time": "2022-12-03T21:03:31.229Z"
   },
   {
    "duration": 17,
    "start_time": "2022-12-03T21:04:17.924Z"
   },
   {
    "duration": 13,
    "start_time": "2022-12-03T21:04:21.363Z"
   },
   {
    "duration": 19,
    "start_time": "2022-12-03T21:04:23.371Z"
   },
   {
    "duration": 37,
    "start_time": "2022-12-03T21:04:27.371Z"
   },
   {
    "duration": 3,
    "start_time": "2022-12-03T21:06:12.152Z"
   },
   {
    "duration": 73,
    "start_time": "2022-12-03T21:06:12.158Z"
   },
   {
    "duration": 12,
    "start_time": "2022-12-03T21:06:12.233Z"
   },
   {
    "duration": 22,
    "start_time": "2022-12-03T21:06:12.246Z"
   },
   {
    "duration": 34,
    "start_time": "2022-12-03T21:06:12.270Z"
   },
   {
    "duration": 10,
    "start_time": "2022-12-03T21:06:12.306Z"
   },
   {
    "duration": 31,
    "start_time": "2022-12-03T21:06:12.318Z"
   },
   {
    "duration": 114,
    "start_time": "2022-12-03T21:06:12.351Z"
   },
   {
    "duration": 10,
    "start_time": "2022-12-03T21:06:12.467Z"
   },
   {
    "duration": 19,
    "start_time": "2022-12-03T21:06:12.478Z"
   },
   {
    "duration": 16,
    "start_time": "2022-12-03T21:06:12.499Z"
   },
   {
    "duration": 238,
    "start_time": "2022-12-03T21:06:12.517Z"
   },
   {
    "duration": 115,
    "start_time": "2022-12-03T21:06:12.756Z"
   },
   {
    "duration": 8,
    "start_time": "2022-12-03T21:06:12.874Z"
   },
   {
    "duration": 5,
    "start_time": "2022-12-03T21:06:12.884Z"
   },
   {
    "duration": 32,
    "start_time": "2022-12-03T21:06:12.890Z"
   },
   {
    "duration": 253,
    "start_time": "2022-12-03T21:06:12.924Z"
   },
   {
    "duration": 112,
    "start_time": "2022-12-03T21:06:13.179Z"
   },
   {
    "duration": 8,
    "start_time": "2022-12-03T21:06:13.292Z"
   },
   {
    "duration": 16,
    "start_time": "2022-12-03T21:06:13.302Z"
   },
   {
    "duration": 20,
    "start_time": "2022-12-03T21:06:13.320Z"
   },
   {
    "duration": 137,
    "start_time": "2022-12-03T21:06:13.342Z"
   },
   {
    "duration": 114,
    "start_time": "2022-12-03T21:06:13.481Z"
   },
   {
    "duration": 19,
    "start_time": "2022-12-03T21:06:13.597Z"
   },
   {
    "duration": 8,
    "start_time": "2022-12-03T21:06:13.618Z"
   },
   {
    "duration": 18,
    "start_time": "2022-12-03T21:06:13.628Z"
   },
   {
    "duration": 152,
    "start_time": "2022-12-03T21:06:13.648Z"
   },
   {
    "duration": 4,
    "start_time": "2022-12-03T21:06:13.802Z"
   },
   {
    "duration": 12,
    "start_time": "2022-12-03T21:06:13.816Z"
   },
   {
    "duration": 17,
    "start_time": "2022-12-03T21:06:13.830Z"
   },
   {
    "duration": 5,
    "start_time": "2022-12-03T21:06:13.848Z"
   },
   {
    "duration": 18,
    "start_time": "2022-12-03T21:06:13.855Z"
   },
   {
    "duration": 4,
    "start_time": "2022-12-03T21:06:13.875Z"
   },
   {
    "duration": 36,
    "start_time": "2022-12-03T21:06:13.880Z"
   },
   {
    "duration": 30,
    "start_time": "2022-12-03T21:06:13.919Z"
   },
   {
    "duration": 153,
    "start_time": "2022-12-03T21:06:13.950Z"
   },
   {
    "duration": 193,
    "start_time": "2022-12-03T21:06:14.104Z"
   },
   {
    "duration": 25,
    "start_time": "2022-12-03T21:06:14.298Z"
   },
   {
    "duration": 23,
    "start_time": "2022-12-03T21:06:14.325Z"
   },
   {
    "duration": 36,
    "start_time": "2022-12-03T21:06:14.349Z"
   },
   {
    "duration": 14,
    "start_time": "2022-12-03T21:06:37.419Z"
   },
   {
    "duration": 9,
    "start_time": "2022-12-03T21:06:41.086Z"
   },
   {
    "duration": 8,
    "start_time": "2022-12-03T21:07:34.468Z"
   },
   {
    "duration": 8,
    "start_time": "2022-12-03T21:07:39.401Z"
   },
   {
    "duration": 11,
    "start_time": "2022-12-03T21:12:31.927Z"
   },
   {
    "duration": 11,
    "start_time": "2022-12-03T21:12:51.361Z"
   },
   {
    "duration": 419,
    "start_time": "2022-12-03T21:17:13.173Z"
   },
   {
    "duration": 18,
    "start_time": "2022-12-03T21:17:47.936Z"
   },
   {
    "duration": 9,
    "start_time": "2022-12-03T21:17:57.896Z"
   },
   {
    "duration": 106,
    "start_time": "2022-12-03T21:18:41.828Z"
   },
   {
    "duration": 111,
    "start_time": "2022-12-03T21:19:44.668Z"
   },
   {
    "duration": 3524,
    "start_time": "2022-12-03T21:20:16.548Z"
   },
   {
    "duration": 2846,
    "start_time": "2022-12-03T21:20:55.527Z"
   },
   {
    "duration": 13,
    "start_time": "2022-12-03T21:28:38.166Z"
   },
   {
    "duration": 19,
    "start_time": "2022-12-03T21:28:47.614Z"
   },
   {
    "duration": 10,
    "start_time": "2022-12-03T21:29:06.431Z"
   },
   {
    "duration": 10,
    "start_time": "2022-12-03T21:30:32.643Z"
   },
   {
    "duration": 4,
    "start_time": "2022-12-03T21:31:37.229Z"
   },
   {
    "duration": 3,
    "start_time": "2022-12-03T21:32:33.146Z"
   },
   {
    "duration": 58,
    "start_time": "2022-12-03T21:32:33.151Z"
   },
   {
    "duration": 19,
    "start_time": "2022-12-03T21:32:33.210Z"
   },
   {
    "duration": 31,
    "start_time": "2022-12-03T21:32:33.232Z"
   },
   {
    "duration": 4,
    "start_time": "2022-12-03T21:32:33.265Z"
   },
   {
    "duration": 7,
    "start_time": "2022-12-03T21:32:33.270Z"
   },
   {
    "duration": 15,
    "start_time": "2022-12-03T21:32:33.278Z"
   },
   {
    "duration": 125,
    "start_time": "2022-12-03T21:32:33.295Z"
   },
   {
    "duration": 10,
    "start_time": "2022-12-03T21:32:33.423Z"
   },
   {
    "duration": 6,
    "start_time": "2022-12-03T21:32:33.434Z"
   },
   {
    "duration": 10,
    "start_time": "2022-12-03T21:32:33.441Z"
   },
   {
    "duration": 250,
    "start_time": "2022-12-03T21:32:33.453Z"
   },
   {
    "duration": 110,
    "start_time": "2022-12-03T21:32:33.705Z"
   },
   {
    "duration": 12,
    "start_time": "2022-12-03T21:32:33.820Z"
   },
   {
    "duration": 8,
    "start_time": "2022-12-03T21:32:33.833Z"
   },
   {
    "duration": 11,
    "start_time": "2022-12-03T21:32:33.842Z"
   },
   {
    "duration": 260,
    "start_time": "2022-12-03T21:32:33.855Z"
   },
   {
    "duration": 124,
    "start_time": "2022-12-03T21:32:34.117Z"
   },
   {
    "duration": 9,
    "start_time": "2022-12-03T21:32:34.243Z"
   },
   {
    "duration": 5,
    "start_time": "2022-12-03T21:32:34.254Z"
   },
   {
    "duration": 14,
    "start_time": "2022-12-03T21:32:34.261Z"
   },
   {
    "duration": 151,
    "start_time": "2022-12-03T21:32:34.277Z"
   },
   {
    "duration": 250,
    "start_time": "2022-12-03T21:32:34.430Z"
   },
   {
    "duration": 8,
    "start_time": "2022-12-03T21:32:34.681Z"
   },
   {
    "duration": 5,
    "start_time": "2022-12-03T21:32:34.691Z"
   },
   {
    "duration": 30,
    "start_time": "2022-12-03T21:32:34.697Z"
   },
   {
    "duration": 152,
    "start_time": "2022-12-03T21:32:34.729Z"
   },
   {
    "duration": 4,
    "start_time": "2022-12-03T21:32:34.883Z"
   },
   {
    "duration": 12,
    "start_time": "2022-12-03T21:32:34.889Z"
   },
   {
    "duration": 29,
    "start_time": "2022-12-03T21:32:34.902Z"
   },
   {
    "duration": 5,
    "start_time": "2022-12-03T21:32:34.932Z"
   },
   {
    "duration": 19,
    "start_time": "2022-12-03T21:32:34.939Z"
   },
   {
    "duration": 4,
    "start_time": "2022-12-03T21:32:34.959Z"
   },
   {
    "duration": 8,
    "start_time": "2022-12-03T21:32:34.964Z"
   },
   {
    "duration": 43,
    "start_time": "2022-12-03T21:32:34.973Z"
   },
   {
    "duration": 19,
    "start_time": "2022-12-03T21:32:35.018Z"
   },
   {
    "duration": 194,
    "start_time": "2022-12-03T21:32:35.040Z"
   },
   {
    "duration": 14,
    "start_time": "2022-12-03T21:32:35.236Z"
   },
   {
    "duration": 19,
    "start_time": "2022-12-03T21:32:35.252Z"
   },
   {
    "duration": 3,
    "start_time": "2022-12-03T21:32:35.273Z"
   },
   {
    "duration": 10,
    "start_time": "2022-12-03T21:34:09.536Z"
   },
   {
    "duration": 12,
    "start_time": "2022-12-03T21:34:16.028Z"
   },
   {
    "duration": 14,
    "start_time": "2022-12-03T21:35:09.242Z"
   },
   {
    "duration": 8,
    "start_time": "2022-12-03T21:35:45.539Z"
   },
   {
    "duration": 13,
    "start_time": "2022-12-03T21:35:55.762Z"
   },
   {
    "duration": 13,
    "start_time": "2022-12-03T21:36:22.251Z"
   },
   {
    "duration": 13,
    "start_time": "2022-12-03T21:36:34.556Z"
   },
   {
    "duration": 8,
    "start_time": "2022-12-03T21:37:46.574Z"
   },
   {
    "duration": 17,
    "start_time": "2022-12-03T22:05:11.344Z"
   },
   {
    "duration": 816,
    "start_time": "2022-12-05T08:02:10.847Z"
   },
   {
    "duration": 196,
    "start_time": "2022-12-05T08:02:11.666Z"
   },
   {
    "duration": 16,
    "start_time": "2022-12-05T08:02:11.864Z"
   },
   {
    "duration": 17,
    "start_time": "2022-12-05T08:02:11.882Z"
   },
   {
    "duration": 5,
    "start_time": "2022-12-05T08:02:11.901Z"
   },
   {
    "duration": 16,
    "start_time": "2022-12-05T08:02:11.908Z"
   },
   {
    "duration": 27,
    "start_time": "2022-12-05T08:02:11.925Z"
   },
   {
    "duration": 142,
    "start_time": "2022-12-05T08:02:11.954Z"
   },
   {
    "duration": 9,
    "start_time": "2022-12-05T08:02:12.098Z"
   },
   {
    "duration": 5,
    "start_time": "2022-12-05T08:02:12.108Z"
   },
   {
    "duration": 27,
    "start_time": "2022-12-05T08:02:12.115Z"
   },
   {
    "duration": 241,
    "start_time": "2022-12-05T08:02:12.144Z"
   },
   {
    "duration": 175,
    "start_time": "2022-12-05T08:02:12.387Z"
   },
   {
    "duration": 8,
    "start_time": "2022-12-05T08:02:12.564Z"
   },
   {
    "duration": 5,
    "start_time": "2022-12-05T08:02:12.573Z"
   },
   {
    "duration": 23,
    "start_time": "2022-12-05T08:02:12.579Z"
   },
   {
    "duration": 256,
    "start_time": "2022-12-05T08:02:12.603Z"
   },
   {
    "duration": 132,
    "start_time": "2022-12-05T08:02:12.860Z"
   },
   {
    "duration": 10,
    "start_time": "2022-12-05T08:02:12.993Z"
   },
   {
    "duration": 10,
    "start_time": "2022-12-05T08:02:13.004Z"
   },
   {
    "duration": 26,
    "start_time": "2022-12-05T08:02:13.016Z"
   },
   {
    "duration": 156,
    "start_time": "2022-12-05T08:02:13.043Z"
   },
   {
    "duration": 139,
    "start_time": "2022-12-05T08:02:13.202Z"
   },
   {
    "duration": 12,
    "start_time": "2022-12-05T08:02:13.343Z"
   },
   {
    "duration": 28,
    "start_time": "2022-12-05T08:02:13.357Z"
   },
   {
    "duration": 29,
    "start_time": "2022-12-05T08:02:13.387Z"
   },
   {
    "duration": 223,
    "start_time": "2022-12-05T08:02:13.418Z"
   },
   {
    "duration": 6,
    "start_time": "2022-12-05T08:02:13.644Z"
   },
   {
    "duration": 25,
    "start_time": "2022-12-05T08:02:13.652Z"
   },
   {
    "duration": 26,
    "start_time": "2022-12-05T08:02:13.679Z"
   },
   {
    "duration": 5,
    "start_time": "2022-12-05T08:02:13.707Z"
   },
   {
    "duration": 32,
    "start_time": "2022-12-05T08:02:13.714Z"
   },
   {
    "duration": 4,
    "start_time": "2022-12-05T08:02:13.748Z"
   },
   {
    "duration": 8,
    "start_time": "2022-12-05T08:02:13.754Z"
   },
   {
    "duration": 25,
    "start_time": "2022-12-05T08:02:13.764Z"
   },
   {
    "duration": 15,
    "start_time": "2022-12-05T08:02:13.791Z"
   },
   {
    "duration": 293,
    "start_time": "2022-12-05T08:02:13.808Z"
   },
   {
    "duration": 14,
    "start_time": "2022-12-05T08:02:14.103Z"
   },
   {
    "duration": 39,
    "start_time": "2022-12-05T08:02:14.119Z"
   },
   {
    "duration": 15,
    "start_time": "2022-12-05T08:02:14.160Z"
   },
   {
    "duration": 11,
    "start_time": "2022-12-05T08:02:14.179Z"
   },
   {
    "duration": 17,
    "start_time": "2022-12-05T08:02:14.191Z"
   },
   {
    "duration": 22,
    "start_time": "2022-12-05T08:02:49.787Z"
   },
   {
    "duration": 45,
    "start_time": "2022-12-05T12:11:32.059Z"
   },
   {
    "duration": 736,
    "start_time": "2022-12-05T12:11:41.072Z"
   },
   {
    "duration": 193,
    "start_time": "2022-12-05T12:11:41.810Z"
   },
   {
    "duration": 16,
    "start_time": "2022-12-05T12:11:42.005Z"
   },
   {
    "duration": 17,
    "start_time": "2022-12-05T12:11:42.023Z"
   },
   {
    "duration": 5,
    "start_time": "2022-12-05T12:11:42.042Z"
   },
   {
    "duration": 13,
    "start_time": "2022-12-05T12:11:42.049Z"
   },
   {
    "duration": 24,
    "start_time": "2022-12-05T12:11:42.063Z"
   },
   {
    "duration": 151,
    "start_time": "2022-12-05T12:11:42.088Z"
   },
   {
    "duration": 9,
    "start_time": "2022-12-05T12:11:42.241Z"
   },
   {
    "duration": 7,
    "start_time": "2022-12-05T12:11:42.252Z"
   },
   {
    "duration": 22,
    "start_time": "2022-12-05T12:11:42.260Z"
   },
   {
    "duration": 251,
    "start_time": "2022-12-05T12:11:42.284Z"
   },
   {
    "duration": 121,
    "start_time": "2022-12-05T12:11:42.537Z"
   },
   {
    "duration": 8,
    "start_time": "2022-12-05T12:11:42.662Z"
   },
   {
    "duration": 5,
    "start_time": "2022-12-05T12:11:42.672Z"
   },
   {
    "duration": 16,
    "start_time": "2022-12-05T12:11:42.679Z"
   },
   {
    "duration": 313,
    "start_time": "2022-12-05T12:11:42.714Z"
   },
   {
    "duration": 117,
    "start_time": "2022-12-05T12:11:43.029Z"
   },
   {
    "duration": 8,
    "start_time": "2022-12-05T12:11:43.148Z"
   },
   {
    "duration": 5,
    "start_time": "2022-12-05T12:11:43.157Z"
   },
   {
    "duration": 16,
    "start_time": "2022-12-05T12:11:43.164Z"
   },
   {
    "duration": 156,
    "start_time": "2022-12-05T12:11:43.181Z"
   },
   {
    "duration": 118,
    "start_time": "2022-12-05T12:11:43.338Z"
   },
   {
    "duration": 10,
    "start_time": "2022-12-05T12:11:43.458Z"
   },
   {
    "duration": 6,
    "start_time": "2022-12-05T12:11:43.469Z"
   },
   {
    "duration": 11,
    "start_time": "2022-12-05T12:11:43.477Z"
   },
   {
    "duration": 159,
    "start_time": "2022-12-05T12:11:43.512Z"
   },
   {
    "duration": 5,
    "start_time": "2022-12-05T12:11:43.673Z"
   },
   {
    "duration": 13,
    "start_time": "2022-12-05T12:11:43.679Z"
   },
   {
    "duration": 33,
    "start_time": "2022-12-05T12:11:43.693Z"
   },
   {
    "duration": 6,
    "start_time": "2022-12-05T12:11:43.728Z"
   },
   {
    "duration": 27,
    "start_time": "2022-12-05T12:11:43.736Z"
   },
   {
    "duration": 5,
    "start_time": "2022-12-05T12:11:43.764Z"
   },
   {
    "duration": 9,
    "start_time": "2022-12-05T12:11:43.770Z"
   },
   {
    "duration": 54,
    "start_time": "2022-12-05T12:11:43.781Z"
   },
   {
    "duration": 15,
    "start_time": "2022-12-05T12:11:43.837Z"
   },
   {
    "duration": 259,
    "start_time": "2022-12-05T12:11:43.854Z"
   },
   {
    "duration": 16,
    "start_time": "2022-12-05T12:11:44.115Z"
   },
   {
    "duration": 21,
    "start_time": "2022-12-05T12:11:44.133Z"
   },
   {
    "duration": 12,
    "start_time": "2022-12-05T12:11:44.155Z"
   },
   {
    "duration": 11,
    "start_time": "2022-12-05T12:11:44.171Z"
   },
   {
    "duration": 48,
    "start_time": "2022-12-05T12:11:44.184Z"
   },
   {
    "duration": 73,
    "start_time": "2022-12-05T12:11:44.234Z"
   },
   {
    "duration": 21,
    "start_time": "2022-12-05T12:12:08.307Z"
   },
   {
    "duration": 19,
    "start_time": "2022-12-05T12:12:27.442Z"
   },
   {
    "duration": 6,
    "start_time": "2022-12-05T12:20:22.256Z"
   },
   {
    "duration": 9,
    "start_time": "2022-12-05T12:20:29.135Z"
   },
   {
    "duration": 11,
    "start_time": "2022-12-05T12:20:47.512Z"
   },
   {
    "duration": 3,
    "start_time": "2022-12-05T12:20:56.412Z"
   },
   {
    "duration": 55,
    "start_time": "2022-12-05T12:20:56.417Z"
   },
   {
    "duration": 13,
    "start_time": "2022-12-05T12:20:56.474Z"
   },
   {
    "duration": 29,
    "start_time": "2022-12-05T12:20:56.489Z"
   },
   {
    "duration": 5,
    "start_time": "2022-12-05T12:20:56.520Z"
   },
   {
    "duration": 15,
    "start_time": "2022-12-05T12:20:56.527Z"
   },
   {
    "duration": 18,
    "start_time": "2022-12-05T12:20:56.543Z"
   },
   {
    "duration": 135,
    "start_time": "2022-12-05T12:20:56.562Z"
   },
   {
    "duration": 21,
    "start_time": "2022-12-05T12:20:56.699Z"
   },
   {
    "duration": 7,
    "start_time": "2022-12-05T12:20:56.722Z"
   },
   {
    "duration": 16,
    "start_time": "2022-12-05T12:20:56.730Z"
   },
   {
    "duration": 294,
    "start_time": "2022-12-05T12:20:56.747Z"
   },
   {
    "duration": 186,
    "start_time": "2022-12-05T12:20:57.043Z"
   },
   {
    "duration": 8,
    "start_time": "2022-12-05T12:20:57.232Z"
   },
   {
    "duration": 5,
    "start_time": "2022-12-05T12:20:57.241Z"
   },
   {
    "duration": 13,
    "start_time": "2022-12-05T12:20:57.248Z"
   },
   {
    "duration": 270,
    "start_time": "2022-12-05T12:20:57.263Z"
   },
   {
    "duration": 113,
    "start_time": "2022-12-05T12:20:57.535Z"
   },
   {
    "duration": 9,
    "start_time": "2022-12-05T12:20:57.649Z"
   },
   {
    "duration": 5,
    "start_time": "2022-12-05T12:20:57.659Z"
   },
   {
    "duration": 10,
    "start_time": "2022-12-05T12:20:57.666Z"
   },
   {
    "duration": 177,
    "start_time": "2022-12-05T12:20:57.678Z"
   },
   {
    "duration": 119,
    "start_time": "2022-12-05T12:20:57.856Z"
   },
   {
    "duration": 9,
    "start_time": "2022-12-05T12:20:57.977Z"
   },
   {
    "duration": 5,
    "start_time": "2022-12-05T12:20:57.990Z"
   },
   {
    "duration": 12,
    "start_time": "2022-12-05T12:20:58.014Z"
   },
   {
    "duration": 163,
    "start_time": "2022-12-05T12:20:58.027Z"
   },
   {
    "duration": 5,
    "start_time": "2022-12-05T12:20:58.192Z"
   },
   {
    "duration": 18,
    "start_time": "2022-12-05T12:20:58.198Z"
   },
   {
    "duration": 20,
    "start_time": "2022-12-05T12:20:58.218Z"
   },
   {
    "duration": 13,
    "start_time": "2022-12-05T12:20:58.240Z"
   },
   {
    "duration": 24,
    "start_time": "2022-12-05T12:20:58.255Z"
   },
   {
    "duration": 6,
    "start_time": "2022-12-05T12:20:58.281Z"
   },
   {
    "duration": 27,
    "start_time": "2022-12-05T12:20:58.289Z"
   },
   {
    "duration": 25,
    "start_time": "2022-12-05T12:20:58.318Z"
   },
   {
    "duration": 21,
    "start_time": "2022-12-05T12:20:58.345Z"
   },
   {
    "duration": 217,
    "start_time": "2022-12-05T12:20:58.368Z"
   },
   {
    "duration": 15,
    "start_time": "2022-12-05T12:20:58.587Z"
   },
   {
    "duration": 23,
    "start_time": "2022-12-05T12:20:58.612Z"
   },
   {
    "duration": 12,
    "start_time": "2022-12-05T12:20:58.637Z"
   },
   {
    "duration": 9,
    "start_time": "2022-12-05T12:20:58.653Z"
   },
   {
    "duration": 22,
    "start_time": "2022-12-05T12:20:58.663Z"
   },
   {
    "duration": 36,
    "start_time": "2022-12-05T12:20:58.687Z"
   },
   {
    "duration": 12,
    "start_time": "2022-12-05T12:21:16.161Z"
   },
   {
    "duration": 24,
    "start_time": "2022-12-05T12:21:29.057Z"
   },
   {
    "duration": 198,
    "start_time": "2022-12-05T12:25:52.049Z"
   },
   {
    "duration": 74,
    "start_time": "2022-12-05T12:33:35.420Z"
   },
   {
    "duration": 43,
    "start_time": "2022-12-05T12:33:53.205Z"
   },
   {
    "duration": 4,
    "start_time": "2022-12-05T12:34:02.401Z"
   },
   {
    "duration": 77,
    "start_time": "2022-12-05T12:34:02.407Z"
   },
   {
    "duration": 13,
    "start_time": "2022-12-05T12:34:02.486Z"
   },
   {
    "duration": 17,
    "start_time": "2022-12-05T12:34:02.501Z"
   },
   {
    "duration": 4,
    "start_time": "2022-12-05T12:34:02.520Z"
   },
   {
    "duration": 14,
    "start_time": "2022-12-05T12:34:02.526Z"
   },
   {
    "duration": 28,
    "start_time": "2022-12-05T12:34:02.542Z"
   },
   {
    "duration": 124,
    "start_time": "2022-12-05T12:34:02.571Z"
   },
   {
    "duration": 9,
    "start_time": "2022-12-05T12:34:02.696Z"
   },
   {
    "duration": 6,
    "start_time": "2022-12-05T12:34:02.714Z"
   },
   {
    "duration": 13,
    "start_time": "2022-12-05T12:34:02.722Z"
   },
   {
    "duration": 349,
    "start_time": "2022-12-05T12:34:02.736Z"
   },
   {
    "duration": 110,
    "start_time": "2022-12-05T12:34:03.087Z"
   },
   {
    "duration": 18,
    "start_time": "2022-12-05T12:34:03.199Z"
   },
   {
    "duration": 5,
    "start_time": "2022-12-05T12:34:03.219Z"
   },
   {
    "duration": 14,
    "start_time": "2022-12-05T12:34:03.226Z"
   },
   {
    "duration": 266,
    "start_time": "2022-12-05T12:34:03.242Z"
   },
   {
    "duration": 126,
    "start_time": "2022-12-05T12:34:03.509Z"
   },
   {
    "duration": 11,
    "start_time": "2022-12-05T12:34:03.638Z"
   },
   {
    "duration": 6,
    "start_time": "2022-12-05T12:34:03.652Z"
   },
   {
    "duration": 14,
    "start_time": "2022-12-05T12:34:03.660Z"
   },
   {
    "duration": 167,
    "start_time": "2022-12-05T12:34:03.676Z"
   },
   {
    "duration": 118,
    "start_time": "2022-12-05T12:34:03.845Z"
   },
   {
    "duration": 10,
    "start_time": "2022-12-05T12:34:03.964Z"
   },
   {
    "duration": 6,
    "start_time": "2022-12-05T12:34:03.976Z"
   },
   {
    "duration": 37,
    "start_time": "2022-12-05T12:34:03.983Z"
   },
   {
    "duration": 161,
    "start_time": "2022-12-05T12:34:04.021Z"
   },
   {
    "duration": 5,
    "start_time": "2022-12-05T12:34:04.185Z"
   },
   {
    "duration": 22,
    "start_time": "2022-12-05T12:34:04.192Z"
   },
   {
    "duration": 20,
    "start_time": "2022-12-05T12:34:04.216Z"
   },
   {
    "duration": 6,
    "start_time": "2022-12-05T12:34:04.239Z"
   },
   {
    "duration": 21,
    "start_time": "2022-12-05T12:34:04.247Z"
   },
   {
    "duration": 5,
    "start_time": "2022-12-05T12:34:04.269Z"
   },
   {
    "duration": 39,
    "start_time": "2022-12-05T12:34:04.276Z"
   },
   {
    "duration": 21,
    "start_time": "2022-12-05T12:34:04.317Z"
   },
   {
    "duration": 21,
    "start_time": "2022-12-05T12:34:04.340Z"
   },
   {
    "duration": 256,
    "start_time": "2022-12-05T12:34:04.362Z"
   },
   {
    "duration": 17,
    "start_time": "2022-12-05T12:34:04.620Z"
   },
   {
    "duration": 25,
    "start_time": "2022-12-05T12:34:04.638Z"
   },
   {
    "duration": 15,
    "start_time": "2022-12-05T12:34:04.665Z"
   },
   {
    "duration": 43,
    "start_time": "2022-12-05T12:34:04.681Z"
   },
   {
    "duration": 29,
    "start_time": "2022-12-05T12:34:04.727Z"
   },
   {
    "duration": 29,
    "start_time": "2022-12-05T12:34:04.760Z"
   },
   {
    "duration": 26,
    "start_time": "2022-12-05T12:34:04.791Z"
   },
   {
    "duration": 17,
    "start_time": "2022-12-05T12:34:16.725Z"
   },
   {
    "duration": 141,
    "start_time": "2022-12-05T12:34:51.390Z"
   },
   {
    "duration": 157,
    "start_time": "2022-12-05T12:37:54.323Z"
   },
   {
    "duration": 76,
    "start_time": "2022-12-05T12:38:45.901Z"
   },
   {
    "duration": 210,
    "start_time": "2022-12-05T12:38:56.813Z"
   },
   {
    "duration": 250,
    "start_time": "2022-12-05T12:39:13.782Z"
   },
   {
    "duration": 153,
    "start_time": "2022-12-05T12:41:32.282Z"
   },
   {
    "duration": 4,
    "start_time": "2022-12-05T12:41:49.798Z"
   },
   {
    "duration": 57,
    "start_time": "2022-12-05T12:41:49.805Z"
   },
   {
    "duration": 15,
    "start_time": "2022-12-05T12:41:49.864Z"
   },
   {
    "duration": 25,
    "start_time": "2022-12-05T12:41:49.880Z"
   },
   {
    "duration": 7,
    "start_time": "2022-12-05T12:41:49.913Z"
   },
   {
    "duration": 8,
    "start_time": "2022-12-05T12:41:49.922Z"
   },
   {
    "duration": 21,
    "start_time": "2022-12-05T12:41:49.932Z"
   },
   {
    "duration": 133,
    "start_time": "2022-12-05T12:41:49.956Z"
   },
   {
    "duration": 23,
    "start_time": "2022-12-05T12:41:50.091Z"
   },
   {
    "duration": 7,
    "start_time": "2022-12-05T12:41:50.115Z"
   },
   {
    "duration": 17,
    "start_time": "2022-12-05T12:41:50.124Z"
   },
   {
    "duration": 344,
    "start_time": "2022-12-05T12:41:50.143Z"
   },
   {
    "duration": 112,
    "start_time": "2022-12-05T12:41:50.489Z"
   },
   {
    "duration": 8,
    "start_time": "2022-12-05T12:41:50.613Z"
   },
   {
    "duration": 7,
    "start_time": "2022-12-05T12:41:50.622Z"
   },
   {
    "duration": 21,
    "start_time": "2022-12-05T12:41:50.631Z"
   },
   {
    "duration": 243,
    "start_time": "2022-12-05T12:41:50.654Z"
   },
   {
    "duration": 125,
    "start_time": "2022-12-05T12:41:50.899Z"
   },
   {
    "duration": 9,
    "start_time": "2022-12-05T12:41:51.025Z"
   },
   {
    "duration": 6,
    "start_time": "2022-12-05T12:41:51.035Z"
   },
   {
    "duration": 12,
    "start_time": "2022-12-05T12:41:51.043Z"
   },
   {
    "duration": 161,
    "start_time": "2022-12-05T12:41:51.056Z"
   },
   {
    "duration": 131,
    "start_time": "2022-12-05T12:41:51.219Z"
   },
   {
    "duration": 8,
    "start_time": "2022-12-05T12:41:51.352Z"
   },
   {
    "duration": 6,
    "start_time": "2022-12-05T12:41:51.361Z"
   },
   {
    "duration": 13,
    "start_time": "2022-12-05T12:41:51.368Z"
   },
   {
    "duration": 180,
    "start_time": "2022-12-05T12:41:51.382Z"
   },
   {
    "duration": 5,
    "start_time": "2022-12-05T12:41:51.563Z"
   },
   {
    "duration": 18,
    "start_time": "2022-12-05T12:41:51.570Z"
   },
   {
    "duration": 25,
    "start_time": "2022-12-05T12:41:51.589Z"
   },
   {
    "duration": 6,
    "start_time": "2022-12-05T12:41:51.615Z"
   },
   {
    "duration": 20,
    "start_time": "2022-12-05T12:41:51.622Z"
   },
   {
    "duration": 5,
    "start_time": "2022-12-05T12:41:51.644Z"
   },
   {
    "duration": 7,
    "start_time": "2022-12-05T12:41:51.650Z"
   },
   {
    "duration": 28,
    "start_time": "2022-12-05T12:41:51.659Z"
   },
   {
    "duration": 15,
    "start_time": "2022-12-05T12:41:51.714Z"
   },
   {
    "duration": 193,
    "start_time": "2022-12-05T12:41:51.730Z"
   },
   {
    "duration": 14,
    "start_time": "2022-12-05T12:41:51.925Z"
   },
   {
    "duration": 22,
    "start_time": "2022-12-05T12:41:51.940Z"
   },
   {
    "duration": 12,
    "start_time": "2022-12-05T12:41:51.964Z"
   },
   {
    "duration": 35,
    "start_time": "2022-12-05T12:41:51.979Z"
   },
   {
    "duration": 21,
    "start_time": "2022-12-05T12:41:52.015Z"
   },
   {
    "duration": 276,
    "start_time": "2022-12-05T12:41:52.038Z"
   },
   {
    "duration": 171,
    "start_time": "2022-12-05T12:42:55.908Z"
   },
   {
    "duration": 163,
    "start_time": "2022-12-05T12:43:21.428Z"
   },
   {
    "duration": 172,
    "start_time": "2022-12-05T12:44:07.903Z"
   },
   {
    "duration": 163,
    "start_time": "2022-12-05T12:44:29.999Z"
   },
   {
    "duration": 155,
    "start_time": "2022-12-05T12:44:38.374Z"
   },
   {
    "duration": 192,
    "start_time": "2022-12-05T12:46:00.276Z"
   },
   {
    "duration": 196,
    "start_time": "2022-12-05T12:46:10.074Z"
   },
   {
    "duration": 179,
    "start_time": "2022-12-05T12:46:17.210Z"
   },
   {
    "duration": 166,
    "start_time": "2022-12-05T12:47:14.292Z"
   },
   {
    "duration": 173,
    "start_time": "2022-12-05T12:47:29.020Z"
   },
   {
    "duration": 182,
    "start_time": "2022-12-05T12:48:07.237Z"
   },
   {
    "duration": 159,
    "start_time": "2022-12-05T12:48:57.534Z"
   },
   {
    "duration": 202,
    "start_time": "2022-12-05T12:49:50.320Z"
   },
   {
    "duration": 238,
    "start_time": "2022-12-05T12:50:16.048Z"
   },
   {
    "duration": 167,
    "start_time": "2022-12-05T12:50:21.520Z"
   },
   {
    "duration": 229,
    "start_time": "2022-12-05T12:50:27.223Z"
   },
   {
    "duration": 169,
    "start_time": "2022-12-05T12:51:52.099Z"
   },
   {
    "duration": 276,
    "start_time": "2022-12-05T12:51:58.754Z"
   },
   {
    "duration": 224,
    "start_time": "2022-12-05T12:53:04.501Z"
   },
   {
    "duration": 156,
    "start_time": "2022-12-05T12:53:11.893Z"
   },
   {
    "duration": 163,
    "start_time": "2022-12-05T12:53:17.164Z"
   },
   {
    "duration": 179,
    "start_time": "2022-12-05T12:53:32.916Z"
   },
   {
    "duration": 172,
    "start_time": "2022-12-05T12:53:40.984Z"
   },
   {
    "duration": 192,
    "start_time": "2022-12-05T12:53:47.141Z"
   },
   {
    "duration": 106,
    "start_time": "2022-12-05T13:17:41.451Z"
   },
   {
    "duration": 125,
    "start_time": "2022-12-05T13:21:32.873Z"
   },
   {
    "duration": 121,
    "start_time": "2022-12-05T13:22:59.540Z"
   },
   {
    "duration": 150,
    "start_time": "2022-12-05T13:41:59.811Z"
   },
   {
    "duration": 148,
    "start_time": "2022-12-05T13:43:22.547Z"
   },
   {
    "duration": 165,
    "start_time": "2022-12-05T13:43:33.893Z"
   },
   {
    "duration": 162,
    "start_time": "2022-12-05T13:43:41.102Z"
   },
   {
    "duration": 169,
    "start_time": "2022-12-05T13:44:37.368Z"
   },
   {
    "duration": 172,
    "start_time": "2022-12-05T13:45:14.456Z"
   },
   {
    "duration": 152,
    "start_time": "2022-12-05T13:50:53.258Z"
   },
   {
    "duration": 160,
    "start_time": "2022-12-05T13:51:41.667Z"
   },
   {
    "duration": 9,
    "start_time": "2022-12-05T13:54:21.992Z"
   },
   {
    "duration": 10,
    "start_time": "2022-12-05T13:54:38.664Z"
   },
   {
    "duration": 12,
    "start_time": "2022-12-05T13:55:11.736Z"
   },
   {
    "duration": 10,
    "start_time": "2022-12-05T13:58:02.879Z"
   },
   {
    "duration": 16,
    "start_time": "2022-12-05T13:58:17.279Z"
   },
   {
    "duration": 17,
    "start_time": "2022-12-05T13:59:12.542Z"
   },
   {
    "duration": 215,
    "start_time": "2022-12-05T14:03:04.655Z"
   },
   {
    "duration": 211,
    "start_time": "2022-12-05T14:05:21.459Z"
   },
   {
    "duration": 193,
    "start_time": "2022-12-05T14:07:30.800Z"
   },
   {
    "duration": 15,
    "start_time": "2022-12-05T14:08:26.862Z"
   },
   {
    "duration": 15,
    "start_time": "2022-12-05T14:08:29.584Z"
   },
   {
    "duration": 206,
    "start_time": "2022-12-05T14:08:32.904Z"
   },
   {
    "duration": 207,
    "start_time": "2022-12-05T14:11:26.397Z"
   },
   {
    "duration": 162,
    "start_time": "2022-12-05T14:11:36.701Z"
   },
   {
    "duration": 176,
    "start_time": "2022-12-05T14:12:01.433Z"
   },
   {
    "duration": 177,
    "start_time": "2022-12-05T14:12:07.654Z"
   },
   {
    "duration": 374,
    "start_time": "2022-12-05T14:12:14.311Z"
   },
   {
    "duration": 170,
    "start_time": "2022-12-05T14:13:03.968Z"
   },
   {
    "duration": 8,
    "start_time": "2022-12-05T14:28:47.539Z"
   },
   {
    "duration": 203,
    "start_time": "2022-12-05T14:31:05.687Z"
   },
   {
    "duration": 199,
    "start_time": "2022-12-05T14:32:10.281Z"
   },
   {
    "duration": 169,
    "start_time": "2022-12-05T14:32:41.905Z"
   },
   {
    "duration": 152,
    "start_time": "2022-12-05T14:34:04.245Z"
   },
   {
    "duration": 159,
    "start_time": "2022-12-05T14:34:32.876Z"
   },
   {
    "duration": 152,
    "start_time": "2022-12-05T14:35:03.613Z"
   },
   {
    "duration": 165,
    "start_time": "2022-12-05T14:35:19.529Z"
   },
   {
    "duration": 156,
    "start_time": "2022-12-05T14:35:23.789Z"
   },
   {
    "duration": 3,
    "start_time": "2022-12-05T15:13:55.557Z"
   },
   {
    "duration": 88,
    "start_time": "2022-12-05T15:23:18.277Z"
   },
   {
    "duration": 12,
    "start_time": "2022-12-05T16:06:32.259Z"
   },
   {
    "duration": 17,
    "start_time": "2022-12-05T16:07:45.691Z"
   },
   {
    "duration": 15,
    "start_time": "2022-12-05T16:07:53.755Z"
   },
   {
    "duration": 18,
    "start_time": "2022-12-05T16:08:35.455Z"
   },
   {
    "duration": 16,
    "start_time": "2022-12-05T16:09:12.367Z"
   },
   {
    "duration": 15,
    "start_time": "2022-12-05T16:10:28.058Z"
   },
   {
    "duration": 17,
    "start_time": "2022-12-05T16:10:40.602Z"
   },
   {
    "duration": 14,
    "start_time": "2022-12-05T16:11:13.011Z"
   },
   {
    "duration": 15,
    "start_time": "2022-12-05T16:15:09.211Z"
   },
   {
    "duration": 19,
    "start_time": "2022-12-05T16:19:20.958Z"
   },
   {
    "duration": 14,
    "start_time": "2022-12-05T16:19:56.184Z"
   },
   {
    "duration": 18,
    "start_time": "2022-12-05T16:20:46.716Z"
   },
   {
    "duration": 14,
    "start_time": "2022-12-05T16:21:16.683Z"
   },
   {
    "duration": 15,
    "start_time": "2022-12-05T16:21:31.763Z"
   },
   {
    "duration": 5,
    "start_time": "2022-12-05T16:22:50.085Z"
   },
   {
    "duration": 11,
    "start_time": "2022-12-05T17:47:22.825Z"
   },
   {
    "duration": 105,
    "start_time": "2022-12-05T17:51:05.278Z"
   },
   {
    "duration": 154,
    "start_time": "2022-12-05T17:51:30.574Z"
   },
   {
    "duration": 136,
    "start_time": "2022-12-05T17:52:21.754Z"
   },
   {
    "duration": 141,
    "start_time": "2022-12-05T17:52:39.353Z"
   },
   {
    "duration": 134,
    "start_time": "2022-12-05T17:54:36.540Z"
   },
   {
    "duration": 146,
    "start_time": "2022-12-05T17:55:22.614Z"
   },
   {
    "duration": 2,
    "start_time": "2022-12-05T18:03:10.653Z"
   },
   {
    "duration": 68,
    "start_time": "2022-12-05T18:09:37.203Z"
   },
   {
    "duration": 69,
    "start_time": "2022-12-05T18:10:16.622Z"
   },
   {
    "duration": 72,
    "start_time": "2022-12-05T18:10:49.087Z"
   },
   {
    "duration": 11,
    "start_time": "2022-12-05T18:18:04.699Z"
   },
   {
    "duration": 415,
    "start_time": "2022-12-05T18:18:42.308Z"
   },
   {
    "duration": 10,
    "start_time": "2022-12-05T18:18:44.290Z"
   },
   {
    "duration": 8,
    "start_time": "2022-12-05T18:28:21.542Z"
   },
   {
    "duration": 8,
    "start_time": "2022-12-05T18:29:01.237Z"
   },
   {
    "duration": 10,
    "start_time": "2022-12-05T18:29:36.948Z"
   },
   {
    "duration": 148,
    "start_time": "2022-12-05T18:31:18.970Z"
   },
   {
    "duration": 158,
    "start_time": "2022-12-05T18:31:52.498Z"
   },
   {
    "duration": 56,
    "start_time": "2022-12-06T17:10:12.655Z"
   },
   {
    "duration": 95,
    "start_time": "2022-12-06T17:28:17.528Z"
   },
   {
    "duration": 764,
    "start_time": "2022-12-06T17:29:33.467Z"
   },
   {
    "duration": 121,
    "start_time": "2022-12-06T17:29:34.233Z"
   },
   {
    "duration": 15,
    "start_time": "2022-12-06T17:29:34.355Z"
   },
   {
    "duration": 17,
    "start_time": "2022-12-06T17:29:34.372Z"
   },
   {
    "duration": 5,
    "start_time": "2022-12-06T17:29:34.390Z"
   },
   {
    "duration": 12,
    "start_time": "2022-12-06T17:29:34.396Z"
   },
   {
    "duration": 22,
    "start_time": "2022-12-06T17:29:34.409Z"
   },
   {
    "duration": 150,
    "start_time": "2022-12-06T17:29:34.432Z"
   },
   {
    "duration": 19,
    "start_time": "2022-12-06T17:29:34.584Z"
   },
   {
    "duration": 6,
    "start_time": "2022-12-06T17:29:34.605Z"
   },
   {
    "duration": 9,
    "start_time": "2022-12-06T17:29:45.851Z"
   },
   {
    "duration": 233,
    "start_time": "2022-12-06T17:30:22.780Z"
   },
   {
    "duration": 7,
    "start_time": "2022-12-06T17:31:02.067Z"
   },
   {
    "duration": 6,
    "start_time": "2022-12-06T17:31:36.918Z"
   },
   {
    "duration": 11,
    "start_time": "2022-12-06T17:33:44.561Z"
   },
   {
    "duration": 7,
    "start_time": "2022-12-06T17:34:12.491Z"
   },
   {
    "duration": 284,
    "start_time": "2022-12-06T17:34:22.403Z"
   },
   {
    "duration": 43,
    "start_time": "2022-12-06T17:34:39.659Z"
   },
   {
    "duration": 9,
    "start_time": "2022-12-06T17:35:28.804Z"
   },
   {
    "duration": 3,
    "start_time": "2022-12-06T17:35:42.624Z"
   },
   {
    "duration": 55,
    "start_time": "2022-12-06T17:35:42.629Z"
   },
   {
    "duration": 12,
    "start_time": "2022-12-06T17:35:42.686Z"
   },
   {
    "duration": 17,
    "start_time": "2022-12-06T17:35:42.700Z"
   },
   {
    "duration": 4,
    "start_time": "2022-12-06T17:35:42.718Z"
   },
   {
    "duration": 7,
    "start_time": "2022-12-06T17:35:42.724Z"
   },
   {
    "duration": 18,
    "start_time": "2022-12-06T17:35:42.732Z"
   },
   {
    "duration": 125,
    "start_time": "2022-12-06T17:35:42.752Z"
   },
   {
    "duration": 18,
    "start_time": "2022-12-06T17:35:42.880Z"
   },
   {
    "duration": 5,
    "start_time": "2022-12-06T17:35:42.899Z"
   },
   {
    "duration": 10,
    "start_time": "2022-12-06T17:35:42.905Z"
   },
   {
    "duration": 232,
    "start_time": "2022-12-06T17:35:42.916Z"
   },
   {
    "duration": 100,
    "start_time": "2022-12-06T17:35:43.149Z"
   },
   {
    "duration": 9,
    "start_time": "2022-12-06T17:35:43.251Z"
   },
   {
    "duration": 6,
    "start_time": "2022-12-06T17:35:43.261Z"
   },
   {
    "duration": 30,
    "start_time": "2022-12-06T17:35:43.268Z"
   },
   {
    "duration": 229,
    "start_time": "2022-12-06T17:35:43.299Z"
   },
   {
    "duration": 120,
    "start_time": "2022-12-06T17:35:43.530Z"
   },
   {
    "duration": 9,
    "start_time": "2022-12-06T17:35:43.651Z"
   },
   {
    "duration": 5,
    "start_time": "2022-12-06T17:35:43.662Z"
   },
   {
    "duration": 49,
    "start_time": "2022-12-06T17:36:11.099Z"
   },
   {
    "duration": 6,
    "start_time": "2022-12-06T17:46:16.775Z"
   },
   {
    "duration": 2,
    "start_time": "2022-12-06T17:46:51.105Z"
   },
   {
    "duration": 68,
    "start_time": "2022-12-06T17:46:51.109Z"
   },
   {
    "duration": 13,
    "start_time": "2022-12-06T17:46:51.179Z"
   },
   {
    "duration": 50,
    "start_time": "2022-12-06T17:46:51.193Z"
   },
   {
    "duration": 25,
    "start_time": "2022-12-06T17:46:51.244Z"
   },
   {
    "duration": 29,
    "start_time": "2022-12-06T17:46:51.271Z"
   },
   {
    "duration": 26,
    "start_time": "2022-12-06T17:46:51.302Z"
   },
   {
    "duration": 110,
    "start_time": "2022-12-06T17:46:51.329Z"
   },
   {
    "duration": 7,
    "start_time": "2022-12-06T17:46:51.441Z"
   },
   {
    "duration": 7,
    "start_time": "2022-12-06T17:46:51.450Z"
   },
   {
    "duration": 8,
    "start_time": "2022-12-06T17:46:51.459Z"
   },
   {
    "duration": 239,
    "start_time": "2022-12-06T17:46:51.468Z"
   },
   {
    "duration": 176,
    "start_time": "2022-12-06T17:46:51.708Z"
   },
   {
    "duration": 11,
    "start_time": "2022-12-06T17:46:51.897Z"
   },
   {
    "duration": 5,
    "start_time": "2022-12-06T17:46:51.909Z"
   },
   {
    "duration": 25,
    "start_time": "2022-12-06T17:46:51.916Z"
   },
   {
    "duration": 241,
    "start_time": "2022-12-06T17:46:51.942Z"
   },
   {
    "duration": 114,
    "start_time": "2022-12-06T17:46:52.185Z"
   },
   {
    "duration": 8,
    "start_time": "2022-12-06T17:46:52.300Z"
   },
   {
    "duration": 6,
    "start_time": "2022-12-06T17:46:52.310Z"
   },
   {
    "duration": 8,
    "start_time": "2022-12-06T17:46:52.317Z"
   },
   {
    "duration": 149,
    "start_time": "2022-12-06T17:46:52.326Z"
   },
   {
    "duration": 111,
    "start_time": "2022-12-06T17:46:52.477Z"
   },
   {
    "duration": 13,
    "start_time": "2022-12-06T17:46:52.590Z"
   },
   {
    "duration": 5,
    "start_time": "2022-12-06T17:46:52.604Z"
   },
   {
    "duration": 8,
    "start_time": "2022-12-06T17:46:52.611Z"
   },
   {
    "duration": 3,
    "start_time": "2022-12-06T17:47:27.250Z"
   },
   {
    "duration": 57,
    "start_time": "2022-12-06T17:47:27.255Z"
   },
   {
    "duration": 15,
    "start_time": "2022-12-06T17:47:27.314Z"
   },
   {
    "duration": 19,
    "start_time": "2022-12-06T17:47:27.331Z"
   },
   {
    "duration": 5,
    "start_time": "2022-12-06T17:47:27.352Z"
   },
   {
    "duration": 7,
    "start_time": "2022-12-06T17:47:27.359Z"
   },
   {
    "duration": 17,
    "start_time": "2022-12-06T17:47:27.398Z"
   },
   {
    "duration": 107,
    "start_time": "2022-12-06T17:47:27.416Z"
   },
   {
    "duration": 7,
    "start_time": "2022-12-06T17:47:27.525Z"
   },
   {
    "duration": 4,
    "start_time": "2022-12-06T17:47:27.533Z"
   },
   {
    "duration": 7,
    "start_time": "2022-12-06T17:47:27.539Z"
   },
   {
    "duration": 354,
    "start_time": "2022-12-06T17:47:27.547Z"
   },
   {
    "duration": 134,
    "start_time": "2022-12-06T17:47:27.904Z"
   },
   {
    "duration": 8,
    "start_time": "2022-12-06T17:47:28.040Z"
   },
   {
    "duration": 9,
    "start_time": "2022-12-06T17:47:28.049Z"
   },
   {
    "duration": 12,
    "start_time": "2022-12-06T17:47:28.059Z"
   },
   {
    "duration": 296,
    "start_time": "2022-12-06T17:47:28.072Z"
   },
   {
    "duration": 104,
    "start_time": "2022-12-06T17:47:28.370Z"
   },
   {
    "duration": 8,
    "start_time": "2022-12-06T17:47:28.475Z"
   },
   {
    "duration": 16,
    "start_time": "2022-12-06T17:47:28.485Z"
   },
   {
    "duration": 8,
    "start_time": "2022-12-06T17:47:28.502Z"
   },
   {
    "duration": 139,
    "start_time": "2022-12-06T17:47:28.512Z"
   },
   {
    "duration": 112,
    "start_time": "2022-12-06T17:47:28.652Z"
   },
   {
    "duration": 9,
    "start_time": "2022-12-06T17:47:28.766Z"
   },
   {
    "duration": 5,
    "start_time": "2022-12-06T17:47:28.776Z"
   },
   {
    "duration": 6,
    "start_time": "2022-12-06T17:47:28.798Z"
   },
   {
    "duration": 139,
    "start_time": "2022-12-06T17:47:28.805Z"
   },
   {
    "duration": 5,
    "start_time": "2022-12-06T17:47:28.945Z"
   },
   {
    "duration": 14,
    "start_time": "2022-12-06T17:47:28.952Z"
   },
   {
    "duration": 15,
    "start_time": "2022-12-06T17:47:28.968Z"
   },
   {
    "duration": 47,
    "start_time": "2022-12-06T17:50:29.489Z"
   },
   {
    "duration": 3,
    "start_time": "2022-12-06T17:58:33.052Z"
   },
   {
    "duration": 70,
    "start_time": "2022-12-06T17:58:33.057Z"
   },
   {
    "duration": 18,
    "start_time": "2022-12-06T17:58:33.129Z"
   },
   {
    "duration": 18,
    "start_time": "2022-12-06T17:58:33.150Z"
   },
   {
    "duration": 5,
    "start_time": "2022-12-06T17:58:33.170Z"
   },
   {
    "duration": 26,
    "start_time": "2022-12-06T17:58:33.177Z"
   },
   {
    "duration": 26,
    "start_time": "2022-12-06T17:58:33.205Z"
   },
   {
    "duration": 138,
    "start_time": "2022-12-06T17:58:33.233Z"
   },
   {
    "duration": 11,
    "start_time": "2022-12-06T17:58:33.373Z"
   },
   {
    "duration": 5,
    "start_time": "2022-12-06T17:58:33.396Z"
   },
   {
    "duration": 9,
    "start_time": "2022-12-06T17:58:33.403Z"
   },
   {
    "duration": 237,
    "start_time": "2022-12-06T17:58:33.413Z"
   },
   {
    "duration": 103,
    "start_time": "2022-12-06T17:58:33.652Z"
   },
   {
    "duration": 8,
    "start_time": "2022-12-06T17:58:33.757Z"
   },
   {
    "duration": 5,
    "start_time": "2022-12-06T17:58:33.767Z"
   },
   {
    "duration": 29,
    "start_time": "2022-12-06T17:58:33.773Z"
   },
   {
    "duration": 245,
    "start_time": "2022-12-06T17:58:33.803Z"
   },
   {
    "duration": 234,
    "start_time": "2022-12-06T17:58:34.049Z"
   },
   {
    "duration": 19,
    "start_time": "2022-12-06T17:58:34.285Z"
   },
   {
    "duration": 7,
    "start_time": "2022-12-06T17:58:34.306Z"
   },
   {
    "duration": 13,
    "start_time": "2022-12-06T17:58:34.315Z"
   },
   {
    "duration": 151,
    "start_time": "2022-12-06T17:58:34.330Z"
   },
   {
    "duration": 138,
    "start_time": "2022-12-06T17:58:34.482Z"
   },
   {
    "duration": 11,
    "start_time": "2022-12-06T17:58:34.623Z"
   },
   {
    "duration": 14,
    "start_time": "2022-12-06T17:58:34.636Z"
   },
   {
    "duration": 20,
    "start_time": "2022-12-06T17:58:34.652Z"
   },
   {
    "duration": 171,
    "start_time": "2022-12-06T17:58:34.675Z"
   },
   {
    "duration": 4,
    "start_time": "2022-12-06T17:58:34.847Z"
   },
   {
    "duration": 10,
    "start_time": "2022-12-06T17:58:34.853Z"
   },
   {
    "duration": 134,
    "start_time": "2022-12-06T17:58:39.145Z"
   },
   {
    "duration": 79,
    "start_time": "2022-12-06T17:59:06.619Z"
   },
   {
    "duration": 16,
    "start_time": "2022-12-06T17:59:47.268Z"
   },
   {
    "duration": 76,
    "start_time": "2022-12-06T18:00:20.141Z"
   },
   {
    "duration": 3,
    "start_time": "2022-12-06T18:02:44.967Z"
   },
   {
    "duration": 66,
    "start_time": "2022-12-06T18:02:44.972Z"
   },
   {
    "duration": 14,
    "start_time": "2022-12-06T18:02:45.040Z"
   },
   {
    "duration": 18,
    "start_time": "2022-12-06T18:02:45.056Z"
   },
   {
    "duration": 6,
    "start_time": "2022-12-06T18:02:45.077Z"
   },
   {
    "duration": 17,
    "start_time": "2022-12-06T18:02:45.085Z"
   },
   {
    "duration": 19,
    "start_time": "2022-12-06T18:02:45.104Z"
   },
   {
    "duration": 135,
    "start_time": "2022-12-06T18:02:45.125Z"
   },
   {
    "duration": 8,
    "start_time": "2022-12-06T18:02:45.262Z"
   },
   {
    "duration": 7,
    "start_time": "2022-12-06T18:02:45.272Z"
   },
   {
    "duration": 22,
    "start_time": "2022-12-06T18:02:45.281Z"
   },
   {
    "duration": 246,
    "start_time": "2022-12-06T18:02:45.304Z"
   },
   {
    "duration": 115,
    "start_time": "2022-12-06T18:02:45.552Z"
   },
   {
    "duration": 9,
    "start_time": "2022-12-06T18:02:45.670Z"
   },
   {
    "duration": 21,
    "start_time": "2022-12-06T18:02:45.681Z"
   },
   {
    "duration": 10,
    "start_time": "2022-12-06T18:02:45.704Z"
   },
   {
    "duration": 234,
    "start_time": "2022-12-06T18:02:45.715Z"
   },
   {
    "duration": 128,
    "start_time": "2022-12-06T18:02:45.950Z"
   },
   {
    "duration": 18,
    "start_time": "2022-12-06T18:02:46.080Z"
   },
   {
    "duration": 6,
    "start_time": "2022-12-06T18:02:46.100Z"
   },
   {
    "duration": 14,
    "start_time": "2022-12-06T18:02:46.107Z"
   },
   {
    "duration": 144,
    "start_time": "2022-12-06T18:02:46.123Z"
   },
   {
    "duration": 108,
    "start_time": "2022-12-06T18:02:46.268Z"
   },
   {
    "duration": 21,
    "start_time": "2022-12-06T18:02:46.378Z"
   },
   {
    "duration": 4,
    "start_time": "2022-12-06T18:02:46.401Z"
   },
   {
    "duration": 13,
    "start_time": "2022-12-06T18:02:46.407Z"
   },
   {
    "duration": 131,
    "start_time": "2022-12-06T18:02:46.421Z"
   },
   {
    "duration": 5,
    "start_time": "2022-12-06T18:02:46.553Z"
   },
   {
    "duration": 11,
    "start_time": "2022-12-06T18:02:46.560Z"
   },
   {
    "duration": 63,
    "start_time": "2022-12-06T18:02:52.073Z"
   },
   {
    "duration": 61,
    "start_time": "2022-12-06T18:03:52.058Z"
   },
   {
    "duration": 15,
    "start_time": "2022-12-06T18:04:04.771Z"
   },
   {
    "duration": 62,
    "start_time": "2022-12-06T18:04:24.484Z"
   },
   {
    "duration": 190,
    "start_time": "2022-12-06T18:10:06.593Z"
   },
   {
    "duration": 99,
    "start_time": "2022-12-06T18:13:35.987Z"
   },
   {
    "duration": 105,
    "start_time": "2022-12-06T18:13:41.723Z"
   },
   {
    "duration": 87,
    "start_time": "2022-12-06T18:13:52.679Z"
   },
   {
    "duration": 3,
    "start_time": "2022-12-06T18:13:56.980Z"
   },
   {
    "duration": 61,
    "start_time": "2022-12-06T18:13:56.985Z"
   },
   {
    "duration": 16,
    "start_time": "2022-12-06T18:13:57.048Z"
   },
   {
    "duration": 45,
    "start_time": "2022-12-06T18:13:57.065Z"
   },
   {
    "duration": 17,
    "start_time": "2022-12-06T18:13:57.113Z"
   },
   {
    "duration": 11,
    "start_time": "2022-12-06T18:13:57.132Z"
   },
   {
    "duration": 20,
    "start_time": "2022-12-06T18:13:57.145Z"
   },
   {
    "duration": 120,
    "start_time": "2022-12-06T18:13:57.166Z"
   },
   {
    "duration": 16,
    "start_time": "2022-12-06T18:13:57.287Z"
   },
   {
    "duration": 5,
    "start_time": "2022-12-06T18:13:57.305Z"
   },
   {
    "duration": 23,
    "start_time": "2022-12-06T18:13:57.312Z"
   },
   {
    "duration": 222,
    "start_time": "2022-12-06T18:13:57.336Z"
   },
   {
    "duration": 161,
    "start_time": "2022-12-06T18:13:57.561Z"
   },
   {
    "duration": 11,
    "start_time": "2022-12-06T18:13:57.723Z"
   },
   {
    "duration": 6,
    "start_time": "2022-12-06T18:13:57.736Z"
   },
   {
    "duration": 11,
    "start_time": "2022-12-06T18:13:57.743Z"
   },
   {
    "duration": 269,
    "start_time": "2022-12-06T18:13:57.756Z"
   },
   {
    "duration": 123,
    "start_time": "2022-12-06T18:13:58.027Z"
   },
   {
    "duration": 13,
    "start_time": "2022-12-06T18:13:58.152Z"
   },
   {
    "duration": 9,
    "start_time": "2022-12-06T18:13:58.167Z"
   },
   {
    "duration": 30,
    "start_time": "2022-12-06T18:13:58.178Z"
   },
   {
    "duration": 143,
    "start_time": "2022-12-06T18:13:58.209Z"
   },
   {
    "duration": 132,
    "start_time": "2022-12-06T18:13:58.353Z"
   },
   {
    "duration": 8,
    "start_time": "2022-12-06T18:13:58.497Z"
   },
   {
    "duration": 5,
    "start_time": "2022-12-06T18:13:58.506Z"
   },
   {
    "duration": 10,
    "start_time": "2022-12-06T18:13:58.512Z"
   },
   {
    "duration": 143,
    "start_time": "2022-12-06T18:13:58.523Z"
   },
   {
    "duration": 4,
    "start_time": "2022-12-06T18:13:58.668Z"
   },
   {
    "duration": 13,
    "start_time": "2022-12-06T18:13:58.674Z"
   },
   {
    "duration": 81,
    "start_time": "2022-12-06T18:13:58.697Z"
   },
   {
    "duration": 22,
    "start_time": "2022-12-06T18:13:58.780Z"
   },
   {
    "duration": 33,
    "start_time": "2022-12-06T18:13:58.804Z"
   },
   {
    "duration": 4,
    "start_time": "2022-12-06T18:13:58.839Z"
   },
   {
    "duration": 11,
    "start_time": "2022-12-06T18:13:58.844Z"
   },
   {
    "duration": 42,
    "start_time": "2022-12-06T18:13:58.856Z"
   },
   {
    "duration": 21,
    "start_time": "2022-12-06T18:13:58.900Z"
   },
   {
    "duration": 295,
    "start_time": "2022-12-06T18:13:58.927Z"
   },
   {
    "duration": 15,
    "start_time": "2022-12-06T18:13:59.223Z"
   },
   {
    "duration": 25,
    "start_time": "2022-12-06T18:13:59.239Z"
   },
   {
    "duration": 34,
    "start_time": "2022-12-06T18:13:59.265Z"
   },
   {
    "duration": 13,
    "start_time": "2022-12-06T18:13:59.301Z"
   },
   {
    "duration": 20,
    "start_time": "2022-12-06T18:13:59.316Z"
   },
   {
    "duration": 151,
    "start_time": "2022-12-06T18:13:59.337Z"
   },
   {
    "duration": 169,
    "start_time": "2022-12-06T18:13:59.489Z"
   },
   {
    "duration": 161,
    "start_time": "2022-12-06T18:13:59.659Z"
   },
   {
    "duration": 317,
    "start_time": "2022-12-06T18:13:59.822Z"
   },
   {
    "duration": 163,
    "start_time": "2022-12-06T18:14:00.141Z"
   },
   {
    "duration": 265,
    "start_time": "2022-12-06T18:14:00.306Z"
   },
   {
    "duration": 174,
    "start_time": "2022-12-06T18:14:00.572Z"
   },
   {
    "duration": 209,
    "start_time": "2022-12-06T18:14:00.749Z"
   },
   {
    "duration": 153,
    "start_time": "2022-12-06T18:14:00.960Z"
   },
   {
    "duration": 114,
    "start_time": "2022-12-06T18:14:01.114Z"
   },
   {
    "duration": 141,
    "start_time": "2022-12-06T18:14:01.230Z"
   },
   {
    "duration": 110,
    "start_time": "2022-12-06T18:14:01.373Z"
   },
   {
    "duration": 142,
    "start_time": "2022-12-06T18:14:01.485Z"
   },
   {
    "duration": 143,
    "start_time": "2022-12-06T18:14:01.628Z"
   },
   {
    "duration": 11,
    "start_time": "2022-12-06T18:14:01.773Z"
   },
   {
    "duration": 9,
    "start_time": "2022-12-06T18:14:01.797Z"
   },
   {
    "duration": 24,
    "start_time": "2022-12-06T18:14:01.807Z"
   },
   {
    "duration": 175,
    "start_time": "2022-12-06T18:14:01.833Z"
   },
   {
    "duration": 8,
    "start_time": "2022-12-06T18:14:02.010Z"
   },
   {
    "duration": 24,
    "start_time": "2022-12-06T18:14:02.019Z"
   },
   {
    "duration": 35,
    "start_time": "2022-12-06T18:14:02.045Z"
   },
   {
    "duration": 0,
    "start_time": "2022-12-06T18:14:02.082Z"
   },
   {
    "duration": 0,
    "start_time": "2022-12-06T18:14:02.083Z"
   },
   {
    "duration": 0,
    "start_time": "2022-12-06T18:14:02.084Z"
   },
   {
    "duration": 0,
    "start_time": "2022-12-06T18:14:02.086Z"
   },
   {
    "duration": 0,
    "start_time": "2022-12-06T18:14:02.086Z"
   },
   {
    "duration": 0,
    "start_time": "2022-12-06T18:14:02.088Z"
   },
   {
    "duration": 0,
    "start_time": "2022-12-06T18:14:02.098Z"
   },
   {
    "duration": 0,
    "start_time": "2022-12-06T18:14:02.099Z"
   },
   {
    "duration": 0,
    "start_time": "2022-12-06T18:14:02.100Z"
   },
   {
    "duration": 0,
    "start_time": "2022-12-06T18:14:02.101Z"
   },
   {
    "duration": 0,
    "start_time": "2022-12-06T18:14:02.103Z"
   },
   {
    "duration": 17,
    "start_time": "2022-12-06T18:15:44.382Z"
   },
   {
    "duration": 20,
    "start_time": "2022-12-06T18:16:16.151Z"
   },
   {
    "duration": 17,
    "start_time": "2022-12-06T18:16:25.623Z"
   },
   {
    "duration": 2,
    "start_time": "2022-12-06T18:16:37.424Z"
   },
   {
    "duration": 57,
    "start_time": "2022-12-06T18:16:37.428Z"
   },
   {
    "duration": 13,
    "start_time": "2022-12-06T18:16:37.487Z"
   },
   {
    "duration": 16,
    "start_time": "2022-12-06T18:16:37.502Z"
   },
   {
    "duration": 5,
    "start_time": "2022-12-06T18:16:37.520Z"
   },
   {
    "duration": 9,
    "start_time": "2022-12-06T18:16:37.526Z"
   },
   {
    "duration": 17,
    "start_time": "2022-12-06T18:16:37.536Z"
   },
   {
    "duration": 128,
    "start_time": "2022-12-06T18:16:37.555Z"
   },
   {
    "duration": 17,
    "start_time": "2022-12-06T18:16:37.685Z"
   },
   {
    "duration": 6,
    "start_time": "2022-12-06T18:16:37.703Z"
   },
   {
    "duration": 16,
    "start_time": "2022-12-06T18:16:37.712Z"
   },
   {
    "duration": 230,
    "start_time": "2022-12-06T18:16:37.730Z"
   },
   {
    "duration": 111,
    "start_time": "2022-12-06T18:16:37.962Z"
   },
   {
    "duration": 23,
    "start_time": "2022-12-06T18:16:38.075Z"
   },
   {
    "duration": 5,
    "start_time": "2022-12-06T18:16:38.100Z"
   },
   {
    "duration": 10,
    "start_time": "2022-12-06T18:16:38.106Z"
   },
   {
    "duration": 243,
    "start_time": "2022-12-06T18:16:38.118Z"
   },
   {
    "duration": 249,
    "start_time": "2022-12-06T18:16:38.362Z"
   },
   {
    "duration": 8,
    "start_time": "2022-12-06T18:16:38.613Z"
   },
   {
    "duration": 5,
    "start_time": "2022-12-06T18:16:38.623Z"
   },
   {
    "duration": 6,
    "start_time": "2022-12-06T18:16:38.630Z"
   },
   {
    "duration": 152,
    "start_time": "2022-12-06T18:16:38.637Z"
   },
   {
    "duration": 112,
    "start_time": "2022-12-06T18:16:38.797Z"
   },
   {
    "duration": 10,
    "start_time": "2022-12-06T18:16:38.911Z"
   },
   {
    "duration": 6,
    "start_time": "2022-12-06T18:16:38.923Z"
   },
   {
    "duration": 13,
    "start_time": "2022-12-06T18:16:38.931Z"
   },
   {
    "duration": 155,
    "start_time": "2022-12-06T18:16:38.946Z"
   },
   {
    "duration": 5,
    "start_time": "2022-12-06T18:16:39.104Z"
   },
   {
    "duration": 12,
    "start_time": "2022-12-06T18:16:39.112Z"
   },
   {
    "duration": 15,
    "start_time": "2022-12-06T18:16:45.480Z"
   },
   {
    "duration": 22,
    "start_time": "2022-12-06T18:18:19.321Z"
   },
   {
    "duration": 21,
    "start_time": "2022-12-06T18:18:23.523Z"
   },
   {
    "duration": 21,
    "start_time": "2022-12-06T18:18:49.155Z"
   },
   {
    "duration": 2,
    "start_time": "2022-12-06T18:18:55.030Z"
   },
   {
    "duration": 60,
    "start_time": "2022-12-06T18:18:55.034Z"
   },
   {
    "duration": 12,
    "start_time": "2022-12-06T18:18:55.096Z"
   },
   {
    "duration": 15,
    "start_time": "2022-12-06T18:18:55.110Z"
   },
   {
    "duration": 4,
    "start_time": "2022-12-06T18:18:55.126Z"
   },
   {
    "duration": 7,
    "start_time": "2022-12-06T18:18:55.131Z"
   },
   {
    "duration": 20,
    "start_time": "2022-12-06T18:18:55.140Z"
   },
   {
    "duration": 140,
    "start_time": "2022-12-06T18:18:55.161Z"
   },
   {
    "duration": 8,
    "start_time": "2022-12-06T18:18:55.303Z"
   },
   {
    "duration": 5,
    "start_time": "2022-12-06T18:18:55.313Z"
   },
   {
    "duration": 8,
    "start_time": "2022-12-06T18:18:55.319Z"
   },
   {
    "duration": 227,
    "start_time": "2022-12-06T18:18:55.329Z"
   },
   {
    "duration": 103,
    "start_time": "2022-12-06T18:18:55.557Z"
   },
   {
    "duration": 10,
    "start_time": "2022-12-06T18:18:55.664Z"
   },
   {
    "duration": 5,
    "start_time": "2022-12-06T18:18:55.676Z"
   },
   {
    "duration": 21,
    "start_time": "2022-12-06T18:18:55.683Z"
   },
   {
    "duration": 232,
    "start_time": "2022-12-06T18:18:55.705Z"
   },
   {
    "duration": 111,
    "start_time": "2022-12-06T18:18:55.939Z"
   },
   {
    "duration": 7,
    "start_time": "2022-12-06T18:18:56.052Z"
   },
   {
    "duration": 5,
    "start_time": "2022-12-06T18:18:56.061Z"
   },
   {
    "duration": 8,
    "start_time": "2022-12-06T18:18:56.067Z"
   },
   {
    "duration": 128,
    "start_time": "2022-12-06T18:18:56.097Z"
   },
   {
    "duration": 121,
    "start_time": "2022-12-06T18:18:56.227Z"
   },
   {
    "duration": 8,
    "start_time": "2022-12-06T18:18:56.351Z"
   },
   {
    "duration": 5,
    "start_time": "2022-12-06T18:18:56.361Z"
   },
   {
    "duration": 11,
    "start_time": "2022-12-06T18:18:56.367Z"
   },
   {
    "duration": 132,
    "start_time": "2022-12-06T18:18:56.397Z"
   },
   {
    "duration": 5,
    "start_time": "2022-12-06T18:18:56.530Z"
   },
   {
    "duration": 11,
    "start_time": "2022-12-06T18:18:56.536Z"
   },
   {
    "duration": 22,
    "start_time": "2022-12-06T18:19:03.107Z"
   },
   {
    "duration": 9,
    "start_time": "2022-12-06T18:21:09.767Z"
   },
   {
    "duration": 22,
    "start_time": "2022-12-06T18:23:11.547Z"
   },
   {
    "duration": 21,
    "start_time": "2022-12-06T18:23:40.012Z"
   },
   {
    "duration": 14,
    "start_time": "2022-12-06T18:27:41.987Z"
   },
   {
    "duration": 21,
    "start_time": "2022-12-06T18:27:58.339Z"
   },
   {
    "duration": 49,
    "start_time": "2022-12-06T18:30:21.262Z"
   },
   {
    "duration": 55,
    "start_time": "2022-12-06T18:30:40.583Z"
   },
   {
    "duration": 3,
    "start_time": "2022-12-06T18:31:25.301Z"
   },
   {
    "duration": 67,
    "start_time": "2022-12-06T18:31:25.306Z"
   },
   {
    "duration": 13,
    "start_time": "2022-12-06T18:31:25.374Z"
   },
   {
    "duration": 32,
    "start_time": "2022-12-06T18:31:25.389Z"
   },
   {
    "duration": 5,
    "start_time": "2022-12-06T18:31:25.423Z"
   },
   {
    "duration": 23,
    "start_time": "2022-12-06T18:31:25.429Z"
   },
   {
    "duration": 17,
    "start_time": "2022-12-06T18:31:25.454Z"
   },
   {
    "duration": 111,
    "start_time": "2022-12-06T18:31:25.472Z"
   },
   {
    "duration": 17,
    "start_time": "2022-12-06T18:31:25.586Z"
   },
   {
    "duration": 19,
    "start_time": "2022-12-06T18:31:25.604Z"
   },
   {
    "duration": 33,
    "start_time": "2022-12-06T18:31:25.625Z"
   },
   {
    "duration": 221,
    "start_time": "2022-12-06T18:31:25.660Z"
   },
   {
    "duration": 104,
    "start_time": "2022-12-06T18:31:25.882Z"
   },
   {
    "duration": 7,
    "start_time": "2022-12-06T18:31:25.997Z"
   },
   {
    "duration": 8,
    "start_time": "2022-12-06T18:31:26.006Z"
   },
   {
    "duration": 33,
    "start_time": "2022-12-06T18:31:26.015Z"
   },
   {
    "duration": 226,
    "start_time": "2022-12-06T18:31:26.050Z"
   },
   {
    "duration": 284,
    "start_time": "2022-12-06T18:31:26.277Z"
   },
   {
    "duration": 8,
    "start_time": "2022-12-06T18:31:26.563Z"
   },
   {
    "duration": 24,
    "start_time": "2022-12-06T18:31:26.573Z"
   },
   {
    "duration": 20,
    "start_time": "2022-12-06T18:31:26.599Z"
   },
   {
    "duration": 139,
    "start_time": "2022-12-06T18:31:26.620Z"
   },
   {
    "duration": 121,
    "start_time": "2022-12-06T18:31:26.761Z"
   },
   {
    "duration": 18,
    "start_time": "2022-12-06T18:31:26.885Z"
   },
   {
    "duration": 13,
    "start_time": "2022-12-06T18:31:26.905Z"
   },
   {
    "duration": 23,
    "start_time": "2022-12-06T18:31:26.920Z"
   },
   {
    "duration": 130,
    "start_time": "2022-12-06T18:31:26.944Z"
   },
   {
    "duration": 23,
    "start_time": "2022-12-06T18:31:27.076Z"
   },
   {
    "duration": 20,
    "start_time": "2022-12-06T18:31:27.100Z"
   },
   {
    "duration": 65,
    "start_time": "2022-12-06T18:31:34.168Z"
   },
   {
    "duration": 60,
    "start_time": "2022-12-06T18:32:37.945Z"
   },
   {
    "duration": 89,
    "start_time": "2022-12-06T18:33:38.854Z"
   },
   {
    "duration": 50,
    "start_time": "2022-12-06T18:34:30.958Z"
   },
   {
    "duration": 63,
    "start_time": "2022-12-06T18:39:34.952Z"
   },
   {
    "duration": 78,
    "start_time": "2022-12-06T18:39:45.743Z"
   },
   {
    "duration": 134,
    "start_time": "2022-12-06T18:39:51.902Z"
   },
   {
    "duration": 82,
    "start_time": "2022-12-06T18:44:15.014Z"
   },
   {
    "duration": 57,
    "start_time": "2022-12-06T18:46:17.570Z"
   },
   {
    "duration": 66,
    "start_time": "2022-12-06T18:58:08.781Z"
   },
   {
    "duration": 3,
    "start_time": "2022-12-06T18:58:21.425Z"
   },
   {
    "duration": 57,
    "start_time": "2022-12-06T18:58:21.430Z"
   },
   {
    "duration": 16,
    "start_time": "2022-12-06T18:58:21.489Z"
   },
   {
    "duration": 18,
    "start_time": "2022-12-06T18:58:21.507Z"
   },
   {
    "duration": 6,
    "start_time": "2022-12-06T18:58:21.527Z"
   },
   {
    "duration": 24,
    "start_time": "2022-12-06T18:58:21.535Z"
   },
   {
    "duration": 21,
    "start_time": "2022-12-06T18:58:21.561Z"
   },
   {
    "duration": 138,
    "start_time": "2022-12-06T18:58:21.583Z"
   },
   {
    "duration": 11,
    "start_time": "2022-12-06T18:58:21.723Z"
   },
   {
    "duration": 12,
    "start_time": "2022-12-06T18:58:21.735Z"
   },
   {
    "duration": 23,
    "start_time": "2022-12-06T18:58:21.749Z"
   },
   {
    "duration": 268,
    "start_time": "2022-12-06T18:58:21.774Z"
   },
   {
    "duration": 109,
    "start_time": "2022-12-06T18:58:22.043Z"
   },
   {
    "duration": 10,
    "start_time": "2022-12-06T18:58:22.154Z"
   },
   {
    "duration": 8,
    "start_time": "2022-12-06T18:58:22.165Z"
   },
   {
    "duration": 27,
    "start_time": "2022-12-06T18:58:22.174Z"
   },
   {
    "duration": 227,
    "start_time": "2022-12-06T18:58:22.202Z"
   },
   {
    "duration": 117,
    "start_time": "2022-12-06T18:58:22.431Z"
   },
   {
    "duration": 9,
    "start_time": "2022-12-06T18:58:22.550Z"
   },
   {
    "duration": 10,
    "start_time": "2022-12-06T18:58:22.561Z"
   },
   {
    "duration": 26,
    "start_time": "2022-12-06T18:58:22.573Z"
   },
   {
    "duration": 131,
    "start_time": "2022-12-06T18:58:22.600Z"
   },
   {
    "duration": 110,
    "start_time": "2022-12-06T18:58:22.732Z"
   },
   {
    "duration": 8,
    "start_time": "2022-12-06T18:58:22.846Z"
   },
   {
    "duration": 10,
    "start_time": "2022-12-06T18:58:22.856Z"
   },
   {
    "duration": 13,
    "start_time": "2022-12-06T18:58:22.867Z"
   },
   {
    "duration": 141,
    "start_time": "2022-12-06T18:58:22.881Z"
   },
   {
    "duration": 5,
    "start_time": "2022-12-06T18:58:23.024Z"
   },
   {
    "duration": 10,
    "start_time": "2022-12-06T18:58:23.031Z"
   },
   {
    "duration": 87,
    "start_time": "2022-12-06T18:58:23.042Z"
   },
   {
    "duration": 7,
    "start_time": "2022-12-06T18:58:23.130Z"
   },
   {
    "duration": 65,
    "start_time": "2022-12-06T18:58:27.140Z"
   },
   {
    "duration": 93,
    "start_time": "2022-12-06T19:04:49.031Z"
   },
   {
    "duration": 2,
    "start_time": "2022-12-06T19:08:48.604Z"
   },
   {
    "duration": 81,
    "start_time": "2022-12-06T19:08:48.608Z"
   },
   {
    "duration": 13,
    "start_time": "2022-12-06T19:08:48.692Z"
   },
   {
    "duration": 31,
    "start_time": "2022-12-06T19:08:48.707Z"
   },
   {
    "duration": 17,
    "start_time": "2022-12-06T19:08:48.741Z"
   },
   {
    "duration": 37,
    "start_time": "2022-12-06T19:08:48.759Z"
   },
   {
    "duration": 33,
    "start_time": "2022-12-06T19:08:48.798Z"
   },
   {
    "duration": 122,
    "start_time": "2022-12-06T19:08:48.833Z"
   },
   {
    "duration": 8,
    "start_time": "2022-12-06T19:08:48.957Z"
   },
   {
    "duration": 14,
    "start_time": "2022-12-06T19:08:48.966Z"
   },
   {
    "duration": 22,
    "start_time": "2022-12-06T19:08:48.983Z"
   },
   {
    "duration": 240,
    "start_time": "2022-12-06T19:08:49.006Z"
   },
   {
    "duration": 114,
    "start_time": "2022-12-06T19:08:49.248Z"
   },
   {
    "duration": 8,
    "start_time": "2022-12-06T19:08:49.364Z"
   },
   {
    "duration": 16,
    "start_time": "2022-12-06T19:08:49.374Z"
   },
   {
    "duration": 25,
    "start_time": "2022-12-06T19:08:49.392Z"
   },
   {
    "duration": 243,
    "start_time": "2022-12-06T19:08:49.418Z"
   },
   {
    "duration": 116,
    "start_time": "2022-12-06T19:08:49.663Z"
   },
   {
    "duration": 20,
    "start_time": "2022-12-06T19:08:49.781Z"
   },
   {
    "duration": 5,
    "start_time": "2022-12-06T19:08:49.803Z"
   },
   {
    "duration": 9,
    "start_time": "2022-12-06T19:08:49.810Z"
   },
   {
    "duration": 168,
    "start_time": "2022-12-06T19:08:49.821Z"
   },
   {
    "duration": 133,
    "start_time": "2022-12-06T19:08:49.991Z"
   },
   {
    "duration": 9,
    "start_time": "2022-12-06T19:08:50.125Z"
   },
   {
    "duration": 9,
    "start_time": "2022-12-06T19:08:50.135Z"
   },
   {
    "duration": 8,
    "start_time": "2022-12-06T19:08:50.146Z"
   },
   {
    "duration": 148,
    "start_time": "2022-12-06T19:08:50.156Z"
   },
   {
    "duration": 6,
    "start_time": "2022-12-06T19:08:50.306Z"
   },
   {
    "duration": 14,
    "start_time": "2022-12-06T19:08:50.315Z"
   },
   {
    "duration": 309,
    "start_time": "2022-12-06T19:08:50.331Z"
   },
   {
    "duration": 5,
    "start_time": "2022-12-06T19:08:50.642Z"
   },
   {
    "duration": 97,
    "start_time": "2022-12-06T19:08:50.649Z"
   },
   {
    "duration": 5,
    "start_time": "2022-12-06T19:08:50.748Z"
   },
   {
    "duration": 9,
    "start_time": "2022-12-06T19:08:50.754Z"
   },
   {
    "duration": 33,
    "start_time": "2022-12-06T19:08:50.765Z"
   },
   {
    "duration": 734,
    "start_time": "2022-12-06T19:11:01.241Z"
   },
   {
    "duration": 9,
    "start_time": "2022-12-06T19:11:14.329Z"
   },
   {
    "duration": 8,
    "start_time": "2022-12-06T19:11:52.810Z"
   },
   {
    "duration": 7,
    "start_time": "2022-12-06T19:12:11.515Z"
   },
   {
    "duration": 6,
    "start_time": "2022-12-06T19:13:17.261Z"
   },
   {
    "duration": 10,
    "start_time": "2022-12-06T19:13:40.093Z"
   },
   {
    "duration": 7,
    "start_time": "2022-12-06T19:14:01.670Z"
   },
   {
    "duration": 3,
    "start_time": "2022-12-06T19:20:43.492Z"
   },
   {
    "duration": 57,
    "start_time": "2022-12-06T19:20:43.498Z"
   },
   {
    "duration": 14,
    "start_time": "2022-12-06T19:20:43.556Z"
   },
   {
    "duration": 34,
    "start_time": "2022-12-06T19:20:43.572Z"
   },
   {
    "duration": 4,
    "start_time": "2022-12-06T19:20:43.608Z"
   },
   {
    "duration": 8,
    "start_time": "2022-12-06T19:20:43.614Z"
   },
   {
    "duration": 20,
    "start_time": "2022-12-06T19:20:43.624Z"
   },
   {
    "duration": 156,
    "start_time": "2022-12-06T19:20:43.645Z"
   },
   {
    "duration": 9,
    "start_time": "2022-12-06T19:20:43.803Z"
   },
   {
    "duration": 6,
    "start_time": "2022-12-06T19:20:43.813Z"
   },
   {
    "duration": 9,
    "start_time": "2022-12-06T19:20:43.820Z"
   },
   {
    "duration": 263,
    "start_time": "2022-12-06T19:20:43.831Z"
   },
   {
    "duration": 119,
    "start_time": "2022-12-06T19:20:44.095Z"
   },
   {
    "duration": 9,
    "start_time": "2022-12-06T19:20:44.216Z"
   },
   {
    "duration": 6,
    "start_time": "2022-12-06T19:20:44.226Z"
   },
   {
    "duration": 8,
    "start_time": "2022-12-06T19:20:44.234Z"
   },
   {
    "duration": 254,
    "start_time": "2022-12-06T19:20:44.243Z"
   },
   {
    "duration": 147,
    "start_time": "2022-12-06T19:20:44.499Z"
   },
   {
    "duration": 10,
    "start_time": "2022-12-06T19:20:44.649Z"
   },
   {
    "duration": 7,
    "start_time": "2022-12-06T19:20:44.662Z"
   },
   {
    "duration": 38,
    "start_time": "2022-12-06T19:20:44.671Z"
   },
   {
    "duration": 166,
    "start_time": "2022-12-06T19:20:44.713Z"
   },
   {
    "duration": 124,
    "start_time": "2022-12-06T19:20:44.881Z"
   },
   {
    "duration": 9,
    "start_time": "2022-12-06T19:20:45.008Z"
   },
   {
    "duration": 14,
    "start_time": "2022-12-06T19:20:45.019Z"
   },
   {
    "duration": 12,
    "start_time": "2022-12-06T19:20:45.035Z"
   },
   {
    "duration": 142,
    "start_time": "2022-12-06T19:20:45.048Z"
   },
   {
    "duration": 8,
    "start_time": "2022-12-06T19:20:45.192Z"
   },
   {
    "duration": 24,
    "start_time": "2022-12-06T19:20:45.201Z"
   },
   {
    "duration": 96,
    "start_time": "2022-12-06T19:20:45.228Z"
   },
   {
    "duration": 21,
    "start_time": "2022-12-06T19:20:45.326Z"
   },
   {
    "duration": 93,
    "start_time": "2022-12-06T19:20:45.349Z"
   },
   {
    "duration": 5,
    "start_time": "2022-12-06T19:20:45.443Z"
   },
   {
    "duration": 13,
    "start_time": "2022-12-06T19:20:45.449Z"
   },
   {
    "duration": 37,
    "start_time": "2022-12-06T19:20:45.464Z"
   },
   {
    "duration": 11,
    "start_time": "2022-12-06T19:20:45.503Z"
   },
   {
    "duration": 30,
    "start_time": "2022-12-06T19:20:45.524Z"
   },
   {
    "duration": 321,
    "start_time": "2022-12-06T19:20:45.556Z"
   },
   {
    "duration": 19,
    "start_time": "2022-12-06T19:20:45.879Z"
   },
   {
    "duration": 3,
    "start_time": "2022-12-06T19:22:32.964Z"
   },
   {
    "duration": 60,
    "start_time": "2022-12-06T19:22:32.968Z"
   },
   {
    "duration": 14,
    "start_time": "2022-12-06T19:22:33.029Z"
   },
   {
    "duration": 32,
    "start_time": "2022-12-06T19:22:33.045Z"
   },
   {
    "duration": 7,
    "start_time": "2022-12-06T19:22:33.097Z"
   },
   {
    "duration": 12,
    "start_time": "2022-12-06T19:22:33.106Z"
   },
   {
    "duration": 23,
    "start_time": "2022-12-06T19:22:33.119Z"
   },
   {
    "duration": 123,
    "start_time": "2022-12-06T19:22:33.144Z"
   },
   {
    "duration": 8,
    "start_time": "2022-12-06T19:22:33.269Z"
   },
   {
    "duration": 23,
    "start_time": "2022-12-06T19:22:33.279Z"
   },
   {
    "duration": 10,
    "start_time": "2022-12-06T19:22:33.304Z"
   },
   {
    "duration": 217,
    "start_time": "2022-12-06T19:22:33.316Z"
   },
   {
    "duration": 111,
    "start_time": "2022-12-06T19:22:33.535Z"
   },
   {
    "duration": 9,
    "start_time": "2022-12-06T19:22:33.650Z"
   },
   {
    "duration": 12,
    "start_time": "2022-12-06T19:22:33.661Z"
   },
   {
    "duration": 24,
    "start_time": "2022-12-06T19:22:33.675Z"
   },
   {
    "duration": 232,
    "start_time": "2022-12-06T19:22:33.701Z"
   },
   {
    "duration": 129,
    "start_time": "2022-12-06T19:22:33.934Z"
   },
   {
    "duration": 11,
    "start_time": "2022-12-06T19:22:34.064Z"
   },
   {
    "duration": 23,
    "start_time": "2022-12-06T19:22:34.077Z"
   },
   {
    "duration": 7,
    "start_time": "2022-12-06T19:22:34.101Z"
   },
   {
    "duration": 144,
    "start_time": "2022-12-06T19:22:34.109Z"
   },
   {
    "duration": 114,
    "start_time": "2022-12-06T19:22:34.255Z"
   },
   {
    "duration": 11,
    "start_time": "2022-12-06T19:22:34.370Z"
   },
   {
    "duration": 19,
    "start_time": "2022-12-06T19:22:34.383Z"
   },
   {
    "duration": 8,
    "start_time": "2022-12-06T19:22:34.404Z"
   },
   {
    "duration": 146,
    "start_time": "2022-12-06T19:22:34.414Z"
   },
   {
    "duration": 5,
    "start_time": "2022-12-06T19:22:34.562Z"
   },
   {
    "duration": 10,
    "start_time": "2022-12-06T19:22:34.568Z"
   },
   {
    "duration": 100,
    "start_time": "2022-12-06T19:22:34.580Z"
   },
   {
    "duration": 19,
    "start_time": "2022-12-06T19:22:34.682Z"
   },
   {
    "duration": 113,
    "start_time": "2022-12-06T19:22:34.703Z"
   },
   {
    "duration": 6,
    "start_time": "2022-12-06T19:22:34.818Z"
   },
   {
    "duration": 11,
    "start_time": "2022-12-06T19:22:34.826Z"
   },
   {
    "duration": 33,
    "start_time": "2022-12-06T19:22:34.839Z"
   },
   {
    "duration": 29,
    "start_time": "2022-12-06T19:22:34.874Z"
   },
   {
    "duration": 20,
    "start_time": "2022-12-06T19:22:34.905Z"
   },
   {
    "duration": 230,
    "start_time": "2022-12-06T19:22:34.927Z"
   },
   {
    "duration": 14,
    "start_time": "2022-12-06T19:22:35.159Z"
   },
   {
    "duration": 32,
    "start_time": "2022-12-06T19:22:35.175Z"
   },
   {
    "duration": 11,
    "start_time": "2022-12-06T19:22:35.211Z"
   },
   {
    "duration": 17,
    "start_time": "2022-12-06T19:22:35.224Z"
   },
   {
    "duration": 19,
    "start_time": "2022-12-06T19:22:35.243Z"
   },
   {
    "duration": 157,
    "start_time": "2022-12-06T19:22:35.263Z"
   },
   {
    "duration": 157,
    "start_time": "2022-12-06T19:22:35.422Z"
   },
   {
    "duration": 167,
    "start_time": "2022-12-06T19:22:35.581Z"
   },
   {
    "duration": 173,
    "start_time": "2022-12-06T19:22:35.750Z"
   },
   {
    "duration": 175,
    "start_time": "2022-12-06T19:22:35.924Z"
   },
   {
    "duration": 420,
    "start_time": "2022-12-06T19:22:36.100Z"
   },
   {
    "duration": 167,
    "start_time": "2022-12-06T19:22:36.521Z"
   },
   {
    "duration": 184,
    "start_time": "2022-12-06T19:22:36.690Z"
   },
   {
    "duration": 153,
    "start_time": "2022-12-06T19:22:36.876Z"
   },
   {
    "duration": 58,
    "start_time": "2022-12-06T19:37:47.928Z"
   },
   {
    "duration": 16,
    "start_time": "2022-12-06T19:41:18.050Z"
   },
   {
    "duration": 44,
    "start_time": "2022-12-06T19:41:40.286Z"
   },
   {
    "duration": 52,
    "start_time": "2022-12-06T19:42:10.495Z"
   },
   {
    "duration": 97,
    "start_time": "2022-12-06T19:42:30.032Z"
   },
   {
    "duration": 47,
    "start_time": "2022-12-06T19:42:39.551Z"
   },
   {
    "duration": 47,
    "start_time": "2022-12-06T19:43:25.200Z"
   },
   {
    "duration": 3,
    "start_time": "2022-12-06T19:46:01.724Z"
   },
   {
    "duration": 57,
    "start_time": "2022-12-06T19:46:01.729Z"
   },
   {
    "duration": 14,
    "start_time": "2022-12-06T19:46:01.787Z"
   },
   {
    "duration": 45,
    "start_time": "2022-12-06T19:46:01.803Z"
   },
   {
    "duration": 5,
    "start_time": "2022-12-06T19:46:01.850Z"
   },
   {
    "duration": 12,
    "start_time": "2022-12-06T19:46:01.857Z"
   },
   {
    "duration": 26,
    "start_time": "2022-12-06T19:46:01.870Z"
   },
   {
    "duration": 167,
    "start_time": "2022-12-06T19:46:01.900Z"
   },
   {
    "duration": 9,
    "start_time": "2022-12-06T19:46:02.070Z"
   },
   {
    "duration": 6,
    "start_time": "2022-12-06T19:46:02.081Z"
   },
   {
    "duration": 16,
    "start_time": "2022-12-06T19:46:02.097Z"
   },
   {
    "duration": 245,
    "start_time": "2022-12-06T19:46:02.115Z"
   },
   {
    "duration": 122,
    "start_time": "2022-12-06T19:46:02.365Z"
   },
   {
    "duration": 23,
    "start_time": "2022-12-06T19:46:02.489Z"
   },
   {
    "duration": 13,
    "start_time": "2022-12-06T19:46:02.514Z"
   },
   {
    "duration": 10,
    "start_time": "2022-12-06T19:46:02.530Z"
   },
   {
    "duration": 252,
    "start_time": "2022-12-06T19:46:02.542Z"
   },
   {
    "duration": 131,
    "start_time": "2022-12-06T19:46:02.798Z"
   },
   {
    "duration": 8,
    "start_time": "2022-12-06T19:46:02.931Z"
   },
   {
    "duration": 6,
    "start_time": "2022-12-06T19:46:02.941Z"
   },
   {
    "duration": 16,
    "start_time": "2022-12-06T19:46:02.949Z"
   },
   {
    "duration": 196,
    "start_time": "2022-12-06T19:46:02.967Z"
   },
   {
    "duration": 173,
    "start_time": "2022-12-06T19:46:03.165Z"
   },
   {
    "duration": 16,
    "start_time": "2022-12-06T19:46:03.343Z"
   },
   {
    "duration": 7,
    "start_time": "2022-12-06T19:46:03.362Z"
   },
   {
    "duration": 28,
    "start_time": "2022-12-06T19:46:03.372Z"
   },
   {
    "duration": 164,
    "start_time": "2022-12-06T19:46:03.402Z"
   },
   {
    "duration": 6,
    "start_time": "2022-12-06T19:46:03.568Z"
   },
   {
    "duration": 16,
    "start_time": "2022-12-06T19:46:03.576Z"
   },
   {
    "duration": 85,
    "start_time": "2022-12-06T19:46:03.594Z"
   },
   {
    "duration": 6,
    "start_time": "2022-12-06T19:46:03.680Z"
   },
   {
    "duration": 92,
    "start_time": "2022-12-06T19:46:03.687Z"
   },
   {
    "duration": 5,
    "start_time": "2022-12-06T19:46:03.781Z"
   },
   {
    "duration": 11,
    "start_time": "2022-12-06T19:46:03.798Z"
   },
   {
    "duration": 39,
    "start_time": "2022-12-06T19:46:03.811Z"
   },
   {
    "duration": 9,
    "start_time": "2022-12-06T19:46:03.852Z"
   },
   {
    "duration": 21,
    "start_time": "2022-12-06T19:46:03.862Z"
   },
   {
    "duration": 259,
    "start_time": "2022-12-06T19:46:03.896Z"
   },
   {
    "duration": 16,
    "start_time": "2022-12-06T19:46:04.157Z"
   },
   {
    "duration": 42,
    "start_time": "2022-12-06T19:46:04.174Z"
   },
   {
    "duration": 17,
    "start_time": "2022-12-06T19:46:04.218Z"
   },
   {
    "duration": 17,
    "start_time": "2022-12-06T19:46:04.237Z"
   },
   {
    "duration": 47,
    "start_time": "2022-12-06T19:46:04.256Z"
   },
   {
    "duration": 173,
    "start_time": "2022-12-06T19:46:04.305Z"
   },
   {
    "duration": 187,
    "start_time": "2022-12-06T19:46:04.479Z"
   },
   {
    "duration": 209,
    "start_time": "2022-12-06T19:46:04.668Z"
   },
   {
    "duration": 260,
    "start_time": "2022-12-06T19:46:04.879Z"
   },
   {
    "duration": 177,
    "start_time": "2022-12-06T19:46:05.141Z"
   },
   {
    "duration": 192,
    "start_time": "2022-12-06T19:46:05.322Z"
   },
   {
    "duration": 219,
    "start_time": "2022-12-06T19:46:05.518Z"
   },
   {
    "duration": 190,
    "start_time": "2022-12-06T19:46:05.738Z"
   },
   {
    "duration": 177,
    "start_time": "2022-12-06T19:46:05.930Z"
   },
   {
    "duration": 5,
    "start_time": "2022-12-06T19:46:19.973Z"
   },
   {
    "duration": 44,
    "start_time": "2022-12-06T19:46:58.878Z"
   },
   {
    "duration": 44,
    "start_time": "2022-12-06T19:47:50.424Z"
   },
   {
    "duration": 44,
    "start_time": "2022-12-06T19:48:01.881Z"
   },
   {
    "duration": 44,
    "start_time": "2022-12-06T19:51:06.533Z"
   },
   {
    "duration": 5,
    "start_time": "2022-12-06T19:51:38.621Z"
   },
   {
    "duration": 5,
    "start_time": "2022-12-06T19:53:57.280Z"
   },
   {
    "duration": 5,
    "start_time": "2022-12-06T19:54:00.761Z"
   },
   {
    "duration": 114,
    "start_time": "2022-12-06T19:54:52.202Z"
   },
   {
    "duration": 103,
    "start_time": "2022-12-06T19:56:15.309Z"
   },
   {
    "duration": 121,
    "start_time": "2022-12-06T19:57:17.263Z"
   },
   {
    "duration": 3,
    "start_time": "2022-12-06T20:00:36.992Z"
   },
   {
    "duration": 58,
    "start_time": "2022-12-06T20:00:36.997Z"
   },
   {
    "duration": 14,
    "start_time": "2022-12-06T20:00:37.057Z"
   },
   {
    "duration": 26,
    "start_time": "2022-12-06T20:00:37.072Z"
   },
   {
    "duration": 4,
    "start_time": "2022-12-06T20:00:37.100Z"
   },
   {
    "duration": 10,
    "start_time": "2022-12-06T20:00:37.105Z"
   },
   {
    "duration": 20,
    "start_time": "2022-12-06T20:00:37.116Z"
   },
   {
    "duration": 131,
    "start_time": "2022-12-06T20:00:37.138Z"
   },
   {
    "duration": 8,
    "start_time": "2022-12-06T20:00:37.271Z"
   },
   {
    "duration": 22,
    "start_time": "2022-12-06T20:00:37.280Z"
   },
   {
    "duration": 7,
    "start_time": "2022-12-06T20:00:37.305Z"
   },
   {
    "duration": 228,
    "start_time": "2022-12-06T20:00:37.313Z"
   },
   {
    "duration": 110,
    "start_time": "2022-12-06T20:00:37.543Z"
   },
   {
    "duration": 8,
    "start_time": "2022-12-06T20:00:37.654Z"
   },
   {
    "duration": 5,
    "start_time": "2022-12-06T20:00:37.663Z"
   },
   {
    "duration": 7,
    "start_time": "2022-12-06T20:00:37.669Z"
   },
   {
    "duration": 237,
    "start_time": "2022-12-06T20:00:37.677Z"
   },
   {
    "duration": 108,
    "start_time": "2022-12-06T20:00:37.916Z"
   },
   {
    "duration": 8,
    "start_time": "2022-12-06T20:00:38.026Z"
   },
   {
    "duration": 5,
    "start_time": "2022-12-06T20:00:38.035Z"
   },
   {
    "duration": 10,
    "start_time": "2022-12-06T20:00:38.042Z"
   },
   {
    "duration": 414,
    "start_time": "2022-12-06T20:00:38.054Z"
   },
   {
    "duration": 139,
    "start_time": "2022-12-06T20:00:38.470Z"
   },
   {
    "duration": 8,
    "start_time": "2022-12-06T20:00:38.611Z"
   },
   {
    "duration": 5,
    "start_time": "2022-12-06T20:00:38.620Z"
   },
   {
    "duration": 9,
    "start_time": "2022-12-06T20:00:38.627Z"
   },
   {
    "duration": 144,
    "start_time": "2022-12-06T20:00:38.637Z"
   },
   {
    "duration": 5,
    "start_time": "2022-12-06T20:00:38.782Z"
   },
   {
    "duration": 9,
    "start_time": "2022-12-06T20:00:38.797Z"
   },
   {
    "duration": 75,
    "start_time": "2022-12-06T20:00:38.808Z"
   },
   {
    "duration": 5,
    "start_time": "2022-12-06T20:00:38.897Z"
   },
   {
    "duration": 93,
    "start_time": "2022-12-06T20:00:38.904Z"
   },
   {
    "duration": 4,
    "start_time": "2022-12-06T20:00:38.999Z"
   },
   {
    "duration": 7,
    "start_time": "2022-12-06T20:00:39.005Z"
   },
   {
    "duration": 24,
    "start_time": "2022-12-06T20:00:39.014Z"
   },
   {
    "duration": 10,
    "start_time": "2022-12-06T20:00:39.039Z"
   },
   {
    "duration": 71,
    "start_time": "2022-12-06T20:00:39.050Z"
   },
   {
    "duration": 257,
    "start_time": "2022-12-06T20:00:39.122Z"
   },
   {
    "duration": 26,
    "start_time": "2022-12-06T20:00:39.382Z"
   },
   {
    "duration": 30,
    "start_time": "2022-12-06T20:00:39.410Z"
   },
   {
    "duration": 14,
    "start_time": "2022-12-06T20:00:39.442Z"
   },
   {
    "duration": 26,
    "start_time": "2022-12-06T20:00:39.458Z"
   },
   {
    "duration": 33,
    "start_time": "2022-12-06T20:00:39.485Z"
   },
   {
    "duration": 145,
    "start_time": "2022-12-06T20:00:39.520Z"
   },
   {
    "duration": 216,
    "start_time": "2022-12-06T20:00:39.667Z"
   },
   {
    "duration": 178,
    "start_time": "2022-12-06T20:00:39.884Z"
   },
   {
    "duration": 201,
    "start_time": "2022-12-06T20:00:40.064Z"
   },
   {
    "duration": 160,
    "start_time": "2022-12-06T20:00:40.267Z"
   },
   {
    "duration": 198,
    "start_time": "2022-12-06T20:00:40.429Z"
   },
   {
    "duration": 178,
    "start_time": "2022-12-06T20:00:40.628Z"
   },
   {
    "duration": 190,
    "start_time": "2022-12-06T20:00:40.807Z"
   },
   {
    "duration": 155,
    "start_time": "2022-12-06T20:00:40.999Z"
   },
   {
    "duration": 5,
    "start_time": "2022-12-06T20:00:41.156Z"
   },
   {
    "duration": 107,
    "start_time": "2022-12-06T20:00:41.162Z"
   },
   {
    "duration": 108,
    "start_time": "2022-12-06T20:00:41.270Z"
   },
   {
    "duration": 103,
    "start_time": "2022-12-06T20:00:41.380Z"
   },
   {
    "duration": 108,
    "start_time": "2022-12-06T20:03:58.014Z"
   },
   {
    "duration": 105,
    "start_time": "2022-12-06T20:04:20.896Z"
   },
   {
    "duration": 85,
    "start_time": "2022-12-06T20:04:32.273Z"
   },
   {
    "duration": 101,
    "start_time": "2022-12-06T20:05:00.923Z"
   },
   {
    "duration": 32,
    "start_time": "2022-12-06T20:06:25.405Z"
   },
   {
    "duration": 10,
    "start_time": "2022-12-06T20:06:46.973Z"
   },
   {
    "duration": 11,
    "start_time": "2022-12-06T20:07:46.790Z"
   },
   {
    "duration": 10,
    "start_time": "2022-12-06T20:08:31.776Z"
   },
   {
    "duration": 143,
    "start_time": "2022-12-06T20:15:20.067Z"
   },
   {
    "duration": 144,
    "start_time": "2022-12-06T20:16:20.687Z"
   },
   {
    "duration": 11,
    "start_time": "2022-12-06T20:18:07.919Z"
   },
   {
    "duration": 12,
    "start_time": "2022-12-06T20:19:25.963Z"
   },
   {
    "duration": 123,
    "start_time": "2022-12-06T20:23:58.937Z"
   },
   {
    "duration": 131,
    "start_time": "2022-12-06T20:24:25.986Z"
   },
   {
    "duration": 137,
    "start_time": "2022-12-06T20:24:46.795Z"
   },
   {
    "duration": 10,
    "start_time": "2022-12-06T20:25:29.307Z"
   },
   {
    "duration": 11,
    "start_time": "2022-12-06T20:26:12.400Z"
   },
   {
    "duration": 130,
    "start_time": "2022-12-06T20:27:01.367Z"
   },
   {
    "duration": 124,
    "start_time": "2022-12-06T20:27:26.216Z"
   },
   {
    "duration": 9,
    "start_time": "2022-12-06T20:27:52.681Z"
   },
   {
    "duration": 9,
    "start_time": "2022-12-06T20:28:39.185Z"
   },
   {
    "duration": 41,
    "start_time": "2022-12-06T20:38:07.409Z"
   },
   {
    "duration": 11,
    "start_time": "2022-12-06T20:40:21.284Z"
   },
   {
    "duration": 112,
    "start_time": "2022-12-06T20:40:36.103Z"
   },
   {
    "duration": 156,
    "start_time": "2022-12-06T20:41:20.199Z"
   },
   {
    "duration": 7,
    "start_time": "2022-12-06T20:42:16.560Z"
   },
   {
    "duration": 49,
    "start_time": "2022-12-06T20:48:33.714Z"
   },
   {
    "duration": 14,
    "start_time": "2022-12-06T20:48:55.017Z"
   },
   {
    "duration": 14,
    "start_time": "2022-12-06T20:49:07.267Z"
   },
   {
    "duration": 19,
    "start_time": "2022-12-06T20:50:14.925Z"
   },
   {
    "duration": 2,
    "start_time": "2022-12-06T20:52:23.171Z"
   },
   {
    "duration": 61,
    "start_time": "2022-12-06T20:52:23.175Z"
   },
   {
    "duration": 12,
    "start_time": "2022-12-06T20:52:23.238Z"
   },
   {
    "duration": 15,
    "start_time": "2022-12-06T20:52:23.251Z"
   },
   {
    "duration": 5,
    "start_time": "2022-12-06T20:52:23.267Z"
   },
   {
    "duration": 7,
    "start_time": "2022-12-06T20:52:23.297Z"
   },
   {
    "duration": 43,
    "start_time": "2022-12-06T20:52:23.306Z"
   },
   {
    "duration": 108,
    "start_time": "2022-12-06T20:52:23.350Z"
   },
   {
    "duration": 8,
    "start_time": "2022-12-06T20:52:23.460Z"
   },
   {
    "duration": 5,
    "start_time": "2022-12-06T20:52:23.469Z"
   },
   {
    "duration": 33,
    "start_time": "2022-12-06T20:52:23.476Z"
   },
   {
    "duration": 212,
    "start_time": "2022-12-06T20:52:23.511Z"
   },
   {
    "duration": 109,
    "start_time": "2022-12-06T20:52:23.725Z"
   },
   {
    "duration": 7,
    "start_time": "2022-12-06T20:52:23.836Z"
   },
   {
    "duration": 4,
    "start_time": "2022-12-06T20:52:23.845Z"
   },
   {
    "duration": 10,
    "start_time": "2022-12-06T20:52:23.850Z"
   },
   {
    "duration": 245,
    "start_time": "2022-12-06T20:52:23.861Z"
   },
   {
    "duration": 116,
    "start_time": "2022-12-06T20:52:24.108Z"
   },
   {
    "duration": 8,
    "start_time": "2022-12-06T20:52:24.225Z"
   },
   {
    "duration": 6,
    "start_time": "2022-12-06T20:52:24.234Z"
   },
   {
    "duration": 11,
    "start_time": "2022-12-06T20:52:24.242Z"
   },
   {
    "duration": 134,
    "start_time": "2022-12-06T20:52:24.254Z"
   },
   {
    "duration": 116,
    "start_time": "2022-12-06T20:52:24.389Z"
   },
   {
    "duration": 9,
    "start_time": "2022-12-06T20:52:24.511Z"
   },
   {
    "duration": 12,
    "start_time": "2022-12-06T20:52:24.521Z"
   },
   {
    "duration": 13,
    "start_time": "2022-12-06T20:52:24.535Z"
   },
   {
    "duration": 173,
    "start_time": "2022-12-06T20:52:24.550Z"
   },
   {
    "duration": 6,
    "start_time": "2022-12-06T20:52:24.725Z"
   },
   {
    "duration": 15,
    "start_time": "2022-12-06T20:52:24.733Z"
   },
   {
    "duration": 84,
    "start_time": "2022-12-06T20:52:24.750Z"
   },
   {
    "duration": 5,
    "start_time": "2022-12-06T20:52:24.836Z"
   },
   {
    "duration": 95,
    "start_time": "2022-12-06T20:52:24.842Z"
   },
   {
    "duration": 4,
    "start_time": "2022-12-06T20:52:24.939Z"
   },
   {
    "duration": 8,
    "start_time": "2022-12-06T20:52:24.945Z"
   },
   {
    "duration": 27,
    "start_time": "2022-12-06T20:52:24.955Z"
   },
   {
    "duration": 26,
    "start_time": "2022-12-06T20:52:24.983Z"
   },
   {
    "duration": 18,
    "start_time": "2022-12-06T20:52:25.012Z"
   },
   {
    "duration": 219,
    "start_time": "2022-12-06T20:52:25.031Z"
   },
   {
    "duration": 13,
    "start_time": "2022-12-06T20:52:25.251Z"
   },
   {
    "duration": 32,
    "start_time": "2022-12-06T20:52:25.266Z"
   },
   {
    "duration": 15,
    "start_time": "2022-12-06T20:52:25.300Z"
   },
   {
    "duration": 13,
    "start_time": "2022-12-06T20:52:25.317Z"
   },
   {
    "duration": 18,
    "start_time": "2022-12-06T20:52:25.332Z"
   },
   {
    "duration": 154,
    "start_time": "2022-12-06T20:52:25.351Z"
   },
   {
    "duration": 164,
    "start_time": "2022-12-06T20:52:25.507Z"
   },
   {
    "duration": 178,
    "start_time": "2022-12-06T20:52:25.673Z"
   },
   {
    "duration": 194,
    "start_time": "2022-12-06T20:52:25.853Z"
   },
   {
    "duration": 165,
    "start_time": "2022-12-06T20:52:26.048Z"
   },
   {
    "duration": 541,
    "start_time": "2022-12-06T20:52:26.215Z"
   },
   {
    "duration": 182,
    "start_time": "2022-12-06T20:52:26.757Z"
   },
   {
    "duration": 183,
    "start_time": "2022-12-06T20:52:26.941Z"
   },
   {
    "duration": 158,
    "start_time": "2022-12-06T20:52:27.125Z"
   },
   {
    "duration": 5,
    "start_time": "2022-12-06T20:52:27.284Z"
   },
   {
    "duration": 125,
    "start_time": "2022-12-06T20:52:27.297Z"
   },
   {
    "duration": 10,
    "start_time": "2022-12-06T20:52:27.424Z"
   },
   {
    "duration": 120,
    "start_time": "2022-12-06T20:52:27.435Z"
   },
   {
    "duration": 10,
    "start_time": "2022-12-06T20:52:27.556Z"
   },
   {
    "duration": 117,
    "start_time": "2022-12-06T20:52:27.568Z"
   },
   {
    "duration": 10,
    "start_time": "2022-12-06T20:52:27.686Z"
   },
   {
    "duration": 153,
    "start_time": "2022-12-06T20:52:27.698Z"
   },
   {
    "duration": 150,
    "start_time": "2022-12-06T20:52:27.853Z"
   },
   {
    "duration": 13,
    "start_time": "2022-12-06T20:52:28.005Z"
   },
   {
    "duration": 9,
    "start_time": "2022-12-06T20:52:28.019Z"
   },
   {
    "duration": 131,
    "start_time": "2022-12-06T20:52:28.030Z"
   },
   {
    "duration": 146,
    "start_time": "2022-12-06T20:52:28.163Z"
   },
   {
    "duration": 11,
    "start_time": "2022-12-06T20:52:28.311Z"
   },
   {
    "duration": 30,
    "start_time": "2022-12-06T20:52:28.323Z"
   },
   {
    "duration": 176,
    "start_time": "2022-12-06T20:52:28.354Z"
   },
   {
    "duration": 153,
    "start_time": "2022-12-06T20:52:28.535Z"
   },
   {
    "duration": 15,
    "start_time": "2022-12-06T20:52:28.690Z"
   },
   {
    "duration": 19,
    "start_time": "2022-12-06T20:52:28.707Z"
   },
   {
    "duration": 11,
    "start_time": "2022-12-06T20:52:28.727Z"
   },
   {
    "duration": 154,
    "start_time": "2022-12-06T20:52:28.739Z"
   },
   {
    "duration": 12,
    "start_time": "2022-12-06T20:52:28.894Z"
   },
   {
    "duration": 20,
    "start_time": "2022-12-06T20:52:28.908Z"
   },
   {
    "duration": 15,
    "start_time": "2022-12-06T20:52:33.256Z"
   },
   {
    "duration": 15,
    "start_time": "2022-12-06T20:52:53.011Z"
   },
   {
    "duration": 16,
    "start_time": "2022-12-06T20:53:09.026Z"
   },
   {
    "duration": 15,
    "start_time": "2022-12-06T20:53:33.474Z"
   },
   {
    "duration": 16,
    "start_time": "2022-12-06T20:53:48.370Z"
   },
   {
    "duration": 14,
    "start_time": "2022-12-06T20:54:22.380Z"
   },
   {
    "duration": 21,
    "start_time": "2022-12-06T20:54:45.613Z"
   },
   {
    "duration": 16,
    "start_time": "2022-12-06T20:55:22.749Z"
   },
   {
    "duration": 11,
    "start_time": "2022-12-06T20:55:53.081Z"
   },
   {
    "duration": 144,
    "start_time": "2022-12-06T20:56:04.743Z"
   },
   {
    "duration": 131,
    "start_time": "2022-12-06T20:56:26.023Z"
   },
   {
    "duration": 98,
    "start_time": "2022-12-06T20:56:35.775Z"
   },
   {
    "duration": 3,
    "start_time": "2022-12-06T21:13:04.214Z"
   },
   {
    "duration": 87,
    "start_time": "2022-12-06T21:13:04.219Z"
   },
   {
    "duration": 12,
    "start_time": "2022-12-06T21:13:04.308Z"
   },
   {
    "duration": 23,
    "start_time": "2022-12-06T21:13:04.322Z"
   },
   {
    "duration": 4,
    "start_time": "2022-12-06T21:13:04.347Z"
   },
   {
    "duration": 11,
    "start_time": "2022-12-06T21:13:04.352Z"
   },
   {
    "duration": 46,
    "start_time": "2022-12-06T21:13:04.365Z"
   },
   {
    "duration": 122,
    "start_time": "2022-12-06T21:13:04.413Z"
   },
   {
    "duration": 9,
    "start_time": "2022-12-06T21:13:04.539Z"
   },
   {
    "duration": 6,
    "start_time": "2022-12-06T21:13:04.550Z"
   },
   {
    "duration": 21,
    "start_time": "2022-12-06T21:13:04.558Z"
   },
   {
    "duration": 285,
    "start_time": "2022-12-06T21:13:04.598Z"
   },
   {
    "duration": 101,
    "start_time": "2022-12-06T21:13:04.884Z"
   },
   {
    "duration": 17,
    "start_time": "2022-12-06T21:13:04.987Z"
   },
   {
    "duration": 5,
    "start_time": "2022-12-06T21:13:05.005Z"
   },
   {
    "duration": 17,
    "start_time": "2022-12-06T21:13:05.011Z"
   },
   {
    "duration": 236,
    "start_time": "2022-12-06T21:13:05.030Z"
   },
   {
    "duration": 102,
    "start_time": "2022-12-06T21:13:05.267Z"
   },
   {
    "duration": 8,
    "start_time": "2022-12-06T21:13:05.371Z"
   },
   {
    "duration": 20,
    "start_time": "2022-12-06T21:13:05.380Z"
   },
   {
    "duration": 7,
    "start_time": "2022-12-06T21:13:05.402Z"
   },
   {
    "duration": 155,
    "start_time": "2022-12-06T21:13:05.411Z"
   },
   {
    "duration": 133,
    "start_time": "2022-12-06T21:13:05.568Z"
   },
   {
    "duration": 10,
    "start_time": "2022-12-06T21:13:05.704Z"
   },
   {
    "duration": 15,
    "start_time": "2022-12-06T21:13:05.716Z"
   },
   {
    "duration": 13,
    "start_time": "2022-12-06T21:13:05.733Z"
   },
   {
    "duration": 125,
    "start_time": "2022-12-06T21:13:05.747Z"
   },
   {
    "duration": 5,
    "start_time": "2022-12-06T21:13:05.873Z"
   },
   {
    "duration": 19,
    "start_time": "2022-12-06T21:13:05.879Z"
   },
   {
    "duration": 98,
    "start_time": "2022-12-06T21:13:05.899Z"
   },
   {
    "duration": 6,
    "start_time": "2022-12-06T21:13:05.999Z"
   },
   {
    "duration": 94,
    "start_time": "2022-12-06T21:13:06.006Z"
   },
   {
    "duration": 4,
    "start_time": "2022-12-06T21:13:06.102Z"
   },
   {
    "duration": 8,
    "start_time": "2022-12-06T21:13:06.108Z"
   },
   {
    "duration": 50,
    "start_time": "2022-12-06T21:13:06.117Z"
   },
   {
    "duration": 9,
    "start_time": "2022-12-06T21:13:06.168Z"
   },
   {
    "duration": 16,
    "start_time": "2022-12-06T21:13:06.178Z"
   },
   {
    "duration": 205,
    "start_time": "2022-12-06T21:13:06.198Z"
   },
   {
    "duration": 14,
    "start_time": "2022-12-06T21:13:06.404Z"
   },
   {
    "duration": 18,
    "start_time": "2022-12-06T21:13:06.419Z"
   },
   {
    "duration": 10,
    "start_time": "2022-12-06T21:13:06.439Z"
   },
   {
    "duration": 48,
    "start_time": "2022-12-06T21:13:06.450Z"
   },
   {
    "duration": 18,
    "start_time": "2022-12-06T21:13:06.500Z"
   },
   {
    "duration": 157,
    "start_time": "2022-12-06T21:13:06.520Z"
   },
   {
    "duration": 172,
    "start_time": "2022-12-06T21:13:06.678Z"
   },
   {
    "duration": 155,
    "start_time": "2022-12-06T21:13:06.852Z"
   },
   {
    "duration": 184,
    "start_time": "2022-12-06T21:13:07.009Z"
   },
   {
    "duration": 148,
    "start_time": "2022-12-06T21:13:07.196Z"
   },
   {
    "duration": 211,
    "start_time": "2022-12-06T21:13:07.346Z"
   },
   {
    "duration": 174,
    "start_time": "2022-12-06T21:13:07.559Z"
   },
   {
    "duration": 186,
    "start_time": "2022-12-06T21:13:07.735Z"
   },
   {
    "duration": 156,
    "start_time": "2022-12-06T21:13:07.922Z"
   },
   {
    "duration": 5,
    "start_time": "2022-12-06T21:13:08.079Z"
   },
   {
    "duration": 104,
    "start_time": "2022-12-06T21:13:08.097Z"
   },
   {
    "duration": 10,
    "start_time": "2022-12-06T21:13:08.203Z"
   },
   {
    "duration": 115,
    "start_time": "2022-12-06T21:13:08.214Z"
   },
   {
    "duration": 10,
    "start_time": "2022-12-06T21:13:08.331Z"
   },
   {
    "duration": 104,
    "start_time": "2022-12-06T21:13:08.342Z"
   },
   {
    "duration": 10,
    "start_time": "2022-12-06T21:13:08.448Z"
   },
   {
    "duration": 158,
    "start_time": "2022-12-06T21:13:08.460Z"
   },
   {
    "duration": 165,
    "start_time": "2022-12-06T21:13:08.620Z"
   },
   {
    "duration": 15,
    "start_time": "2022-12-06T21:13:08.787Z"
   },
   {
    "duration": 14,
    "start_time": "2022-12-06T21:13:08.804Z"
   },
   {
    "duration": 144,
    "start_time": "2022-12-06T21:13:08.819Z"
   },
   {
    "duration": 152,
    "start_time": "2022-12-06T21:13:08.964Z"
   },
   {
    "duration": 10,
    "start_time": "2022-12-06T21:13:09.117Z"
   },
   {
    "duration": 11,
    "start_time": "2022-12-06T21:13:09.128Z"
   },
   {
    "duration": 159,
    "start_time": "2022-12-06T21:13:09.140Z"
   },
   {
    "duration": 139,
    "start_time": "2022-12-06T21:13:09.304Z"
   },
   {
    "duration": 9,
    "start_time": "2022-12-06T21:13:09.445Z"
   },
   {
    "duration": 11,
    "start_time": "2022-12-06T21:13:09.456Z"
   },
   {
    "duration": 34,
    "start_time": "2022-12-06T21:13:09.468Z"
   },
   {
    "duration": 154,
    "start_time": "2022-12-06T21:13:09.503Z"
   },
   {
    "duration": 8,
    "start_time": "2022-12-06T21:13:09.659Z"
   },
   {
    "duration": 33,
    "start_time": "2022-12-06T21:13:09.669Z"
   },
   {
    "duration": 16,
    "start_time": "2022-12-06T21:13:09.704Z"
   },
   {
    "duration": 13,
    "start_time": "2022-12-06T21:13:09.722Z"
   },
   {
    "duration": 14,
    "start_time": "2022-12-06T21:13:09.737Z"
   },
   {
    "duration": 56,
    "start_time": "2022-12-06T21:13:09.753Z"
   },
   {
    "duration": 16,
    "start_time": "2022-12-06T21:13:09.811Z"
   },
   {
    "duration": 10,
    "start_time": "2022-12-06T21:13:09.829Z"
   },
   {
    "duration": 140,
    "start_time": "2022-12-06T21:13:09.840Z"
   },
   {
    "duration": 152,
    "start_time": "2022-12-06T21:13:09.982Z"
   },
   {
    "duration": 108,
    "start_time": "2022-12-06T21:13:10.135Z"
   },
   {
    "duration": 793,
    "start_time": "2022-12-06T21:13:10.244Z"
   },
   {
    "duration": 9,
    "start_time": "2022-12-06T21:14:28.549Z"
   },
   {
    "duration": 10,
    "start_time": "2022-12-06T21:21:46.890Z"
   },
   {
    "duration": 43,
    "start_time": "2022-12-06T21:22:43.843Z"
   },
   {
    "duration": 9,
    "start_time": "2022-12-06T21:25:39.882Z"
   },
   {
    "duration": 3,
    "start_time": "2022-12-06T21:34:27.502Z"
   },
   {
    "duration": 60,
    "start_time": "2022-12-06T21:34:27.507Z"
   },
   {
    "duration": 34,
    "start_time": "2022-12-06T21:34:27.569Z"
   },
   {
    "duration": 17,
    "start_time": "2022-12-06T21:34:27.605Z"
   },
   {
    "duration": 6,
    "start_time": "2022-12-06T21:34:27.623Z"
   },
   {
    "duration": 10,
    "start_time": "2022-12-06T21:34:27.631Z"
   },
   {
    "duration": 22,
    "start_time": "2022-12-06T21:34:27.642Z"
   },
   {
    "duration": 121,
    "start_time": "2022-12-06T21:34:27.698Z"
   },
   {
    "duration": 8,
    "start_time": "2022-12-06T21:34:27.821Z"
   },
   {
    "duration": 4,
    "start_time": "2022-12-06T21:34:27.830Z"
   },
   {
    "duration": 10,
    "start_time": "2022-12-06T21:34:27.836Z"
   },
   {
    "duration": 254,
    "start_time": "2022-12-06T21:34:27.848Z"
   },
   {
    "duration": 115,
    "start_time": "2022-12-06T21:34:28.103Z"
   },
   {
    "duration": 8,
    "start_time": "2022-12-06T21:34:28.219Z"
   },
   {
    "duration": 5,
    "start_time": "2022-12-06T21:34:28.228Z"
   },
   {
    "duration": 10,
    "start_time": "2022-12-06T21:34:28.234Z"
   },
   {
    "duration": 244,
    "start_time": "2022-12-06T21:34:28.246Z"
   },
   {
    "duration": 121,
    "start_time": "2022-12-06T21:34:28.491Z"
   },
   {
    "duration": 8,
    "start_time": "2022-12-06T21:34:28.614Z"
   },
   {
    "duration": 5,
    "start_time": "2022-12-06T21:34:28.624Z"
   },
   {
    "duration": 10,
    "start_time": "2022-12-06T21:34:28.630Z"
   },
   {
    "duration": 163,
    "start_time": "2022-12-06T21:34:28.642Z"
   },
   {
    "duration": 112,
    "start_time": "2022-12-06T21:34:28.806Z"
   },
   {
    "duration": 8,
    "start_time": "2022-12-06T21:34:28.922Z"
   },
   {
    "duration": 28,
    "start_time": "2022-12-06T21:34:28.932Z"
   },
   {
    "duration": 26,
    "start_time": "2022-12-06T21:34:28.961Z"
   },
   {
    "duration": 130,
    "start_time": "2022-12-06T21:34:28.989Z"
   },
   {
    "duration": 6,
    "start_time": "2022-12-06T21:34:29.121Z"
   },
   {
    "duration": 31,
    "start_time": "2022-12-06T21:34:29.129Z"
   },
   {
    "duration": 80,
    "start_time": "2022-12-06T21:34:29.162Z"
   },
   {
    "duration": 6,
    "start_time": "2022-12-06T21:34:29.244Z"
   },
   {
    "duration": 94,
    "start_time": "2022-12-06T21:34:29.252Z"
   },
   {
    "duration": 5,
    "start_time": "2022-12-06T21:34:29.348Z"
   },
   {
    "duration": 8,
    "start_time": "2022-12-06T21:34:29.355Z"
   },
   {
    "duration": 51,
    "start_time": "2022-12-06T21:34:29.365Z"
   },
   {
    "duration": 9,
    "start_time": "2022-12-06T21:34:29.418Z"
   },
   {
    "duration": 17,
    "start_time": "2022-12-06T21:34:29.429Z"
   },
   {
    "duration": 243,
    "start_time": "2022-12-06T21:34:29.447Z"
   },
   {
    "duration": 17,
    "start_time": "2022-12-06T21:34:29.692Z"
   },
   {
    "duration": 19,
    "start_time": "2022-12-06T21:34:29.710Z"
   },
   {
    "duration": 11,
    "start_time": "2022-12-06T21:34:29.730Z"
   },
   {
    "duration": 13,
    "start_time": "2022-12-06T21:34:29.743Z"
   },
   {
    "duration": 53,
    "start_time": "2022-12-06T21:34:29.758Z"
   },
   {
    "duration": 176,
    "start_time": "2022-12-06T21:34:29.813Z"
   },
   {
    "duration": 187,
    "start_time": "2022-12-06T21:34:29.991Z"
   },
   {
    "duration": 173,
    "start_time": "2022-12-06T21:34:30.180Z"
   },
   {
    "duration": 186,
    "start_time": "2022-12-06T21:34:30.354Z"
   },
   {
    "duration": 175,
    "start_time": "2022-12-06T21:34:30.542Z"
   },
   {
    "duration": 183,
    "start_time": "2022-12-06T21:34:30.718Z"
   },
   {
    "duration": 181,
    "start_time": "2022-12-06T21:34:30.902Z"
   },
   {
    "duration": 177,
    "start_time": "2022-12-06T21:34:31.084Z"
   },
   {
    "duration": 150,
    "start_time": "2022-12-06T21:34:31.263Z"
   },
   {
    "duration": 6,
    "start_time": "2022-12-06T21:34:31.415Z"
   },
   {
    "duration": 147,
    "start_time": "2022-12-06T21:34:31.422Z"
   },
   {
    "duration": 11,
    "start_time": "2022-12-06T21:34:31.571Z"
   },
   {
    "duration": 132,
    "start_time": "2022-12-06T21:34:31.598Z"
   },
   {
    "duration": 11,
    "start_time": "2022-12-06T21:34:31.731Z"
   },
   {
    "duration": 113,
    "start_time": "2022-12-06T21:34:31.744Z"
   },
   {
    "duration": 10,
    "start_time": "2022-12-06T21:34:31.859Z"
   },
   {
    "duration": 175,
    "start_time": "2022-12-06T21:34:31.871Z"
   },
   {
    "duration": 137,
    "start_time": "2022-12-06T21:34:32.048Z"
   },
   {
    "duration": 17,
    "start_time": "2022-12-06T21:34:32.187Z"
   },
   {
    "duration": 13,
    "start_time": "2022-12-06T21:34:32.206Z"
   },
   {
    "duration": 147,
    "start_time": "2022-12-06T21:34:32.220Z"
   },
   {
    "duration": 139,
    "start_time": "2022-12-06T21:34:32.369Z"
   },
   {
    "duration": 9,
    "start_time": "2022-12-06T21:34:32.510Z"
   },
   {
    "duration": 13,
    "start_time": "2022-12-06T21:34:32.520Z"
   },
   {
    "duration": 147,
    "start_time": "2022-12-06T21:34:32.534Z"
   },
   {
    "duration": 156,
    "start_time": "2022-12-06T21:34:32.685Z"
   },
   {
    "duration": 10,
    "start_time": "2022-12-06T21:34:32.842Z"
   },
   {
    "duration": 10,
    "start_time": "2022-12-06T21:34:32.853Z"
   },
   {
    "duration": 35,
    "start_time": "2022-12-06T21:34:32.865Z"
   },
   {
    "duration": 182,
    "start_time": "2022-12-06T21:34:32.902Z"
   },
   {
    "duration": 15,
    "start_time": "2022-12-06T21:34:33.086Z"
   },
   {
    "duration": 18,
    "start_time": "2022-12-06T21:34:33.103Z"
   },
   {
    "duration": 14,
    "start_time": "2022-12-06T21:34:33.122Z"
   },
   {
    "duration": 15,
    "start_time": "2022-12-06T21:34:33.137Z"
   },
   {
    "duration": 48,
    "start_time": "2022-12-06T21:34:33.154Z"
   },
   {
    "duration": 15,
    "start_time": "2022-12-06T21:34:33.204Z"
   },
   {
    "duration": 18,
    "start_time": "2022-12-06T21:34:33.221Z"
   },
   {
    "duration": 10,
    "start_time": "2022-12-06T21:34:33.240Z"
   },
   {
    "duration": 135,
    "start_time": "2022-12-06T21:34:33.251Z"
   },
   {
    "duration": 137,
    "start_time": "2022-12-06T21:34:33.388Z"
   },
   {
    "duration": 120,
    "start_time": "2022-12-06T21:34:33.526Z"
   },
   {
    "duration": 3,
    "start_time": "2022-12-06T21:34:33.648Z"
   },
   {
    "duration": 10,
    "start_time": "2022-12-06T21:34:33.653Z"
   },
   {
    "duration": 14,
    "start_time": "2022-12-06T21:34:33.665Z"
   }
  ],
  "kernelspec": {
   "display_name": "Python 3 (ipykernel)",
   "language": "python",
   "name": "python3"
  },
  "language_info": {
   "codemirror_mode": {
    "name": "ipython",
    "version": 3
   },
   "file_extension": ".py",
   "mimetype": "text/x-python",
   "name": "python",
   "nbconvert_exporter": "python",
   "pygments_lexer": "ipython3",
   "version": "3.9.12"
  },
  "toc": {
   "base_numbering": 1,
   "nav_menu": {},
   "number_sections": true,
   "sideBar": true,
   "skip_h1_title": true,
   "title_cell": "Table of Contents",
   "title_sidebar": "Contents",
   "toc_cell": false,
   "toc_position": {},
   "toc_section_display": true,
   "toc_window_display": false
  }
 },
 "nbformat": 4,
 "nbformat_minor": 2
}
